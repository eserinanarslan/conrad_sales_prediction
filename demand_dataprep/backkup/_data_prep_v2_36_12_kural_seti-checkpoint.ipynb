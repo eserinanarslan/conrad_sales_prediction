{
 "cells": [
  {
   "cell_type": "markdown",
   "metadata": {},
   "source": [
    "# Libraries"
   ]
  },
  {
   "cell_type": "code",
   "execution_count": 1,
   "metadata": {},
   "outputs": [
    {
     "name": "stderr",
     "output_type": "stream",
     "text": [
      "C:\\Users\\tunahan.aktas\\Anaconda3\\lib\\site-packages\\mpl_toolkits\\mplot3d\\__init__.py:1: MatplotlibDeprecationWarning: \n",
      "The deprecated function was deprecated in Matplotlib 3.4 and will be removed two minor releases later.\n",
      "  from .axes3d import Axes3D\n"
     ]
    }
   ],
   "source": [
    "import pandas as pd\n",
    "import numpy as np\n",
    "import os\n",
    "import matplotlib.pyplot as plt\n",
    "import seaborn as sns\n",
    "import calendar\n",
    "from datetime import datetime, timedelta\n",
    "import time\n",
    "import warnings\n",
    "warnings.filterwarnings(\"ignore\")"
   ]
  },
  {
   "cell_type": "markdown",
   "metadata": {},
   "source": [
    "---"
   ]
  },
  {
   "cell_type": "markdown",
   "metadata": {},
   "source": [
    "# Read Files"
   ]
  },
  {
   "cell_type": "code",
   "execution_count": 2,
   "metadata": {},
   "outputs": [],
   "source": [
    "start = time.time()"
   ]
  },
  {
   "cell_type": "code",
   "execution_count": 3,
   "metadata": {},
   "outputs": [],
   "source": [
    "# List of Excel Files\n",
    "sales_lst = sorted([doc_ for doc_ in os.listdir(\"../data\") if doc_.startswith(\"Demand Sensing Sales History\") or doc_.startswith(\"Demand_Sensing_Sales_\")])\n",
    "saha_aktivite_lst = sorted([doc_ for doc_ in os.listdir(\"../data\") if doc_.startswith(\"Demand_Sensing_Saha_Aktivit\") or doc_.startswith(\"Demand Sensing Saha Aktivit\")])\n",
    "pasifik_aktivite_lst = sorted([doc_ for doc_ in os.listdir(\"../data\") if doc_.startswith(\"Pasifik Aktivite Datası\")])\n",
    "fiyat_lst = sorted([doc_ for doc_ in os.listdir(\"../data\") if \"Fiyat List\" in doc_])\n",
    "portfoy_lst = sorted([doc_ for doc_ in os.listdir(\"../data\") if doc_.startswith(\"Portföy\")])\n",
    "eslenik_kod_lst = sorted([doc_ for doc_ in os.listdir(\"../data\") if doc_.startswith(\"Ürün Eşlenik kodlar\")])\n",
    "kapsam_listeli = sorted([doc_ for doc_ in os.listdir(\"../data\") if doc_.startswith(\"Listeli Ürün\")])"
   ]
  },
  {
   "cell_type": "code",
   "execution_count": 4,
   "metadata": {},
   "outputs": [
    {
     "name": "stdout",
     "output_type": "stream",
     "text": [
      "Dosyaları okuma işlemi 0 saat, 00 dakika, 02.29 saniye sürmüştür.\n"
     ]
    }
   ],
   "source": [
    "end = time.time()\n",
    "total_time = str(timedelta(seconds=end-start))[:-4].split(\":\")\n",
    "print(f\"Dosyaları okuma işlemi {total_time[0]} saat, {total_time[1]} dakika, {total_time[2]} saniye sürmüştür.\")"
   ]
  },
  {
   "cell_type": "markdown",
   "metadata": {},
   "source": [
    "---\n",
    "# Read Data\n",
    "---"
   ]
  },
  {
   "cell_type": "code",
   "execution_count": 5,
   "metadata": {},
   "outputs": [],
   "source": [
    "start = time.time()"
   ]
  },
  {
   "cell_type": "code",
   "execution_count": 6,
   "metadata": {},
   "outputs": [],
   "source": [
    "# Read Sales Data\n",
    "pasifik_df_all = []\n",
    "btt_df_all = []\n",
    "horizon_saha_df_all = []\n",
    "chng_cols_beginning = {'Year': 'Yıl', 'Quarter': 'Çeyrek', 'Month': 'Ay', \n",
    "                       'Company Code': 'Şirket Kodu', 'Main Category Name': 'Ana Kategori Adı', \n",
    "                       'Category Name': 'Kategori Adı', 'Brand Name': 'Marka Adı', 'Product Code': 'Ürün Kodu', \n",
    "                       'Product Name': 'Ürün Adı', \"Ürün Adı (Mobis)\": 'Ürün Adı'}\n",
    "for docs_ in sales_lst:\n",
    "    pasifik_df_all.append(pd.read_excel(\"../data/\"+docs_, skiprows=1, sheet_name=\"Pasifik SAP Satış\", usecols=\"B:P\").rename(columns=chng_cols_beginning))\n",
    "    btt_df_all.append(pd.read_excel(\"../data/\"+docs_, skiprows=1, sheet_name=\"BTT SAP Satış\", usecols=\"B:N\").rename(columns=chng_cols_beginning))\n",
    "    horizon_saha_df_all.append(pd.read_excel(\"../data/\"+docs_, skiprows=1, sheet_name=\"Horizon Saha Satış\", usecols=\"B:N\").rename(columns=chng_cols_beginning))\n",
    "pasifik_df_all = pd.concat(pasifik_df_all)\n",
    "btt_df_all = pd.concat(btt_df_all)\n",
    "horizon_saha_df_all = pd.concat(horizon_saha_df_all)\n",
    "\n",
    "\n",
    "chng_cols = {\"Saha Müşteri Grup\": \"Grup adı\", \"Ürün Adı (Mobis)\": \"Ürün Adı\"}\n",
    "\n",
    "pasifik_df_all.rename(columns=chng_cols, inplace=True)\n",
    "btt_df_all.rename(columns=chng_cols, inplace=True)\n",
    "horizon_saha_df_all.rename(columns=chng_cols, inplace=True)\n",
    "\n",
    "btt_df_all[\"Grup adı\"], btt_df_all[\"Grup Kodu.\"] = \"BTT\", 0\n",
    "horizon_saha_df_all[\"Şirket Kodu\"], horizon_saha_df_all[\"Grup Kodu.\"] = 0, 0\n",
    "\n",
    "btt_df_all = btt_df_all[pasifik_df_all.columns.to_list()]\n",
    "horizon_saha_df_all = horizon_saha_df_all[pasifik_df_all.columns.to_list()]\n",
    "\n",
    "enflasyon_df = pd.read_excel(\"../data/enflasyon.xlsx\")\n",
    "\n",
    "yarisma_df = pd.read_excel(\"../data/2018-2021 Yarışmaları_v2.xlsx\", sheet_name=\"yarisma_historik_data\")"
   ]
  },
  {
   "cell_type": "code",
   "execution_count": 7,
   "metadata": {},
   "outputs": [],
   "source": [
    "# Read Saha Aktiviteleri\n",
    "saha_aktivite_detay = []\n",
    "saha_aktivite_cat = []\n",
    "\n",
    "for docs_ in saha_aktivite_lst:\n",
    "    saha_aktivite_detay.append(pd.read_excel(\"../data/\"+docs_, skiprows=1, sheet_name=\"Ürün Detay\", usecols=\"B:M\"))\n",
    "    saha_aktivite_cat.append(pd.read_excel(\"../data/\"+docs_, skiprows=1, sheet_name=\"Kategori\", usecols=\"B:I\"))\n",
    "saha_aktivite_detay = pd.concat(saha_aktivite_detay)\n",
    "saha_aktivite_cat = pd.concat(saha_aktivite_cat)"
   ]
  },
  {
   "cell_type": "code",
   "execution_count": 8,
   "metadata": {},
   "outputs": [],
   "source": [
    "# Read Pasifik Aktiviteleri\n",
    "pasifik_aktivite_df = pd.read_excel(\"../data/\"+pasifik_aktivite_lst[0])"
   ]
  },
  {
   "cell_type": "code",
   "execution_count": 9,
   "metadata": {},
   "outputs": [],
   "source": [
    "# Read Fiyat Listesi\n",
    "fiyat_lst_pasifik = pd.read_excel(\"../data/\"+fiyat_lst[0])\n",
    "fiyat_lst_horizon = pd.read_excel(\"../data/\"+fiyat_lst[1])"
   ]
  },
  {
   "cell_type": "code",
   "execution_count": 10,
   "metadata": {},
   "outputs": [],
   "source": [
    "# Read Portföy\n",
    "pasifik_portfoy_df = pd.read_excel(\"../data/\"+portfoy_lst[0], sheet_name=\"Pasifik Portföy\", skiprows=3, usecols=\"D:H\")\n",
    "btt_portfoy_df = pd.read_excel(\"../data/\"+portfoy_lst[0], sheet_name=\"BTT Portföy\", skiprows=2, usecols=\"D:H\")\n",
    "horizon_portfoy_df = pd.read_excel(\"../data/\"+portfoy_lst[0], sheet_name=\"Horizon Portföy\", skiprows=2, usecols=\"E:I\")"
   ]
  },
  {
   "cell_type": "code",
   "execution_count": 11,
   "metadata": {},
   "outputs": [],
   "source": [
    "# Read Eşlenik Kodları\n",
    "eslenik_kod_df = pd.read_excel(\"../data/\"+eslenik_kod_lst[0])"
   ]
  },
  {
   "cell_type": "code",
   "execution_count": 12,
   "metadata": {},
   "outputs": [],
   "source": [
    "# Read Calender\n",
    "calender_df = pd.read_excel(\"../data/Calender_Monthly.xlsx\")"
   ]
  },
  {
   "cell_type": "code",
   "execution_count": 13,
   "metadata": {},
   "outputs": [],
   "source": [
    "# Read Plasiyer Yarışma\n",
    "plasiyer_yarisma = pd.read_excel(\"../data/2018-2021 Yarışmaları.xlsx\")"
   ]
  },
  {
   "cell_type": "code",
   "execution_count": 14,
   "metadata": {},
   "outputs": [],
   "source": [
    "eslenik_kod_df[\"En Güncel Kod\"] = eslenik_kod_df[\"En Güncel Kod\"].apply(lambda x: int(x) if x not in ['delist ', \"delist\"] else x.replace(\" \", \"\"))"
   ]
  },
  {
   "cell_type": "code",
   "execution_count": 15,
   "metadata": {},
   "outputs": [],
   "source": [
    "a101_kapsam = pd.read_excel(\"../data/\"+kapsam_listeli[0], sheet_name=\"A101 Portföy\")\n",
    "sok_kapsam = pd.read_excel(\"../data/\"+kapsam_listeli[0], sheet_name=\"Şok Portföy\")\n",
    "bim_kapsam = pd.read_excel(\"../data/\"+kapsam_listeli[0], sheet_name=\"Bim Portföy\")\n",
    "\n",
    "a101_kapsam[\"grup_adi\"] = \"A101\"\n",
    "sok_kapsam[\"grup_adi\"] = \"ŞOK\"\n",
    "bim_kapsam[\"grup_adi\"] = \"BİM\"\n",
    "\n",
    "kapsam_all = pd.concat([a101_kapsam, sok_kapsam, bim_kapsam], axis=0, ignore_index=True)"
   ]
  },
  {
   "cell_type": "code",
   "execution_count": 16,
   "metadata": {},
   "outputs": [
    {
     "name": "stdout",
     "output_type": "stream",
     "text": [
      "Dataları okuma işlemi 0 saat, 05 dakika, 35.36 saniye sürmüştür.\n"
     ]
    }
   ],
   "source": [
    "end = time.time()\n",
    "total_time = str(timedelta(seconds=end-start))[:-4].split(\":\")\n",
    "print(f\"Dataları okuma işlemi {total_time[0]} saat, {total_time[1]} dakika, {total_time[2]} saniye sürmüştür.\")"
   ]
  },
  {
   "cell_type": "markdown",
   "metadata": {},
   "source": [
    "---\n",
    "# Pasifik 2016 aktivite verileri olmadığı için 2016 Sales dataları çıkartıldı."
   ]
  },
  {
   "cell_type": "code",
   "execution_count": 17,
   "metadata": {},
   "outputs": [],
   "source": [
    "pasifik_df_all = pasifik_df_all[pasifik_df_all[\"Yıl\"] != 2016].reset_index(drop=True)"
   ]
  },
  {
   "cell_type": "markdown",
   "metadata": {},
   "source": [
    "---"
   ]
  },
  {
   "cell_type": "markdown",
   "metadata": {},
   "source": [
    "# Sales Datası İçin Ürün Kod Eşleme"
   ]
  },
  {
   "cell_type": "markdown",
   "metadata": {},
   "source": [
    "---"
   ]
  },
  {
   "cell_type": "markdown",
   "metadata": {},
   "source": [
    "---"
   ]
  },
  {
   "cell_type": "markdown",
   "metadata": {},
   "source": [
    "## Join"
   ]
  },
  {
   "cell_type": "code",
   "execution_count": 18,
   "metadata": {},
   "outputs": [],
   "source": [
    "pasifik_df_all = pd.merge(pasifik_df_all, eslenik_kod_df[[\"Ürün Kodu\", \"En Güncel Kod\"]], on=\"Ürün Kodu\", how=\"left\")\n",
    "btt_df_all = pd.merge(btt_df_all, eslenik_kod_df[[\"Ürün Kodu\", \"En Güncel Kod\"]], on=\"Ürün Kodu\", how=\"left\")\n",
    "horizon_saha_df_all = pd.merge(horizon_saha_df_all, eslenik_kod_df[[\"Ürün Kodu\", \"En Güncel Kod\"]], on=\"Ürün Kodu\", how=\"left\")"
   ]
  },
  {
   "cell_type": "code",
   "execution_count": 19,
   "metadata": {},
   "outputs": [],
   "source": [
    "pasifik_eslenik_kod_olmayan = pasifik_df_all[pd.isnull(pasifik_df_all[\"En Güncel Kod\"])]\n",
    "pasifik_eslenik_kod_olmayan_unique = pd.DataFrame(pasifik_df_all[pd.isnull(pasifik_df_all[\"En Güncel Kod\"])][\"Ürün Kodu\"].unique(), columns=[\"Ürün Kodu\"])\n",
    "\n",
    "writer_pasifik = pd.ExcelWriter(\"../reports/pasifik_eslenik_kodu_olmayan.xlsx\", engine = 'xlsxwriter')\n",
    "\n",
    "pasifik_eslenik_kod_olmayan_unique.to_excel(writer_pasifik, sheet_name = 'eslenik_kod_olmayan_sku',index=False)\n",
    "pasifik_eslenik_kod_olmayan.to_excel(writer_pasifik, sheet_name = 'eslenik_kod_olmayan_data',index=False)\n",
    "\n",
    "writer_pasifik.save()\n",
    "writer_pasifik.close()"
   ]
  },
  {
   "cell_type": "code",
   "execution_count": 20,
   "metadata": {},
   "outputs": [],
   "source": [
    "btt_eslenik_kod_olmayan = btt_df_all[pd.isnull(btt_df_all[\"En Güncel Kod\"])]\n",
    "btt_eslenik_kod_olmayan_unique = pd.DataFrame(btt_df_all[pd.isnull(btt_df_all[\"En Güncel Kod\"])][\"Ürün Kodu\"].unique(), columns=[\"Ürün Kodu\"])\n",
    "\n",
    "writer_btt = pd.ExcelWriter(\"../reports/btt_eslenik_kodu_olmayan.xlsx\", engine = 'xlsxwriter')\n",
    "\n",
    "btt_eslenik_kod_olmayan_unique.to_excel(writer_btt, sheet_name = 'eslenik_kod_olmayan_sku',index=False)\n",
    "btt_eslenik_kod_olmayan.to_excel(writer_btt, sheet_name = 'eslenik_kod_olmayan_data',index=False)\n",
    "\n",
    "writer_btt.save()\n",
    "writer_btt.close()"
   ]
  },
  {
   "cell_type": "code",
   "execution_count": 21,
   "metadata": {},
   "outputs": [],
   "source": [
    "horizon_eslenik_kod_olmayan = horizon_saha_df_all[pd.isnull(horizon_saha_df_all[\"En Güncel Kod\"])]\n",
    "horizon_eslenik_kod_olmayan_unique = pd.DataFrame(horizon_saha_df_all[pd.isnull(horizon_saha_df_all[\"En Güncel Kod\"])][\"Ürün Kodu\"].unique(), columns=[\"Ürün Kodu\"])\n",
    "\n",
    "writer_horizon = pd.ExcelWriter(\"../reports/horizon_eslenik_kodu_olmayan.xlsx\", engine = 'xlsxwriter')\n",
    "\n",
    "horizon_eslenik_kod_olmayan_unique.to_excel(writer_horizon, sheet_name = 'eslenik_kod_olmayan_sku',index=False)\n",
    "horizon_eslenik_kod_olmayan.to_excel(writer_horizon, sheet_name = 'eslenik_kod_olmayan_data',index=False)\n",
    "\n",
    "writer_horizon.save()\n",
    "writer_horizon.close()"
   ]
  },
  {
   "cell_type": "markdown",
   "metadata": {},
   "source": [
    "## Ürün Eşleme Kodları dosyasında yer almayan kodlar için mevcut ürün kodları verildi."
   ]
  },
  {
   "cell_type": "code",
   "execution_count": 22,
   "metadata": {},
   "outputs": [],
   "source": [
    "empty_ = pasifik_df_all[pd.isnull(pasifik_df_all[\"En Güncel Kod\"])].reset_index(drop=True)\n",
    "full_ = pasifik_df_all[~pd.isnull(pasifik_df_all[\"En Güncel Kod\"])].reset_index(drop=True)\n",
    "empty_[\"En Güncel Kod\"] = empty_[\"Ürün Kodu\"]\n",
    "pasifik_df_all = pd.concat([empty_, full_], axis=0, ignore_index=True)\n",
    "pasifik_df_all = pasifik_df_all.sort_values(pasifik_df_all.columns.to_list()).reset_index(drop=True)\n",
    "\n",
    "empty_ = btt_df_all[pd.isnull(btt_df_all[\"En Güncel Kod\"])].reset_index(drop=True)\n",
    "full_ = btt_df_all[~pd.isnull(btt_df_all[\"En Güncel Kod\"])].reset_index(drop=True)\n",
    "empty_[\"En Güncel Kod\"] = empty_[\"Ürün Kodu\"]\n",
    "btt_df_all = pd.concat([empty_, full_], axis=0, ignore_index=True)\n",
    "btt_df_all = btt_df_all.sort_values(btt_df_all.columns.to_list()).reset_index(drop=True)\n",
    "\n",
    "empty_ = horizon_saha_df_all[pd.isnull(horizon_saha_df_all[\"En Güncel Kod\"])].reset_index(drop=True)\n",
    "full_ = horizon_saha_df_all[~pd.isnull(horizon_saha_df_all[\"En Güncel Kod\"])].reset_index(drop=True)\n",
    "empty_[\"En Güncel Kod\"] = empty_[\"Ürün Kodu\"]\n",
    "horizon_saha_df_all = pd.concat([empty_, full_], axis=0, ignore_index=True)\n",
    "horizon_saha_df_all = horizon_saha_df_all.sort_values(horizon_saha_df_all.columns.to_list()).reset_index(drop=True)"
   ]
  },
  {
   "cell_type": "markdown",
   "metadata": {},
   "source": [
    "## Adet adında yeni bir kolon oluşturuldu."
   ]
  },
  {
   "cell_type": "code",
   "execution_count": 23,
   "metadata": {},
   "outputs": [],
   "source": [
    "pasifik_df_all[\"Adet\"] = pasifik_df_all[\"Koli İçi Adet\"] * pasifik_df_all[\"Koli\"]\n",
    "btt_df_all[\"Adet\"] = btt_df_all[\"Koli İçi Adet\"] * btt_df_all[\"Koli\"]\n",
    "horizon_saha_df_all[\"Adet\"] = horizon_saha_df_all[\"Koli İçi Adet\"] * horizon_saha_df_all[\"Koli\"]"
   ]
  },
  {
   "cell_type": "markdown",
   "metadata": {},
   "source": [
    "## Delist olan ürünler veriden çıkartıldı."
   ]
  },
  {
   "cell_type": "code",
   "execution_count": 24,
   "metadata": {},
   "outputs": [],
   "source": [
    "pasifik_df_all = pasifik_df_all[pasifik_df_all[\"En Güncel Kod\"] != \"delist\"].reset_index(drop=True)\n",
    "btt_df_all = btt_df_all[btt_df_all[\"En Güncel Kod\"] != \"delist\"].reset_index(drop=True)\n",
    "horizon_saha_df_all = horizon_saha_df_all[horizon_saha_df_all[\"En Güncel Kod\"] != \"delist\"].reset_index(drop=True)"
   ]
  },
  {
   "cell_type": "markdown",
   "metadata": {},
   "source": [
    "## Aynı yıl, ay, grup adı, ana kategori adı, kategori adı, marka adı ve SKU kodundaki ürünler için toplam alındı. Sadece Koli İçi Adet için maksimum olan alındı."
   ]
  },
  {
   "cell_type": "markdown",
   "metadata": {},
   "source": [
    "---"
   ]
  },
  {
   "cell_type": "markdown",
   "metadata": {},
   "source": [
    "# Marka adı dahil değil groupby'a\n",
    "---"
   ]
  },
  {
   "cell_type": "code",
   "execution_count": 25,
   "metadata": {},
   "outputs": [],
   "source": [
    "dct_to_sum = {\"Koli İçi Adet\": \"sum\", \"Koli\": \"sum\", \"KG\": \"sum\", \"TL\": \"sum\", \"Adet\": \"sum\"}\n",
    "\n",
    "pasifik_df_all2 = pasifik_df_all.groupby([\"Yıl\", \"Ay\", \"Grup adı\", \"Ana Kategori Adı\", \"Kategori Adı\", \"En Güncel Kod\"]).agg(dct_to_sum).reset_index()\n",
    "btt_df_all2 = btt_df_all.groupby([\"Yıl\", \"Ay\", \"Grup adı\", \"Ana Kategori Adı\", \"Kategori Adı\", \"En Güncel Kod\"]).agg(dct_to_sum).reset_index()\n",
    "horizon_saha_df_all2 = horizon_saha_df_all.groupby([\"Yıl\", \"Ay\", \"Grup adı\", \"Ana Kategori Adı\", \"Kategori Adı\", \"En Güncel Kod\"]).agg(dct_to_sum).reset_index()"
   ]
  },
  {
   "cell_type": "code",
   "execution_count": 26,
   "metadata": {},
   "outputs": [],
   "source": [
    "pasifik_df_all2[\"Date\"] = pasifik_df_all2[\"Yıl\"].astype(str) + \"-\" +  pasifik_df_all2[\"Ay\"].astype(str) + \"-01\"\n",
    "btt_df_all2[\"Date\"] = btt_df_all2[\"Yıl\"].astype(str) + \"-\" +  btt_df_all2[\"Ay\"].astype(str) + \"-01\"\n",
    "horizon_saha_df_all2[\"Date\"] = horizon_saha_df_all2[\"Yıl\"].astype(str) + \"-\" +  horizon_saha_df_all2[\"Ay\"].astype(str) + \"-01\"\n",
    "\n",
    "pasifik_df_all2[\"Date\"] = pd.to_datetime(pasifik_df_all2[\"Date\"], format=\"%Y-%m-%d\", errors=\"coerce\")\n",
    "btt_df_all2[\"Date\"] = pd.to_datetime(btt_df_all2[\"Date\"], format=\"%Y-%m-%d\", errors=\"coerce\")\n",
    "horizon_saha_df_all2[\"Date\"] = pd.to_datetime(horizon_saha_df_all2[\"Date\"], format=\"%Y-%m-%d\", errors=\"coerce\")"
   ]
  },
  {
   "cell_type": "markdown",
   "metadata": {},
   "source": [
    "## Horizon ve Pasifikte bulunan \"Diğer\"'lerin yanlarına \"_\" ile Diğer_Pasifik, Diğer_Horizon yazıldı."
   ]
  },
  {
   "cell_type": "code",
   "execution_count": 27,
   "metadata": {},
   "outputs": [],
   "source": [
    "pasifik_df_all2[\"Grup adı\"] = pasifik_df_all2[\"Grup adı\"].apply(lambda x: \"Diğer_Pasifik\" if x == \"Diğer\" else x)\n",
    "horizon_saha_df_all2[\"Grup adı\"] = horizon_saha_df_all2[\"Grup adı\"].apply(lambda x: \"Diğer_Horizon\" if x == \"Diğer\" else x)"
   ]
  },
  {
   "cell_type": "markdown",
   "metadata": {},
   "source": [
    "# Kontrol: Herhangi bir SKU için koli içi adeti birden fazla geldi mi?"
   ]
  },
  {
   "cell_type": "markdown",
   "metadata": {},
   "source": [
    "---"
   ]
  },
  {
   "cell_type": "code",
   "execution_count": 28,
   "metadata": {},
   "outputs": [],
   "source": [
    "pasifik_temp = pasifik_df_all.copy()\n",
    "btt_temp = btt_df_all.copy()\n",
    "horizon_temp = horizon_saha_df_all.copy()\n",
    "\n",
    "pasifik_temp[\"Grup adı\"] = pasifik_temp[\"Grup adı\"].apply(lambda x: \"Diğer_Pasifik\" if x == \"Diğer\" else x)\n",
    "horizon_temp[\"Grup adı\"] = horizon_temp[\"Grup adı\"].apply(lambda x: \"Diğer_Horizon\" if x == \"Diğer\" else x)"
   ]
  },
  {
   "cell_type": "code",
   "execution_count": 29,
   "metadata": {},
   "outputs": [],
   "source": [
    "unique = pd.concat([pasifik_temp, btt_temp, horizon_temp], axis=0, ignore_index=True)\n",
    "\n",
    "koli_ici_fark = pd.concat([unique.groupby([\"En Güncel Kod\", \"Grup adı\"]).agg({\"Koli İçi Adet\": \"min\"}), unique.groupby([\"En Güncel Kod\", \"Grup adı\"]).agg({\"Koli İçi Adet\": \"max\"})], axis=1)\n",
    "koli_ici_fark.columns = [\"min\", \"max\"]\n",
    "koli_ici_fark[\"Fark\"] = koli_ici_fark[\"max\"] - koli_ici_fark[\"min\"]\n",
    "koli_ici_fark.reset_index(inplace=True)\n",
    "koli_ici_fark[koli_ici_fark[\"Fark\"] != 0].to_excel(\"../reports/ayni_sku_kod_farkli_koli_adedi.xlsx\", index=False)"
   ]
  },
  {
   "cell_type": "markdown",
   "metadata": {},
   "source": [
    "# Kontrol: Güncel Koda denk gelen eski ürün isimleri neler?"
   ]
  },
  {
   "cell_type": "code",
   "execution_count": 30,
   "metadata": {},
   "outputs": [],
   "source": [
    "unique_pasifik = pasifik_df_all[[\"En Güncel Kod\", \"Ürün Adı\"]]\n",
    "unique_btt = btt_df_all[[\"En Güncel Kod\", \"Ürün Adı\"]]\n",
    "unique_horizon = horizon_saha_df_all[[\"En Güncel Kod\", \"Ürün Adı\"]]\n",
    "\n",
    "unique_pasifik = unique_pasifik.drop_duplicates(subset=[\"En Güncel Kod\", \"Ürün Adı\"]).reset_index(drop=True)\n",
    "unique_btt = unique_btt.drop_duplicates(subset=[\"En Güncel Kod\", \"Ürün Adı\"]).reset_index(drop=True)\n",
    "unique_horizon = unique_horizon.drop_duplicates(subset=[\"En Güncel Kod\", \"Ürün Adı\"]).reset_index(drop=True)\n",
    "\n",
    "unique_pasifik.groupby(\"En Güncel Kod\")[\"Ürün Adı\"].agg(lambda x: \"-\".join(x)).to_excel(\"../reports/pasifik_guncel_kod_karsiligi_urunler.xlsx\", index=True)\n",
    "unique_btt.groupby(\"En Güncel Kod\")[\"Ürün Adı\"].agg(lambda x: \"-\".join(x)).to_excel(\"../reports/btt_guncel_kod_karsiligi_urunler.xlsx\", index=True)\n",
    "unique_horizon.groupby(\"En Güncel Kod\")[\"Ürün Adı\"].agg(lambda x: \"-\".join(x)).to_excel(\"../reports/horizon_guncel_kod_karsiligi_urunler.xlsx\", index=True)"
   ]
  },
  {
   "cell_type": "markdown",
   "metadata": {},
   "source": [
    "---"
   ]
  },
  {
   "cell_type": "markdown",
   "metadata": {},
   "source": [
    "---"
   ]
  },
  {
   "cell_type": "markdown",
   "metadata": {},
   "source": [
    "# SKU bazında gözlem sayısı"
   ]
  },
  {
   "cell_type": "code",
   "execution_count": 31,
   "metadata": {},
   "outputs": [],
   "source": [
    "num_pasifik = pasifik_df_all2.groupby([\"En Güncel Kod\", \"Grup adı\"]).count()[\"Yıl\"].reset_index().rename(columns={\"Yıl\": \"Count\"})\n",
    "num_btt = btt_df_all2.groupby([\"En Güncel Kod\", \"Grup adı\"]).count()[\"Yıl\"].reset_index().rename(columns={\"Yıl\": \"Count\"})\n",
    "num_horizon = horizon_saha_df_all2.groupby([\"En Güncel Kod\", \"Grup adı\"]).count()[\"Yıl\"].reset_index().rename(columns={\"Yıl\": \"Count\"})"
   ]
  },
  {
   "cell_type": "code",
   "execution_count": 32,
   "metadata": {},
   "outputs": [],
   "source": [
    "num_all = pd.concat([num_btt, num_horizon, num_pasifik], ignore_index=True, axis=0)\n",
    "num_all.sort_values(by=[\"En Güncel Kod\", \"Grup adı\", \"Count\"], inplace=True)\n",
    "num_all.to_excel(\"../reports/sku_bazinda_sayilar.xlsx\", index=False)"
   ]
  },
  {
   "cell_type": "markdown",
   "metadata": {},
   "source": [
    "---"
   ]
  },
  {
   "cell_type": "markdown",
   "metadata": {},
   "source": [
    "---\n",
    "# Missing Value'lara 1 atanması (0 atanmamasının sebebi, prediction yapılırken MAPE'nin infinitive gelmesi)\n",
    "---"
   ]
  },
  {
   "cell_type": "markdown",
   "metadata": {},
   "source": [
    "---\n",
    "# Pasifik Filling Missing Values\n",
    "---"
   ]
  },
  {
   "cell_type": "code",
   "execution_count": 33,
   "metadata": {},
   "outputs": [],
   "source": [
    "pasifik_urun_isimleri = pasifik_df_all[[\"Marka Adı\", \"Ürün Adı\", \"En Güncel Kod\"]].drop_duplicates(subset=[\"Marka Adı\", \"En Güncel Kod\"],ignore_index=True,keep=\"first\")\n",
    "pasifik_urun_isimleri = pasifik_urun_isimleri[~((pasifik_urun_isimleri[\"Marka Adı\"] == \"DANKEK BATON\") & (pasifik_urun_isimleri[\"En Güncel Kod\"] == 80403))]\n",
    "pasifik_df_all2 = pd.merge(pasifik_df_all2, pasifik_urun_isimleri[[\"En Güncel Kod\", \"Marka Adı\", \"Ürün Adı\"]].drop_duplicates(subset=[\"En Güncel Kod\", \"Marka Adı\", \"Ürün Adı\"], keep=\"first\"), on=\"En Güncel Kod\", how=\"left\")\n",
    "pasifik_df_all2 = pasifik_df_all2[pasifik_df_all2.columns.to_list()[:5]+pasifik_df_all2.columns.to_list()[-2:]+[pasifik_df_all2.columns.to_list()[5]]+pasifik_df_all2.columns.to_list()[6:12]]\n",
    "\n",
    "\n",
    "\n",
    "horizon_urun_isimleri = horizon_saha_df_all[[\"Marka Adı\", \"Ürün Adı\", \"En Güncel Kod\"]].drop_duplicates(subset=[\"Marka Adı\", \"En Güncel Kod\"],ignore_index=True,keep=\"first\")\n",
    "horizon_urun_isimleri = horizon_urun_isimleri[~(((horizon_urun_isimleri[\"Marka Adı\"] == \"DANKEK BATON\") & (horizon_urun_isimleri[\"En Güncel Kod\"] == 80403)) | \n",
    "                                                ((horizon_urun_isimleri[\"Marka Adı\"] == \"MAVİ YEŞİL\") & (horizon_urun_isimleri[\"En Güncel Kod\"] == 11802)) |\n",
    "                                                ((horizon_urun_isimleri[\"Marka Adı\"] == \"MAVİ YEŞİL\") & (horizon_urun_isimleri[\"En Güncel Kod\"] == 74306)) |\n",
    "                                                ((horizon_urun_isimleri[\"Marka Adı\"] == \"AS KRAKER\") & (horizon_urun_isimleri[\"En Güncel Kod\"] == 190502)))]\n",
    "horizon_saha_df_all2 = pd.merge(horizon_saha_df_all2, horizon_urun_isimleri[[\"En Güncel Kod\", \"Marka Adı\", \"Ürün Adı\"]], on=\"En Güncel Kod\", how=\"left\")\n",
    "horizon_saha_df_all2 = horizon_saha_df_all2[horizon_saha_df_all2.columns.to_list()[:5]+horizon_saha_df_all2.columns.to_list()[-2:]+[horizon_saha_df_all2.columns.to_list()[5]]+horizon_saha_df_all2.columns.to_list()[6:12]]\n",
    "\n",
    "\n",
    "\n",
    "btt_urun_isimleri = btt_df_all[[\"Marka Adı\", \"Ürün Adı\", \"En Güncel Kod\"]].drop_duplicates(subset=[\"Marka Adı\", \"En Güncel Kod\"],ignore_index=True,keep=\"first\")\n",
    "btt_urun_isimleri = btt_urun_isimleri[~((btt_urun_isimleri[\"Marka Adı\"] == \"DANKEK BATON\") & (btt_urun_isimleri[\"En Güncel Kod\"] == 80403))]\n",
    "btt_df_all2 = pd.merge(btt_df_all2, btt_urun_isimleri[[\"En Güncel Kod\", \"Marka Adı\", \"Ürün Adı\"]].drop_duplicates(subset=[\"En Güncel Kod\", \"Marka Adı\", \"Ürün Adı\"], keep=\"first\"), on=\"En Güncel Kod\", how=\"left\")\n",
    "btt_df_all2 = btt_df_all2[btt_df_all2.columns.to_list()[:5]+btt_df_all2.columns.to_list()[-2:]+[btt_df_all2.columns.to_list()[5]]+btt_df_all2.columns.to_list()[6:12]]"
   ]
  },
  {
   "cell_type": "code",
   "execution_count": 34,
   "metadata": {},
   "outputs": [],
   "source": [
    "pasifik_df_all_filled = []\n",
    "for idx, test in pasifik_df_all2.groupby([\"En Güncel Kod\", \"Yıl\", \"Grup adı\"]):\n",
    "    test.reset_index(drop=True, inplace=True)\n",
    "    for i in range(1, 13):\n",
    "        try:\n",
    "            if i == test.loc[i-1, \"Ay\"]:\n",
    "                if i == 13:\n",
    "                    break\n",
    "            else:\n",
    "                test.loc[-1] = test.loc[0]\n",
    "                test.loc[-1, \"Ay\"], test.loc[-1, \"Koli İçi Adet\"], test.loc[-1, \"Koli\"],  \\\n",
    "                test.loc[-1, \"KG\"], test.loc[-1, \"TL\"], test.loc[-1, \"Adet\"], test.loc[-1, \"Date\"] = i, 0, 0, 0, 0, 1, str(test.loc[-1, \"Yıl\"])+\"-\"+str(i)+\"-\"+str(\"01\")\n",
    "                test = test.sort_values(by=[\"Yıl\", \"Ay\"]).reset_index(drop=True)\n",
    "        except:\n",
    "            test.loc[-1] = test.loc[0]\n",
    "            test.loc[-1, \"Ay\"], test.loc[-1, \"Koli İçi Adet\"], test.loc[-1, \"Koli\"],  \\\n",
    "            test.loc[-1, \"KG\"], test.loc[-1, \"TL\"], test.loc[-1, \"Adet\"], test.loc[-1, \"Date\"] = i, 0, 0, 0, 0, 1, str(test.loc[-1, \"Yıl\"])+\"-\"+str(i)+\"-\"+str(\"01\")\n",
    "            test = test.sort_values(by=[\"Yıl\", \"Ay\"]).reset_index(drop=True)\n",
    "        test[\"Date\"] = pd.to_datetime(test[\"Date\"], format=\"%Y-%m-%d\", errors=\"coerce\")\n",
    "    rows_to_drop = []\n",
    "    start = test.index[0]\n",
    "    length = 1\n",
    "    while (test.loc[start, \"Adet\"] == 1) and (length < len(test)):\n",
    "        rows_to_drop.append(start)\n",
    "        length+=1\n",
    "        start+=1\n",
    "    test.drop(index=rows_to_drop, inplace=True)\n",
    "    pasifik_df_all_filled.append(test)"
   ]
  },
  {
   "cell_type": "code",
   "execution_count": 35,
   "metadata": {},
   "outputs": [],
   "source": [
    "pasifik_df_all2 = pd.concat(pasifik_df_all_filled, ignore_index=True)"
   ]
  },
  {
   "cell_type": "code",
   "execution_count": 36,
   "metadata": {},
   "outputs": [],
   "source": [
    "end = time.time()"
   ]
  },
  {
   "cell_type": "code",
   "execution_count": 37,
   "metadata": {},
   "outputs": [],
   "source": [
    "time.sleep(1)"
   ]
  },
  {
   "cell_type": "code",
   "execution_count": 38,
   "metadata": {},
   "outputs": [
    {
     "name": "stdout",
     "output_type": "stream",
     "text": [
      "Pasifik missing value ataması işlemi 18838 days, 13 saat, 21 dakika, 23.71 saniye sürmüştür.\n"
     ]
    }
   ],
   "source": [
    "total_time = str(timedelta(seconds=end-start))[:-4].split(\":\")\n",
    "print(f\"Pasifik missing value ataması işlemi {total_time[0]} saat, {total_time[1]} dakika, {total_time[2]} saniye sürmüştür.\")"
   ]
  },
  {
   "cell_type": "markdown",
   "metadata": {},
   "source": [
    "---\n",
    "# Horizon Filling Missing Values\n",
    "---"
   ]
  },
  {
   "cell_type": "code",
   "execution_count": 39,
   "metadata": {},
   "outputs": [],
   "source": [
    "horizon_saha_df_all_filled = []\n",
    "for idx, test in horizon_saha_df_all2.groupby([\"En Güncel Kod\", \"Yıl\", \"Grup adı\"]):\n",
    "    test.reset_index(drop=True, inplace=True)\n",
    "    for i in range(1, 13):\n",
    "        try:\n",
    "            if i == test.loc[i-1, \"Ay\"]:\n",
    "                if i == 13:\n",
    "                    break\n",
    "            else:\n",
    "                test.loc[-1] = test.loc[0]\n",
    "                test.loc[-1, \"Ay\"], test.loc[-1, \"Koli İçi Adet\"], test.loc[-1, \"Koli\"],  \\\n",
    "                test.loc[-1, \"KG\"], test.loc[-1, \"TL\"], test.loc[-1, \"Adet\"], test.loc[-1, \"Date\"] = i, 0, 0, 0, 0, 1, str(test.loc[-1, \"Yıl\"])+\"-\"+str(i)+\"-\"+str(\"01\")\n",
    "                test = test.sort_values(by=[\"Yıl\", \"Ay\"]).reset_index(drop=True)\n",
    "        except:\n",
    "            test.loc[-1] = test.loc[0]\n",
    "            test.loc[-1, \"Ay\"], test.loc[-1, \"Koli İçi Adet\"], test.loc[-1, \"Koli\"],  \\\n",
    "            test.loc[-1, \"KG\"], test.loc[-1, \"TL\"], test.loc[-1, \"Adet\"], test.loc[-1, \"Date\"] = i, 0, 0, 0, 0, 1, str(test.loc[-1, \"Yıl\"])+\"-\"+str(i)+\"-\"+str(\"01\")\n",
    "            test = test.sort_values(by=[\"Yıl\", \"Ay\"]).reset_index(drop=True)\n",
    "        test[\"Date\"] = pd.to_datetime(test[\"Date\"], format=\"%Y-%m-%d\", errors=\"coerce\")\n",
    "    \n",
    "    rows_to_drop = []\n",
    "    start = test.index[0]\n",
    "    length = 1\n",
    "    while (test.loc[start, \"Adet\"] == 1) and (length < len(test)):\n",
    "        rows_to_drop.append(start)\n",
    "        length+=1\n",
    "        start+=1\n",
    "    test.drop(index=rows_to_drop, inplace=True)\n",
    "    horizon_saha_df_all_filled.append(test)"
   ]
  },
  {
   "cell_type": "code",
   "execution_count": 40,
   "metadata": {},
   "outputs": [],
   "source": [
    "horizon_saha_df_all2 = pd.concat(horizon_saha_df_all_filled, ignore_index=True)"
   ]
  },
  {
   "cell_type": "code",
   "execution_count": 41,
   "metadata": {},
   "outputs": [
    {
     "name": "stdout",
     "output_type": "stream",
     "text": [
      "Horizon missing value ataması işlemi 18838 days, 13 saat, 34 dakika, 18.49 saniye sürmüştür.\n"
     ]
    }
   ],
   "source": [
    "end = time.time()\n",
    "time.sleep(1)\n",
    "total_time = str(timedelta(seconds=end-start))[:-4].split(\":\")\n",
    "print(f\"Horizon missing value ataması işlemi {total_time[0]} saat, {total_time[1]} dakika, {total_time[2]} saniye sürmüştür.\")"
   ]
  },
  {
   "cell_type": "markdown",
   "metadata": {},
   "source": [
    "---\n",
    "# BTT Filling Missing Values\n",
    "---"
   ]
  },
  {
   "cell_type": "code",
   "execution_count": 42,
   "metadata": {},
   "outputs": [],
   "source": [
    "btt_df_all_filled = []\n",
    "for idx, test in btt_df_all2.groupby([\"En Güncel Kod\", \"Yıl\", \"Grup adı\"]):\n",
    "    test.reset_index(drop=True, inplace=True)\n",
    "    for i in range(1, 13):\n",
    "        try:\n",
    "            if i == test.loc[i-1, \"Ay\"]:\n",
    "                if i == 13:\n",
    "                    break\n",
    "            else:\n",
    "                test.loc[-1] = test.loc[0]\n",
    "                test.loc[-1, \"Ay\"], test.loc[-1, \"Koli İçi Adet\"], test.loc[-1, \"Koli\"],  \\\n",
    "                test.loc[-1, \"KG\"], test.loc[-1, \"TL\"], test.loc[-1, \"Adet\"], test.loc[-1, \"Date\"] = i, 0, 0, 0, 0, 1, str(test.loc[-1, \"Yıl\"])+\"-\"+str(i)+\"-\"+str(\"01\")\n",
    "                test = test.sort_values(by=[\"Yıl\", \"Ay\"]).reset_index(drop=True)\n",
    "        except:\n",
    "            test.loc[-1] = test.loc[0]\n",
    "            test.loc[-1, \"Ay\"], test.loc[-1, \"Koli İçi Adet\"], test.loc[-1, \"Koli\"],  \\\n",
    "            test.loc[-1, \"KG\"], test.loc[-1, \"TL\"], test.loc[-1, \"Adet\"], test.loc[-1, \"Date\"] = i, 0, 0, 0, 0, 1, str(test.loc[-1, \"Yıl\"])+\"-\"+str(i)+\"-\"+str(\"01\")\n",
    "            test = test.sort_values(by=[\"Yıl\", \"Ay\"]).reset_index(drop=True)\n",
    "        test[\"Date\"] = pd.to_datetime(test[\"Date\"], format=\"%Y-%m-%d\", errors=\"coerce\")\n",
    "\n",
    "    rows_to_drop = []\n",
    "    start = test.index[0]\n",
    "    length = 1\n",
    "    while (test.loc[start, \"Adet\"] == 1) and (length < len(test)):\n",
    "        rows_to_drop.append(start)\n",
    "        length+=1\n",
    "        start+=1\n",
    "    test.drop(index=rows_to_drop, inplace=True)\n",
    "    btt_df_all_filled.append(test)"
   ]
  },
  {
   "cell_type": "code",
   "execution_count": 43,
   "metadata": {},
   "outputs": [],
   "source": [
    "btt_df_all2 = pd.concat(btt_df_all_filled, ignore_index=True)"
   ]
  },
  {
   "cell_type": "code",
   "execution_count": 44,
   "metadata": {},
   "outputs": [
    {
     "name": "stdout",
     "output_type": "stream",
     "text": [
      "BTT missing value ataması işlemi 18838 days, 13 saat, 35 dakika, 26.74 saniye sürmüştür.\n"
     ]
    }
   ],
   "source": [
    "end = time.time()\n",
    "time.sleep(1)\n",
    "total_time = str(timedelta(seconds=end-start))[:-4].split(\":\")\n",
    "print(f\"BTT missing value ataması işlemi {total_time[0]} saat, {total_time[1]} dakika, {total_time[2]} saniye sürmüştür.\")"
   ]
  },
  {
   "cell_type": "markdown",
   "metadata": {},
   "source": [
    "---"
   ]
  },
  {
   "cell_type": "markdown",
   "metadata": {},
   "source": [
    "---"
   ]
  },
  {
   "cell_type": "markdown",
   "metadata": {},
   "source": [
    "# Aktivite Datası İçin Ürün Kod Eşleme"
   ]
  },
  {
   "cell_type": "markdown",
   "metadata": {},
   "source": [
    "---"
   ]
  },
  {
   "cell_type": "markdown",
   "metadata": {},
   "source": [
    "---"
   ]
  },
  {
   "cell_type": "markdown",
   "metadata": {},
   "source": [
    "# Pasifik Aktivite"
   ]
  },
  {
   "cell_type": "markdown",
   "metadata": {},
   "source": [
    "## Left join ile güncel kodlar getirildi. Delist olan ürünler listeden çıkartıldı. \"Çeyrek\" sütunu silindi. En güncel kod sütunnuda bulunamayan değerler Ürün Kodu sütunundan çekildi."
   ]
  },
  {
   "cell_type": "code",
   "execution_count": 45,
   "metadata": {},
   "outputs": [],
   "source": [
    "pasifik_aktivite_df2 = pd.merge(pasifik_aktivite_df, eslenik_kod_df[[\"Ürün Kodu\", \"En Güncel Kod\"]], on=\"Ürün Kodu\", how=\"left\")\n",
    "pasifik_aktivite_df2 = pasifik_aktivite_df2[pasifik_aktivite_df2[\"En Güncel Kod\"] != \"delist\"].reset_index(drop=True)\n",
    "pasifik_aktivite_df2.drop(\"Çeyrek\", inplace=True, axis=1)\n",
    "pasifik_aktivite_df2['En Güncel Kod'] = pasifik_aktivite_df2['En Güncel Kod'].fillna(pasifik_aktivite_df2['Ürün Kodu'])\n",
    "pasifik_aktivite_df2.drop(columns=\"Ürün Kodu\", axis=1, inplace=True)"
   ]
  },
  {
   "cell_type": "markdown",
   "metadata": {},
   "source": [
    "## Hangi güncel ürün kodundan kaç tane girildiğinin kontrolü"
   ]
  },
  {
   "cell_type": "markdown",
   "metadata": {},
   "source": [
    "## Duplike durumdaki ürün kodlarının excel olarak dışarıya alınması"
   ]
  },
  {
   "cell_type": "code",
   "execution_count": 46,
   "metadata": {},
   "outputs": [],
   "source": [
    "x = pasifik_aktivite_df2.columns.to_list()[:5]\n",
    "y = pasifik_aktivite_df2.columns.to_list()[-1]\n",
    "x.append(y)\n",
    "#pasifik_aktivite_df2[pasifik_aktivite_df2[x].duplicated(keep=False)].sort_values(by=[\"En Güncel Kod\", \"Yıl\", \"Ay\", \"Müşteri Grup\", \"Ana Kategori Adı\", \"Kategori Adı\"]).to_excel(\"../reports/duplike_pasifik_aktivite_datasi.xlsx\", index=False)"
   ]
  },
  {
   "cell_type": "markdown",
   "metadata": {},
   "source": [
    "---\n",
    "## Aynı anda farklı iki aktivite tipi var mı?\n",
    "---"
   ]
  },
  {
   "cell_type": "code",
   "execution_count": 47,
   "metadata": {},
   "outputs": [],
   "source": [
    "# pa_df = pasifik aktivite df (sadece aynı ay farklı aktivite tipini görmek için)\n",
    "pa_df = pasifik_aktivite_df2.copy()\n",
    "\n",
    "pa_df.drop(columns=[\"Ana Kategori Adı\", \"Kategori Adı\", \"Marka Adı\", \"Ürün Adı\"], axis=1, inplace=True)\n",
    "pa_df.drop_duplicates(subset=pa_df.columns.to_list(), inplace=True, ignore_index=True)\n",
    "check_pa_df = pa_df.pivot_table(index=[\"Yıl\", \"Ay\", \"En Güncel Kod\"], columns=\"Aktivite Tipi\", aggfunc=lambda x: len(x.unique())).sum(axis=1).reset_index()\n",
    "check_pa_df = check_pa_df[check_pa_df[0] > 1].reset_index(drop=True)"
   ]
  },
  {
   "cell_type": "markdown",
   "metadata": {},
   "source": [
    "---"
   ]
  },
  {
   "cell_type": "markdown",
   "metadata": {},
   "source": [
    "---"
   ]
  },
  {
   "cell_type": "markdown",
   "metadata": {},
   "source": [
    "---"
   ]
  },
  {
   "cell_type": "markdown",
   "metadata": {},
   "source": [
    "# Pasifik Aktivite Ciro - Promosyon Tutarı ve İskonto Tekilleştirme (ORTALAMA ALARAK)"
   ]
  },
  {
   "cell_type": "code",
   "execution_count": 48,
   "metadata": {},
   "outputs": [],
   "source": [
    "ort_pas = {\"Raf Tavsiye Satış Fiyatı\": \"mean\", \"İndirimli Raf Satış Fiyatı\": \"mean\", \"İndirim %\": \"mean\", \"Aktivite Tipi\": \"first\"}\n",
    "pasifik_aktivite_df3 = pasifik_aktivite_df2.groupby([\"En Güncel Kod\", \"Yıl\", \"Ay\", \"Müşteri Grup\"]).agg(ort_pas).reset_index()\n",
    "pasifik_aktivite_df3 = pd.merge(pasifik_aktivite_df3, pasifik_aktivite_df2[[\"Yıl\", \"Ay\", \"Müşteri Grup\", \"En Güncel Kod\", \n",
    "                                                 \"Ana Kategori Adı\", \"Kategori Adı\", \"Marka Adı\"]],\n",
    "                           how=\"left\", \n",
    "                           on=[\"En Güncel Kod\", \"Yıl\", \"Ay\", \"Müşteri Grup\"])\n",
    "\n",
    "pasifik_aktivite_df3.drop_duplicates(subset=pasifik_aktivite_df3.columns.to_list(), inplace=True)"
   ]
  },
  {
   "cell_type": "code",
   "execution_count": 49,
   "metadata": {},
   "outputs": [],
   "source": [
    "pasifik_aktivite_df3.reset_index(drop=True, inplace=True)\n",
    "pasifik_aktivite_df3 = pasifik_aktivite_df3[pasifik_aktivite_df2.drop(\"Ürün Adı\", axis=1).columns.to_list()]"
   ]
  },
  {
   "cell_type": "code",
   "execution_count": 50,
   "metadata": {},
   "outputs": [],
   "source": [
    "x = pasifik_aktivite_df3.columns.to_list()[:5]\n",
    "y = pasifik_aktivite_df3.columns.to_list()[-2:]\n",
    "x.extend(y)\n",
    "#pasifik_aktivite_df3[pasifik_aktivite_df3[x].duplicated(keep=False)].sort_values(by=[\"En Güncel Kod\", \"Yıl\", \"Ay\", \"Müşteri Grup\", \"Ana Kategori Adı\", \"Kategori Adı\"]).to_excel(\"../reports/duplike_pasifik_aktivite_datasi.xlsx\", index=False)"
   ]
  },
  {
   "cell_type": "markdown",
   "metadata": {},
   "source": [
    "---"
   ]
  },
  {
   "cell_type": "markdown",
   "metadata": {},
   "source": [
    "---"
   ]
  },
  {
   "cell_type": "markdown",
   "metadata": {},
   "source": [
    "---"
   ]
  },
  {
   "cell_type": "markdown",
   "metadata": {},
   "source": [
    "# Horizon Aktivite"
   ]
  },
  {
   "cell_type": "code",
   "execution_count": 51,
   "metadata": {},
   "outputs": [],
   "source": [
    "saha_aktivite_detay2 = pd.merge(saha_aktivite_detay, eslenik_kod_df[[\"Ürün Kodu\", \"En Güncel Kod\"]], on=\"Ürün Kodu\", how=\"left\")\n",
    "saha_aktivite_detay2 = saha_aktivite_detay2[saha_aktivite_detay2[\"En Güncel Kod\"] != \"delist\"].reset_index(drop=True)\n",
    "saha_aktivite_detay2.drop(\"Çeyrek\", inplace=True, axis=1)\n",
    "saha_aktivite_detay2['En Güncel Kod'] = saha_aktivite_detay2['En Güncel Kod'].fillna(saha_aktivite_detay2['Ürün Kodu'])\n",
    "saha_aktivite_detay2.drop(columns=\"Ürün Kodu\", axis=1, inplace=True)\n",
    "saha_aktivite_detay2[\"İskonto %\"].replace(\"#DIV/0\", np.nan,inplace=True)"
   ]
  },
  {
   "cell_type": "code",
   "execution_count": 52,
   "metadata": {},
   "outputs": [],
   "source": [
    "x = saha_aktivite_detay2.columns.to_list()[:5]\n",
    "y = saha_aktivite_detay2.columns.to_list()[-1]\n",
    "x.append(y)\n",
    "#saha_aktivite_detay2[saha_aktivite_detay2[x].duplicated(keep=False)].sort_values(by=[\"En Güncel Kod\", \"Yıl\", \"Ay\", \"Saha Müşteri Grup\", \"Ana Kategori Adı\", \"Kategori Adı\"]).to_excel(\"../reports/duplike_saha_aktivite_datasi.xlsx\", index=False)"
   ]
  },
  {
   "cell_type": "markdown",
   "metadata": {},
   "source": [
    "# Horizon Aktivite Ciro - Promosyon Tutarı ve İskonto Tekilleştirme (ORTALAMA ALARAK)"
   ]
  },
  {
   "cell_type": "code",
   "execution_count": 53,
   "metadata": {},
   "outputs": [],
   "source": [
    "ort = {\"Ciro (Kull. İade Düş.)\": \"mean\", \"Promosyon Tutarı\": \"mean\", \"İskonto %\": \"mean\"}\n",
    "saha_aktivite_detay3 = saha_aktivite_detay2.groupby([\"En Güncel Kod\", \"Yıl\", \"Ay\", \"Saha Müşteri Grup\"]).agg(ort).reset_index()\n",
    "\n",
    "saha_aktivite_detay3 = pd.merge(saha_aktivite_detay3, saha_aktivite_detay2[[\"Yıl\", \"Ay\", \"Saha Müşteri Grup\", \"En Güncel Kod\", \n",
    "                                                 \"Ana Kategori Adı\", \"Kategori Adı\", \"Marka Adı\"]],\n",
    "                           how=\"left\", \n",
    "                           on=[\"En Güncel Kod\", \"Yıl\", \"Ay\", \"Saha Müşteri Grup\"])\n",
    "\n",
    "saha_aktivite_detay3.drop_duplicates(subset=saha_aktivite_detay3.columns.to_list(), inplace=True)"
   ]
  },
  {
   "cell_type": "code",
   "execution_count": 54,
   "metadata": {},
   "outputs": [],
   "source": [
    "saha_aktivite_detay3 = saha_aktivite_detay3[saha_aktivite_detay2.drop(\"Ürün Adı (Mobis)\", axis=1).columns.to_list()].reset_index(drop=True)"
   ]
  },
  {
   "cell_type": "code",
   "execution_count": 55,
   "metadata": {},
   "outputs": [],
   "source": [
    "x = saha_aktivite_detay3.columns.to_list()[:5]\n",
    "y = saha_aktivite_detay3.columns.to_list()[-1]\n",
    "x.append(y)\n",
    "#saha_aktivite_detay3[saha_aktivite_detay3[x].duplicated(keep=False)].sort_values(by=[\"En Güncel Kod\", \"Yıl\", \"Ay\", \"Saha Müşteri Grup\", \"Ana Kategori Adı\", \"Kategori Adı\"]).to_excel(\"../reports/duplike_saha_aktivite_datasi.xlsx\", index=False)"
   ]
  },
  {
   "cell_type": "code",
   "execution_count": 56,
   "metadata": {},
   "outputs": [],
   "source": [
    "saha_aktivite_detay3.rename(columns={\"Saha Müşteri Grup\": \"Grup adı\"}, inplace=True)\n",
    "saha_aktivite_detay3[\"Grup adı\"] = saha_aktivite_detay3[\"Grup adı\"].apply(lambda x: \"Diğer_Horizon\" if x == \"Diğer\" else x)"
   ]
  },
  {
   "cell_type": "markdown",
   "metadata": {},
   "source": [
    "---"
   ]
  },
  {
   "cell_type": "markdown",
   "metadata": {},
   "source": [
    "---"
   ]
  },
  {
   "cell_type": "markdown",
   "metadata": {},
   "source": [
    "# Fiyat Listesi"
   ]
  },
  {
   "cell_type": "markdown",
   "metadata": {},
   "source": [
    "## Horizon Fiyatları\n",
    "---"
   ]
  },
  {
   "cell_type": "code",
   "execution_count": 57,
   "metadata": {},
   "outputs": [],
   "source": [
    "fiyat_lst_horizon.drop_duplicates(subset=fiyat_lst_horizon.columns.to_list(), keep=\"first\", ignore_index=True, inplace=True)"
   ]
  },
  {
   "cell_type": "code",
   "execution_count": 58,
   "metadata": {},
   "outputs": [],
   "source": [
    "try:\n",
    "    fiyat_lst_horizon[\"Malzeme\"] = fiyat_lst_horizon[\"Malzeme\"].str.replace(\"-\", \"\")\n",
    "    fiyat_lst_horizon[\"Malzeme\"] = fiyat_lst_horizon[\"Malzeme\"].astype(int)*1\n",
    "except:\n",
    "    fiyat_lst_horizon[\"Malzeme\"] = fiyat_lst_horizon[\"Malzeme\"].astype(int)*1"
   ]
  },
  {
   "cell_type": "code",
   "execution_count": 59,
   "metadata": {},
   "outputs": [],
   "source": [
    "fiyat_lst_horizon_df = fiyat_lst_horizon.copy()"
   ]
  },
  {
   "cell_type": "code",
   "execution_count": 60,
   "metadata": {},
   "outputs": [],
   "source": [
    "fiyat_lst_horizon_df[\"Baslangic_Yıl\"] = fiyat_lst_horizon_df[\"Bşl.tarihi\"].apply(lambda x: x.year)\n",
    "fiyat_lst_horizon_df[\"Baslangic_Ay\"] = fiyat_lst_horizon_df[\"Bşl.tarihi\"].apply(lambda x: x.month)\n",
    "fiyat_lst_horizon_df[\"Baslangic_Gun\"] = fiyat_lst_horizon_df[\"Bşl.tarihi\"].apply(lambda x: x.day)\n",
    "fiyat_lst_horizon_df[\"Gecerlilik_Yıl\"] = fiyat_lst_horizon_df[\"Gçrl.sonu\"].apply(lambda x: x.year)\n",
    "fiyat_lst_horizon_df[\"Gecerlilik_Ay\"] = fiyat_lst_horizon_df[\"Gçrl.sonu\"].apply(lambda x: x.month)\n",
    "fiyat_lst_horizon_df[\"Gecerlilik_Gun\"] = fiyat_lst_horizon_df[\"Gçrl.sonu\"].apply(lambda x: x.day)"
   ]
  },
  {
   "cell_type": "code",
   "execution_count": 61,
   "metadata": {},
   "outputs": [],
   "source": [
    "fiyat_lst_horizon_df[\"Baslangic_Yıl\"] = fiyat_lst_horizon_df[\"Baslangic_Yıl\"].apply(lambda x: (horizon_saha_df_all2[\"Date\"].max().year)+1 if x > horizon_saha_df_all2[\"Date\"].max().year else x)\n",
    "fiyat_lst_horizon_df[\"Gecerlilik_Yıl\"] = fiyat_lst_horizon_df[\"Gecerlilik_Yıl\"].apply(lambda x: (horizon_saha_df_all2[\"Date\"].max().year)+1 if x > horizon_saha_df_all2[\"Date\"].max().year else x)"
   ]
  },
  {
   "cell_type": "code",
   "execution_count": 62,
   "metadata": {},
   "outputs": [],
   "source": [
    "time_index = horizon_saha_df_all2[\"Date\"].unique()"
   ]
  },
  {
   "cell_type": "code",
   "execution_count": 63,
   "metadata": {},
   "outputs": [],
   "source": [
    "h_fiyat_unique = []\n",
    "\n",
    "for malzeme in fiyat_lst_horizon_df[\"Malzeme\"].unique():\n",
    "    temp_time_df = pd.DataFrame({\"Fiyat\": [np.nan]}, index=time_index)\n",
    "    temp_time_df = temp_time_df.reset_index().rename(columns={\"index\":\"date\"})    \n",
    "    temp_time_df[\"En Güncel Kod\"] = malzeme\n",
    "    temp_time_df[\"fiyat_gecisi\"] = 0\n",
    "    malzeme_df = fiyat_lst_horizon_df[fiyat_lst_horizon_df[\"Malzeme\"] == malzeme].reset_index(drop=True)\n",
    "    malzeme_df.drop(columns=[\"KşTü\", \"Koşul türü\", \"Tanım\", \"Ana Kategori\", \"Kategori\", \"ÖB\"], axis=1, inplace=True)\n",
    "    malzeme_df.drop_duplicates(subset=malzeme_df.columns.to_list(), inplace=True, ignore_index=True)\n",
    "    malzeme_df.sort_values(by=[\"Baslangic_Yıl\", \"Baslangic_Ay\", \"Baslangic_Gun\"], ignore_index=True, inplace=True)\n",
    "    check_idx1 = []\n",
    "    if len(malzeme_df) > 1:\n",
    "        for row1 in malzeme_df.index:\n",
    "            for row2 in malzeme_df[row1+1:].index:\n",
    "                if (malzeme_df.loc[row1][\"Gecerlilik_Yıl\"] == malzeme_df.loc[row2][\"Baslangic_Yıl\"]) and (malzeme_df.loc[row1][\"Gecerlilik_Ay\"] == malzeme_df.loc[row2][\"Baslangic_Ay\"]):\n",
    "                    num_days = calendar.monthrange(int(malzeme_df.loc[row2][\"Baslangic_Yıl\"]), int(malzeme_df.loc[row2][\"Baslangic_Ay\"]))[1]\n",
    "                    fyt=((int(malzeme_df.loc[row1][\"Gecerlilik_Gun\"])*malzeme_df.loc[row1][\"     Tutar\"]) + (num_days - int(malzeme_df.loc[row2][\"Baslangic_Gun\"]) + 1)*malzeme_df.loc[row2][\"     Tutar\"])/num_days\n",
    "\n",
    "                    end_idx1 =  datetime(int(malzeme_df.loc[row1, \"Gecerlilik_Yıl\"]), int(malzeme_df.loc[row1, \"Gecerlilik_Ay\"]), 1)\n",
    "                    final_idx1 = temp_time_df[temp_time_df[\"date\"] == end_idx1].index\n",
    "                    temp_time_df.loc[final_idx1, \"Fiyat\"] = fyt\n",
    "                    temp_time_df.loc[final_idx1,\"fiyat_gecisi\"] = 1\n",
    "\n",
    "                elif (malzeme_df.loc[row1, \"Gecerlilik_Gun\"] == calendar.monthrange(int(malzeme_df.loc[row1][\"Gecerlilik_Yıl\"]), int(malzeme_df.loc[row1][\"Gecerlilik_Ay\"]))[1] \\\n",
    "                     and malzeme_df.loc[row2, \"Baslangic_Gun\"] == 1):\n",
    "                    fyt5=malzeme_df.loc[row1][\"     Tutar\"]\n",
    "                    fyt6=malzeme_df.loc[row2][\"     Tutar\"]\n",
    "                    end_idx5 =  datetime(int(malzeme_df.loc[row1, \"Gecerlilik_Yıl\"]), int(malzeme_df.loc[row1, \"Gecerlilik_Ay\"]), 1)\n",
    "                    end_idx6 =  datetime(int(malzeme_df.loc[row2, \"Baslangic_Yıl\"]), int(malzeme_df.loc[row2, \"Baslangic_Ay\"]), 1)\n",
    "                    final_idx5 = temp_time_df[temp_time_df[\"date\"] == end_idx5].index\n",
    "                    final_idx6 = temp_time_df[temp_time_df[\"date\"] == end_idx6].index\n",
    "                    temp_time_df.loc[final_idx5, \"Fiyat\"] = fyt5\n",
    "                    temp_time_df.loc[final_idx6, \"Fiyat\"] = fyt6\n",
    "\n",
    "                else:\n",
    "                    fyt2=malzeme_df.loc[row1][\"     Tutar\"]\n",
    "                    start_idx2 = datetime(int(malzeme_df.loc[row1, \"Baslangic_Yıl\"]), int(malzeme_df.loc[row1, \"Baslangic_Ay\"]), 1)\n",
    "                    end_idx2 =  datetime(int(malzeme_df.loc[row1, \"Gecerlilik_Yıl\"]), int(malzeme_df.loc[row1, \"Gecerlilik_Ay\"]), 1)\n",
    "                    final_idx2 = temp_time_df[(temp_time_df[\"date\"] > start_idx2) & (temp_time_df[\"date\"] < end_idx2)].index\n",
    "                    temp_time_df.loc[final_idx2, \"Fiyat\"] = fyt2\n",
    "            if (row1 == len(malzeme_df)-1) or (row1 == len(malzeme_df)-2):\n",
    "                fyt3=malzeme_df.loc[row1][\"     Tutar\"]\n",
    "                start_idx3 = datetime(int(malzeme_df.loc[row1, \"Baslangic_Yıl\"]), int(malzeme_df.loc[row1, \"Baslangic_Ay\"]), 1)\n",
    "                end_idx3 =  datetime(int(malzeme_df.loc[row1, \"Gecerlilik_Yıl\"]), int(malzeme_df.loc[row1, \"Gecerlilik_Ay\"]), 1)\n",
    "                final_idx3 = temp_time_df[(temp_time_df[\"date\"] > start_idx3) & (temp_time_df[\"date\"] < end_idx3)].index\n",
    "                temp_time_df.loc[final_idx3, \"Fiyat\"] = fyt3\n",
    "\n",
    "    else:\n",
    "        for row1 in malzeme_df.index:\n",
    "            fyt4=malzeme_df.loc[row1][\"     Tutar\"]\n",
    "            start_idx4 = datetime(int(malzeme_df.loc[row1, \"Baslangic_Yıl\"]), int(malzeme_df.loc[row1, \"Baslangic_Ay\"]), 1)\n",
    "            end_idx4 =  datetime(int(malzeme_df.loc[row1, \"Gecerlilik_Yıl\"]), int(malzeme_df.loc[row1, \"Gecerlilik_Ay\"]), 1)\n",
    "            final_idx4 = temp_time_df[(temp_time_df[\"date\"] >= start_idx4) & (temp_time_df[\"date\"] <= end_idx4)].index\n",
    "            temp_time_df.loc[final_idx4, \"Fiyat\"] = fyt4\n",
    "\n",
    "    if (malzeme_df.loc[0, \"Baslangic_Yıl\"] >= min(horizon_saha_df_all2[\"Yıl\"].unique())) and (len(malzeme_df) > 1):\n",
    "        temp_time_df.loc[temp_time_df[~pd.isnull(temp_time_df[\"Fiyat\"])].index[0]-1, \"Fiyat\"] = malzeme_df.loc[0, \"     Tutar\"]\n",
    "    temp_time_df = temp_time_df.dropna().reset_index(drop=True)\n",
    "\n",
    "    h_fiyat_unique.append(temp_time_df)"
   ]
  },
  {
   "cell_type": "code",
   "execution_count": 64,
   "metadata": {},
   "outputs": [],
   "source": [
    "h_fiyat_unique = pd.concat(h_fiyat_unique)\n",
    "h_fiyat_unique.reset_index(drop=True, inplace=True)\n",
    "\n",
    "h_fiyat_unique.rename(columns={\"En Güncel Kod\": \"Ürün Kodu\", \"date\": \"Date\"}, inplace=True)\n",
    "h_fiyat_unique = h_fiyat_unique.merge(eslenik_kod_df[[\"Ürün Kodu\", \"En Güncel Kod\"]], how=\"left\")\n",
    "h_fiyat_unique[\"En Güncel Kod\"].fillna(h_fiyat_unique[\"Ürün Kodu\"], inplace=True)"
   ]
  },
  {
   "cell_type": "code",
   "execution_count": 65,
   "metadata": {},
   "outputs": [
    {
     "name": "stdout",
     "output_type": "stream",
     "text": [
      "Horizon fiyat geçişlerinin dataya işlenmesi 18838 days, 13 saat, 37 dakika, 53.30 saniye sürmüştür.\n"
     ]
    }
   ],
   "source": [
    "end = time.time()\n",
    "total_time = str(timedelta(seconds=end-start))[:-4].split(\":\")\n",
    "print(f\"Horizon fiyat geçişlerinin dataya işlenmesi {total_time[0]} saat, {total_time[1]} dakika, {total_time[2]} saniye sürmüştür.\")"
   ]
  },
  {
   "cell_type": "markdown",
   "metadata": {},
   "source": [
    "# Fiyatların en güncel kod ile check edilmesi"
   ]
  },
  {
   "cell_type": "code",
   "execution_count": 66,
   "metadata": {},
   "outputs": [],
   "source": [
    "h_fiyat_unique = h_fiyat_unique[h_fiyat_unique[\"En Güncel Kod\"] != \"delist\"].reset_index(drop=True)\n",
    "\n",
    "h_fiyat_unique = h_fiyat_unique.sort_values(by=[\"En Güncel Kod\", \"Date\"]).reset_index(drop=True)\n",
    "drop_rows_h = h_fiyat_unique[h_fiyat_unique[[\"Date\", \"En Güncel Kod\", \"Fiyat\"]].duplicated(keep=False)].index\n",
    "\n",
    "export_h = h_fiyat_unique[~h_fiyat_unique.index.isin(drop_rows_h)].reset_index(drop=True)\n",
    "export_h[export_h[[\"En Güncel Kod\", \"Date\"]].duplicated(keep=False)].to_excel(\"../reports/horizon_fiyat_eslestirme.xlsx\", index=False)"
   ]
  },
  {
   "cell_type": "code",
   "execution_count": 67,
   "metadata": {},
   "outputs": [],
   "source": [
    "h_fiyat_unique = h_fiyat_unique.drop(columns=\"Ürün Kodu\", axis=1)\n",
    "# Aynı aya denk gelen ürünlerin fiyatlarının ortalaması alınıp, herhangi birinde fiyat geçişi varsa 1 alınır.\n",
    "h_fiyat_unique = h_fiyat_unique.groupby([\"Date\", \"En Güncel Kod\"]).agg({\"Fiyat\": \"mean\", \"fiyat_gecisi\": \"max\"}).reset_index()"
   ]
  },
  {
   "cell_type": "markdown",
   "metadata": {},
   "source": [
    "## Pasifik Fiyatları\n",
    "---"
   ]
  },
  {
   "cell_type": "code",
   "execution_count": 68,
   "metadata": {},
   "outputs": [],
   "source": [
    "fiyat_lst_pasifik.drop_duplicates(subset=fiyat_lst_pasifik.columns.to_list(), keep=\"first\", ignore_index=True, inplace=True)"
   ]
  },
  {
   "cell_type": "code",
   "execution_count": 69,
   "metadata": {},
   "outputs": [],
   "source": [
    "fiyat_lst_pasifik[\"Malzeme\"] = fiyat_lst_pasifik[\"Malzeme\"].str.replace(\"-\", \"\")\n",
    "fiyat_lst_pasifik[\"Malzeme\"] = fiyat_lst_pasifik[\"Malzeme\"].astype(int)*1"
   ]
  },
  {
   "cell_type": "code",
   "execution_count": 70,
   "metadata": {},
   "outputs": [],
   "source": [
    "fiyat_lst_pasifik_df = fiyat_lst_pasifik.copy()"
   ]
  },
  {
   "cell_type": "code",
   "execution_count": 71,
   "metadata": {},
   "outputs": [],
   "source": [
    "fiyat_lst_pasifik_df[\"Baslangic_Yıl\"] = fiyat_lst_pasifik_df[\"Bşl.tarihi\"].apply(lambda x: x.year)\n",
    "fiyat_lst_pasifik_df[\"Baslangic_Ay\"] = fiyat_lst_pasifik_df[\"Bşl.tarihi\"].apply(lambda x: x.month)\n",
    "fiyat_lst_pasifik_df[\"Baslangic_Gun\"] = fiyat_lst_pasifik_df[\"Bşl.tarihi\"].apply(lambda x: x.day)\n",
    "fiyat_lst_pasifik_df[\"Gecerlilik_Yıl\"] = fiyat_lst_pasifik_df[\"Gçrl.sonu\"].apply(lambda x: x.year)\n",
    "fiyat_lst_pasifik_df[\"Gecerlilik_Ay\"] = fiyat_lst_pasifik_df[\"Gçrl.sonu\"].apply(lambda x: x.month)\n",
    "fiyat_lst_pasifik_df[\"Gecerlilik_Gun\"] = fiyat_lst_pasifik_df[\"Gçrl.sonu\"].apply(lambda x: x.day)"
   ]
  },
  {
   "cell_type": "code",
   "execution_count": 72,
   "metadata": {},
   "outputs": [],
   "source": [
    "fiyat_lst_pasifik_df[\"Baslangic_Yıl\"] = fiyat_lst_pasifik_df[\"Baslangic_Yıl\"].apply(lambda x: (pasifik_df_all2[\"Date\"].max().year)+1 if x > pasifik_df_all2[\"Date\"].max().year else x)\n",
    "fiyat_lst_pasifik_df[\"Gecerlilik_Yıl\"] = fiyat_lst_pasifik_df[\"Gecerlilik_Yıl\"].apply(lambda x: (pasifik_df_all2[\"Date\"].max().year)+1 if x > pasifik_df_all2[\"Date\"].max().year else x)"
   ]
  },
  {
   "cell_type": "code",
   "execution_count": 73,
   "metadata": {},
   "outputs": [],
   "source": [
    "time_index = pasifik_df_all2[\"Date\"].unique()"
   ]
  },
  {
   "cell_type": "code",
   "execution_count": 74,
   "metadata": {},
   "outputs": [],
   "source": [
    "p_fiyat_unique = []\n",
    "\n",
    "for malzeme in fiyat_lst_pasifik_df[\"Malzeme\"].unique():\n",
    "    temp_time_df = pd.DataFrame({\"Fiyat\": [np.nan]}, index=time_index)\n",
    "    temp_time_df = temp_time_df.reset_index().rename(columns={\"index\":\"date\"})    \n",
    "    temp_time_df[\"En Güncel Kod\"] = malzeme\n",
    "    temp_time_df[\"fiyat_gecisi\"] = 0\n",
    "    malzeme_df = fiyat_lst_pasifik_df[fiyat_lst_pasifik_df[\"Malzeme\"] == malzeme].reset_index(drop=True)\n",
    "    malzeme_df.drop(columns=[\"KşTü\", \"KşTü.1\", \"Malzeme Tanım\", \"Ana Kategori\", \"Kategori\"], axis=1, inplace=True)\n",
    "    malzeme_df.drop_duplicates(subset=malzeme_df.columns.to_list(), inplace=True, ignore_index=True)\n",
    "    malzeme_df.sort_values(by=[\"Baslangic_Yıl\", \"Baslangic_Ay\", \"Baslangic_Gun\"], ignore_index=True, inplace=True)\n",
    "    check_idx1 = []\n",
    "    if len(malzeme_df) > 1:\n",
    "        for row1 in malzeme_df.index:\n",
    "            for row2 in malzeme_df[row1+1:].index:\n",
    "                if (malzeme_df.loc[row1][\"Gecerlilik_Yıl\"] == malzeme_df.loc[row2][\"Baslangic_Yıl\"]) and (malzeme_df.loc[row1][\"Gecerlilik_Ay\"] == malzeme_df.loc[row2][\"Baslangic_Ay\"]):\n",
    "                    num_days = calendar.monthrange(int(malzeme_df.loc[row2][\"Baslangic_Yıl\"]), int(malzeme_df.loc[row2][\"Baslangic_Ay\"]))[1]\n",
    "                    fyt=((int(malzeme_df.loc[row1][\"Gecerlilik_Gun\"])*malzeme_df.loc[row1][\"Koli TL\"]) + (num_days - int(malzeme_df.loc[row2][\"Baslangic_Gun\"])+1)*malzeme_df.loc[row2][\"Koli TL\"])/num_days\n",
    "\n",
    "                    end_idx1 =  datetime(int(malzeme_df.loc[row1, \"Gecerlilik_Yıl\"]), int(malzeme_df.loc[row1, \"Gecerlilik_Ay\"]), 1)\n",
    "                    final_idx1 = temp_time_df[temp_time_df[\"date\"] == end_idx1].index\n",
    "                    temp_time_df.loc[final_idx1, \"Fiyat\"] = fyt\n",
    "                    temp_time_df.loc[final_idx1,\"fiyat_gecisi\"] = 1\n",
    "\n",
    "                elif (malzeme_df.loc[row1, \"Gecerlilik_Gun\"] == calendar.monthrange(int(malzeme_df.loc[row1][\"Gecerlilik_Yıl\"]), int(malzeme_df.loc[row1][\"Gecerlilik_Ay\"]))[1] \\\n",
    "                     and malzeme_df.loc[row2, \"Baslangic_Gun\"] == 1):\n",
    "                    fyt5=malzeme_df.loc[row1][\"Koli TL\"]\n",
    "                    fyt6=malzeme_df.loc[row2][\"Koli TL\"]\n",
    "                    end_idx5 =  datetime(int(malzeme_df.loc[row1, \"Gecerlilik_Yıl\"]), int(malzeme_df.loc[row1, \"Gecerlilik_Ay\"]), 1)\n",
    "                    end_idx6 =  datetime(int(malzeme_df.loc[row2, \"Baslangic_Yıl\"]), int(malzeme_df.loc[row2, \"Baslangic_Ay\"]), 1)\n",
    "                    final_idx5 = temp_time_df[temp_time_df[\"date\"] == end_idx5].index\n",
    "                    final_idx6 = temp_time_df[temp_time_df[\"date\"] == end_idx6].index\n",
    "                    temp_time_df.loc[final_idx5, \"Fiyat\"] = fyt5\n",
    "                    temp_time_df.loc[final_idx6, \"Fiyat\"] = fyt6\n",
    "\n",
    "\n",
    "                else:\n",
    "                    if malzeme_df.loc[row1, \"Baslangic_Gun\"] != 1:\n",
    "                        fyt2=malzeme_df.loc[row1][\"Koli TL\"]\n",
    "                        start_idx2 = datetime(int(malzeme_df.loc[row1, \"Baslangic_Yıl\"]), int(malzeme_df.loc[row1, \"Baslangic_Ay\"]), 1)\n",
    "                        end_idx2 =  datetime(int(malzeme_df.loc[row1, \"Gecerlilik_Yıl\"]), int(malzeme_df.loc[row1, \"Gecerlilik_Ay\"]), 1)\n",
    "                        final_idx2 = temp_time_df[(temp_time_df[\"date\"] > start_idx2) & (temp_time_df[\"date\"] < end_idx2)].index\n",
    "                        temp_time_df.loc[final_idx2, \"Fiyat\"] = fyt2\n",
    "                    else:\n",
    "                        fyt2=malzeme_df.loc[row1][\"Koli TL\"]\n",
    "                        start_idx2 = datetime(int(malzeme_df.loc[row1, \"Baslangic_Yıl\"]), int(malzeme_df.loc[row1, \"Baslangic_Ay\"]), 1)\n",
    "                        end_idx2 =  datetime(int(malzeme_df.loc[row1, \"Gecerlilik_Yıl\"]), int(malzeme_df.loc[row1, \"Gecerlilik_Ay\"]), 1)\n",
    "                        final_idx2 = temp_time_df[(temp_time_df[\"date\"] >= start_idx2) & (temp_time_df[\"date\"] < end_idx2)].index\n",
    "                        temp_time_df.loc[final_idx2, \"Fiyat\"] = fyt2\n",
    "                        \n",
    "            if (row1 == len(malzeme_df)-1) or (row1 == len(malzeme_df)-2):\n",
    "                if malzeme_df.loc[row1, \"Baslangic_Gun\"] != 1:\n",
    "                    fyt3=malzeme_df.loc[row1][\"Koli TL\"]\n",
    "                    start_idx3 = datetime(int(malzeme_df.loc[row1, \"Baslangic_Yıl\"]), int(malzeme_df.loc[row1, \"Baslangic_Ay\"]), 1)\n",
    "                    end_idx3 =  datetime(int(malzeme_df.loc[row1, \"Gecerlilik_Yıl\"]), int(malzeme_df.loc[row1, \"Gecerlilik_Ay\"]), 1)\n",
    "                    final_idx3 = temp_time_df[(temp_time_df[\"date\"] > start_idx3) & (temp_time_df[\"date\"] < end_idx3)].index\n",
    "                    temp_time_df.loc[final_idx3, \"Fiyat\"] = fyt3\n",
    "                else:\n",
    "                    fyt3=malzeme_df.loc[row1][\"Koli TL\"]\n",
    "                    start_idx3 = datetime(int(malzeme_df.loc[row1, \"Baslangic_Yıl\"]), int(malzeme_df.loc[row1, \"Baslangic_Ay\"]), 1)\n",
    "                    end_idx3 =  datetime(int(malzeme_df.loc[row1, \"Gecerlilik_Yıl\"]), int(malzeme_df.loc[row1, \"Gecerlilik_Ay\"]), 1)\n",
    "                    final_idx3 = temp_time_df[(temp_time_df[\"date\"] >= start_idx3) & (temp_time_df[\"date\"] < end_idx3)].index\n",
    "                    temp_time_df.loc[final_idx3, \"Fiyat\"] = fyt3\n",
    "    else:\n",
    "        for row1 in malzeme_df.index:\n",
    "            fyt4=malzeme_df.loc[row1][\"Koli TL\"]\n",
    "            start_idx4 = datetime(int(malzeme_df.loc[row1, \"Baslangic_Yıl\"]), int(malzeme_df.loc[row1, \"Baslangic_Ay\"]), 1)\n",
    "            end_idx4 =  datetime(int(malzeme_df.loc[row1, \"Gecerlilik_Yıl\"]), int(malzeme_df.loc[row1, \"Gecerlilik_Ay\"]), 1)\n",
    "            final_idx4 = temp_time_df[(temp_time_df[\"date\"] >= start_idx4) & (temp_time_df[\"date\"] <= end_idx4)].index\n",
    "            temp_time_df.loc[final_idx4, \"Fiyat\"] = fyt4\n",
    "    \n",
    "    if (malzeme_df.loc[0, \"Baslangic_Yıl\"] >= min(pasifik_df_all2[\"Yıl\"].unique())) and (len(malzeme_df) > 1):\n",
    "        temp_time_df.loc[temp_time_df[~pd.isnull(temp_time_df[\"Fiyat\"])].index[0]-1, \"Fiyat\"] = malzeme_df.loc[0, \"Koli TL\"]\n",
    "    temp_time_df = temp_time_df.dropna().reset_index(drop=True)\n",
    "        \n",
    "    p_fiyat_unique.append(temp_time_df)"
   ]
  },
  {
   "cell_type": "code",
   "execution_count": 75,
   "metadata": {},
   "outputs": [
    {
     "name": "stdout",
     "output_type": "stream",
     "text": [
      "Pasifik fiyat geçişlerinin dataya işlenmesi 18838 days, 13 saat, 39 dakika, 57.85 saniye sürmüştür.\n"
     ]
    }
   ],
   "source": [
    "end = time.time()\n",
    "total_time = str(timedelta(seconds=end-start))[:-4].split(\":\")\n",
    "print(f\"Pasifik fiyat geçişlerinin dataya işlenmesi {total_time[0]} saat, {total_time[1]} dakika, {total_time[2]} saniye sürmüştür.\")"
   ]
  },
  {
   "cell_type": "code",
   "execution_count": 76,
   "metadata": {},
   "outputs": [],
   "source": [
    "p_fiyat_unique = pd.concat(p_fiyat_unique)\n",
    "p_fiyat_unique.reset_index(drop=True, inplace=True)\n",
    "\n",
    "p_fiyat_unique.rename(columns={\"En Güncel Kod\": \"Ürün Kodu\", \"date\": \"Date\"}, inplace=True)\n",
    "p_fiyat_unique = p_fiyat_unique.merge(eslenik_kod_df[[\"Ürün Kodu\", \"En Güncel Kod\"]], how=\"left\")\n",
    "p_fiyat_unique[\"En Güncel Kod\"].fillna(p_fiyat_unique[\"Ürün Kodu\"], inplace=True)"
   ]
  },
  {
   "cell_type": "markdown",
   "metadata": {},
   "source": [
    "# p_fiyat_uniqueların en güncel kod ile check edilmesi"
   ]
  },
  {
   "cell_type": "code",
   "execution_count": 77,
   "metadata": {},
   "outputs": [],
   "source": [
    "p_fiyat_unique = p_fiyat_unique[p_fiyat_unique[\"En Güncel Kod\"] != \"delist\"].reset_index(drop=True)\n",
    "\n",
    "p_fiyat_unique = p_fiyat_unique.sort_values(by=[\"En Güncel Kod\", \"Date\"]).reset_index(drop=True)\n",
    "drop_rows_p = p_fiyat_unique[p_fiyat_unique[[\"Date\", \"En Güncel Kod\", \"Fiyat\"]].duplicated(keep=False)].index\n",
    "\n",
    "export_p = p_fiyat_unique[~p_fiyat_unique.index.isin(drop_rows_p)].reset_index(drop=True)\n",
    "export_p[export_p[[\"En Güncel Kod\", \"Date\"]].duplicated(keep=False)].to_excel(\"../reports/pasifik_fiyat_eslestirme.xlsx\", index=False)"
   ]
  },
  {
   "cell_type": "code",
   "execution_count": 78,
   "metadata": {},
   "outputs": [],
   "source": [
    "# Dosya ile karşılaştır. Ortalama almanı gerektirecek durumları düşün."
   ]
  },
  {
   "cell_type": "code",
   "execution_count": 79,
   "metadata": {},
   "outputs": [],
   "source": [
    "p_fiyat_unique = p_fiyat_unique.drop(columns=\"Ürün Kodu\", axis=1)\n",
    "# Aynı aya denk gelen ürünlerin fiyatlarının ortalaması alınıp, herhangi birinde fiyat geçişi varsa 1 alınır.\n",
    "p_fiyat_unique = p_fiyat_unique.groupby([\"Date\", \"En Güncel Kod\"]).agg({\"Fiyat\": \"mean\", \"fiyat_gecisi\": \"max\"}).reset_index()"
   ]
  },
  {
   "cell_type": "markdown",
   "metadata": {},
   "source": [
    "---\n",
    "# 0'ları doldururken en son yıl ve ayın ötesi de 0 ile dolduruyor. (Örn: Sales datasında 2021'in 3. ayına kadar data olduğu durumda 0'lar ile doldururken 2021 12. aya kadar 0 atıyor.\n",
    "# Bu durumun önüne geçmek için aşağıdaki işlemler yapılmaktadır.\n",
    "---"
   ]
  },
  {
   "cell_type": "code",
   "execution_count": 80,
   "metadata": {},
   "outputs": [],
   "source": [
    "backup_pas = pasifik_df_all2.copy()\n",
    "backup_btt = btt_df_all2.copy()\n",
    "backup_hor = horizon_saha_df_all2.copy()"
   ]
  },
  {
   "cell_type": "raw",
   "metadata": {},
   "source": [
    "pasifik_df_all2 = backup_pas.copy()\n",
    "btt_df_all2 = backup_btt.copy()\n",
    "horizon_saha_df_all2 = backup_hor.copy()"
   ]
  },
  {
   "cell_type": "code",
   "execution_count": 81,
   "metadata": {},
   "outputs": [],
   "source": [
    "pas_max_year = pasifik_df_all[\"Yıl\"].max()\n",
    "pas_max_month = pasifik_df_all[pasifik_df_all[\"Yıl\"] == pasifik_df_all[\"Yıl\"].max()][\"Ay\"].max()\n",
    "\n",
    "hor_max_year = horizon_saha_df_all[\"Yıl\"].max()\n",
    "hor_max_month = horizon_saha_df_all[horizon_saha_df_all[\"Yıl\"] == horizon_saha_df_all[\"Yıl\"].max()][\"Ay\"].max()\n",
    "\n",
    "btt_max_year = btt_df_all[\"Yıl\"].max()\n",
    "btt_max_month = btt_df_all[btt_df_all[\"Yıl\"] == btt_df_all[\"Yıl\"].max()][\"Ay\"].max()"
   ]
  },
  {
   "cell_type": "code",
   "execution_count": 82,
   "metadata": {},
   "outputs": [],
   "source": [
    "pasifik_df_all2 = pasifik_df_all2[~((pasifik_df_all2[\"Yıl\"] == pas_max_year) & (pasifik_df_all2[\"Ay\"] > pas_max_month))].reset_index(drop=True)"
   ]
  },
  {
   "cell_type": "code",
   "execution_count": 83,
   "metadata": {},
   "outputs": [],
   "source": [
    "horizon_saha_df_all2 = horizon_saha_df_all2[~((horizon_saha_df_all2[\"Yıl\"] == hor_max_year) & \n",
    "                                            (horizon_saha_df_all2[\"Ay\"] > hor_max_month))].reset_index(drop=True)"
   ]
  },
  {
   "cell_type": "code",
   "execution_count": 84,
   "metadata": {},
   "outputs": [],
   "source": [
    "btt_df_all2 = btt_df_all2[~((btt_df_all2[\"Yıl\"] == btt_max_year) & (btt_df_all2[\"Ay\"] > btt_max_month))].reset_index(drop=True)"
   ]
  },
  {
   "cell_type": "markdown",
   "metadata": {},
   "source": [
    "---"
   ]
  },
  {
   "cell_type": "markdown",
   "metadata": {},
   "source": [
    "---"
   ]
  },
  {
   "cell_type": "markdown",
   "metadata": {},
   "source": [
    "# Portföy"
   ]
  },
  {
   "cell_type": "markdown",
   "metadata": {},
   "source": [
    "---"
   ]
  },
  {
   "cell_type": "markdown",
   "metadata": {},
   "source": [
    "---"
   ]
  },
  {
   "cell_type": "markdown",
   "metadata": {},
   "source": [
    "## Pasifik Portföy"
   ]
  },
  {
   "cell_type": "code",
   "execution_count": 85,
   "metadata": {},
   "outputs": [],
   "source": [
    "pasifik_portfoy_df2 = pd.merge(pasifik_portfoy_df, eslenik_kod_df[[\"Ürün Kodu\", \"En Güncel Kod\"]], how=\"left\", left_on=\"Kod\", right_on=\"Ürün Kodu\")\n",
    "pasifik_portfoy_df2[\"En Güncel Kod\"] = pasifik_portfoy_df2[\"En Güncel Kod\"].fillna(pasifik_portfoy_df2[\"Kod\"])\n",
    "pasifik_portfoy_df2.drop(\"Ürün Kodu\", axis=1, inplace=True)\n",
    "pasifik_portfoy_df2 = pasifik_portfoy_df2[pasifik_portfoy_df2[\"En Güncel Kod\"] != \"delist\"].reset_index(drop=True)\n",
    "pasifik_portfoy_df2[\"Portfoy\"] = 1"
   ]
  },
  {
   "cell_type": "markdown",
   "metadata": {},
   "source": [
    "## Horizon Portföy"
   ]
  },
  {
   "cell_type": "code",
   "execution_count": 86,
   "metadata": {},
   "outputs": [],
   "source": [
    "horizon_portfoy_df2 = pd.merge(horizon_portfoy_df, eslenik_kod_df[[\"Ürün Kodu\", \"En Güncel Kod\"]], how=\"left\", left_on=\"Kod\", right_on=\"Ürün Kodu\")\n",
    "horizon_portfoy_df2[\"En Güncel Kod\"] = horizon_portfoy_df2[\"En Güncel Kod\"].fillna(horizon_portfoy_df2[\"Kod\"])\n",
    "horizon_portfoy_df2.drop(\"Ürün Kodu\", axis=1, inplace=True)\n",
    "horizon_portfoy_df2 = horizon_portfoy_df2[horizon_portfoy_df2[\"En Güncel Kod\"] != \"delist\"].reset_index(drop=True)\n",
    "horizon_portfoy_df2[\"Portfoy\"] = 1"
   ]
  },
  {
   "cell_type": "code",
   "execution_count": 87,
   "metadata": {},
   "outputs": [],
   "source": [
    "horizon_portfoy_df2 = horizon_portfoy_df2[~((horizon_portfoy_df2[\"Kod\"] == 135901))]"
   ]
  },
  {
   "cell_type": "markdown",
   "metadata": {},
   "source": [
    "## BTT Portföy"
   ]
  },
  {
   "cell_type": "code",
   "execution_count": 88,
   "metadata": {},
   "outputs": [],
   "source": [
    "btt_portfoy_df2 = pd.merge(btt_portfoy_df, eslenik_kod_df[[\"Ürün Kodu\", \"En Güncel Kod\"]], how=\"left\", left_on=\"Kod\", right_on=\"Ürün Kodu\")\n",
    "btt_portfoy_df2[\"En Güncel Kod\"] = btt_portfoy_df2[\"En Güncel Kod\"].fillna(btt_portfoy_df2[\"Kod\"])\n",
    "btt_portfoy_df2.drop(\"Ürün Kodu\", axis=1, inplace=True)\n",
    "btt_portfoy_df2 = btt_portfoy_df2[btt_portfoy_df2[\"En Güncel Kod\"] != \"delist\"].reset_index(drop=True)\n",
    "btt_portfoy_df2[\"Portfoy\"] = 1"
   ]
  },
  {
   "cell_type": "code",
   "execution_count": 89,
   "metadata": {},
   "outputs": [],
   "source": [
    "btt_portfoy_df2 = btt_portfoy_df2[~((btt_portfoy_df2[\"Kod\"] == 135901))]"
   ]
  },
  {
   "cell_type": "markdown",
   "metadata": {},
   "source": [
    "---"
   ]
  },
  {
   "cell_type": "markdown",
   "metadata": {},
   "source": [
    "---"
   ]
  },
  {
   "cell_type": "markdown",
   "metadata": {},
   "source": [
    "# Portföy Kapsamındaki Sales Dataları"
   ]
  },
  {
   "cell_type": "markdown",
   "metadata": {},
   "source": [
    "---"
   ]
  },
  {
   "cell_type": "markdown",
   "metadata": {},
   "source": [
    "---"
   ]
  },
  {
   "cell_type": "code",
   "execution_count": 90,
   "metadata": {},
   "outputs": [],
   "source": [
    "pasifik_df_all3 = pd.merge(pasifik_df_all2,pasifik_portfoy_df2[[\"En Güncel Kod\", \"Portfoy\"]], on=\"En Güncel Kod\", how=\"left\")\n",
    "btt_df_all3 = pd.merge(btt_df_all2,btt_portfoy_df2[[\"En Güncel Kod\", \"Portfoy\"]], on=\"En Güncel Kod\", how=\"left\")\n",
    "horizon_saha_df_all3 = pd.merge(horizon_saha_df_all2,horizon_portfoy_df2[[\"En Güncel Kod\", \"Portfoy\"]], on=\"En Güncel Kod\", how=\"left\")"
   ]
  },
  {
   "cell_type": "code",
   "execution_count": 91,
   "metadata": {},
   "outputs": [],
   "source": [
    "pasifik_df_all3[\"Portfoy\"].fillna(0, inplace=True)\n",
    "btt_df_all3[\"Portfoy\"].fillna(0, inplace=True)\n",
    "horizon_saha_df_all3[\"Portfoy\"].fillna(0, inplace=True)"
   ]
  },
  {
   "cell_type": "markdown",
   "metadata": {},
   "source": [
    "---\n",
    "# Datalara Calender Eklenmesi\n",
    "---"
   ]
  },
  {
   "cell_type": "code",
   "execution_count": 92,
   "metadata": {},
   "outputs": [
    {
     "data": {
      "text/plain": [
       "0     Jan 2016\n",
       "1     Feb 2016\n",
       "2     Mar 2016\n",
       "3     Apr 2016\n",
       "4     May 2016\n",
       "        ...   \n",
       "91    Aug 2023\n",
       "92    Sep 2023\n",
       "93    Oct 2023\n",
       "94    Nov 2023\n",
       "95    Dec 2023\n",
       "Name: DATE, Length: 96, dtype: object"
      ]
     },
     "execution_count": 92,
     "metadata": {},
     "output_type": "execute_result"
    }
   ],
   "source": [
    "calender_df.pop(\"DATE\")"
   ]
  },
  {
   "cell_type": "code",
   "execution_count": 93,
   "metadata": {},
   "outputs": [],
   "source": [
    "pasifik_df_all3 = pd.merge(pasifik_df_all3, calender_df, on=[\"Yıl\", \"Ay\"], how=\"left\")\n",
    "btt_df_all3 = pd.merge(btt_df_all3, calender_df, on=[\"Yıl\", \"Ay\"], how=\"left\")\n",
    "horizon_saha_df_all3 = pd.merge(horizon_saha_df_all3, calender_df, on=[\"Yıl\", \"Ay\"], how=\"left\")"
   ]
  },
  {
   "cell_type": "markdown",
   "metadata": {},
   "source": [
    "---\n",
    "# Dataların Fiyat Ve Aktiviteler İle Birleştirilmesi\n",
    "---\n",
    "\n",
    "# Not:\n",
    "---\n",
    "### 1) BTT aktivite verisi için Horizon kısmındaki \"Geleneksel Kanal\" kullanılması istendi.\n",
    "### 2) BTT fiyat geçişleri için Horizon fiyat geçişleri baz alındı."
   ]
  },
  {
   "cell_type": "code",
   "execution_count": 94,
   "metadata": {},
   "outputs": [],
   "source": [
    "pasifik_df_all3 = pasifik_df_all3.merge(p_fiyat_unique, how=\"left\", on=[\"Date\", \"En Güncel Kod\"])"
   ]
  },
  {
   "cell_type": "code",
   "execution_count": 95,
   "metadata": {},
   "outputs": [],
   "source": [
    "pasifik_aktivite_df3.rename(columns={\"Müşteri Grup\": \"Grup adı\"}, inplace=True)\n",
    "pasifik_df_all3 = pd.merge(pasifik_df_all3, pasifik_aktivite_df3[[\"Yıl\", \"Ay\", \"Grup adı\", \"En Güncel Kod\", \n",
    "                                                                  \"Raf Tavsiye Satış Fiyatı\", \"İndirimli Raf Satış Fiyatı\", \"İndirim %\",\n",
    "                                                                  \"Aktivite Tipi\"]], \n",
    "                           left_on=[\"Yıl\", \"Ay\", \"Grup adı\", \"En Güncel Kod\"], \n",
    "                           right_on=[\"Yıl\", \"Ay\", \"Grup adı\", \"En Güncel Kod\"], how=\"left\")"
   ]
  },
  {
   "cell_type": "code",
   "execution_count": 96,
   "metadata": {},
   "outputs": [],
   "source": [
    "horizon_saha_df_all3 = horizon_saha_df_all3.merge(h_fiyat_unique, how=\"left\", on=[\"Date\", \"En Güncel Kod\"])"
   ]
  },
  {
   "cell_type": "code",
   "execution_count": 97,
   "metadata": {},
   "outputs": [],
   "source": [
    "horizon_saha_df_all3 = horizon_saha_df_all3.merge(saha_aktivite_detay3[['Ciro (Kull. İade Düş.)', 'Promosyon Tutarı', \n",
    "                                                                        'İskonto %', 'En Güncel Kod', \"Yıl\", \"Ay\", \"Grup adı\"]],\n",
    "                                                  on=[\"En Güncel Kod\", \"Yıl\", \"Ay\", \"Grup adı\"], how=\"left\")"
   ]
  },
  {
   "cell_type": "code",
   "execution_count": 98,
   "metadata": {},
   "outputs": [],
   "source": [
    "btt_df_all3 = btt_df_all3.merge(h_fiyat_unique, how=\"left\", on=[\"Date\", \"En Güncel Kod\"])"
   ]
  },
  {
   "cell_type": "code",
   "execution_count": 99,
   "metadata": {},
   "outputs": [],
   "source": [
    "btt_aktivite = saha_aktivite_detay3[saha_aktivite_detay3[\"Grup adı\"] == \"GELENEKSEL KANAL\"].reset_index(drop=True)\n",
    "\n",
    "btt_df_all3 = btt_df_all3.merge(btt_aktivite[['Ciro (Kull. İade Düş.)', 'Promosyon Tutarı', \n",
    "                                              'İskonto %', 'En Güncel Kod', \"Yıl\", \"Ay\"]],\n",
    "                                on=[\"En Güncel Kod\", \"Yıl\", \"Ay\"], how=\"left\")"
   ]
  },
  {
   "cell_type": "markdown",
   "metadata": {},
   "source": [
    "---\n",
    "# SKU Bazında İncelemeler\n",
    "---"
   ]
  },
  {
   "cell_type": "code",
   "execution_count": 100,
   "metadata": {},
   "outputs": [],
   "source": [
    "sku = pd.concat([pasifik_df_all3[[\"Grup adı\", \"En Güncel Kod\", \"Portfoy\"]], \n",
    "                 btt_df_all3[[\"Grup adı\", \"En Güncel Kod\", \"Portfoy\"]], \n",
    "                 horizon_saha_df_all3[[\"Grup adı\", \"En Güncel Kod\", \"Portfoy\"]]], axis=0, ignore_index=True)\n",
    "\n",
    "\n",
    "only_sku = pd.concat([pasifik_df_all3[\"En Güncel Kod\"], btt_df_all3[\"En Güncel Kod\"], horizon_saha_df_all3[\"En Güncel Kod\"]], \n",
    "                    axis=0, ignore_index=True)\n",
    "\n",
    "\n",
    "kategori_all = pd.concat([pasifik_df_all3[\"Kategori Adı\"], \n",
    "                 btt_df_all3[\"Kategori Adı\"],\n",
    "                 horizon_saha_df_all3[\"Kategori Adı\"]], axis=0, ignore_index=True)\n",
    "\n",
    "\n",
    "kategori_kanal = pd.concat([pasifik_df_all3[[\"Grup adı\", \"Kategori Adı\"]], \n",
    "                 btt_df_all3[[\"Grup adı\", \"Kategori Adı\"]],\n",
    "                 horizon_saha_df_all3[[\"Grup adı\", \"Kategori Adı\"]]], axis=0, ignore_index=True).drop_duplicates(subset=[\"Grup adı\", \"Kategori Adı\"]).reset_index(drop=True)\n",
    "\n",
    "\n",
    "only_sku = only_sku.drop_duplicates().sort_values().reset_index(drop=True)\n",
    "sku = sku.drop_duplicates(subset=sku.columns.to_list()).sort_values(by=sku.columns.to_list()).reset_index(drop=True)\n",
    "kategori_all = kategori_all.drop_duplicates().sort_values().reset_index(drop=True)\n",
    "kategori_kanal = kategori_kanal.sort_values(by=kategori_kanal.columns.to_list()).reset_index(drop=True)\n",
    "\n",
    "kategori_bazli_urun_sayilari = pd.concat([pasifik_df_all3[[\"Grup adı\", \"Kategori Adı\", \"En Güncel Kod\"]], \n",
    "                 btt_df_all3[[\"Grup adı\", \"Kategori Adı\", \"En Güncel Kod\"]],\n",
    "                 horizon_saha_df_all3[[\"Grup adı\", \"Kategori Adı\", \"En Güncel Kod\"]]], \n",
    "                           axis=0, ignore_index=True).drop_duplicates(subset=[\"Grup adı\", \n",
    "                                                                              \"Kategori Adı\", \n",
    "                                                                              \"En Güncel Kod\"]).sort_values(by=[\"Grup adı\", \n",
    "                                                                                                                \"Kategori Adı\", \n",
    "                                                                                                                \"En Güncel Kod\"]).reset_index(drop=True)\n",
    "\n",
    "kategori_bazli_urun_sayilari = kategori_bazli_urun_sayilari.groupby([\"Grup adı\", \"Kategori Adı\"]).agg(\"count\").reset_index()\n",
    "\n",
    "\n",
    "writer_sku = pd.ExcelWriter(\"../reports/SKU_kodlari.xlsx\", engine = 'xlsxwriter')\n",
    "\n",
    "only_sku.to_excel(writer_sku, sheet_name='tum_sku', index=False)\n",
    "sku.to_excel(writer_sku, sheet_name='grup_adina_gore_sku', index=False)\n",
    "kategori_all.to_excel(writer_sku, sheet_name='kategori_tumu', index=False)\n",
    "kategori_kanal.to_excel(writer_sku, sheet_name='kategori_kanallara_gore', index=False)\n",
    "kategori_bazli_urun_sayilari.to_excel(writer_sku, sheet_name='kanal_kat_gore_sku_sayilari', index=False)\n",
    "\n",
    "\n",
    "writer_sku.save()\n",
    "writer_sku.close()"
   ]
  },
  {
   "cell_type": "markdown",
   "metadata": {},
   "source": [
    "---"
   ]
  },
  {
   "cell_type": "markdown",
   "metadata": {},
   "source": [
    "---"
   ]
  },
  {
   "cell_type": "markdown",
   "metadata": {},
   "source": [
    "# Eşlenik Kod (En Güncel Kod) kısmında yer almayan Ürün Kod'ları"
   ]
  },
  {
   "cell_type": "markdown",
   "metadata": {},
   "source": [
    "---"
   ]
  },
  {
   "cell_type": "markdown",
   "metadata": {},
   "source": [
    "---"
   ]
  },
  {
   "cell_type": "code",
   "execution_count": 101,
   "metadata": {},
   "outputs": [],
   "source": [
    "diff_pasifik = list(set(eslenik_kod_df[\"En Güncel Kod\"].unique()) - set(pasifik_df_all3[\"En Güncel Kod\"].unique()))\n",
    "diff_btt = list(set(eslenik_kod_df[\"En Güncel Kod\"].unique()) - set(btt_df_all3[\"En Güncel Kod\"].unique()))\n",
    "diff_horizon = list(set(eslenik_kod_df[\"En Güncel Kod\"].unique()) - set(horizon_saha_df_all3[\"En Güncel Kod\"].unique()))\n",
    "\n",
    "diff_pasifik = pd.DataFrame({\"En Güncel Kod\": diff_pasifik, \"Kanal\": [\"Pasifik\"]*len(diff_pasifik)})\n",
    "diff_btt = pd.DataFrame({\"En Güncel Kod\": diff_btt, \"Kanal\": [\"BTT\"]*len(diff_btt)})\n",
    "diff_horizon = pd.DataFrame({\"En Güncel Kod\": diff_horizon, \"Kanal\": [\"Horizon\"]*len(diff_horizon)})\n",
    "\n",
    "pd.concat([diff_pasifik, diff_btt, diff_horizon], axis=0, ignore_index=True).to_excel(\"../reports/urun_kodu_historik_datada_olmayan_sku.xlsx\", index=False)"
   ]
  },
  {
   "cell_type": "markdown",
   "metadata": {},
   "source": [
    "---"
   ]
  },
  {
   "cell_type": "markdown",
   "metadata": {},
   "source": [
    "---"
   ]
  },
  {
   "cell_type": "markdown",
   "metadata": {},
   "source": [
    "# Fiyat Geçiş Bilgisi Verilmeyen SKU'lar"
   ]
  },
  {
   "cell_type": "code",
   "execution_count": 102,
   "metadata": {},
   "outputs": [],
   "source": [
    "p_fiyat_yok = pasifik_df_all3[pd.isnull(pasifik_df_all3[\"Fiyat\"])][[\"En Güncel Kod\", \"Date\"]].drop_duplicates().reset_index(drop=True)\n",
    "p_fiyat_yok[\"Kanal\"] = \"Pasifik\"\n",
    "p_fiyat_yok.sort_values(by=[\"En Güncel Kod\", \"Date\"], ignore_index=True, inplace=True)"
   ]
  },
  {
   "cell_type": "code",
   "execution_count": 103,
   "metadata": {},
   "outputs": [],
   "source": [
    "h_fiyat_yok = horizon_saha_df_all3[pd.isnull(horizon_saha_df_all3[\"Fiyat\"])][[\"En Güncel Kod\", \"Date\"]].drop_duplicates().reset_index(drop=True)\n",
    "h_fiyat_yok[\"Kanal\"] = \"Horizon\"\n",
    "h_fiyat_yok.sort_values(by=[\"En Güncel Kod\", \"Date\"], ignore_index=True, inplace=True)"
   ]
  },
  {
   "cell_type": "code",
   "execution_count": 104,
   "metadata": {},
   "outputs": [],
   "source": [
    "pd.concat([h_fiyat_yok, p_fiyat_yok], axis=0).to_excel(\"../reports/fiyat_bilgisi_verilmeyen_skular.xlsx\", index=False)"
   ]
  },
  {
   "cell_type": "markdown",
   "metadata": {},
   "source": [
    "# Sütun İsimlerini İngilizce Karaktere Çevirme"
   ]
  },
  {
   "cell_type": "code",
   "execution_count": 105,
   "metadata": {},
   "outputs": [],
   "source": [
    "chng_letters = list(zip([\"ç\", \"ğ\", \"ı\", \"ö\", \"ş\", \"ü\", \" \", \"%\", \".\", \"(\", \")\", \"-\"], \n",
    "                        [\"c\", \"g\", \"i\", \"o\", \"s\", \"u\", \"_\", \"\", \"\", \"\", \"\", \"_\"]))"
   ]
  },
  {
   "cell_type": "code",
   "execution_count": 106,
   "metadata": {},
   "outputs": [],
   "source": [
    "pasifik_new_cols = []\n",
    "for col in pasifik_df_all3.columns.str.lower():\n",
    "    for letter in range(len(chng_letters)):\n",
    "        col = col.replace(chng_letters[letter][0], chng_letters[letter][1])\n",
    "        if letter == len(chng_letters) - 1:\n",
    "            pasifik_new_cols.append(col)\n",
    "        else:\n",
    "            pass"
   ]
  },
  {
   "cell_type": "code",
   "execution_count": 107,
   "metadata": {},
   "outputs": [],
   "source": [
    "btt_new_cols = []\n",
    "for col in btt_df_all3.columns.str.lower():\n",
    "    for letter in range(len(chng_letters)):\n",
    "        col = col.replace(chng_letters[letter][0], chng_letters[letter][1])\n",
    "        if letter == len(chng_letters) - 1:\n",
    "            btt_new_cols.append(col)\n",
    "        else:\n",
    "            pass"
   ]
  },
  {
   "cell_type": "code",
   "execution_count": 108,
   "metadata": {},
   "outputs": [],
   "source": [
    "horizon_new_cols = []\n",
    "for col in horizon_saha_df_all3.columns.str.lower():\n",
    "    for letter in range(len(chng_letters)):\n",
    "        col = col.replace(chng_letters[letter][0], chng_letters[letter][1])\n",
    "        if letter == len(chng_letters) - 1:\n",
    "            horizon_new_cols.append(col)\n",
    "        else:\n",
    "            pass"
   ]
  },
  {
   "cell_type": "code",
   "execution_count": 109,
   "metadata": {},
   "outputs": [],
   "source": [
    "enflasyon_new_cols = []\n",
    "for col in enflasyon_df.columns.str.lower():\n",
    "    for letter in range(len(chng_letters)):\n",
    "        col = col.replace(chng_letters[letter][0], chng_letters[letter][1])\n",
    "        if letter == len(chng_letters) - 1:\n",
    "            enflasyon_new_cols.append(col)\n",
    "        else:\n",
    "            pass"
   ]
  },
  {
   "cell_type": "code",
   "execution_count": 110,
   "metadata": {},
   "outputs": [],
   "source": [
    "pasifik_df_all3.columns = pasifik_new_cols"
   ]
  },
  {
   "cell_type": "code",
   "execution_count": 111,
   "metadata": {},
   "outputs": [],
   "source": [
    "btt_df_all3.columns = btt_new_cols"
   ]
  },
  {
   "cell_type": "code",
   "execution_count": 112,
   "metadata": {},
   "outputs": [],
   "source": [
    "horizon_saha_df_all3.columns = horizon_new_cols"
   ]
  },
  {
   "cell_type": "code",
   "execution_count": 113,
   "metadata": {},
   "outputs": [],
   "source": [
    "enflasyon_df.columns = enflasyon_new_cols"
   ]
  },
  {
   "cell_type": "markdown",
   "metadata": {},
   "source": [
    "---\n",
    "# Pasifikte Aktivite Tipi Verisi Eksik Olan Verilere \"Yok\" yazıldı\n",
    "---"
   ]
  },
  {
   "cell_type": "code",
   "execution_count": 114,
   "metadata": {},
   "outputs": [],
   "source": [
    "pasifik_df_all3[\"aktivite_tipi\"].fillna(\"Yok\", inplace=True)"
   ]
  },
  {
   "cell_type": "markdown",
   "metadata": {},
   "source": [
    "---\n",
    "# Enflasyon Verilerinin Eklenmesi\n",
    "---"
   ]
  },
  {
   "cell_type": "code",
   "execution_count": 115,
   "metadata": {},
   "outputs": [],
   "source": [
    "pasifik_df_all3 = pasifik_df_all3.merge(enflasyon_df, on=[\"date\"], how=\"left\")\n",
    "horizon_saha_df_all3 = horizon_saha_df_all3.merge(enflasyon_df, on=[\"date\"], how=\"left\")\n",
    "btt_df_all3 = btt_df_all3.merge(enflasyon_df, on=[\"date\"], how=\"left\")"
   ]
  },
  {
   "cell_type": "markdown",
   "metadata": {},
   "source": [
    "---\n",
    "# Gözlemlerin Sırasının Fiyatın Büyükten Küçüğe Sıralanmasına Göre Düzenlenmesi (SKU bazında fiyat benzerliği pattern'i yakalamak amacıyla yapıldı)\n",
    "---"
   ]
  },
  {
   "cell_type": "code",
   "execution_count": 116,
   "metadata": {},
   "outputs": [],
   "source": [
    "sorter = pasifik_df_all3.groupby([\"en_guncel_kod\"]).agg({\"fiyat\": \"max\"}).reset_index().sort_values(by=\"fiyat\", ascending=False)[\"en_guncel_kod\"].to_list()\n",
    "sorterIndex = dict(zip(sorter, range(len(sorter))))\n",
    "pasifik_df_sorted = pasifik_df_all3.copy()\n",
    "pasifik_df_sorted[\"sorted\"] = pasifik_df_sorted[\"en_guncel_kod\"].map(sorterIndex)\n",
    "pasifik_df_sorted.sort_values(['sorted', \"grup_adi\", \"yil\", \"ay\"],\n",
    "        ascending = [True]*4, inplace = True)\n",
    "pasifik_df_sorted.drop('sorted', 1, inplace = True)\n",
    "pasifik_df_sorted.reset_index(drop=True, inplace=True)"
   ]
  },
  {
   "cell_type": "code",
   "execution_count": 117,
   "metadata": {},
   "outputs": [],
   "source": [
    "sorter = horizon_saha_df_all3.groupby([\"en_guncel_kod\"]).agg({\"fiyat\": \"max\"}).reset_index().sort_values(by=\"fiyat\", ascending=False)[\"en_guncel_kod\"].to_list()\n",
    "sorterIndex = dict(zip(sorter, range(len(sorter))))\n",
    "horizon_saha_df_sorted = horizon_saha_df_all3.copy()\n",
    "horizon_saha_df_sorted[\"sorted\"] = horizon_saha_df_sorted[\"en_guncel_kod\"].map(sorterIndex)\n",
    "horizon_saha_df_sorted.sort_values(['sorted', \"grup_adi\", \"yil\", \"ay\"],\n",
    "        ascending = [True]*4, inplace = True)\n",
    "horizon_saha_df_sorted.drop('sorted', 1, inplace = True)\n",
    "horizon_saha_df_sorted.reset_index(drop=True, inplace=True)"
   ]
  },
  {
   "cell_type": "code",
   "execution_count": 118,
   "metadata": {},
   "outputs": [],
   "source": [
    "sorter = btt_df_all3.groupby([\"en_guncel_kod\"]).agg({\"fiyat\": \"max\"}).reset_index().sort_values(by=\"fiyat\", ascending=False)[\"en_guncel_kod\"].to_list()\n",
    "sorterIndex = dict(zip(sorter, range(len(sorter))))\n",
    "btt_df_sorted = btt_df_all3.copy()\n",
    "btt_df_sorted[\"sorted\"] = btt_df_sorted[\"en_guncel_kod\"].map(sorterIndex)\n",
    "btt_df_sorted.sort_values(['sorted', \"grup_adi\", \"yil\", \"ay\"],\n",
    "        ascending = [True]*4, inplace = True)\n",
    "btt_df_sorted.drop('sorted', 1, inplace = True)\n",
    "btt_df_sorted.reset_index(drop=True, inplace=True)"
   ]
  },
  {
   "cell_type": "markdown",
   "metadata": {},
   "source": [
    "---\n",
    "## Pasifik Aktivite: 0'dan küçük değerler alınmayacak\n",
    "## Horziond Aktivite: %1 ve %35 arası değerler alınacak\n",
    "---"
   ]
  },
  {
   "cell_type": "code",
   "execution_count": 119,
   "metadata": {},
   "outputs": [],
   "source": [
    "pasifik_df_sorted[\"indirim_\"] = [0 if akt < 0 else akt for akt in pasifik_df_sorted[\"i̇ndirim_\"]]\n",
    "pasifik_df_sorted.drop(\"i̇ndirim_\", axis=1, inplace=True)"
   ]
  },
  {
   "cell_type": "code",
   "execution_count": 120,
   "metadata": {},
   "outputs": [],
   "source": [
    "btt_df_sorted[\"iskonto_\"] = [0 if ((akt >= 0.35) or (akt <=0.01)) else akt for akt in btt_df_sorted[\"i̇skonto_\"]]\n",
    "btt_df_sorted.drop(\"i̇skonto_\", axis=1, inplace=True)"
   ]
  },
  {
   "cell_type": "code",
   "execution_count": 121,
   "metadata": {},
   "outputs": [],
   "source": [
    "horizon_saha_df_sorted[\"iskonto_\"] = [0 if ((akt >= 0.35) or (akt <=0.01)) else akt for akt in horizon_saha_df_sorted[\"i̇skonto_\"]]\n",
    "horizon_saha_df_sorted.drop(\"i̇skonto_\", axis=1, inplace=True)"
   ]
  },
  {
   "cell_type": "markdown",
   "metadata": {},
   "source": [
    "---\n",
    "## Satış Olmayan Aylar Flaglendi\n",
    "---"
   ]
  },
  {
   "cell_type": "code",
   "execution_count": 122,
   "metadata": {},
   "outputs": [],
   "source": [
    "pasifik_df_sorted[\"satis_var\"] = [0 if adet <= 1 else 1 for adet in pasifik_df_sorted[\"adet\"]]"
   ]
  },
  {
   "cell_type": "code",
   "execution_count": 123,
   "metadata": {},
   "outputs": [],
   "source": [
    "btt_df_sorted[\"satis_var\"] = [0 if adet <= 1 else 1 for adet in btt_df_sorted[\"adet\"]]"
   ]
  },
  {
   "cell_type": "code",
   "execution_count": 124,
   "metadata": {},
   "outputs": [],
   "source": [
    "horizon_saha_df_sorted[\"satis_var\"] = [0 if adet <= 1 else 1 for adet in horizon_saha_df_sorted[\"adet\"]]"
   ]
  },
  {
   "cell_type": "code",
   "execution_count": 125,
   "metadata": {},
   "outputs": [],
   "source": [
    "df_pasifik = pasifik_df_sorted.copy()\n",
    "df_btt = btt_df_sorted.copy()\n",
    "df_horizon = horizon_saha_df_sorted.copy()"
   ]
  },
  {
   "cell_type": "markdown",
   "metadata": {},
   "source": [
    "---\n",
    "# Sütun isim uzunluğunun 32'yi geçmemesi için\n",
    "---"
   ]
  },
  {
   "cell_type": "code",
   "execution_count": 126,
   "metadata": {},
   "outputs": [],
   "source": [
    "df_pasifik.columns = [i[:32] if len(i) > 32 else i for i in df_pasifik.columns]"
   ]
  },
  {
   "cell_type": "code",
   "execution_count": 127,
   "metadata": {},
   "outputs": [],
   "source": [
    "df_btt.columns = [i[:32] if len(i) > 32 else i for i in df_btt.columns]"
   ]
  },
  {
   "cell_type": "code",
   "execution_count": 128,
   "metadata": {},
   "outputs": [],
   "source": [
    "df_horizon.columns = [i[:32] if len(i) > 32 else i for i in df_horizon.columns]"
   ]
  },
  {
   "cell_type": "markdown",
   "metadata": {},
   "source": [
    "---\n",
    "# Sales datasındaki son yıl ve aya kadar ulaşmayan, yarıda kesilen verilerin, son tarihe kadar NaN ile doldurulması\n",
    "## Sales verisindeki en son tarih Haziran 2021 ise, herhangi bir SKU'nun son gözlemi Şubat 2019'da olsa dahi Haizran 2021'e kadar devam ettiriliyor\n",
    "---"
   ]
  },
  {
   "cell_type": "code",
   "execution_count": 129,
   "metadata": {},
   "outputs": [],
   "source": [
    "btt_and_horizon_cols_to_drop = [\"grup_adi\", \"ana_kategori_adi\", \"kategori_adi\", \"marka_adi\",\n",
    "                                \"urun_adi\", \"en_guncel_kod\", \"portfoy\", \"koli_i̇ci_adet\", \"koli\", \"kg\", \"tl\", \"adet\", \n",
    "                                \"fiyat\", \"fiyat_gecisi\", \"ciro_kull_i̇ade_dus\", \"promosyon_tutari\",\n",
    "                                \"iskonto_\", \"satis_var\"]\n",
    "\n",
    "pasifik_cols_to_drop = [\"grup_adi\", \"ana_kategori_adi\", \"kategori_adi\", \"marka_adi\",\n",
    "                        \"urun_adi\", \"en_guncel_kod\", \"portfoy\", \"koli_i̇ci_adet\", \"koli\", \"kg\", \"tl\", \"adet\",\n",
    "                        \"fiyat\", \"fiyat_gecisi\", \"raf_tavsiye_satis_fiyati\", \"i̇ndirimli_raf_satis_fiyati\",\n",
    "                        \"aktivite_tipi\", \"indirim_\", \"satis_var\"]"
   ]
  },
  {
   "cell_type": "code",
   "execution_count": 130,
   "metadata": {},
   "outputs": [],
   "source": [
    "pasifik_template = df_pasifik.drop(columns=pasifik_cols_to_drop, axis=1)\n",
    "pasifik_template = pasifik_template.drop_duplicates(subset=pasifik_template.columns.to_list()).sort_values(by=[\"yil\", \"ay\"])"
   ]
  },
  {
   "cell_type": "code",
   "execution_count": 131,
   "metadata": {},
   "outputs": [],
   "source": [
    "btt_template = df_btt.drop(columns=btt_and_horizon_cols_to_drop, axis=1)\n",
    "btt_template = btt_template.drop_duplicates(subset=btt_template.columns.to_list()).sort_values(by=[\"yil\", \"ay\"])"
   ]
  },
  {
   "cell_type": "code",
   "execution_count": 132,
   "metadata": {},
   "outputs": [],
   "source": [
    "horizon_template = df_horizon.drop(columns=btt_and_horizon_cols_to_drop, axis=1)\n",
    "horizon_template = horizon_template.drop_duplicates(subset=horizon_template.columns.to_list()).sort_values(by=[\"yil\", \"ay\"])"
   ]
  },
  {
   "cell_type": "code",
   "execution_count": 133,
   "metadata": {},
   "outputs": [],
   "source": [
    "pas_date = pasifik_df_sorted.date.drop_duplicates().sort_values().reset_index(drop=True)\n",
    "hor_date = horizon_saha_df_sorted.date.drop_duplicates().sort_values().reset_index(drop=True)\n",
    "btt_date = btt_df_sorted.date.drop_duplicates().sort_values().reset_index(drop=True)"
   ]
  },
  {
   "cell_type": "code",
   "execution_count": 134,
   "metadata": {},
   "outputs": [],
   "source": [
    "pasifik_sku_fill = []\n",
    "pasifik_grup_fill = []\n",
    "for sku in df_pasifik[\"en_guncel_kod\"].unique():\n",
    "    for grup in df_pasifik[\"grup_adi\"].unique():\n",
    "        temp = df_pasifik[(df_pasifik[\"en_guncel_kod\"] == sku) & (df_pasifik[\"grup_adi\"] == grup)].reset_index(drop=True)\n",
    "        if temp[\"date\"].max() < pasifik_template[\"date\"].max():\n",
    "            pasifik_sku_fill.append(sku)\n",
    "            pasifik_grup_fill.append(grup)\n",
    "        else:\n",
    "            pass\n",
    "        \n",
    "        temp_date = pd.DataFrame(pas_date)[pd.DataFrame(pas_date)[\"date\"] >= temp[\"date\"].min()]\n",
    "        \n",
    "        if len(temp_date) == 0:\n",
    "            pass\n",
    "        else:\n",
    "            pasifik_sku_fill.append(sku)\n",
    "            pasifik_grup_fill.append(grup)"
   ]
  },
  {
   "cell_type": "code",
   "execution_count": 135,
   "metadata": {},
   "outputs": [],
   "source": [
    "btt_sku_fill = []\n",
    "btt_grup_fill = []\n",
    "for sku in df_btt[\"en_guncel_kod\"].unique():\n",
    "    for grup in df_btt[\"grup_adi\"].unique():\n",
    "        temp = df_btt[(df_btt[\"en_guncel_kod\"] == sku) & (df_btt[\"grup_adi\"] == grup)].reset_index(drop=True)\n",
    "        if temp[\"date\"].max() < btt_template[\"date\"].max():\n",
    "            btt_sku_fill.append(sku)\n",
    "            btt_grup_fill.append(grup)\n",
    "        else:\n",
    "            pass\n",
    "\n",
    "        temp_date = pd.DataFrame(btt_date)[pd.DataFrame(btt_date)[\"date\"] >= temp[\"date\"].min()]\n",
    "        \n",
    "        if len(temp_date) == 0:\n",
    "            pass\n",
    "        else:\n",
    "            btt_sku_fill.append(sku)\n",
    "            btt_grup_fill.append(grup)"
   ]
  },
  {
   "cell_type": "code",
   "execution_count": 136,
   "metadata": {},
   "outputs": [],
   "source": [
    "horizon_sku_fill = []\n",
    "horizon_grup_fill = []\n",
    "for sku in df_horizon[\"en_guncel_kod\"].unique():\n",
    "    for grup in df_horizon[\"grup_adi\"].unique():\n",
    "        temp = df_horizon[(df_horizon[\"en_guncel_kod\"] == sku) & (df_horizon[\"grup_adi\"] == grup)].reset_index(drop=True)\n",
    "        if temp[\"date\"].max() < horizon_template[\"date\"].max():\n",
    "            horizon_sku_fill.append(sku)\n",
    "            horizon_grup_fill.append(grup)\n",
    "        else:\n",
    "            pass\n",
    "\n",
    "        temp_date = pd.DataFrame(hor_date)[pd.DataFrame(hor_date)[\"date\"] >= temp[\"date\"].min()]\n",
    "        \n",
    "        if len(temp_date) == 0:\n",
    "            pass\n",
    "        else:\n",
    "            horizon_sku_fill.append(sku)\n",
    "            horizon_grup_fill.append(grup)"
   ]
  },
  {
   "cell_type": "code",
   "execution_count": 137,
   "metadata": {},
   "outputs": [
    {
     "name": "stdout",
     "output_type": "stream",
     "text": [
      "Datanın ilgili kanaldaki son tarihe kadar uzatılması işlemi 18838 days, 13 saat, 42 dakika, 19.19 saniye sürmüştür.\n"
     ]
    }
   ],
   "source": [
    "end = time.time()\n",
    "total_time = str(timedelta(seconds=end-start))[:-4].split(\":\")\n",
    "print(f\"Datanın ilgili kanaldaki son tarihe kadar uzatılması işlemi {total_time[0]} saat, {total_time[1]} dakika, {total_time[2]} saniye sürmüştür.\")"
   ]
  },
  {
   "cell_type": "code",
   "execution_count": 138,
   "metadata": {},
   "outputs": [],
   "source": [
    "dfs_pasifik_to_append = []\n",
    "\n",
    "ffill_cols = ['grup_adi', 'ana_kategori_adi', 'kategori_adi',\n",
    "             'marka_adi', 'urun_adi', 'en_guncel_kod', \"portfoy\"]\n",
    "\n",
    "zero_fill_cols = ['koli_i̇ci_adet', 'koli', 'kg', 'tl', 'satis_var']\n",
    "\n",
    "one_fill_cols = [\"adet\"]\n",
    "\n",
    "for row in range(len(pasifik_sku_fill)):\n",
    "    temp = df_pasifik[(df_pasifik[\"en_guncel_kod\"] == pasifik_sku_fill[row]) & \n",
    "                      (df_pasifik[\"grup_adi\"] == pasifik_grup_fill[row])].reset_index(drop=True)\n",
    "    \n",
    "    pasifik_template2 = pasifik_template[pasifik_template[\"date\"] > temp.date.max()].reset_index(drop=True)    \n",
    "    df_to_append = temp.merge(pasifik_template2, how=\"outer\", on=list(set(temp).intersection(set(pasifik_template2))))\n",
    "    \n",
    "    temp_date = pd.DataFrame(pas_date)[pd.DataFrame(pas_date)[\"date\"] >= df_to_append[\"date\"].min()][\"date\"]\n",
    "    date_df = pd.DataFrame(list(set(temp_date) - set(df_to_append[\"date\"])), columns=[\"date\"])\n",
    "    \n",
    "    if len(date_df) == 0:\n",
    "        pass\n",
    "    else:\n",
    "        df_to_append = df_to_append.merge(date_df, how=\"outer\", on=\"date\")\n",
    "        df_to_append[\"yil\"] = df_to_append[\"date\"].apply(lambda x: x.date().year)\n",
    "        df_to_append[\"ay\"] = df_to_append[\"date\"].apply(lambda x: x.date().month)\n",
    "        df_to_append = df_to_append.merge(pasifik_template2, how=\"outer\", on=list(set(df_to_append).intersection(set(pasifik_template2))))\n",
    "\n",
    "    for f in ffill_cols:\n",
    "        df_to_append[f].fillna(method=\"ffill\", inplace=True)\n",
    "    \n",
    "    for z in zero_fill_cols:\n",
    "        df_to_append[z].fillna(0, inplace=True)\n",
    "    \n",
    "    for o in one_fill_cols:\n",
    "        df_to_append[o].fillna(1, inplace=True)\n",
    "    dfs_pasifik_to_append.append(df_to_append)"
   ]
  },
  {
   "cell_type": "code",
   "execution_count": 139,
   "metadata": {},
   "outputs": [],
   "source": [
    "dfs_horizon_to_append = []\n",
    "\n",
    "ffill_cols = ['grup_adi', 'ana_kategori_adi', 'kategori_adi',\n",
    "             'marka_adi', 'urun_adi', 'en_guncel_kod', \"portfoy\"]\n",
    "\n",
    "zero_fill_cols = ['koli_i̇ci_adet', 'koli', 'kg', 'tl', 'satis_var']\n",
    "\n",
    "one_fill_cols = [\"adet\"]\n",
    "\n",
    "for row in range(len(horizon_sku_fill)):\n",
    "    temp = df_horizon[(df_horizon[\"en_guncel_kod\"] == horizon_sku_fill[row]) & \n",
    "                      (df_horizon[\"grup_adi\"] == horizon_grup_fill[row])].reset_index(drop=True)\n",
    "    \n",
    "    horizon_template2 = horizon_template[horizon_template[\"date\"] > temp.date.max()].reset_index(drop=True)\n",
    "    df_to_append = temp.merge(horizon_template2, how=\"outer\", on=list(set(temp).intersection(set(horizon_template2))))\n",
    "    \n",
    "    temp_date = pd.DataFrame(hor_date)[pd.DataFrame(hor_date)[\"date\"] >= df_to_append[\"date\"].min()][\"date\"]\n",
    "    date_df = pd.DataFrame(list(set(temp_date) - set(df_to_append[\"date\"])), columns=[\"date\"])\n",
    "    \n",
    "    if len(date_df) == 0:\n",
    "        pass\n",
    "    else:\n",
    "        df_to_append = df_to_append.merge(date_df, how=\"outer\", on=\"date\")\n",
    "        df_to_append[\"yil\"] = df_to_append[\"date\"].apply(lambda x: x.date().year)\n",
    "        df_to_append[\"ay\"] = df_to_append[\"date\"].apply(lambda x: x.date().month)\n",
    "        df_to_append = df_to_append.merge(horizon_template2, how=\"outer\", on=list(set(df_to_append).intersection(set(horizon_template2))))\n",
    "\n",
    "    for f in ffill_cols:\n",
    "        df_to_append[f].fillna(method=\"ffill\", inplace=True)\n",
    "    \n",
    "    for z in zero_fill_cols:\n",
    "        df_to_append[z].fillna(0, inplace=True)\n",
    "    \n",
    "    for o in one_fill_cols:\n",
    "        df_to_append[o].fillna(1, inplace=True)\n",
    "    dfs_horizon_to_append.append(df_to_append)"
   ]
  },
  {
   "cell_type": "code",
   "execution_count": 140,
   "metadata": {},
   "outputs": [],
   "source": [
    "dfs_btt_to_append = []\n",
    "\n",
    "ffill_cols = ['grup_adi', 'ana_kategori_adi', 'kategori_adi',\n",
    "             'marka_adi', 'urun_adi', 'en_guncel_kod', \"portfoy\"]\n",
    "\n",
    "zero_fill_cols = ['koli_i̇ci_adet', 'koli', 'kg', 'tl', 'satis_var']\n",
    "\n",
    "one_fill_cols = [\"adet\"]\n",
    "\n",
    "for row in range(len(btt_sku_fill)):\n",
    "    temp = df_btt[(df_btt[\"en_guncel_kod\"] == btt_sku_fill[row]) & \n",
    "                  (df_btt[\"grup_adi\"] == btt_grup_fill[row])].reset_index(drop=True)\n",
    "    \n",
    "    btt_template2 = btt_template[btt_template[\"date\"] > temp.date.max()].reset_index(drop=True)\n",
    "\n",
    "    df_to_append = temp.merge(btt_template2, how=\"outer\", on=list(set(temp).intersection(set(btt_template2))))\n",
    "    \n",
    "    temp_date = pd.DataFrame(btt_date)[pd.DataFrame(btt_date)[\"date\"] >= df_to_append[\"date\"].min()][\"date\"]\n",
    "    date_df = pd.DataFrame(list(set(temp_date) - set(df_to_append[\"date\"])), columns=[\"date\"])\n",
    "    \n",
    "    if len(date_df) == 0:\n",
    "        pass\n",
    "    else:\n",
    "        df_to_append = df_to_append.merge(date_df, how=\"outer\", on=\"date\")\n",
    "        df_to_append[\"yil\"] = df_to_append[\"date\"].apply(lambda x: x.date().year)\n",
    "        df_to_append[\"ay\"] = df_to_append[\"date\"].apply(lambda x: x.date().month)\n",
    "        df_to_append = df_to_append.merge(btt_template2, how=\"outer\", on=list(set(df_to_append).intersection(set(btt_template2))))\n",
    "\n",
    "    for f in ffill_cols:\n",
    "        df_to_append[f].fillna(method=\"ffill\", inplace=True)\n",
    "    \n",
    "    for z in zero_fill_cols:\n",
    "        df_to_append[z].fillna(0, inplace=True)\n",
    "    \n",
    "    for o in one_fill_cols:\n",
    "        df_to_append[o].fillna(1, inplace=True)\n",
    "    dfs_btt_to_append.append(df_to_append)"
   ]
  },
  {
   "cell_type": "code",
   "execution_count": 141,
   "metadata": {},
   "outputs": [
    {
     "name": "stdout",
     "output_type": "stream",
     "text": [
      "Kapsamı belirleyecek olan değişkenlerin eklenmesi işlemi 18838 days, 13 saat, 48 dakika, 28.73 saniye sürmüştür.\n"
     ]
    }
   ],
   "source": [
    "end = time.time()\n",
    "total_time = str(timedelta(seconds=end-start))[:-4].split(\":\")\n",
    "print(f\"Kapsamı belirleyecek olan değişkenlerin eklenmesi işlemi {total_time[0]} saat, {total_time[1]} dakika, {total_time[2]} saniye sürmüştür.\")"
   ]
  },
  {
   "cell_type": "code",
   "execution_count": 142,
   "metadata": {},
   "outputs": [],
   "source": [
    "df_pasifik2 = df_pasifik.copy()\n",
    "df_horizon2 = df_horizon.copy()\n",
    "df_btt2 = df_btt.copy()"
   ]
  },
  {
   "cell_type": "code",
   "execution_count": 143,
   "metadata": {},
   "outputs": [],
   "source": [
    "dfs_pasifik_to_append = pd.concat(dfs_pasifik_to_append)\n",
    "dfs_horizon_to_append = pd.concat(dfs_horizon_to_append)\n",
    "dfs_btt_to_append = pd.concat(dfs_btt_to_append)"
   ]
  },
  {
   "cell_type": "code",
   "execution_count": 144,
   "metadata": {},
   "outputs": [],
   "source": [
    "df_pasifik3 = pd.concat([df_pasifik2, dfs_pasifik_to_append], axis=0, ignore_index=True)\n",
    "df_pasifik3.drop_duplicates(subset=df_pasifik3.columns.to_list(), ignore_index=True, inplace=True)\n",
    "\n",
    "df_horizon3 = pd.concat([df_horizon2, dfs_horizon_to_append], axis=0, ignore_index=True)\n",
    "df_horizon3.drop_duplicates(subset=df_horizon3.columns.to_list(), ignore_index=True, inplace=True)\n",
    "\n",
    "df_btt3 = pd.concat([df_btt2, dfs_btt_to_append], axis=0, ignore_index=True)\n",
    "df_btt3.drop_duplicates(subset=df_btt3.columns.to_list(), ignore_index=True, inplace=True)"
   ]
  },
  {
   "cell_type": "code",
   "execution_count": 145,
   "metadata": {},
   "outputs": [],
   "source": [
    "p_fiyat_unique.rename(columns={\"Date\": \"date\", \"En Güncel Kod\": \"en_guncel_kod\", \"Fiyat\": \"fiyat\"}, inplace=True)"
   ]
  },
  {
   "cell_type": "code",
   "execution_count": 146,
   "metadata": {},
   "outputs": [],
   "source": [
    "h_fiyat_unique.rename(columns={\"Date\": \"date\", \"En Güncel Kod\": \"en_guncel_kod\", \"Fiyat\": \"fiyat\"}, inplace=True)"
   ]
  },
  {
   "cell_type": "code",
   "execution_count": 147,
   "metadata": {},
   "outputs": [],
   "source": [
    "df_pasifik4 = df_pasifik3.drop(columns=['fiyat', 'fiyat_gecisi'], axis=1)\n",
    "df_pasifik4 = df_pasifik4.merge(p_fiyat_unique, how=\"left\", on=[\"date\", \"en_guncel_kod\"])\n",
    "\n",
    "df_horizon4 = df_horizon3.drop(columns=['fiyat', 'fiyat_gecisi'], axis=1)\n",
    "df_horizon4 = df_horizon4.merge(h_fiyat_unique, how=\"left\", on=[\"date\", \"en_guncel_kod\"])\n",
    "\n",
    "df_btt4 = df_btt3.drop(columns=['fiyat', 'fiyat_gecisi'], axis=1)\n",
    "df_btt4 = df_btt4.merge(h_fiyat_unique, how=\"left\", on=[\"date\", \"en_guncel_kod\"])"
   ]
  },
  {
   "cell_type": "code",
   "execution_count": 148,
   "metadata": {},
   "outputs": [],
   "source": [
    "chng_letters = list(zip([\"ç\", \"ğ\", \"ı\", \"ö\", \"ş\", \"ü\", \" \", \"%\", \".\", \"(\", \")\", \"-\"], \n",
    "                        [\"c\", \"g\", \"i\", \"o\", \"s\", \"u\", \"_\", \"\", \"\", \"\", \"\", \"_\"]))"
   ]
  },
  {
   "cell_type": "code",
   "execution_count": 149,
   "metadata": {},
   "outputs": [],
   "source": [
    "p_aktivite_new_cols = []\n",
    "for col in pasifik_aktivite_df3.columns.str.lower():\n",
    "    for letter in range(len(chng_letters)):\n",
    "        col = col.replace(chng_letters[letter][0], chng_letters[letter][1])\n",
    "        if letter == len(chng_letters) - 1:\n",
    "            p_aktivite_new_cols.append(col)\n",
    "        else:\n",
    "            pass"
   ]
  },
  {
   "cell_type": "code",
   "execution_count": 150,
   "metadata": {},
   "outputs": [],
   "source": [
    "h_aktivite_new_cols = []\n",
    "for col in saha_aktivite_detay3.columns.str.lower():\n",
    "    for letter in range(len(chng_letters)):\n",
    "        col = col.replace(chng_letters[letter][0], chng_letters[letter][1])\n",
    "        if letter == len(chng_letters) - 1:\n",
    "            h_aktivite_new_cols.append(col)\n",
    "        else:\n",
    "            pass"
   ]
  },
  {
   "cell_type": "code",
   "execution_count": 151,
   "metadata": {},
   "outputs": [],
   "source": [
    "pasifik_aktivite_df3.columns = p_aktivite_new_cols"
   ]
  },
  {
   "cell_type": "code",
   "execution_count": 152,
   "metadata": {},
   "outputs": [],
   "source": [
    "saha_aktivite_detay3.columns = h_aktivite_new_cols"
   ]
  },
  {
   "cell_type": "code",
   "execution_count": 153,
   "metadata": {},
   "outputs": [],
   "source": [
    "pasifik_aktivite_df3.rename(columns={\"i̇ndirim_\": \"indirim_\"}, inplace=True)"
   ]
  },
  {
   "cell_type": "code",
   "execution_count": 154,
   "metadata": {},
   "outputs": [],
   "source": [
    "saha_aktivite_detay3.rename(columns={\"i̇i̇skonto_\": \"iskonto_\"}, inplace=True)"
   ]
  },
  {
   "cell_type": "code",
   "execution_count": 155,
   "metadata": {},
   "outputs": [],
   "source": [
    "df_pasifik4 = df_pasifik4.drop(columns=['raf_tavsiye_satis_fiyati', 'i̇ndirimli_raf_satis_fiyati', \n",
    "                                        'indirim_', 'aktivite_tipi'], axis=1)"
   ]
  },
  {
   "cell_type": "code",
   "execution_count": 156,
   "metadata": {},
   "outputs": [],
   "source": [
    "df_horizon4 = df_horizon4.drop(columns=['ciro_kull_i̇ade_dus', 'promosyon_tutari', 'iskonto_'], axis=1)"
   ]
  },
  {
   "cell_type": "code",
   "execution_count": 157,
   "metadata": {},
   "outputs": [],
   "source": [
    "df_btt4 = df_btt4.drop(columns=['ciro_kull_i̇ade_dus', 'promosyon_tutari', 'iskonto_'], axis=1)"
   ]
  },
  {
   "cell_type": "code",
   "execution_count": 158,
   "metadata": {},
   "outputs": [],
   "source": [
    "pasifik_aktivite_df3.rename(columns={\"Müşteri Grup\": \"Grup adı\"}, inplace=True)\n",
    "df_pasifik5 = pd.merge(df_pasifik4, pasifik_aktivite_df3[['yil', 'ay', 'grup_adi', 'en_guncel_kod', \n",
    "                                                          'raf_tavsiye_satis_fiyati', 'i̇ndirimli_raf_satis_fiyati', 'indirim_', \n",
    "                                                          'aktivite_tipi']], \n",
    "                           left_on=['yil', 'ay', 'grup_adi', 'en_guncel_kod'], \n",
    "                           right_on=['yil', 'ay', 'grup_adi', 'en_guncel_kod'], how=\"left\")"
   ]
  },
  {
   "cell_type": "code",
   "execution_count": 159,
   "metadata": {},
   "outputs": [],
   "source": [
    "df_horizon5 = df_horizon4.merge(saha_aktivite_detay3[['yil', 'ay', 'grup_adi', 'ciro_kull_i̇ade_dus', \n",
    "                                                      'promosyon_tutari', 'i̇skonto_', 'en_guncel_kod']],\n",
    "                                on=['en_guncel_kod', 'yil', 'ay', 'grup_adi'], how=\"left\")"
   ]
  },
  {
   "cell_type": "code",
   "execution_count": 160,
   "metadata": {},
   "outputs": [],
   "source": [
    "btt_aktivite = saha_aktivite_detay3[saha_aktivite_detay3[\"grup_adi\"] == \"GELENEKSEL KANAL\"].reset_index(drop=True)\n",
    "btt_aktivite[\"grup_adi\"] = \"BTT\"\n",
    "\n",
    "df_btt5 = df_btt4.merge(btt_aktivite[['yil', 'ay', 'grup_adi', 'ciro_kull_i̇ade_dus', \n",
    "                                      'promosyon_tutari', 'i̇skonto_', 'en_guncel_kod']],\n",
    "                        on=['en_guncel_kod', 'yil', 'ay', 'grup_adi'], how=\"left\")"
   ]
  },
  {
   "cell_type": "markdown",
   "metadata": {},
   "source": [
    "---\n",
    "## Pasifik Aktivite: 0'dan küçük değerler alınmayacak\n",
    "## Horziond Aktivite: %1 ve %35 arası değerler alınacak\n",
    "---"
   ]
  },
  {
   "cell_type": "code",
   "execution_count": 161,
   "metadata": {},
   "outputs": [],
   "source": [
    "df_pasifik5[\"indirim__\"] = [0 if akt < 0 else akt for akt in df_pasifik5[\"indirim_\"]]\n",
    "df_pasifik5.drop(\"indirim_\", axis=1, inplace=True)"
   ]
  },
  {
   "cell_type": "code",
   "execution_count": 162,
   "metadata": {},
   "outputs": [],
   "source": [
    "df_btt5[\"iskonto__\"] = [0 if ((akt >= 0.35) or (akt <=0.01)) else akt for akt in df_btt5[\"i̇skonto_\"]]\n",
    "df_btt5.drop(\"i̇skonto_\", axis=1, inplace=True)"
   ]
  },
  {
   "cell_type": "code",
   "execution_count": 163,
   "metadata": {},
   "outputs": [],
   "source": [
    "df_horizon5[\"iskonto__\"] = [0 if ((akt >= 0.35) or (akt <=0.01)) else akt for akt in df_horizon5[\"i̇skonto_\"]]\n",
    "df_horizon5.drop(\"i̇skonto_\", axis=1, inplace=True)"
   ]
  },
  {
   "cell_type": "markdown",
   "metadata": {},
   "source": [
    "---\n",
    "# Gözlemlerin Sırasının Fiyatın Büyükten Küçüğe Sıralanmasına Göre Düzenlenmesi (SKU bazında fiyat benzerliği pattern'i yakalamak amacıyla yapıldı)\n",
    "---"
   ]
  },
  {
   "cell_type": "code",
   "execution_count": 164,
   "metadata": {},
   "outputs": [],
   "source": [
    "sorter = df_pasifik5.groupby([\"en_guncel_kod\"]).agg({\"fiyat\": \"max\"}).reset_index().sort_values(by=\"fiyat\", ascending=False)[\"en_guncel_kod\"].to_list()\n",
    "sorterIndex = dict(zip(sorter, range(len(sorter))))\n",
    "pasifik_df_sorted = df_pasifik5.copy()\n",
    "pasifik_df_sorted[\"sorted\"] = pasifik_df_sorted[\"en_guncel_kod\"].map(sorterIndex)\n",
    "pasifik_df_sorted.sort_values(['sorted', \"grup_adi\", \"yil\", \"ay\"],\n",
    "                              ascending = [True]*4, inplace = True)\n",
    "pasifik_df_sorted.drop('sorted', 1, inplace = True)\n",
    "pasifik_df_sorted.reset_index(drop=True, inplace=True)"
   ]
  },
  {
   "cell_type": "code",
   "execution_count": 165,
   "metadata": {},
   "outputs": [],
   "source": [
    "sorter = df_horizon5.groupby([\"en_guncel_kod\"]).agg({\"fiyat\": \"max\"}).reset_index().sort_values(by=\"fiyat\", ascending=False)[\"en_guncel_kod\"].to_list()\n",
    "sorterIndex = dict(zip(sorter, range(len(sorter))))\n",
    "horizon_saha_df_sorted = df_horizon5.copy()\n",
    "horizon_saha_df_sorted[\"sorted\"] = horizon_saha_df_sorted[\"en_guncel_kod\"].map(sorterIndex)\n",
    "horizon_saha_df_sorted.sort_values(['sorted', \"grup_adi\", \"yil\", \"ay\"],\n",
    "                                   ascending = [True]*4, inplace = True)\n",
    "horizon_saha_df_sorted.drop('sorted', 1, inplace = True)\n",
    "horizon_saha_df_sorted.reset_index(drop=True, inplace=True)"
   ]
  },
  {
   "cell_type": "code",
   "execution_count": 166,
   "metadata": {},
   "outputs": [],
   "source": [
    "sorter = df_btt5.groupby([\"en_guncel_kod\"]).agg({\"fiyat\": \"max\"}).reset_index().sort_values(by=\"fiyat\", ascending=False)[\"en_guncel_kod\"].to_list()\n",
    "sorterIndex = dict(zip(sorter, range(len(sorter))))\n",
    "btt_df_sorted = df_btt5.copy()\n",
    "btt_df_sorted[\"sorted\"] = btt_df_sorted[\"en_guncel_kod\"].map(sorterIndex)\n",
    "btt_df_sorted.sort_values(['sorted', \"grup_adi\", \"yil\", \"ay\"],\n",
    "        ascending = [True]*4, inplace = True)\n",
    "btt_df_sorted.drop('sorted', 1, inplace = True)\n",
    "btt_df_sorted.reset_index(drop=True, inplace=True)"
   ]
  },
  {
   "cell_type": "markdown",
   "metadata": {},
   "source": [
    "---\n",
    "# Yarışma ve Enflasyon Verisinin Eklenmesi\n",
    "---"
   ]
  },
  {
   "cell_type": "code",
   "execution_count": 167,
   "metadata": {},
   "outputs": [],
   "source": [
    "enflasyon_df = pd.read_excel(\"../data/enflasyon.xlsx\")"
   ]
  },
  {
   "cell_type": "code",
   "execution_count": 168,
   "metadata": {},
   "outputs": [],
   "source": [
    "pasifik_df_sorted.drop(columns=\"enflasyon_etkisi\", axis=1, inplace=True)\n",
    "horizon_saha_df_sorted.drop(columns=\"enflasyon_etkisi\", axis=1, inplace=True)\n",
    "btt_df_sorted.drop(columns=\"enflasyon_etkisi\", axis=1, inplace=True)"
   ]
  },
  {
   "cell_type": "code",
   "execution_count": 169,
   "metadata": {},
   "outputs": [],
   "source": [
    "pasifik_df_sorted = pasifik_df_sorted.merge(enflasyon_df, how=\"left\", on=\"date\")\n",
    "horizon_saha_df_sorted = horizon_saha_df_sorted.merge(enflasyon_df, how=\"left\", on=\"date\")\n",
    "btt_df_sorted = btt_df_sorted.merge(enflasyon_df, how=\"left\", on=\"date\")"
   ]
  },
  {
   "cell_type": "code",
   "execution_count": 170,
   "metadata": {},
   "outputs": [],
   "source": [
    "yarisma_df = pd.read_excel(\"../data/2018-2021 Yarışmaları_v2.xlsx\", sheet_name=\"yarisma_historik_data\")"
   ]
  },
  {
   "cell_type": "code",
   "execution_count": 171,
   "metadata": {},
   "outputs": [],
   "source": [
    "yarisma_df[\"date\"] = pd.to_datetime(yarisma_df[\"date\"], errors=\"coerce\", format=\"%d.%m.%Y\")\n",
    "yarisma_df = yarisma_df.dropna().reset_index(drop=True)"
   ]
  },
  {
   "cell_type": "code",
   "execution_count": 172,
   "metadata": {},
   "outputs": [],
   "source": [
    "pasifik_df_sorted[\"yarisma\"] = 0\n",
    "horizon_saha_df_sorted[\"yarisma\"] = 0\n",
    "btt_df_sorted[\"yarisma\"] = 0"
   ]
  },
  {
   "cell_type": "code",
   "execution_count": 173,
   "metadata": {},
   "outputs": [],
   "source": [
    "for idx in range(len(yarisma_df)):\n",
    "    temp_df = horizon_saha_df_sorted[(horizon_saha_df_sorted[\"date\"] == yarisma_df.loc[idx, \"date\"]) & \n",
    "                                     (horizon_saha_df_sorted[\"grup_adi\"] == yarisma_df.loc[idx, \"grup_adi\"]) & \n",
    "                                     (horizon_saha_df_sorted[yarisma_df.loc[idx, \"type\"]] == yarisma_df.loc[idx, \"col1\"])]\n",
    "    idx_to_replace = temp_df.index\n",
    "    horizon_saha_df_sorted.loc[idx_to_replace, \"yarisma\"] = 1"
   ]
  },
  {
   "cell_type": "markdown",
   "metadata": {},
   "source": [
    "---\n",
    "# Arada tarih verisi olmayan gözlemler\n",
    "---"
   ]
  },
  {
   "cell_type": "code",
   "execution_count": 174,
   "metadata": {},
   "outputs": [],
   "source": [
    "pas_backup = pasifik_df_sorted.copy()\n",
    "hor_backup = horizon_saha_df_sorted.copy()\n",
    "btt_backup = btt_df_sorted.copy()"
   ]
  },
  {
   "cell_type": "raw",
   "metadata": {},
   "source": [
    "pasifik_df_sorted = pas_backup.copy()\n",
    "horizon_saha_df_sorted = hor_backup.copy()\n",
    "btt_df_sorted = btt_backup.copy()"
   ]
  },
  {
   "cell_type": "markdown",
   "metadata": {},
   "source": [
    "---\n",
    "# SKU Sayıları\n",
    "---"
   ]
  },
  {
   "cell_type": "code",
   "execution_count": 175,
   "metadata": {},
   "outputs": [],
   "source": [
    "sku = []\n",
    "grup_adi = []\n",
    "portfoy = []\n",
    "oran = []\n",
    "gozlem_sayisi = []\n",
    "toplam_satir = []\n",
    "baslangic_tarih = []\n",
    "bitis_tarih = []\n",
    "son_kac_ay_eksik = []\n",
    "kanal = []\n",
    "repeat_num = [] # 1'lerin kaç aralıkla geldiği\n",
    "for idx, temp_df in pas_backup[[\"grup_adi\", \"en_guncel_kod\", \"portfoy\", \"adet\", \"date\"]].groupby([\"grup_adi\", \"en_guncel_kod\", \"portfoy\"]):\n",
    "    sku.append(temp_df[\"en_guncel_kod\"].iloc[0])\n",
    "    grup_adi.append(temp_df[\"grup_adi\"].iloc[0])\n",
    "    portfoy.append(temp_df[\"portfoy\"].iloc[0])\n",
    "    oran.append(len(temp_df[temp_df[\"adet\"] != 1]) / len(temp_df))\n",
    "    gozlem_sayisi.append(len(temp_df[temp_df[\"adet\"] != 1]))\n",
    "    baslangic_tarih.append(temp_df[temp_df[\"adet\"] != 1][\"date\"].min())\n",
    "    bitis_tarih.append(temp_df[temp_df[\"adet\"] != 1][\"date\"].max())\n",
    "    toplam_satir.append(len(temp_df))\n",
    "    son_kac_ay_eksik.append(round((pasifik_df_all2.Date.max() - temp_df[temp_df[\"adet\"] != 1].date.max())/np.timedelta64(1, 'M'),1))\n",
    "    kanal.append(\"Pasifik\")\n",
    "\n",
    "    \n",
    "    lst = temp_df[temp_df[\"adet\"] == 1].index\n",
    "    lst = sorted(lst, reverse=True)\n",
    "    counter = 0\n",
    "    for idx_ in range(len(lst) - 1):\n",
    "        if lst[idx_] - lst[idx_+1] != 1:\n",
    "            counter+=1\n",
    "        else: \n",
    "            pass\n",
    "    if counter != 0:\n",
    "        counter+=1\n",
    "    repeat_num.append(counter)\n",
    "\n",
    "for idx, temp_df in hor_backup[[\"grup_adi\", \"en_guncel_kod\", \"portfoy\", \"adet\", \"date\"]].groupby([\"grup_adi\", \"en_guncel_kod\", \"portfoy\"]):\n",
    "    sku.append(temp_df[\"en_guncel_kod\"].iloc[0])\n",
    "    grup_adi.append(temp_df[\"grup_adi\"].iloc[0])\n",
    "    portfoy.append(temp_df[\"portfoy\"].iloc[0])\n",
    "    oran.append(len(temp_df[temp_df[\"adet\"] != 1]) / len(temp_df))\n",
    "    gozlem_sayisi.append(len(temp_df[temp_df[\"adet\"] != 1]))\n",
    "    baslangic_tarih.append(temp_df[temp_df[\"adet\"] != 1][\"date\"].min())\n",
    "    bitis_tarih.append(temp_df[temp_df[\"adet\"] != 1][\"date\"].max())\n",
    "    toplam_satir.append(len(temp_df))\n",
    "    son_kac_ay_eksik.append(round((horizon_saha_df_all2.Date.max() - temp_df[temp_df[\"adet\"] != 1].date.max())/np.timedelta64(1, 'M'),1))\n",
    "    kanal.append(\"Horizon\")\n",
    "\n",
    "\n",
    "    lst = temp_df[temp_df[\"adet\"] == 1].index\n",
    "    lst = sorted(lst, reverse=True)\n",
    "    counter = 0\n",
    "    for idx_ in range(len(lst) - 1):\n",
    "        if lst[idx_] - lst[idx_+1] != 1:\n",
    "            counter+=1\n",
    "        else: \n",
    "            pass\n",
    "    if counter != 0:\n",
    "        counter+=1\n",
    "    repeat_num.append(counter)\n",
    "\n",
    "for idx, temp_df in btt_backup[[\"grup_adi\", \"en_guncel_kod\", \"portfoy\", \"adet\", \"date\"]].groupby([\"grup_adi\", \"en_guncel_kod\", \"portfoy\"]):\n",
    "    sku.append(temp_df[\"en_guncel_kod\"].iloc[0])\n",
    "    grup_adi.append(temp_df[\"grup_adi\"].iloc[0])\n",
    "    portfoy.append(temp_df[\"portfoy\"].iloc[0])\n",
    "    oran.append(len(temp_df[temp_df[\"adet\"] != 1]) / len(temp_df))\n",
    "    gozlem_sayisi.append(len(temp_df[temp_df[\"adet\"] != 1]))\n",
    "    baslangic_tarih.append(temp_df[temp_df[\"adet\"] != 1][\"date\"].min())\n",
    "    bitis_tarih.append(temp_df[temp_df[\"adet\"] != 1][\"date\"].max())\n",
    "    toplam_satir.append(len(temp_df))\n",
    "    son_kac_ay_eksik.append(round((btt_df_all2.Date.max() - temp_df[temp_df[\"adet\"] != 1].date.max())/np.timedelta64(1, 'M'),1))\n",
    "    kanal.append(\"BTT\")\n",
    "\n",
    "\n",
    "    lst = temp_df[temp_df[\"adet\"] == 1].index\n",
    "    lst = sorted(lst, reverse=True)\n",
    "    counter = 0\n",
    "    for idx_ in range(len(lst) - 1):\n",
    "        if lst[idx_] - lst[idx_+1] != 1:\n",
    "            counter+=1\n",
    "        else: \n",
    "            pass\n",
    "    if counter != 0:\n",
    "        counter+=1\n",
    "    repeat_num.append(counter)"
   ]
  },
  {
   "cell_type": "code",
   "execution_count": 176,
   "metadata": {},
   "outputs": [],
   "source": [
    "sku_sayilari = pd.DataFrame({\"sku\": sku,\n",
    "                             \"grup_adi\": grup_adi,\n",
    "                             \"portfoy\": portfoy,\n",
    "                             \"gozlem_sayisi\": gozlem_sayisi,\n",
    "                             \"toplam_satir\": toplam_satir,\n",
    "                             \"oran\": oran,\n",
    "                             \"baslangic_tarih\": baslangic_tarih,\n",
    "                             \"bitis_tarih\": bitis_tarih,\n",
    "                             \"son_kac_ay_eksik\": son_kac_ay_eksik,\n",
    "                             \"eksik_repeat_sayisi\": repeat_num,\n",
    "                             \"kanal\": kanal})"
   ]
  },
  {
   "cell_type": "code",
   "execution_count": 177,
   "metadata": {},
   "outputs": [],
   "source": [
    "sku_sayilari.sort_values(by=[\"sku\", \"grup_adi\", \"oran\"], ignore_index=True, inplace=True)"
   ]
  },
  {
   "cell_type": "code",
   "execution_count": 178,
   "metadata": {},
   "outputs": [],
   "source": [
    "sku_sayilari.to_excel(\"../reports/sku_bazinda_sayilar.xlsx\", index=False)"
   ]
  },
  {
   "cell_type": "markdown",
   "metadata": {},
   "source": [
    "---\n",
    "# Adetteki düzenlemeleri new_adet üzerinden devam ettiriyoruz\n",
    "---"
   ]
  },
  {
   "cell_type": "code",
   "execution_count": 179,
   "metadata": {},
   "outputs": [],
   "source": [
    "pasifik_df_sorted[\"new_adet\"] = pasifik_df_sorted[\"adet\"]\n",
    "horizon_saha_df_sorted[\"new_adet\"] = horizon_saha_df_sorted[\"adet\"]\n",
    "btt_df_sorted[\"new_adet\"] = btt_df_sorted[\"adet\"]"
   ]
  },
  {
   "cell_type": "markdown",
   "metadata": {},
   "source": [
    "---\n",
    "# SKU Sayıları Dataya Ekleme, Scope Belirlenmesi İçin Gerekli\n",
    "---"
   ]
  },
  {
   "cell_type": "code",
   "execution_count": 180,
   "metadata": {},
   "outputs": [],
   "source": [
    "sku_insights = pd.read_excel(\"../reports/sku_bazinda_sayilar_keep.xlsx\")\n",
    "sku_insights.drop(columns=[\"portfoy\", \"kanal\"], axis=1, inplace=True)\n",
    "sku_insights.rename(columns={\"sku\": \"en_guncel_kod\"}, inplace=True)"
   ]
  },
  {
   "cell_type": "code",
   "execution_count": 181,
   "metadata": {},
   "outputs": [],
   "source": [
    "try:\n",
    "    sku_sayilari = sku_sayilari[[\"sku\"] + sku_insights.columns.to_list()[1:]]\n",
    "    sku_sayilari.columns = sku_insights.columns\n",
    "except:\n",
    "    sku_sayilari.columns = sku_insights.columns    \n",
    "\n",
    "pasifik_df_sorted = pasifik_df_sorted.merge(sku_sayilari, on=[\"en_guncel_kod\", \"grup_adi\"], how=\"left\")\n",
    "horizon_saha_df_sorted = horizon_saha_df_sorted.merge(sku_sayilari, on=[\"en_guncel_kod\", \"grup_adi\"], how=\"left\")\n",
    "btt_df_sorted = btt_df_sorted.merge(sku_sayilari, on=[\"en_guncel_kod\", \"grup_adi\"], how=\"left\")"
   ]
  },
  {
   "cell_type": "code",
   "execution_count": 182,
   "metadata": {},
   "outputs": [
    {
     "data": {
      "text/plain": [
       "Index(['yil', 'ay', 'grup_adi', 'ana_kategori_adi', 'kategori_adi',\n",
       "       'marka_adi', 'urun_adi', 'en_guncel_kod', 'koli_i̇ci_adet', 'koli',\n",
       "       'kg', 'tl', 'adet', 'date', 'portfoy', 'no_of_days', 'weekdays_n',\n",
       "       'weekdays_ratio', 'weekend_n', 'weekend_ratio', 'actual_holiday_n',\n",
       "       'actual_holiday_ratio', 'total_holiday_n', 'total_holiday_ratio',\n",
       "       'school_day_n', 'school_day_ratio', 'school_day_brdg_n',\n",
       "       'school_day_brdg_ratio', 'ramadan_n', 'ramadan_ratio', 'pandemic',\n",
       "       'lockdown', 'satis_var', 'fiyat', 'fiyat_gecisi',\n",
       "       'raf_tavsiye_satis_fiyati', 'i̇ndirimli_raf_satis_fiyati',\n",
       "       'aktivite_tipi', 'indirim__', 'enflasyon_etkisi', 'yarisma', 'new_adet',\n",
       "       'gozlem_sayisi', 'toplam_satir', 'oran', 'baslangic_tarih',\n",
       "       'bitis_tarih', 'son_kac_ay_eksik', 'eksik_repeat_sayisi'],\n",
       "      dtype='object')"
      ]
     },
     "execution_count": 182,
     "metadata": {},
     "output_type": "execute_result"
    }
   ],
   "source": [
    "pasifik_df_sorted.columns"
   ]
  },
  {
   "cell_type": "markdown",
   "metadata": {},
   "source": [
    "---\n",
    "# SKU Labellama\n",
    "---"
   ]
  },
  {
   "cell_type": "markdown",
   "metadata": {},
   "source": [
    "# BURDASIN!!!!!!"
   ]
  },
  {
   "cell_type": "code",
   "execution_count": null,
   "metadata": {},
   "outputs": [],
   "source": []
  },
  {
   "cell_type": "code",
   "execution_count": null,
   "metadata": {},
   "outputs": [],
   "source": []
  },
  {
   "cell_type": "code",
   "execution_count": null,
   "metadata": {},
   "outputs": [],
   "source": []
  },
  {
   "cell_type": "code",
   "execution_count": null,
   "metadata": {},
   "outputs": [],
   "source": []
  },
  {
   "cell_type": "code",
   "execution_count": 184,
   "metadata": {},
   "outputs": [],
   "source": [
    "pasifik_df_sorted[\"scope\"] = 0\n",
    "horizon_saha_df_sorted[\"scope\"] = 0\n",
    "btt_df_sorted[\"scope\"] = 0"
   ]
  },
  {
   "cell_type": "code",
   "execution_count": 185,
   "metadata": {},
   "outputs": [],
   "source": [
    "backup_pas1 = pasifik_df_sorted.copy()\n",
    "backup_hor1 = horizon_saha_df_sorted.copy()\n",
    "backup_btt1 = btt_df_sorted.copy()"
   ]
  },
  {
   "cell_type": "code",
   "execution_count": 186,
   "metadata": {},
   "outputs": [],
   "source": [
    "def scope(data, obs_threshold, obs_mean_threshold, obs_ratio, latest_obs_date):\n",
    "    \n",
    "    \"\"\"\n",
    "    \n",
    "    Parameters\n",
    "    ----------\n",
    "    \n",
    "    data:                 dataFrame\n",
    "    obs_threshold:        int\n",
    "    obs_mean_threshold:   int\n",
    "    obs_ratio:            float\n",
    "    latest_obs_date:      datetime\n",
    "    \n",
    "    Description\n",
    "    ----------\n",
    "    \n",
    "    data:                 Düzenlemenin yapılacağı veri seti.\n",
    "    obs_threshold:        Toplam kaç adet gözlemi olsun?\n",
    "    obs_mean_threshold:   Kaç gözlem altında ortalama basılıp geçilsin?\n",
    "    obs_ratio:            Gözlem oranı yüzde kaç olmalı? %50'nin altında ise alınmasın vb.\n",
    "    latest_obs_date:      En son hangi tarihte gözlemi olursa analize dahil edilsin?\n",
    "    \n",
    "    \"\"\"\n",
    "    all_data = []\n",
    "    data[\"scope\"] = 0\n",
    "    for sku in data[\"en_guncel_kod\"].unique():\n",
    "        for grup in data[\"grup_adi\"].unique():\n",
    "            \n",
    "            temp_df = data[(data[\"en_guncel_kod\"] == sku) & \n",
    "                           (data[\"grup_adi\"] == grup)].reset_index(drop=True)\n",
    "            \n",
    "            \n",
    "            if len(temp_df) > 1:\n",
    "                gozlem_sayisi = temp_df[\"gozlem_sayisi\"][0]\n",
    "                oran = temp_df[\"oran\"][0]\n",
    "                bitis_tarihi = temp_df[\"bitis_tarih\"][0]\n",
    "                \n",
    "                if (gozlem_sayisi < obs_threshold) and (oran < obs_ratio) and (bitis_tarihi <= latest_obs_date):\n",
    "                    temp_df[\"scope\"] = 0 # Kapsam Dışı\n",
    "                else:\n",
    "                    if (gozlem_sayisi < obs_mean_threshold) and (bitis_tarihi > latest_obs_date):\n",
    "                        temp_df[\"scope\"] = 1 # Ortalama basılacak olan\n",
    "                    elif (gozlem_sayisi >= obs_threshold) and (oran >= obs_ratio) and (bitis_tarihi > latest_obs_date):\n",
    "                        temp_df[\"scope\"] = 2 # Time Series\n",
    "                    elif (gozlem_sayisi >= obs_mean_threshold) and (bitis_tarihi > latest_obs_date):\n",
    "                        temp_df[\"scope\"] = 3 # Regresyon\n",
    "            else:\n",
    "                pass\n",
    "            all_data.append(temp_df)\n",
    "    all_data = pd.concat(all_data)\n",
    "    all_data.reset_index(drop=True, inplace=True)\n",
    "    return all_data"
   ]
  },
  {
   "cell_type": "code",
   "execution_count": 186,
   "metadata": {},
   "outputs": [
    {
     "data": {
      "text/plain": [
       "Index(['yil', 'ay', 'grup_adi', 'ana_kategori_adi', 'kategori_adi',\n",
       "       'marka_adi', 'urun_adi', 'en_guncel_kod', 'koli_i̇ci_adet', 'koli',\n",
       "       'kg', 'tl', 'adet', 'date', 'portfoy', 'no_of_days', 'weekdays_n',\n",
       "       'weekdays_ratio', 'weekend_n', 'weekend_ratio', 'actual_holiday_n',\n",
       "       'actual_holiday_ratio', 'total_holiday_n', 'total_holiday_ratio',\n",
       "       'school_day_n', 'school_day_ratio', 'school_day_brdg_n',\n",
       "       'school_day_brdg_ratio', 'ramadan_n', 'ramadan_ratio', 'pandemic',\n",
       "       'lockdown', 'satis_var', 'fiyat', 'fiyat_gecisi',\n",
       "       'raf_tavsiye_satis_fiyati', 'i̇ndirimli_raf_satis_fiyati',\n",
       "       'aktivite_tipi', 'indirim__', 'enflasyon_etkisi', 'yarisma', 'new_adet',\n",
       "       'gozlem_sayisi', 'toplam_satir', 'oran', 'baslangic_tarih',\n",
       "       'bitis_tarih', 'son_kac_ay_eksik', 'eksik_repeat_sayisi', 'scope'],\n",
       "      dtype='object')"
      ]
     },
     "execution_count": 186,
     "metadata": {},
     "output_type": "execute_result"
    }
   ],
   "source": [
    "pasifik_df_sorted.columns"
   ]
  },
  {
   "cell_type": "code",
   "execution_count": 187,
   "metadata": {},
   "outputs": [],
   "source": [
    "pasifik_df_sorted = scope(pasifik_df_sorted, 36, 12, 0.85, datetime(2020, 12, 1))\n",
    "horizon_saha_df_sorted = scope(horizon_saha_df_sorted, 36, 12, 0.85, datetime(2020, 12, 1))\n",
    "btt_df_sorted = scope(btt_df_sorted, 36, 12, 0.85, datetime(2020, 12, 1))"
   ]
  },
  {
   "cell_type": "code",
   "execution_count": 188,
   "metadata": {},
   "outputs": [
    {
     "data": {
      "text/plain": [
       "0    3369\n",
       "1     764\n",
       "3     620\n",
       "2     405\n",
       "Name: scope, dtype: int64"
      ]
     },
     "execution_count": 188,
     "metadata": {},
     "output_type": "execute_result"
    }
   ],
   "source": [
    "pasifik_df_sorted[pasifik_df_sorted[\"grup_adi\"] == \"BİM\"].scope.value_counts()"
   ]
  },
  {
   "cell_type": "code",
   "execution_count": 190,
   "metadata": {},
   "outputs": [
    {
     "name": "stdout",
     "output_type": "stream",
     "text": [
      "Kapsam belirleme işlemi 18838 days, 13 saat, 58 dakika, 44.37 saniye sürmüştür.\n"
     ]
    }
   ],
   "source": [
    "end = time.time()\n",
    "total_time = str(timedelta(seconds=end-start))[:-4].split(\":\")\n",
    "print(f\"Kapsam belirleme işlemi {total_time[0]} saat, {total_time[1]} dakika, {total_time[2]} saniye sürmüştür.\")"
   ]
  },
  {
   "cell_type": "markdown",
   "metadata": {},
   "source": [
    "---\n",
    "# Kapsamı yeniden düzenleme\n",
    "---"
   ]
  },
  {
   "cell_type": "code",
   "execution_count": 191,
   "metadata": {},
   "outputs": [],
   "source": [
    "kapsam_all_new_cols = []\n",
    "for col in kapsam_all.columns.str.lower():\n",
    "    for letter in range(len(chng_letters)):\n",
    "        col = col.replace(chng_letters[letter][0], chng_letters[letter][1])\n",
    "        if letter == len(chng_letters) - 1:\n",
    "            kapsam_all_new_cols.append(col)\n",
    "        else:\n",
    "            pass"
   ]
  },
  {
   "cell_type": "code",
   "execution_count": 192,
   "metadata": {},
   "outputs": [],
   "source": [
    "kapsam_all.columns = kapsam_all_new_cols"
   ]
  },
  {
   "cell_type": "code",
   "execution_count": 193,
   "metadata": {},
   "outputs": [],
   "source": [
    "kapsam_all[\"urun_kodu\"] = kapsam_all[\"urun_kodu\"].apply(lambda x: int(x.split(\"-\")[0]+x.split(\"-\")[1]))"
   ]
  },
  {
   "cell_type": "code",
   "execution_count": 194,
   "metadata": {},
   "outputs": [],
   "source": [
    "eslenik_kod_df_new_cols = []\n",
    "for col in eslenik_kod_df.columns.str.lower():\n",
    "    for letter in range(len(chng_letters)):\n",
    "        col = col.replace(chng_letters[letter][0], chng_letters[letter][1])\n",
    "        if letter == len(chng_letters) - 1:\n",
    "            eslenik_kod_df_new_cols.append(col)\n",
    "        else:\n",
    "            pass"
   ]
  },
  {
   "cell_type": "code",
   "execution_count": 195,
   "metadata": {},
   "outputs": [],
   "source": [
    "eslenik_kod_df.columns = eslenik_kod_df_new_cols"
   ]
  },
  {
   "cell_type": "code",
   "execution_count": 196,
   "metadata": {},
   "outputs": [],
   "source": [
    "kapsam_all = kapsam_all.merge(eslenik_kod_df[[\"urun_kodu\", \"en_guncel_kod\"]], how=\"left\", on=\"urun_kodu\")"
   ]
  },
  {
   "cell_type": "code",
   "execution_count": 197,
   "metadata": {},
   "outputs": [],
   "source": [
    "kapsam_all[\"en_guncel_kod\"].fillna(kapsam_all[\"urun_kodu\"], inplace=True)"
   ]
  },
  {
   "cell_type": "code",
   "execution_count": 198,
   "metadata": {},
   "outputs": [],
   "source": [
    "kapsam_all.drop_duplicates(subset=[\"en_guncel_kod\"], inplace=True, ignore_index=True)\n",
    "kapsam_all = kapsam_all[kapsam_all[\"en_guncel_kod\"] != \"delist\"].reset_index(drop=True)"
   ]
  },
  {
   "cell_type": "code",
   "execution_count": 199,
   "metadata": {},
   "outputs": [],
   "source": [
    "BACKUP_PASIFIK = pasifik_df_sorted.copy()"
   ]
  },
  {
   "cell_type": "code",
   "execution_count": 200,
   "metadata": {},
   "outputs": [],
   "source": [
    "pasifik_df_sorted = pasifik_df_sorted.merge(kapsam_all[[\"en_guncel_kod\", \"grup_adi\", \"durum\"]], how=\"left\", on=[\"en_guncel_kod\", \"grup_adi\"])"
   ]
  },
  {
   "cell_type": "code",
   "execution_count": 201,
   "metadata": {},
   "outputs": [],
   "source": [
    "horizon_saha_df_sorted[\"durum\"] = np.nan\n",
    "btt_df_sorted[\"durum\"] = np.nan"
   ]
  },
  {
   "cell_type": "code",
   "execution_count": 202,
   "metadata": {},
   "outputs": [],
   "source": [
    "pasifik_df_sorted[\"Kanal\"] = \"pasifik\""
   ]
  },
  {
   "cell_type": "code",
   "execution_count": 217,
   "metadata": {},
   "outputs": [],
   "source": [
    "change_scope_index = pasifik_df_sorted[(pasifik_df_sorted[\"portfoy\"] == 1) & \n",
    "                                       (pasifik_df_sorted[\"Kanal\"] == \"pasifik\") & \n",
    "                                       (pasifik_df_sorted[\"durum\"].isin(['DENEME+BÖLGESEL SATIŞ', 'DENEME'])) & \n",
    "                                       (~pasifik_df_sorted[\"grup_adi\"].isin([\"Diğer_Pasifik\", \"MİGROS\"]))].index"
   ]
  },
  {
   "cell_type": "code",
   "execution_count": 221,
   "metadata": {},
   "outputs": [],
   "source": [
    "pasifik_df_sorted.loc[change_scope_index, \"scope\"] = 0\n",
    "pasifik_df_sorted.loc[change_scope_index, \"scope_type\"] = \"kapsam_disi\""
   ]
  },
  {
   "cell_type": "code",
   "execution_count": 222,
   "metadata": {},
   "outputs": [],
   "source": [
    "pasifik_df_sorted.drop(\"Kanal\", axis=1, inplace=True)"
   ]
  },
  {
   "cell_type": "markdown",
   "metadata": {},
   "source": [
    "---\n",
    "# Peak ve Dip Noktalarını Belirleme\n",
    "---"
   ]
  },
  {
   "cell_type": "code",
   "execution_count": 224,
   "metadata": {},
   "outputs": [],
   "source": [
    "def peak_detection(data, sigma):\n",
    "    \n",
    "    \"\"\"\n",
    "    \n",
    "    Parameters\n",
    "    ----------\n",
    "    \n",
    "    data:                 dataFrame\n",
    "    sigma:                float\n",
    "    \n",
    "    Description\n",
    "    ----------\n",
    "    \n",
    "    data:                 Düzenlemenin yapılacağı veri seti.\n",
    "    sigma:                Standart sapma ile çarpılacak olan sayı. Verinin yüzdelik olarak hangi kısmının threshold olarak alınacağına bu değer ile karar verilir. Örn: 1.96 verilmesi durumunda %95'e tekabul eder. \n",
    "                          (https://www.socscistatistics.com/pvalues/normaldistribution.aspx)\n",
    "    \n",
    "    \"\"\"\n",
    "\n",
    "    demand = data.copy()\n",
    "    demand[\"peak\"] = 0\n",
    "    demand_non_portfoy = demand[demand[\"portfoy\"] == 0]\n",
    "    demand = demand[demand[\"portfoy\"] == 1]\n",
    "\n",
    "    grup = demand[\"grup_adi\"].unique()\n",
    "    urun = demand[\"en_guncel_kod\"].unique()\n",
    "    for grp in grup:\n",
    "        for sku in urun:\n",
    "            df=demand[(demand['en_guncel_kod']==sku) & \n",
    "                      (demand[\"grup_adi\"] == grp)]\n",
    "            points=df['adet']\n",
    "\n",
    "            mean = points.mean()\n",
    "            std = points.std()\n",
    "\n",
    "            peaks=[]\n",
    "            index=[]\n",
    "            for idx in points.index:\n",
    "                if points[idx]>=(sigma*std+mean):\n",
    "                    index.append(idx)\n",
    "\n",
    "            for idx_ in index:\n",
    "                demand.loc[idx_, \"peak\"] = 1\n",
    "    demand = pd.concat([demand, demand_non_portfoy], axis=0)\n",
    "    demand.sort_index(inplace=True)\n",
    "    return demand"
   ]
  },
  {
   "cell_type": "code",
   "execution_count": 225,
   "metadata": {},
   "outputs": [],
   "source": [
    "def deep_detection(data, sigma):\n",
    "    \n",
    "    \"\"\"\n",
    "    \n",
    "    Parameters\n",
    "    ----------\n",
    "    \n",
    "    data:                 dataFrame\n",
    "    sigma:                float\n",
    "    \n",
    "    Description\n",
    "    ----------\n",
    "    \n",
    "    data:                 Düzenlemenin yapılacağı veri seti.\n",
    "    sigma:                Standart sapma ile çarpılacak olan sayı. Verinin yüzdelik olarak hangi kısmının threshold olarak alınacağına bu değer ile karar verilir. Örn: 1.96 verilmesi durumunda %95'e tekabul eder. \n",
    "                          (https://www.socscistatistics.com/pvalues/normaldistribution.aspx)\n",
    "    \n",
    "    \"\"\"\n",
    "\n",
    "    demand = data.copy()\n",
    "    demand_non_portfoy = demand[demand[\"portfoy\"] == 0]\n",
    "    demand = demand[demand[\"portfoy\"] == 1]\n",
    "\n",
    "    grup = demand[\"grup_adi\"].unique()\n",
    "    urun = demand[\"en_guncel_kod\"].unique()\n",
    "    for grp in grup:\n",
    "        for sku in urun:\n",
    "            df=demand[(demand['en_guncel_kod']==sku) & \n",
    "                      (demand[\"grup_adi\"] == grp)]\n",
    "            points=df['adet']\n",
    "\n",
    "            mean = points.mean()\n",
    "            std = points.std()\n",
    "\n",
    "            peaks=[]\n",
    "            index=[]\n",
    "            if mean <= 100000:\n",
    "                for idx in points.index:\n",
    "                    if (points[idx]<=(mean-sigma*std)):\n",
    "                        index.append(idx)\n",
    "\n",
    "\n",
    "                for idx_ in sorted(index, reverse=True):\n",
    "                    try:\n",
    "                        demand.loc[idx_-1, \"new_adet\"] += demand.loc[idx_, \"new_adet\"] \n",
    "                        demand.loc[idx_, \"new_adet\"] = 1\n",
    "                    except KeyError:\n",
    "                        index.remove(idx_)\n",
    "            else:\n",
    "                for idx in points.index:\n",
    "                    if (points[idx]<=(mean-2*std)):\n",
    "                        index.append(idx)\n",
    "\n",
    "\n",
    "                for idx_ in sorted(index, reverse=True):\n",
    "                    try:\n",
    "                        demand.loc[idx_-1, \"new_adet\"] += demand.loc[idx_, \"new_adet\"] \n",
    "                        demand.loc[idx_, \"new_adet\"] = 1\n",
    "                    except KeyError:\n",
    "                        index.remove(idx_)\n",
    "    demand = pd.concat([demand, demand_non_portfoy], axis=0)\n",
    "    demand.sort_index(inplace=True)\n",
    "    return demand"
   ]
  },
  {
   "cell_type": "code",
   "execution_count": 226,
   "metadata": {},
   "outputs": [],
   "source": [
    "def peak_distribution(data, sigma):\n",
    "    \n",
    "    \"\"\"\n",
    "    \n",
    "    Parameters\n",
    "    ----------\n",
    "    \n",
    "    data:                 dataFrame\n",
    "    sigma:                float\n",
    "    \n",
    "    Description\n",
    "    ----------\n",
    "    \n",
    "    data:                 Düzenlemenin yapılacağı veri seti.\n",
    "    sigma:                Standart sapma ile çarpılacak olan sayı. Verinin yüzdelik olarak hangi kısmının threshold olarak alınacağına bu değer ile karar verilir. Örn: 1.96 verilmesi durumunda %95'e tekabul eder. \n",
    "                          (https://www.socscistatistics.com/pvalues/normaldistribution.aspx)\n",
    "    \n",
    "    \"\"\"\n",
    "    \n",
    "    demand = data.copy()\n",
    "    demand_non_portfoy = demand[demand[\"portfoy\"] == 0]\n",
    "    demand = demand[demand[\"portfoy\"] == 1]\n",
    "\n",
    "    grup = demand[\"grup_adi\"].unique()\n",
    "    urun = demand[\"en_guncel_kod\"].unique()\n",
    "    for grp in grup:\n",
    "        for sku in urun:\n",
    "            df=demand[(demand['en_guncel_kod']==sku) & \n",
    "                      (demand[\"grup_adi\"] == grp)]\n",
    "            points=df['adet']\n",
    "            \n",
    "            mean = points.mean()\n",
    "            std = points.std()\n",
    "            peak_index = df[df[\"peak\"] == 1].index\n",
    "            idx_to_add = list(df[(df[\"peak\"] != 1) & (df[\"adet\"] != 1)].index)\n",
    "            for idx in peak_index:\n",
    "                peak_value = demand.loc[idx, \"adet\"]\n",
    "                will_add = (peak_value - (mean+std*sigma)) / len(idx_to_add)\n",
    "                demand.loc[idx_to_add, \"new_adet\"] += will_add\n",
    "                demand.loc[idx, \"new_adet\"] = mean+std*sigma\n",
    "    demand = pd.concat([demand, demand_non_portfoy], axis=0)\n",
    "    demand.sort_index(inplace=True)\n",
    "    return demand"
   ]
  },
  {
   "cell_type": "code",
   "execution_count": 227,
   "metadata": {},
   "outputs": [],
   "source": [
    "pas_backup = pasifik_df_sorted.copy()\n",
    "hor_backup = horizon_saha_df_sorted.copy()\n",
    "btt_backup = btt_df_sorted.copy()"
   ]
  },
  {
   "cell_type": "code",
   "execution_count": 228,
   "metadata": {},
   "outputs": [],
   "source": [
    "pasifik_df_sorted = pas_backup.copy()\n",
    "horizon_saha_df_sorted = hor_backup.copy()\n",
    "btt_df_sorted = btt_backup.copy()"
   ]
  },
  {
   "cell_type": "code",
   "execution_count": 229,
   "metadata": {},
   "outputs": [],
   "source": [
    "pasifik_df_sorted, btt_df_sorted, horizon_saha_df_sorted = peak_detection(pasifik_df_sorted, 1.0), peak_detection(btt_df_sorted, 1.0), peak_detection(horizon_saha_df_sorted, 1.0)"
   ]
  },
  {
   "cell_type": "code",
   "execution_count": 230,
   "metadata": {},
   "outputs": [
    {
     "name": "stdout",
     "output_type": "stream",
     "text": [
      "Peak detection işlemi 18838 days, 14 saat, 14 dakika, 44.05 saniye sürmüştür.\n"
     ]
    }
   ],
   "source": [
    "end = time.time()\n",
    "total_time = str(timedelta(seconds=end-start))[:-4].split(\":\")\n",
    "print(f\"Peak detection işlemi {total_time[0]} saat, {total_time[1]} dakika, {total_time[2]} saniye sürmüştür.\")"
   ]
  },
  {
   "cell_type": "code",
   "execution_count": 231,
   "metadata": {},
   "outputs": [],
   "source": [
    "pas_backup2 = pasifik_df_sorted.copy()\n",
    "hor_backup2 = horizon_saha_df_sorted.copy()\n",
    "btt_backup2 = btt_df_sorted.copy()"
   ]
  },
  {
   "cell_type": "code",
   "execution_count": 232,
   "metadata": {},
   "outputs": [],
   "source": [
    "pasifik_df_sorted = peak_distribution(pasifik_df_sorted, 1.0)\n",
    "btt_df_sorted = peak_distribution(btt_df_sorted, 1.0)\n",
    "horizon_saha_df_sorted = peak_distribution(horizon_saha_df_sorted, 1.0)"
   ]
  },
  {
   "cell_type": "code",
   "execution_count": 233,
   "metadata": {},
   "outputs": [
    {
     "name": "stdout",
     "output_type": "stream",
     "text": [
      "Peaklerin tüm seriye dağıtılması işlemi 18838 days, 14 saat, 15 dakika, 17.42 saniye sürmüştür.\n"
     ]
    }
   ],
   "source": [
    "end = time.time()\n",
    "total_time = str(timedelta(seconds=end-start))[:-4].split(\":\")\n",
    "print(f\"Peaklerin tüm seriye dağıtılması işlemi {total_time[0]} saat, {total_time[1]} dakika, {total_time[2]} saniye sürmüştür.\")"
   ]
  },
  {
   "cell_type": "code",
   "execution_count": 234,
   "metadata": {},
   "outputs": [],
   "source": [
    "pasifik_df_sorted, btt_df_sorted, horizon_saha_df_sorted = deep_detection(pasifik_df_sorted, 1.5), deep_detection(btt_df_sorted, 1.5), deep_detection(horizon_saha_df_sorted, 1.5)"
   ]
  },
  {
   "cell_type": "code",
   "execution_count": 235,
   "metadata": {},
   "outputs": [
    {
     "name": "stdout",
     "output_type": "stream",
     "text": [
      "Deep detection işlemi 18838 days, 14 saat, 15 dakika, 23.72 saniye sürmüştür.\n"
     ]
    }
   ],
   "source": [
    "end = time.time()\n",
    "total_time = str(timedelta(seconds=end-start))[:-4].split(\":\")\n",
    "print(f\"Deep detection işlemi {total_time[0]} saat, {total_time[1]} dakika, {total_time[2]} saniye sürmüştür.\")"
   ]
  },
  {
   "cell_type": "code",
   "execution_count": 236,
   "metadata": {},
   "outputs": [],
   "source": [
    "pas_cols_to_drop = [\"no_of_days\", \"weekdays_n\", \"weekdays_ratio\", \"weekend_n\", \"weekend_ratio\", \"actual_holiday_n\", \"actual_holiday_ratio\",\n",
    "                    \"total_holiday_n\", \"total_holiday_ratio\", \"school_day_n\", \"school_day_ratio\", \"school_day_brdg_n\", \"school_day_brdg_ratio\",\n",
    "                    \"ramadan_n\", \"ramadan_ratio\", \"pandemic\", \"lockdown\", \"fiyat\", \"fiyat_gecisi\", \"raf_tavsiye_satis_fiyati\", \"i̇ndirimli_raf_satis_fiyati\", \n",
    "                    \"aktivite_tipi\", \"indirim__\"]"
   ]
  },
  {
   "cell_type": "code",
   "execution_count": 237,
   "metadata": {},
   "outputs": [],
   "source": [
    "btt_cols_to_drop = [\"no_of_days\", \"weekdays_n\", \"weekdays_ratio\", \"weekend_n\", \"weekend_ratio\", \"actual_holiday_n\", \"actual_holiday_ratio\",\n",
    "                    \"total_holiday_n\", \"total_holiday_ratio\", \"school_day_n\", \"school_day_ratio\", \"school_day_brdg_n\", \"school_day_brdg_ratio\",\n",
    "                    \"ramadan_n\", \"ramadan_ratio\", \"pandemic\", \"lockdown\", \"fiyat\", \"fiyat_gecisi\", \"ciro_kull_i̇ade_dus\", \"promosyon_tutari\", \n",
    "                    \"iskonto__\"]"
   ]
  },
  {
   "cell_type": "code",
   "execution_count": 238,
   "metadata": {},
   "outputs": [],
   "source": [
    "hor_cols_to_drop = [\"no_of_days\", \"weekdays_n\", \"weekdays_ratio\", \"weekend_n\", \"weekend_ratio\", \"actual_holiday_n\", \"actual_holiday_ratio\",\n",
    "                    \"total_holiday_n\", \"total_holiday_ratio\", \"school_day_n\", \"school_day_ratio\", \"school_day_brdg_n\", \"school_day_brdg_ratio\",\n",
    "                    \"ramadan_n\", \"ramadan_ratio\", \"pandemic\", \"lockdown\", \"fiyat\", \"fiyat_gecisi\", \"ciro_kull_i̇ade_dus\", \"promosyon_tutari\", \n",
    "                    \"iskonto__\"]"
   ]
  },
  {
   "cell_type": "code",
   "execution_count": 239,
   "metadata": {},
   "outputs": [],
   "source": [
    "pasifik_df_sorted.drop(columns=pas_cols_to_drop, inplace=True)\n",
    "horizon_saha_df_sorted.drop(columns=hor_cols_to_drop, inplace=True)\n",
    "btt_df_sorted.drop(columns=btt_cols_to_drop, inplace=True)"
   ]
  },
  {
   "cell_type": "code",
   "execution_count": 240,
   "metadata": {},
   "outputs": [],
   "source": [
    "pasifik_df_sorted = pasifik_df_sorted.merge(p_fiyat_unique, how=\"left\", on=[\"date\", \"en_guncel_kod\"])\n",
    "horizon_saha_df_sorted = horizon_saha_df_sorted.merge(h_fiyat_unique, how=\"left\", on=[\"date\", \"en_guncel_kod\"])\n",
    "btt_df_sorted = btt_df_sorted.merge(h_fiyat_unique, how=\"left\", on=[\"date\", \"en_guncel_kod\"])"
   ]
  },
  {
   "cell_type": "code",
   "execution_count": 241,
   "metadata": {},
   "outputs": [],
   "source": [
    "pasifik_df_sorted = pd.merge(pasifik_df_sorted, pasifik_aktivite_df3[['yil', 'ay', 'grup_adi', 'en_guncel_kod', \n",
    "                                                                      'raf_tavsiye_satis_fiyati', 'i̇ndirimli_raf_satis_fiyati', 'indirim_', \n",
    "                                                                      'aktivite_tipi']], \n",
    "                             left_on=['yil', 'ay', 'grup_adi', 'en_guncel_kod'], \n",
    "                             right_on=['yil', 'ay', 'grup_adi', 'en_guncel_kod'], \n",
    "                             how=\"left\")"
   ]
  },
  {
   "cell_type": "code",
   "execution_count": 242,
   "metadata": {},
   "outputs": [],
   "source": [
    "horizon_saha_df_sorted = horizon_saha_df_sorted.merge(saha_aktivite_detay3[['yil', 'ay', 'grup_adi', 'ciro_kull_i̇ade_dus', \n",
    "                                                                            'promosyon_tutari', 'i̇skonto_', 'en_guncel_kod']],\n",
    "                                                      on=['en_guncel_kod', 'yil', 'ay', 'grup_adi'], \n",
    "                                                      how=\"left\")"
   ]
  },
  {
   "cell_type": "code",
   "execution_count": 243,
   "metadata": {},
   "outputs": [],
   "source": [
    "btt_df_sorted = btt_df_sorted.merge(btt_aktivite[['yil', 'ay', 'grup_adi', 'ciro_kull_i̇ade_dus', \n",
    "                                                  'promosyon_tutari', 'i̇skonto_', 'en_guncel_kod']],\n",
    "                                    on=['en_guncel_kod', 'yil', 'ay', 'grup_adi'], \n",
    "                                    how=\"left\")"
   ]
  },
  {
   "cell_type": "code",
   "execution_count": 244,
   "metadata": {},
   "outputs": [],
   "source": [
    "pasifik_df_sorted[\"indirim__\"] = [0 if akt < 0 else akt for akt in pasifik_df_sorted[\"indirim_\"]]\n",
    "pasifik_df_sorted.drop(\"indirim_\", axis=1, inplace=True)"
   ]
  },
  {
   "cell_type": "code",
   "execution_count": 245,
   "metadata": {},
   "outputs": [],
   "source": [
    "btt_df_sorted[\"i̇skonto__\"] = [0 if ((akt >= 0.35) or (akt <=0.01)) else akt for akt in btt_df_sorted[\"i̇skonto_\"]]\n",
    "btt_df_sorted.drop(\"i̇skonto_\", axis=1, inplace=True)"
   ]
  },
  {
   "cell_type": "code",
   "execution_count": 246,
   "metadata": {},
   "outputs": [],
   "source": [
    "horizon_saha_df_sorted[\"i̇skonto__\"] = [0 if ((akt >= 0.35) or (akt <=0.01)) else akt for akt in horizon_saha_df_sorted[\"i̇skonto_\"]]\n",
    "horizon_saha_df_sorted.drop(\"i̇skonto_\", axis=1, inplace=True)"
   ]
  },
  {
   "cell_type": "code",
   "execution_count": 247,
   "metadata": {},
   "outputs": [],
   "source": [
    "chng_cols = dict(zip(['Yıl', 'Ay', 'No_of_days', 'Weekdays_n', 'Weekdays_Ratio', 'Weekend_n',\n",
    "                      'Weekend_Ratio', 'Actual_Holiday_n', 'Actual_Holiday_Ratio',\n",
    "                      'Total_Holiday_n', 'Total_Holiday_Ratio', 'School_Day_n',\n",
    "                      'School_Day_Ratio', 'School_Day_brdg_n', 'School_Day_brdg_Ratio',\n",
    "                      'Ramadan_n', 'Ramadan_Ratio', 'Pandemic', 'Lockdown'],\n",
    "                     \n",
    "                     [\"yil\", \"ay\", \"no_of_days\", \"weekdays_n\", \"weekdays_ratio\", \"weekend_n\", \n",
    "                      \"weekend_ratio\", \"actual_holiday_n\", \"actual_holiday_ratio\",\n",
    "                      \"total_holiday_n\", \"total_holiday_ratio\", \"school_day_n\", \n",
    "                      \"school_day_ratio\", \"school_day_brdg_n\", \"school_day_brdg_ratio\",\n",
    "                      \"ramadan_n\", \"ramadan_ratio\", \"pandemic\", \"lockdown\"]))"
   ]
  },
  {
   "cell_type": "code",
   "execution_count": 248,
   "metadata": {},
   "outputs": [],
   "source": [
    "calender_df.rename(columns=chng_cols, inplace=True)"
   ]
  },
  {
   "cell_type": "code",
   "execution_count": 249,
   "metadata": {},
   "outputs": [],
   "source": [
    "pasifik_df_sorted = pd.merge(pasifik_df_sorted, calender_df, on=[\"yil\", \"ay\"], how=\"left\")\n",
    "btt_df_sorted = pd.merge(btt_df_sorted, calender_df, on=[\"yil\", \"ay\"], how=\"left\")\n",
    "horizon_saha_df_sorted = pd.merge(horizon_saha_df_sorted, calender_df, on=[\"yil\", \"ay\"], how=\"left\")"
   ]
  },
  {
   "cell_type": "code",
   "execution_count": 250,
   "metadata": {},
   "outputs": [],
   "source": [
    "pasifik_df_sorted[\"indirim__\"].fillna(0, inplace=True)\n",
    "horizon_saha_df_sorted[\"i̇skonto__\"].fillna(0, inplace=True)\n",
    "btt_df_sorted[\"i̇skonto__\"].fillna(0, inplace=True)"
   ]
  },
  {
   "cell_type": "code",
   "execution_count": 251,
   "metadata": {},
   "outputs": [],
   "source": [
    "horizon_saha_df_sorted.rename(columns={\"i̇skonto__\": \"indirim__\"}, inplace=True)\n",
    "btt_df_sorted.rename(columns={\"i̇skonto__\": \"indirim__\"}, inplace=True)"
   ]
  },
  {
   "cell_type": "markdown",
   "metadata": {},
   "source": [
    "---\n",
    "# Bir önceki aya yansımış aktiviteleri düzenleme\n",
    "---"
   ]
  },
  {
   "cell_type": "code",
   "execution_count": 252,
   "metadata": {},
   "outputs": [],
   "source": [
    "def aktivite_regulation(df):\n",
    "    df_all = []\n",
    "    for sku in df[\"en_guncel_kod\"].unique():\n",
    "        for grup in df[\"grup_adi\"].unique():\n",
    "            test = df[(df[\"en_guncel_kod\"] == sku) & (df[\"grup_adi\"] == grup)]\n",
    "            for idx in test.index:\n",
    "                if (idx-2 not in test.index) and (idx-1 in test.index): # bir öncekine bakacak. ilk ve sonraki satıra bakacak. -1 götür\n",
    "                    if test.loc[idx-1, \"adet\"] > test.loc[idx, \"adet\"]:\n",
    "                        test.loc[idx-1, \"indirim__\"] += test.loc[idx, \"indirim__\"]\n",
    "                        test.loc[idx, \"indirim__\"] = 0\n",
    "                elif (idx-1 not in test.index): # ilk satırdayız. pass\n",
    "                    pass\n",
    "                else:\n",
    "                    dic = {}\n",
    "                    dic.update({idx-2: test.loc[idx-2, \"adet\"], \n",
    "                                idx-1: test.loc[idx-1, \"adet\"],\n",
    "                                idx: test.loc[idx, \"adet\"]})\n",
    "                    max_idx = max(dic, key=dic.get)\n",
    "                    if max_idx == idx:\n",
    "                        pass\n",
    "                    else:\n",
    "                        test.loc[max_idx, \"indirim__\"] += test.loc[idx, \"indirim__\"]\n",
    "                        test.loc[idx, \"indirim__\"] = 0\n",
    "            df_all.append(test)\n",
    "    df_all = pd.concat(df_all)\n",
    "    return df_all"
   ]
  },
  {
   "cell_type": "code",
   "execution_count": 253,
   "metadata": {},
   "outputs": [],
   "source": [
    "pasifik_df_sorted, horizon_saha_df_sorted, btt_df_sorted = aktivite_regulation(pasifik_df_sorted), aktivite_regulation(horizon_saha_df_sorted), aktivite_regulation(btt_df_sorted)"
   ]
  },
  {
   "cell_type": "code",
   "execution_count": 254,
   "metadata": {},
   "outputs": [
    {
     "name": "stdout",
     "output_type": "stream",
     "text": [
      "Aktivitenin düzenlenmesi işlemi 18838 days, 14 saat, 19 dakika, 46.45 saniye sürmüştür.\n"
     ]
    }
   ],
   "source": [
    "end = time.time()\n",
    "total_time = str(timedelta(seconds=end-start))[:-4].split(\":\")\n",
    "print(f\"Aktivitenin düzenlenmesi işlemi {total_time[0]} saat, {total_time[1]} dakika, {total_time[2]} saniye sürmüştür.\")"
   ]
  },
  {
   "cell_type": "code",
   "execution_count": null,
   "metadata": {},
   "outputs": [],
   "source": []
  },
  {
   "cell_type": "code",
   "execution_count": null,
   "metadata": {},
   "outputs": [],
   "source": []
  },
  {
   "cell_type": "markdown",
   "metadata": {},
   "source": [
    "---\n",
    "# Binslere ayırma\n",
    "---"
   ]
  },
  {
   "cell_type": "code",
   "execution_count": 255,
   "metadata": {},
   "outputs": [
    {
     "data": {
      "image/png": "[encoded data removed]",
      "text/plain": [
       "<Figure size 432x288 with 1 Axes>"
      ]
     },
     "metadata": {
      "needs_background": "light"
     },
     "output_type": "display_data"
    }
   ],
   "source": [
    "indirim_bins = [0, 0.01, 0.02, 0.03, 0.04, 0.05, \n",
    "                0.06, 0.07, 0.08, 0.09, 0.10, \n",
    "                0.15, pasifik_df_sorted.indirim__.max()+1]\n",
    "#indirim_bins = [0, 0.009, 0.05, 0.10, 0.15, 0.20, 0.25, 0.50, pasifik_df_sorted.indirim__.max()+1]\n",
    "pasifik_df_sorted.indirim__.hist(bins=indirim_bins)\n",
    "len(indirim_bins) , pasifik_df_sorted.indirim__.value_counts(bins=indirim_bins).sort_index()\n",
    "pasifik_df_sorted['indirim__bins'] = pd.cut(pasifik_df_sorted.indirim__, indirim_bins).cat.codes"
   ]
  },
  {
   "cell_type": "code",
   "execution_count": 256,
   "metadata": {},
   "outputs": [
    {
     "data": {
      "image/png": "[encoded data removed]",
      "text/plain": [
       "<Figure size 432x288 with 1 Axes>"
      ]
     },
     "metadata": {
      "needs_background": "light"
     },
     "output_type": "display_data"
    }
   ],
   "source": [
    "indirim_bins = [0, 0.01, 0.02, 0.03, 0.04, 0.05, \n",
    "                0.06, 0.07, 0.08, 0.09, 0.10, \n",
    "                0.15, horizon_saha_df_sorted.indirim__.max()+1]\n",
    "horizon_saha_df_sorted.indirim__.hist(bins=indirim_bins)\n",
    "len(indirim_bins) , horizon_saha_df_sorted.indirim__.value_counts(bins=indirim_bins)\n",
    "horizon_saha_df_sorted['indirim__bins'] = pd.cut(horizon_saha_df_sorted.indirim__, indirim_bins).cat.codes"
   ]
  },
  {
   "cell_type": "code",
   "execution_count": 257,
   "metadata": {},
   "outputs": [
    {
     "data": {
      "image/png": "[encoded data removed]",
      "text/plain": [
       "<Figure size 432x288 with 1 Axes>"
      ]
     },
     "metadata": {
      "needs_background": "light"
     },
     "output_type": "display_data"
    }
   ],
   "source": [
    "indirim_bins = [0, 0.01, 0.02, 0.03, 0.04, 0.05, \n",
    "                0.06, 0.07, 0.08, 0.09, 0.10, \n",
    "                0.15, btt_df_sorted.indirim__.max()+1]\n",
    "btt_df_sorted.indirim__.hist(bins=indirim_bins)\n",
    "len(indirim_bins) , btt_df_sorted.indirim__.value_counts(bins=indirim_bins)\n",
    "btt_df_sorted['indirim__bins'] = pd.cut(btt_df_sorted.indirim__, indirim_bins).cat.codes"
   ]
  },
  {
   "cell_type": "markdown",
   "metadata": {},
   "source": [
    "---\n",
    "# Missing Imputation\n",
    "---"
   ]
  },
  {
   "cell_type": "code",
   "execution_count": 258,
   "metadata": {},
   "outputs": [],
   "source": [
    "def missing_imputation(data):\n",
    "    df_all = []\n",
    "    data[\"new_adet\"] = data[\"adet\"]\n",
    "    for sku in data[\"en_guncel_kod\"].unique():\n",
    "        for grup in data[\"grup_adi\"].unique():\n",
    "            test = data[(data[\"en_guncel_kod\"] == sku) & (data[\"grup_adi\"] == grup)]\n",
    "            index_full = list(test[test[\"new_adet\"] != 1].index)\n",
    "            for idx in range(len(index_full) - 1):\n",
    "                if index_full[idx+1] - index_full[idx] != 1:\n",
    "                    index_na = list(range(index_full[idx]+1, index_full[idx+1]))\n",
    "                    fark = test.loc[index_full[idx+1], \"new_adet\"] - test.loc[index_full[idx], \"new_adet\"]\n",
    "                    bol = len(index_na)\n",
    "                    ekle = fark/(bol+1)\n",
    "                    for i in index_na:\n",
    "                        test.loc[i, \"new_adet\"] = 0\n",
    "                        test.loc[i, \"new_adet\"] += ekle+test.loc[i-1, \"new_adet\"]\n",
    "                else:\n",
    "                    pass\n",
    "            df_all.append(test)\n",
    "    df_all = pd.concat(df_all)\n",
    "    return df_all"
   ]
  },
  {
   "cell_type": "code",
   "execution_count": 259,
   "metadata": {},
   "outputs": [],
   "source": [
    "pas_backup = pasifik_df_sorted.copy()\n",
    "hor_backup = horizon_saha_df_sorted.copy()\n",
    "btt_backup = btt_df_sorted.copy()"
   ]
  },
  {
   "cell_type": "code",
   "execution_count": 260,
   "metadata": {},
   "outputs": [],
   "source": [
    "pasifik_df_sorted, horizon_saha_df_sorted, btt_df_sorted = missing_imputation(pasifik_df_sorted), missing_imputation(horizon_saha_df_sorted), missing_imputation(btt_df_sorted)"
   ]
  },
  {
   "cell_type": "code",
   "execution_count": 261,
   "metadata": {},
   "outputs": [
    {
     "name": "stdout",
     "output_type": "stream",
     "text": [
      "Missing imputation işlemi 18838 days, 14 saat, 22 dakika, 21.38 saniye sürmüştür.\n"
     ]
    }
   ],
   "source": [
    "end = time.time()\n",
    "total_time = str(timedelta(seconds=end-start))[:-4].split(\":\")\n",
    "print(f\"Missing imputation işlemi {total_time[0]} saat, {total_time[1]} dakika, {total_time[2]} saniye sürmüştür.\")"
   ]
  },
  {
   "cell_type": "code",
   "execution_count": 262,
   "metadata": {},
   "outputs": [],
   "source": [
    "from statsmodels.tsa.seasonal import STL"
   ]
  },
  {
   "cell_type": "code",
   "execution_count": 263,
   "metadata": {},
   "outputs": [],
   "source": [
    "pasifik_regression = pasifik_df_sorted.copy()\n",
    "horizon_regression = horizon_saha_df_sorted.copy()\n",
    "btt_regression = btt_df_sorted.copy()"
   ]
  },
  {
   "cell_type": "code",
   "execution_count": 264,
   "metadata": {},
   "outputs": [],
   "source": [
    "pasifik_regression = pasifik_regression[pasifik_regression[\"new_adet\"] != 1].reset_index(drop=True)\n",
    "horizon_regression = horizon_regression[horizon_regression[\"new_adet\"] != 1].reset_index(drop=True)\n",
    "btt_regression = btt_regression[btt_regression[\"new_adet\"] != 1].reset_index(drop=True)"
   ]
  },
  {
   "cell_type": "code",
   "execution_count": 265,
   "metadata": {},
   "outputs": [],
   "source": [
    "def trend_seasonality_decomp(data):\n",
    "    df_all = []\n",
    "    for sku in data[\"en_guncel_kod\"].unique():\n",
    "        for grup in data[\"grup_adi\"].unique():\n",
    "            temp_df = data[(data[\"en_guncel_kod\"] == sku) & \n",
    "                           (data[\"grup_adi\"] == grup)]\n",
    "\n",
    "            if len(temp_df) > 2:\n",
    "                df_ts = temp_df[['new_adet','date']]\n",
    "                df_ts.set_index('date',inplace=True)\n",
    "\n",
    "                result = STL(df_ts).fit()\n",
    "                temp_df['season'] = list(result.seasonal)\n",
    "                temp_df['trend']  = list(result.trend)\n",
    "                temp_df['residual']  = list(result.resid)\n",
    "                df_all.append(temp_df)\n",
    "            else:\n",
    "                pass\n",
    "    df_all = pd.concat(df_all)\n",
    "    return df_all"
   ]
  },
  {
   "cell_type": "code",
   "execution_count": 266,
   "metadata": {},
   "outputs": [],
   "source": [
    "pasifik_reg = pasifik_df_sorted[pasifik_df_sorted[\"scope\"] == 3]\n",
    "horizon_reg = horizon_saha_df_sorted[horizon_saha_df_sorted[\"scope\"] == 3]\n",
    "btt_reg = btt_df_sorted[btt_df_sorted[\"scope\"] == 3]"
   ]
  },
  {
   "cell_type": "code",
   "execution_count": 267,
   "metadata": {},
   "outputs": [],
   "source": [
    "pasifik_reg = trend_seasonality_decomp(pasifik_reg)\n",
    "horizon_reg = trend_seasonality_decomp(horizon_reg)\n",
    "btt_reg = trend_seasonality_decomp(btt_reg)"
   ]
  },
  {
   "cell_type": "code",
   "execution_count": 268,
   "metadata": {},
   "outputs": [
    {
     "name": "stdout",
     "output_type": "stream",
     "text": [
      "Trend ve sezonsallık işlemi 18838 days, 14 saat, 22 dakika, 31.35 saniye sürmüştür.\n"
     ]
    }
   ],
   "source": [
    "end = time.time()\n",
    "total_time = str(timedelta(seconds=end-start))[:-4].split(\":\")\n",
    "print(f\"Trend ve sezonsallık işlemi {total_time[0]} saat, {total_time[1]} dakika, {total_time[2]} saniye sürmüştür.\")"
   ]
  },
  {
   "cell_type": "code",
   "execution_count": 269,
   "metadata": {},
   "outputs": [],
   "source": [
    "pasifik_df_sorted[\"season\"] = np.nan\n",
    "pasifik_df_sorted[\"trend\"] = np.nan\n",
    "pasifik_df_sorted[\"residual\"] = np.nan\n",
    "\n",
    "horizon_saha_df_sorted[\"season\"] = np.nan\n",
    "horizon_saha_df_sorted[\"trend\"] = np.nan\n",
    "horizon_saha_df_sorted[\"residual\"] = np.nan\n",
    "\n",
    "btt_df_sorted[\"season\"] = np.nan\n",
    "btt_df_sorted[\"trend\"] = np.nan\n",
    "btt_df_sorted[\"residual\"] = np.nan"
   ]
  },
  {
   "cell_type": "code",
   "execution_count": 270,
   "metadata": {},
   "outputs": [],
   "source": [
    "pasifik_reg = pasifik_reg[pasifik_reg[\"new_adet\"] != 1]\n",
    "horizon_reg = horizon_reg[horizon_reg[\"new_adet\"] != 1]\n",
    "btt_reg = btt_reg[btt_reg[\"new_adet\"] != 1]"
   ]
  },
  {
   "cell_type": "code",
   "execution_count": 271,
   "metadata": {},
   "outputs": [],
   "source": [
    "pasifik_df = pd.concat([pasifik_df_sorted[pasifik_df_sorted[\"scope\"] != 3], pasifik_reg], axis=0, ignore_index=True)\n",
    "horizon_df = pd.concat([horizon_saha_df_sorted[horizon_saha_df_sorted[\"scope\"] != 3], horizon_reg], axis=0, ignore_index=True)\n",
    "btt_df = pd.concat([btt_df_sorted[btt_df_sorted[\"scope\"] != 3], btt_reg], axis=0, ignore_index=True)"
   ]
  },
  {
   "cell_type": "markdown",
   "metadata": {},
   "source": [
    "---\n",
    "# Yeni adet flaglendi\n",
    "---"
   ]
  },
  {
   "cell_type": "code",
   "execution_count": 272,
   "metadata": {},
   "outputs": [],
   "source": [
    "pasifik_df[\"adet_flag\"] = np.where(pasifik_df[\"adet\"] - pasifik_df[\"new_adet\"] == 0, 0, 1)\n",
    "horizon_df[\"adet_flag\"] = np.where(horizon_df[\"adet\"] - horizon_df[\"new_adet\"] == 0, 0, 1)\n",
    "btt_df[\"adet_flag\"] = np.where(btt_df[\"adet\"] - btt_df[\"new_adet\"] == 0, 0, 1)"
   ]
  },
  {
   "cell_type": "markdown",
   "metadata": {},
   "source": [
    "---\n",
    "# Gözlemlerin Sırasının Fiyatın Büyükten Küçüğe Sıralanmasına Göre Düzenlenmesi (SKU bazında fiyat benzerliği pattern'i yakalamak amacıyla yapıldı)\n",
    "---"
   ]
  },
  {
   "cell_type": "code",
   "execution_count": 273,
   "metadata": {},
   "outputs": [],
   "source": [
    "sorter = pasifik_df.groupby([\"en_guncel_kod\"]).agg({\"fiyat\": \"max\"}).reset_index().sort_values(by=\"fiyat\", ascending=False)[\"en_guncel_kod\"].to_list()\n",
    "sorterIndex = dict(zip(sorter, range(len(sorter))))\n",
    "pasifik_df_sorted = pasifik_df.copy()\n",
    "pasifik_df_sorted[\"sorted\"] = pasifik_df_sorted[\"en_guncel_kod\"].map(sorterIndex)\n",
    "pasifik_df_sorted.sort_values(['sorted', \"grup_adi\", \"yil\", \"ay\"],\n",
    "        ascending = [True]*4, inplace = True)\n",
    "pasifik_df_sorted.drop('sorted', 1, inplace = True)\n",
    "pasifik_df_sorted.reset_index(drop=True, inplace=True)"
   ]
  },
  {
   "cell_type": "code",
   "execution_count": 274,
   "metadata": {},
   "outputs": [],
   "source": [
    "sorter = horizon_df.groupby([\"en_guncel_kod\"]).agg({\"fiyat\": \"max\"}).reset_index().sort_values(by=\"fiyat\", ascending=False)[\"en_guncel_kod\"].to_list()\n",
    "sorterIndex = dict(zip(sorter, range(len(sorter))))\n",
    "horizon_saha_df_sorted = horizon_df.copy()\n",
    "horizon_saha_df_sorted[\"sorted\"] = horizon_saha_df_sorted[\"en_guncel_kod\"].map(sorterIndex)\n",
    "horizon_saha_df_sorted.sort_values(['sorted', \"grup_adi\", \"yil\", \"ay\"],\n",
    "        ascending = [True]*4, inplace = True)\n",
    "horizon_saha_df_sorted.drop('sorted', 1, inplace = True)\n",
    "horizon_saha_df_sorted.reset_index(drop=True, inplace=True)"
   ]
  },
  {
   "cell_type": "code",
   "execution_count": 275,
   "metadata": {},
   "outputs": [],
   "source": [
    "sorter = btt_df.groupby([\"en_guncel_kod\"]).agg({\"fiyat\": \"max\"}).reset_index().sort_values(by=\"fiyat\", ascending=False)[\"en_guncel_kod\"].to_list()\n",
    "sorterIndex = dict(zip(sorter, range(len(sorter))))\n",
    "btt_df_sorted = btt_df.copy()\n",
    "btt_df_sorted[\"sorted\"] = btt_df_sorted[\"en_guncel_kod\"].map(sorterIndex)\n",
    "btt_df_sorted.sort_values(['sorted', \"grup_adi\", \"yil\", \"ay\"],\n",
    "        ascending = [True]*4, inplace = True)\n",
    "btt_df_sorted.drop('sorted', 1, inplace = True)\n",
    "btt_df_sorted.reset_index(drop=True, inplace=True)"
   ]
  },
  {
   "cell_type": "code",
   "execution_count": 276,
   "metadata": {},
   "outputs": [],
   "source": [
    "horizon_saha_df_sorted[\"aktivite_tipi\"] = np.nan\n",
    "btt_df_sorted[\"aktivite_tipi\"] = np.nan"
   ]
  },
  {
   "cell_type": "code",
   "execution_count": 277,
   "metadata": {},
   "outputs": [],
   "source": [
    "pasifik_df_sorted.rename(columns={'i̇ndirimli_raf_satis_fiyati': 'ciro_kull_i̇ade_dus',\n",
    "                                  'raf_tavsiye_satis_fiyati': 'promosyon_tutari'}, inplace=True)"
   ]
  },
  {
   "cell_type": "code",
   "execution_count": 278,
   "metadata": {},
   "outputs": [],
   "source": [
    "pasifik_df_sorted[\"Kanal\"] = \"pasifik\"\n",
    "horizon_saha_df_sorted[\"Kanal\"] = \"horizon\"\n",
    "btt_df_sorted[\"Kanal\"] = \"btt\""
   ]
  },
  {
   "cell_type": "code",
   "execution_count": 279,
   "metadata": {},
   "outputs": [],
   "source": [
    "scope_dict = {0: \"kapsam_disi\", 1: \"ortalama_basilacak\", 2: \"ts\", 3: \"regresyon\"}"
   ]
  },
  {
   "cell_type": "code",
   "execution_count": 280,
   "metadata": {},
   "outputs": [],
   "source": [
    "pasifik_df_sorted[\"scope_type\"] = pasifik_df_sorted[\"scope\"].map(scope_dict)\n",
    "horizon_saha_df_sorted[\"scope_type\"] = horizon_saha_df_sorted[\"scope\"].map(scope_dict)\n",
    "btt_df_sorted[\"scope_type\"] = btt_df_sorted[\"scope\"].map(scope_dict)"
   ]
  },
  {
   "cell_type": "code",
   "execution_count": 298,
   "metadata": {},
   "outputs": [],
   "source": [
    "df_all = pd.concat([pasifik_df_sorted, horizon_saha_df_sorted, btt_df_sorted], axis=0, ignore_index=True)"
   ]
  },
  {
   "cell_type": "markdown",
   "metadata": {},
   "source": [
    "---\n",
    "# Aktivite Dictionary\n",
    "---"
   ]
  },
  {
   "cell_type": "code",
   "execution_count": 299,
   "metadata": {},
   "outputs": [],
   "source": [
    "aktivite_dict = {0:0, 'Mağaza içi/Dağılım':2, 'İn&out':5, \n",
    "                 'Çoklu Alım':8, 'Mutluluk':11, 'Kasiyer':14, 'CRM':17}\n",
    "\n",
    "df_all.aktivite_tipi.fillna(0, inplace=True)\n",
    "df_all.aktivite_tipi = df_all.aktivite_tipi.map(aktivite_dict)"
   ]
  },
  {
   "cell_type": "markdown",
   "metadata": {},
   "source": [
    "---\n",
    "# Datanın dışarıya aktarılması\n",
    "### Fiyata Göre Sıralanmış Datanın Dışarıya Aktarılması\n",
    "---"
   ]
  },
  {
   "cell_type": "code",
   "execution_count": 304,
   "metadata": {},
   "outputs": [],
   "source": [
    "df_all = df_all[~((df_all[\"yil\"] == 2021) & (df_all[\"ay\"] == 6))]"
   ]
  },
  {
   "cell_type": "code",
   "execution_count": 306,
   "metadata": {},
   "outputs": [],
   "source": [
    "df_all.to_csv(\"../data/_all_data_36_12.csv\", index=False)"
   ]
  },
  {
   "cell_type": "code",
   "execution_count": 307,
   "metadata": {},
   "outputs": [],
   "source": [
    "df_all.to_excel(\"../data/_all_data_36_12.xlsx\", index=False)"
   ]
  },
  {
   "cell_type": "raw",
   "metadata": {},
   "source": [
    "pasifik_df_sorted.to_excel(\"../data/_pasifik_sales_portfoy.xlsx\", index=False)"
   ]
  },
  {
   "cell_type": "raw",
   "metadata": {},
   "source": [
    "btt_df_sorted.to_excel(\"../data/_btt_sales_portfoy.xlsx\", index=False)"
   ]
  },
  {
   "cell_type": "raw",
   "metadata": {},
   "source": [
    "horizon_saha_df_sorted.to_excel(\"../data/_horizon_sales_portfoy.xlsx\", index=False)"
   ]
  },
  {
   "cell_type": "raw",
   "metadata": {},
   "source": [
    "pasifik_regression.to_excel(\"../data/_pasifik_regression.xlsx\", index=False)"
   ]
  },
  {
   "cell_type": "raw",
   "metadata": {},
   "source": [
    "btt_regression.to_excel(\"../data/btt_regression.xlsx\", index=False)"
   ]
  },
  {
   "cell_type": "raw",
   "metadata": {},
   "source": [
    "horizon_regression.to_excel(\"../data/horizon_regression.xlsx\", index=False)"
   ]
  },
  {
   "cell_type": "code",
   "execution_count": 280,
   "metadata": {},
   "outputs": [
    {
     "name": "stdout",
     "output_type": "stream",
     "text": [
      "\\Data prep çalışma süresi: 451643:00:13.73\n"
     ]
    }
   ],
   "source": [
    "end = time.time()\n",
    "hours, rem = divmod(end-start, 3600)\n",
    "minutes, seconds = divmod(rem, 60)\n",
    "print(\"\\Data prep çalışma süresi: \"+\"{:0>2}:{:0>2}:{:05.2f}\".format(int(hours),int(minutes),seconds))"
   ]
  },
  {
   "cell_type": "markdown",
   "metadata": {},
   "source": [
    "---\n",
    "# Kontrol\n",
    "---"
   ]
  },
  {
   "cell_type": "code",
   "execution_count": null,
   "metadata": {},
   "outputs": [],
   "source": [
    "pasifik_df_sorted[(pasifik_df_sorted[\"scope\"] == 0) & (pasifik_df_sorted[\"portfoy\"] == 1)][[\"en_guncel_kod\", \"grup_adi\"]].drop_duplicates().reset_index(drop=True)"
   ]
  },
  {
   "cell_type": "code",
   "execution_count": null,
   "metadata": {},
   "outputs": [],
   "source": [
    "print(\"Pasifik Kapsam Dışı SKU:\", len(list(pasifik_df_sorted[(pasifik_df_sorted[\"scope\"] == 0) & (pasifik_df_sorted[\"portfoy\"] == 1)].en_guncel_kod.drop_duplicates())))\n",
    "print(\"Horizon Kapsam Dışı SKU:\", len(list(horizon_saha_df_sorted[(horizon_saha_df_sorted[\"scope\"] == 0) & (horizon_saha_df_sorted[\"portfoy\"] == 1)].en_guncel_kod.drop_duplicates())))\n",
    "print(\"BTT Kapsam Dışı SKU    :\", len(list(btt_df_sorted[(btt_df_sorted[\"scope\"] == 0) & (btt_df_sorted[\"portfoy\"] == 1)].en_guncel_kod.drop_duplicates())))\n",
    "print()\n",
    "print(\"Pasifik Ortalama Basılacak SKU:\", len(list(pasifik_df_sorted[(pasifik_df_sorted[\"scope\"] == 1) & (pasifik_df_sorted[\"portfoy\"] == 1)].en_guncel_kod.drop_duplicates())))\n",
    "print(\"Horizon Ortalama Basılacak SKU:\", len(list(horizon_saha_df_sorted[(horizon_saha_df_sorted[\"scope\"] == 1) & (horizon_saha_df_sorted[\"portfoy\"] == 1)].en_guncel_kod.drop_duplicates())))\n",
    "print(\"BTT Ortalama Basılacak SKU    :\", len(list(btt_df_sorted[(btt_df_sorted[\"scope\"] == 1) & (btt_df_sorted[\"portfoy\"] == 1)].en_guncel_kod.drop_duplicates())))\n",
    "print()\n",
    "print(\"Pasifik Sürekli SKU:\", len(list(pasifik_df_sorted[(pasifik_df_sorted[\"scope\"] == 2) & (pasifik_df_sorted[\"portfoy\"] == 1)].en_guncel_kod.drop_duplicates())))\n",
    "print(\"Horizon Sürekli SKU:\", len(list(horizon_saha_df_sorted[(horizon_saha_df_sorted[\"scope\"] == 2) & (horizon_saha_df_sorted[\"portfoy\"] == 1)].en_guncel_kod.drop_duplicates())))\n",
    "print(\"BTT Sürekli SKU    :\", len(list(btt_df_sorted[(btt_df_sorted[\"scope\"] == 2) & (btt_df_sorted[\"portfoy\"] == 1)].en_guncel_kod.drop_duplicates())))\n",
    "print()\n",
    "print(\"Pasifik Kesikli SKU:\", len(list(pasifik_df_sorted[(pasifik_df_sorted[\"scope\"] == 3) & (pasifik_df_sorted[\"portfoy\"] == 1)].en_guncel_kod.drop_duplicates())))\n",
    "print(\"Horizon Kesikli SKU:\", len(list(horizon_saha_df_sorted[(horizon_saha_df_sorted[\"scope\"] == 3) & (horizon_saha_df_sorted[\"portfoy\"] == 1)].en_guncel_kod.drop_duplicates())))\n",
    "print(\"BTT Kesikli SKU    :\", len(list(btt_df_sorted[(btt_df_sorted[\"scope\"] == 3) & (btt_df_sorted[\"portfoy\"] == 1)].en_guncel_kod.drop_duplicates())))"
   ]
  },
  {
   "cell_type": "code",
   "execution_count": null,
   "metadata": {},
   "outputs": [],
   "source": [
    "horizon_saha_df_sorted[(horizon_saha_df_sorted[\"gozlem_sayisi\"] < 24) & \n",
    "                       (horizon_saha_df_sorted[\"oran\"] < 0.85) & \n",
    "                       ((horizon_saha_df_sorted[\"bitis_tarih\"] < datetime(2020, 12, 1))) & \n",
    "                      (horizon_saha_df_sorted[\"portfoy\"] == 1)]"
   ]
  },
  {
   "cell_type": "code",
   "execution_count": null,
   "metadata": {},
   "outputs": [],
   "source": [
    "pasifik_df_sorted, 24, 0.85, datetime(2020, 12, 1)"
   ]
  },
  {
   "cell_type": "code",
   "execution_count": null,
   "metadata": {},
   "outputs": [],
   "source": [
    "pasifik_df_sorted[(pasifik_df_sorted[\"grup_adi\"] == \"ŞOK\") & (pasifik_df_sorted[\"urun_adi\"] == \"Ülker Kare Çikolata - Fındıklı/Üzümlü\")][[\"date\", \"adet\", \"indirim__\"]]"
   ]
  },
  {
   "cell_type": "code",
   "execution_count": null,
   "metadata": {},
   "outputs": [],
   "source": []
  },
  {
   "cell_type": "code",
   "execution_count": null,
   "metadata": {},
   "outputs": [],
   "source": [
    "horizon_saha_df_sorted[horizon_saha_df_sorted[\"scope\"] == 2]"
   ]
  },
  {
   "cell_type": "code",
   "execution_count": null,
   "metadata": {},
   "outputs": [],
   "source": []
  },
  {
   "cell_type": "code",
   "execution_count": null,
   "metadata": {},
   "outputs": [],
   "source": []
  },
  {
   "cell_type": "code",
   "execution_count": null,
   "metadata": {},
   "outputs": [],
   "source": []
  },
  {
   "cell_type": "code",
   "execution_count": null,
   "metadata": {},
   "outputs": [],
   "source": []
  },
  {
   "cell_type": "code",
   "execution_count": null,
   "metadata": {},
   "outputs": [],
   "source": [
    "pd.set_option('display.max_columns', 100)\n",
    "pd.set_option('display.max_rows', 100)"
   ]
  },
  {
   "cell_type": "code",
   "execution_count": null,
   "metadata": {},
   "outputs": [],
   "source": [
    "pasifik_df_sorted[\"adet_flag\"] = 0"
   ]
  },
  {
   "cell_type": "code",
   "execution_count": null,
   "metadata": {},
   "outputs": [],
   "source": [
    "test = pasifik_df_sorted.copy()"
   ]
  },
  {
   "cell_type": "code",
   "execution_count": null,
   "metadata": {},
   "outputs": [],
   "source": [
    "test[\"adet_flag\"] = np.where(test[\"adet\"] - test[\"new_adet\"] == 0, 0, 1)"
   ]
  },
  {
   "cell_type": "code",
   "execution_count": null,
   "metadata": {},
   "outputs": [],
   "source": [
    "test[test[\"adet_flag\"] == 0][[\"adet\", \"new_adet\", \"adet_flag\"]]"
   ]
  },
  {
   "cell_type": "code",
   "execution_count": null,
   "metadata": {},
   "outputs": [],
   "source": [
    "pasifik_df_sorted"
   ]
  },
  {
   "cell_type": "code",
   "execution_count": null,
   "metadata": {},
   "outputs": [],
   "source": [
    "pasifik_df_all.columns"
   ]
  },
  {
   "cell_type": "code",
   "execution_count": null,
   "metadata": {},
   "outputs": [],
   "source": [
    "pasifik_df_all[(pasifik_df_all[\"Ürün Kodu\"] == 135903) & (pasifik_df_all[\"Grup adı\"] == \"BİM\")]"
   ]
  },
  {
   "cell_type": "code",
   "execution_count": null,
   "metadata": {},
   "outputs": [],
   "source": [
    "df_all[(df_all[\"grup_adi\"] == \"BİM\") & (df_all[\"urun_adi\"] == \"ULK ÇİK.GOF.5x36Gx24\")][[\"date\", \"en_guncel_kod\", \"adet\", \"new_adet\", \"peak\"]]"
   ]
  },
  {
   "cell_type": "code",
   "execution_count": null,
   "metadata": {},
   "outputs": [],
   "source": [
    "pd.set_option(\"display.max.rows\", 100)"
   ]
  },
  {
   "cell_type": "code",
   "execution_count": null,
   "metadata": {},
   "outputs": [],
   "source": [
    "df_all2[(df_all2[\"portfoy\"] == 1) & (df_all2[\"durum\"].isna()) & \n",
    "        (df_all2[\"grup_adi\"].isin([\"ŞOK\", \"BİM\", \"A101\"]))][[\"en_guncel_kod\", \"grup_adi\"]].drop_duplicates(subset=[\"en_guncel_kod\", \"grup_adi\"]).to_excel(\"list.xlsx\", index=False)"
   ]
  },
  {
   "cell_type": "code",
   "execution_count": null,
   "metadata": {},
   "outputs": [],
   "source": [
    "eslenik_kod_df[eslenik_kod_df[\"en_guncel_kod\"].isin([23103,65309,130608,136502,135901,142701,157605,20603])]"
   ]
  },
  {
   "cell_type": "code",
   "execution_count": null,
   "metadata": {},
   "outputs": [],
   "source": [
    "pasifik_df_all2.columns"
   ]
  },
  {
   "cell_type": "code",
   "execution_count": null,
   "metadata": {},
   "outputs": [],
   "source": [
    "pasifik_df_all2[(pasifik_df_all2[\"En Güncel Kod\"] == 39500)][\"Grup adı\"].unique()"
   ]
  },
  {
   "cell_type": "code",
   "execution_count": null,
   "metadata": {},
   "outputs": [],
   "source": [
    "t = horizon_saha_df_all2[(horizon_saha_df_all2[\"En Güncel Kod\"] == 39500) & (horizon_saha_df_all2[\"Grup adı\"] == \"GELENEKSEL KANAL\")]"
   ]
  },
  {
   "cell_type": "code",
   "execution_count": null,
   "metadata": {},
   "outputs": [],
   "source": [
    "horizon_saha_df_all3.columns"
   ]
  },
  {
   "cell_type": "code",
   "execution_count": null,
   "metadata": {},
   "outputs": [],
   "source": [
    "t = horizon_saha_df_all3[(horizon_saha_df_all3[\"en_guncel_kod\"] == 39500) & (horizon_saha_df_all3[\"grup_adi\"] == \"GELENEKSEL KANAL\")]"
   ]
  },
  {
   "cell_type": "code",
   "execution_count": null,
   "metadata": {},
   "outputs": [],
   "source": [
    "t.info()"
   ]
  },
  {
   "cell_type": "code",
   "execution_count": null,
   "metadata": {},
   "outputs": [],
   "source": [
    "plt.figure(figsize=(20,8))\n",
    "plt.plot(t[\"date\"], t[\"adet\"], marker=\"o\")\n",
    "plt.grid()\n",
    "plt.show()"
   ]
  },
  {
   "cell_type": "code",
   "execution_count": null,
   "metadata": {},
   "outputs": [],
   "source": [
    "df_all2[(df_all2[\"urun_adi\"] == \"BİSKREM KAKAOLU 100GRx18\") & (df_all2[\"grup_adi\"] == \"GELENEKSEL KANAL\")][[\"date\", \"adet\", \"scope\", \"peak\"]]"
   ]
  },
  {
   "cell_type": "code",
   "execution_count": null,
   "metadata": {},
   "outputs": [],
   "source": [
    "horizon_saha_df_all3[(horizon_saha_df_all3[\"urun_adi\"] == \"BİSKREM KAKAOLU 100GRx18\") & (horizon_saha_df_all3[\"grup_adi\"] == \"GELENEKSEL KANAL\")][\"adet\"].describe()/10"
   ]
  },
  {
   "cell_type": "code",
   "execution_count": null,
   "metadata": {},
   "outputs": [],
   "source": []
  }
 ],
 "metadata": {
  "kernelspec": {
   "display_name": "Python 3",
   "language": "python",
   "name": "python3"
  },
  "language_info": {
   "codemirror_mode": {
    "name": "ipython",
    "version": 3
   },
   "file_extension": ".py",
   "mimetype": "text/x-python",
   "name": "python",
   "nbconvert_exporter": "python",
   "pygments_lexer": "ipython3",
   "version": "3.8.5"
  }
 },
 "nbformat": 4,
 "nbformat_minor": 4
}
