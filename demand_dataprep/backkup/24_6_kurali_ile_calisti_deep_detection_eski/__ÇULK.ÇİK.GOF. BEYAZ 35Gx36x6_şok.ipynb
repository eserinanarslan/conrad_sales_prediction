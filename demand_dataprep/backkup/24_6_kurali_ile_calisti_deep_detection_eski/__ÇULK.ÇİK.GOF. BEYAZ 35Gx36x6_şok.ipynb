{
 "cells": [
  {
   "cell_type": "code",
   "execution_count": 1,
   "metadata": {},
   "outputs": [],
   "source": [
    "import pandas as pd\n",
    "import numpy as np\n",
    "import matplotlib.pyplot as plt\n",
    "import seaborn as sns\n",
    "from datetime import datetime\n",
    "\n",
    "from sklearn.model_selection import GridSearchCV\n",
    "from sklearn.model_selection import train_test_split\n",
    "\n",
    "from sklearn.tree import DecisionTreeRegressor\n",
    "from sklearn.calibration import CalibratedClassifierCV\n",
    "from sklearn.ensemble import RandomForestRegressor\n",
    "from sklearn.ensemble import GradientBoostingRegressor\n",
    "from sklearn.neighbors import KNeighborsRegressor\n",
    "from sklearn.linear_model import LinearRegression\n",
    "\n",
    "from sklearn.preprocessing import LabelEncoder\n",
    "#from sklearn.metrics import mean_absolute_percentage_error\n",
    "from statsmodels.tsa.seasonal import STL\n",
    "\n",
    "\n",
    "from xgboost import XGBRegressor\n",
    "import warnings\n",
    "\n",
    "warnings.filterwarnings(\"ignore\")"
   ]
  },
  {
   "cell_type": "markdown",
   "metadata": {},
   "source": [
    "---\n",
    "# Read Data\n",
    "---"
   ]
  },
  {
   "cell_type": "code",
   "execution_count": 2,
   "metadata": {},
   "outputs": [],
   "source": [
    "df = pd.read_csv(\"../data/_all_data.csv\")"
   ]
  },
  {
   "cell_type": "code",
   "execution_count": 3,
   "metadata": {},
   "outputs": [],
   "source": [
    "df = df[~((df[\"yil\"] == 2021) & (df[\"ay\"] == 6))]"
   ]
  },
  {
   "cell_type": "markdown",
   "metadata": {},
   "source": [
    "---\n",
    "# EDA\n",
    "---"
   ]
  },
  {
   "cell_type": "code",
   "execution_count": 4,
   "metadata": {},
   "outputs": [],
   "source": [
    "def mean_absolute_percentage_error(y_true, y_pred): \n",
    "    return np.mean(np.abs((np.array(y_true) - np.array(y_pred)) / y_true)) * 100"
   ]
  },
  {
   "cell_type": "code",
   "execution_count": 5,
   "metadata": {},
   "outputs": [
    {
     "data": {
      "text/plain": [
       "(203381, 58)"
      ]
     },
     "execution_count": 5,
     "metadata": {},
     "output_type": "execute_result"
    }
   ],
   "source": [
    "df.shape"
   ]
  },
  {
   "cell_type": "code",
   "execution_count": 6,
   "metadata": {},
   "outputs": [
    {
     "data": {
      "text/plain": [
       "Index(['yil', 'ay', 'grup_adi', 'ana_kategori_adi', 'kategori_adi',\n",
       "       'marka_adi', 'urun_adi', 'en_guncel_kod', 'koli_i̇ci_adet', 'koli',\n",
       "       'kg', 'tl', 'adet', 'date', 'portfoy', 'satis_var', 'enflasyon_etkisi',\n",
       "       'yarisma', 'peak', 'fiyat', 'fiyat_gecisi', 'promosyon_tutari',\n",
       "       'ciro_kull_i̇ade_dus', 'aktivite_tipi', 'indirim__', 'no_of_days',\n",
       "       'weekdays_n', 'weekdays_ratio', 'weekend_n', 'weekend_ratio',\n",
       "       'actual_holiday_n', 'actual_holiday_ratio', 'total_holiday_n',\n",
       "       'total_holiday_ratio', 'school_day_n', 'school_day_ratio',\n",
       "       'school_day_brdg_n', 'school_day_brdg_ratio', 'ramadan_n',\n",
       "       'ramadan_ratio', 'pandemic', 'lockdown', 'gozlem_sayisi',\n",
       "       'toplam_satir', 'oran', 'baslangic_tarih', 'bitis_tarih',\n",
       "       'son_kac_ay_eksik', 'eksik_repeat_sayisi', 'scope', 'indirim__bins',\n",
       "       'new_adet', 'season', 'trend', 'residual', 'adet_flag', 'Kanal',\n",
       "       'scope_type'],\n",
       "      dtype='object')"
      ]
     },
     "execution_count": 6,
     "metadata": {},
     "output_type": "execute_result"
    }
   ],
   "source": [
    "df.columns"
   ]
  },
  {
   "cell_type": "code",
   "execution_count": 34,
   "metadata": {},
   "outputs": [],
   "source": [
    "df.date = pd.to_datetime(df.date, format='%Y-%m-%d', errors=\"coerce\")"
   ]
  },
  {
   "cell_type": "code",
   "execution_count": 35,
   "metadata": {},
   "outputs": [],
   "source": [
    "df_reg = df[(df[\"scope\"] == 3) & (df[\"portfoy\"] == 1)]"
   ]
  },
  {
   "cell_type": "code",
   "execution_count": 36,
   "metadata": {},
   "outputs": [],
   "source": [
    "test2 = df_reg[(df_reg[\"urun_adi\"] == \"ULK.ÇİK.GOF. BEYAZ 35Gx36x6\") & (df_reg[\"grup_adi\"] == \"ŞOK\")]\n",
    "test = df_reg[(df_reg[\"urun_adi\"] == \"ULK.ÇİK.GOF. BEYAZ 35Gx36x6\") & (df_reg[\"grup_adi\"] == \"ŞOK\")]"
   ]
  },
  {
   "cell_type": "code",
   "execution_count": 37,
   "metadata": {},
   "outputs": [],
   "source": [
    "def trend_seasonality_decomp(data):\n",
    "    df_all = []\n",
    "    for sku in data[\"en_guncel_kod\"].unique():\n",
    "        for grup in data[\"grup_adi\"].unique():\n",
    "            temp_df = data[(data[\"en_guncel_kod\"] == sku) & \n",
    "                           (data[\"grup_adi\"] == grup)]\n",
    "\n",
    "            if len(temp_df) > 2:\n",
    "                df_ts = temp_df[['new_adet','date']]\n",
    "                df_ts.set_index('date',inplace=True)\n",
    "\n",
    "                result = STL(df_ts).fit()\n",
    "                temp_df['season'] = list(result.seasonal)\n",
    "                temp_df['trend']  = list(result.trend)\n",
    "                temp_df['residual']  = list(result.resid)\n",
    "                df_all.append(temp_df)\n",
    "            else:\n",
    "                pass\n",
    "    df_all = pd.concat(df_all)\n",
    "    return df_all"
   ]
  },
  {
   "cell_type": "code",
   "execution_count": 38,
   "metadata": {},
   "outputs": [],
   "source": [
    "for sku in df_reg.urun_adi.unique():\n",
    "    for grp in df_reg.grup_adi.unique():\n",
    "        temp_df = df_reg[(df_reg[\"urun_adi\"] == sku) & (df_reg[\"grup_adi\"] == grp)]\n",
    "        if len(temp_df) > 1:\n",
    "            if len(temp_df.trend.value_counts()) > 1:\n",
    "                pass\n",
    "            else:\n",
    "                print(sku, grp)\n",
    "        else:\n",
    "            pass"
   ]
  },
  {
   "cell_type": "code",
   "execution_count": null,
   "metadata": {},
   "outputs": [],
   "source": []
  },
  {
   "cell_type": "code",
   "execution_count": 39,
   "metadata": {},
   "outputs": [],
   "source": [
    "test3 = df_reg[(df_reg[\"urun_adi\"] == \"ULK.ÇİK.GOF. BEYAZ 35Gx36x6\") & (df_reg[\"grup_adi\"] == \"ŞOK\")]"
   ]
  },
  {
   "cell_type": "code",
   "execution_count": 40,
   "metadata": {},
   "outputs": [
    {
     "data": {
      "text/plain": [
       "2.255116e+06    2\n",
       "2.255116e+06    1\n",
       "2.255116e+06    1\n",
       "2.255116e+06    1\n",
       "2.255116e+06    1\n",
       "2.255116e+06    1\n",
       "2.255116e+06    1\n",
       "2.255116e+06    1\n",
       "Name: trend, dtype: int64"
      ]
     },
     "execution_count": 40,
     "metadata": {},
     "output_type": "execute_result"
    }
   ],
   "source": [
    "df_reg[(df_reg[\"urun_adi\"] == \"ULK.ÇİK.GOF. BEYAZ 35Gx36x6\") & (df_reg[\"grup_adi\"] == \"ŞOK\")].trend.value_counts()"
   ]
  },
  {
   "cell_type": "code",
   "execution_count": 81,
   "metadata": {},
   "outputs": [],
   "source": [
    "cols_to_drop = ['en_guncel_kod', 'koli_i̇ci_adet', 'koli',\n",
    "                'kg', 'tl', 'adet', 'date', 'satis_var', 'promosyon_tutari',\n",
    "                'ciro_kull_i̇ade_dus', 'weekdays_ratio', 'weekend_ratio',\n",
    "                'total_holiday_ratio', 'school_day_ratio', 'school_day_brdg_n', 'school_day_brdg_ratio',\n",
    "                'ramadan_ratio', 'gozlem_sayisi', 'actual_holiday_ratio',\n",
    "                'toplam_satir', 'oran', 'baslangic_tarih', 'bitis_tarih',\n",
    "                'son_kac_ay_eksik', 'eksik_repeat_sayisi', 'adet_flag', \n",
    "                'scope_type']"
   ]
  },
  {
   "cell_type": "code",
   "execution_count": 82,
   "metadata": {},
   "outputs": [],
   "source": [
    "df_droped = df[cols_to_drop]"
   ]
  },
  {
   "cell_type": "code",
   "execution_count": 83,
   "metadata": {},
   "outputs": [],
   "source": [
    "df.drop(columns=cols_to_drop, axis=1, inplace=True)"
   ]
  },
  {
   "cell_type": "code",
   "execution_count": 84,
   "metadata": {},
   "outputs": [
    {
     "data": {
      "text/plain": [
       "Index(['yil', 'ay', 'grup_adi', 'ana_kategori_adi', 'kategori_adi',\n",
       "       'marka_adi', 'urun_adi', 'portfoy', 'enflasyon_etkisi', 'yarisma',\n",
       "       'peak', 'fiyat', 'fiyat_gecisi', 'aktivite_tipi', 'indirim__',\n",
       "       'no_of_days', 'weekdays_n', 'weekend_n', 'actual_holiday_n',\n",
       "       'total_holiday_n', 'school_day_n', 'ramadan_n', 'pandemic', 'lockdown',\n",
       "       'scope', 'indirim__bins', 'new_adet', 'season', 'trend', 'residual',\n",
       "       'Kanal'],\n",
       "      dtype='object')"
      ]
     },
     "execution_count": 84,
     "metadata": {},
     "output_type": "execute_result"
    }
   ],
   "source": [
    "df.columns"
   ]
  },
  {
   "cell_type": "code",
   "execution_count": 85,
   "metadata": {},
   "outputs": [
    {
     "data": {
      "text/plain": [
       "yil                 0.0000\n",
       "ay                  0.0000\n",
       "grup_adi            0.0000\n",
       "ana_kategori_adi    0.0000\n",
       "kategori_adi        0.0000\n",
       "marka_adi           0.0000\n",
       "urun_adi            0.0000\n",
       "portfoy             0.0000\n",
       "enflasyon_etkisi    0.0000\n",
       "yarisma             0.0000\n",
       "peak                0.0000\n",
       "fiyat               6.7268\n",
       "fiyat_gecisi        6.7268\n",
       "aktivite_tipi      98.9950\n",
       "indirim__           0.0000\n",
       "no_of_days          0.0000\n",
       "weekdays_n          0.0000\n",
       "weekend_n           0.0000\n",
       "actual_holiday_n    0.0000\n",
       "total_holiday_n     0.0000\n",
       "school_day_n        0.0000\n",
       "ramadan_n           0.0000\n",
       "pandemic            0.0000\n",
       "lockdown            0.0000\n",
       "scope               0.0000\n",
       "indirim__bins       0.0000\n",
       "new_adet            0.0000\n",
       "season             89.6534\n",
       "trend              89.6534\n",
       "residual           89.6534\n",
       "Kanal               0.0000\n",
       "dtype: float64"
      ]
     },
     "execution_count": 85,
     "metadata": {},
     "output_type": "execute_result"
    }
   ],
   "source": [
    "(df.isna().sum() / len(df))*100"
   ]
  },
  {
   "cell_type": "code",
   "execution_count": 86,
   "metadata": {},
   "outputs": [],
   "source": [
    "df.rename(columns={\"Kanal\": \"kanal\"}, inplace=True)"
   ]
  },
  {
   "cell_type": "markdown",
   "metadata": {},
   "source": [
    "---\n",
    "# Regresyon\n",
    "---"
   ]
  },
  {
   "cell_type": "code",
   "execution_count": 87,
   "metadata": {},
   "outputs": [],
   "source": [
    "df_reg = df[df[\"scope\"] == 3]"
   ]
  },
  {
   "cell_type": "markdown",
   "metadata": {},
   "source": [
    "## Aktivite Tipi silindi çünkü %97'si missing"
   ]
  },
  {
   "cell_type": "code",
   "execution_count": 88,
   "metadata": {},
   "outputs": [],
   "source": [
    "df_reg.drop(columns=[\"aktivite_tipi\"], axis=1, inplace=True)"
   ]
  },
  {
   "cell_type": "code",
   "execution_count": 89,
   "metadata": {},
   "outputs": [
    {
     "data": {
      "text/plain": [
       "yil                0.0000\n",
       "ay                 0.0000\n",
       "grup_adi           0.0000\n",
       "ana_kategori_adi   0.0000\n",
       "kategori_adi       0.0000\n",
       "marka_adi          0.0000\n",
       "urun_adi           0.0000\n",
       "portfoy            0.0000\n",
       "enflasyon_etkisi   0.0000\n",
       "yarisma            0.0000\n",
       "peak               0.0000\n",
       "fiyat              6.2919\n",
       "fiyat_gecisi       6.2919\n",
       "indirim__          0.0000\n",
       "no_of_days         0.0000\n",
       "weekdays_n         0.0000\n",
       "weekend_n          0.0000\n",
       "actual_holiday_n   0.0000\n",
       "total_holiday_n    0.0000\n",
       "school_day_n       0.0000\n",
       "ramadan_n          0.0000\n",
       "pandemic           0.0000\n",
       "lockdown           0.0000\n",
       "scope              0.0000\n",
       "indirim__bins      0.0000\n",
       "new_adet           0.0000\n",
       "season             0.0000\n",
       "trend              0.0000\n",
       "residual           0.0000\n",
       "kanal              0.0000\n",
       "dtype: float64"
      ]
     },
     "execution_count": 89,
     "metadata": {},
     "output_type": "execute_result"
    }
   ],
   "source": [
    "(df_reg.isna().sum() / len(df_reg))*100"
   ]
  },
  {
   "cell_type": "code",
   "execution_count": 90,
   "metadata": {},
   "outputs": [],
   "source": [
    "df_reg[\"enflasyon_etkisi\"].fillna(method=\"ffill\", inplace=True)"
   ]
  },
  {
   "cell_type": "code",
   "execution_count": 91,
   "metadata": {},
   "outputs": [],
   "source": [
    "df_reg[\"fiyat\"].fillna(method=\"ffill\", inplace=True)\n",
    "df_reg[\"fiyat_gecisi\"].fillna(value=0, inplace=True)"
   ]
  },
  {
   "cell_type": "code",
   "execution_count": 92,
   "metadata": {},
   "outputs": [],
   "source": [
    "df_reg = df_reg[df_reg[\"portfoy\"] == 1]"
   ]
  },
  {
   "cell_type": "code",
   "execution_count": 93,
   "metadata": {},
   "outputs": [],
   "source": [
    "df_reg.drop(columns=[\"portfoy\", \"scope\", \"yarisma\"], axis=1, inplace=True)"
   ]
  },
  {
   "cell_type": "code",
   "execution_count": 94,
   "metadata": {},
   "outputs": [
    {
     "data": {
      "text/plain": [
       "Index(['yil', 'ay', 'grup_adi', 'ana_kategori_adi', 'kategori_adi',\n",
       "       'marka_adi', 'urun_adi', 'enflasyon_etkisi', 'peak', 'fiyat',\n",
       "       'fiyat_gecisi', 'indirim__', 'no_of_days', 'weekdays_n', 'weekend_n',\n",
       "       'actual_holiday_n', 'total_holiday_n', 'school_day_n', 'ramadan_n',\n",
       "       'pandemic', 'lockdown', 'indirim__bins', 'new_adet', 'season', 'trend',\n",
       "       'residual', 'kanal'],\n",
       "      dtype='object')"
      ]
     },
     "execution_count": 94,
     "metadata": {},
     "output_type": "execute_result"
    }
   ],
   "source": [
    "df_reg.columns"
   ]
  },
  {
   "cell_type": "code",
   "execution_count": null,
   "metadata": {},
   "outputs": [],
   "source": []
  },
  {
   "cell_type": "code",
   "execution_count": null,
   "metadata": {},
   "outputs": [],
   "source": []
  },
  {
   "cell_type": "code",
   "execution_count": null,
   "metadata": {},
   "outputs": [],
   "source": []
  },
  {
   "cell_type": "code",
   "execution_count": null,
   "metadata": {},
   "outputs": [],
   "source": []
  },
  {
   "cell_type": "code",
   "execution_count": null,
   "metadata": {},
   "outputs": [],
   "source": []
  },
  {
   "cell_type": "code",
   "execution_count": 21,
   "metadata": {},
   "outputs": [],
   "source": [
    "X_vars = ['yil', 'ay', 'kanal', 'grup_adi', 'ana_kategori_adi', \n",
    "          'kategori_adi', 'marka_adi', 'urun_adi', 'enflasyon_etkisi', \n",
    "          'peak', 'indirim__bins', 'lockdown', 'season', 'trend']"
   ]
  },
  {
   "cell_type": "code",
   "execution_count": 22,
   "metadata": {},
   "outputs": [],
   "source": [
    "y_vars = [\"new_adet\"]"
   ]
  },
  {
   "cell_type": "code",
   "execution_count": 23,
   "metadata": {},
   "outputs": [],
   "source": [
    "df_reg = df_reg[X_vars+y_vars]"
   ]
  },
  {
   "cell_type": "code",
   "execution_count": 24,
   "metadata": {},
   "outputs": [
    {
     "data": {
      "text/plain": [
       "array(['ULK TOZ KAK.YENİ TASARIM 50Gx12x12',\n",
       "       'LAVİVA DOLG.VE BİSK.ÇİK.35Gx24x6', 'ULK.ÇİK.GOF. BEYAZ 35Gx36x6',\n",
       "       'CARAMIO K.MELLİ BAT.ÇİK.35Gx24x6',\n",
       "       'ULK KARE ÇİK.ÜZÜMLÜ FIN.SÜT.65Gx6x6', 'ULK ÇİK.KARE FIN.70Gx6x6',\n",
       "       'CARAMIO KARE ÇİK.K.MELLİ 60Gx12x6', 'ULK ÇİK.KARE A.FIS.70Gx6x6',\n",
       "       'ALBENİ KAPL.BAR B.BOY 56Gx24x6', 'YUPO DRAJE DOYPACK 111Gx24',\n",
       "       'ÇOKONAT KAPL.GOF.5x33Gx24', 'ALBENİ KAPL.BAR 5x40Gx24',\n",
       "       'COCOSTAR H.CEV.BAR 28Gx24x6 YENİ', 'ULK ÇİK.GOF.5x36Gx24',\n",
       "       'ÇOKOKREM CAM KAV.700Gx6', 'ALTINBAŞAK Ç.OTLU KİNOA KR.5x40Gx18',\n",
       "       'ÇOKOKREM SAKLAMA KABI 1000Gx6', 'HOBBY MİNİ İKR.POŞET 250Gx12',\n",
       "       'METRO KAPL.BAR 5x40Gx18', 'ULK ÇİK.KARE SÜT.70Gx6x6',\n",
       "       'ULK DAMLA ÇİK.BİT.150Gx12', 'HALLEY KARADUT DOL.7x33,7Gx12',\n",
       "       'OLALA SUFLE MINI 162Gx12', 'YUPO JELLY PORTAKAL HALKASI 70GRX24',\n",
       "       'İKRAM KRE.BİSK.ÇİK.3x92Gx12', 'ULK BEBE BİSK.2x500Gx4',\n",
       "       'ULK PÖTİBÖR BİSK.450Gx10', 'ULK KUVERTÜR %54 BİT.TAB.200Gx6',\n",
       "       'ÇİZİVİÇ PEY.SAND.KR.3x90Gx12', 'PROBİS SAND.BİSK.10x28Gx12',\n",
       "       'ULK KRE.SAND.BİSK.10x61Gx8', '9 KAT TAT İNCE İNCE ÇİLEK 114Gx16',\n",
       "       'ÇİZİ KR.4x70Gx12', 'DANKEK RULO PASTA ÇİLEK 245Gx8',\n",
       "       'ULK KRE.SAND.BİSK.4x61Gx15', 'ULK GOF.FIN.220Gx12',\n",
       "       'RULOKAT TNK.KTU 250Gx6', '9 KAT TAT RULOKAT ÇİK.KRE.230Gx6',\n",
       "       'OLALA SUFLE KEK 70Gx12', 'HANIMELLER LİMONLU KURABİYE 138Gx9',\n",
       "       'DANKEK LOKMALIK HİNDİSTAN CEVİZ.160Gx8',\n",
       "       'DANKEK LOKMALIK KAK.180Gx8',\n",
       "       'DANKEK LOKMALIK HAV.LU TARÇINLI 180Gx8',\n",
       "       'SMARTT KORNET ÇİK.32Gx24x6', 'ALBENİ ÇİK.KAPL.KEK 40Gx18',\n",
       "       'KEKSTRA JÖLEBOL KEK ÇİLEK 35Gx24',\n",
       "       'DANKEK PÖTİ MUFFIN KEK H.CEV.40Gx24',\n",
       "       'ÜLKER TABLET ÇİK.SÜTLÜ 80GRx6x6', 'DAMLA ÇIK.BİTTER 150GX12',\n",
       "       'PUL ÇIKOLATA BEYAZ 120GRX12', 'PUL ÇİK.%54 BİTTER 120GRX12',\n",
       "       'YUPO LOLIPOP 10X11GRX24', 'ÜLK.KRE B Ç.LEZ.FRA.165Gx12',\n",
       "       'ULK.MİNİ ÇOK.KRM PK.91Gx10', 'HANIMELLER LİMONLU 138Gx9',\n",
       "       'ÜLK.OLALA BOLD B.KEK 43GX18', '8KEK FINDIKLI 52GRx24',\n",
       "       'ULK BONBON LİMONLU RULO ŞEK.32,5Gx24x12',\n",
       "       'KREMINI MINI TOFFE ÇILEK ARO.7Gx50x12',\n",
       "       'KREMINI MINI TOFFE KARPUZ 7Gx50x12', '8KEK FIN.52Gx24'],\n",
       "      dtype=object)"
      ]
     },
     "execution_count": 24,
     "metadata": {},
     "output_type": "execute_result"
    }
   ],
   "source": [
    "df_reg.urun_adi.unique()"
   ]
  },
  {
   "cell_type": "code",
   "execution_count": 25,
   "metadata": {},
   "outputs": [
    {
     "data": {
      "text/plain": [
       "ŞOK                  9\n",
       "Diğer_Pasifik        9\n",
       "POTANSİYEL MARKET    8\n",
       "MİGROS               8\n",
       "BTT                  8\n",
       "YEREL ZİNCİR         8\n",
       "BİM                  8\n",
       "GELENEKSEL KANAL     8\n",
       "ORTA MARKET          8\n",
       "Diğer_Horizon        8\n",
       "Name: grup_adi, dtype: int64"
      ]
     },
     "execution_count": 25,
     "metadata": {},
     "output_type": "execute_result"
    }
   ],
   "source": [
    "df_reg[df_reg[\"urun_adi\"] == \"ULK.ÇİK.GOF. BEYAZ 35Gx36x6\"].grup_adi.value_counts()"
   ]
  },
  {
   "cell_type": "code",
   "execution_count": 69,
   "metadata": {},
   "outputs": [],
   "source": [
    "test2 = df_reg[(df_reg[\"urun_adi\"] == \"ULK.ÇİK.GOF. BEYAZ 35Gx36x6\") & (df_reg[\"grup_adi\"] == \"ŞOK\")]"
   ]
  },
  {
   "cell_type": "code",
   "execution_count": 27,
   "metadata": {},
   "outputs": [],
   "source": [
    "test.drop(columns=['kanal', 'grup_adi', 'ana_kategori_adi', \n",
    "                   'kategori_adi', 'marka_adi', 'urun_adi'], axis=1, inplace=True)"
   ]
  },
  {
   "cell_type": "code",
   "execution_count": 28,
   "metadata": {},
   "outputs": [],
   "source": [
    "for idx in test.iloc[-3:].index:\n",
    "    test.loc[idx, \"season\"] = test.loc[list(range(idx-1, idx-7, -1)), \"season\"].mean()\n",
    "    test.loc[idx, \"trend\"] = test.loc[list(range(idx-1, idx-7, -1)), \"trend\"].mean()"
   ]
  },
  {
   "cell_type": "code",
   "execution_count": 29,
   "metadata": {},
   "outputs": [],
   "source": [
    "X_train, X_test, y_train, y_test = test.iloc[:-3, :-1], test.iloc[-3:, :-1], test.iloc[:-3, -1:], test.iloc[-3:, -1:]"
   ]
  },
  {
   "cell_type": "code",
   "execution_count": 30,
   "metadata": {},
   "outputs": [
    {
     "data": {
      "text/plain": [
       "((6, 8), (3, 8), (6, 1), (3, 1))"
      ]
     },
     "execution_count": 30,
     "metadata": {},
     "output_type": "execute_result"
    }
   ],
   "source": [
    "X_train.shape, X_test.shape, y_train.shape, y_test.shape"
   ]
  },
  {
   "cell_type": "markdown",
   "metadata": {},
   "source": [
    "---\n",
    "# Linear Regression\n",
    "---"
   ]
  },
  {
   "cell_type": "code",
   "execution_count": 31,
   "metadata": {},
   "outputs": [],
   "source": [
    "from sklearn.linear_model import LinearRegression"
   ]
  },
  {
   "cell_type": "code",
   "execution_count": 32,
   "metadata": {},
   "outputs": [],
   "source": [
    "lm = LinearRegression()\n",
    "lm.fit(X_train, y_train)\n",
    "yhat_lm = lm.predict(X_test)"
   ]
  },
  {
   "cell_type": "code",
   "execution_count": 33,
   "metadata": {},
   "outputs": [
    {
     "name": "stdout",
     "output_type": "stream",
     "text": [
      "MAPE: 132.62121458449633\n"
     ]
    }
   ],
   "source": [
    "print(\"MAPE:\", mean_absolute_percentage_error(np.array(y_test), yhat_lm))"
   ]
  },
  {
   "cell_type": "code",
   "execution_count": 34,
   "metadata": {},
   "outputs": [
    {
     "data": {
      "text/plain": [
       "array([[2787319.41927052],\n",
       "       [3184323.51063323],\n",
       "       [3519226.95055639]])"
      ]
     },
     "execution_count": 34,
     "metadata": {},
     "output_type": "execute_result"
    }
   ],
   "source": [
    "yhat_lm"
   ]
  },
  {
   "cell_type": "code",
   "execution_count": 35,
   "metadata": {},
   "outputs": [
    {
     "data": {
      "text/html": [
       "<div>\n",
       "<style scoped>\n",
       "    .dataframe tbody tr th:only-of-type {\n",
       "        vertical-align: middle;\n",
       "    }\n",
       "\n",
       "    .dataframe tbody tr th {\n",
       "        vertical-align: top;\n",
       "    }\n",
       "\n",
       "    .dataframe thead th {\n",
       "        text-align: right;\n",
       "    }\n",
       "</style>\n",
       "<table border=\"1\" class=\"dataframe\">\n",
       "  <thead>\n",
       "    <tr style=\"text-align: right;\">\n",
       "      <th></th>\n",
       "      <th>new_adet</th>\n",
       "    </tr>\n",
       "  </thead>\n",
       "  <tbody>\n",
       "    <tr>\n",
       "      <th>4555</th>\n",
       "      <td>2,665,518.8711</td>\n",
       "    </tr>\n",
       "    <tr>\n",
       "      <th>4556</th>\n",
       "      <td>1,314,006.8711</td>\n",
       "    </tr>\n",
       "    <tr>\n",
       "      <th>4557</th>\n",
       "      <td>1,002,750.8711</td>\n",
       "    </tr>\n",
       "  </tbody>\n",
       "</table>\n",
       "</div>"
      ],
      "text/plain": [
       "           new_adet\n",
       "4555 2,665,518.8711\n",
       "4556 1,314,006.8711\n",
       "4557 1,002,750.8711"
      ]
     },
     "execution_count": 35,
     "metadata": {},
     "output_type": "execute_result"
    }
   ],
   "source": [
    "y_test"
   ]
  },
  {
   "cell_type": "code",
   "execution_count": null,
   "metadata": {},
   "outputs": [],
   "source": []
  },
  {
   "cell_type": "markdown",
   "metadata": {},
   "source": [
    "---\n",
    "# KNN\n",
    "---"
   ]
  },
  {
   "cell_type": "code",
   "execution_count": 37,
   "metadata": {},
   "outputs": [
    {
     "name": "stdout",
     "output_type": "stream",
     "text": [
      "Fitting 5 folds for each of 72 candidates, totalling 360 fits\n"
     ]
    },
    {
     "name": "stderr",
     "output_type": "stream",
     "text": [
      "[Parallel(n_jobs=-1)]: Using backend LokyBackend with 8 concurrent workers.\n",
      "[Parallel(n_jobs=-1)]: Done  25 tasks      | elapsed:   19.6s\n",
      "[Parallel(n_jobs=-1)]: Done 312 tasks      | elapsed:   21.7s\n",
      "[Parallel(n_jobs=-1)]: Done 360 out of 360 | elapsed:   21.9s finished\n"
     ]
    },
    {
     "data": {
      "text/plain": [
       "GridSearchCV(cv=5, estimator=KNeighborsRegressor(), n_jobs=-1,\n",
       "             param_grid={'algorithm': ['auto', 'ball_tree'],\n",
       "                         'leaf_size': [30, 50, 75],\n",
       "                         'metric': ['euclidean', 'manhattan'],\n",
       "                         'n_neighbors': [2, 3, 4],\n",
       "                         'weights': ['uniform', 'distance']},\n",
       "             scoring='neg_mean_absolute_error', verbose=2)"
      ]
     },
     "execution_count": 37,
     "metadata": {},
     "output_type": "execute_result"
    }
   ],
   "source": [
    "#GridSearch to determine best parameters\n",
    "param_grid = {\n",
    "    'algorithm': ['auto', 'ball_tree'],\n",
    "    'leaf_size': [30, 50, 75],\n",
    "    'weights' : ['uniform', 'distance'],\n",
    "    'metric' : ['euclidean', 'manhattan'],\n",
    "    'n_neighbors' : [2,3,4]\n",
    "}\n",
    "\n",
    "gsm = GridSearchCV(KNeighborsRegressor(),\n",
    "                   param_grid=param_grid,\n",
    "                   cv=5,\n",
    "                   n_jobs = -1,\n",
    "                   verbose=2,\n",
    "                   refit=True,\n",
    "                   scoring='neg_mean_absolute_error')\n",
    "\n",
    "gsm.fit(X_train, y_train)"
   ]
  },
  {
   "cell_type": "code",
   "execution_count": 38,
   "metadata": {},
   "outputs": [],
   "source": [
    "best_params_ = gsm.best_params_"
   ]
  },
  {
   "cell_type": "code",
   "execution_count": 39,
   "metadata": {},
   "outputs": [],
   "source": [
    "yhat_knn = gsm.predict(X_test)"
   ]
  },
  {
   "cell_type": "code",
   "execution_count": 40,
   "metadata": {},
   "outputs": [
    {
     "data": {
      "text/html": [
       "<div>\n",
       "<style scoped>\n",
       "    .dataframe tbody tr th:only-of-type {\n",
       "        vertical-align: middle;\n",
       "    }\n",
       "\n",
       "    .dataframe tbody tr th {\n",
       "        vertical-align: top;\n",
       "    }\n",
       "\n",
       "    .dataframe thead th {\n",
       "        text-align: right;\n",
       "    }\n",
       "</style>\n",
       "<table border=\"1\" class=\"dataframe\">\n",
       "  <thead>\n",
       "    <tr style=\"text-align: right;\">\n",
       "      <th></th>\n",
       "      <th>new_adet</th>\n",
       "    </tr>\n",
       "  </thead>\n",
       "  <tbody>\n",
       "    <tr>\n",
       "      <th>4555</th>\n",
       "      <td>2,665,518.8711</td>\n",
       "    </tr>\n",
       "    <tr>\n",
       "      <th>4556</th>\n",
       "      <td>1,314,006.8711</td>\n",
       "    </tr>\n",
       "    <tr>\n",
       "      <th>4557</th>\n",
       "      <td>1,002,750.8711</td>\n",
       "    </tr>\n",
       "  </tbody>\n",
       "</table>\n",
       "</div>"
      ],
      "text/plain": [
       "           new_adet\n",
       "4555 2,665,518.8711\n",
       "4556 1,314,006.8711\n",
       "4557 1,002,750.8711"
      ]
     },
     "execution_count": 40,
     "metadata": {},
     "output_type": "execute_result"
    }
   ],
   "source": [
    "y_test"
   ]
  },
  {
   "cell_type": "code",
   "execution_count": 41,
   "metadata": {},
   "outputs": [
    {
     "data": {
      "text/plain": [
       "array([[2787319.41927995],\n",
       "       [3826958.77390231],\n",
       "       [4015312.80062742]])"
      ]
     },
     "execution_count": 41,
     "metadata": {},
     "output_type": "execute_result"
    }
   ],
   "source": [
    "yhat_knn"
   ]
  },
  {
   "cell_type": "code",
   "execution_count": 42,
   "metadata": {},
   "outputs": [
    {
     "name": "stdout",
     "output_type": "stream",
     "text": [
      "MAPE: new_adet   165.4142\n",
      "dtype: float64\n"
     ]
    }
   ],
   "source": [
    "print(\"MAPE:\", mean_absolute_percentage_error(y_test, yhat_knn))"
   ]
  },
  {
   "cell_type": "code",
   "execution_count": null,
   "metadata": {},
   "outputs": [],
   "source": []
  },
  {
   "cell_type": "code",
   "execution_count": null,
   "metadata": {},
   "outputs": [],
   "source": []
  },
  {
   "cell_type": "code",
   "execution_count": null,
   "metadata": {},
   "outputs": [],
   "source": []
  },
  {
   "cell_type": "code",
   "execution_count": null,
   "metadata": {},
   "outputs": [],
   "source": []
  },
  {
   "cell_type": "code",
   "execution_count": null,
   "metadata": {},
   "outputs": [],
   "source": []
  },
  {
   "cell_type": "code",
   "execution_count": null,
   "metadata": {},
   "outputs": [],
   "source": []
  },
  {
   "cell_type": "markdown",
   "metadata": {},
   "source": [
    "---\n",
    "# XGBoost\n",
    "---"
   ]
  },
  {
   "cell_type": "code",
   "execution_count": 43,
   "metadata": {},
   "outputs": [
    {
     "name": "stdout",
     "output_type": "stream",
     "text": [
      "Fitting 5 folds for each of 24 candidates, totalling 120 fits\n"
     ]
    },
    {
     "name": "stderr",
     "output_type": "stream",
     "text": [
      "[Parallel(n_jobs=-1)]: Using backend LokyBackend with 8 concurrent workers.\n",
      "[Parallel(n_jobs=-1)]: Done  25 tasks      | elapsed:    5.3s\n",
      "[Parallel(n_jobs=-1)]: Done 120 out of 120 | elapsed:  2.0min finished\n"
     ]
    },
    {
     "name": "stdout",
     "output_type": "stream",
     "text": [
      "[12:05:22] WARNING: C:/Users/Administrator/workspace/xgboost-win64_release_1.4.0/src/learner.cc:573: \n",
      "Parameters: { \"colsample_bytree\", \"max_depth\" } might not be used.\n",
      "\n",
      "  This may not be accurate due to some parameters are only used in language bindings but\n",
      "  passed down to XGBoost core.  Or some parameters are not used but slip through this\n",
      "  verification. Please open an issue if you find above cases.\n",
      "\n",
      "\n"
     ]
    },
    {
     "data": {
      "text/plain": [
       "GridSearchCV(cv=5,\n",
       "             estimator=XGBRegressor(base_score=None, booster=None,\n",
       "                                    colsample_bylevel=None,\n",
       "                                    colsample_bynode=None,\n",
       "                                    colsample_bytree=None, gamma=None,\n",
       "                                    gpu_id=None, importance_type='gain',\n",
       "                                    interaction_constraints=None,\n",
       "                                    learning_rate=None, max_delta_step=None,\n",
       "                                    max_depth=None, min_child_weight=None,\n",
       "                                    missing=nan, monotone_constraints=None,\n",
       "                                    n_estimators=100, n_jobs=...\n",
       "                                    scale_pos_weight=None, subsample=None,\n",
       "                                    tree_method=None, validate_parameters=None,\n",
       "                                    verbosity=None),\n",
       "             n_jobs=-1,\n",
       "             param_grid={'booster': ['gbtree', 'gblinear', 'dart'],\n",
       "                         'colsample_bytree': [0.4, 0.7],\n",
       "                         'learning_rate': [0.1, 0.001], 'max_depth': [15, 20],\n",
       "                         'n_estimators': [500],\n",
       "                         'objective': ['reg:squarederror'],\n",
       "                         'random_state': [42]},\n",
       "             scoring='neg_mean_absolute_error', verbose=2)"
      ]
     },
     "execution_count": 43,
     "metadata": {},
     "output_type": "execute_result"
    }
   ],
   "source": [
    "#GridSearch to determine best parameters\n",
    "param_grid = {'colsample_bytree': [0.4, 0.7],\n",
    "              'booster': [\"gbtree\", \"gblinear\", \"dart\"],\n",
    " 'learning_rate': [0.1, 0.001],\n",
    " 'max_depth': [15, 20],\n",
    "# 'min_child_weight': [5,6,7],\n",
    " 'n_estimators': [500],\n",
    " 'objective': ['reg:squarederror'],\n",
    "# 'subsample': [0.5, 0.6, 0.7],\n",
    "             'random_state': [42]}\n",
    "\n",
    "\n",
    "gsm = GridSearchCV(XGBRegressor(),\n",
    "                   param_grid=param_grid,\n",
    "                   cv=5,\n",
    "                   n_jobs=-1,\n",
    "                   verbose=2,\n",
    "                   refit=True,\n",
    "                   scoring='neg_mean_absolute_error')\n",
    "\n",
    "gsm.fit(X_train, y_train)"
   ]
  },
  {
   "cell_type": "code",
   "execution_count": 44,
   "metadata": {},
   "outputs": [
    {
     "name": "stdout",
     "output_type": "stream",
     "text": [
      "{'booster': 'gblinear', 'colsample_bytree': 0.7, 'learning_rate': 0.1, 'max_depth': 15, 'n_estimators': 500, 'objective': 'reg:squarederror', 'random_state': 42}\n"
     ]
    }
   ],
   "source": [
    "best_params_ = gsm.best_params_\n",
    "print(gsm.best_params_)"
   ]
  },
  {
   "cell_type": "code",
   "execution_count": 45,
   "metadata": {},
   "outputs": [],
   "source": [
    "yhat_xgb = gsm.predict(X_test)"
   ]
  },
  {
   "cell_type": "code",
   "execution_count": 46,
   "metadata": {},
   "outputs": [
    {
     "data": {
      "text/plain": [
       "array([2878027.2, 3303018.2, 3607729. ], dtype=float32)"
      ]
     },
     "execution_count": 46,
     "metadata": {},
     "output_type": "execute_result"
    }
   ],
   "source": [
    "yhat_xgb"
   ]
  },
  {
   "cell_type": "code",
   "execution_count": 47,
   "metadata": {},
   "outputs": [
    {
     "data": {
      "text/html": [
       "<div>\n",
       "<style scoped>\n",
       "    .dataframe tbody tr th:only-of-type {\n",
       "        vertical-align: middle;\n",
       "    }\n",
       "\n",
       "    .dataframe tbody tr th {\n",
       "        vertical-align: top;\n",
       "    }\n",
       "\n",
       "    .dataframe thead th {\n",
       "        text-align: right;\n",
       "    }\n",
       "</style>\n",
       "<table border=\"1\" class=\"dataframe\">\n",
       "  <thead>\n",
       "    <tr style=\"text-align: right;\">\n",
       "      <th></th>\n",
       "      <th>new_adet</th>\n",
       "    </tr>\n",
       "  </thead>\n",
       "  <tbody>\n",
       "    <tr>\n",
       "      <th>4555</th>\n",
       "      <td>2,665,518.8711</td>\n",
       "    </tr>\n",
       "    <tr>\n",
       "      <th>4556</th>\n",
       "      <td>1,314,006.8711</td>\n",
       "    </tr>\n",
       "    <tr>\n",
       "      <th>4557</th>\n",
       "      <td>1,002,750.8711</td>\n",
       "    </tr>\n",
       "  </tbody>\n",
       "</table>\n",
       "</div>"
      ],
      "text/plain": [
       "           new_adet\n",
       "4555 2,665,518.8711\n",
       "4556 1,314,006.8711\n",
       "4557 1,002,750.8711"
      ]
     },
     "execution_count": 47,
     "metadata": {},
     "output_type": "execute_result"
    }
   ],
   "source": [
    "y_test"
   ]
  },
  {
   "cell_type": "code",
   "execution_count": 48,
   "metadata": {},
   "outputs": [
    {
     "name": "stdout",
     "output_type": "stream",
     "text": [
      "MAPE: 132.0428105277991\n"
     ]
    }
   ],
   "source": [
    "print(\"MAPE:\", mean_absolute_percentage_error(np.array(y_test), yhat_xgb))"
   ]
  },
  {
   "cell_type": "code",
   "execution_count": null,
   "metadata": {},
   "outputs": [],
   "source": []
  },
  {
   "cell_type": "code",
   "execution_count": null,
   "metadata": {},
   "outputs": [],
   "source": []
  },
  {
   "cell_type": "markdown",
   "metadata": {},
   "source": [
    "---\n",
    "# Decision Tree\n",
    "---"
   ]
  },
  {
   "cell_type": "code",
   "execution_count": 49,
   "metadata": {},
   "outputs": [
    {
     "name": "stdout",
     "output_type": "stream",
     "text": [
      "Fitting 5 folds for each of 1024 candidates, totalling 5120 fits\n"
     ]
    },
    {
     "name": "stderr",
     "output_type": "stream",
     "text": [
      "[Parallel(n_jobs=-1)]: Using backend LokyBackend with 8 concurrent workers.\n",
      "[Parallel(n_jobs=-1)]: Done  25 tasks      | elapsed:    0.6s\n",
      "[Parallel(n_jobs=-1)]: Done 360 tasks      | elapsed:    3.0s\n",
      "[Parallel(n_jobs=-1)]: Done 1172 tasks      | elapsed:   10.5s\n",
      "[Parallel(n_jobs=-1)]: Done 2304 tasks      | elapsed:   17.9s\n",
      "[Parallel(n_jobs=-1)]: Done 3764 tasks      | elapsed:   27.3s\n",
      "[Parallel(n_jobs=-1)]: Done 5120 out of 5120 | elapsed:   35.4s finished\n"
     ]
    },
    {
     "data": {
      "text/plain": [
       "GridSearchCV(cv=5, estimator=DecisionTreeRegressor(), n_jobs=-1,\n",
       "             param_grid={'criterion': ['mse', 'mae'],\n",
       "                         'max_depth': [3, 4, 5, 6, 7, 8, 9, 10],\n",
       "                         'min_samples_leaf': [3, 4, 5, 6, 7, 8, 9, 10],\n",
       "                         'min_samples_split': [3, 4, 5, 6, 7, 8, 9, 10],\n",
       "                         'random_state': [42]},\n",
       "             scoring='neg_mean_absolute_error', verbose=2)"
      ]
     },
     "execution_count": 49,
     "metadata": {},
     "output_type": "execute_result"
    }
   ],
   "source": [
    "#GridSearch to determine best parameters\n",
    "\n",
    "param_grid = {'criterion':['mse', 'mae'],\n",
    "              'max_depth': [i for i in range(3, 11)],\n",
    "              'min_samples_leaf': [i for i in range(3, 11)],\n",
    "              'min_samples_split': [i for i in range(3, 11)],\n",
    "              'random_state': [42]}\n",
    "\n",
    "gsm = GridSearchCV(DecisionTreeRegressor(),\n",
    "                  param_grid=param_grid,\n",
    "                  cv=5,\n",
    "                  n_jobs=-1,\n",
    "                  verbose=2,\n",
    "                  refit=True,\n",
    "                  scoring='neg_mean_absolute_error')\n",
    "\n",
    "#gsm = DecisionTreeRegressor(random_state=42)\n",
    "\n",
    "gsm.fit(X_train, y_train)"
   ]
  },
  {
   "cell_type": "code",
   "execution_count": 50,
   "metadata": {},
   "outputs": [
    {
     "name": "stdout",
     "output_type": "stream",
     "text": [
      "{'criterion': 'mse', 'max_depth': 3, 'min_samples_leaf': 3, 'min_samples_split': 3, 'random_state': 42}\n"
     ]
    }
   ],
   "source": [
    "best_params_ = gsm.best_params_\n",
    "print(gsm.best_params_)"
   ]
  },
  {
   "cell_type": "code",
   "execution_count": 51,
   "metadata": {},
   "outputs": [],
   "source": [
    "yhat_dt = gsm.predict(X_test)"
   ]
  },
  {
   "cell_type": "code",
   "execution_count": 52,
   "metadata": {},
   "outputs": [
    {
     "data": {
      "text/plain": [
       "array([1088214.87109424, 4486423.96744678, 4486423.96744678])"
      ]
     },
     "execution_count": 52,
     "metadata": {},
     "output_type": "execute_result"
    }
   ],
   "source": [
    "yhat_dt"
   ]
  },
  {
   "cell_type": "code",
   "execution_count": 53,
   "metadata": {},
   "outputs": [
    {
     "name": "stdout",
     "output_type": "stream",
     "text": [
      "MAPE: 155.46581163883383\n"
     ]
    }
   ],
   "source": [
    "print(\"MAPE:\", mean_absolute_percentage_error(np.array(y_test), yhat_dt))"
   ]
  },
  {
   "cell_type": "code",
   "execution_count": null,
   "metadata": {},
   "outputs": [],
   "source": []
  },
  {
   "cell_type": "code",
   "execution_count": null,
   "metadata": {},
   "outputs": [],
   "source": []
  },
  {
   "cell_type": "code",
   "execution_count": null,
   "metadata": {},
   "outputs": [],
   "source": []
  },
  {
   "cell_type": "code",
   "execution_count": null,
   "metadata": {},
   "outputs": [],
   "source": []
  },
  {
   "cell_type": "markdown",
   "metadata": {},
   "source": [
    "---\n",
    "# Random Forest Regressor\n",
    "---"
   ]
  },
  {
   "cell_type": "code",
   "execution_count": 54,
   "metadata": {},
   "outputs": [
    {
     "name": "stderr",
     "output_type": "stream",
     "text": [
      "[Parallel(n_jobs=-1)]: Using backend LokyBackend with 8 concurrent workers.\n"
     ]
    },
    {
     "name": "stdout",
     "output_type": "stream",
     "text": [
      "Fitting 5 folds for each of 128 candidates, totalling 640 fits\n"
     ]
    },
    {
     "name": "stderr",
     "output_type": "stream",
     "text": [
      "[Parallel(n_jobs=-1)]: Done  25 tasks      | elapsed:    1.8s\n",
      "[Parallel(n_jobs=-1)]: Done 146 tasks      | elapsed:   12.0s\n",
      "[Parallel(n_jobs=-1)]: Done 349 tasks      | elapsed:   24.1s\n",
      "[Parallel(n_jobs=-1)]: Done 640 out of 640 | elapsed:   39.3s finished\n"
     ]
    },
    {
     "data": {
      "text/plain": [
       "GridSearchCV(cv=5, estimator=RandomForestRegressor(), n_jobs=-1,\n",
       "             param_grid={'criterion': ['mse', 'mae'], 'max_depth': [3, 4, 5, 6],\n",
       "                         'min_samples_leaf': [3, 4, 5, 6],\n",
       "                         'min_samples_split': [3, 4, 5, 6],\n",
       "                         'random_state': [42]},\n",
       "             scoring='neg_mean_absolute_error', verbose=2)"
      ]
     },
     "execution_count": 54,
     "metadata": {},
     "output_type": "execute_result"
    }
   ],
   "source": [
    "#GridSearch to determine best parameters\n",
    "\n",
    "param_grid = {'criterion':['mse', 'mae'],\n",
    "              'max_depth': [i for i in range(3, 7)],\n",
    "              'min_samples_leaf': [i for i in range(3, 7)],\n",
    "              'min_samples_split': [i for i in range(3, 7)],\n",
    "              'random_state': [42]}\n",
    "\n",
    "gsm = GridSearchCV(RandomForestRegressor(),\n",
    "                  param_grid=param_grid,\n",
    "                  cv=5,\n",
    "                  n_jobs=-1,\n",
    "                  verbose=2,\n",
    "                  refit=True,\n",
    "                  scoring='neg_mean_absolute_error')\n",
    "\n",
    "#gsm = DecisionTreeRegressor(random_state=42)\n",
    "\n",
    "gsm.fit(X_train, y_train)"
   ]
  },
  {
   "cell_type": "code",
   "execution_count": 55,
   "metadata": {},
   "outputs": [
    {
     "name": "stdout",
     "output_type": "stream",
     "text": [
      "{'criterion': 'mse', 'max_depth': 3, 'min_samples_leaf': 3, 'min_samples_split': 3, 'random_state': 42}\n"
     ]
    }
   ],
   "source": [
    "best_params_ = gsm.best_params_\n",
    "print(gsm.best_params_)"
   ]
  },
  {
   "cell_type": "code",
   "execution_count": 56,
   "metadata": {},
   "outputs": [],
   "source": [
    "yhat_rf = gsm.predict(X_test)"
   ]
  },
  {
   "cell_type": "code",
   "execution_count": 57,
   "metadata": {},
   "outputs": [
    {
     "data": {
      "text/plain": [
       "array([2741371.66475227, 2741371.66475227, 2741371.66475227])"
      ]
     },
     "execution_count": 57,
     "metadata": {},
     "output_type": "execute_result"
    }
   ],
   "source": [
    "yhat_rf"
   ]
  },
  {
   "cell_type": "code",
   "execution_count": 58,
   "metadata": {},
   "outputs": [
    {
     "name": "stdout",
     "output_type": "stream",
     "text": [
      "MAPE: 94.95257116926801\n"
     ]
    }
   ],
   "source": [
    "print(\"MAPE:\", mean_absolute_percentage_error(np.array(y_test), yhat_rf))"
   ]
  },
  {
   "cell_type": "code",
   "execution_count": null,
   "metadata": {},
   "outputs": [],
   "source": []
  },
  {
   "cell_type": "markdown",
   "metadata": {},
   "source": [
    "---\n",
    "# Gradient Boosting Regressor\n",
    "---"
   ]
  },
  {
   "cell_type": "code",
   "execution_count": 59,
   "metadata": {},
   "outputs": [
    {
     "name": "stdout",
     "output_type": "stream",
     "text": [
      "Fitting 5 folds for each of 432 candidates, totalling 2160 fits\n"
     ]
    },
    {
     "name": "stderr",
     "output_type": "stream",
     "text": [
      "[Parallel(n_jobs=-1)]: Using backend LokyBackend with 8 concurrent workers.\n",
      "[Parallel(n_jobs=-1)]: Done  34 tasks      | elapsed:    0.3s\n",
      "[Parallel(n_jobs=-1)]: Done 504 tasks      | elapsed:    3.8s\n",
      "[Parallel(n_jobs=-1)]: Done 1316 tasks      | elapsed:    9.4s\n",
      "[Parallel(n_jobs=-1)]: Done 2160 out of 2160 | elapsed:   15.2s finished\n"
     ]
    },
    {
     "data": {
      "text/plain": [
       "GridSearchCV(cv=5, estimator=GradientBoostingRegressor(), n_jobs=-1,\n",
       "             param_grid={'criterion': ['friedman_mse', 'mae'],\n",
       "                         'learning_rate': [0.1, 0.15, 0.2], 'max_depth': [3, 5],\n",
       "                         'max_features': ['log2', 'sqrt'],\n",
       "                         'min_samples_leaf': array([0.1, 0.3, 0.5]),\n",
       "                         'min_samples_split': array([0.1, 0.3, 0.5]),\n",
       "                         'n_estimators': [10], 'subsample': [0.5, 1.0]},\n",
       "             scoring='neg_mean_absolute_error', verbose=2)"
      ]
     },
     "execution_count": 59,
     "metadata": {},
     "output_type": "execute_result"
    }
   ],
   "source": [
    "gradient_boosting_parameters = {\n",
    "    \"learning_rate\": [0.1, 0.15, 0.2],\n",
    "    \"min_samples_split\": np.linspace(0.1, 0.5, 3),\n",
    "    \"min_samples_leaf\": np.linspace(0.1, 0.5, 3),\n",
    "    \"max_depth\":[3,5],\n",
    "    \"max_features\":[\"log2\",\"sqrt\"],\n",
    "    \"criterion\": [\"friedman_mse\",  \"mae\"],\n",
    "    \"subsample\":[0.5, 1.0],\n",
    "    \"n_estimators\":[10]\n",
    "    }\n",
    "\n",
    "gsm = GridSearchCV(GradientBoostingRegressor(), \n",
    "                   param_grid=gradient_boosting_parameters, \n",
    "                   cv=5, \n",
    "                   n_jobs=-1, \n",
    "                   verbose=2, \n",
    "                   scoring='neg_mean_absolute_error')\n",
    "\n",
    "gsm.fit(X_train, y_train)"
   ]
  },
  {
   "cell_type": "code",
   "execution_count": 60,
   "metadata": {},
   "outputs": [
    {
     "name": "stdout",
     "output_type": "stream",
     "text": [
      "{'criterion': 'mae', 'learning_rate': 0.2, 'max_depth': 5, 'max_features': 'log2', 'min_samples_leaf': 0.1, 'min_samples_split': 0.5, 'n_estimators': 10, 'subsample': 1.0}\n"
     ]
    }
   ],
   "source": [
    "best_params_ = gsm.best_params_\n",
    "print(gsm.best_params_)"
   ]
  },
  {
   "cell_type": "code",
   "execution_count": 61,
   "metadata": {},
   "outputs": [],
   "source": [
    "yhat_gb = gsm.predict(X_test)"
   ]
  },
  {
   "cell_type": "code",
   "execution_count": 62,
   "metadata": {},
   "outputs": [
    {
     "data": {
      "text/plain": [
       "array([3151050.00100916, 4213633.79784968, 4213633.79784968])"
      ]
     },
     "execution_count": 62,
     "metadata": {},
     "output_type": "execute_result"
    }
   ],
   "source": [
    "yhat_gb"
   ]
  },
  {
   "cell_type": "code",
   "execution_count": 63,
   "metadata": {},
   "outputs": [
    {
     "name": "stdout",
     "output_type": "stream",
     "text": [
      "MAPE: 174.46391336563286\n"
     ]
    }
   ],
   "source": [
    "print(\"MAPE:\", mean_absolute_percentage_error(np.array(y_test), yhat_gb))"
   ]
  },
  {
   "cell_type": "code",
   "execution_count": null,
   "metadata": {},
   "outputs": [],
   "source": []
  },
  {
   "cell_type": "code",
   "execution_count": null,
   "metadata": {},
   "outputs": [],
   "source": []
  }
 ],
 "metadata": {
  "kernelspec": {
   "display_name": "Python 3",
   "language": "python",
   "name": "python3"
  },
  "language_info": {
   "codemirror_mode": {
    "name": "ipython",
    "version": 3
   },
   "file_extension": ".py",
   "mimetype": "text/x-python",
   "name": "python",
   "nbconvert_exporter": "python",
   "pygments_lexer": "ipython3",
   "version": "3.8.5"
  }
 },
 "nbformat": 4,
 "nbformat_minor": 4
}
