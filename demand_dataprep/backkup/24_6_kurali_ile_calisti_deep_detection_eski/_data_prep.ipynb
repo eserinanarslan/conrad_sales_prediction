{
 "cells": [
  {
   "cell_type": "markdown",
   "metadata": {},
   "source": [
    "# Libraries"
   ]
  },
  {
   "cell_type": "code",
   "execution_count": 52,
   "metadata": {},
   "outputs": [],
   "source": [
    "import pandas as pd\n",
    "import numpy as np\n",
    "import os\n",
    "import matplotlib.pyplot as plt\n",
    "import seaborn as sns\n",
    "import calendar\n",
    "from datetime import datetime\n",
    "import warnings\n",
    "warnings.filterwarnings(\"ignore\")"
   ]
  },
  {
   "cell_type": "markdown",
   "metadata": {},
   "source": [
    "---"
   ]
  },
  {
   "cell_type": "markdown",
   "metadata": {},
   "source": [
    "# Read Files"
   ]
  },
  {
   "cell_type": "code",
   "execution_count": 53,
   "metadata": {},
   "outputs": [],
   "source": [
    "# List of Excel Files\n",
    "sales_lst = sorted([doc_ for doc_ in os.listdir(\"../data\") if doc_.startswith(\"Demand Sensing Sales History\") or doc_.startswith(\"Demand_Sensing_Sales_\")])\n",
    "saha_aktivite_lst = sorted([doc_ for doc_ in os.listdir(\"../data\") if doc_.startswith(\"Demand_Sensing_Saha_Aktivit\") or doc_.startswith(\"Demand Sensing Saha Aktivit\")])\n",
    "pasifik_aktivite_lst = sorted([doc_ for doc_ in os.listdir(\"../data\") if doc_.startswith(\"Pasifik Aktivite Datası\")])\n",
    "fiyat_lst = sorted([doc_ for doc_ in os.listdir(\"../data\") if \"Fiyat List\" in doc_])\n",
    "portfoy_lst = sorted([doc_ for doc_ in os.listdir(\"../data\") if doc_.startswith(\"Portföy\")])\n",
    "eslenik_kod_lst = sorted([doc_ for doc_ in os.listdir(\"../data\") if doc_.startswith(\"Ürün Eşlenik kodlar\")])"
   ]
  },
  {
   "cell_type": "markdown",
   "metadata": {},
   "source": [
    "---\n",
    "# Read Data\n",
    "---"
   ]
  },
  {
   "cell_type": "code",
   "execution_count": 54,
   "metadata": {},
   "outputs": [],
   "source": [
    "# Read Sales Data\n",
    "pasifik_df_all = []\n",
    "btt_df_all = []\n",
    "horizon_saha_df_all = []\n",
    "chng_cols_beginning = {'Year': 'Yıl', 'Quarter': 'Çeyrek', 'Month': 'Ay', \n",
    " 'Company Code': 'Şirket Kodu', 'Main Category Name': 'Ana Kategori Adı', \n",
    " 'Category Name': 'Kategori Adı', 'Brand Name': 'Marka Adı', 'Product Code': 'Ürün Kodu', \n",
    " 'Product Name': 'Ürün Adı', \"Ürün Adı (Mobis)\": 'Ürün Adı'}\n",
    "for docs_ in sales_lst:\n",
    "    pasifik_df_all.append(pd.read_excel(\"../data/\"+docs_, skiprows=1, sheet_name=\"Pasifik SAP Satış\", usecols=\"B:P\").rename(columns=chng_cols_beginning))\n",
    "    btt_df_all.append(pd.read_excel(\"../data/\"+docs_, skiprows=1, sheet_name=\"BTT SAP Satış\", usecols=\"B:N\").rename(columns=chng_cols_beginning))\n",
    "    horizon_saha_df_all.append(pd.read_excel(\"../data/\"+docs_, skiprows=1, sheet_name=\"Horizon Saha Satış\", usecols=\"B:N\").rename(columns=chng_cols_beginning))\n",
    "pasifik_df_all = pd.concat(pasifik_df_all)\n",
    "btt_df_all = pd.concat(btt_df_all)\n",
    "horizon_saha_df_all = pd.concat(horizon_saha_df_all)\n",
    "\n",
    "\n",
    "chng_cols = {\"Saha Müşteri Grup\": \"Grup adı\", \"Ürün Adı (Mobis)\": \"Ürün Adı\"}\n",
    "\n",
    "pasifik_df_all.rename(columns=chng_cols, inplace=True)\n",
    "btt_df_all.rename(columns=chng_cols, inplace=True)\n",
    "horizon_saha_df_all.rename(columns=chng_cols, inplace=True)\n",
    "\n",
    "btt_df_all[\"Grup adı\"], btt_df_all[\"Grup Kodu.\"] = \"BTT\", 0\n",
    "horizon_saha_df_all[\"Şirket Kodu\"], horizon_saha_df_all[\"Grup Kodu.\"] = 0, 0\n",
    "\n",
    "btt_df_all = btt_df_all[pasifik_df_all.columns.to_list()]\n",
    "horizon_saha_df_all = horizon_saha_df_all[pasifik_df_all.columns.to_list()]"
   ]
  },
  {
   "cell_type": "code",
   "execution_count": 55,
   "metadata": {},
   "outputs": [],
   "source": [
    "# Read Saha Aktiviteleri\n",
    "saha_aktivite_detay = []\n",
    "saha_aktivite_cat = []\n",
    "\n",
    "for docs_ in saha_aktivite_lst:\n",
    "    saha_aktivite_detay.append(pd.read_excel(\"../data/\"+docs_, skiprows=1, sheet_name=\"Ürün Detay\", usecols=\"B:M\"))\n",
    "    saha_aktivite_cat.append(pd.read_excel(\"../data/\"+docs_, skiprows=1, sheet_name=\"Kategori\", usecols=\"B:I\"))\n",
    "saha_aktivite_detay = pd.concat(saha_aktivite_detay)\n",
    "saha_aktivite_cat = pd.concat(saha_aktivite_cat)"
   ]
  },
  {
   "cell_type": "code",
   "execution_count": 56,
   "metadata": {},
   "outputs": [],
   "source": [
    "# Read Pasifik Aktiviteleri\n",
    "pasifik_aktivite_df = pd.read_excel(\"../data/\"+pasifik_aktivite_lst[0])"
   ]
  },
  {
   "cell_type": "code",
   "execution_count": 57,
   "metadata": {},
   "outputs": [],
   "source": [
    "# Read Fiyat Listesi\n",
    "fiyat_lst_pasifik = pd.read_excel(\"../data/\"+fiyat_lst[0])\n",
    "fiyat_lst_horizon = pd.read_excel(\"../data/\"+fiyat_lst[1])"
   ]
  },
  {
   "cell_type": "code",
   "execution_count": 58,
   "metadata": {},
   "outputs": [],
   "source": [
    "# Read Portföy\n",
    "pasifik_portfoy_df = pd.read_excel(\"../data/\"+portfoy_lst[0], sheet_name=\"Pasifik Portföy\", skiprows=3, usecols=\"D:H\")\n",
    "btt_portfoy_df = pd.read_excel(\"../data/\"+portfoy_lst[0], sheet_name=\"BTT Portföy\", skiprows=2, usecols=\"D:H\")\n",
    "horizon_portfoy_df = pd.read_excel(\"../data/\"+portfoy_lst[0], sheet_name=\"Horizon Portföy\", skiprows=2, usecols=\"E:I\")"
   ]
  },
  {
   "cell_type": "code",
   "execution_count": 59,
   "metadata": {},
   "outputs": [],
   "source": [
    "# Read Eşlenik Kodları\n",
    "eslenik_kod_df = pd.read_excel(\"../data/\"+eslenik_kod_lst[0])"
   ]
  },
  {
   "cell_type": "code",
   "execution_count": 60,
   "metadata": {},
   "outputs": [],
   "source": [
    "# Read Calender\n",
    "calender_df = pd.read_excel(\"../data/Calender_Monthly.xlsx\")"
   ]
  },
  {
   "cell_type": "code",
   "execution_count": 61,
   "metadata": {},
   "outputs": [],
   "source": [
    "# Read Plasiyer Yarışma\n",
    "plasiyer_yarisma = pd.read_excel(\"../data/2018-2021 Yarışmaları.xlsx\")"
   ]
  },
  {
   "cell_type": "code",
   "execution_count": 62,
   "metadata": {},
   "outputs": [],
   "source": [
    "eslenik_kod_df[\"En Güncel Kod\"] = eslenik_kod_df[\"En Güncel Kod\"].apply(lambda x: int(x) if x not in ['delist ', \"delist\"] else x.replace(\" \", \"\"))"
   ]
  },
  {
   "cell_type": "markdown",
   "metadata": {},
   "source": [
    "---\n",
    "# Pasifik 2016 aktivite verileri olmadığı için 2016 Sales dataları çıkartıldı."
   ]
  },
  {
   "cell_type": "code",
   "execution_count": 63,
   "metadata": {},
   "outputs": [],
   "source": [
    "pasifik_df_all = pasifik_df_all[pasifik_df_all[\"Yıl\"] != 2016].reset_index(drop=True)"
   ]
  },
  {
   "cell_type": "markdown",
   "metadata": {},
   "source": [
    "---"
   ]
  },
  {
   "cell_type": "markdown",
   "metadata": {},
   "source": [
    "---"
   ]
  },
  {
   "cell_type": "markdown",
   "metadata": {},
   "source": [
    "# Sales Datası İçin Ürün Kod Eşleme"
   ]
  },
  {
   "cell_type": "markdown",
   "metadata": {},
   "source": [
    "---"
   ]
  },
  {
   "cell_type": "markdown",
   "metadata": {},
   "source": [
    "---"
   ]
  },
  {
   "cell_type": "markdown",
   "metadata": {},
   "source": [
    "## Join"
   ]
  },
  {
   "cell_type": "code",
   "execution_count": 64,
   "metadata": {},
   "outputs": [],
   "source": [
    "pasifik_df_all = pd.merge(pasifik_df_all, eslenik_kod_df[[\"Ürün Kodu\", \"En Güncel Kod\"]], on=\"Ürün Kodu\", how=\"left\")\n",
    "btt_df_all = pd.merge(btt_df_all, eslenik_kod_df[[\"Ürün Kodu\", \"En Güncel Kod\"]], on=\"Ürün Kodu\", how=\"left\")\n",
    "horizon_saha_df_all = pd.merge(horizon_saha_df_all, eslenik_kod_df[[\"Ürün Kodu\", \"En Güncel Kod\"]], on=\"Ürün Kodu\", how=\"left\")"
   ]
  },
  {
   "cell_type": "code",
   "execution_count": 65,
   "metadata": {},
   "outputs": [],
   "source": [
    "pasifik_eslenik_kod_olmayan = pasifik_df_all[pd.isnull(pasifik_df_all[\"En Güncel Kod\"])]\n",
    "pasifik_eslenik_kod_olmayan_unique = pd.DataFrame(pasifik_df_all[pd.isnull(pasifik_df_all[\"En Güncel Kod\"])][\"Ürün Kodu\"].unique(), columns=[\"Ürün Kodu\"])\n",
    "\n",
    "writer_pasifik = pd.ExcelWriter(\"../reports/pasifik_eslenik_kodu_olmayan.xlsx\", engine = 'xlsxwriter')\n",
    "\n",
    "pasifik_eslenik_kod_olmayan_unique.to_excel(writer_pasifik, sheet_name = 'eslenik_kod_olmayan_sku',index=False)\n",
    "pasifik_eslenik_kod_olmayan.to_excel(writer_pasifik, sheet_name = 'eslenik_kod_olmayan_data',index=False)\n",
    "\n",
    "writer_pasifik.save()\n",
    "writer_pasifik.close()"
   ]
  },
  {
   "cell_type": "code",
   "execution_count": 66,
   "metadata": {},
   "outputs": [],
   "source": [
    "btt_eslenik_kod_olmayan = btt_df_all[pd.isnull(btt_df_all[\"En Güncel Kod\"])]\n",
    "btt_eslenik_kod_olmayan_unique = pd.DataFrame(btt_df_all[pd.isnull(btt_df_all[\"En Güncel Kod\"])][\"Ürün Kodu\"].unique(), columns=[\"Ürün Kodu\"])\n",
    "\n",
    "writer_btt = pd.ExcelWriter(\"../reports/btt_eslenik_kodu_olmayan.xlsx\", engine = 'xlsxwriter')\n",
    "\n",
    "btt_eslenik_kod_olmayan_unique.to_excel(writer_btt, sheet_name = 'eslenik_kod_olmayan_sku',index=False)\n",
    "btt_eslenik_kod_olmayan.to_excel(writer_btt, sheet_name = 'eslenik_kod_olmayan_data',index=False)\n",
    "\n",
    "writer_btt.save()\n",
    "writer_btt.close()"
   ]
  },
  {
   "cell_type": "code",
   "execution_count": 67,
   "metadata": {},
   "outputs": [],
   "source": [
    "horizon_eslenik_kod_olmayan = horizon_saha_df_all[pd.isnull(horizon_saha_df_all[\"En Güncel Kod\"])]\n",
    "horizon_eslenik_kod_olmayan_unique = pd.DataFrame(horizon_saha_df_all[pd.isnull(horizon_saha_df_all[\"En Güncel Kod\"])][\"Ürün Kodu\"].unique(), columns=[\"Ürün Kodu\"])\n",
    "\n",
    "writer_horizon = pd.ExcelWriter(\"../reports/horizon_eslenik_kodu_olmayan.xlsx\", engine = 'xlsxwriter')\n",
    "\n",
    "horizon_eslenik_kod_olmayan_unique.to_excel(writer_horizon, sheet_name = 'eslenik_kod_olmayan_sku',index=False)\n",
    "horizon_eslenik_kod_olmayan.to_excel(writer_horizon, sheet_name = 'eslenik_kod_olmayan_data',index=False)\n",
    "\n",
    "writer_horizon.save()\n",
    "writer_horizon.close()"
   ]
  },
  {
   "cell_type": "markdown",
   "metadata": {},
   "source": [
    "## Ürün Eşleme Kodları dosyasında yer almayan kodlar için mevcut ürün kodları verildi."
   ]
  },
  {
   "cell_type": "code",
   "execution_count": 68,
   "metadata": {},
   "outputs": [],
   "source": [
    "empty_ = pasifik_df_all[pd.isnull(pasifik_df_all[\"En Güncel Kod\"])].reset_index(drop=True)\n",
    "full_ = pasifik_df_all[~pd.isnull(pasifik_df_all[\"En Güncel Kod\"])].reset_index(drop=True)\n",
    "empty_[\"En Güncel Kod\"] = empty_[\"Ürün Kodu\"]\n",
    "pasifik_df_all = pd.concat([empty_, full_], axis=0, ignore_index=True)\n",
    "pasifik_df_all = pasifik_df_all.sort_values(pasifik_df_all.columns.to_list()).reset_index(drop=True)\n",
    "\n",
    "empty_ = btt_df_all[pd.isnull(btt_df_all[\"En Güncel Kod\"])].reset_index(drop=True)\n",
    "full_ = btt_df_all[~pd.isnull(btt_df_all[\"En Güncel Kod\"])].reset_index(drop=True)\n",
    "empty_[\"En Güncel Kod\"] = empty_[\"Ürün Kodu\"]\n",
    "btt_df_all = pd.concat([empty_, full_], axis=0, ignore_index=True)\n",
    "btt_df_all = btt_df_all.sort_values(btt_df_all.columns.to_list()).reset_index(drop=True)\n",
    "\n",
    "empty_ = horizon_saha_df_all[pd.isnull(horizon_saha_df_all[\"En Güncel Kod\"])].reset_index(drop=True)\n",
    "full_ = horizon_saha_df_all[~pd.isnull(horizon_saha_df_all[\"En Güncel Kod\"])].reset_index(drop=True)\n",
    "empty_[\"En Güncel Kod\"] = empty_[\"Ürün Kodu\"]\n",
    "horizon_saha_df_all = pd.concat([empty_, full_], axis=0, ignore_index=True)\n",
    "horizon_saha_df_all = horizon_saha_df_all.sort_values(horizon_saha_df_all.columns.to_list()).reset_index(drop=True)"
   ]
  },
  {
   "cell_type": "markdown",
   "metadata": {},
   "source": [
    "## Adet adında yeni bir kolon oluşturuldu."
   ]
  },
  {
   "cell_type": "code",
   "execution_count": 69,
   "metadata": {},
   "outputs": [],
   "source": [
    "pasifik_df_all[\"Adet\"] = pasifik_df_all[\"Koli İçi Adet\"] * pasifik_df_all[\"Koli\"]\n",
    "btt_df_all[\"Adet\"] = btt_df_all[\"Koli İçi Adet\"] * btt_df_all[\"Koli\"]\n",
    "horizon_saha_df_all[\"Adet\"] = horizon_saha_df_all[\"Koli İçi Adet\"] * horizon_saha_df_all[\"Koli\"]"
   ]
  },
  {
   "cell_type": "markdown",
   "metadata": {},
   "source": [
    "## Delist olan ürünler veriden çıkartıldı."
   ]
  },
  {
   "cell_type": "code",
   "execution_count": 70,
   "metadata": {},
   "outputs": [],
   "source": [
    "pasifik_df_all = pasifik_df_all[pasifik_df_all[\"En Güncel Kod\"] != \"delist\"].reset_index(drop=True)\n",
    "btt_df_all = btt_df_all[btt_df_all[\"En Güncel Kod\"] != \"delist\"].reset_index(drop=True)\n",
    "horizon_saha_df_all = horizon_saha_df_all[horizon_saha_df_all[\"En Güncel Kod\"] != \"delist\"].reset_index(drop=True)"
   ]
  },
  {
   "cell_type": "markdown",
   "metadata": {},
   "source": [
    "## Aynı yıl, ay, grup adı, ana kategori adı, kategori adı, marka adı ve SKU kodundaki ürünler için toplam alındı. Sadece Koli İçi Adet için maksimum olan alındı."
   ]
  },
  {
   "cell_type": "markdown",
   "metadata": {},
   "source": [
    "---"
   ]
  },
  {
   "cell_type": "markdown",
   "metadata": {},
   "source": [
    "# Marka adı dahil değil groupby'a\n",
    "---"
   ]
  },
  {
   "cell_type": "code",
   "execution_count": 71,
   "metadata": {},
   "outputs": [],
   "source": [
    "dct_to_sum = {\"Koli İçi Adet\": \"sum\", \"Koli\": \"sum\", \"KG\": \"sum\", \"TL\": \"sum\", \"Adet\": \"sum\"}\n",
    "\n",
    "pasifik_df_all2 = pasifik_df_all.groupby([\"Yıl\", \"Ay\", \"Grup adı\", \"Ana Kategori Adı\", \"Kategori Adı\", \"En Güncel Kod\"]).agg(dct_to_sum).reset_index()\n",
    "btt_df_all2 = btt_df_all.groupby([\"Yıl\", \"Ay\", \"Grup adı\", \"Ana Kategori Adı\", \"Kategori Adı\", \"En Güncel Kod\"]).agg(dct_to_sum).reset_index()\n",
    "horizon_saha_df_all2 = horizon_saha_df_all.groupby([\"Yıl\", \"Ay\", \"Grup adı\", \"Ana Kategori Adı\", \"Kategori Adı\", \"En Güncel Kod\"]).agg(dct_to_sum).reset_index()"
   ]
  },
  {
   "cell_type": "code",
   "execution_count": 72,
   "metadata": {},
   "outputs": [],
   "source": [
    "pasifik_df_all2[\"Date\"] = pasifik_df_all2[\"Yıl\"].astype(str) + \"-\" +  pasifik_df_all2[\"Ay\"].astype(str) + \"-01\"\n",
    "btt_df_all2[\"Date\"] = btt_df_all2[\"Yıl\"].astype(str) + \"-\" +  btt_df_all2[\"Ay\"].astype(str) + \"-01\"\n",
    "horizon_saha_df_all2[\"Date\"] = horizon_saha_df_all2[\"Yıl\"].astype(str) + \"-\" +  horizon_saha_df_all2[\"Ay\"].astype(str) + \"-01\"\n",
    "\n",
    "pasifik_df_all2[\"Date\"] = pd.to_datetime(pasifik_df_all2[\"Date\"], format=\"%Y-%m-%d\", errors=\"coerce\")\n",
    "btt_df_all2[\"Date\"] = pd.to_datetime(btt_df_all2[\"Date\"], format=\"%Y-%m-%d\", errors=\"coerce\")\n",
    "horizon_saha_df_all2[\"Date\"] = pd.to_datetime(horizon_saha_df_all2[\"Date\"], format=\"%Y-%m-%d\", errors=\"coerce\")"
   ]
  },
  {
   "cell_type": "markdown",
   "metadata": {},
   "source": [
    "## Horizon ve Pasifikte bulunan \"Diğer\"'lerin yanlarına \"_\" ile Diğer_Pasifik, Diğer_Horizon yazıldı."
   ]
  },
  {
   "cell_type": "code",
   "execution_count": 73,
   "metadata": {},
   "outputs": [],
   "source": [
    "pasifik_df_all2[\"Grup adı\"] = pasifik_df_all2[\"Grup adı\"].apply(lambda x: \"Diğer_Pasifik\" if x == \"Diğer\" else x)\n",
    "horizon_saha_df_all2[\"Grup adı\"] = horizon_saha_df_all2[\"Grup adı\"].apply(lambda x: \"Diğer_Horizon\" if x == \"Diğer\" else x)"
   ]
  },
  {
   "cell_type": "markdown",
   "metadata": {},
   "source": [
    "# Kontrol: Herhangi bir SKU için koli içi adeti birden fazla geldi mi?"
   ]
  },
  {
   "cell_type": "markdown",
   "metadata": {},
   "source": [
    "---"
   ]
  },
  {
   "cell_type": "code",
   "execution_count": 74,
   "metadata": {},
   "outputs": [],
   "source": [
    "pasifik_temp = pasifik_df_all.copy()\n",
    "btt_temp = btt_df_all.copy()\n",
    "horizon_temp = horizon_saha_df_all.copy()\n",
    "\n",
    "pasifik_temp[\"Grup adı\"] = pasifik_temp[\"Grup adı\"].apply(lambda x: \"Diğer_Pasifik\" if x == \"Diğer\" else x)\n",
    "horizon_temp[\"Grup adı\"] = horizon_temp[\"Grup adı\"].apply(lambda x: \"Diğer_Horizon\" if x == \"Diğer\" else x)"
   ]
  },
  {
   "cell_type": "code",
   "execution_count": 75,
   "metadata": {},
   "outputs": [],
   "source": [
    "unique = pd.concat([pasifik_temp, btt_temp, horizon_temp], axis=0, ignore_index=True)\n",
    "\n",
    "koli_ici_fark = pd.concat([unique.groupby([\"En Güncel Kod\", \"Grup adı\"]).agg({\"Koli İçi Adet\": \"min\"}), unique.groupby([\"En Güncel Kod\", \"Grup adı\"]).agg({\"Koli İçi Adet\": \"max\"})], axis=1)\n",
    "koli_ici_fark.columns = [\"min\", \"max\"]\n",
    "koli_ici_fark[\"Fark\"] = koli_ici_fark[\"max\"] - koli_ici_fark[\"min\"]\n",
    "koli_ici_fark.reset_index(inplace=True)\n",
    "koli_ici_fark[koli_ici_fark[\"Fark\"] != 0].to_excel(\"../reports/ayni_sku_kod_farkli_koli_adedi.xlsx\", index=False)"
   ]
  },
  {
   "cell_type": "markdown",
   "metadata": {},
   "source": [
    "# Kontrol: Güncel Koda denk gelen eski ürün isimleri neler?"
   ]
  },
  {
   "cell_type": "code",
   "execution_count": 76,
   "metadata": {},
   "outputs": [],
   "source": [
    "unique_pasifik = pasifik_df_all[[\"En Güncel Kod\", \"Ürün Adı\"]]\n",
    "unique_btt = btt_df_all[[\"En Güncel Kod\", \"Ürün Adı\"]]\n",
    "unique_horizon = horizon_saha_df_all[[\"En Güncel Kod\", \"Ürün Adı\"]]\n",
    "\n",
    "unique_pasifik = unique_pasifik.drop_duplicates(subset=[\"En Güncel Kod\", \"Ürün Adı\"]).reset_index(drop=True)\n",
    "unique_btt = unique_btt.drop_duplicates(subset=[\"En Güncel Kod\", \"Ürün Adı\"]).reset_index(drop=True)\n",
    "unique_horizon = unique_horizon.drop_duplicates(subset=[\"En Güncel Kod\", \"Ürün Adı\"]).reset_index(drop=True)\n",
    "\n",
    "unique_pasifik.groupby(\"En Güncel Kod\")[\"Ürün Adı\"].agg(lambda x: \"-\".join(x)).to_excel(\"../reports/pasifik_guncel_kod_karsiligi_urunler.xlsx\", index=True)\n",
    "unique_btt.groupby(\"En Güncel Kod\")[\"Ürün Adı\"].agg(lambda x: \"-\".join(x)).to_excel(\"../reports/btt_guncel_kod_karsiligi_urunler.xlsx\", index=True)\n",
    "unique_horizon.groupby(\"En Güncel Kod\")[\"Ürün Adı\"].agg(lambda x: \"-\".join(x)).to_excel(\"../reports/horizon_guncel_kod_karsiligi_urunler.xlsx\", index=True)"
   ]
  },
  {
   "cell_type": "markdown",
   "metadata": {},
   "source": [
    "---"
   ]
  },
  {
   "cell_type": "markdown",
   "metadata": {},
   "source": [
    "---"
   ]
  },
  {
   "cell_type": "markdown",
   "metadata": {},
   "source": [
    "# SKU bazında gözlem sayısı"
   ]
  },
  {
   "cell_type": "code",
   "execution_count": 77,
   "metadata": {},
   "outputs": [],
   "source": [
    "num_pasifik = pasifik_df_all2.groupby([\"En Güncel Kod\", \"Grup adı\"]).count()[\"Yıl\"].reset_index().rename(columns={\"Yıl\": \"Count\"})\n",
    "num_btt = btt_df_all2.groupby([\"En Güncel Kod\", \"Grup adı\"]).count()[\"Yıl\"].reset_index().rename(columns={\"Yıl\": \"Count\"})\n",
    "num_horizon = horizon_saha_df_all2.groupby([\"En Güncel Kod\", \"Grup adı\"]).count()[\"Yıl\"].reset_index().rename(columns={\"Yıl\": \"Count\"})"
   ]
  },
  {
   "cell_type": "code",
   "execution_count": 78,
   "metadata": {},
   "outputs": [],
   "source": [
    "num_all = pd.concat([num_btt, num_horizon, num_pasifik], ignore_index=True, axis=0)\n",
    "num_all.sort_values(by=[\"En Güncel Kod\", \"Grup adı\", \"Count\"], inplace=True)\n",
    "num_all.to_excel(\"../reports/sku_bazinda_sayilar.xlsx\", index=False)"
   ]
  },
  {
   "cell_type": "markdown",
   "metadata": {},
   "source": [
    "---"
   ]
  },
  {
   "cell_type": "markdown",
   "metadata": {},
   "source": [
    "---\n",
    "# Missing Value'lara 0 atanması\n",
    "---"
   ]
  },
  {
   "cell_type": "markdown",
   "metadata": {},
   "source": [
    "---\n",
    "# Pasifik Filling Missing Values\n",
    "---"
   ]
  },
  {
   "cell_type": "code",
   "execution_count": 79,
   "metadata": {},
   "outputs": [],
   "source": [
    "pasifik_urun_isimleri = pasifik_df_all[[\"Marka Adı\", \"Ürün Adı\", \"En Güncel Kod\"]].drop_duplicates(subset=[\"Marka Adı\", \"En Güncel Kod\"],ignore_index=True,keep=\"first\")\n",
    "pasifik_urun_isimleri = pasifik_urun_isimleri[~((pasifik_urun_isimleri[\"Marka Adı\"] == \"DANKEK BATON\") & (pasifik_urun_isimleri[\"En Güncel Kod\"] == 80403))]\n",
    "pasifik_df_all2 = pd.merge(pasifik_df_all2, pasifik_urun_isimleri[[\"En Güncel Kod\", \"Marka Adı\", \"Ürün Adı\"]].drop_duplicates(subset=[\"En Güncel Kod\", \"Marka Adı\", \"Ürün Adı\"], keep=\"first\"), on=\"En Güncel Kod\", how=\"left\")\n",
    "pasifik_df_all2 = pasifik_df_all2[pasifik_df_all2.columns.to_list()[:5]+pasifik_df_all2.columns.to_list()[-2:]+[pasifik_df_all2.columns.to_list()[5]]+pasifik_df_all2.columns.to_list()[6:12]]\n",
    "\n",
    "\n",
    "\n",
    "horizon_urun_isimleri = horizon_saha_df_all[[\"Marka Adı\", \"Ürün Adı\", \"En Güncel Kod\"]].drop_duplicates(subset=[\"Marka Adı\", \"En Güncel Kod\"],ignore_index=True,keep=\"first\")\n",
    "horizon_urun_isimleri = horizon_urun_isimleri[~(((horizon_urun_isimleri[\"Marka Adı\"] == \"DANKEK BATON\") & (horizon_urun_isimleri[\"En Güncel Kod\"] == 80403)) | \n",
    "                                                ((horizon_urun_isimleri[\"Marka Adı\"] == \"MAVİ YEŞİL\") & (horizon_urun_isimleri[\"En Güncel Kod\"] == 11802)) |\n",
    "                                                ((horizon_urun_isimleri[\"Marka Adı\"] == \"MAVİ YEŞİL\") & (horizon_urun_isimleri[\"En Güncel Kod\"] == 74306)) |\n",
    "                                                ((horizon_urun_isimleri[\"Marka Adı\"] == \"AS KRAKER\") & (horizon_urun_isimleri[\"En Güncel Kod\"] == 190502)))]\n",
    "horizon_saha_df_all2 = pd.merge(horizon_saha_df_all2, horizon_urun_isimleri[[\"En Güncel Kod\", \"Marka Adı\", \"Ürün Adı\"]], on=\"En Güncel Kod\", how=\"left\")\n",
    "horizon_saha_df_all2 = horizon_saha_df_all2[horizon_saha_df_all2.columns.to_list()[:5]+horizon_saha_df_all2.columns.to_list()[-2:]+[horizon_saha_df_all2.columns.to_list()[5]]+horizon_saha_df_all2.columns.to_list()[6:12]]\n",
    "\n",
    "\n",
    "\n",
    "btt_urun_isimleri = btt_df_all[[\"Marka Adı\", \"Ürün Adı\", \"En Güncel Kod\"]].drop_duplicates(subset=[\"Marka Adı\", \"En Güncel Kod\"],ignore_index=True,keep=\"first\")\n",
    "btt_urun_isimleri = btt_urun_isimleri[~((btt_urun_isimleri[\"Marka Adı\"] == \"DANKEK BATON\") & (btt_urun_isimleri[\"En Güncel Kod\"] == 80403))]\n",
    "btt_df_all2 = pd.merge(btt_df_all2, btt_urun_isimleri[[\"En Güncel Kod\", \"Marka Adı\", \"Ürün Adı\"]].drop_duplicates(subset=[\"En Güncel Kod\", \"Marka Adı\", \"Ürün Adı\"], keep=\"first\"), on=\"En Güncel Kod\", how=\"left\")\n",
    "btt_df_all2 = btt_df_all2[btt_df_all2.columns.to_list()[:5]+btt_df_all2.columns.to_list()[-2:]+[btt_df_all2.columns.to_list()[5]]+btt_df_all2.columns.to_list()[6:12]]"
   ]
  },
  {
   "cell_type": "code",
   "execution_count": 80,
   "metadata": {},
   "outputs": [],
   "source": [
    "pasifik_df_all_filled = []\n",
    "for idx, test in pasifik_df_all2.groupby([\"En Güncel Kod\", \"Yıl\", \"Grup adı\"]):\n",
    "    test.reset_index(drop=True, inplace=True)\n",
    "    for i in range(1, 13):\n",
    "        try:\n",
    "            if i == test.loc[i-1, \"Ay\"]:\n",
    "                if i == 13:\n",
    "                    break\n",
    "            else:\n",
    "                test.loc[-1] = test.loc[0]\n",
    "                test.loc[-1, \"Ay\"], test.loc[-1, \"Koli İçi Adet\"], test.loc[-1, \"Koli\"],  \\\n",
    "                test.loc[-1, \"KG\"], test.loc[-1, \"TL\"], test.loc[-1, \"Adet\"], test.loc[-1, \"Date\"] = i, 0, 0, 0, 0, 0, str(test.loc[-1, \"Yıl\"])+\"-\"+str(i)+\"-\"+str(\"01\")\n",
    "                test = test.sort_values(by=[\"Yıl\", \"Ay\"]).reset_index(drop=True)\n",
    "        except:\n",
    "            test.loc[-1] = test.loc[0]\n",
    "            test.loc[-1, \"Ay\"], test.loc[-1, \"Koli İçi Adet\"], test.loc[-1, \"Koli\"],  \\\n",
    "            test.loc[-1, \"KG\"], test.loc[-1, \"TL\"], test.loc[-1, \"Adet\"], test.loc[-1, \"Date\"] = i, 0, 0, 0, 0, 0, str(test.loc[-1, \"Yıl\"])+\"-\"+str(i)+\"-\"+str(\"01\")\n",
    "            test = test.sort_values(by=[\"Yıl\", \"Ay\"]).reset_index(drop=True)\n",
    "        test[\"Date\"] = pd.to_datetime(test[\"Date\"], format=\"%Y-%m-%d\", errors=\"coerce\")\n",
    "    pasifik_df_all_filled.append(test)"
   ]
  },
  {
   "cell_type": "code",
   "execution_count": 81,
   "metadata": {},
   "outputs": [],
   "source": [
    "pasifik_df_all2 = pd.concat(pasifik_df_all_filled, ignore_index=True)"
   ]
  },
  {
   "cell_type": "markdown",
   "metadata": {},
   "source": [
    "---\n",
    "# Horizon Filling Missing Values\n",
    "---"
   ]
  },
  {
   "cell_type": "code",
   "execution_count": 82,
   "metadata": {},
   "outputs": [],
   "source": [
    "horizon_saha_df_all_filled = []\n",
    "for idx, test in horizon_saha_df_all2.groupby([\"En Güncel Kod\", \"Yıl\", \"Grup adı\"]):\n",
    "    test.reset_index(drop=True, inplace=True)\n",
    "    for i in range(1, 13):\n",
    "        try:\n",
    "            if i == test.loc[i-1, \"Ay\"]:\n",
    "                if i == 13:\n",
    "                    break\n",
    "            else:\n",
    "                test.loc[-1] = test.loc[0]\n",
    "                test.loc[-1, \"Ay\"], test.loc[-1, \"Koli İçi Adet\"], test.loc[-1, \"Koli\"],  \\\n",
    "                test.loc[-1, \"KG\"], test.loc[-1, \"TL\"], test.loc[-1, \"Adet\"], test.loc[-1, \"Date\"] = i, 0, 0, 0, 0, 0, str(test.loc[-1, \"Yıl\"])+\"-\"+str(i)+\"-\"+str(\"01\")\n",
    "                test = test.sort_values(by=[\"Yıl\", \"Ay\"]).reset_index(drop=True)\n",
    "        except:\n",
    "            test.loc[-1] = test.loc[0]\n",
    "            test.loc[-1, \"Ay\"], test.loc[-1, \"Koli İçi Adet\"], test.loc[-1, \"Koli\"],  \\\n",
    "            test.loc[-1, \"KG\"], test.loc[-1, \"TL\"], test.loc[-1, \"Adet\"], test.loc[-1, \"Date\"] = i, 0, 0, 0, 0, 0, str(test.loc[-1, \"Yıl\"])+\"-\"+str(i)+\"-\"+str(\"01\")\n",
    "            test = test.sort_values(by=[\"Yıl\", \"Ay\"]).reset_index(drop=True)\n",
    "        test[\"Date\"] = pd.to_datetime(test[\"Date\"], format=\"%Y-%m-%d\", errors=\"coerce\")\n",
    "    horizon_saha_df_all_filled.append(test)"
   ]
  },
  {
   "cell_type": "code",
   "execution_count": 83,
   "metadata": {},
   "outputs": [],
   "source": [
    "horizon_saha_df_all2 = pd.concat(horizon_saha_df_all_filled, ignore_index=True)"
   ]
  },
  {
   "cell_type": "markdown",
   "metadata": {},
   "source": [
    "---\n",
    "# BTT Filling Missing Values\n",
    "---"
   ]
  },
  {
   "cell_type": "code",
   "execution_count": 84,
   "metadata": {},
   "outputs": [],
   "source": [
    "btt_df_all_filled = []\n",
    "for idx, test in btt_df_all2.groupby([\"En Güncel Kod\", \"Yıl\", \"Grup adı\"]):\n",
    "    test.reset_index(drop=True, inplace=True)\n",
    "    for i in range(1, 13):\n",
    "        try:\n",
    "            if i == test.loc[i-1, \"Ay\"]:\n",
    "                if i == 13:\n",
    "                    break\n",
    "            else:\n",
    "                test.loc[-1] = test.loc[0]\n",
    "                test.loc[-1, \"Ay\"], test.loc[-1, \"Koli İçi Adet\"], test.loc[-1, \"Koli\"],  \\\n",
    "                test.loc[-1, \"KG\"], test.loc[-1, \"TL\"], test.loc[-1, \"Adet\"], test.loc[-1, \"Date\"] = i, 0, 0, 0, 0, 0, str(test.loc[-1, \"Yıl\"])+\"-\"+str(i)+\"-\"+str(\"01\")\n",
    "                test = test.sort_values(by=[\"Yıl\", \"Ay\"]).reset_index(drop=True)\n",
    "        except:\n",
    "            test.loc[-1] = test.loc[0]\n",
    "            test.loc[-1, \"Ay\"], test.loc[-1, \"Koli İçi Adet\"], test.loc[-1, \"Koli\"],  \\\n",
    "            test.loc[-1, \"KG\"], test.loc[-1, \"TL\"], test.loc[-1, \"Adet\"], test.loc[-1, \"Date\"] = i, 0, 0, 0, 0, 0, str(test.loc[-1, \"Yıl\"])+\"-\"+str(i)+\"-\"+str(\"01\")\n",
    "            test = test.sort_values(by=[\"Yıl\", \"Ay\"]).reset_index(drop=True)\n",
    "        test[\"Date\"] = pd.to_datetime(test[\"Date\"], format=\"%Y-%m-%d\", errors=\"coerce\")\n",
    "    btt_df_all_filled.append(test)"
   ]
  },
  {
   "cell_type": "code",
   "execution_count": 85,
   "metadata": {},
   "outputs": [],
   "source": [
    "btt_df_all2 = pd.concat(btt_df_all_filled, ignore_index=True)"
   ]
  },
  {
   "cell_type": "markdown",
   "metadata": {},
   "source": [
    "---"
   ]
  },
  {
   "cell_type": "markdown",
   "metadata": {},
   "source": [
    "---"
   ]
  },
  {
   "cell_type": "markdown",
   "metadata": {},
   "source": [
    "# Aktivite Datası İçin Ürün Kod Eşleme"
   ]
  },
  {
   "cell_type": "markdown",
   "metadata": {},
   "source": [
    "---"
   ]
  },
  {
   "cell_type": "markdown",
   "metadata": {},
   "source": [
    "---"
   ]
  },
  {
   "cell_type": "markdown",
   "metadata": {},
   "source": [
    "# Pasifik Aktivite"
   ]
  },
  {
   "cell_type": "markdown",
   "metadata": {},
   "source": [
    "## Left join ile güncel kodlar getirildi. Delist olan ürünler listeden çıkartıldı. \"Çeyrek\" sütunu silindi. En güncel kod sütunnuda bulunamayan değerler Ürün Kodu sütunundan çekildi."
   ]
  },
  {
   "cell_type": "code",
   "execution_count": 86,
   "metadata": {},
   "outputs": [],
   "source": [
    "pasifik_aktivite_df2 = pd.merge(pasifik_aktivite_df, eslenik_kod_df[[\"Ürün Kodu\", \"En Güncel Kod\"]], on=\"Ürün Kodu\", how=\"left\")\n",
    "pasifik_aktivite_df2 = pasifik_aktivite_df2[pasifik_aktivite_df2[\"En Güncel Kod\"] != \"delist\"].reset_index(drop=True)\n",
    "pasifik_aktivite_df2.drop(\"Çeyrek\", inplace=True, axis=1)\n",
    "pasifik_aktivite_df2['En Güncel Kod'] = pasifik_aktivite_df2['En Güncel Kod'].fillna(pasifik_aktivite_df2['Ürün Kodu'])\n",
    "pasifik_aktivite_df2.drop(columns=\"Ürün Kodu\", axis=1, inplace=True)\n",
    "pasifik_aktivite_df2.to_csv(\"../data/_pas_akt_data.csv\", index=False)"
   ]
  },
  {
   "cell_type": "markdown",
   "metadata": {},
   "source": [
    "## Hangi güncel ürün kodundan kaç tane girildiğinin kontrolü"
   ]
  },
  {
   "cell_type": "markdown",
   "metadata": {},
   "source": [
    "## Duplike durumdaki ürün kodlarının excel olarak dışarıya alınması"
   ]
  },
  {
   "cell_type": "code",
   "execution_count": 87,
   "metadata": {},
   "outputs": [],
   "source": [
    "x = pasifik_aktivite_df2.columns.to_list()[:5]\n",
    "y = pasifik_aktivite_df2.columns.to_list()[-1]\n",
    "x.append(y)\n",
    "pasifik_aktivite_df2[pasifik_aktivite_df2[x].duplicated(keep=False)].sort_values(by=[\"En Güncel Kod\", \"Yıl\", \"Ay\", \"Müşteri Grup\", \"Ana Kategori Adı\", \"Kategori Adı\"]).to_excel(\"../reports/duplike_pasifik_aktivite_datasi.xlsx\", index=False)"
   ]
  },
  {
   "cell_type": "markdown",
   "metadata": {},
   "source": [
    "---\n",
    "## Aynı anda farklı iki aktivite tipi var mı?\n",
    "---"
   ]
  },
  {
   "cell_type": "code",
   "execution_count": 88,
   "metadata": {},
   "outputs": [],
   "source": [
    "# pa_df = pasifik aktivite df (sadece aynı ay farklı aktivite tipini görmek için)\n",
    "pa_df = pasifik_aktivite_df2.copy()\n",
    "\n",
    "pa_df.drop(columns=[\"Ana Kategori Adı\", \"Kategori Adı\", \"Marka Adı\", \"Ürün Adı\"], axis=1, inplace=True)\n",
    "pa_df.drop_duplicates(subset=pa_df.columns.to_list(), inplace=True, ignore_index=True)\n",
    "check_pa_df = pa_df.pivot_table(index=[\"Yıl\", \"Ay\", \"En Güncel Kod\"], columns=\"Aktivite Tipi\", aggfunc=lambda x: len(x.unique())).sum(axis=1).reset_index()\n",
    "check_pa_df = check_pa_df[check_pa_df[0] > 1].reset_index(drop=True)"
   ]
  },
  {
   "cell_type": "code",
   "execution_count": 89,
   "metadata": {},
   "outputs": [
    {
     "data": {
      "text/plain": [
       "'for row in range(len(check_pa_df)):\\n    print(\"\\n\")\\n    print(pa_df[(pa_df[\"Yıl\"] == check_pa_df.loc[row, \"Yıl\"]) & (pa_df[\"Ay\"] == check_pa_df.loc[row, \"Ay\"]) & (pa_df[\"En Güncel Kod\"] == check_pa_df.loc[row, \"En Güncel Kod\"])])\\n    print(\"\\n\")'"
      ]
     },
     "execution_count": 89,
     "metadata": {},
     "output_type": "execute_result"
    }
   ],
   "source": [
    "\"\"\"for row in range(len(check_pa_df)):\n",
    "    print(\"\\n\")\n",
    "    print(pa_df[(pa_df[\"Yıl\"] == check_pa_df.loc[row, \"Yıl\"]) & (pa_df[\"Ay\"] == check_pa_df.loc[row, \"Ay\"]) & (pa_df[\"En Güncel Kod\"] == check_pa_df.loc[row, \"En Güncel Kod\"])])\n",
    "    print(\"\\n\")\"\"\""
   ]
  },
  {
   "cell_type": "markdown",
   "metadata": {},
   "source": [
    "---"
   ]
  },
  {
   "cell_type": "markdown",
   "metadata": {},
   "source": [
    "---"
   ]
  },
  {
   "cell_type": "markdown",
   "metadata": {},
   "source": [
    "---"
   ]
  },
  {
   "cell_type": "markdown",
   "metadata": {},
   "source": [
    "# Pasifik Aktivite Ciro - Promosyon Tutarı ve İskonto Tekilleştirme (ORTALAMA ALARAK)"
   ]
  },
  {
   "cell_type": "code",
   "execution_count": 90,
   "metadata": {},
   "outputs": [],
   "source": [
    "ort_pas = {\"Raf Tavsiye Satış Fiyatı\": \"mean\", \"İndirimli Raf Satış Fiyatı\": \"mean\", \"İndirim %\": \"mean\", \"Aktivite Tipi\": \"first\"}\n",
    "pasifik_aktivite_df3 = pasifik_aktivite_df2.groupby([\"En Güncel Kod\", \"Yıl\", \"Ay\", \"Müşteri Grup\"]).agg(ort_pas).reset_index()\n",
    "pasifik_aktivite_df3 = pd.merge(pasifik_aktivite_df3, pasifik_aktivite_df2[[\"Yıl\", \"Ay\", \"Müşteri Grup\", \"En Güncel Kod\", \n",
    "                                                 \"Ana Kategori Adı\", \"Kategori Adı\", \"Marka Adı\"]],\n",
    "                           how=\"left\", \n",
    "                           on=[\"En Güncel Kod\", \"Yıl\", \"Ay\", \"Müşteri Grup\"])\n",
    "\n",
    "pasifik_aktivite_df3.drop_duplicates(subset=pasifik_aktivite_df3.columns.to_list(), inplace=True)"
   ]
  },
  {
   "cell_type": "code",
   "execution_count": 91,
   "metadata": {},
   "outputs": [],
   "source": [
    "pasifik_aktivite_df3.reset_index(drop=True, inplace=True)\n",
    "pasifik_aktivite_df3 = pasifik_aktivite_df3[pasifik_aktivite_df2.drop(\"Ürün Adı\", axis=1).columns.to_list()]"
   ]
  },
  {
   "cell_type": "code",
   "execution_count": 92,
   "metadata": {},
   "outputs": [],
   "source": [
    "x = pasifik_aktivite_df3.columns.to_list()[:5]\n",
    "y = pasifik_aktivite_df3.columns.to_list()[-2:]\n",
    "x.extend(y)\n",
    "#pasifik_aktivite_df3[pasifik_aktivite_df3[x].duplicated(keep=False)].sort_values(by=[\"En Güncel Kod\", \"Yıl\", \"Ay\", \"Müşteri Grup\", \"Ana Kategori Adı\", \"Kategori Adı\"]).to_excel(\"../reports/duplike_pasifik_aktivite_datasi.xlsx\", index=False)"
   ]
  },
  {
   "cell_type": "markdown",
   "metadata": {},
   "source": [
    "---"
   ]
  },
  {
   "cell_type": "markdown",
   "metadata": {},
   "source": [
    "---"
   ]
  },
  {
   "cell_type": "markdown",
   "metadata": {},
   "source": [
    "---"
   ]
  },
  {
   "cell_type": "markdown",
   "metadata": {},
   "source": [
    "# Horizon Aktivite"
   ]
  },
  {
   "cell_type": "code",
   "execution_count": 93,
   "metadata": {},
   "outputs": [],
   "source": [
    "saha_aktivite_detay2 = pd.merge(saha_aktivite_detay, eslenik_kod_df[[\"Ürün Kodu\", \"En Güncel Kod\"]], on=\"Ürün Kodu\", how=\"left\")\n",
    "saha_aktivite_detay2 = saha_aktivite_detay2[saha_aktivite_detay2[\"En Güncel Kod\"] != \"delist\"].reset_index(drop=True)\n",
    "saha_aktivite_detay2.drop(\"Çeyrek\", inplace=True, axis=1)\n",
    "saha_aktivite_detay2['En Güncel Kod'] = saha_aktivite_detay2['En Güncel Kod'].fillna(saha_aktivite_detay2['Ürün Kodu'])\n",
    "saha_aktivite_detay2.drop(columns=\"Ürün Kodu\", axis=1, inplace=True)\n",
    "saha_aktivite_detay2[\"İskonto %\"].replace(\"#DIV/0\", np.nan,inplace=True)\n",
    "saha_aktivite_detay2.to_csv(\"../data/_saha_akt_data.csv\", index=False)"
   ]
  },
  {
   "cell_type": "code",
   "execution_count": 94,
   "metadata": {},
   "outputs": [],
   "source": [
    "x = saha_aktivite_detay2.columns.to_list()[:5]\n",
    "y = saha_aktivite_detay2.columns.to_list()[-1]\n",
    "x.append(y)\n",
    "saha_aktivite_detay2[saha_aktivite_detay2[x].duplicated(keep=False)].sort_values(by=[\"En Güncel Kod\", \"Yıl\", \"Ay\", \"Saha Müşteri Grup\", \"Ana Kategori Adı\", \"Kategori Adı\"]).to_excel(\"../reports/duplike_saha_aktivite_datasi.xlsx\", index=False)"
   ]
  },
  {
   "cell_type": "markdown",
   "metadata": {},
   "source": [
    "# Horizon Aktivite Ciro - Promosyon Tutarı ve İskonto Tekilleştirme (ORTALAMA ALARAK)"
   ]
  },
  {
   "cell_type": "code",
   "execution_count": 95,
   "metadata": {},
   "outputs": [],
   "source": [
    "ort = {\"Ciro (Kull. İade Düş.)\": \"mean\", \"Promosyon Tutarı\": \"mean\", \"İskonto %\": \"mean\"}\n",
    "saha_aktivite_detay3 = saha_aktivite_detay2.groupby([\"En Güncel Kod\", \"Yıl\", \"Ay\", \"Saha Müşteri Grup\"]).agg(ort).reset_index()\n",
    "\n",
    "saha_aktivite_detay3 = pd.merge(saha_aktivite_detay3, saha_aktivite_detay2[[\"Yıl\", \"Ay\", \"Saha Müşteri Grup\", \"En Güncel Kod\", \n",
    "                                                 \"Ana Kategori Adı\", \"Kategori Adı\", \"Marka Adı\"]],\n",
    "                           how=\"left\", \n",
    "                           on=[\"En Güncel Kod\", \"Yıl\", \"Ay\", \"Saha Müşteri Grup\"])\n",
    "\n",
    "saha_aktivite_detay3.drop_duplicates(subset=saha_aktivite_detay3.columns.to_list(), inplace=True)"
   ]
  },
  {
   "cell_type": "code",
   "execution_count": 96,
   "metadata": {},
   "outputs": [],
   "source": [
    "saha_aktivite_detay3 = saha_aktivite_detay3[saha_aktivite_detay2.drop(\"Ürün Adı (Mobis)\", axis=1).columns.to_list()].reset_index(drop=True)"
   ]
  },
  {
   "cell_type": "code",
   "execution_count": 97,
   "metadata": {},
   "outputs": [],
   "source": [
    "x = saha_aktivite_detay3.columns.to_list()[:5]\n",
    "y = saha_aktivite_detay3.columns.to_list()[-1]\n",
    "x.append(y)\n",
    "#saha_aktivite_detay3[saha_aktivite_detay3[x].duplicated(keep=False)].sort_values(by=[\"En Güncel Kod\", \"Yıl\", \"Ay\", \"Saha Müşteri Grup\", \"Ana Kategori Adı\", \"Kategori Adı\"]).to_excel(\"../reports/duplike_saha_aktivite_datasi.xlsx\", index=False)"
   ]
  },
  {
   "cell_type": "code",
   "execution_count": 98,
   "metadata": {},
   "outputs": [],
   "source": [
    "saha_aktivite_detay3.rename(columns={\"Saha Müşteri Grup\": \"Grup adı\"}, inplace=True)\n",
    "saha_aktivite_detay3[\"Grup adı\"] = saha_aktivite_detay3[\"Grup adı\"].apply(lambda x: \"Diğer_Horizon\" if x == \"Diğer\" else x)"
   ]
  },
  {
   "cell_type": "markdown",
   "metadata": {},
   "source": [
    "---"
   ]
  },
  {
   "cell_type": "markdown",
   "metadata": {},
   "source": [
    "---"
   ]
  },
  {
   "cell_type": "markdown",
   "metadata": {},
   "source": [
    "---"
   ]
  },
  {
   "cell_type": "markdown",
   "metadata": {},
   "source": [
    "# Fiyat Listesi"
   ]
  },
  {
   "cell_type": "markdown",
   "metadata": {},
   "source": [
    "## Horizon Fiyatları\n",
    "---"
   ]
  },
  {
   "cell_type": "code",
   "execution_count": 99,
   "metadata": {},
   "outputs": [],
   "source": [
    "fiyat_lst_horizon[\"Malzeme\"] = fiyat_lst_horizon[\"Malzeme\"].str.replace(\"-\", \"\")\n",
    "fiyat_lst_horizon[\"Malzeme\"] = fiyat_lst_horizon[\"Malzeme\"].astype(int)*1"
   ]
  },
  {
   "cell_type": "code",
   "execution_count": 100,
   "metadata": {},
   "outputs": [],
   "source": [
    "fiyat_lst_horizon_df = fiyat_lst_horizon.copy()"
   ]
  },
  {
   "cell_type": "code",
   "execution_count": 101,
   "metadata": {},
   "outputs": [],
   "source": [
    "fiyat_lst_horizon_df[\"Baslangic_Yıl\"] = fiyat_lst_horizon_df[\"Bşl.tarihi\"].apply(lambda x: x.year)\n",
    "fiyat_lst_horizon_df[\"Baslangic_Ay\"] = fiyat_lst_horizon_df[\"Bşl.tarihi\"].apply(lambda x: x.month)\n",
    "fiyat_lst_horizon_df[\"Baslangic_Gun\"] = fiyat_lst_horizon_df[\"Bşl.tarihi\"].apply(lambda x: x.day)\n",
    "fiyat_lst_horizon_df[\"Gecerlilik_Yıl\"] = fiyat_lst_horizon_df[\"Gçrl.sonu\"].apply(lambda x: x.year)\n",
    "fiyat_lst_horizon_df[\"Gecerlilik_Ay\"] = fiyat_lst_horizon_df[\"Gçrl.sonu\"].apply(lambda x: x.month)\n",
    "fiyat_lst_horizon_df[\"Gecerlilik_Gun\"] = fiyat_lst_horizon_df[\"Gçrl.sonu\"].apply(lambda x: x.day)"
   ]
  },
  {
   "cell_type": "code",
   "execution_count": 102,
   "metadata": {},
   "outputs": [],
   "source": [
    "fiyat_lst_horizon_df[\"Baslangic_Yıl\"] = fiyat_lst_horizon_df[\"Baslangic_Yıl\"].apply(lambda x: 2022 if x > 2021 else x)\n",
    "fiyat_lst_horizon_df[\"Gecerlilik_Yıl\"] = fiyat_lst_horizon_df[\"Gecerlilik_Yıl\"].apply(lambda x: 2022 if x > 2021 else x)"
   ]
  },
  {
   "cell_type": "code",
   "execution_count": 103,
   "metadata": {},
   "outputs": [],
   "source": [
    "time_index = horizon_saha_df_all2[\"Date\"].unique()"
   ]
  },
  {
   "cell_type": "code",
   "execution_count": 104,
   "metadata": {},
   "outputs": [],
   "source": [
    "h_fiyat_unique = []\n",
    "\n",
    "for malzeme in fiyat_lst_horizon_df[\"Malzeme\"].unique():\n",
    "    temp_time_df = pd.DataFrame({\"Fiyat\": [np.nan]}, index=time_index)\n",
    "    temp_time_df = temp_time_df.reset_index().rename(columns={\"index\":\"date\"})    \n",
    "    temp_time_df[\"En Güncel Kod\"] = malzeme\n",
    "    temp_time_df[\"fiyat_gecisi\"] = 0\n",
    "    malzeme_df = fiyat_lst_horizon_df[fiyat_lst_horizon_df[\"Malzeme\"] == malzeme].reset_index(drop=True)\n",
    "    check_idx1 = []\n",
    "    for row1 in malzeme_df.index:\n",
    "        for row2 in malzeme_df[row1+1:].index:\n",
    "            if (malzeme_df.loc[row1][\"Gecerlilik_Yıl\"] == malzeme_df.loc[row2][\"Baslangic_Yıl\"]) and (malzeme_df.loc[row1][\"Gecerlilik_Ay\"] == malzeme_df.loc[row2][\"Baslangic_Ay\"]):\n",
    "                num_days = calendar.monthrange(int(malzeme_df.loc[row2][\"Baslangic_Yıl\"]), int(malzeme_df.loc[row2][\"Baslangic_Ay\"]))[1]\n",
    "                fyt=((int(malzeme_df.loc[row1][\"Gecerlilik_Gun\"])*malzeme_df.loc[row1][\"     Tutar\"]) + (num_days - int(malzeme_df.loc[row2][\"Baslangic_Gun\"]))*malzeme_df.loc[row2][\"     Tutar\"])/num_days\n",
    "\n",
    "                end_idx1 =  datetime(int(malzeme_df.loc[row1, \"Gecerlilik_Yıl\"]), int(malzeme_df.loc[row1, \"Gecerlilik_Ay\"]), 1)\n",
    "                final_idx1 = temp_time_df[temp_time_df[\"date\"] == end_idx1].index\n",
    "                temp_time_df.loc[final_idx1, \"Fiyat\"] = fyt\n",
    "                temp_time_df.loc[final_idx1,\"fiyat_gecisi\"] = 1\n",
    "\n",
    "            else:\n",
    "                fyt2=malzeme_df.loc[row1][\"     Tutar\"]\n",
    "                start_idx2 = datetime(int(malzeme_df.loc[row1, \"Baslangic_Yıl\"]), int(malzeme_df.loc[row1, \"Baslangic_Ay\"]), 1)\n",
    "                end_idx2 =  datetime(int(malzeme_df.loc[row1, \"Gecerlilik_Yıl\"]), int(malzeme_df.loc[row1, \"Gecerlilik_Ay\"]), 1)\n",
    "                final_idx2 = temp_time_df[(temp_time_df[\"date\"] > start_idx2) & (temp_time_df[\"date\"] < end_idx2)].index\n",
    "                temp_time_df.loc[final_idx2, \"Fiyat\"] = fyt2\n",
    "        if (row1 == len(malzeme_df)-1) or (row1 == len(malzeme_df)-2):\n",
    "            fyt3=malzeme_df.loc[row1][\"     Tutar\"]\n",
    "            start_idx3 = datetime(int(malzeme_df.loc[row1, \"Baslangic_Yıl\"]), int(malzeme_df.loc[row1, \"Baslangic_Ay\"]), 1)\n",
    "            end_idx3 =  datetime(int(malzeme_df.loc[row1, \"Gecerlilik_Yıl\"]), int(malzeme_df.loc[row1, \"Gecerlilik_Ay\"]), 1)\n",
    "            final_idx3 = temp_time_df[(temp_time_df[\"date\"] > start_idx3) & (temp_time_df[\"date\"] < end_idx3)].index\n",
    "            temp_time_df.loc[final_idx3, \"Fiyat\"] = fyt3\n",
    "    if malzeme_df.loc[0, \"Baslangic_Yıl\"] >= min(horizon_saha_df_all2[\"Yıl\"].unique()):\n",
    "        temp_time_df.loc[temp_time_df[~pd.isnull(temp_time_df[\"Fiyat\"])].index[0]-1, \"Fiyat\"] = malzeme_df.loc[0, \"     Tutar\"]\n",
    "        temp_time_df = temp_time_df.dropna().reset_index(drop=True)\n",
    "    h_fiyat_unique.append(temp_time_df)"
   ]
  },
  {
   "cell_type": "code",
   "execution_count": 105,
   "metadata": {},
   "outputs": [],
   "source": [
    "h_fiyat_unique = pd.concat(h_fiyat_unique)\n",
    "h_fiyat_unique.reset_index(drop=True, inplace=True)\n",
    "\n",
    "h_fiyat_unique.rename(columns={\"En Güncel Kod\": \"Ürün Kodu\", \"date\": \"Date\"}, inplace=True)\n",
    "h_fiyat_unique = h_fiyat_unique.merge(eslenik_kod_df[[\"Ürün Kodu\", \"En Güncel Kod\"]], how=\"left\")\n",
    "h_fiyat_unique[\"En Güncel Kod\"].fillna(h_fiyat_unique[\"Ürün Kodu\"], inplace=True)"
   ]
  },
  {
   "cell_type": "markdown",
   "metadata": {},
   "source": [
    "# Fiyatların en güncel kod ile check edilmesi"
   ]
  },
  {
   "cell_type": "code",
   "execution_count": 106,
   "metadata": {},
   "outputs": [],
   "source": [
    "h_fiyat_unique = h_fiyat_unique[h_fiyat_unique[\"En Güncel Kod\"] != \"delist\"].reset_index(drop=True)\n",
    "\n",
    "h_fiyat_unique = h_fiyat_unique.sort_values(by=[\"En Güncel Kod\", \"Date\"]).reset_index(drop=True)\n",
    "drop_rows_h = h_fiyat_unique[h_fiyat_unique[[\"Date\", \"En Güncel Kod\", \"Fiyat\"]].duplicated(keep=False)].index\n",
    "\n",
    "export_h = h_fiyat_unique[~h_fiyat_unique.index.isin(drop_rows_h)].reset_index(drop=True)\n",
    "export_h[export_h[[\"En Güncel Kod\", \"Date\"]].duplicated(keep=False)].to_excel(\"../reports/horizon_fiyat_eslestirme.xlsx\", index=False)"
   ]
  },
  {
   "cell_type": "code",
   "execution_count": 107,
   "metadata": {},
   "outputs": [],
   "source": [
    "h_fiyat_unique = h_fiyat_unique.drop(columns=\"Ürün Kodu\", axis=1)\n",
    "# Aynı aya denk gelen ürünlerin fiyatlarının ortalaması alınıp, herhangi birinde fiyat geçişi varsa 1 alınır.\n",
    "h_fiyat_unique = h_fiyat_unique.groupby([\"Date\", \"En Güncel Kod\"]).agg({\"Fiyat\": \"mean\", \"fiyat_gecisi\": \"max\"}).reset_index()"
   ]
  },
  {
   "cell_type": "markdown",
   "metadata": {},
   "source": [
    "## Pasifik Fiyatları\n",
    "---"
   ]
  },
  {
   "cell_type": "code",
   "execution_count": 108,
   "metadata": {},
   "outputs": [],
   "source": [
    "fiyat_lst_pasifik[\"Malzeme\"] = fiyat_lst_pasifik[\"Malzeme\"].str.replace(\"-\", \"\")\n",
    "fiyat_lst_pasifik[\"Malzeme\"] = fiyat_lst_pasifik[\"Malzeme\"].astype(int)*1"
   ]
  },
  {
   "cell_type": "code",
   "execution_count": 109,
   "metadata": {},
   "outputs": [],
   "source": [
    "fiyat_lst_pasifik_df = fiyat_lst_pasifik.copy()"
   ]
  },
  {
   "cell_type": "code",
   "execution_count": 110,
   "metadata": {},
   "outputs": [],
   "source": [
    "fiyat_lst_pasifik_df[\"Baslangic_Yıl\"] = fiyat_lst_pasifik_df[\"Bşl.tarihi\"].apply(lambda x: x.year)\n",
    "fiyat_lst_pasifik_df[\"Baslangic_Ay\"] = fiyat_lst_pasifik_df[\"Bşl.tarihi\"].apply(lambda x: x.month)\n",
    "fiyat_lst_pasifik_df[\"Baslangic_Gun\"] = fiyat_lst_pasifik_df[\"Bşl.tarihi\"].apply(lambda x: x.day)\n",
    "fiyat_lst_pasifik_df[\"Gecerlilik_Yıl\"] = fiyat_lst_pasifik_df[\"Gçrl.sonu\"].apply(lambda x: x.year)\n",
    "fiyat_lst_pasifik_df[\"Gecerlilik_Ay\"] = fiyat_lst_pasifik_df[\"Gçrl.sonu\"].apply(lambda x: x.month)\n",
    "fiyat_lst_pasifik_df[\"Gecerlilik_Gun\"] = fiyat_lst_pasifik_df[\"Gçrl.sonu\"].apply(lambda x: x.day)"
   ]
  },
  {
   "cell_type": "code",
   "execution_count": 111,
   "metadata": {},
   "outputs": [],
   "source": [
    "fiyat_lst_pasifik_df[\"Baslangic_Yıl\"] = fiyat_lst_pasifik_df[\"Baslangic_Yıl\"].apply(lambda x: 2022 if x > 2021 else x)\n",
    "fiyat_lst_pasifik_df[\"Gecerlilik_Yıl\"] = fiyat_lst_pasifik_df[\"Gecerlilik_Yıl\"].apply(lambda x: 2022 if x > 2021 else x)"
   ]
  },
  {
   "cell_type": "code",
   "execution_count": 112,
   "metadata": {},
   "outputs": [],
   "source": [
    "time_index = pasifik_df_all2[\"Date\"].unique()"
   ]
  },
  {
   "cell_type": "code",
   "execution_count": 113,
   "metadata": {},
   "outputs": [
    {
     "data": {
      "text/plain": [
       "878006"
      ]
     },
     "execution_count": 113,
     "metadata": {},
     "output_type": "execute_result"
    }
   ],
   "source": [
    "malzeme"
   ]
  },
  {
   "cell_type": "code",
   "execution_count": 114,
   "metadata": {},
   "outputs": [
    {
     "data": {
      "text/html": [
       "<div>\n",
       "<style scoped>\n",
       "    .dataframe tbody tr th:only-of-type {\n",
       "        vertical-align: middle;\n",
       "    }\n",
       "\n",
       "    .dataframe tbody tr th {\n",
       "        vertical-align: top;\n",
       "    }\n",
       "\n",
       "    .dataframe thead th {\n",
       "        text-align: right;\n",
       "    }\n",
       "</style>\n",
       "<table border=\"1\" class=\"dataframe\">\n",
       "  <thead>\n",
       "    <tr style=\"text-align: right;\">\n",
       "      <th></th>\n",
       "      <th>KşTü</th>\n",
       "      <th>KşTü.1</th>\n",
       "      <th>Malzeme</th>\n",
       "      <th>Malzeme Tanım</th>\n",
       "      <th>Ana Kategori</th>\n",
       "      <th>Kategori</th>\n",
       "      <th>Koli TL</th>\n",
       "      <th>Bşl.tarihi</th>\n",
       "      <th>Gçrl.sonu</th>\n",
       "      <th>Baslangic_Yıl</th>\n",
       "      <th>Baslangic_Ay</th>\n",
       "      <th>Baslangic_Gun</th>\n",
       "      <th>Gecerlilik_Yıl</th>\n",
       "      <th>Gecerlilik_Ay</th>\n",
       "      <th>Gecerlilik_Gun</th>\n",
       "    </tr>\n",
       "  </thead>\n",
       "  <tbody>\n",
       "  </tbody>\n",
       "</table>\n",
       "</div>"
      ],
      "text/plain": [
       "Empty DataFrame\n",
       "Columns: [KşTü, KşTü.1, Malzeme, Malzeme Tanım, Ana Kategori, Kategori, Koli TL, Bşl.tarihi, Gçrl.sonu, Baslangic_Yıl, Baslangic_Ay, Baslangic_Gun, Gecerlilik_Yıl, Gecerlilik_Ay, Gecerlilik_Gun]\n",
       "Index: []"
      ]
     },
     "execution_count": 114,
     "metadata": {},
     "output_type": "execute_result"
    }
   ],
   "source": [
    "fiyat_lst_pasifik_df[fiyat_lst_pasifik_df[\"Malzeme\"] == malzeme]"
   ]
  },
  {
   "cell_type": "code",
   "execution_count": 115,
   "metadata": {},
   "outputs": [
    {
     "data": {
      "text/plain": [
       "Series([], dtype: int32)"
      ]
     },
     "execution_count": 115,
     "metadata": {},
     "output_type": "execute_result"
    }
   ],
   "source": [
    "pd.Series(fiyat_lst_pasifik_df[\"Malzeme\"].unique())[pd.Series(fiyat_lst_pasifik_df[\"Malzeme\"].unique()) == malzeme]"
   ]
  },
  {
   "cell_type": "code",
   "execution_count": 117,
   "metadata": {},
   "outputs": [
    {
     "data": {
      "text/plain": [
       "3606"
      ]
     },
     "execution_count": 117,
     "metadata": {},
     "output_type": "execute_result"
    }
   ],
   "source": [
    "malzeme"
   ]
  },
  {
   "cell_type": "code",
   "execution_count": 116,
   "metadata": {},
   "outputs": [
    {
     "ename": "IndexError",
     "evalue": "index 0 is out of bounds for axis 0 with size 0",
     "output_type": "error",
     "traceback": [
      "\u001b[1;31m---------------------------------------------------------------------------\u001b[0m",
      "\u001b[1;31mIndexError\u001b[0m                                Traceback (most recent call last)",
      "\u001b[1;32m<ipython-input-116-88c4cf2e1f62>\u001b[0m in \u001b[0;36m<module>\u001b[1;34m\u001b[0m\n\u001b[0;32m     32\u001b[0m             \u001b[0mtemp_time_df\u001b[0m\u001b[1;33m.\u001b[0m\u001b[0mloc\u001b[0m\u001b[1;33m[\u001b[0m\u001b[0mfinal_idx3\u001b[0m\u001b[1;33m,\u001b[0m \u001b[1;34m\"Fiyat\"\u001b[0m\u001b[1;33m]\u001b[0m \u001b[1;33m=\u001b[0m \u001b[0mfyt3\u001b[0m\u001b[1;33m\u001b[0m\u001b[1;33m\u001b[0m\u001b[0m\n\u001b[0;32m     33\u001b[0m     \u001b[1;32mif\u001b[0m \u001b[0mmalzeme_df\u001b[0m\u001b[1;33m.\u001b[0m\u001b[0mloc\u001b[0m\u001b[1;33m[\u001b[0m\u001b[1;36m0\u001b[0m\u001b[1;33m,\u001b[0m \u001b[1;34m\"Baslangic_Yıl\"\u001b[0m\u001b[1;33m]\u001b[0m \u001b[1;33m>=\u001b[0m \u001b[0mmin\u001b[0m\u001b[1;33m(\u001b[0m\u001b[0mpasifik_df_all2\u001b[0m\u001b[1;33m[\u001b[0m\u001b[1;34m\"Yıl\"\u001b[0m\u001b[1;33m]\u001b[0m\u001b[1;33m.\u001b[0m\u001b[0munique\u001b[0m\u001b[1;33m(\u001b[0m\u001b[1;33m)\u001b[0m\u001b[1;33m)\u001b[0m\u001b[1;33m:\u001b[0m\u001b[1;33m\u001b[0m\u001b[1;33m\u001b[0m\u001b[0m\n\u001b[1;32m---> 34\u001b[1;33m         \u001b[0mtemp_time_df\u001b[0m\u001b[1;33m.\u001b[0m\u001b[0mloc\u001b[0m\u001b[1;33m[\u001b[0m\u001b[0mtemp_time_df\u001b[0m\u001b[1;33m[\u001b[0m\u001b[1;33m~\u001b[0m\u001b[0mpd\u001b[0m\u001b[1;33m.\u001b[0m\u001b[0misnull\u001b[0m\u001b[1;33m(\u001b[0m\u001b[0mtemp_time_df\u001b[0m\u001b[1;33m[\u001b[0m\u001b[1;34m\"Fiyat\"\u001b[0m\u001b[1;33m]\u001b[0m\u001b[1;33m)\u001b[0m\u001b[1;33m]\u001b[0m\u001b[1;33m.\u001b[0m\u001b[0mindex\u001b[0m\u001b[1;33m[\u001b[0m\u001b[1;36m0\u001b[0m\u001b[1;33m]\u001b[0m\u001b[1;33m-\u001b[0m\u001b[1;36m1\u001b[0m\u001b[1;33m,\u001b[0m \u001b[1;34m\"Fiyat\"\u001b[0m\u001b[1;33m]\u001b[0m \u001b[1;33m=\u001b[0m \u001b[0mmalzeme_df\u001b[0m\u001b[1;33m.\u001b[0m\u001b[0mloc\u001b[0m\u001b[1;33m[\u001b[0m\u001b[1;36m0\u001b[0m\u001b[1;33m,\u001b[0m \u001b[1;34m\"Koli TL\"\u001b[0m\u001b[1;33m]\u001b[0m\u001b[1;33m\u001b[0m\u001b[1;33m\u001b[0m\u001b[0m\n\u001b[0m\u001b[0;32m     35\u001b[0m     \u001b[0mtemp_time_df\u001b[0m \u001b[1;33m=\u001b[0m \u001b[0mtemp_time_df\u001b[0m\u001b[1;33m.\u001b[0m\u001b[0mdropna\u001b[0m\u001b[1;33m(\u001b[0m\u001b[1;33m)\u001b[0m\u001b[1;33m.\u001b[0m\u001b[0mreset_index\u001b[0m\u001b[1;33m(\u001b[0m\u001b[0mdrop\u001b[0m\u001b[1;33m=\u001b[0m\u001b[1;32mTrue\u001b[0m\u001b[1;33m)\u001b[0m\u001b[1;33m\u001b[0m\u001b[1;33m\u001b[0m\u001b[0m\n\u001b[0;32m     36\u001b[0m \u001b[1;33m\u001b[0m\u001b[0m\n",
      "\u001b[1;32m~\\Anaconda3\\lib\\site-packages\\pandas\\core\\indexes\\base.py\u001b[0m in \u001b[0;36m__getitem__\u001b[1;34m(self, key)\u001b[0m\n\u001b[0;32m   4102\u001b[0m         \u001b[1;32mif\u001b[0m \u001b[0mis_scalar\u001b[0m\u001b[1;33m(\u001b[0m\u001b[0mkey\u001b[0m\u001b[1;33m)\u001b[0m\u001b[1;33m:\u001b[0m\u001b[1;33m\u001b[0m\u001b[1;33m\u001b[0m\u001b[0m\n\u001b[0;32m   4103\u001b[0m             \u001b[0mkey\u001b[0m \u001b[1;33m=\u001b[0m \u001b[0mcom\u001b[0m\u001b[1;33m.\u001b[0m\u001b[0mcast_scalar_indexer\u001b[0m\u001b[1;33m(\u001b[0m\u001b[0mkey\u001b[0m\u001b[1;33m,\u001b[0m \u001b[0mwarn_float\u001b[0m\u001b[1;33m=\u001b[0m\u001b[1;32mTrue\u001b[0m\u001b[1;33m)\u001b[0m\u001b[1;33m\u001b[0m\u001b[1;33m\u001b[0m\u001b[0m\n\u001b[1;32m-> 4104\u001b[1;33m             \u001b[1;32mreturn\u001b[0m \u001b[0mgetitem\u001b[0m\u001b[1;33m(\u001b[0m\u001b[0mkey\u001b[0m\u001b[1;33m)\u001b[0m\u001b[1;33m\u001b[0m\u001b[1;33m\u001b[0m\u001b[0m\n\u001b[0m\u001b[0;32m   4105\u001b[0m \u001b[1;33m\u001b[0m\u001b[0m\n\u001b[0;32m   4106\u001b[0m         \u001b[1;32mif\u001b[0m \u001b[0misinstance\u001b[0m\u001b[1;33m(\u001b[0m\u001b[0mkey\u001b[0m\u001b[1;33m,\u001b[0m \u001b[0mslice\u001b[0m\u001b[1;33m)\u001b[0m\u001b[1;33m:\u001b[0m\u001b[1;33m\u001b[0m\u001b[1;33m\u001b[0m\u001b[0m\n",
      "\u001b[1;31mIndexError\u001b[0m: index 0 is out of bounds for axis 0 with size 0"
     ]
    }
   ],
   "source": [
    "p_fiyat_unique = []\n",
    "\n",
    "for malzeme in fiyat_lst_pasifik_df[\"Malzeme\"].unique():\n",
    "    temp_time_df = pd.DataFrame({\"Fiyat\": [np.nan]}, index=time_index)\n",
    "    temp_time_df = temp_time_df.reset_index().rename(columns={\"index\":\"date\"})    \n",
    "    temp_time_df[\"En Güncel Kod\"] = malzeme\n",
    "    temp_time_df[\"fiyat_gecisi\"] = 0\n",
    "    malzeme_df = fiyat_lst_pasifik_df[fiyat_lst_pasifik_df[\"Malzeme\"] == malzeme].reset_index(drop=True)\n",
    "    check_idx1 = []\n",
    "    for row1 in malzeme_df.index:\n",
    "        for row2 in malzeme_df[row1+1:].index:\n",
    "            if (malzeme_df.loc[row1][\"Gecerlilik_Yıl\"] == malzeme_df.loc[row2][\"Baslangic_Yıl\"]) and (malzeme_df.loc[row1][\"Gecerlilik_Ay\"] == malzeme_df.loc[row2][\"Baslangic_Ay\"]):\n",
    "                num_days = calendar.monthrange(int(malzeme_df.loc[row2][\"Baslangic_Yıl\"]), int(malzeme_df.loc[row2][\"Baslangic_Ay\"]))[1]\n",
    "                fyt=((int(malzeme_df.loc[row1][\"Gecerlilik_Gun\"])*malzeme_df.loc[row1][\"Koli TL\"]) + (num_days - int(malzeme_df.loc[row2][\"Baslangic_Gun\"])+1)*malzeme_df.loc[row2][\"Koli TL\"])/num_days\n",
    "\n",
    "                end_idx1 =  datetime(int(malzeme_df.loc[row1, \"Gecerlilik_Yıl\"]), int(malzeme_df.loc[row1, \"Gecerlilik_Ay\"]), 1)\n",
    "                final_idx1 = temp_time_df[temp_time_df[\"date\"] == end_idx1].index\n",
    "                temp_time_df.loc[final_idx1, \"Fiyat\"] = fyt\n",
    "                temp_time_df.loc[final_idx1,\"fiyat_gecisi\"] = 1\n",
    "\n",
    "            else:\n",
    "                fyt2=malzeme_df.loc[row1][\"Koli TL\"]\n",
    "                start_idx2 = datetime(int(malzeme_df.loc[row1, \"Baslangic_Yıl\"]), int(malzeme_df.loc[row1, \"Baslangic_Ay\"]), 1)\n",
    "                end_idx2 =  datetime(int(malzeme_df.loc[row1, \"Gecerlilik_Yıl\"]), int(malzeme_df.loc[row1, \"Gecerlilik_Ay\"]), 1)\n",
    "                final_idx2 = temp_time_df[(temp_time_df[\"date\"] > start_idx2) & (temp_time_df[\"date\"] < end_idx2)].index\n",
    "                temp_time_df.loc[final_idx2, \"Fiyat\"] = fyt2\n",
    "        if (row1 == len(malzeme_df)-1) or (row1 == len(malzeme_df)-2):\n",
    "            fyt3=malzeme_df.loc[row1][\"Koli TL\"]\n",
    "            start_idx3 = datetime(int(malzeme_df.loc[row1, \"Baslangic_Yıl\"]), int(malzeme_df.loc[row1, \"Baslangic_Ay\"]), 1)\n",
    "            end_idx3 =  datetime(int(malzeme_df.loc[row1, \"Gecerlilik_Yıl\"]), int(malzeme_df.loc[row1, \"Gecerlilik_Ay\"]), 1)\n",
    "            final_idx3 = temp_time_df[(temp_time_df[\"date\"] > start_idx3) & (temp_time_df[\"date\"] < end_idx3)].index\n",
    "            temp_time_df.loc[final_idx3, \"Fiyat\"] = fyt3\n",
    "    if malzeme_df.loc[0, \"Baslangic_Yıl\"] >= min(pasifik_df_all2[\"Yıl\"].unique()):\n",
    "        temp_time_df.loc[temp_time_df[~pd.isnull(temp_time_df[\"Fiyat\"])].index[0]-1, \"Fiyat\"] = malzeme_df.loc[0, \"Koli TL\"]\n",
    "    temp_time_df = temp_time_df.dropna().reset_index(drop=True)\n",
    "        \n",
    "    p_fiyat_unique.append(temp_time_df)"
   ]
  },
  {
   "cell_type": "code",
   "execution_count": null,
   "metadata": {},
   "outputs": [],
   "source": [
    "p_fiyat_unique = pd.concat(p_fiyat_unique)\n",
    "p_fiyat_unique.reset_index(drop=True, inplace=True)\n",
    "\n",
    "p_fiyat_unique.rename(columns={\"En Güncel Kod\": \"Ürün Kodu\", \"date\": \"Date\"}, inplace=True)\n",
    "p_fiyat_unique = p_fiyat_unique.merge(eslenik_kod_df[[\"Ürün Kodu\", \"En Güncel Kod\"]], how=\"left\")\n",
    "p_fiyat_unique[\"En Güncel Kod\"].fillna(p_fiyat_unique[\"Ürün Kodu\"], inplace=True)"
   ]
  },
  {
   "cell_type": "markdown",
   "metadata": {},
   "source": [
    "# p_fiyat_uniqueların en güncel kod ile check edilmesi"
   ]
  },
  {
   "cell_type": "code",
   "execution_count": null,
   "metadata": {},
   "outputs": [],
   "source": [
    "p_fiyat_unique = p_fiyat_unique[p_fiyat_unique[\"En Güncel Kod\"] != \"delist\"].reset_index(drop=True)\n",
    "\n",
    "p_fiyat_unique = p_fiyat_unique.sort_values(by=[\"En Güncel Kod\", \"Date\"]).reset_index(drop=True)\n",
    "drop_rows_p = p_fiyat_unique[p_fiyat_unique[[\"Date\", \"En Güncel Kod\", \"Fiyat\"]].duplicated(keep=False)].index\n",
    "\n",
    "export_p = p_fiyat_unique[~p_fiyat_unique.index.isin(drop_rows_p)].reset_index(drop=True)\n",
    "export_p[export_p[[\"En Güncel Kod\", \"Date\"]].duplicated(keep=False)].to_excel(\"../reports/pasifik_fiyat_eslestirme.xlsx\", index=False)"
   ]
  },
  {
   "cell_type": "code",
   "execution_count": null,
   "metadata": {},
   "outputs": [],
   "source": [
    "# Dosya ile karşılaştır. Ortalama almanı gerektirecek durumları düşün."
   ]
  },
  {
   "cell_type": "code",
   "execution_count": null,
   "metadata": {},
   "outputs": [],
   "source": [
    "p_fiyat_unique = p_fiyat_unique.drop(columns=\"Ürün Kodu\", axis=1)\n",
    "# Aynı aya denk gelen ürünlerin fiyatlarının ortalaması alınıp, herhangi birinde fiyat geçişi varsa 1 alınır.\n",
    "p_fiyat_unique = p_fiyat_unique.groupby([\"Date\", \"En Güncel Kod\"]).agg({\"Fiyat\": \"mean\", \"fiyat_gecisi\": \"max\"}).reset_index()"
   ]
  },
  {
   "cell_type": "markdown",
   "metadata": {},
   "source": [
    "---\n",
    "# 0'ları doldururken en son yıl ve ayın ötesinde 0 ile dolduruyor. (Örn: Sales datasında 2021'in 3. ayına kadar data olduğu durumda 0'lar ile doldururken 2021 12. aya kadar 0 atıyor.\n",
    "# Bu durumun önüne geçmek için aşağıdaki işlemler yapılmaktadır.\n",
    "---"
   ]
  },
  {
   "cell_type": "code",
   "execution_count": null,
   "metadata": {},
   "outputs": [],
   "source": [
    "pasifik_df_all2 = pasifik_df_all2[~((pasifik_df_all2[\"Yıl\"] == pasifik_df_all[\"Yıl\"].max()) & \n",
    "                (pasifik_df_all2[\"Ay\"] > pasifik_df_all[(pasifik_df_all[\"Yıl\"] == pasifik_df_all[\"Yıl\"].max())][\"Ay\"].max()))].reset_index(drop=True)"
   ]
  },
  {
   "cell_type": "code",
   "execution_count": null,
   "metadata": {},
   "outputs": [],
   "source": [
    "horizon_saha_df_all2 = horizon_saha_df_all2[~((horizon_saha_df_all2[\"Yıl\"] == horizon_saha_df_all[\"Yıl\"].max()) & \n",
    "                (horizon_saha_df_all2[\"Ay\"] > horizon_saha_df_all[(horizon_saha_df_all[\"Yıl\"] == horizon_saha_df_all[\"Yıl\"].max())][\"Ay\"].max()))].reset_index(drop=True)"
   ]
  },
  {
   "cell_type": "code",
   "execution_count": null,
   "metadata": {},
   "outputs": [],
   "source": [
    "btt_df_all2 = btt_df_all2[~((btt_df_all2[\"Yıl\"] == btt_df_all[\"Yıl\"].max()) & \n",
    "                (btt_df_all2[\"Ay\"] > btt_df_all[(btt_df_all[\"Yıl\"] == btt_df_all[\"Yıl\"].max())][\"Ay\"].max()))].reset_index(drop=True)"
   ]
  },
  {
   "cell_type": "code",
   "execution_count": null,
   "metadata": {},
   "outputs": [],
   "source": [
    "pasifik_df_all2.shape, horizon_saha_df_all2.shape, btt_df_all2.shape"
   ]
  },
  {
   "cell_type": "code",
   "execution_count": 45,
   "metadata": {},
   "outputs": [
    {
     "data": {
      "text/plain": [
       "((58236, 14), (116028, 14), (16860, 14))"
      ]
     },
     "execution_count": 45,
     "metadata": {},
     "output_type": "execute_result"
    }
   ],
   "source": [
    "pasifik_df_all2.shape, horizon_saha_df_all2.shape, btt_df_all2.shape"
   ]
  },
  {
   "cell_type": "markdown",
   "metadata": {},
   "source": [
    "---"
   ]
  },
  {
   "cell_type": "markdown",
   "metadata": {},
   "source": [
    "# Fiyat Listesi Kontrolleri"
   ]
  },
  {
   "cell_type": "markdown",
   "metadata": {},
   "source": [
    "---"
   ]
  },
  {
   "cell_type": "markdown",
   "metadata": {},
   "source": [
    "## Horizon Fiyat Listesi"
   ]
  },
  {
   "cell_type": "markdown",
   "metadata": {},
   "source": [
    "## Ürün Kodlarının arasındaki \"-\" kaldırıldı."
   ]
  },
  {
   "cell_type": "raw",
   "metadata": {},
   "source": [
    "\"\"\"fiyat_lst_horizon2 = pd.merge(fiyat_lst_horizon, eslenik_kod_df[[\"Ürün Kodu\", \"En Güncel Kod\"]], left_on=\"Malzeme\", right_on=\"Ürün Kodu\", how=\"left\").drop(columns=\"Ürün Kodu\",axis=1)\n",
    "fiyat_lst_horizon2 = fiyat_lst_horizon2[fiyat_lst_horizon2[\"En Güncel Kod\"] != \"delist\"].reset_index(drop=True)\n",
    "fiyat_lst_horizon2[\"En Güncel Kod\"] = fiyat_lst_horizon2[\"En Güncel Kod\"].fillna(fiyat_lst_horizon2[\"Malzeme\"])\n",
    "fiyat_lst_horizon2.drop(columns=\"Malzeme\", axis=1, inplace=True)\"\"\""
   ]
  },
  {
   "cell_type": "raw",
   "metadata": {},
   "source": [
    "\"\"\"fiyat_lst_horizon2[\"Baslangic_Yıl\"] = fiyat_lst_horizon2[\"Bşl.tarihi\"].apply(lambda x: x.year)\n",
    "fiyat_lst_horizon2[\"Baslangic_Ay\"] = fiyat_lst_horizon2[\"Bşl.tarihi\"].apply(lambda x: x.month)\n",
    "fiyat_lst_horizon2[\"Gecerlilik_Yıl\"] = fiyat_lst_horizon2[\"Gçrl.sonu\"].apply(lambda x: x.year)\n",
    "fiyat_lst_horizon2[\"Gecerlilik_Ay\"] = fiyat_lst_horizon2[\"Gçrl.sonu\"].apply(lambda x: x.month)\"\"\""
   ]
  },
  {
   "cell_type": "markdown",
   "metadata": {},
   "source": [
    "## Horizon Fiyat Çakışmaları"
   ]
  },
  {
   "cell_type": "raw",
   "metadata": {},
   "source": [
    "\"\"\"import warnings\n",
    "warnings.filterwarnings(\"ignore\")\n",
    "\n",
    "fiyat_lst_horizon_fict = fiyat_lst_horizon2.copy()\n",
    "fiyat_lst_horizon_fict[\"Baslangic_Yıl\"] = fiyat_lst_horizon_fict[\"Baslangic_Yıl\"].apply(lambda x: 2022 if x > 2021 else x)\n",
    "fiyat_lst_horizon_fict[\"Gecerlilik_Yıl\"] = fiyat_lst_horizon_fict[\"Gecerlilik_Yıl\"].apply(lambda x: 2022 if x > 2021 else x)\n",
    "\n",
    "time_index = pasifik_df_all2[\"Date\"].unique()\n",
    "time_df = pd.DataFrame(index=time_index, columns=[\"En Güncel Kod\"]+[\"fyt_lst\"+str(i) for i in range(0, 17)])\n",
    "time_df = time_df.reset_index().rename(columns = {\"index\": \"date\"})\n",
    "\n",
    "for kod in fiyat_lst_horizon_fict[\"En Güncel Kod\"].unique():\n",
    "    temp_df = fiyat_lst_horizon_fict[fiyat_lst_horizon_fict[\"En Güncel Kod\"] == kod].reset_index(drop=True)\n",
    "    time_index2 = horizon_saha_df_all2[\"Date\"].unique()\n",
    "    df2 = pd.DataFrame({\"En Güncel Kod\": [temp_df[\"En Güncel Kod\"][0]]*len(time_index2)}, index=time_index2, columns=[\"En Güncel Kod\"]+[\"fyt_lst\"+str(i) for i in range(0, 17)])\n",
    "    df2 = df2.reset_index().rename(columns = {\"index\": \"date\"})\n",
    "    for row in range(0, len(temp_df)):\n",
    "\n",
    "        idx_ = df2[(df2[\"date\"] >= datetime(int(temp_df[\"Baslangic_Yıl\"][row]), int(temp_df[\"Baslangic_Ay\"][row]), 1)) & (df2[\"date\"] <= datetime(int(temp_df[\"Gecerlilik_Yıl\"][row]), int(temp_df[\"Gecerlilik_Ay\"][row]), 1))][\"fyt_lst\"+str(row)].index\n",
    "        values_ = df2[(df2[\"date\"] >= datetime(int(temp_df[\"Baslangic_Yıl\"][row]), int(temp_df[\"Baslangic_Ay\"][row]), 1)) & (df2[\"date\"] <= datetime(int(temp_df[\"Gecerlilik_Yıl\"][row]), int(temp_df[\"Gecerlilik_Ay\"][row]), 1))][\"fyt_lst\"+str(row)].replace(np.nan, temp_df[\"     Tutar\"][row])\n",
    "        df2[\"fyt_lst\"+str(row)][idx_] = values_\n",
    "    time_df = time_df.append(df2)\"\"\""
   ]
  },
  {
   "cell_type": "raw",
   "metadata": {},
   "source": [
    "\"\"\"time_df.set_index(\"date\", inplace=True)\n",
    "time_df.dropna(how=\"all\",axis=0, inplace=True)\n",
    "time_df.to_excel(\"../reports/horizon_fiyat_eslestirme.xlsx\", index=True)\"\"\""
   ]
  },
  {
   "cell_type": "markdown",
   "metadata": {},
   "source": [
    "## Pasifik Fiyat Çakışmaları"
   ]
  },
  {
   "cell_type": "raw",
   "metadata": {},
   "source": [
    "\"\"\"fiyat_lst_pasifik2 = pd.merge(fiyat_lst_pasifik, eslenik_kod_df[[\"Ürün Kodu\", \"En Güncel Kod\"]], left_on=\"Malzeme\", right_on=\"Ürün Kodu\", how=\"left\").drop(columns=\"Ürün Kodu\",axis=1)\n",
    "fiyat_lst_pasifik2 = fiyat_lst_pasifik2[fiyat_lst_pasifik2[\"En Güncel Kod\"] != \"delist\"].reset_index(drop=True)\n",
    "fiyat_lst_pasifik2[\"En Güncel Kod\"] = fiyat_lst_pasifik2[\"En Güncel Kod\"].fillna(fiyat_lst_pasifik2[\"Malzeme\"])\n",
    "#fiyat_lst_pasifik2.drop(columns=\"Malzeme\", axis=1, inplace=True)\n",
    "#fiyat_lst_pasifik2.drop(columns=\"Malzeme\", axis=1, inplace=True)\"\"\""
   ]
  },
  {
   "cell_type": "raw",
   "metadata": {},
   "source": [
    "\"\"\"fiyat_lst_pasifik2[\"Baslangic_Yıl\"] = fiyat_lst_pasifik2[\"Bşl.tarihi\"].apply(lambda x: x.year)\n",
    "fiyat_lst_pasifik2[\"Baslangic_Ay\"] = fiyat_lst_pasifik2[\"Bşl.tarihi\"].apply(lambda x: x.month)\n",
    "fiyat_lst_pasifik2[\"Gecerlilik_Yıl\"] = fiyat_lst_pasifik2[\"Gçrl.sonu\"].apply(lambda x: x.year)\n",
    "fiyat_lst_pasifik2[\"Gecerlilik_Ay\"] = fiyat_lst_pasifik2[\"Gçrl.sonu\"].apply(lambda x: x.month)\"\"\""
   ]
  },
  {
   "cell_type": "raw",
   "metadata": {},
   "source": [
    "\"\"\"fiyat_lst_pasifik_fict = fiyat_lst_pasifik2.copy()\n",
    "fiyat_lst_pasifik_fict[\"Baslangic_Yıl\"] = fiyat_lst_pasifik_fict[\"Baslangic_Yıl\"].apply(lambda x: 2022 if x > 2021 else x)\n",
    "fiyat_lst_pasifik_fict[\"Gecerlilik_Yıl\"] = fiyat_lst_pasifik_fict[\"Gecerlilik_Yıl\"].apply(lambda x: 2022 if x > 2021 else x)\n",
    "\n",
    "time_index = pasifik_df_all2[\"Date\"].unique()\n",
    "time_df = pd.DataFrame(index=time_index, columns=[\"En Güncel Kod\"]+[\"fyt_lst\"+str(i) for i in range(0, 17)])\n",
    "time_df = time_df.reset_index().rename(columns = {\"index\": \"date\"})\n",
    "\n",
    "for kod in fiyat_lst_pasifik_fict[\"En Güncel Kod\"].unique():\n",
    "    temp_df = fiyat_lst_pasifik_fict[fiyat_lst_pasifik_fict[\"En Güncel Kod\"] == kod].reset_index(drop=True)\n",
    "    time_index2 = pasifik_df_all2[\"Date\"].unique()\n",
    "    df2 = pd.DataFrame({\"En Güncel Kod\": [temp_df[\"En Güncel Kod\"][0]]*len(time_index2)}, index=time_index2, columns=[\"En Güncel Kod\"]+[\"fyt_lst\"+str(i) for i in range(0, 17)])\n",
    "    df2 = df2.reset_index().rename(columns = {\"index\": \"date\"})\n",
    "    for row in range(0, len(temp_df)):\n",
    "\n",
    "        idx_ = df2[(df2[\"date\"] >= datetime(int(temp_df[\"Baslangic_Yıl\"][row]), int(temp_df[\"Baslangic_Ay\"][row]), 1)) & (df2[\"date\"] <= datetime(int(temp_df[\"Gecerlilik_Yıl\"][row]), int(temp_df[\"Gecerlilik_Ay\"][row]), 1))][\"fyt_lst\"+str(row)].index\n",
    "        values_ = df2[(df2[\"date\"] >= datetime(int(temp_df[\"Baslangic_Yıl\"][row]), int(temp_df[\"Baslangic_Ay\"][row]), 1)) & (df2[\"date\"] <= datetime(int(temp_df[\"Gecerlilik_Yıl\"][row]), int(temp_df[\"Gecerlilik_Ay\"][row]), 1))][\"fyt_lst\"+str(row)].replace(np.nan, temp_df[\"Koli TL\"][row])\n",
    "        df2[\"fyt_lst\"+str(row)][idx_] = values_\n",
    "    time_df = time_df.append(df2)\"\"\""
   ]
  },
  {
   "cell_type": "raw",
   "metadata": {},
   "source": [
    "\"\"\"time_df.set_index(\"date\", inplace=True)\n",
    "time_df.dropna(how=\"all\",axis=0, inplace=True)\n",
    "time_df.to_excel(\"../reports/pasifik_fiyat_eslestirme.xlsx\", index=True)\"\"\""
   ]
  },
  {
   "cell_type": "markdown",
   "metadata": {},
   "source": [
    "---"
   ]
  },
  {
   "cell_type": "markdown",
   "metadata": {},
   "source": [
    "---"
   ]
  },
  {
   "cell_type": "markdown",
   "metadata": {},
   "source": [
    "# Portföy"
   ]
  },
  {
   "cell_type": "markdown",
   "metadata": {},
   "source": [
    "---"
   ]
  },
  {
   "cell_type": "markdown",
   "metadata": {},
   "source": [
    "---"
   ]
  },
  {
   "cell_type": "markdown",
   "metadata": {},
   "source": [
    "## Pasifik Portföy"
   ]
  },
  {
   "cell_type": "code",
   "execution_count": null,
   "metadata": {},
   "outputs": [],
   "source": [
    "pasifik_portfoy_df2 = pd.merge(pasifik_portfoy_df, eslenik_kod_df[[\"Ürün Kodu\", \"En Güncel Kod\"]], how=\"left\", left_on=\"Kod\", right_on=\"Ürün Kodu\")\n",
    "pasifik_portfoy_df2[\"En Güncel Kod\"] = pasifik_portfoy_df2[\"En Güncel Kod\"].fillna(pasifik_portfoy_df2[\"Kod\"])\n",
    "pasifik_portfoy_df2.drop(\"Ürün Kodu\", axis=1, inplace=True)\n",
    "pasifik_portfoy_df2 = pasifik_portfoy_df2[pasifik_portfoy_df2[\"En Güncel Kod\"] != \"delist\"].reset_index(drop=True)\n",
    "pasifik_portfoy_df2[\"Portfoy\"] = 1"
   ]
  },
  {
   "cell_type": "markdown",
   "metadata": {},
   "source": [
    "## Horizon Portföy"
   ]
  },
  {
   "cell_type": "code",
   "execution_count": null,
   "metadata": {},
   "outputs": [],
   "source": [
    "horizon_portfoy_df2 = pd.merge(horizon_portfoy_df, eslenik_kod_df[[\"Ürün Kodu\", \"En Güncel Kod\"]], how=\"left\", left_on=\"Kod\", right_on=\"Ürün Kodu\")\n",
    "horizon_portfoy_df2[\"En Güncel Kod\"] = horizon_portfoy_df2[\"En Güncel Kod\"].fillna(horizon_portfoy_df2[\"Kod\"])\n",
    "horizon_portfoy_df2.drop(\"Ürün Kodu\", axis=1, inplace=True)\n",
    "horizon_portfoy_df2 = horizon_portfoy_df2[horizon_portfoy_df2[\"En Güncel Kod\"] != \"delist\"].reset_index(drop=True)\n",
    "horizon_portfoy_df2[\"Portfoy\"] = 1"
   ]
  },
  {
   "cell_type": "code",
   "execution_count": null,
   "metadata": {},
   "outputs": [],
   "source": [
    "horizon_portfoy_df2 = horizon_portfoy_df2[~((horizon_portfoy_df2[\"Kod\"] == 135901))]"
   ]
  },
  {
   "cell_type": "markdown",
   "metadata": {},
   "source": [
    "## BTT Portföy"
   ]
  },
  {
   "cell_type": "code",
   "execution_count": null,
   "metadata": {},
   "outputs": [],
   "source": [
    "btt_portfoy_df2 = pd.merge(btt_portfoy_df, eslenik_kod_df[[\"Ürün Kodu\", \"En Güncel Kod\"]], how=\"left\", left_on=\"Kod\", right_on=\"Ürün Kodu\")\n",
    "btt_portfoy_df2[\"En Güncel Kod\"] = btt_portfoy_df2[\"En Güncel Kod\"].fillna(btt_portfoy_df2[\"Kod\"])\n",
    "btt_portfoy_df2.drop(\"Ürün Kodu\", axis=1, inplace=True)\n",
    "btt_portfoy_df2 = btt_portfoy_df2[btt_portfoy_df2[\"En Güncel Kod\"] != \"delist\"].reset_index(drop=True)\n",
    "btt_portfoy_df2[\"Portfoy\"] = 1"
   ]
  },
  {
   "cell_type": "code",
   "execution_count": null,
   "metadata": {},
   "outputs": [],
   "source": [
    "btt_portfoy_df2 = btt_portfoy_df2[~((btt_portfoy_df2[\"Kod\"] == 135901))]"
   ]
  },
  {
   "cell_type": "markdown",
   "metadata": {},
   "source": [
    "---"
   ]
  },
  {
   "cell_type": "markdown",
   "metadata": {},
   "source": [
    "---"
   ]
  },
  {
   "cell_type": "markdown",
   "metadata": {},
   "source": [
    "# Portföy Kapsamındaki Sales Dataları"
   ]
  },
  {
   "cell_type": "markdown",
   "metadata": {},
   "source": [
    "---"
   ]
  },
  {
   "cell_type": "markdown",
   "metadata": {},
   "source": [
    "---"
   ]
  },
  {
   "cell_type": "code",
   "execution_count": null,
   "metadata": {},
   "outputs": [],
   "source": [
    "pasifik_df_all3 = pd.merge(pasifik_df_all2,pasifik_portfoy_df2[[\"En Güncel Kod\", \"Portfoy\"]], on=\"En Güncel Kod\", how=\"left\")\n",
    "btt_df_all3 = pd.merge(btt_df_all2,btt_portfoy_df2[[\"En Güncel Kod\", \"Portfoy\"]], on=\"En Güncel Kod\", how=\"left\")\n",
    "horizon_saha_df_all3 = pd.merge(horizon_saha_df_all2,horizon_portfoy_df2[[\"En Güncel Kod\", \"Portfoy\"]], on=\"En Güncel Kod\", how=\"left\")"
   ]
  },
  {
   "cell_type": "code",
   "execution_count": null,
   "metadata": {},
   "outputs": [],
   "source": [
    "pasifik_df_all3[\"Portfoy\"].fillna(0, inplace=True)\n",
    "btt_df_all3[\"Portfoy\"].fillna(0, inplace=True)\n",
    "horizon_saha_df_all3[\"Portfoy\"].fillna(0, inplace=True)"
   ]
  },
  {
   "cell_type": "markdown",
   "metadata": {},
   "source": [
    "---\n",
    "# Datalara Calender Eklenmesi\n",
    "---"
   ]
  },
  {
   "cell_type": "code",
   "execution_count": null,
   "metadata": {},
   "outputs": [],
   "source": [
    "calender_df.pop(\"DATE\")"
   ]
  },
  {
   "cell_type": "code",
   "execution_count": null,
   "metadata": {},
   "outputs": [],
   "source": [
    "pasifik_df_all3 = pd.merge(pasifik_df_all3, calender_df, on=[\"Yıl\", \"Ay\"], how=\"left\")\n",
    "btt_df_all3 = pd.merge(btt_df_all3, calender_df, on=[\"Yıl\", \"Ay\"], how=\"left\")\n",
    "horizon_saha_df_all3 = pd.merge(horizon_saha_df_all3, calender_df, on=[\"Yıl\", \"Ay\"], how=\"left\")"
   ]
  },
  {
   "cell_type": "code",
   "execution_count": null,
   "metadata": {},
   "outputs": [],
   "source": [
    "\"\"\"dates_ = pasifik_df_all3[[\"Yıl\", \"Ay\"]].drop_duplicates(subset=[\"Yıl\", \"Ay\"]).reset_index(drop=True)\n",
    "\n",
    "\n",
    "if dates_[\"Ay\"][len(dates_) - 1] == 12:\n",
    "    dates_ = dates_.append({\"Yıl\": dates_[\"Yıl\"][len(dates_) - 1] + 1, \"Ay\": 1}, ignore_index=True)\n",
    "else:\n",
    "    dates_ = dates_.append({\"Yıl\": dates_[\"Yıl\"][len(dates_) - 1], \"Ay\": dates_[\"Ay\"][len(dates_) - 1] + 1}, ignore_index=True)\n",
    "\n",
    "    \n",
    "    dates_[\"Ay\"] = dates_[\"Ay\"].apply(lambda x: \"0\"+str(x) if x < 10 else str(x))\n",
    "dates_[\"Date\"] = dates_[\"Yıl\"].astype(str) + \"-\" + dates_[\"Ay\"].astype(str)\"\"\""
   ]
  },
  {
   "cell_type": "code",
   "execution_count": null,
   "metadata": {},
   "outputs": [],
   "source": [
    "\"\"\"dates_[\"Weekdays\"] = 0\n",
    "dates_[\"Weekends\"] = 0\n",
    "for row in range(len(dates_) - 1):\n",
    "    dates_[\"Weekdays\"][row] = np.busday_count(begindates=dates_[\"Date\"][row], enddates=dates_[\"Date\"][row+1],weekmask=\"1111100\")\n",
    "    dates_[\"Weekends\"][row] = np.busday_count(begindates=dates_[\"Date\"][row], enddates=dates_[\"Date\"][row+1],weekmask=\"0000011\")\"\"\""
   ]
  },
  {
   "cell_type": "code",
   "execution_count": null,
   "metadata": {},
   "outputs": [],
   "source": [
    "\"\"\"dates_[\"Yıl\"], dates_[\"Ay\"], dates_[\"Date\"] = dates_[\"Yıl\"].astype(int), dates_[\"Ay\"].astype(int), pd.to_datetime(dates_[\"Date\"])\"\"\""
   ]
  },
  {
   "cell_type": "markdown",
   "metadata": {},
   "source": [
    "---\n",
    "# Dataların Fiyat Ve Aktiviteler İle Birleştirilmesi\n",
    "---\n",
    "\n",
    "# Not:\n",
    "---\n",
    "### 1) BTT aktivite verisi için Horizon kısmındaki \"Geleneksel Kanal\" kullanılması istendi.\n",
    "### 2) BTT fiyat geçişleri için Horizon fiyat geçişleri baz alındı."
   ]
  },
  {
   "cell_type": "code",
   "execution_count": null,
   "metadata": {},
   "outputs": [],
   "source": [
    "pasifik_df_all3 = pasifik_df_all3.merge(p_fiyat_unique, how=\"left\", on=[\"Date\", \"En Güncel Kod\"])"
   ]
  },
  {
   "cell_type": "code",
   "execution_count": null,
   "metadata": {},
   "outputs": [],
   "source": [
    "pasifik_aktivite_df3.rename(columns={\"Müşteri Grup\": \"Grup adı\"}, inplace=True)\n",
    "pasifik_df_all3 = pd.merge(pasifik_df_all3, pasifik_aktivite_df3[[\"Yıl\", \"Ay\", \"Grup adı\", \"En Güncel Kod\", \n",
    "                                                \"Raf Tavsiye Satış Fiyatı\", \"İndirimli Raf Satış Fiyatı\", \"İndirim %\",\n",
    "                                               \"Aktivite Tipi\"]], \n",
    "         left_on=[\"Yıl\", \"Ay\", \"Grup adı\", \"En Güncel Kod\"], \n",
    "         right_on=[\"Yıl\", \"Ay\", \"Grup adı\", \"En Güncel Kod\"], how=\"left\")"
   ]
  },
  {
   "cell_type": "code",
   "execution_count": null,
   "metadata": {},
   "outputs": [],
   "source": [
    "horizon_saha_df_all3 = horizon_saha_df_all3.merge(h_fiyat_unique, how=\"left\", on=[\"Date\", \"En Güncel Kod\"])"
   ]
  },
  {
   "cell_type": "code",
   "execution_count": null,
   "metadata": {},
   "outputs": [],
   "source": [
    "horizon_saha_df_all3 = horizon_saha_df_all3.merge(saha_aktivite_detay3[['Ciro (Kull. İade Düş.)', 'Promosyon Tutarı', \n",
    "                                                'İskonto %', 'En Güncel Kod', \"Yıl\", \"Ay\", \"Grup adı\"]],\n",
    "                          on=[\"En Güncel Kod\", \"Yıl\", \"Ay\", \"Grup adı\"], how=\"left\")"
   ]
  },
  {
   "cell_type": "code",
   "execution_count": null,
   "metadata": {},
   "outputs": [],
   "source": [
    "btt_df_all3 = btt_df_all3.merge(h_fiyat_unique, how=\"left\", on=[\"Date\", \"En Güncel Kod\"])"
   ]
  },
  {
   "cell_type": "code",
   "execution_count": null,
   "metadata": {},
   "outputs": [],
   "source": [
    "btt_aktivite = saha_aktivite_detay3[saha_aktivite_detay3[\"Grup adı\"] == \"GELENEKSEL KANAL\"].reset_index(drop=True)\n",
    "\n",
    "btt_df_all3 = btt_df_all3.merge(btt_aktivite[['Ciro (Kull. İade Düş.)', 'Promosyon Tutarı', \n",
    "                                                'İskonto %', 'En Güncel Kod', \"Yıl\", \"Ay\", \"Grup adı\"]],\n",
    "                          on=[\"En Güncel Kod\", \"Yıl\", \"Ay\", \"Grup adı\"], how=\"left\")"
   ]
  },
  {
   "cell_type": "markdown",
   "metadata": {},
   "source": [
    "---\n",
    "# SKU Bazında İncelemeler\n",
    "---"
   ]
  },
  {
   "cell_type": "code",
   "execution_count": null,
   "metadata": {},
   "outputs": [],
   "source": [
    "sku = pd.concat([pasifik_df_all3[[\"Grup adı\", \"En Güncel Kod\", \"Portfoy\"]], \n",
    "                 btt_df_all3[[\"Grup adı\", \"En Güncel Kod\", \"Portfoy\"]], \n",
    "                 horizon_saha_df_all3[[\"Grup adı\", \"En Güncel Kod\", \"Portfoy\"]]], axis=0, ignore_index=True)\n",
    "\n",
    "\n",
    "only_sku = pd.concat([pasifik_df_all3[\"En Güncel Kod\"], btt_df_all3[\"En Güncel Kod\"], horizon_saha_df_all3[\"En Güncel Kod\"]], \n",
    "                    axis=0, ignore_index=True)\n",
    "\n",
    "\n",
    "kategori_all = pd.concat([pasifik_df_all3[\"Kategori Adı\"], \n",
    "                 btt_df_all3[\"Kategori Adı\"],\n",
    "                 horizon_saha_df_all3[\"Kategori Adı\"]], axis=0, ignore_index=True)\n",
    "\n",
    "\n",
    "kategori_kanal = pd.concat([pasifik_df_all3[[\"Grup adı\", \"Kategori Adı\"]], \n",
    "                 btt_df_all3[[\"Grup adı\", \"Kategori Adı\"]],\n",
    "                 horizon_saha_df_all3[[\"Grup adı\", \"Kategori Adı\"]]], axis=0, ignore_index=True).drop_duplicates(subset=[\"Grup adı\", \"Kategori Adı\"]).reset_index(drop=True)\n",
    "\n",
    "\n",
    "only_sku = only_sku.drop_duplicates().sort_values().reset_index(drop=True)\n",
    "sku = sku.drop_duplicates(subset=sku.columns.to_list()).sort_values(by=sku.columns.to_list()).reset_index(drop=True)\n",
    "kategori_all = kategori_all.drop_duplicates().sort_values().reset_index(drop=True)\n",
    "kategori_kanal = kategori_kanal.sort_values(by=kategori_kanal.columns.to_list()).reset_index(drop=True)\n",
    "\n",
    "kategori_bazli_urun_sayilari = pd.concat([pasifik_df_all3[[\"Grup adı\", \"Kategori Adı\", \"En Güncel Kod\"]], \n",
    "                 btt_df_all3[[\"Grup adı\", \"Kategori Adı\", \"En Güncel Kod\"]],\n",
    "                 horizon_saha_df_all3[[\"Grup adı\", \"Kategori Adı\", \"En Güncel Kod\"]]], \n",
    "                           axis=0, ignore_index=True).drop_duplicates(subset=[\"Grup adı\", \n",
    "                                                                              \"Kategori Adı\", \n",
    "                                                                              \"En Güncel Kod\"]).sort_values(by=[\"Grup adı\", \n",
    "                                                                                                                \"Kategori Adı\", \n",
    "                                                                                                                \"En Güncel Kod\"]).reset_index(drop=True)\n",
    "\n",
    "kategori_bazli_urun_sayilari = kategori_bazli_urun_sayilari.groupby([\"Grup adı\", \"Kategori Adı\"]).agg(\"count\").reset_index()\n",
    "\n",
    "\n",
    "writer_sku = pd.ExcelWriter(\"../reports/SKU_kodlari.xlsx\", engine = 'xlsxwriter')\n",
    "\n",
    "only_sku.to_excel(writer_sku, sheet_name='tum_sku', index=False)\n",
    "sku.to_excel(writer_sku, sheet_name='grup_adina_gore_sku', index=False)\n",
    "kategori_all.to_excel(writer_sku, sheet_name='kategori_tumu', index=False)\n",
    "kategori_kanal.to_excel(writer_sku, sheet_name='kategori_kanallara_gore', index=False)\n",
    "kategori_bazli_urun_sayilari.to_excel(writer_sku, sheet_name='kanal_kat_gore_sku_sayilari', index=False)\n",
    "\n",
    "\n",
    "writer_sku.save()\n",
    "writer_sku.close()"
   ]
  },
  {
   "cell_type": "markdown",
   "metadata": {},
   "source": [
    "---"
   ]
  },
  {
   "cell_type": "markdown",
   "metadata": {},
   "source": [
    "---"
   ]
  },
  {
   "cell_type": "markdown",
   "metadata": {},
   "source": [
    "# Eşlenik Kod (En Güncel Kod) kısmında yer almayan Ürün Kod'ları"
   ]
  },
  {
   "cell_type": "markdown",
   "metadata": {},
   "source": [
    "---"
   ]
  },
  {
   "cell_type": "markdown",
   "metadata": {},
   "source": [
    "---"
   ]
  },
  {
   "cell_type": "code",
   "execution_count": null,
   "metadata": {},
   "outputs": [],
   "source": [
    "diff_pasifik = list(set(eslenik_kod_df[\"En Güncel Kod\"].unique()) - set(pasifik_df_all3[\"En Güncel Kod\"].unique()))\n",
    "diff_btt = list(set(eslenik_kod_df[\"En Güncel Kod\"].unique()) - set(btt_df_all3[\"En Güncel Kod\"].unique()))\n",
    "diff_horizon = list(set(eslenik_kod_df[\"En Güncel Kod\"].unique()) - set(horizon_saha_df_all3[\"En Güncel Kod\"].unique()))\n",
    "\n",
    "diff_pasifik = pd.DataFrame({\"En Güncel Kod\": diff_pasifik, \"Kanal\": [\"Pasifik\"]*len(diff_pasifik)})\n",
    "diff_btt = pd.DataFrame({\"En Güncel Kod\": diff_btt, \"Kanal\": [\"BTT\"]*len(diff_btt)})\n",
    "diff_horizon = pd.DataFrame({\"En Güncel Kod\": diff_horizon, \"Kanal\": [\"Horizon\"]*len(diff_horizon)})\n",
    "\n",
    "pd.concat([diff_pasifik, diff_btt, diff_horizon], axis=0, ignore_index=True).to_excel(\"../reports/urun_kodu_historik_datada_olmayan_sku.xlsx\", index=False)"
   ]
  },
  {
   "cell_type": "markdown",
   "metadata": {},
   "source": [
    "---"
   ]
  },
  {
   "cell_type": "markdown",
   "metadata": {},
   "source": [
    "---"
   ]
  },
  {
   "cell_type": "markdown",
   "metadata": {},
   "source": [
    "# Fiyat Geçiş Bilgisi Verilmeyen SKU'lar"
   ]
  },
  {
   "cell_type": "code",
   "execution_count": null,
   "metadata": {},
   "outputs": [],
   "source": [
    "p_fiyat_yok = pasifik_df_all3[pd.isnull(pasifik_df_all3[\"Fiyat\"])][[\"En Güncel Kod\", \"Date\"]].drop_duplicates().reset_index(drop=True)\n",
    "p_fiyat_yok[\"Kanal\"] = \"Pasifik\"\n",
    "p_fiyat_yok.sort_values(by=[\"En Güncel Kod\", \"Date\"], ignore_index=True, inplace=True)"
   ]
  },
  {
   "cell_type": "code",
   "execution_count": null,
   "metadata": {},
   "outputs": [],
   "source": [
    "h_fiyat_yok = horizon_saha_df_all3[pd.isnull(horizon_saha_df_all3[\"Fiyat\"])][[\"En Güncel Kod\", \"Date\"]].drop_duplicates().reset_index(drop=True)\n",
    "h_fiyat_yok[\"Kanal\"] = \"Horizon\"\n",
    "h_fiyat_yok.sort_values(by=[\"En Güncel Kod\", \"Date\"], ignore_index=True, inplace=True)"
   ]
  },
  {
   "cell_type": "code",
   "execution_count": null,
   "metadata": {},
   "outputs": [],
   "source": [
    "\"\"\"p_fiyat_yok = pasifik_df_all3[pd.isnull(pasifik_df_all3[\"fiyat\"])][[\"en_guncel_kod\", \"date\"]].drop_duplicates().reset_index(drop=True)\n",
    "p_fiyat_yok[\"Kanal\"] = \"Pasifik\"\n",
    "p_fiyat_yok.sort_values(by=[\"en_guncel_kod\", \"date\"], ignore_index=True, inplace=True)\"\"\""
   ]
  },
  {
   "cell_type": "code",
   "execution_count": null,
   "metadata": {},
   "outputs": [],
   "source": [
    "\"\"\"h_fiyat_yok = horizon_saha_df_all3[pd.isnull(horizon_saha_df_all3[\"fiyat\"])][[\"en_guncel_kod\", \"date\"]].drop_duplicates().reset_index(drop=True)\n",
    "h_fiyat_yok[\"Kanal\"] = \"Horizon\"\n",
    "h_fiyat_yok.sort_values(by=[\"en_guncel_kod\", \"date\"], ignore_index=True, inplace=True)\"\"\""
   ]
  },
  {
   "cell_type": "code",
   "execution_count": null,
   "metadata": {},
   "outputs": [],
   "source": [
    "pd.concat([h_fiyat_yok, p_fiyat_yok], axis=0).to_excel(\"../reports/fiyat_bilgisi_verilmeyen_skular.xlsx\", index=False)"
   ]
  },
  {
   "cell_type": "markdown",
   "metadata": {},
   "source": [
    "# Sütun İsimlerini İngilizce Karaktere Çevirme"
   ]
  },
  {
   "cell_type": "code",
   "execution_count": null,
   "metadata": {},
   "outputs": [],
   "source": [
    "chng_letters = list(zip([\"ç\", \"ğ\", \"ı\", \"ö\", \"ş\", \"ü\", \" \", \"%\", \".\", \"(\", \")\"], \n",
    "                        [\"c\", \"g\", \"i\", \"o\", \"s\", \"u\", \"_\", \"\", \"\", \"\", \"\"]))"
   ]
  },
  {
   "cell_type": "code",
   "execution_count": null,
   "metadata": {},
   "outputs": [],
   "source": [
    "pasifik_new_cols = []\n",
    "for col in pasifik_df_all3.columns.str.lower():\n",
    "    for letter in range(len(chng_letters)):\n",
    "        col = col.replace(chng_letters[letter][0], chng_letters[letter][1])\n",
    "        if letter == len(chng_letters) - 1:\n",
    "            pasifik_new_cols.append(col)\n",
    "        else:\n",
    "            pass"
   ]
  },
  {
   "cell_type": "code",
   "execution_count": null,
   "metadata": {},
   "outputs": [],
   "source": [
    "btt_new_cols = []\n",
    "for col in btt_df_all3.columns.str.lower():\n",
    "    for letter in range(len(chng_letters)):\n",
    "        col = col.replace(chng_letters[letter][0], chng_letters[letter][1])\n",
    "        if letter == len(chng_letters) - 1:\n",
    "            btt_new_cols.append(col)\n",
    "        else:\n",
    "            pass"
   ]
  },
  {
   "cell_type": "code",
   "execution_count": null,
   "metadata": {},
   "outputs": [],
   "source": [
    "horizon_new_cols = []\n",
    "for col in horizon_saha_df_all3.columns.str.lower():\n",
    "    for letter in range(len(chng_letters)):\n",
    "        col = col.replace(chng_letters[letter][0], chng_letters[letter][1])\n",
    "        if letter == len(chng_letters) - 1:\n",
    "            horizon_new_cols.append(col)\n",
    "        else:\n",
    "            pass"
   ]
  },
  {
   "cell_type": "code",
   "execution_count": null,
   "metadata": {},
   "outputs": [],
   "source": [
    "pasifik_df_all3.columns = pasifik_new_cols"
   ]
  },
  {
   "cell_type": "code",
   "execution_count": null,
   "metadata": {},
   "outputs": [],
   "source": [
    "btt_df_all3.columns = btt_new_cols"
   ]
  },
  {
   "cell_type": "code",
   "execution_count": null,
   "metadata": {},
   "outputs": [],
   "source": [
    "horizon_saha_df_all3.columns = horizon_new_cols"
   ]
  },
  {
   "cell_type": "markdown",
   "metadata": {},
   "source": [
    "---\n",
    "# Pasifikte Aktivite Tipi Verisi Eksik Olan Verilere \"Yok\" yazıldı\n",
    "---"
   ]
  },
  {
   "cell_type": "code",
   "execution_count": null,
   "metadata": {},
   "outputs": [],
   "source": [
    "pasifik_df_all3[\"Aktivite Tipi\"].fillna(\"Yok\", inplace=True)"
   ]
  },
  {
   "cell_type": "markdown",
   "metadata": {},
   "source": [
    "---\n",
    "# Datanın dışarıya aktarılması\n",
    "---"
   ]
  },
  {
   "cell_type": "code",
   "execution_count": null,
   "metadata": {},
   "outputs": [],
   "source": [
    "pasifik_df_all3.to_excel(\"../data/_pasifik_sales_portfoy.xlsx\", index=False)"
   ]
  },
  {
   "cell_type": "code",
   "execution_count": null,
   "metadata": {},
   "outputs": [],
   "source": [
    "btt_df_all3.to_excel(\"../data/_btt_sales_portfoy.xlsx\", index=False)"
   ]
  },
  {
   "cell_type": "code",
   "execution_count": null,
   "metadata": {},
   "outputs": [],
   "source": [
    "horizon_saha_df_all3.to_excel(\"../data/_horizon_sales_portfoy.xlsx\", index=False)"
   ]
  },
  {
   "cell_type": "code",
   "execution_count": null,
   "metadata": {},
   "outputs": [],
   "source": []
  }
 ],
 "metadata": {
  "kernelspec": {
   "display_name": "Python 3",
   "language": "python",
   "name": "python3"
  },
  "language_info": {
   "codemirror_mode": {
    "name": "ipython",
    "version": 3
   },
   "file_extension": ".py",
   "mimetype": "text/x-python",
   "name": "python",
   "nbconvert_exporter": "python",
   "pygments_lexer": "ipython3",
   "version": "3.8.5"
  }
 },
 "nbformat": 4,
 "nbformat_minor": 4
}
