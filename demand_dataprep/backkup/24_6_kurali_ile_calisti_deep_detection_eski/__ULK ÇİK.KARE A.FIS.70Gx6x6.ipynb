{
 "cells": [
  {
   "cell_type": "code",
   "execution_count": 1,
   "metadata": {},
   "outputs": [],
   "source": [
    "import pandas as pd\n",
    "import numpy as np\n",
    "import matplotlib.pyplot as plt\n",
    "import seaborn as sns\n",
    "from datetime import datetime\n",
    "\n",
    "from sklearn.model_selection import GridSearchCV\n",
    "from sklearn.model_selection import train_test_split\n",
    "\n",
    "from sklearn.tree import DecisionTreeRegressor\n",
    "from sklearn.calibration import CalibratedClassifierCV\n",
    "from sklearn.ensemble import RandomForestRegressor\n",
    "from sklearn.ensemble import GradientBoostingRegressor\n",
    "from sklearn.neighbors import KNeighborsRegressor\n",
    "from sklearn.linear_model import LinearRegression\n",
    "\n",
    "from sklearn.preprocessing import LabelEncoder\n",
    "#from sklearn.metrics import mean_absolute_percentage_error\n",
    "\n",
    "\n",
    "from xgboost import XGBRegressor\n",
    "import warnings\n",
    "\n",
    "warnings.filterwarnings(\"ignore\")\n",
    "pd.options.display.float_format = '{:,.4f}'.format"
   ]
  },
  {
   "cell_type": "markdown",
   "metadata": {},
   "source": [
    "---\n",
    "# Read Data\n",
    "---"
   ]
  },
  {
   "cell_type": "code",
   "execution_count": 2,
   "metadata": {},
   "outputs": [],
   "source": [
    "df = pd.read_csv(\"../data/_all_data.csv\")"
   ]
  },
  {
   "cell_type": "code",
   "execution_count": 3,
   "metadata": {},
   "outputs": [],
   "source": [
    "df = df[~((df[\"yil\"] == 2021) & (df[\"ay\"] == 6))]"
   ]
  },
  {
   "cell_type": "markdown",
   "metadata": {},
   "source": [
    "---\n",
    "# EDA\n",
    "---"
   ]
  },
  {
   "cell_type": "code",
   "execution_count": 4,
   "metadata": {},
   "outputs": [],
   "source": [
    "def mean_absolute_percentage_error(y_true, y_pred): \n",
    "    return np.mean(np.abs((np.array(y_true) - np.array(y_pred)) / y_true)) * 100"
   ]
  },
  {
   "cell_type": "code",
   "execution_count": 5,
   "metadata": {},
   "outputs": [
    {
     "data": {
      "text/plain": [
       "(203381, 58)"
      ]
     },
     "execution_count": 5,
     "metadata": {},
     "output_type": "execute_result"
    }
   ],
   "source": [
    "df.shape"
   ]
  },
  {
   "cell_type": "code",
   "execution_count": 6,
   "metadata": {},
   "outputs": [
    {
     "data": {
      "text/plain": [
       "Index(['yil', 'ay', 'grup_adi', 'ana_kategori_adi', 'kategori_adi',\n",
       "       'marka_adi', 'urun_adi', 'en_guncel_kod', 'koli_i̇ci_adet', 'koli',\n",
       "       'kg', 'tl', 'adet', 'date', 'portfoy', 'satis_var', 'enflasyon_etkisi',\n",
       "       'yarisma', 'peak', 'fiyat', 'fiyat_gecisi', 'promosyon_tutari',\n",
       "       'ciro_kull_i̇ade_dus', 'aktivite_tipi', 'indirim__', 'no_of_days',\n",
       "       'weekdays_n', 'weekdays_ratio', 'weekend_n', 'weekend_ratio',\n",
       "       'actual_holiday_n', 'actual_holiday_ratio', 'total_holiday_n',\n",
       "       'total_holiday_ratio', 'school_day_n', 'school_day_ratio',\n",
       "       'school_day_brdg_n', 'school_day_brdg_ratio', 'ramadan_n',\n",
       "       'ramadan_ratio', 'pandemic', 'lockdown', 'gozlem_sayisi',\n",
       "       'toplam_satir', 'oran', 'baslangic_tarih', 'bitis_tarih',\n",
       "       'son_kac_ay_eksik', 'eksik_repeat_sayisi', 'scope', 'indirim__bins',\n",
       "       'new_adet', 'season', 'trend', 'residual', 'adet_flag', 'Kanal',\n",
       "       'scope_type'],\n",
       "      dtype='object')"
      ]
     },
     "execution_count": 6,
     "metadata": {},
     "output_type": "execute_result"
    }
   ],
   "source": [
    "df.columns"
   ]
  },
  {
   "cell_type": "code",
   "execution_count": 7,
   "metadata": {},
   "outputs": [],
   "source": [
    "cols_to_drop = ['en_guncel_kod', 'koli_i̇ci_adet', 'koli',\n",
    "                'kg', 'tl', 'adet', 'date', 'satis_var', 'promosyon_tutari',\n",
    "                'ciro_kull_i̇ade_dus', 'weekdays_ratio', 'weekend_ratio',\n",
    "                'total_holiday_ratio', 'school_day_ratio', 'school_day_brdg_n', 'school_day_brdg_ratio',\n",
    "                'ramadan_ratio', 'gozlem_sayisi', 'actual_holiday_ratio',\n",
    "                'toplam_satir', 'oran', 'baslangic_tarih', 'bitis_tarih',\n",
    "                'son_kac_ay_eksik', 'eksik_repeat_sayisi', 'adet_flag', \n",
    "                'scope_type']"
   ]
  },
  {
   "cell_type": "code",
   "execution_count": 8,
   "metadata": {},
   "outputs": [],
   "source": [
    "df_droped = df[cols_to_drop]"
   ]
  },
  {
   "cell_type": "code",
   "execution_count": 9,
   "metadata": {},
   "outputs": [],
   "source": [
    "df.drop(columns=cols_to_drop, axis=1, inplace=True)"
   ]
  },
  {
   "cell_type": "code",
   "execution_count": 10,
   "metadata": {},
   "outputs": [
    {
     "data": {
      "text/plain": [
       "Index(['yil', 'ay', 'grup_adi', 'ana_kategori_adi', 'kategori_adi',\n",
       "       'marka_adi', 'urun_adi', 'portfoy', 'enflasyon_etkisi', 'yarisma',\n",
       "       'peak', 'fiyat', 'fiyat_gecisi', 'aktivite_tipi', 'indirim__',\n",
       "       'no_of_days', 'weekdays_n', 'weekend_n', 'actual_holiday_n',\n",
       "       'total_holiday_n', 'school_day_n', 'ramadan_n', 'pandemic', 'lockdown',\n",
       "       'scope', 'indirim__bins', 'new_adet', 'season', 'trend', 'residual',\n",
       "       'Kanal'],\n",
       "      dtype='object')"
      ]
     },
     "execution_count": 10,
     "metadata": {},
     "output_type": "execute_result"
    }
   ],
   "source": [
    "df.columns"
   ]
  },
  {
   "cell_type": "code",
   "execution_count": 11,
   "metadata": {},
   "outputs": [
    {
     "data": {
      "text/plain": [
       "yil                 0.0000\n",
       "ay                  0.0000\n",
       "grup_adi            0.0000\n",
       "ana_kategori_adi    0.0000\n",
       "kategori_adi        0.0000\n",
       "marka_adi           0.0000\n",
       "urun_adi            0.0000\n",
       "portfoy             0.0000\n",
       "enflasyon_etkisi    0.0000\n",
       "yarisma             0.0000\n",
       "peak                0.0000\n",
       "fiyat               6.7268\n",
       "fiyat_gecisi        6.7268\n",
       "aktivite_tipi      98.9950\n",
       "indirim__           0.0000\n",
       "no_of_days          0.0000\n",
       "weekdays_n          0.0000\n",
       "weekend_n           0.0000\n",
       "actual_holiday_n    0.0000\n",
       "total_holiday_n     0.0000\n",
       "school_day_n        0.0000\n",
       "ramadan_n           0.0000\n",
       "pandemic            0.0000\n",
       "lockdown            0.0000\n",
       "scope               0.0000\n",
       "indirim__bins       0.0000\n",
       "new_adet            0.0000\n",
       "season             89.6534\n",
       "trend              89.6534\n",
       "residual           89.6534\n",
       "Kanal               0.0000\n",
       "dtype: float64"
      ]
     },
     "execution_count": 11,
     "metadata": {},
     "output_type": "execute_result"
    }
   ],
   "source": [
    "(df.isna().sum() / len(df))*100"
   ]
  },
  {
   "cell_type": "code",
   "execution_count": 12,
   "metadata": {},
   "outputs": [],
   "source": [
    "df.rename(columns={\"Kanal\": \"kanal\"}, inplace=True)"
   ]
  },
  {
   "cell_type": "markdown",
   "metadata": {},
   "source": [
    "---\n",
    "# Regresyon\n",
    "---"
   ]
  },
  {
   "cell_type": "code",
   "execution_count": 13,
   "metadata": {},
   "outputs": [],
   "source": [
    "df_reg = df[df[\"scope\"] == 3]"
   ]
  },
  {
   "cell_type": "markdown",
   "metadata": {},
   "source": [
    "## Aktivite Tipi silindi çünkü %97'si missing"
   ]
  },
  {
   "cell_type": "code",
   "execution_count": 14,
   "metadata": {},
   "outputs": [],
   "source": [
    "df_reg.drop(columns=[\"aktivite_tipi\"], axis=1, inplace=True)"
   ]
  },
  {
   "cell_type": "code",
   "execution_count": 15,
   "metadata": {},
   "outputs": [
    {
     "data": {
      "text/plain": [
       "yil                0.0000\n",
       "ay                 0.0000\n",
       "grup_adi           0.0000\n",
       "ana_kategori_adi   0.0000\n",
       "kategori_adi       0.0000\n",
       "marka_adi          0.0000\n",
       "urun_adi           0.0000\n",
       "portfoy            0.0000\n",
       "enflasyon_etkisi   0.0000\n",
       "yarisma            0.0000\n",
       "peak               0.0000\n",
       "fiyat              6.2919\n",
       "fiyat_gecisi       6.2919\n",
       "indirim__          0.0000\n",
       "no_of_days         0.0000\n",
       "weekdays_n         0.0000\n",
       "weekend_n          0.0000\n",
       "actual_holiday_n   0.0000\n",
       "total_holiday_n    0.0000\n",
       "school_day_n       0.0000\n",
       "ramadan_n          0.0000\n",
       "pandemic           0.0000\n",
       "lockdown           0.0000\n",
       "scope              0.0000\n",
       "indirim__bins      0.0000\n",
       "new_adet           0.0000\n",
       "season             0.0000\n",
       "trend              0.0000\n",
       "residual           0.0000\n",
       "kanal              0.0000\n",
       "dtype: float64"
      ]
     },
     "execution_count": 15,
     "metadata": {},
     "output_type": "execute_result"
    }
   ],
   "source": [
    "(df_reg.isna().sum() / len(df_reg))*100"
   ]
  },
  {
   "cell_type": "code",
   "execution_count": 16,
   "metadata": {},
   "outputs": [],
   "source": [
    "df_reg[\"enflasyon_etkisi\"].fillna(method=\"ffill\", inplace=True)"
   ]
  },
  {
   "cell_type": "code",
   "execution_count": 17,
   "metadata": {},
   "outputs": [],
   "source": [
    "df_reg[\"fiyat\"].fillna(method=\"ffill\", inplace=True)\n",
    "df_reg[\"fiyat_gecisi\"].fillna(value=0, inplace=True)"
   ]
  },
  {
   "cell_type": "code",
   "execution_count": 18,
   "metadata": {},
   "outputs": [],
   "source": [
    "df_reg = df_reg[df_reg[\"portfoy\"] == 1]"
   ]
  },
  {
   "cell_type": "code",
   "execution_count": 19,
   "metadata": {},
   "outputs": [],
   "source": [
    "df_reg.drop(columns=[\"portfoy\", \"scope\", \"yarisma\"], axis=1, inplace=True)"
   ]
  },
  {
   "cell_type": "code",
   "execution_count": 20,
   "metadata": {},
   "outputs": [
    {
     "data": {
      "text/plain": [
       "Index(['yil', 'ay', 'grup_adi', 'ana_kategori_adi', 'kategori_adi',\n",
       "       'marka_adi', 'urun_adi', 'enflasyon_etkisi', 'peak', 'fiyat',\n",
       "       'fiyat_gecisi', 'indirim__', 'no_of_days', 'weekdays_n', 'weekend_n',\n",
       "       'actual_holiday_n', 'total_holiday_n', 'school_day_n', 'ramadan_n',\n",
       "       'pandemic', 'lockdown', 'indirim__bins', 'new_adet', 'season', 'trend',\n",
       "       'residual', 'kanal'],\n",
       "      dtype='object')"
      ]
     },
     "execution_count": 20,
     "metadata": {},
     "output_type": "execute_result"
    }
   ],
   "source": [
    "df_reg.columns"
   ]
  },
  {
   "cell_type": "code",
   "execution_count": 21,
   "metadata": {},
   "outputs": [],
   "source": [
    "X_vars = ['yil', 'ay', 'kanal', 'grup_adi', 'ana_kategori_adi', \n",
    "          'kategori_adi', 'marka_adi', 'urun_adi', 'enflasyon_etkisi', \n",
    "          'peak', 'indirim__bins', 'lockdown', 'season', 'trend']"
   ]
  },
  {
   "cell_type": "code",
   "execution_count": 22,
   "metadata": {},
   "outputs": [],
   "source": [
    "y_vars = [\"new_adet\"]"
   ]
  },
  {
   "cell_type": "code",
   "execution_count": 23,
   "metadata": {},
   "outputs": [],
   "source": [
    "df_reg = df_reg[X_vars+y_vars]"
   ]
  },
  {
   "cell_type": "code",
   "execution_count": 27,
   "metadata": {},
   "outputs": [
    {
     "data": {
      "text/plain": [
       "YUPO JELLY PORTAKAL HALKASI 70GRX24        6\n",
       "ULK ÇİK.KARE A.FIS.70Gx6x6                 7\n",
       "KREMINI MINI TOFFE KARPUZ 7Gx50x12         7\n",
       "KREMINI MINI TOFFE ÇILEK ARO.7Gx50x12      8\n",
       "ULK PÖTİBÖR BİSK.450Gx10                  10\n",
       "                                        ... \n",
       "KEKSTRA JÖLEBOL KEK ÇİLEK 35Gx24         106\n",
       "METRO KAPL.BAR 5x40Gx18                  106\n",
       "ÇİZİVİÇ PEY.SAND.KR.3x90Gx12             106\n",
       "DANKEK RULO PASTA ÇİLEK 245Gx8           111\n",
       "ÇOKOKREM SAKLAMA KABI 1000Gx6            113\n",
       "Name: urun_adi, Length: 61, dtype: int64"
      ]
     },
     "execution_count": 27,
     "metadata": {},
     "output_type": "execute_result"
    }
   ],
   "source": [
    "df_reg.urun_adi.value_counts().sort_values(ascending=True)"
   ]
  },
  {
   "cell_type": "code",
   "execution_count": 29,
   "metadata": {},
   "outputs": [
    {
     "data": {
      "text/html": [
       "<div>\n",
       "<style scoped>\n",
       "    .dataframe tbody tr th:only-of-type {\n",
       "        vertical-align: middle;\n",
       "    }\n",
       "\n",
       "    .dataframe tbody tr th {\n",
       "        vertical-align: top;\n",
       "    }\n",
       "\n",
       "    .dataframe thead th {\n",
       "        text-align: right;\n",
       "    }\n",
       "</style>\n",
       "<table border=\"1\" class=\"dataframe\">\n",
       "  <thead>\n",
       "    <tr style=\"text-align: right;\">\n",
       "      <th></th>\n",
       "      <th>yil</th>\n",
       "      <th>ay</th>\n",
       "      <th>kanal</th>\n",
       "      <th>grup_adi</th>\n",
       "      <th>ana_kategori_adi</th>\n",
       "      <th>kategori_adi</th>\n",
       "      <th>marka_adi</th>\n",
       "      <th>urun_adi</th>\n",
       "      <th>enflasyon_etkisi</th>\n",
       "      <th>peak</th>\n",
       "      <th>indirim__bins</th>\n",
       "      <th>lockdown</th>\n",
       "      <th>season</th>\n",
       "      <th>trend</th>\n",
       "      <th>new_adet</th>\n",
       "    </tr>\n",
       "  </thead>\n",
       "  <tbody>\n",
       "    <tr>\n",
       "      <th>12729</th>\n",
       "      <td>2020</td>\n",
       "      <td>11</td>\n",
       "      <td>pasifik</td>\n",
       "      <td>BİM</td>\n",
       "      <td>ATIŞTIRMALIK</td>\n",
       "      <td>ÇİKOLATA</td>\n",
       "      <td>ÜLKER</td>\n",
       "      <td>ULK ÇİK.KARE A.FIS.70Gx6x6</td>\n",
       "      <td>14.0300</td>\n",
       "      <td>0</td>\n",
       "      <td>-1</td>\n",
       "      <td>0</td>\n",
       "      <td>-61,247.5766</td>\n",
       "      <td>211,032.5000</td>\n",
       "      <td>149,784.9234</td>\n",
       "    </tr>\n",
       "    <tr>\n",
       "      <th>12730</th>\n",
       "      <td>2020</td>\n",
       "      <td>12</td>\n",
       "      <td>pasifik</td>\n",
       "      <td>BİM</td>\n",
       "      <td>ATIŞTIRMALIK</td>\n",
       "      <td>ÇİKOLATA</td>\n",
       "      <td>ÜLKER</td>\n",
       "      <td>ULK ÇİK.KARE A.FIS.70Gx6x6</td>\n",
       "      <td>14.6000</td>\n",
       "      <td>0</td>\n",
       "      <td>-1</td>\n",
       "      <td>0</td>\n",
       "      <td>-78,599.5766</td>\n",
       "      <td>211,032.5000</td>\n",
       "      <td>132,432.9234</td>\n",
       "    </tr>\n",
       "    <tr>\n",
       "      <th>12731</th>\n",
       "      <td>2021</td>\n",
       "      <td>1</td>\n",
       "      <td>pasifik</td>\n",
       "      <td>BİM</td>\n",
       "      <td>ATIŞTIRMALIK</td>\n",
       "      <td>ÇİKOLATA</td>\n",
       "      <td>ÜLKER</td>\n",
       "      <td>ULK ÇİK.KARE A.FIS.70Gx6x6</td>\n",
       "      <td>14.9700</td>\n",
       "      <td>0</td>\n",
       "      <td>-1</td>\n",
       "      <td>0</td>\n",
       "      <td>-53,543.5766</td>\n",
       "      <td>211,032.5000</td>\n",
       "      <td>157,488.9234</td>\n",
       "    </tr>\n",
       "    <tr>\n",
       "      <th>12732</th>\n",
       "      <td>2021</td>\n",
       "      <td>2</td>\n",
       "      <td>pasifik</td>\n",
       "      <td>BİM</td>\n",
       "      <td>ATIŞTIRMALIK</td>\n",
       "      <td>ÇİKOLATA</td>\n",
       "      <td>ÜLKER</td>\n",
       "      <td>ULK ÇİK.KARE A.FIS.70Gx6x6</td>\n",
       "      <td>15.6100</td>\n",
       "      <td>0</td>\n",
       "      <td>-1</td>\n",
       "      <td>0</td>\n",
       "      <td>-40,295.5766</td>\n",
       "      <td>211,032.5000</td>\n",
       "      <td>170,736.9234</td>\n",
       "    </tr>\n",
       "    <tr>\n",
       "      <th>12733</th>\n",
       "      <td>2021</td>\n",
       "      <td>3</td>\n",
       "      <td>pasifik</td>\n",
       "      <td>BİM</td>\n",
       "      <td>ATIŞTIRMALIK</td>\n",
       "      <td>ÇİKOLATA</td>\n",
       "      <td>ÜLKER</td>\n",
       "      <td>ULK ÇİK.KARE A.FIS.70Gx6x6</td>\n",
       "      <td>16.1900</td>\n",
       "      <td>0</td>\n",
       "      <td>-1</td>\n",
       "      <td>0</td>\n",
       "      <td>-47,999.5766</td>\n",
       "      <td>211,032.5000</td>\n",
       "      <td>163,032.9234</td>\n",
       "    </tr>\n",
       "    <tr>\n",
       "      <th>12734</th>\n",
       "      <td>2021</td>\n",
       "      <td>4</td>\n",
       "      <td>pasifik</td>\n",
       "      <td>BİM</td>\n",
       "      <td>ATIŞTIRMALIK</td>\n",
       "      <td>ÇİKOLATA</td>\n",
       "      <td>ÜLKER</td>\n",
       "      <td>ULK ÇİK.KARE A.FIS.70Gx6x6</td>\n",
       "      <td>17.1400</td>\n",
       "      <td>0</td>\n",
       "      <td>-1</td>\n",
       "      <td>1</td>\n",
       "      <td>-96,635.5766</td>\n",
       "      <td>211,032.5000</td>\n",
       "      <td>114,396.9234</td>\n",
       "    </tr>\n",
       "    <tr>\n",
       "      <th>12735</th>\n",
       "      <td>2021</td>\n",
       "      <td>5</td>\n",
       "      <td>pasifik</td>\n",
       "      <td>BİM</td>\n",
       "      <td>ATIŞTIRMALIK</td>\n",
       "      <td>ÇİKOLATA</td>\n",
       "      <td>ÜLKER</td>\n",
       "      <td>ULK ÇİK.KARE A.FIS.70Gx6x6</td>\n",
       "      <td>16.5900</td>\n",
       "      <td>1</td>\n",
       "      <td>-1</td>\n",
       "      <td>1</td>\n",
       "      <td>341,465.0359</td>\n",
       "      <td>211,032.5000</td>\n",
       "      <td>552,497.5359</td>\n",
       "    </tr>\n",
       "  </tbody>\n",
       "</table>\n",
       "</div>"
      ],
      "text/plain": [
       "        yil  ay    kanal grup_adi ana_kategori_adi kategori_adi marka_adi  \\\n",
       "12729  2020  11  pasifik      BİM     ATIŞTIRMALIK     ÇİKOLATA     ÜLKER   \n",
       "12730  2020  12  pasifik      BİM     ATIŞTIRMALIK     ÇİKOLATA     ÜLKER   \n",
       "12731  2021   1  pasifik      BİM     ATIŞTIRMALIK     ÇİKOLATA     ÜLKER   \n",
       "12732  2021   2  pasifik      BİM     ATIŞTIRMALIK     ÇİKOLATA     ÜLKER   \n",
       "12733  2021   3  pasifik      BİM     ATIŞTIRMALIK     ÇİKOLATA     ÜLKER   \n",
       "12734  2021   4  pasifik      BİM     ATIŞTIRMALIK     ÇİKOLATA     ÜLKER   \n",
       "12735  2021   5  pasifik      BİM     ATIŞTIRMALIK     ÇİKOLATA     ÜLKER   \n",
       "\n",
       "                         urun_adi  enflasyon_etkisi  peak  indirim__bins  \\\n",
       "12729  ULK ÇİK.KARE A.FIS.70Gx6x6           14.0300     0             -1   \n",
       "12730  ULK ÇİK.KARE A.FIS.70Gx6x6           14.6000     0             -1   \n",
       "12731  ULK ÇİK.KARE A.FIS.70Gx6x6           14.9700     0             -1   \n",
       "12732  ULK ÇİK.KARE A.FIS.70Gx6x6           15.6100     0             -1   \n",
       "12733  ULK ÇİK.KARE A.FIS.70Gx6x6           16.1900     0             -1   \n",
       "12734  ULK ÇİK.KARE A.FIS.70Gx6x6           17.1400     0             -1   \n",
       "12735  ULK ÇİK.KARE A.FIS.70Gx6x6           16.5900     1             -1   \n",
       "\n",
       "       lockdown       season        trend     new_adet  \n",
       "12729         0 -61,247.5766 211,032.5000 149,784.9234  \n",
       "12730         0 -78,599.5766 211,032.5000 132,432.9234  \n",
       "12731         0 -53,543.5766 211,032.5000 157,488.9234  \n",
       "12732         0 -40,295.5766 211,032.5000 170,736.9234  \n",
       "12733         0 -47,999.5766 211,032.5000 163,032.9234  \n",
       "12734         1 -96,635.5766 211,032.5000 114,396.9234  \n",
       "12735         1 341,465.0359 211,032.5000 552,497.5359  "
      ]
     },
     "execution_count": 29,
     "metadata": {},
     "output_type": "execute_result"
    }
   ],
   "source": [
    "df_reg[df_reg[\"urun_adi\"] == \"ULK ÇİK.KARE A.FIS.70Gx6x6\"]"
   ]
  },
  {
   "cell_type": "code",
   "execution_count": null,
   "metadata": {},
   "outputs": [],
   "source": [
    "test = df_reg[(df_reg[\"kanal\"] == \"btt\") & (df_reg[\"urun_adi\"] == \"8KEK FIN.52Gx24\")]"
   ]
  },
  {
   "cell_type": "code",
   "execution_count": null,
   "metadata": {},
   "outputs": [],
   "source": [
    "test.drop(columns=['kanal', 'grup_adi', 'ana_kategori_adi', \n",
    "                   'kategori_adi', 'marka_adi', 'urun_adi'], axis=1, inplace=True)"
   ]
  },
  {
   "cell_type": "code",
   "execution_count": null,
   "metadata": {},
   "outputs": [],
   "source": [
    "for idx in test.iloc[-3:].index:\n",
    "    test.loc[idx, \"season\"] = test.loc[list(range(idx-1, idx-7, -1)), \"season\"].mean()\n",
    "    test.loc[idx, \"trend\"] = test.loc[list(range(idx-1, idx-7, -1)), \"trend\"].mean()"
   ]
  },
  {
   "cell_type": "code",
   "execution_count": null,
   "metadata": {},
   "outputs": [],
   "source": [
    "X_train, X_test, y_train, y_test = test.iloc[:-3, :-1], test.iloc[-3:, :-1], test.iloc[:-3, -1:], test.iloc[-3:, -1:]"
   ]
  },
  {
   "cell_type": "code",
   "execution_count": 52,
   "metadata": {},
   "outputs": [
    {
     "data": {
      "text/plain": [
       "((14, 8), (3, 8), (14, 1), (3, 1))"
      ]
     },
     "execution_count": 52,
     "metadata": {},
     "output_type": "execute_result"
    }
   ],
   "source": [
    "X_train.shape, X_test.shape, y_train.shape, y_test.shape"
   ]
  },
  {
   "cell_type": "markdown",
   "metadata": {},
   "source": [
    "---\n",
    "# Linear Regression\n",
    "---"
   ]
  },
  {
   "cell_type": "code",
   "execution_count": 53,
   "metadata": {},
   "outputs": [],
   "source": [
    "from sklearn.linear_model import LinearRegression"
   ]
  },
  {
   "cell_type": "code",
   "execution_count": 54,
   "metadata": {},
   "outputs": [],
   "source": [
    "lm = LinearRegression()\n",
    "lm.fit(X_train, y_train)\n",
    "yhat_lm = lm.predict(X_test)"
   ]
  },
  {
   "cell_type": "code",
   "execution_count": 55,
   "metadata": {},
   "outputs": [
    {
     "name": "stdout",
     "output_type": "stream",
     "text": [
      "MAPE: 18.547099839878125\n"
     ]
    }
   ],
   "source": [
    "print(\"MAPE:\", mean_absolute_percentage_error(np.array(y_test), yhat_lm))"
   ]
  },
  {
   "cell_type": "code",
   "execution_count": 56,
   "metadata": {},
   "outputs": [
    {
     "data": {
      "text/plain": [
       "array([[159774.66645665],\n",
       "       [155987.850411  ],\n",
       "       [158069.89835775]])"
      ]
     },
     "execution_count": 56,
     "metadata": {},
     "output_type": "execute_result"
    }
   ],
   "source": [
    "yhat_lm"
   ]
  },
  {
   "cell_type": "code",
   "execution_count": 57,
   "metadata": {},
   "outputs": [
    {
     "data": {
      "text/html": [
       "<div>\n",
       "<style scoped>\n",
       "    .dataframe tbody tr th:only-of-type {\n",
       "        vertical-align: middle;\n",
       "    }\n",
       "\n",
       "    .dataframe tbody tr th {\n",
       "        vertical-align: top;\n",
       "    }\n",
       "\n",
       "    .dataframe thead th {\n",
       "        text-align: right;\n",
       "    }\n",
       "</style>\n",
       "<table border=\"1\" class=\"dataframe\">\n",
       "  <thead>\n",
       "    <tr style=\"text-align: right;\">\n",
       "      <th></th>\n",
       "      <th>new_adet</th>\n",
       "    </tr>\n",
       "  </thead>\n",
       "  <tbody>\n",
       "    <tr>\n",
       "      <th>202073</th>\n",
       "      <td>220,314.1851</td>\n",
       "    </tr>\n",
       "    <tr>\n",
       "      <th>202074</th>\n",
       "      <td>183,455.5627</td>\n",
       "    </tr>\n",
       "    <tr>\n",
       "      <th>202075</th>\n",
       "      <td>182,087.5627</td>\n",
       "    </tr>\n",
       "  </tbody>\n",
       "</table>\n",
       "</div>"
      ],
      "text/plain": [
       "           new_adet\n",
       "202073 220,314.1851\n",
       "202074 183,455.5627\n",
       "202075 182,087.5627"
      ]
     },
     "execution_count": 57,
     "metadata": {},
     "output_type": "execute_result"
    }
   ],
   "source": [
    "y_test"
   ]
  },
  {
   "cell_type": "code",
   "execution_count": null,
   "metadata": {},
   "outputs": [],
   "source": []
  },
  {
   "cell_type": "markdown",
   "metadata": {},
   "source": [
    "---\n",
    "# KNN\n",
    "---"
   ]
  },
  {
   "cell_type": "code",
   "execution_count": 58,
   "metadata": {},
   "outputs": [
    {
     "name": "stdout",
     "output_type": "stream",
     "text": [
      "Fitting 5 folds for each of 72 candidates, totalling 360 fits\n"
     ]
    },
    {
     "name": "stderr",
     "output_type": "stream",
     "text": [
      "[Parallel(n_jobs=-1)]: Using backend LokyBackend with 8 concurrent workers.\n",
      "[Parallel(n_jobs=-1)]: Done  25 tasks      | elapsed:   19.3s\n",
      "[Parallel(n_jobs=-1)]: Done 360 out of 360 | elapsed:   21.7s finished\n"
     ]
    },
    {
     "data": {
      "text/plain": [
       "GridSearchCV(cv=5, estimator=KNeighborsRegressor(), n_jobs=-1,\n",
       "             param_grid={'algorithm': ['auto', 'ball_tree'],\n",
       "                         'leaf_size': [30, 50, 75],\n",
       "                         'metric': ['euclidean', 'manhattan'],\n",
       "                         'n_neighbors': [5, 7, 10],\n",
       "                         'weights': ['uniform', 'distance']},\n",
       "             scoring='neg_mean_absolute_error', verbose=2)"
      ]
     },
     "execution_count": 58,
     "metadata": {},
     "output_type": "execute_result"
    }
   ],
   "source": [
    "#GridSearch to determine best parameters\n",
    "param_grid = {\n",
    "    'algorithm': ['auto', 'ball_tree'],\n",
    "    'leaf_size': [30, 50, 75],\n",
    "    'weights' : ['uniform', 'distance'],\n",
    "    'metric' : ['euclidean', 'manhattan'],\n",
    "    'n_neighbors' : [5, 7, 10]\n",
    "}\n",
    "\n",
    "gsm = GridSearchCV(KNeighborsRegressor(),\n",
    "                   param_grid=param_grid,\n",
    "                   cv=5,\n",
    "                   n_jobs = -1,\n",
    "                   verbose=2,\n",
    "                   refit=True,\n",
    "                   scoring='neg_mean_absolute_error')\n",
    "\n",
    "gsm.fit(X_train, y_train)"
   ]
  },
  {
   "cell_type": "code",
   "execution_count": 59,
   "metadata": {},
   "outputs": [],
   "source": [
    "best_params_ = gsm.best_params_"
   ]
  },
  {
   "cell_type": "code",
   "execution_count": 60,
   "metadata": {},
   "outputs": [],
   "source": [
    "yhat_knn = gsm.predict(X_test)"
   ]
  },
  {
   "cell_type": "code",
   "execution_count": 61,
   "metadata": {},
   "outputs": [
    {
     "data": {
      "text/html": [
       "<div>\n",
       "<style scoped>\n",
       "    .dataframe tbody tr th:only-of-type {\n",
       "        vertical-align: middle;\n",
       "    }\n",
       "\n",
       "    .dataframe tbody tr th {\n",
       "        vertical-align: top;\n",
       "    }\n",
       "\n",
       "    .dataframe thead th {\n",
       "        text-align: right;\n",
       "    }\n",
       "</style>\n",
       "<table border=\"1\" class=\"dataframe\">\n",
       "  <thead>\n",
       "    <tr style=\"text-align: right;\">\n",
       "      <th></th>\n",
       "      <th>new_adet</th>\n",
       "    </tr>\n",
       "  </thead>\n",
       "  <tbody>\n",
       "    <tr>\n",
       "      <th>202073</th>\n",
       "      <td>220,314.1851</td>\n",
       "    </tr>\n",
       "    <tr>\n",
       "      <th>202074</th>\n",
       "      <td>183,455.5627</td>\n",
       "    </tr>\n",
       "    <tr>\n",
       "      <th>202075</th>\n",
       "      <td>182,087.5627</td>\n",
       "    </tr>\n",
       "  </tbody>\n",
       "</table>\n",
       "</div>"
      ],
      "text/plain": [
       "           new_adet\n",
       "202073 220,314.1851\n",
       "202074 183,455.5627\n",
       "202075 182,087.5627"
      ]
     },
     "execution_count": 61,
     "metadata": {},
     "output_type": "execute_result"
    }
   ],
   "source": [
    "y_test"
   ]
  },
  {
   "cell_type": "code",
   "execution_count": 62,
   "metadata": {},
   "outputs": [
    {
     "data": {
      "text/plain": [
       "array([[157250.29872178],\n",
       "       [156224.61328736],\n",
       "       [156886.81876326]])"
      ]
     },
     "execution_count": 62,
     "metadata": {},
     "output_type": "execute_result"
    }
   ],
   "source": [
    "yhat_knn"
   ]
  },
  {
   "cell_type": "code",
   "execution_count": 63,
   "metadata": {},
   "outputs": [
    {
     "name": "stdout",
     "output_type": "stream",
     "text": [
      "MAPE: new_adet   19.1026\n",
      "dtype: float64\n"
     ]
    }
   ],
   "source": [
    "print(\"MAPE:\", mean_absolute_percentage_error(y_test, yhat_knn))"
   ]
  },
  {
   "cell_type": "code",
   "execution_count": null,
   "metadata": {},
   "outputs": [],
   "source": []
  },
  {
   "cell_type": "code",
   "execution_count": null,
   "metadata": {},
   "outputs": [],
   "source": []
  },
  {
   "cell_type": "code",
   "execution_count": null,
   "metadata": {},
   "outputs": [],
   "source": []
  },
  {
   "cell_type": "code",
   "execution_count": null,
   "metadata": {},
   "outputs": [],
   "source": []
  },
  {
   "cell_type": "code",
   "execution_count": null,
   "metadata": {},
   "outputs": [],
   "source": []
  },
  {
   "cell_type": "code",
   "execution_count": null,
   "metadata": {},
   "outputs": [],
   "source": []
  },
  {
   "cell_type": "markdown",
   "metadata": {},
   "source": [
    "---\n",
    "# XGBoost\n",
    "---"
   ]
  },
  {
   "cell_type": "code",
   "execution_count": 64,
   "metadata": {},
   "outputs": [
    {
     "name": "stderr",
     "output_type": "stream",
     "text": [
      "[Parallel(n_jobs=-1)]: Using backend LokyBackend with 8 concurrent workers.\n"
     ]
    },
    {
     "name": "stdout",
     "output_type": "stream",
     "text": [
      "Fitting 5 folds for each of 24 candidates, totalling 120 fits\n"
     ]
    },
    {
     "name": "stderr",
     "output_type": "stream",
     "text": [
      "[Parallel(n_jobs=-1)]: Done  25 tasks      | elapsed:    7.2s\n"
     ]
    },
    {
     "name": "stdout",
     "output_type": "stream",
     "text": [
      "[11:47:41] WARNING: C:/Users/Administrator/workspace/xgboost-win64_release_1.4.0/src/learner.cc:573: \n",
      "Parameters: { \"colsample_bytree\", \"max_depth\" } might not be used.\n",
      "\n",
      "  This may not be accurate due to some parameters are only used in language bindings but\n",
      "  passed down to XGBoost core.  Or some parameters are not used but slip through this\n",
      "  verification. Please open an issue if you find above cases.\n",
      "\n",
      "\n"
     ]
    },
    {
     "name": "stderr",
     "output_type": "stream",
     "text": [
      "[Parallel(n_jobs=-1)]: Done 120 out of 120 | elapsed:  1.5min finished\n"
     ]
    },
    {
     "data": {
      "text/plain": [
       "GridSearchCV(cv=5,\n",
       "             estimator=XGBRegressor(base_score=None, booster=None,\n",
       "                                    colsample_bylevel=None,\n",
       "                                    colsample_bynode=None,\n",
       "                                    colsample_bytree=None, gamma=None,\n",
       "                                    gpu_id=None, importance_type='gain',\n",
       "                                    interaction_constraints=None,\n",
       "                                    learning_rate=None, max_delta_step=None,\n",
       "                                    max_depth=None, min_child_weight=None,\n",
       "                                    missing=nan, monotone_constraints=None,\n",
       "                                    n_estimators=100, n_jobs=...\n",
       "                                    scale_pos_weight=None, subsample=None,\n",
       "                                    tree_method=None, validate_parameters=None,\n",
       "                                    verbosity=None),\n",
       "             n_jobs=-1,\n",
       "             param_grid={'booster': ['gbtree', 'gblinear', 'dart'],\n",
       "                         'colsample_bytree': [0.4, 0.7],\n",
       "                         'learning_rate': [0.1, 0.001], 'max_depth': [15, 20],\n",
       "                         'n_estimators': [500],\n",
       "                         'objective': ['reg:squarederror'],\n",
       "                         'random_state': [42]},\n",
       "             scoring='neg_mean_absolute_error', verbose=2)"
      ]
     },
     "execution_count": 64,
     "metadata": {},
     "output_type": "execute_result"
    }
   ],
   "source": [
    "#GridSearch to determine best parameters\n",
    "param_grid = {'colsample_bytree': [0.4, 0.7],\n",
    "              'booster': [\"gbtree\", \"gblinear\", \"dart\"],\n",
    " 'learning_rate': [0.1, 0.001],\n",
    " 'max_depth': [15, 20],\n",
    "# 'min_child_weight': [5,6,7],\n",
    " 'n_estimators': [500],\n",
    " 'objective': ['reg:squarederror'],\n",
    "# 'subsample': [0.5, 0.6, 0.7],\n",
    "             'random_state': [42]}\n",
    "\n",
    "\n",
    "gsm = GridSearchCV(XGBRegressor(),\n",
    "                   param_grid=param_grid,\n",
    "                   cv=5,\n",
    "                   n_jobs=-1,\n",
    "                   verbose=2,\n",
    "                   refit=True,\n",
    "                   scoring='neg_mean_absolute_error')\n",
    "\n",
    "gsm.fit(X_train, y_train)"
   ]
  },
  {
   "cell_type": "code",
   "execution_count": 65,
   "metadata": {},
   "outputs": [
    {
     "name": "stdout",
     "output_type": "stream",
     "text": [
      "{'booster': 'gblinear', 'colsample_bytree': 0.7, 'learning_rate': 0.1, 'max_depth': 20, 'n_estimators': 500, 'objective': 'reg:squarederror', 'random_state': 42}\n"
     ]
    }
   ],
   "source": [
    "best_params_ = gsm.best_params_\n",
    "print(gsm.best_params_)"
   ]
  },
  {
   "cell_type": "code",
   "execution_count": 66,
   "metadata": {},
   "outputs": [],
   "source": [
    "yhat_xgb = gsm.predict(X_test)"
   ]
  },
  {
   "cell_type": "code",
   "execution_count": 67,
   "metadata": {},
   "outputs": [
    {
     "data": {
      "text/plain": [
       "array([162025.34, 156462.55, 157236.02], dtype=float32)"
      ]
     },
     "execution_count": 67,
     "metadata": {},
     "output_type": "execute_result"
    }
   ],
   "source": [
    "yhat_xgb"
   ]
  },
  {
   "cell_type": "code",
   "execution_count": 68,
   "metadata": {},
   "outputs": [
    {
     "name": "stdout",
     "output_type": "stream",
     "text": [
      "MAPE: 18.16625401321893\n"
     ]
    }
   ],
   "source": [
    "print(\"MAPE:\", mean_absolute_percentage_error(np.array(y_test), yhat_xgb))"
   ]
  },
  {
   "cell_type": "code",
   "execution_count": null,
   "metadata": {},
   "outputs": [],
   "source": []
  },
  {
   "cell_type": "code",
   "execution_count": null,
   "metadata": {},
   "outputs": [],
   "source": []
  },
  {
   "cell_type": "markdown",
   "metadata": {},
   "source": [
    "---\n",
    "# Decision Tree\n",
    "---"
   ]
  },
  {
   "cell_type": "code",
   "execution_count": 69,
   "metadata": {},
   "outputs": [
    {
     "name": "stdout",
     "output_type": "stream",
     "text": [
      "Fitting 5 folds for each of 1024 candidates, totalling 5120 fits\n"
     ]
    },
    {
     "name": "stderr",
     "output_type": "stream",
     "text": [
      "[Parallel(n_jobs=-1)]: Using backend LokyBackend with 8 concurrent workers.\n",
      "[Parallel(n_jobs=-1)]: Done  34 tasks      | elapsed:    0.3s\n",
      "[Parallel(n_jobs=-1)]: Done 504 tasks      | elapsed:    3.8s\n",
      "[Parallel(n_jobs=-1)]: Done 1316 tasks      | elapsed:    9.7s\n",
      "[Parallel(n_jobs=-1)]: Done 2448 tasks      | elapsed:   18.5s\n",
      "[Parallel(n_jobs=-1)]: Done 3908 tasks      | elapsed:   28.2s\n",
      "[Parallel(n_jobs=-1)]: Done 5105 out of 5120 | elapsed:   35.7s remaining:    0.0s\n",
      "[Parallel(n_jobs=-1)]: Done 5120 out of 5120 | elapsed:   35.8s finished\n"
     ]
    },
    {
     "data": {
      "text/plain": [
       "GridSearchCV(cv=5, estimator=DecisionTreeRegressor(), n_jobs=-1,\n",
       "             param_grid={'criterion': ['mse', 'mae'],\n",
       "                         'max_depth': [3, 4, 5, 6, 7, 8, 9, 10],\n",
       "                         'min_samples_leaf': [3, 4, 5, 6, 7, 8, 9, 10],\n",
       "                         'min_samples_split': [3, 4, 5, 6, 7, 8, 9, 10],\n",
       "                         'random_state': [42]},\n",
       "             scoring='neg_mean_absolute_error', verbose=2)"
      ]
     },
     "execution_count": 69,
     "metadata": {},
     "output_type": "execute_result"
    }
   ],
   "source": [
    "#GridSearch to determine best parameters\n",
    "\n",
    "param_grid = {'criterion':['mse', 'mae'],\n",
    "              'max_depth': [i for i in range(3, 11)],\n",
    "              'min_samples_leaf': [i for i in range(3, 11)],\n",
    "              'min_samples_split': [i for i in range(3, 11)],\n",
    "              'random_state': [42]}\n",
    "\n",
    "gsm = GridSearchCV(DecisionTreeRegressor(),\n",
    "                  param_grid=param_grid,\n",
    "                  cv=5,\n",
    "                  n_jobs=-1,\n",
    "                  verbose=2,\n",
    "                  refit=True,\n",
    "                  scoring='neg_mean_absolute_error')\n",
    "\n",
    "#gsm = DecisionTreeRegressor(random_state=42)\n",
    "\n",
    "gsm.fit(X_train, y_train)"
   ]
  },
  {
   "cell_type": "code",
   "execution_count": 70,
   "metadata": {},
   "outputs": [
    {
     "name": "stdout",
     "output_type": "stream",
     "text": [
      "{'criterion': 'mse', 'max_depth': 3, 'min_samples_leaf': 3, 'min_samples_split': 8, 'random_state': 42}\n"
     ]
    }
   ],
   "source": [
    "best_params_ = gsm.best_params_\n",
    "print(gsm.best_params_)"
   ]
  },
  {
   "cell_type": "code",
   "execution_count": 71,
   "metadata": {},
   "outputs": [],
   "source": [
    "yhat_dt = gsm.predict(X_test)"
   ]
  },
  {
   "cell_type": "code",
   "execution_count": 72,
   "metadata": {},
   "outputs": [
    {
     "data": {
      "text/plain": [
       "array([122891.56273052, 122891.56273052, 122891.56273052])"
      ]
     },
     "execution_count": 72,
     "metadata": {},
     "output_type": "execute_result"
    }
   ],
   "source": [
    "yhat_dt"
   ]
  },
  {
   "cell_type": "code",
   "execution_count": 73,
   "metadata": {},
   "outputs": [
    {
     "name": "stdout",
     "output_type": "stream",
     "text": [
      "MAPE: 36.58079741452237\n"
     ]
    }
   ],
   "source": [
    "print(\"MAPE:\", mean_absolute_percentage_error(np.array(y_test), yhat_dt))"
   ]
  },
  {
   "cell_type": "code",
   "execution_count": null,
   "metadata": {},
   "outputs": [],
   "source": []
  },
  {
   "cell_type": "code",
   "execution_count": null,
   "metadata": {},
   "outputs": [],
   "source": []
  },
  {
   "cell_type": "code",
   "execution_count": null,
   "metadata": {},
   "outputs": [],
   "source": []
  },
  {
   "cell_type": "code",
   "execution_count": null,
   "metadata": {},
   "outputs": [],
   "source": []
  },
  {
   "cell_type": "markdown",
   "metadata": {},
   "source": [
    "---\n",
    "# Random Forest Regressor\n",
    "---"
   ]
  },
  {
   "cell_type": "code",
   "execution_count": 74,
   "metadata": {},
   "outputs": [
    {
     "name": "stdout",
     "output_type": "stream",
     "text": [
      "Fitting 5 folds for each of 128 candidates, totalling 640 fits\n"
     ]
    },
    {
     "name": "stderr",
     "output_type": "stream",
     "text": [
      "[Parallel(n_jobs=-1)]: Using backend LokyBackend with 8 concurrent workers.\n",
      "[Parallel(n_jobs=-1)]: Done  25 tasks      | elapsed:    2.2s\n",
      "[Parallel(n_jobs=-1)]: Done 146 tasks      | elapsed:   11.1s\n",
      "[Parallel(n_jobs=-1)]: Done 349 tasks      | elapsed:   26.8s\n",
      "[Parallel(n_jobs=-1)]: Done 640 out of 640 | elapsed:   48.9s finished\n"
     ]
    },
    {
     "data": {
      "text/plain": [
       "GridSearchCV(cv=5, estimator=RandomForestRegressor(), n_jobs=-1,\n",
       "             param_grid={'criterion': ['mse', 'mae'], 'max_depth': [3, 4, 5, 6],\n",
       "                         'min_samples_leaf': [3, 4, 5, 6],\n",
       "                         'min_samples_split': [3, 4, 5, 6],\n",
       "                         'random_state': [42]},\n",
       "             scoring='neg_mean_absolute_error', verbose=2)"
      ]
     },
     "execution_count": 74,
     "metadata": {},
     "output_type": "execute_result"
    }
   ],
   "source": [
    "#GridSearch to determine best parameters\n",
    "\n",
    "param_grid = {'criterion':['mse', 'mae'],\n",
    "              'max_depth': [i for i in range(3, 7)],\n",
    "              'min_samples_leaf': [i for i in range(3, 7)],\n",
    "              'min_samples_split': [i for i in range(3, 7)],\n",
    "              'random_state': [42]}\n",
    "\n",
    "gsm = GridSearchCV(RandomForestRegressor(),\n",
    "                  param_grid=param_grid,\n",
    "                  cv=5,\n",
    "                  n_jobs=-1,\n",
    "                  verbose=2,\n",
    "                  refit=True,\n",
    "                  scoring='neg_mean_absolute_error')\n",
    "\n",
    "#gsm = DecisionTreeRegressor(random_state=42)\n",
    "\n",
    "gsm.fit(X_train, y_train)"
   ]
  },
  {
   "cell_type": "code",
   "execution_count": 75,
   "metadata": {},
   "outputs": [
    {
     "name": "stdout",
     "output_type": "stream",
     "text": [
      "{'criterion': 'mse', 'max_depth': 3, 'min_samples_leaf': 3, 'min_samples_split': 3, 'random_state': 42}\n"
     ]
    }
   ],
   "source": [
    "best_params_ = gsm.best_params_\n",
    "print(gsm.best_params_)"
   ]
  },
  {
   "cell_type": "code",
   "execution_count": 76,
   "metadata": {},
   "outputs": [],
   "source": [
    "yhat_rf = gsm.predict(X_test)"
   ]
  },
  {
   "cell_type": "code",
   "execution_count": 77,
   "metadata": {},
   "outputs": [
    {
     "data": {
      "text/plain": [
       "array([120209.47825571, 119089.44625571, 119089.44625571])"
      ]
     },
     "execution_count": 77,
     "metadata": {},
     "output_type": "execute_result"
    }
   ],
   "source": [
    "yhat_rf"
   ]
  },
  {
   "cell_type": "code",
   "execution_count": 78,
   "metadata": {},
   "outputs": [
    {
     "name": "stdout",
     "output_type": "stream",
     "text": [
      "MAPE: 38.350243675664395\n"
     ]
    }
   ],
   "source": [
    "print(\"MAPE:\", mean_absolute_percentage_error(np.array(y_test), yhat_rf))"
   ]
  },
  {
   "cell_type": "code",
   "execution_count": null,
   "metadata": {},
   "outputs": [],
   "source": []
  },
  {
   "cell_type": "markdown",
   "metadata": {},
   "source": [
    "---\n",
    "# Gradient Boosting Regressor\n",
    "---"
   ]
  },
  {
   "cell_type": "code",
   "execution_count": 79,
   "metadata": {},
   "outputs": [
    {
     "name": "stdout",
     "output_type": "stream",
     "text": [
      "Fitting 5 folds for each of 432 candidates, totalling 2160 fits\n"
     ]
    },
    {
     "name": "stderr",
     "output_type": "stream",
     "text": [
      "[Parallel(n_jobs=-1)]: Using backend LokyBackend with 8 concurrent workers.\n",
      "[Parallel(n_jobs=-1)]: Done  34 tasks      | elapsed:    0.3s\n",
      "[Parallel(n_jobs=-1)]: Done 504 tasks      | elapsed:    4.7s\n",
      "[Parallel(n_jobs=-1)]: Done 1316 tasks      | elapsed:   13.4s\n",
      "[Parallel(n_jobs=-1)]: Done 2160 out of 2160 | elapsed:   20.8s finished\n"
     ]
    },
    {
     "data": {
      "text/plain": [
       "GridSearchCV(cv=5, estimator=GradientBoostingRegressor(), n_jobs=-1,\n",
       "             param_grid={'criterion': ['friedman_mse', 'mae'],\n",
       "                         'learning_rate': [0.1, 0.15, 0.2], 'max_depth': [3, 5],\n",
       "                         'max_features': ['log2', 'sqrt'],\n",
       "                         'min_samples_leaf': array([0.1, 0.3, 0.5]),\n",
       "                         'min_samples_split': array([0.1, 0.3, 0.5]),\n",
       "                         'n_estimators': [10], 'subsample': [0.5, 1.0]},\n",
       "             scoring='neg_mean_absolute_error', verbose=2)"
      ]
     },
     "execution_count": 79,
     "metadata": {},
     "output_type": "execute_result"
    }
   ],
   "source": [
    "gradient_boosting_parameters = {\n",
    "    \"learning_rate\": [0.1, 0.15, 0.2],\n",
    "    \"min_samples_split\": np.linspace(0.1, 0.5, 3),\n",
    "    \"min_samples_leaf\": np.linspace(0.1, 0.5, 3),\n",
    "    \"max_depth\":[3,5],\n",
    "    \"max_features\":[\"log2\",\"sqrt\"],\n",
    "    \"criterion\": [\"friedman_mse\",  \"mae\"],\n",
    "    \"subsample\":[0.5, 1.0],\n",
    "    \"n_estimators\":[10]\n",
    "    }\n",
    "\n",
    "gsm = GridSearchCV(GradientBoostingRegressor(), \n",
    "                   param_grid=gradient_boosting_parameters, \n",
    "                   cv=5, \n",
    "                   n_jobs=-1, \n",
    "                   verbose=2, \n",
    "                   scoring='neg_mean_absolute_error')\n",
    "\n",
    "gsm.fit(X_train, y_train)"
   ]
  },
  {
   "cell_type": "code",
   "execution_count": 80,
   "metadata": {},
   "outputs": [
    {
     "name": "stdout",
     "output_type": "stream",
     "text": [
      "{'criterion': 'friedman_mse', 'learning_rate': 0.2, 'max_depth': 5, 'max_features': 'log2', 'min_samples_leaf': 0.1, 'min_samples_split': 0.5, 'n_estimators': 10, 'subsample': 1.0}\n"
     ]
    }
   ],
   "source": [
    "best_params_ = gsm.best_params_\n",
    "print(gsm.best_params_)"
   ]
  },
  {
   "cell_type": "code",
   "execution_count": 81,
   "metadata": {},
   "outputs": [],
   "source": [
    "yhat_gb = gsm.predict(X_test)"
   ]
  },
  {
   "cell_type": "code",
   "execution_count": 82,
   "metadata": {},
   "outputs": [
    {
     "data": {
      "text/plain": [
       "array([146229.48211061, 124213.84502498, 124213.84502498])"
      ]
     },
     "execution_count": 82,
     "metadata": {},
     "output_type": "execute_result"
    }
   ],
   "source": [
    "yhat_gb"
   ]
  },
  {
   "cell_type": "code",
   "execution_count": 83,
   "metadata": {},
   "outputs": [
    {
     "name": "stdout",
     "output_type": "stream",
     "text": [
      "MAPE: 32.111305834864815\n"
     ]
    }
   ],
   "source": [
    "print(\"MAPE:\", mean_absolute_percentage_error(np.array(y_test), yhat_gb))"
   ]
  },
  {
   "cell_type": "code",
   "execution_count": null,
   "metadata": {},
   "outputs": [],
   "source": []
  }
 ],
 "metadata": {
  "kernelspec": {
   "display_name": "Python 3",
   "language": "python",
   "name": "python3"
  },
  "language_info": {
   "codemirror_mode": {
    "name": "ipython",
    "version": 3
   },
   "file_extension": ".py",
   "mimetype": "text/x-python",
   "name": "python",
   "nbconvert_exporter": "python",
   "pygments_lexer": "ipython3",
   "version": "3.8.5"
  }
 },
 "nbformat": 4,
 "nbformat_minor": 4
}
