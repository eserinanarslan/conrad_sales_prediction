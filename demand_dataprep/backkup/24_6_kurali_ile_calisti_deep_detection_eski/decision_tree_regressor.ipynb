{
 "cells": [
  {
   "cell_type": "code",
   "execution_count": 1,
   "metadata": {},
   "outputs": [],
   "source": [
    "%matplotlib inline\n",
    "\n",
    "\n",
    "import numpy as np\n",
    "import pandas as pd\n",
    "from datetime import datetime\n",
    "\n",
    "\n",
    "import matplotlib.pyplot as plt\n",
    "import seaborn as sns\n",
    "\n",
    "\n",
    "from sklearn import linear_model\n",
    "from sklearn.tree import DecisionTreeRegressor, export_graphviz\n",
    "\n",
    "\n",
    "from sklearn.pipeline import make_pipeline\n",
    "from sklearn.datasets import make_classification\n",
    "\n",
    "\n",
    "from sklearn.metrics import mean_squared_error, mean_absolute_error, mean_squared_log_error, make_scorer\n",
    "from sklearn.model_selection import train_test_split, validation_curve, GridSearchCV"
   ]
  },
  {
   "cell_type": "code",
   "execution_count": 2,
   "metadata": {},
   "outputs": [],
   "source": [
    "import warnings\n",
    "warnings.filterwarnings('ignore')"
   ]
  },
  {
   "cell_type": "code",
   "execution_count": 3,
   "metadata": {},
   "outputs": [],
   "source": [
    "def reduce_mem_usage(df, verbose=True):\n",
    "    numerics = ['int16', 'int32', 'int64', 'float16', 'float32', 'float64']\n",
    "    start_mem = df.memory_usage().sum() / 1024**2    \n",
    "    for col in df.columns:\n",
    "        col_type = df[col].dtypes\n",
    "        if col_type in numerics:\n",
    "            c_min = df[col].min()\n",
    "            c_max = df[col].max()\n",
    "            if str(col_type)[:3] == 'int':\n",
    "                if c_min > np.iinfo(np.int8).min and c_max < np.iinfo(np.int8).max:\n",
    "                    df[col] = df[col].astype(np.int8)\n",
    "                elif c_min > np.iinfo(np.int16).min and c_max < np.iinfo(np.int16).max:\n",
    "                    df[col] = df[col].astype(np.int16)\n",
    "                elif c_min > np.iinfo(np.int32).min and c_max < np.iinfo(np.int32).max:\n",
    "                    df[col] = df[col].astype(np.int32)\n",
    "                elif c_min > np.iinfo(np.int64).min and c_max < np.iinfo(np.int64).max:\n",
    "                    df[col] = df[col].astype(np.int64)  \n",
    "            else:\n",
    "                if c_min > np.finfo(np.float16).min and c_max < np.finfo(np.float16).max:\n",
    "                    df[col] = df[col].astype(np.float16)\n",
    "                elif c_min > np.finfo(np.float32).min and c_max < np.finfo(np.float32).max:\n",
    "                    df[col] = df[col].astype(np.float32)\n",
    "                else:\n",
    "                    df[col] = df[col].astype(np.float64)    \n",
    "    end_mem = df.memory_usage().sum() / 1024**2\n",
    "    if verbose: print('Mem. usage decreased to {:5.2f} Mb ({:.1f}% reduction)'.format(end_mem, 100 * (start_mem - end_mem) / start_mem))\n",
    "    return df"
   ]
  },
  {
   "cell_type": "code",
   "execution_count": 4,
   "metadata": {},
   "outputs": [],
   "source": [
    "# Load Train dataset\n",
    "df = pd.read_excel(\"../data/_pasifik_sales_portfoy.xlsx\")"
   ]
  },
  {
   "cell_type": "code",
   "execution_count": 5,
   "metadata": {},
   "outputs": [
    {
     "name": "stdout",
     "output_type": "stream",
     "text": [
      "Mem. usage decreased to  5.84 Mb (62.2% reduction)\n"
     ]
    },
    {
     "data": {
      "text/html": [
       "<div>\n",
       "<style scoped>\n",
       "    .dataframe tbody tr th:only-of-type {\n",
       "        vertical-align: middle;\n",
       "    }\n",
       "\n",
       "    .dataframe tbody tr th {\n",
       "        vertical-align: top;\n",
       "    }\n",
       "\n",
       "    .dataframe thead th {\n",
       "        text-align: right;\n",
       "    }\n",
       "</style>\n",
       "<table border=\"1\" class=\"dataframe\">\n",
       "  <thead>\n",
       "    <tr style=\"text-align: right;\">\n",
       "      <th></th>\n",
       "      <th>yil</th>\n",
       "      <th>ay</th>\n",
       "      <th>grup_adi</th>\n",
       "      <th>ana_kategori_adi</th>\n",
       "      <th>kategori_adi</th>\n",
       "      <th>marka_adi</th>\n",
       "      <th>urun_adi</th>\n",
       "      <th>en_guncel_kod</th>\n",
       "      <th>koli_i̇ci_adet</th>\n",
       "      <th>koli</th>\n",
       "      <th>...</th>\n",
       "      <th>lockdown</th>\n",
       "      <th>satis_var</th>\n",
       "      <th>fiyat</th>\n",
       "      <th>fiyat_gecisi</th>\n",
       "      <th>raf_tavsiye_satis_fiyati</th>\n",
       "      <th>i̇ndirimli_raf_satis_fiyati</th>\n",
       "      <th>aktivite_tipi</th>\n",
       "      <th>indirim__</th>\n",
       "      <th>enflasyon_etkisi</th>\n",
       "      <th>yarisma</th>\n",
       "    </tr>\n",
       "  </thead>\n",
       "  <tbody>\n",
       "    <tr>\n",
       "      <th>0</th>\n",
       "      <td>2017</td>\n",
       "      <td>3</td>\n",
       "      <td>Diğer_Pasifik</td>\n",
       "      <td>ATIŞTIRMALIK</td>\n",
       "      <td>ÇİKOLATA</td>\n",
       "      <td>ÜLKER</td>\n",
       "      <td>ULK KARE ÇİK.ANT.FIST.70Gx6x36 STAND</td>\n",
       "      <td>153204</td>\n",
       "      <td>216</td>\n",
       "      <td>144.0</td>\n",
       "      <td>...</td>\n",
       "      <td>0</td>\n",
       "      <td>1</td>\n",
       "      <td>639.500000</td>\n",
       "      <td>0.0</td>\n",
       "      <td>NaN</td>\n",
       "      <td>NaN</td>\n",
       "      <td>NaN</td>\n",
       "      <td>NaN</td>\n",
       "      <td>11.289062</td>\n",
       "      <td>0</td>\n",
       "    </tr>\n",
       "    <tr>\n",
       "      <th>1</th>\n",
       "      <td>2017</td>\n",
       "      <td>4</td>\n",
       "      <td>Diğer_Pasifik</td>\n",
       "      <td>ATIŞTIRMALIK</td>\n",
       "      <td>ÇİKOLATA</td>\n",
       "      <td>ÜLKER</td>\n",
       "      <td>ULK KARE ÇİK.ANT.FIST.70Gx6x36 STAND</td>\n",
       "      <td>153204</td>\n",
       "      <td>216</td>\n",
       "      <td>182.0</td>\n",
       "      <td>...</td>\n",
       "      <td>0</td>\n",
       "      <td>1</td>\n",
       "      <td>677.500000</td>\n",
       "      <td>1.0</td>\n",
       "      <td>NaN</td>\n",
       "      <td>NaN</td>\n",
       "      <td>NaN</td>\n",
       "      <td>NaN</td>\n",
       "      <td>11.867188</td>\n",
       "      <td>0</td>\n",
       "    </tr>\n",
       "    <tr>\n",
       "      <th>2</th>\n",
       "      <td>2017</td>\n",
       "      <td>5</td>\n",
       "      <td>Diğer_Pasifik</td>\n",
       "      <td>ATIŞTIRMALIK</td>\n",
       "      <td>ÇİKOLATA</td>\n",
       "      <td>ÜLKER</td>\n",
       "      <td>ULK KARE ÇİK.ANT.FIST.70Gx6x36 STAND</td>\n",
       "      <td>153204</td>\n",
       "      <td>216</td>\n",
       "      <td>18.0</td>\n",
       "      <td>...</td>\n",
       "      <td>0</td>\n",
       "      <td>1</td>\n",
       "      <td>680.500000</td>\n",
       "      <td>0.0</td>\n",
       "      <td>NaN</td>\n",
       "      <td>NaN</td>\n",
       "      <td>NaN</td>\n",
       "      <td>NaN</td>\n",
       "      <td>11.718750</td>\n",
       "      <td>0</td>\n",
       "    </tr>\n",
       "    <tr>\n",
       "      <th>3</th>\n",
       "      <td>2017</td>\n",
       "      <td>6</td>\n",
       "      <td>Diğer_Pasifik</td>\n",
       "      <td>ATIŞTIRMALIK</td>\n",
       "      <td>ÇİKOLATA</td>\n",
       "      <td>ÜLKER</td>\n",
       "      <td>ULK KARE ÇİK.ANT.FIST.70Gx6x36 STAND</td>\n",
       "      <td>153204</td>\n",
       "      <td>216</td>\n",
       "      <td>47.0</td>\n",
       "      <td>...</td>\n",
       "      <td>0</td>\n",
       "      <td>1</td>\n",
       "      <td>680.500000</td>\n",
       "      <td>0.0</td>\n",
       "      <td>NaN</td>\n",
       "      <td>NaN</td>\n",
       "      <td>NaN</td>\n",
       "      <td>NaN</td>\n",
       "      <td>10.898438</td>\n",
       "      <td>0</td>\n",
       "    </tr>\n",
       "    <tr>\n",
       "      <th>4</th>\n",
       "      <td>2017</td>\n",
       "      <td>7</td>\n",
       "      <td>Diğer_Pasifik</td>\n",
       "      <td>ATIŞTIRMALIK</td>\n",
       "      <td>ÇİKOLATA</td>\n",
       "      <td>ÜLKER</td>\n",
       "      <td>ULK KARE ÇİK.ANT.FIST.70Gx6x36 STAND</td>\n",
       "      <td>153204</td>\n",
       "      <td>216</td>\n",
       "      <td>8.0</td>\n",
       "      <td>...</td>\n",
       "      <td>0</td>\n",
       "      <td>1</td>\n",
       "      <td>680.500000</td>\n",
       "      <td>1.0</td>\n",
       "      <td>NaN</td>\n",
       "      <td>NaN</td>\n",
       "      <td>NaN</td>\n",
       "      <td>NaN</td>\n",
       "      <td>9.789062</td>\n",
       "      <td>0</td>\n",
       "    </tr>\n",
       "    <tr>\n",
       "      <th>49389</th>\n",
       "      <td>2020</td>\n",
       "      <td>11</td>\n",
       "      <td>Diğer_Pasifik</td>\n",
       "      <td>ATIŞTIRMALIK</td>\n",
       "      <td>BİSKÜVİ</td>\n",
       "      <td>ÜLKER BEBE</td>\n",
       "      <td>ULK BEBE TAHILLI PROMO 30Gx20</td>\n",
       "      <td>3606</td>\n",
       "      <td>20</td>\n",
       "      <td>3500.0</td>\n",
       "      <td>...</td>\n",
       "      <td>0</td>\n",
       "      <td>1</td>\n",
       "      <td>8.601562</td>\n",
       "      <td>0.0</td>\n",
       "      <td>NaN</td>\n",
       "      <td>NaN</td>\n",
       "      <td>NaN</td>\n",
       "      <td>NaN</td>\n",
       "      <td>14.031250</td>\n",
       "      <td>0</td>\n",
       "    </tr>\n",
       "    <tr>\n",
       "      <th>49390</th>\n",
       "      <td>2020</td>\n",
       "      <td>12</td>\n",
       "      <td>Diğer_Pasifik</td>\n",
       "      <td>ATIŞTIRMALIK</td>\n",
       "      <td>BİSKÜVİ</td>\n",
       "      <td>ÜLKER BEBE</td>\n",
       "      <td>ULK BEBE TAHILLI PROMO 30Gx20</td>\n",
       "      <td>3606</td>\n",
       "      <td>0</td>\n",
       "      <td>0.0</td>\n",
       "      <td>...</td>\n",
       "      <td>0</td>\n",
       "      <td>0</td>\n",
       "      <td>NaN</td>\n",
       "      <td>NaN</td>\n",
       "      <td>NaN</td>\n",
       "      <td>NaN</td>\n",
       "      <td>NaN</td>\n",
       "      <td>NaN</td>\n",
       "      <td>14.601562</td>\n",
       "      <td>0</td>\n",
       "    </tr>\n",
       "    <tr>\n",
       "      <th>49391</th>\n",
       "      <td>2021</td>\n",
       "      <td>1</td>\n",
       "      <td>Diğer_Pasifik</td>\n",
       "      <td>ATIŞTIRMALIK</td>\n",
       "      <td>BİSKÜVİ</td>\n",
       "      <td>ÜLKER BEBE</td>\n",
       "      <td>ULK BEBE TAHILLI PROMO 30Gx20</td>\n",
       "      <td>3606</td>\n",
       "      <td>0</td>\n",
       "      <td>0.0</td>\n",
       "      <td>...</td>\n",
       "      <td>0</td>\n",
       "      <td>0</td>\n",
       "      <td>NaN</td>\n",
       "      <td>NaN</td>\n",
       "      <td>NaN</td>\n",
       "      <td>NaN</td>\n",
       "      <td>NaN</td>\n",
       "      <td>NaN</td>\n",
       "      <td>14.968750</td>\n",
       "      <td>0</td>\n",
       "    </tr>\n",
       "    <tr>\n",
       "      <th>49392</th>\n",
       "      <td>2021</td>\n",
       "      <td>2</td>\n",
       "      <td>Diğer_Pasifik</td>\n",
       "      <td>ATIŞTIRMALIK</td>\n",
       "      <td>BİSKÜVİ</td>\n",
       "      <td>ÜLKER BEBE</td>\n",
       "      <td>ULK BEBE TAHILLI PROMO 30Gx20</td>\n",
       "      <td>3606</td>\n",
       "      <td>0</td>\n",
       "      <td>0.0</td>\n",
       "      <td>...</td>\n",
       "      <td>0</td>\n",
       "      <td>0</td>\n",
       "      <td>NaN</td>\n",
       "      <td>NaN</td>\n",
       "      <td>NaN</td>\n",
       "      <td>NaN</td>\n",
       "      <td>NaN</td>\n",
       "      <td>NaN</td>\n",
       "      <td>15.609375</td>\n",
       "      <td>0</td>\n",
       "    </tr>\n",
       "    <tr>\n",
       "      <th>49393</th>\n",
       "      <td>2021</td>\n",
       "      <td>3</td>\n",
       "      <td>Diğer_Pasifik</td>\n",
       "      <td>ATIŞTIRMALIK</td>\n",
       "      <td>BİSKÜVİ</td>\n",
       "      <td>ÜLKER BEBE</td>\n",
       "      <td>ULK BEBE TAHILLI PROMO 30Gx20</td>\n",
       "      <td>3606</td>\n",
       "      <td>0</td>\n",
       "      <td>0.0</td>\n",
       "      <td>...</td>\n",
       "      <td>0</td>\n",
       "      <td>0</td>\n",
       "      <td>NaN</td>\n",
       "      <td>NaN</td>\n",
       "      <td>NaN</td>\n",
       "      <td>NaN</td>\n",
       "      <td>NaN</td>\n",
       "      <td>NaN</td>\n",
       "      <td>16.187500</td>\n",
       "      <td>0</td>\n",
       "    </tr>\n",
       "  </tbody>\n",
       "</table>\n",
       "<p>10 rows × 41 columns</p>\n",
       "</div>"
      ],
      "text/plain": [
       "        yil  ay       grup_adi ana_kategori_adi kategori_adi   marka_adi  \\\n",
       "0      2017   3  Diğer_Pasifik     ATIŞTIRMALIK     ÇİKOLATA       ÜLKER   \n",
       "1      2017   4  Diğer_Pasifik     ATIŞTIRMALIK     ÇİKOLATA       ÜLKER   \n",
       "2      2017   5  Diğer_Pasifik     ATIŞTIRMALIK     ÇİKOLATA       ÜLKER   \n",
       "3      2017   6  Diğer_Pasifik     ATIŞTIRMALIK     ÇİKOLATA       ÜLKER   \n",
       "4      2017   7  Diğer_Pasifik     ATIŞTIRMALIK     ÇİKOLATA       ÜLKER   \n",
       "49389  2020  11  Diğer_Pasifik     ATIŞTIRMALIK      BİSKÜVİ  ÜLKER BEBE   \n",
       "49390  2020  12  Diğer_Pasifik     ATIŞTIRMALIK      BİSKÜVİ  ÜLKER BEBE   \n",
       "49391  2021   1  Diğer_Pasifik     ATIŞTIRMALIK      BİSKÜVİ  ÜLKER BEBE   \n",
       "49392  2021   2  Diğer_Pasifik     ATIŞTIRMALIK      BİSKÜVİ  ÜLKER BEBE   \n",
       "49393  2021   3  Diğer_Pasifik     ATIŞTIRMALIK      BİSKÜVİ  ÜLKER BEBE   \n",
       "\n",
       "                                   urun_adi  en_guncel_kod  koli_i̇ci_adet  \\\n",
       "0      ULK KARE ÇİK.ANT.FIST.70Gx6x36 STAND         153204             216   \n",
       "1      ULK KARE ÇİK.ANT.FIST.70Gx6x36 STAND         153204             216   \n",
       "2      ULK KARE ÇİK.ANT.FIST.70Gx6x36 STAND         153204             216   \n",
       "3      ULK KARE ÇİK.ANT.FIST.70Gx6x36 STAND         153204             216   \n",
       "4      ULK KARE ÇİK.ANT.FIST.70Gx6x36 STAND         153204             216   \n",
       "49389         ULK BEBE TAHILLI PROMO 30Gx20           3606              20   \n",
       "49390         ULK BEBE TAHILLI PROMO 30Gx20           3606               0   \n",
       "49391         ULK BEBE TAHILLI PROMO 30Gx20           3606               0   \n",
       "49392         ULK BEBE TAHILLI PROMO 30Gx20           3606               0   \n",
       "49393         ULK BEBE TAHILLI PROMO 30Gx20           3606               0   \n",
       "\n",
       "         koli  ...  lockdown  satis_var       fiyat fiyat_gecisi  \\\n",
       "0       144.0  ...         0          1  639.500000          0.0   \n",
       "1       182.0  ...         0          1  677.500000          1.0   \n",
       "2        18.0  ...         0          1  680.500000          0.0   \n",
       "3        47.0  ...         0          1  680.500000          0.0   \n",
       "4         8.0  ...         0          1  680.500000          1.0   \n",
       "49389  3500.0  ...         0          1    8.601562          0.0   \n",
       "49390     0.0  ...         0          0         NaN          NaN   \n",
       "49391     0.0  ...         0          0         NaN          NaN   \n",
       "49392     0.0  ...         0          0         NaN          NaN   \n",
       "49393     0.0  ...         0          0         NaN          NaN   \n",
       "\n",
       "       raf_tavsiye_satis_fiyati  i̇ndirimli_raf_satis_fiyati  aktivite_tipi  \\\n",
       "0                           NaN                          NaN            NaN   \n",
       "1                           NaN                          NaN            NaN   \n",
       "2                           NaN                          NaN            NaN   \n",
       "3                           NaN                          NaN            NaN   \n",
       "4                           NaN                          NaN            NaN   \n",
       "49389                       NaN                          NaN            NaN   \n",
       "49390                       NaN                          NaN            NaN   \n",
       "49391                       NaN                          NaN            NaN   \n",
       "49392                       NaN                          NaN            NaN   \n",
       "49393                       NaN                          NaN            NaN   \n",
       "\n",
       "       indirim__  enflasyon_etkisi  yarisma  \n",
       "0            NaN         11.289062        0  \n",
       "1            NaN         11.867188        0  \n",
       "2            NaN         11.718750        0  \n",
       "3            NaN         10.898438        0  \n",
       "4            NaN          9.789062        0  \n",
       "49389        NaN         14.031250        0  \n",
       "49390        NaN         14.601562        0  \n",
       "49391        NaN         14.968750        0  \n",
       "49392        NaN         15.609375        0  \n",
       "49393        NaN         16.187500        0  \n",
       "\n",
       "[10 rows x 41 columns]"
      ]
     },
     "execution_count": 5,
     "metadata": {},
     "output_type": "execute_result"
    }
   ],
   "source": [
    "df = reduce_mem_usage(df)\n",
    "df.head(5).append(df.tail(5))"
   ]
  },
  {
   "cell_type": "code",
   "execution_count": 6,
   "metadata": {},
   "outputs": [
    {
     "data": {
      "text/plain": [
       "(49394, 41)"
      ]
     },
     "execution_count": 6,
     "metadata": {},
     "output_type": "execute_result"
    }
   ],
   "source": [
    "df.shape"
   ]
  },
  {
   "cell_type": "code",
   "execution_count": 7,
   "metadata": {},
   "outputs": [],
   "source": [
    "def mean_absolute_percentage_error(y_true, y_pred): \n",
    "    return np.mean(np.abs((y_true - y_pred) / y_true)) * 100\n",
    "def root_mean_squared_error(y_true, y_pred):\n",
    "    return np.sqrt(mean_squared_error(y_true, y_pred))"
   ]
  },
  {
   "cell_type": "code",
   "execution_count": 11,
   "metadata": {},
   "outputs": [
    {
     "data": {
      "image/png": "[encoded data removed]",
      "text/plain": [
       "<Figure size 1152x432 with 2 Axes>"
      ]
     },
     "metadata": {
      "needs_background": "light"
     },
     "output_type": "display_data"
    }
   ],
   "source": [
    "heatmap_corr(df.corr(),threshold=0.2)"
   ]
  },
  {
   "cell_type": "code",
   "execution_count": 30,
   "metadata": {},
   "outputs": [],
   "source": [
    "train = df.copy()"
   ]
  },
  {
   "cell_type": "code",
   "execution_count": 31,
   "metadata": {},
   "outputs": [
    {
     "data": {
      "text/html": [
       "<div>\n",
       "<style scoped>\n",
       "    .dataframe tbody tr th:only-of-type {\n",
       "        vertical-align: middle;\n",
       "    }\n",
       "\n",
       "    .dataframe tbody tr th {\n",
       "        vertical-align: top;\n",
       "    }\n",
       "\n",
       "    .dataframe thead th {\n",
       "        text-align: right;\n",
       "    }\n",
       "</style>\n",
       "<table border=\"1\" class=\"dataframe\">\n",
       "  <thead>\n",
       "    <tr style=\"text-align: right;\">\n",
       "      <th></th>\n",
       "      <th>yil</th>\n",
       "      <th>ay</th>\n",
       "      <th>grup_adi</th>\n",
       "      <th>ana_kategori_adi</th>\n",
       "      <th>kategori_adi</th>\n",
       "      <th>marka_adi</th>\n",
       "      <th>urun_adi</th>\n",
       "      <th>en_guncel_kod</th>\n",
       "      <th>koli_i̇ci_adet</th>\n",
       "      <th>koli</th>\n",
       "      <th>...</th>\n",
       "      <th>lockdown</th>\n",
       "      <th>satis_var</th>\n",
       "      <th>fiyat</th>\n",
       "      <th>fiyat_gecisi</th>\n",
       "      <th>raf_tavsiye_satis_fiyati</th>\n",
       "      <th>i̇ndirimli_raf_satis_fiyati</th>\n",
       "      <th>aktivite_tipi</th>\n",
       "      <th>indirim__</th>\n",
       "      <th>enflasyon_etkisi</th>\n",
       "      <th>yarisma</th>\n",
       "    </tr>\n",
       "  </thead>\n",
       "  <tbody>\n",
       "    <tr>\n",
       "      <th>0</th>\n",
       "      <td>2017</td>\n",
       "      <td>3</td>\n",
       "      <td>Diğer_Pasifik</td>\n",
       "      <td>ATIŞTIRMALIK</td>\n",
       "      <td>ÇİKOLATA</td>\n",
       "      <td>ÜLKER</td>\n",
       "      <td>ULK KARE ÇİK.ANT.FIST.70Gx6x36 STAND</td>\n",
       "      <td>153204</td>\n",
       "      <td>216</td>\n",
       "      <td>144.0</td>\n",
       "      <td>...</td>\n",
       "      <td>0</td>\n",
       "      <td>1</td>\n",
       "      <td>639.5</td>\n",
       "      <td>0.0</td>\n",
       "      <td>NaN</td>\n",
       "      <td>NaN</td>\n",
       "      <td>NaN</td>\n",
       "      <td>NaN</td>\n",
       "      <td>11.289062</td>\n",
       "      <td>0</td>\n",
       "    </tr>\n",
       "    <tr>\n",
       "      <th>1</th>\n",
       "      <td>2017</td>\n",
       "      <td>4</td>\n",
       "      <td>Diğer_Pasifik</td>\n",
       "      <td>ATIŞTIRMALIK</td>\n",
       "      <td>ÇİKOLATA</td>\n",
       "      <td>ÜLKER</td>\n",
       "      <td>ULK KARE ÇİK.ANT.FIST.70Gx6x36 STAND</td>\n",
       "      <td>153204</td>\n",
       "      <td>216</td>\n",
       "      <td>182.0</td>\n",
       "      <td>...</td>\n",
       "      <td>0</td>\n",
       "      <td>1</td>\n",
       "      <td>677.5</td>\n",
       "      <td>1.0</td>\n",
       "      <td>NaN</td>\n",
       "      <td>NaN</td>\n",
       "      <td>NaN</td>\n",
       "      <td>NaN</td>\n",
       "      <td>11.867188</td>\n",
       "      <td>0</td>\n",
       "    </tr>\n",
       "    <tr>\n",
       "      <th>2</th>\n",
       "      <td>2017</td>\n",
       "      <td>5</td>\n",
       "      <td>Diğer_Pasifik</td>\n",
       "      <td>ATIŞTIRMALIK</td>\n",
       "      <td>ÇİKOLATA</td>\n",
       "      <td>ÜLKER</td>\n",
       "      <td>ULK KARE ÇİK.ANT.FIST.70Gx6x36 STAND</td>\n",
       "      <td>153204</td>\n",
       "      <td>216</td>\n",
       "      <td>18.0</td>\n",
       "      <td>...</td>\n",
       "      <td>0</td>\n",
       "      <td>1</td>\n",
       "      <td>680.5</td>\n",
       "      <td>0.0</td>\n",
       "      <td>NaN</td>\n",
       "      <td>NaN</td>\n",
       "      <td>NaN</td>\n",
       "      <td>NaN</td>\n",
       "      <td>11.718750</td>\n",
       "      <td>0</td>\n",
       "    </tr>\n",
       "    <tr>\n",
       "      <th>3</th>\n",
       "      <td>2017</td>\n",
       "      <td>6</td>\n",
       "      <td>Diğer_Pasifik</td>\n",
       "      <td>ATIŞTIRMALIK</td>\n",
       "      <td>ÇİKOLATA</td>\n",
       "      <td>ÜLKER</td>\n",
       "      <td>ULK KARE ÇİK.ANT.FIST.70Gx6x36 STAND</td>\n",
       "      <td>153204</td>\n",
       "      <td>216</td>\n",
       "      <td>47.0</td>\n",
       "      <td>...</td>\n",
       "      <td>0</td>\n",
       "      <td>1</td>\n",
       "      <td>680.5</td>\n",
       "      <td>0.0</td>\n",
       "      <td>NaN</td>\n",
       "      <td>NaN</td>\n",
       "      <td>NaN</td>\n",
       "      <td>NaN</td>\n",
       "      <td>10.898438</td>\n",
       "      <td>0</td>\n",
       "    </tr>\n",
       "    <tr>\n",
       "      <th>4</th>\n",
       "      <td>2017</td>\n",
       "      <td>7</td>\n",
       "      <td>Diğer_Pasifik</td>\n",
       "      <td>ATIŞTIRMALIK</td>\n",
       "      <td>ÇİKOLATA</td>\n",
       "      <td>ÜLKER</td>\n",
       "      <td>ULK KARE ÇİK.ANT.FIST.70Gx6x36 STAND</td>\n",
       "      <td>153204</td>\n",
       "      <td>216</td>\n",
       "      <td>8.0</td>\n",
       "      <td>...</td>\n",
       "      <td>0</td>\n",
       "      <td>1</td>\n",
       "      <td>680.5</td>\n",
       "      <td>1.0</td>\n",
       "      <td>NaN</td>\n",
       "      <td>NaN</td>\n",
       "      <td>NaN</td>\n",
       "      <td>NaN</td>\n",
       "      <td>9.789062</td>\n",
       "      <td>0</td>\n",
       "    </tr>\n",
       "  </tbody>\n",
       "</table>\n",
       "<p>5 rows × 41 columns</p>\n",
       "</div>"
      ],
      "text/plain": [
       "    yil  ay       grup_adi ana_kategori_adi kategori_adi marka_adi  \\\n",
       "0  2017   3  Diğer_Pasifik     ATIŞTIRMALIK     ÇİKOLATA     ÜLKER   \n",
       "1  2017   4  Diğer_Pasifik     ATIŞTIRMALIK     ÇİKOLATA     ÜLKER   \n",
       "2  2017   5  Diğer_Pasifik     ATIŞTIRMALIK     ÇİKOLATA     ÜLKER   \n",
       "3  2017   6  Diğer_Pasifik     ATIŞTIRMALIK     ÇİKOLATA     ÜLKER   \n",
       "4  2017   7  Diğer_Pasifik     ATIŞTIRMALIK     ÇİKOLATA     ÜLKER   \n",
       "\n",
       "                               urun_adi  en_guncel_kod  koli_i̇ci_adet   koli  \\\n",
       "0  ULK KARE ÇİK.ANT.FIST.70Gx6x36 STAND         153204             216  144.0   \n",
       "1  ULK KARE ÇİK.ANT.FIST.70Gx6x36 STAND         153204             216  182.0   \n",
       "2  ULK KARE ÇİK.ANT.FIST.70Gx6x36 STAND         153204             216   18.0   \n",
       "3  ULK KARE ÇİK.ANT.FIST.70Gx6x36 STAND         153204             216   47.0   \n",
       "4  ULK KARE ÇİK.ANT.FIST.70Gx6x36 STAND         153204             216    8.0   \n",
       "\n",
       "   ...  lockdown  satis_var  fiyat fiyat_gecisi  raf_tavsiye_satis_fiyati  \\\n",
       "0  ...         0          1  639.5          0.0                       NaN   \n",
       "1  ...         0          1  677.5          1.0                       NaN   \n",
       "2  ...         0          1  680.5          0.0                       NaN   \n",
       "3  ...         0          1  680.5          0.0                       NaN   \n",
       "4  ...         0          1  680.5          1.0                       NaN   \n",
       "\n",
       "   i̇ndirimli_raf_satis_fiyati  aktivite_tipi  indirim__  enflasyon_etkisi  \\\n",
       "0                          NaN            NaN        NaN         11.289062   \n",
       "1                          NaN            NaN        NaN         11.867188   \n",
       "2                          NaN            NaN        NaN         11.718750   \n",
       "3                          NaN            NaN        NaN         10.898438   \n",
       "4                          NaN            NaN        NaN          9.789062   \n",
       "\n",
       "   yarisma  \n",
       "0        0  \n",
       "1        0  \n",
       "2        0  \n",
       "3        0  \n",
       "4        0  \n",
       "\n",
       "[5 rows x 41 columns]"
      ]
     },
     "execution_count": 31,
     "metadata": {},
     "output_type": "execute_result"
    }
   ],
   "source": [
    "train2 = train.copy()\n",
    "train2.head()"
   ]
  },
  {
   "cell_type": "code",
   "execution_count": 32,
   "metadata": {},
   "outputs": [
    {
     "data": {
      "text/plain": [
       "(49394, 41)"
      ]
     },
     "execution_count": 32,
     "metadata": {},
     "output_type": "execute_result"
    }
   ],
   "source": [
    "train2.shape"
   ]
  },
  {
   "cell_type": "code",
   "execution_count": 33,
   "metadata": {},
   "outputs": [],
   "source": [
    "train2 = train2[train2[\"portfoy\"] == 1].reset_index(drop=True)"
   ]
  },
  {
   "cell_type": "code",
   "execution_count": 34,
   "metadata": {},
   "outputs": [
    {
     "data": {
      "text/plain": [
       "Index(['yil', 'ay', 'grup_adi', 'ana_kategori_adi', 'kategori_adi',\n",
       "       'marka_adi', 'urun_adi', 'en_guncel_kod', 'koli_i̇ci_adet', 'koli',\n",
       "       'kg', 'tl', 'adet', 'date', 'portfoy', 'no_of_days', 'weekdays_n',\n",
       "       'weekdays_ratio', 'weekend_n', 'weekend_ratio', 'actual_holiday_n',\n",
       "       'actual_holiday_ratio', 'total_holiday_n', 'total_holiday_ratio',\n",
       "       'school_day_n', 'school_day_ratio', 'school_day_brdg_n',\n",
       "       'school_day_brdg_ratio', 'ramadan_n', 'ramadan_ratio', 'pandemic',\n",
       "       'lockdown', 'satis_var', 'fiyat', 'fiyat_gecisi',\n",
       "       'raf_tavsiye_satis_fiyati', 'i̇ndirimli_raf_satis_fiyati',\n",
       "       'aktivite_tipi', 'indirim__', 'enflasyon_etkisi', 'yarisma'],\n",
       "      dtype='object')"
      ]
     },
     "execution_count": 34,
     "metadata": {},
     "output_type": "execute_result"
    }
   ],
   "source": [
    "train2.columns"
   ]
  },
  {
   "cell_type": "code",
   "execution_count": 35,
   "metadata": {},
   "outputs": [],
   "source": [
    "drop_columns = ['koli_i̇ci_adet', 'koli', 'kg', 'tl', 'date', 'weekdays_n',\n",
    "                'weekend_n', 'actual_holiday_n', 'total_holiday_n', 'school_day_n',\n",
    "                'school_day_brdg_n', 'school_day_brdg_ratio', 'ramadan_n', 'raf_tavsiye_satis_fiyati', \n",
    "                'i̇ndirimli_raf_satis_fiyati', 'portfoy', \"yarisma\"]"
   ]
  },
  {
   "cell_type": "code",
   "execution_count": 37,
   "metadata": {},
   "outputs": [
    {
     "data": {
      "text/plain": [
       "(14019, 24)"
      ]
     },
     "execution_count": 37,
     "metadata": {},
     "output_type": "execute_result"
    }
   ],
   "source": [
    "train2 = train2.drop(columns=drop_columns)\n",
    "train2.shape"
   ]
  },
  {
   "cell_type": "code",
   "execution_count": 38,
   "metadata": {},
   "outputs": [
    {
     "data": {
      "text/plain": [
       "Index(['yil', 'ay', 'grup_adi', 'ana_kategori_adi', 'kategori_adi',\n",
       "       'marka_adi', 'urun_adi', 'en_guncel_kod', 'adet', 'no_of_days',\n",
       "       'weekdays_ratio', 'weekend_ratio', 'actual_holiday_ratio',\n",
       "       'total_holiday_ratio', 'school_day_ratio', 'ramadan_ratio', 'pandemic',\n",
       "       'lockdown', 'satis_var', 'fiyat', 'fiyat_gecisi', 'aktivite_tipi',\n",
       "       'indirim__', 'enflasyon_etkisi'],\n",
       "      dtype='object')"
      ]
     },
     "execution_count": 38,
     "metadata": {},
     "output_type": "execute_result"
    }
   ],
   "source": [
    "train2.columns"
   ]
  },
  {
   "cell_type": "code",
   "execution_count": 39,
   "metadata": {},
   "outputs": [
    {
     "name": "stdout",
     "output_type": "stream",
     "text": [
      "count    1.401900e+04\n",
      "mean     2.385099e+05\n",
      "std      6.342901e+05\n",
      "min      1.000000e+00\n",
      "25%      8.400000e+03\n",
      "50%      5.068800e+04\n",
      "75%      1.780050e+05\n",
      "max      1.126094e+07\n",
      "Name: adet, dtype: float64\n"
     ]
    },
    {
     "data": {
      "image/png": "[encoded data removed]",
      "text/plain": [
       "<Figure size 864x648 with 1 Axes>"
      ]
     },
     "metadata": {
      "needs_background": "light"
     },
     "output_type": "display_data"
    }
   ],
   "source": [
    "print(train2['adet'].describe())\n",
    "plt.figure(figsize=(12, 9))\n",
    "sns.distplot(train2['adet'], color='r', bins=70, hist_kws={'alpha': 0.5});"
   ]
  },
  {
   "cell_type": "code",
   "execution_count": 40,
   "metadata": {},
   "outputs": [
    {
     "data": {
      "image/png": "[encoded data removed]",
      "text/plain": [
       "<Figure size 864x432 with 1 Axes>"
      ]
     },
     "metadata": {
      "needs_background": "light"
     },
     "output_type": "display_data"
    }
   ],
   "source": [
    "# Top 10 High Scored House\n",
    "plot = train2.adet.value_counts().nlargest(10).plot(kind='bar', title=\"Top 10 Selling Scores\", figsize=(12,6))"
   ]
  },
  {
   "cell_type": "code",
   "execution_count": 41,
   "metadata": {},
   "outputs": [],
   "source": [
    "# Replace Numpy Nan values with 0 and 'nan'\n",
    "for col in train2[train2.columns]:\n",
    "  train2[col].fillna(value=0, inplace=True)"
   ]
  },
  {
   "cell_type": "code",
   "execution_count": 42,
   "metadata": {},
   "outputs": [],
   "source": [
    "grpd = train2.groupby([\"en_guncel_kod\", \"grup_adi\"]).count().reset_index()"
   ]
  },
  {
   "cell_type": "code",
   "execution_count": 43,
   "metadata": {},
   "outputs": [],
   "source": [
    "non_null = train2[train2[\"adet\"] > 1].reset_index(drop=True)\n",
    "non_null = non_null.groupby([\"en_guncel_kod\", \"grup_adi\"]).count().reset_index()"
   ]
  },
  {
   "cell_type": "code",
   "execution_count": 44,
   "metadata": {},
   "outputs": [
    {
     "data": {
      "text/html": [
       "<div>\n",
       "<style scoped>\n",
       "    .dataframe tbody tr th:only-of-type {\n",
       "        vertical-align: middle;\n",
       "    }\n",
       "\n",
       "    .dataframe tbody tr th {\n",
       "        vertical-align: top;\n",
       "    }\n",
       "\n",
       "    .dataframe thead th {\n",
       "        text-align: right;\n",
       "    }\n",
       "</style>\n",
       "<table border=\"1\" class=\"dataframe\">\n",
       "  <thead>\n",
       "    <tr style=\"text-align: right;\">\n",
       "      <th></th>\n",
       "      <th>en_guncel_kod</th>\n",
       "      <th>grup_adi</th>\n",
       "      <th>yil</th>\n",
       "      <th>ay</th>\n",
       "      <th>ana_kategori_adi</th>\n",
       "      <th>kategori_adi</th>\n",
       "      <th>marka_adi</th>\n",
       "      <th>urun_adi</th>\n",
       "      <th>adet</th>\n",
       "      <th>no_of_days</th>\n",
       "      <th>...</th>\n",
       "      <th>school_day_ratio</th>\n",
       "      <th>ramadan_ratio</th>\n",
       "      <th>pandemic</th>\n",
       "      <th>lockdown</th>\n",
       "      <th>satis_var</th>\n",
       "      <th>fiyat</th>\n",
       "      <th>fiyat_gecisi</th>\n",
       "      <th>aktivite_tipi</th>\n",
       "      <th>indirim__</th>\n",
       "      <th>enflasyon_etkisi</th>\n",
       "    </tr>\n",
       "  </thead>\n",
       "  <tbody>\n",
       "    <tr>\n",
       "      <th>0</th>\n",
       "      <td>3401</td>\n",
       "      <td>A101</td>\n",
       "      <td>28</td>\n",
       "      <td>28</td>\n",
       "      <td>28</td>\n",
       "      <td>28</td>\n",
       "      <td>28</td>\n",
       "      <td>28</td>\n",
       "      <td>28</td>\n",
       "      <td>28</td>\n",
       "      <td>...</td>\n",
       "      <td>28</td>\n",
       "      <td>28</td>\n",
       "      <td>28</td>\n",
       "      <td>28</td>\n",
       "      <td>28</td>\n",
       "      <td>28</td>\n",
       "      <td>28</td>\n",
       "      <td>28</td>\n",
       "      <td>28</td>\n",
       "      <td>28</td>\n",
       "    </tr>\n",
       "    <tr>\n",
       "      <th>1</th>\n",
       "      <td>3401</td>\n",
       "      <td>BİM</td>\n",
       "      <td>51</td>\n",
       "      <td>51</td>\n",
       "      <td>51</td>\n",
       "      <td>51</td>\n",
       "      <td>51</td>\n",
       "      <td>51</td>\n",
       "      <td>51</td>\n",
       "      <td>51</td>\n",
       "      <td>...</td>\n",
       "      <td>51</td>\n",
       "      <td>51</td>\n",
       "      <td>51</td>\n",
       "      <td>51</td>\n",
       "      <td>51</td>\n",
       "      <td>51</td>\n",
       "      <td>51</td>\n",
       "      <td>51</td>\n",
       "      <td>51</td>\n",
       "      <td>51</td>\n",
       "    </tr>\n",
       "    <tr>\n",
       "      <th>2</th>\n",
       "      <td>3401</td>\n",
       "      <td>Diğer_Pasifik</td>\n",
       "      <td>50</td>\n",
       "      <td>50</td>\n",
       "      <td>50</td>\n",
       "      <td>50</td>\n",
       "      <td>50</td>\n",
       "      <td>50</td>\n",
       "      <td>50</td>\n",
       "      <td>50</td>\n",
       "      <td>...</td>\n",
       "      <td>50</td>\n",
       "      <td>50</td>\n",
       "      <td>50</td>\n",
       "      <td>50</td>\n",
       "      <td>50</td>\n",
       "      <td>50</td>\n",
       "      <td>50</td>\n",
       "      <td>50</td>\n",
       "      <td>50</td>\n",
       "      <td>50</td>\n",
       "    </tr>\n",
       "    <tr>\n",
       "      <th>3</th>\n",
       "      <td>5606</td>\n",
       "      <td>A101</td>\n",
       "      <td>35</td>\n",
       "      <td>35</td>\n",
       "      <td>35</td>\n",
       "      <td>35</td>\n",
       "      <td>35</td>\n",
       "      <td>35</td>\n",
       "      <td>35</td>\n",
       "      <td>35</td>\n",
       "      <td>...</td>\n",
       "      <td>35</td>\n",
       "      <td>35</td>\n",
       "      <td>35</td>\n",
       "      <td>35</td>\n",
       "      <td>35</td>\n",
       "      <td>35</td>\n",
       "      <td>35</td>\n",
       "      <td>35</td>\n",
       "      <td>35</td>\n",
       "      <td>35</td>\n",
       "    </tr>\n",
       "    <tr>\n",
       "      <th>4</th>\n",
       "      <td>7200</td>\n",
       "      <td>A101</td>\n",
       "      <td>25</td>\n",
       "      <td>25</td>\n",
       "      <td>25</td>\n",
       "      <td>25</td>\n",
       "      <td>25</td>\n",
       "      <td>25</td>\n",
       "      <td>25</td>\n",
       "      <td>25</td>\n",
       "      <td>...</td>\n",
       "      <td>25</td>\n",
       "      <td>25</td>\n",
       "      <td>25</td>\n",
       "      <td>25</td>\n",
       "      <td>25</td>\n",
       "      <td>25</td>\n",
       "      <td>25</td>\n",
       "      <td>25</td>\n",
       "      <td>25</td>\n",
       "      <td>25</td>\n",
       "    </tr>\n",
       "  </tbody>\n",
       "</table>\n",
       "<p>5 rows × 24 columns</p>\n",
       "</div>"
      ],
      "text/plain": [
       "   en_guncel_kod       grup_adi  yil  ay  ana_kategori_adi  kategori_adi  \\\n",
       "0           3401           A101   28  28                28            28   \n",
       "1           3401            BİM   51  51                51            51   \n",
       "2           3401  Diğer_Pasifik   50  50                50            50   \n",
       "3           5606           A101   35  35                35            35   \n",
       "4           7200           A101   25  25                25            25   \n",
       "\n",
       "   marka_adi  urun_adi  adet  no_of_days  ...  school_day_ratio  \\\n",
       "0         28        28    28          28  ...                28   \n",
       "1         51        51    51          51  ...                51   \n",
       "2         50        50    50          50  ...                50   \n",
       "3         35        35    35          35  ...                35   \n",
       "4         25        25    25          25  ...                25   \n",
       "\n",
       "   ramadan_ratio  pandemic  lockdown  satis_var  fiyat  fiyat_gecisi  \\\n",
       "0             28        28        28         28     28            28   \n",
       "1             51        51        51         51     51            51   \n",
       "2             50        50        50         50     50            50   \n",
       "3             35        35        35         35     35            35   \n",
       "4             25        25        25         25     25            25   \n",
       "\n",
       "   aktivite_tipi  indirim__  enflasyon_etkisi  \n",
       "0             28         28                28  \n",
       "1             51         51                51  \n",
       "2             50         50                50  \n",
       "3             35         35                35  \n",
       "4             25         25                25  \n",
       "\n",
       "[5 rows x 24 columns]"
      ]
     },
     "execution_count": 44,
     "metadata": {},
     "output_type": "execute_result"
    }
   ],
   "source": [
    "grpd.head()"
   ]
  },
  {
   "cell_type": "code",
   "execution_count": 45,
   "metadata": {},
   "outputs": [
    {
     "data": {
      "text/html": [
       "<div>\n",
       "<style scoped>\n",
       "    .dataframe tbody tr th:only-of-type {\n",
       "        vertical-align: middle;\n",
       "    }\n",
       "\n",
       "    .dataframe tbody tr th {\n",
       "        vertical-align: top;\n",
       "    }\n",
       "\n",
       "    .dataframe thead th {\n",
       "        text-align: right;\n",
       "    }\n",
       "</style>\n",
       "<table border=\"1\" class=\"dataframe\">\n",
       "  <thead>\n",
       "    <tr style=\"text-align: right;\">\n",
       "      <th></th>\n",
       "      <th>en_guncel_kod</th>\n",
       "      <th>grup_adi</th>\n",
       "      <th>yil</th>\n",
       "      <th>ay</th>\n",
       "      <th>ana_kategori_adi</th>\n",
       "      <th>kategori_adi</th>\n",
       "      <th>marka_adi</th>\n",
       "      <th>urun_adi</th>\n",
       "      <th>adet</th>\n",
       "      <th>no_of_days</th>\n",
       "      <th>...</th>\n",
       "      <th>school_day_ratio</th>\n",
       "      <th>ramadan_ratio</th>\n",
       "      <th>pandemic</th>\n",
       "      <th>lockdown</th>\n",
       "      <th>satis_var</th>\n",
       "      <th>fiyat</th>\n",
       "      <th>fiyat_gecisi</th>\n",
       "      <th>aktivite_tipi</th>\n",
       "      <th>indirim__</th>\n",
       "      <th>enflasyon_etkisi</th>\n",
       "    </tr>\n",
       "  </thead>\n",
       "  <tbody>\n",
       "    <tr>\n",
       "      <th>0</th>\n",
       "      <td>3401</td>\n",
       "      <td>A101</td>\n",
       "      <td>25</td>\n",
       "      <td>25</td>\n",
       "      <td>25</td>\n",
       "      <td>25</td>\n",
       "      <td>25</td>\n",
       "      <td>25</td>\n",
       "      <td>25</td>\n",
       "      <td>25</td>\n",
       "      <td>...</td>\n",
       "      <td>25</td>\n",
       "      <td>25</td>\n",
       "      <td>25</td>\n",
       "      <td>25</td>\n",
       "      <td>25</td>\n",
       "      <td>25</td>\n",
       "      <td>25</td>\n",
       "      <td>25</td>\n",
       "      <td>25</td>\n",
       "      <td>25</td>\n",
       "    </tr>\n",
       "    <tr>\n",
       "      <th>1</th>\n",
       "      <td>3401</td>\n",
       "      <td>BİM</td>\n",
       "      <td>51</td>\n",
       "      <td>51</td>\n",
       "      <td>51</td>\n",
       "      <td>51</td>\n",
       "      <td>51</td>\n",
       "      <td>51</td>\n",
       "      <td>51</td>\n",
       "      <td>51</td>\n",
       "      <td>...</td>\n",
       "      <td>51</td>\n",
       "      <td>51</td>\n",
       "      <td>51</td>\n",
       "      <td>51</td>\n",
       "      <td>51</td>\n",
       "      <td>51</td>\n",
       "      <td>51</td>\n",
       "      <td>51</td>\n",
       "      <td>51</td>\n",
       "      <td>51</td>\n",
       "    </tr>\n",
       "    <tr>\n",
       "      <th>2</th>\n",
       "      <td>3401</td>\n",
       "      <td>Diğer_Pasifik</td>\n",
       "      <td>20</td>\n",
       "      <td>20</td>\n",
       "      <td>20</td>\n",
       "      <td>20</td>\n",
       "      <td>20</td>\n",
       "      <td>20</td>\n",
       "      <td>20</td>\n",
       "      <td>20</td>\n",
       "      <td>...</td>\n",
       "      <td>20</td>\n",
       "      <td>20</td>\n",
       "      <td>20</td>\n",
       "      <td>20</td>\n",
       "      <td>20</td>\n",
       "      <td>20</td>\n",
       "      <td>20</td>\n",
       "      <td>20</td>\n",
       "      <td>20</td>\n",
       "      <td>20</td>\n",
       "    </tr>\n",
       "    <tr>\n",
       "      <th>3</th>\n",
       "      <td>5606</td>\n",
       "      <td>A101</td>\n",
       "      <td>35</td>\n",
       "      <td>35</td>\n",
       "      <td>35</td>\n",
       "      <td>35</td>\n",
       "      <td>35</td>\n",
       "      <td>35</td>\n",
       "      <td>35</td>\n",
       "      <td>35</td>\n",
       "      <td>...</td>\n",
       "      <td>35</td>\n",
       "      <td>35</td>\n",
       "      <td>35</td>\n",
       "      <td>35</td>\n",
       "      <td>35</td>\n",
       "      <td>35</td>\n",
       "      <td>35</td>\n",
       "      <td>35</td>\n",
       "      <td>35</td>\n",
       "      <td>35</td>\n",
       "    </tr>\n",
       "    <tr>\n",
       "      <th>4</th>\n",
       "      <td>7200</td>\n",
       "      <td>A101</td>\n",
       "      <td>24</td>\n",
       "      <td>24</td>\n",
       "      <td>24</td>\n",
       "      <td>24</td>\n",
       "      <td>24</td>\n",
       "      <td>24</td>\n",
       "      <td>24</td>\n",
       "      <td>24</td>\n",
       "      <td>...</td>\n",
       "      <td>24</td>\n",
       "      <td>24</td>\n",
       "      <td>24</td>\n",
       "      <td>24</td>\n",
       "      <td>24</td>\n",
       "      <td>24</td>\n",
       "      <td>24</td>\n",
       "      <td>24</td>\n",
       "      <td>24</td>\n",
       "      <td>24</td>\n",
       "    </tr>\n",
       "  </tbody>\n",
       "</table>\n",
       "<p>5 rows × 24 columns</p>\n",
       "</div>"
      ],
      "text/plain": [
       "   en_guncel_kod       grup_adi  yil  ay  ana_kategori_adi  kategori_adi  \\\n",
       "0           3401           A101   25  25                25            25   \n",
       "1           3401            BİM   51  51                51            51   \n",
       "2           3401  Diğer_Pasifik   20  20                20            20   \n",
       "3           5606           A101   35  35                35            35   \n",
       "4           7200           A101   24  24                24            24   \n",
       "\n",
       "   marka_adi  urun_adi  adet  no_of_days  ...  school_day_ratio  \\\n",
       "0         25        25    25          25  ...                25   \n",
       "1         51        51    51          51  ...                51   \n",
       "2         20        20    20          20  ...                20   \n",
       "3         35        35    35          35  ...                35   \n",
       "4         24        24    24          24  ...                24   \n",
       "\n",
       "   ramadan_ratio  pandemic  lockdown  satis_var  fiyat  fiyat_gecisi  \\\n",
       "0             25        25        25         25     25            25   \n",
       "1             51        51        51         51     51            51   \n",
       "2             20        20        20         20     20            20   \n",
       "3             35        35        35         35     35            35   \n",
       "4             24        24        24         24     24            24   \n",
       "\n",
       "   aktivite_tipi  indirim__  enflasyon_etkisi  \n",
       "0             25         25                25  \n",
       "1             51         51                51  \n",
       "2             20         20                20  \n",
       "3             35         35                35  \n",
       "4             24         24                24  \n",
       "\n",
       "[5 rows x 24 columns]"
      ]
     },
     "execution_count": 45,
     "metadata": {},
     "output_type": "execute_result"
    }
   ],
   "source": [
    "non_null.head()"
   ]
  },
  {
   "cell_type": "code",
   "execution_count": 48,
   "metadata": {},
   "outputs": [
    {
     "data": {
      "text/plain": [
       "array(['Diğer_Pasifik', 'MİGROS', 'ŞOK', 'A101', 'BİM'], dtype=object)"
      ]
     },
     "execution_count": 48,
     "metadata": {},
     "output_type": "execute_result"
    }
   ],
   "source": [
    "train2.grup_adi.unique()"
   ]
  },
  {
   "cell_type": "raw",
   "metadata": {},
   "source": [
    "for grp in train2.grup_adi.unique():\n",
    "    for kod in train2.en_guncel_kod.unique():\n",
    "        try:\n",
    "            print(\"\\n\")\n",
    "            print(\"=\"*50)\n",
    "            print(grp)\n",
    "            print(\"=\"*50)\n",
    "            print(\"\\n\")\n",
    "            print(\"-\"*50)\n",
    "            print(kod)\n",
    "            print(\"-\"*50)\n",
    "            print(\"\\n\")        \n",
    "            print(\"Ratio:\", ((non_null[(non_null[\"en_guncel_kod\"] == kod) & (non_null[\"grup_adi\"] == grp)][\"yil\"]).values[0] / \n",
    "                  (grpd[(grpd[\"en_guncel_kod\"] == kod) & (grpd[\"grup_adi\"] == grp)][\"yil\"]).values[0])*100)\n",
    "        except:\n",
    "            pass"
   ]
  },
  {
   "cell_type": "code",
   "execution_count": 50,
   "metadata": {},
   "outputs": [],
   "source": [
    "df_bim = train2[train2.grup_adi == 'BİM'].copy()\n",
    "df_diger = train2[train2.grup_adi == 'Diğer_Pasifik'].copy()\n",
    "df_a101 = train2[train2.grup_adi == 'A101'].copy()\n",
    "df_migros = train2[train2.grup_adi == 'MİGROS'].copy()\n",
    "df_sok = train2[train2.grup_adi == 'ŞOK'].copy()"
   ]
  },
  {
   "cell_type": "code",
   "execution_count": 51,
   "metadata": {},
   "outputs": [
    {
     "data": {
      "text/plain": [
       "((1216, 24), (3739, 24), (2036, 24), (3558, 24), (3470, 24))"
      ]
     },
     "execution_count": 51,
     "metadata": {},
     "output_type": "execute_result"
    }
   ],
   "source": [
    "df_bim.shape, df_diger.shape, df_a101.shape, df_migros.shape, df_sok.shape"
   ]
  },
  {
   "cell_type": "code",
   "execution_count": 52,
   "metadata": {},
   "outputs": [],
   "source": [
    "groups = [df_bim.shape[0], df_diger.shape[0], df_a101.shape[0], df_migros.shape[0], df_sok.shape[0]]"
   ]
  },
  {
   "cell_type": "code",
   "execution_count": 53,
   "metadata": {},
   "outputs": [
    {
     "data": {
      "text/plain": [
       "(3739, 1216)"
      ]
     },
     "execution_count": 53,
     "metadata": {},
     "output_type": "execute_result"
    }
   ],
   "source": [
    "np.max(groups), np.min(groups)"
   ]
  },
  {
   "cell_type": "markdown",
   "metadata": {},
   "source": [
    "# Portföy Filtrelemesi"
   ]
  },
  {
   "cell_type": "code",
   "execution_count": 56,
   "metadata": {},
   "outputs": [],
   "source": [
    "df_migros = df_migros[df_migros[\"adet\"] != 1]"
   ]
  },
  {
   "cell_type": "code",
   "execution_count": 57,
   "metadata": {},
   "outputs": [],
   "source": [
    "migros_y = df_migros.adet"
   ]
  },
  {
   "cell_type": "code",
   "execution_count": 60,
   "metadata": {},
   "outputs": [
    {
     "data": {
      "text/plain": [
       "array(['ÜLKER', 'ÇOKOPRENS', 'KREMİNİ', 'DİDO', 'LAVİVA',\n",
       "       'ÜLKER ÇİKOLATALI GOFRET', 'CARAMIO', 'ALBENİ', 'ONEO', 'ÇOKONAT',\n",
       "       'YUPO', 'COCOSTAR', 'ÇOKOKREM', 'ALTINBAŞAK', 'HOBBY', 'METRO',\n",
       "       'HALLEY', 'DANKEK', \"O'LALA\", 'ÇİZİ', 'İKRAM', 'PROBİS',\n",
       "       'ÜLKER PÖTİBÖR', 'ÜLKER KREMALI SANDVİÇ', '9 KAT TAT',\n",
       "       'DANKEK RULO PASTA', 'ÜLKER BEBE', 'BİSKREM', 'ÜLKER GOFRET',\n",
       "       'RULOKAT', 'DANKEK LOKMALIK', 'HANIMELLER', 'SMARTT', 'CİCİ',\n",
       "       'KEKSTRA', 'ÜLKER ÇUBUK KRAKER', 'DANKEK PÖTİ'], dtype=object)"
      ]
     },
     "execution_count": 60,
     "metadata": {},
     "output_type": "execute_result"
    }
   ],
   "source": [
    "df_migros[\"marka_adi\"].unique()"
   ]
  },
  {
   "cell_type": "code",
   "execution_count": null,
   "metadata": {},
   "outputs": [],
   "source": [
    "df_migros.gropby()"
   ]
  },
  {
   "cell_type": "code",
   "execution_count": 321,
   "metadata": {},
   "outputs": [],
   "source": [
    "marka_adi_dict = {'ÜLKER BEBE' :1, 'ÇOKOKREM' :2, 'PROBİS':3, 'ÇOKOPRENS' :4, 'HAYLAYF': 5, 'DORE': 6,\n",
    "       'SAKLIKÖY': 7, 'ÇİZİ': 8, 'TEMPO': 9, 'ÜLKER PÖTİBÖR': 10, 'HANIMELLER': 11,\n",
    "       'ALTINBAŞAK': 12, 'RONDO': 13, 'BİSKREM':14, 'ÜLKER FİNGER':15,\n",
    "       'ÜLKER ÇUBUK KRAKER': 16, 'ÜLKER ÇİKOLATALI GOFRET': 17, 'SMARTT': 18, 'ÜLKER': 19,\n",
    "       'ÜLKER SUSAMLI ÇUBUK': 20, 'HOBBY': 21, 'COCOSTAR': 22, 'DİDO': 23, 'ALBENİ': 24,\n",
    "       'METRO': 25, 'HALLEY': 26, 'MCVITIES DIGESTIVE': 27, 'PİKO': 28, 'GODIVA':29,\n",
    "       'ÜLKER GOFRET':30, 'ÜLKER ÇOKOMİLK': 31, 'KREMİNİ':32, 'BONBON': 33, 'CİCİ': 34,\n",
    "       '8 KEK': 35, 'DANKEK LOKMALIK': 36, 'LAVİVA':37, 'ALPELLA':38, \"O'LALA\": 39,\n",
    "       'DANKEK RULO PASTA': 40, 'KEKSTRA': 41, 'DANKEK BATON': 42, 'ÇOKONAT': 43,\n",
    "       'DANKEK PÖTİ': 44, '9 KAT TAT': 45, 'RULOKAT':46, 'CANPARE': 47, 'ALPELLA 3GEN': 48,\n",
    "       'DANKEK': 49, 'İKRAM':50, 'KRİSPİ': 51, 'ÜLKER KREMALI SANDVİÇ': 52, 'ÇOKOMEL' : 53,\n",
    "       'CARAMIO': 54, 'ÜLKER GOLDEN': 55, 'YUPO': 56, 'ONEO': 57, 'ÜLKER PASTİL':58,\n",
    "       'TAÇ KRAKER': 59, 'MAVİ YEŞİL':60, 'SPECIAL K': 61    \n",
    "}"
   ]
  },
  {
   "cell_type": "code",
   "execution_count": 322,
   "metadata": {},
   "outputs": [],
   "source": [
    "aktivite_tipi_dict = {'Mağaza içi/Dağılım': 1,\n",
    "                  'Mutluluk': 2,\n",
    "                  'Çoklu Alım': 3,\n",
    "                  'İn&out': 4}"
   ]
  },
  {
   "cell_type": "code",
   "execution_count": 323,
   "metadata": {},
   "outputs": [],
   "source": [
    "df_migros.replace({\"aktivite_tipi\":aktivite_tipi_dict}, inplace=True)"
   ]
  },
  {
   "cell_type": "code",
   "execution_count": 324,
   "metadata": {},
   "outputs": [],
   "source": [
    "df_migros.replace({\"marka_adi\":marka_adi_dict}, inplace=True)"
   ]
  },
  {
   "cell_type": "code",
   "execution_count": 325,
   "metadata": {},
   "outputs": [],
   "source": [
    "df_migros.drop(\"en_guncel_kod\", axis=1, inplace=True)"
   ]
  },
  {
   "cell_type": "code",
   "execution_count": 326,
   "metadata": {},
   "outputs": [],
   "source": [
    "get_dummy_columns = ['ana_kategori_adi', 'kategori_adi']"
   ]
  },
  {
   "cell_type": "code",
   "execution_count": 327,
   "metadata": {},
   "outputs": [],
   "source": [
    "for index in get_dummy_columns:\n",
    "    df_migros[index] = df_migros[index].str.lower()\n",
    "    df_migros[index] = df_migros[index].replace('ş', 's', regex=True)\n",
    "    df_migros[index] = df_migros[index].replace(' ', '_', regex=True)"
   ]
  },
  {
   "cell_type": "code",
   "execution_count": 328,
   "metadata": {},
   "outputs": [],
   "source": [
    "for index in get_dummy_columns_numeric:\n",
    "    df_migros[index] = df_migros[index].replace('ş', 's', regex=True)\n",
    "    df_migros[index] = df_migros[index].replace(' ', '_', regex=True)"
   ]
  },
  {
   "cell_type": "code",
   "execution_count": 329,
   "metadata": {},
   "outputs": [],
   "source": [
    "for index in get_dummy_columns:\n",
    "    df_migros = pd.concat([df_migros.drop(index, axis=1), pd.get_dummies(df_migros[index], prefix=index)], axis=1)\n",
    "    df_migros.shape"
   ]
  },
  {
   "cell_type": "code",
   "execution_count": 330,
   "metadata": {},
   "outputs": [],
   "source": [
    "num_range = [np.random.randint (1,360) for i in range(0,360)]"
   ]
  },
  {
   "cell_type": "code",
   "execution_count": 331,
   "metadata": {},
   "outputs": [],
   "source": [
    "from numpy.random import default_rng\n",
    "\n",
    "rng = default_rng()\n",
    "numbers = rng.choice(360, size=360, replace=False)"
   ]
  },
  {
   "cell_type": "code",
   "execution_count": 332,
   "metadata": {},
   "outputs": [],
   "source": [
    "product_list = df_migros.urun_adi.unique()"
   ]
  },
  {
   "cell_type": "code",
   "execution_count": 333,
   "metadata": {},
   "outputs": [],
   "source": [
    "urun_adi_dict = dict(zip(product_list, numbers))"
   ]
  },
  {
   "cell_type": "code",
   "execution_count": 334,
   "metadata": {},
   "outputs": [],
   "source": [
    "df_migros.replace({\"urun_adi\":urun_adi_dict}, inplace=True)"
   ]
  },
  {
   "cell_type": "code",
   "execution_count": 335,
   "metadata": {},
   "outputs": [
    {
     "data": {
      "text/html": [
       "<div>\n",
       "<style scoped>\n",
       "    .dataframe tbody tr th:only-of-type {\n",
       "        vertical-align: middle;\n",
       "    }\n",
       "\n",
       "    .dataframe tbody tr th {\n",
       "        vertical-align: top;\n",
       "    }\n",
       "\n",
       "    .dataframe thead th {\n",
       "        text-align: right;\n",
       "    }\n",
       "</style>\n",
       "<table border=\"1\" class=\"dataframe\">\n",
       "  <thead>\n",
       "    <tr style=\"text-align: right;\">\n",
       "      <th></th>\n",
       "      <th>yil</th>\n",
       "      <th>ay</th>\n",
       "      <th>grup_adi</th>\n",
       "      <th>marka_adi</th>\n",
       "      <th>urun_adi</th>\n",
       "      <th>adet</th>\n",
       "      <th>portfoy</th>\n",
       "      <th>no_of_days</th>\n",
       "      <th>weekdays_ratio</th>\n",
       "      <th>weekend_ratio</th>\n",
       "      <th>...</th>\n",
       "      <th>ana_kategori_adi_yardimci_katki_malzeme</th>\n",
       "      <th>kategori_adi_bi̇sküvi̇</th>\n",
       "      <th>kategori_adi_gofret</th>\n",
       "      <th>kategori_adi_kek</th>\n",
       "      <th>kategori_adi_krem_çi̇kolata/ezme</th>\n",
       "      <th>kategori_adi_pastacilik_ürünü</th>\n",
       "      <th>kategori_adi_sakiz</th>\n",
       "      <th>kategori_adi_seker</th>\n",
       "      <th>kategori_adi_çi̇kolata</th>\n",
       "      <th>kategori_adi_çi̇kolata_kaplama</th>\n",
       "    </tr>\n",
       "  </thead>\n",
       "  <tbody>\n",
       "    <tr>\n",
       "      <th>885</th>\n",
       "      <td>2017</td>\n",
       "      <td>1</td>\n",
       "      <td>MİGROS</td>\n",
       "      <td>3</td>\n",
       "      <td>127</td>\n",
       "      <td>90648.0</td>\n",
       "      <td>1</td>\n",
       "      <td>31</td>\n",
       "      <td>0.709473</td>\n",
       "      <td>0.290283</td>\n",
       "      <td>...</td>\n",
       "      <td>0</td>\n",
       "      <td>1</td>\n",
       "      <td>0</td>\n",
       "      <td>0</td>\n",
       "      <td>0</td>\n",
       "      <td>0</td>\n",
       "      <td>0</td>\n",
       "      <td>0</td>\n",
       "      <td>0</td>\n",
       "      <td>0</td>\n",
       "    </tr>\n",
       "    <tr>\n",
       "      <th>886</th>\n",
       "      <td>2017</td>\n",
       "      <td>2</td>\n",
       "      <td>MİGROS</td>\n",
       "      <td>3</td>\n",
       "      <td>127</td>\n",
       "      <td>8628.0</td>\n",
       "      <td>1</td>\n",
       "      <td>28</td>\n",
       "      <td>0.714355</td>\n",
       "      <td>0.285645</td>\n",
       "      <td>...</td>\n",
       "      <td>0</td>\n",
       "      <td>1</td>\n",
       "      <td>0</td>\n",
       "      <td>0</td>\n",
       "      <td>0</td>\n",
       "      <td>0</td>\n",
       "      <td>0</td>\n",
       "      <td>0</td>\n",
       "      <td>0</td>\n",
       "      <td>0</td>\n",
       "    </tr>\n",
       "    <tr>\n",
       "      <th>887</th>\n",
       "      <td>2017</td>\n",
       "      <td>3</td>\n",
       "      <td>MİGROS</td>\n",
       "      <td>3</td>\n",
       "      <td>127</td>\n",
       "      <td>38436.0</td>\n",
       "      <td>1</td>\n",
       "      <td>31</td>\n",
       "      <td>0.741699</td>\n",
       "      <td>0.258057</td>\n",
       "      <td>...</td>\n",
       "      <td>0</td>\n",
       "      <td>1</td>\n",
       "      <td>0</td>\n",
       "      <td>0</td>\n",
       "      <td>0</td>\n",
       "      <td>0</td>\n",
       "      <td>0</td>\n",
       "      <td>0</td>\n",
       "      <td>0</td>\n",
       "      <td>0</td>\n",
       "    </tr>\n",
       "    <tr>\n",
       "      <th>888</th>\n",
       "      <td>2017</td>\n",
       "      <td>4</td>\n",
       "      <td>MİGROS</td>\n",
       "      <td>3</td>\n",
       "      <td>127</td>\n",
       "      <td>27528.0</td>\n",
       "      <td>1</td>\n",
       "      <td>30</td>\n",
       "      <td>0.666504</td>\n",
       "      <td>0.333252</td>\n",
       "      <td>...</td>\n",
       "      <td>0</td>\n",
       "      <td>1</td>\n",
       "      <td>0</td>\n",
       "      <td>0</td>\n",
       "      <td>0</td>\n",
       "      <td>0</td>\n",
       "      <td>0</td>\n",
       "      <td>0</td>\n",
       "      <td>0</td>\n",
       "      <td>0</td>\n",
       "    </tr>\n",
       "    <tr>\n",
       "      <th>889</th>\n",
       "      <td>2017</td>\n",
       "      <td>5</td>\n",
       "      <td>MİGROS</td>\n",
       "      <td>3</td>\n",
       "      <td>127</td>\n",
       "      <td>36216.0</td>\n",
       "      <td>1</td>\n",
       "      <td>31</td>\n",
       "      <td>0.741699</td>\n",
       "      <td>0.258057</td>\n",
       "      <td>...</td>\n",
       "      <td>0</td>\n",
       "      <td>1</td>\n",
       "      <td>0</td>\n",
       "      <td>0</td>\n",
       "      <td>0</td>\n",
       "      <td>0</td>\n",
       "      <td>0</td>\n",
       "      <td>0</td>\n",
       "      <td>0</td>\n",
       "      <td>0</td>\n",
       "    </tr>\n",
       "  </tbody>\n",
       "</table>\n",
       "<p>5 rows × 33 columns</p>\n",
       "</div>"
      ],
      "text/plain": [
       "      yil  ay grup_adi  marka_adi  urun_adi     adet  portfoy  no_of_days  \\\n",
       "885  2017   1   MİGROS          3       127  90648.0        1          31   \n",
       "886  2017   2   MİGROS          3       127   8628.0        1          28   \n",
       "887  2017   3   MİGROS          3       127  38436.0        1          31   \n",
       "888  2017   4   MİGROS          3       127  27528.0        1          30   \n",
       "889  2017   5   MİGROS          3       127  36216.0        1          31   \n",
       "\n",
       "     weekdays_ratio  weekend_ratio  ...  \\\n",
       "885        0.709473       0.290283  ...   \n",
       "886        0.714355       0.285645  ...   \n",
       "887        0.741699       0.258057  ...   \n",
       "888        0.666504       0.333252  ...   \n",
       "889        0.741699       0.258057  ...   \n",
       "\n",
       "     ana_kategori_adi_yardimci_katki_malzeme  kategori_adi_bi̇sküvi̇  \\\n",
       "885                                        0                       1   \n",
       "886                                        0                       1   \n",
       "887                                        0                       1   \n",
       "888                                        0                       1   \n",
       "889                                        0                       1   \n",
       "\n",
       "     kategori_adi_gofret  kategori_adi_kek  kategori_adi_krem_çi̇kolata/ezme  \\\n",
       "885                    0                 0                                 0   \n",
       "886                    0                 0                                 0   \n",
       "887                    0                 0                                 0   \n",
       "888                    0                 0                                 0   \n",
       "889                    0                 0                                 0   \n",
       "\n",
       "     kategori_adi_pastacilik_ürünü  kategori_adi_sakiz  kategori_adi_seker  \\\n",
       "885                              0                   0                   0   \n",
       "886                              0                   0                   0   \n",
       "887                              0                   0                   0   \n",
       "888                              0                   0                   0   \n",
       "889                              0                   0                   0   \n",
       "\n",
       "     kategori_adi_çi̇kolata  kategori_adi_çi̇kolata_kaplama  \n",
       "885                       0                               0  \n",
       "886                       0                               0  \n",
       "887                       0                               0  \n",
       "888                       0                               0  \n",
       "889                       0                               0  \n",
       "\n",
       "[5 rows x 33 columns]"
      ]
     },
     "execution_count": 335,
     "metadata": {},
     "output_type": "execute_result"
    }
   ],
   "source": [
    "df_migros.head()"
   ]
  },
  {
   "cell_type": "code",
   "execution_count": 336,
   "metadata": {},
   "outputs": [
    {
     "data": {
      "text/html": [
       "<div>\n",
       "<style scoped>\n",
       "    .dataframe tbody tr th:only-of-type {\n",
       "        vertical-align: middle;\n",
       "    }\n",
       "\n",
       "    .dataframe tbody tr th {\n",
       "        vertical-align: top;\n",
       "    }\n",
       "\n",
       "    .dataframe thead th {\n",
       "        text-align: right;\n",
       "    }\n",
       "</style>\n",
       "<table border=\"1\" class=\"dataframe\">\n",
       "  <thead>\n",
       "    <tr style=\"text-align: right;\">\n",
       "      <th></th>\n",
       "      <th>yil</th>\n",
       "      <th>ay</th>\n",
       "      <th>marka_adi</th>\n",
       "      <th>urun_adi</th>\n",
       "      <th>adet</th>\n",
       "      <th>portfoy</th>\n",
       "      <th>no_of_days</th>\n",
       "      <th>weekdays_ratio</th>\n",
       "      <th>weekend_ratio</th>\n",
       "      <th>actual_holiday_ratio</th>\n",
       "      <th>...</th>\n",
       "      <th>ana_kategori_adi_yardimci_katki_malzeme</th>\n",
       "      <th>kategori_adi_bi̇sküvi̇</th>\n",
       "      <th>kategori_adi_gofret</th>\n",
       "      <th>kategori_adi_kek</th>\n",
       "      <th>kategori_adi_krem_çi̇kolata/ezme</th>\n",
       "      <th>kategori_adi_pastacilik_ürünü</th>\n",
       "      <th>kategori_adi_sakiz</th>\n",
       "      <th>kategori_adi_seker</th>\n",
       "      <th>kategori_adi_çi̇kolata</th>\n",
       "      <th>kategori_adi_çi̇kolata_kaplama</th>\n",
       "    </tr>\n",
       "  </thead>\n",
       "  <tbody>\n",
       "    <tr>\n",
       "      <th>885</th>\n",
       "      <td>2017</td>\n",
       "      <td>1</td>\n",
       "      <td>3</td>\n",
       "      <td>127</td>\n",
       "      <td>90648.0</td>\n",
       "      <td>1</td>\n",
       "      <td>31</td>\n",
       "      <td>0.709473</td>\n",
       "      <td>0.290283</td>\n",
       "      <td>0.290283</td>\n",
       "      <td>...</td>\n",
       "      <td>0</td>\n",
       "      <td>1</td>\n",
       "      <td>0</td>\n",
       "      <td>0</td>\n",
       "      <td>0</td>\n",
       "      <td>0</td>\n",
       "      <td>0</td>\n",
       "      <td>0</td>\n",
       "      <td>0</td>\n",
       "      <td>0</td>\n",
       "    </tr>\n",
       "    <tr>\n",
       "      <th>886</th>\n",
       "      <td>2017</td>\n",
       "      <td>2</td>\n",
       "      <td>3</td>\n",
       "      <td>127</td>\n",
       "      <td>8628.0</td>\n",
       "      <td>1</td>\n",
       "      <td>28</td>\n",
       "      <td>0.714355</td>\n",
       "      <td>0.285645</td>\n",
       "      <td>0.285645</td>\n",
       "      <td>...</td>\n",
       "      <td>0</td>\n",
       "      <td>1</td>\n",
       "      <td>0</td>\n",
       "      <td>0</td>\n",
       "      <td>0</td>\n",
       "      <td>0</td>\n",
       "      <td>0</td>\n",
       "      <td>0</td>\n",
       "      <td>0</td>\n",
       "      <td>0</td>\n",
       "    </tr>\n",
       "    <tr>\n",
       "      <th>887</th>\n",
       "      <td>2017</td>\n",
       "      <td>3</td>\n",
       "      <td>3</td>\n",
       "      <td>127</td>\n",
       "      <td>38436.0</td>\n",
       "      <td>1</td>\n",
       "      <td>31</td>\n",
       "      <td>0.741699</td>\n",
       "      <td>0.258057</td>\n",
       "      <td>0.258057</td>\n",
       "      <td>...</td>\n",
       "      <td>0</td>\n",
       "      <td>1</td>\n",
       "      <td>0</td>\n",
       "      <td>0</td>\n",
       "      <td>0</td>\n",
       "      <td>0</td>\n",
       "      <td>0</td>\n",
       "      <td>0</td>\n",
       "      <td>0</td>\n",
       "      <td>0</td>\n",
       "    </tr>\n",
       "    <tr>\n",
       "      <th>888</th>\n",
       "      <td>2017</td>\n",
       "      <td>4</td>\n",
       "      <td>3</td>\n",
       "      <td>127</td>\n",
       "      <td>27528.0</td>\n",
       "      <td>1</td>\n",
       "      <td>30</td>\n",
       "      <td>0.666504</td>\n",
       "      <td>0.333252</td>\n",
       "      <td>0.333252</td>\n",
       "      <td>...</td>\n",
       "      <td>0</td>\n",
       "      <td>1</td>\n",
       "      <td>0</td>\n",
       "      <td>0</td>\n",
       "      <td>0</td>\n",
       "      <td>0</td>\n",
       "      <td>0</td>\n",
       "      <td>0</td>\n",
       "      <td>0</td>\n",
       "      <td>0</td>\n",
       "    </tr>\n",
       "    <tr>\n",
       "      <th>889</th>\n",
       "      <td>2017</td>\n",
       "      <td>5</td>\n",
       "      <td>3</td>\n",
       "      <td>127</td>\n",
       "      <td>36216.0</td>\n",
       "      <td>1</td>\n",
       "      <td>31</td>\n",
       "      <td>0.741699</td>\n",
       "      <td>0.258057</td>\n",
       "      <td>0.322510</td>\n",
       "      <td>...</td>\n",
       "      <td>0</td>\n",
       "      <td>1</td>\n",
       "      <td>0</td>\n",
       "      <td>0</td>\n",
       "      <td>0</td>\n",
       "      <td>0</td>\n",
       "      <td>0</td>\n",
       "      <td>0</td>\n",
       "      <td>0</td>\n",
       "      <td>0</td>\n",
       "    </tr>\n",
       "  </tbody>\n",
       "</table>\n",
       "<p>5 rows × 32 columns</p>\n",
       "</div>"
      ],
      "text/plain": [
       "      yil  ay  marka_adi  urun_adi     adet  portfoy  no_of_days  \\\n",
       "885  2017   1          3       127  90648.0        1          31   \n",
       "886  2017   2          3       127   8628.0        1          28   \n",
       "887  2017   3          3       127  38436.0        1          31   \n",
       "888  2017   4          3       127  27528.0        1          30   \n",
       "889  2017   5          3       127  36216.0        1          31   \n",
       "\n",
       "     weekdays_ratio  weekend_ratio  actual_holiday_ratio  ...  \\\n",
       "885        0.709473       0.290283              0.290283  ...   \n",
       "886        0.714355       0.285645              0.285645  ...   \n",
       "887        0.741699       0.258057              0.258057  ...   \n",
       "888        0.666504       0.333252              0.333252  ...   \n",
       "889        0.741699       0.258057              0.322510  ...   \n",
       "\n",
       "     ana_kategori_adi_yardimci_katki_malzeme  kategori_adi_bi̇sküvi̇  \\\n",
       "885                                        0                       1   \n",
       "886                                        0                       1   \n",
       "887                                        0                       1   \n",
       "888                                        0                       1   \n",
       "889                                        0                       1   \n",
       "\n",
       "     kategori_adi_gofret  kategori_adi_kek  kategori_adi_krem_çi̇kolata/ezme  \\\n",
       "885                    0                 0                                 0   \n",
       "886                    0                 0                                 0   \n",
       "887                    0                 0                                 0   \n",
       "888                    0                 0                                 0   \n",
       "889                    0                 0                                 0   \n",
       "\n",
       "     kategori_adi_pastacilik_ürünü  kategori_adi_sakiz  kategori_adi_seker  \\\n",
       "885                              0                   0                   0   \n",
       "886                              0                   0                   0   \n",
       "887                              0                   0                   0   \n",
       "888                              0                   0                   0   \n",
       "889                              0                   0                   0   \n",
       "\n",
       "     kategori_adi_çi̇kolata kategori_adi_çi̇kolata_kaplama  \n",
       "885                       0                              0  \n",
       "886                       0                              0  \n",
       "887                       0                              0  \n",
       "888                       0                              0  \n",
       "889                       0                              0  \n",
       "\n",
       "[5 rows x 32 columns]"
      ]
     },
     "execution_count": 336,
     "metadata": {},
     "output_type": "execute_result"
    }
   ],
   "source": [
    "df_migros = df_migros.drop(columns = 'grup_adi')\n",
    "df_migros.head()"
   ]
  },
  {
   "cell_type": "code",
   "execution_count": 337,
   "metadata": {},
   "outputs": [
    {
     "data": {
      "text/plain": [
       "(3444,)"
      ]
     },
     "execution_count": 337,
     "metadata": {},
     "output_type": "execute_result"
    }
   ],
   "source": [
    "migros_y.shape"
   ]
  },
  {
   "cell_type": "code",
   "execution_count": 338,
   "metadata": {},
   "outputs": [
    {
     "data": {
      "text/plain": [
       "(3444, 32)"
      ]
     },
     "execution_count": 338,
     "metadata": {},
     "output_type": "execute_result"
    }
   ],
   "source": [
    "df_migros.shape"
   ]
  },
  {
   "cell_type": "code",
   "execution_count": 339,
   "metadata": {},
   "outputs": [
    {
     "data": {
      "text/plain": [
       "Yok    2940\n",
       "1       437\n",
       "2        52\n",
       "3        15\n",
       "Name: aktivite_tipi, dtype: int64"
      ]
     },
     "execution_count": 339,
     "metadata": {},
     "output_type": "execute_result"
    }
   ],
   "source": [
    "df_migros[\"aktivite_tipi\"].value_counts()"
   ]
  },
  {
   "cell_type": "code",
   "execution_count": 340,
   "metadata": {},
   "outputs": [],
   "source": [
    "df_migros.replace(\"Yok\", 0, inplace=True)"
   ]
  },
  {
   "cell_type": "code",
   "execution_count": 341,
   "metadata": {},
   "outputs": [],
   "source": [
    "from sklearn.preprocessing import StandardScaler"
   ]
  },
  {
   "cell_type": "code",
   "execution_count": 342,
   "metadata": {},
   "outputs": [
    {
     "data": {
      "text/plain": [
       "array([[-1.39908292, -1.48533124, -1.50372589, ..., -0.31728716,\n",
       "        -0.43121968, -0.46901892],\n",
       "       [-1.39908292, -1.20142177, -1.50372589, ..., -0.31728716,\n",
       "        -0.43121968, -0.46901892],\n",
       "       [-1.39908292, -0.9175123 , -1.50372589, ..., -0.31728716,\n",
       "        -0.43121968, -0.46901892],\n",
       "       ...,\n",
       "       [ 1.80360341, -1.48533124,  1.4742307 , ..., -0.31728716,\n",
       "        -0.43121968, -0.46901892],\n",
       "       [ 1.80360341, -1.20142177,  1.4742307 , ..., -0.31728716,\n",
       "        -0.43121968, -0.46901892],\n",
       "       [ 1.80360341, -0.9175123 ,  1.4742307 , ..., -0.31728716,\n",
       "        -0.43121968, -0.46901892]])"
      ]
     },
     "execution_count": 342,
     "metadata": {},
     "output_type": "execute_result"
    }
   ],
   "source": [
    "sc_x = StandardScaler()\n",
    "sc_x.fit_transform(np.array(df_migros.drop(\"adet\", axis=1)))\n",
    "\n",
    "#sc_y = StandardScaler()\n",
    "#sc_y.fit_transform(np.array(df_migros[\"adet\"]).reshape(1, -1))"
   ]
  },
  {
   "cell_type": "code",
   "execution_count": 343,
   "metadata": {},
   "outputs": [],
   "source": [
    "x = sc_x.fit_transform(np.array(df_migros.drop(\"adet\", axis=1)).reshape(-1, 1))"
   ]
  },
  {
   "cell_type": "code",
   "execution_count": 415,
   "metadata": {},
   "outputs": [],
   "source": [
    "df_migros_backup = df_migros.copy()"
   ]
  },
  {
   "cell_type": "code",
   "execution_count": 417,
   "metadata": {},
   "outputs": [],
   "source": [
    "df_migros.drop(\"school_day_brdg_ratio\", axis=1, inplace=True)\n",
    "df_migros.drop(\"portfoy\", axis=1, inplace=True)"
   ]
  },
  {
   "cell_type": "code",
   "execution_count": 418,
   "metadata": {},
   "outputs": [],
   "source": [
    "df_migros.drop(\"fiyat\", axis=1, inplace=True)"
   ]
  },
  {
   "cell_type": "raw",
   "metadata": {},
   "source": [
    "df_migros.drop(\"fiyat_gecisi\", axis=1, inplace=True)"
   ]
  },
  {
   "cell_type": "code",
   "execution_count": 419,
   "metadata": {},
   "outputs": [],
   "source": [
    "df_migros.drop(\"aktivite_tipi\", axis=1, inplace=True)"
   ]
  },
  {
   "cell_type": "raw",
   "metadata": {},
   "source": [
    "df_migros.drop(\"marka_adi\", axis=1, inplace=True)"
   ]
  },
  {
   "cell_type": "raw",
   "metadata": {},
   "source": [
    "df_migros.drop(\"i̇ndirim_\", axis=1, inplace=True)"
   ]
  },
  {
   "cell_type": "code",
   "execution_count": 420,
   "metadata": {},
   "outputs": [],
   "source": [
    "from sklearn.model_selection import StratifiedKFold\n",
    "from sklearn.utils import shuffle"
   ]
  },
  {
   "cell_type": "code",
   "execution_count": 421,
   "metadata": {},
   "outputs": [],
   "source": [
    "migros_X_train_and_validate, migros_X_test, migros_y_train_and_validate, migros_y_test = train_test_split(\n",
    "    df_migros, migros_y, test_size=0.25, random_state=1)"
   ]
  },
  {
   "cell_type": "code",
   "execution_count": 422,
   "metadata": {},
   "outputs": [
    {
     "name": "stdout",
     "output_type": "stream",
     "text": [
      "migros_X_train_and_validate shape is (2583, 28)\n",
      "migros_X_test shape is (861, 28)\n",
      "migros_y_train_and_validate shape is (2583,)\n",
      "migros_y_test shape is (861,)\n"
     ]
    }
   ],
   "source": [
    "print(\"migros_X_train_and_validate shape is\",  migros_X_train_and_validate.shape)\n",
    "print(f\"migros_X_test shape is {migros_X_test.shape}\")\n",
    "print(f\"migros_y_train_and_validate shape is {migros_y_train_and_validate.shape}\")\n",
    "print(f\"migros_y_test shape is {migros_y_test.shape}\")"
   ]
  },
  {
   "cell_type": "code",
   "execution_count": 423,
   "metadata": {},
   "outputs": [
    {
     "name": "stdout",
     "output_type": "stream",
     "text": [
      "Mem. usage decreased to  0.12 Mb (21.0% reduction)\n"
     ]
    }
   ],
   "source": [
    "migros_X_train_and_validate = reduce_mem_usage(migros_X_train_and_validate)"
   ]
  },
  {
   "cell_type": "code",
   "execution_count": 424,
   "metadata": {},
   "outputs": [
    {
     "name": "stdout",
     "output_type": "stream",
     "text": [
      "Mem. usage decreased to  0.04 Mb (21.0% reduction)\n"
     ]
    }
   ],
   "source": [
    "migros_X_test = reduce_mem_usage(migros_X_test)"
   ]
  },
  {
   "cell_type": "code",
   "execution_count": 425,
   "metadata": {},
   "outputs": [],
   "source": [
    "migros_y_train_and_validate = shuffle(migros_y_train_and_validate)\n",
    "index = migros_y_train_and_validate.index\n",
    "migros_X_train_and_validate.index = index"
   ]
  },
  {
   "cell_type": "markdown",
   "metadata": {},
   "source": [
    "#MODEL"
   ]
  },
  {
   "cell_type": "code",
   "execution_count": 426,
   "metadata": {},
   "outputs": [],
   "source": [
    "pipe_tree = make_pipeline(DecisionTreeRegressor(random_state=1))"
   ]
  },
  {
   "cell_type": "code",
   "execution_count": 427,
   "metadata": {},
   "outputs": [],
   "source": [
    "# make an array of depths to choose from 1 to 16\n",
    "depths = np.arange(1, 20)\n",
    "#depths = [1, 2, 3, 4]"
   ]
  },
  {
   "cell_type": "code",
   "execution_count": 428,
   "metadata": {},
   "outputs": [],
   "source": [
    "#make an array of min_sample_size to choose from 1 to 25\n",
    "min_samples_split = np.arange(2,10)\n",
    "#min_samples_split = [2, 3, 4, 5, 6, 7, 8, 9]"
   ]
  },
  {
   "cell_type": "code",
   "execution_count": 429,
   "metadata": {},
   "outputs": [],
   "source": [
    "#make an array of min_samples_leaf to choose from 1 to 100\n",
    "num_leafs = [1, 2, 3, 4, 5, 10, 20, 40, 50, 75, 100]"
   ]
  },
  {
   "cell_type": "code",
   "execution_count": 430,
   "metadata": {},
   "outputs": [],
   "source": [
    "criterion = [\"mse\", \"friedman_mse\", \"mae\", \"poisson\"]"
   ]
  },
  {
   "cell_type": "code",
   "execution_count": 431,
   "metadata": {},
   "outputs": [],
   "source": [
    "param_grid = [{'decisiontreeregressor__max_depth':depths,\n",
    "              'decisiontreeregressor__min_samples_split':min_samples_split,\n",
    "               'decisiontreeregressor__min_samples_leaf':num_leafs}]"
   ]
  },
  {
   "cell_type": "code",
   "execution_count": 432,
   "metadata": {},
   "outputs": [],
   "source": [
    "rmse_scorer = make_scorer(root_mean_squared_error, greater_is_better=True)"
   ]
  },
  {
   "cell_type": "code",
   "execution_count": 433,
   "metadata": {},
   "outputs": [],
   "source": [
    "#gs = GridSearchCV(estimator=pipe_tree, param_grid=param_grid, scoring=rmse_scorer, cv=5)\n",
    "gs = GridSearchCV(estimator=pipe_tree, param_grid=param_grid, scoring=rmse_scorer, cv=5, verbose=2, n_jobs=-1)"
   ]
  },
  {
   "cell_type": "code",
   "execution_count": 434,
   "metadata": {},
   "outputs": [
    {
     "data": {
      "text/plain": [
       "((2583, 28), (2583,))"
      ]
     },
     "execution_count": 434,
     "metadata": {},
     "output_type": "execute_result"
    }
   ],
   "source": [
    "migros_X_train_and_validate.shape, migros_y_train_and_validate.shape"
   ]
  },
  {
   "cell_type": "code",
   "execution_count": 435,
   "metadata": {},
   "outputs": [],
   "source": [
    "cv = StratifiedKFold(n_splits=5, random_state=100, shuffle=True)"
   ]
  },
  {
   "cell_type": "code",
   "execution_count": 436,
   "metadata": {},
   "outputs": [
    {
     "name": "stdout",
     "output_type": "stream",
     "text": [
      "2021-06-01 23:56:23.712159\n",
      "Fitting 5 folds for each of 1672 candidates, totalling 8360 fits\n"
     ]
    },
    {
     "name": "stderr",
     "output_type": "stream",
     "text": [
      "[Parallel(n_jobs=-1)]: Using backend LokyBackend with 8 concurrent workers.\n",
      "[Parallel(n_jobs=-1)]: Done  34 tasks      | elapsed:    0.1s\n",
      "[Parallel(n_jobs=-1)]: Done 896 tasks      | elapsed:    2.9s\n",
      "[Parallel(n_jobs=-1)]: Done 2520 tasks      | elapsed:    8.0s\n",
      "[Parallel(n_jobs=-1)]: Done 4784 tasks      | elapsed:   17.4s\n",
      "[Parallel(n_jobs=-1)]: Done 7704 tasks      | elapsed:   31.1s\n"
     ]
    },
    {
     "name": "stdout",
     "output_type": "stream",
     "text": [
      "2021-06-01 23:56:57.521685\n",
      "0:00:33.809526\n"
     ]
    },
    {
     "name": "stderr",
     "output_type": "stream",
     "text": [
      "[Parallel(n_jobs=-1)]: Done 8360 out of 8360 | elapsed:   33.7s finished\n"
     ]
    }
   ],
   "source": [
    "now = datetime.now()\n",
    "print(now)\n",
    "gs = gs.fit(migros_X_train_and_validate, migros_y_train_and_validate)\n",
    "end = datetime.now()\n",
    "print(end)\n",
    "print(end-now)"
   ]
  },
  {
   "cell_type": "raw",
   "metadata": {},
   "source": [
    "def mean_absolute_percentage_error(y_true, y_pred): \n",
    "    return np.mean(np.abs((y_true - y_pred) / y_true)) * 100\n",
    "def root_mean_squared_error(y_true, y_pred):\n",
    "    return np.sqrt(mean_squared_error(y_true, y_pred))"
   ]
  },
  {
   "cell_type": "code",
   "execution_count": 437,
   "metadata": {},
   "outputs": [],
   "source": [
    "yhat = gs.predict(migros_X_test)"
   ]
  },
  {
   "cell_type": "code",
   "execution_count": 438,
   "metadata": {},
   "outputs": [
    {
     "data": {
      "text/plain": [
       "Pipeline(steps=[('decisiontreeregressor',\n",
       "                 DecisionTreeRegressor(max_depth=19, random_state=1))])"
      ]
     },
     "execution_count": 438,
     "metadata": {},
     "output_type": "execute_result"
    }
   ],
   "source": [
    "gs.best_estimator_"
   ]
  },
  {
   "cell_type": "code",
   "execution_count": 366,
   "metadata": {},
   "outputs": [
    {
     "data": {
      "text/plain": [
       "2982.9716447836336"
      ]
     },
     "execution_count": 366,
     "metadata": {},
     "output_type": "execute_result"
    }
   ],
   "source": [
    "mean_absolute_percentage_error(migros_y_test, yhat)"
   ]
  },
  {
   "cell_type": "markdown",
   "metadata": {},
   "source": [
    "---\n",
    "# Fiyat Çıkınca"
   ]
  },
  {
   "cell_type": "code",
   "execution_count": 390,
   "metadata": {},
   "outputs": [
    {
     "data": {
      "text/plain": [
       "2786.804261728618"
      ]
     },
     "execution_count": 390,
     "metadata": {},
     "output_type": "execute_result"
    }
   ],
   "source": [
    "mean_absolute_percentage_error(migros_y_test, yhat)"
   ]
  },
  {
   "cell_type": "markdown",
   "metadata": {},
   "source": [
    "---\n",
    "# Fiyat ve Fiyat Geçişi Çıkınca"
   ]
  },
  {
   "cell_type": "code",
   "execution_count": 411,
   "metadata": {},
   "outputs": [
    {
     "data": {
      "text/plain": [
       "3092.6953869225013"
      ]
     },
     "execution_count": 411,
     "metadata": {},
     "output_type": "execute_result"
    }
   ],
   "source": [
    "mean_absolute_percentage_error(migros_y_test, yhat)"
   ]
  },
  {
   "cell_type": "markdown",
   "metadata": {},
   "source": [
    "---\n",
    "# Fiyat ve Aktivite Tipi Çıkınca"
   ]
  },
  {
   "cell_type": "code",
   "execution_count": 439,
   "metadata": {},
   "outputs": [
    {
     "data": {
      "text/plain": [
       "3202.381982515977"
      ]
     },
     "execution_count": 439,
     "metadata": {},
     "output_type": "execute_result"
    }
   ],
   "source": [
    "mean_absolute_percentage_error(migros_y_test, yhat)"
   ]
  },
  {
   "cell_type": "code",
   "execution_count": 440,
   "metadata": {},
   "outputs": [
    {
     "data": {
      "text/plain": [
       "array([ 75384.   ,  24700.   ,  40800.   ,  17112.   ,  81744.   ,\n",
       "       229543.   ,  26494.002,  62892.   ,   5232.   ,   9840.   ],\n",
       "      dtype=float32)"
      ]
     },
     "execution_count": 440,
     "metadata": {},
     "output_type": "execute_result"
    }
   ],
   "source": [
    "np.array(migros_y_test.head(10))"
   ]
  },
  {
   "cell_type": "code",
   "execution_count": 441,
   "metadata": {},
   "outputs": [
    {
     "data": {
      "text/plain": [
       "array([ 10092.        ,  81936.        ,  89132.33616689,  23170.29602582,\n",
       "        12804.        ,  19040.        ,  33600.        ,  12440.50097656,\n",
       "       221462.        ,  67530.78883747])"
      ]
     },
     "execution_count": 441,
     "metadata": {},
     "output_type": "execute_result"
    }
   ],
   "source": [
    "yhat[:10]"
   ]
  }
 ],
 "metadata": {
  "kernelspec": {
   "display_name": "Python 3",
   "language": "python",
   "name": "python3"
  },
  "language_info": {
   "codemirror_mode": {
    "name": "ipython",
    "version": 3
   },
   "file_extension": ".py",
   "mimetype": "text/x-python",
   "name": "python",
   "nbconvert_exporter": "python",
   "pygments_lexer": "ipython3",
   "version": "3.8.5"
  }
 },
 "nbformat": 4,
 "nbformat_minor": 4
}
