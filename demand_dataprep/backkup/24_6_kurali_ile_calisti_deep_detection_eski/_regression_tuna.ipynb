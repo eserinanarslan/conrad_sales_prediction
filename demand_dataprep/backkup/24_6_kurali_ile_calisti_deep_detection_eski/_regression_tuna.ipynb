{
 "cells": [
  {
   "cell_type": "code",
   "execution_count": 2,
   "metadata": {},
   "outputs": [],
   "source": [
    "import pandas as pd\n",
    "import numpy as np\n",
    "import matplotlib.pyplot as plt\n",
    "import seaborn as sns\n",
    "from datetime import datetime\n",
    "\n",
    "from sklearn.model_selection import GridSearchCV\n",
    "from sklearn.model_selection import train_test_split\n",
    "\n",
    "from sklearn.tree import DecisionTreeRegressor\n",
    "from sklearn.calibration import CalibratedClassifierCV\n",
    "from sklearn.ensemble import RandomForestRegressor\n",
    "from sklearn.ensemble import GradientBoostingRegressor\n",
    "from sklearn.neighbors import KNeighborsRegressor\n",
    "from sklearn.linear_model import LinearRegression\n",
    "\n",
    "from sklearn.preprocessing import LabelEncoder\n",
    "#from sklearn.metrics import mean_absolute_percentage_error\n",
    "from statsmodels.tsa.seasonal import STL\n",
    "\n",
    "from xgboost import XGBRegressor\n",
    "import warnings\n",
    "\n",
    "warnings.filterwarnings(\"ignore\")"
   ]
  },
  {
   "cell_type": "code",
   "execution_count": 3,
   "metadata": {},
   "outputs": [],
   "source": [
    "pd.set_option(\"display.max.columns\", 100)\n",
    "pd.set_option(\"display.max.rows\", 100)"
   ]
  },
  {
   "cell_type": "markdown",
   "metadata": {},
   "source": [
    "---\n",
    "# Read Data\n",
    "---"
   ]
  },
  {
   "cell_type": "code",
   "execution_count": 4,
   "metadata": {},
   "outputs": [],
   "source": [
    "df = pd.read_csv(\"../data/_all_data.csv\")"
   ]
  },
  {
   "cell_type": "code",
   "execution_count": 5,
   "metadata": {},
   "outputs": [],
   "source": [
    "df = df[~((df[\"yil\"] == 2021) & (df[\"ay\"] == 6))]"
   ]
  },
  {
   "cell_type": "markdown",
   "metadata": {},
   "source": [
    "---\n",
    "# EDA\n",
    "---"
   ]
  },
  {
   "cell_type": "code",
   "execution_count": 6,
   "metadata": {},
   "outputs": [],
   "source": [
    "def mape(y_true, y_pred): \n",
    "    return np.mean(np.abs((np.array(y_true) - np.array(y_pred)) / y_true)) * 100"
   ]
  },
  {
   "cell_type": "code",
   "execution_count": 7,
   "metadata": {},
   "outputs": [
    {
     "data": {
      "text/plain": [
       "(203435, 59)"
      ]
     },
     "execution_count": 7,
     "metadata": {},
     "output_type": "execute_result"
    }
   ],
   "source": [
    "df.shape"
   ]
  },
  {
   "cell_type": "code",
   "execution_count": 8,
   "metadata": {},
   "outputs": [],
   "source": [
    "df.date = pd.to_datetime(df.date, format='%Y-%m-%d', errors=\"coerce\")"
   ]
  },
  {
   "cell_type": "code",
   "execution_count": 9,
   "metadata": {},
   "outputs": [],
   "source": [
    "df_reg = df[(df[\"scope\"] == 3) & (df[\"portfoy\"] == 1)]"
   ]
  },
  {
   "cell_type": "raw",
   "metadata": {},
   "source": [
    "test2 = df_reg[(df_reg[\"urun_adi\"] == \"ULK.ÇİK.GOF. BEYAZ 35Gx36x6\") & (df_reg[\"grup_adi\"] == \"ŞOK\")]\n",
    "test = df_reg[(df_reg[\"urun_adi\"] == \"ULK.ÇİK.GOF. BEYAZ 35Gx36x6\") & (df_reg[\"grup_adi\"] == \"ŞOK\")]"
   ]
  },
  {
   "cell_type": "raw",
   "metadata": {},
   "source": [
    "def trend_seasonality_decomp(data):\n",
    "    df_all = []\n",
    "    for sku in data[\"en_guncel_kod\"].unique():\n",
    "        for grup in data[\"grup_adi\"].unique():\n",
    "            temp_df = data[(data[\"en_guncel_kod\"] == sku) & \n",
    "                           (data[\"grup_adi\"] == grup)]\n",
    "\n",
    "            if len(temp_df) > 2:\n",
    "                df_ts = temp_df[['new_adet','date']]\n",
    "                df_ts.set_index('date',inplace=True)\n",
    "\n",
    "                result = STL(df_ts).fit()\n",
    "                temp_df['season'] = list(result.seasonal)\n",
    "                temp_df['trend']  = list(result.trend)\n",
    "                temp_df['residual']  = list(result.resid)\n",
    "                df_all.append(temp_df)\n",
    "            else:\n",
    "                pass\n",
    "    df_all = pd.concat(df_all)\n",
    "    return df_all"
   ]
  },
  {
   "cell_type": "raw",
   "metadata": {},
   "source": [
    "for sku in df_reg.urun_adi.unique():\n",
    "    for grp in df_reg.grup_adi.unique():\n",
    "        temp_df = df_reg[(df_reg[\"urun_adi\"] == sku) & (df_reg[\"grup_adi\"] == grp)]\n",
    "        if len(temp_df) > 1:\n",
    "            if len(temp_df.trend.value_counts()) > 1:\n",
    "                pass\n",
    "            else:\n",
    "                print(sku, grp)\n",
    "        else:\n",
    "            pass"
   ]
  },
  {
   "cell_type": "code",
   "execution_count": 10,
   "metadata": {},
   "outputs": [
    {
     "data": {
      "text/plain": [
       "Index(['yil', 'ay', 'grup_adi', 'ana_kategori_adi', 'kategori_adi',\n",
       "       'marka_adi', 'urun_adi', 'en_guncel_kod', 'koli_i̇ci_adet', 'koli',\n",
       "       'kg', 'tl', 'adet', 'date', 'portfoy', 'satis_var', 'enflasyon_etkisi',\n",
       "       'yarisma', 'new_adet', 'peak', 'fiyat', 'fiyat_gecisi',\n",
       "       'promosyon_tutari', 'ciro_kull_i̇ade_dus', 'aktivite_tipi', 'indirim__',\n",
       "       'no_of_days', 'weekdays_n', 'weekdays_ratio', 'weekend_n',\n",
       "       'weekend_ratio', 'actual_holiday_n', 'actual_holiday_ratio',\n",
       "       'total_holiday_n', 'total_holiday_ratio', 'school_day_n',\n",
       "       'school_day_ratio', 'school_day_brdg_n', 'school_day_brdg_ratio',\n",
       "       'ramadan_n', 'ramadan_ratio', 'pandemic', 'lockdown', 'gozlem_sayisi',\n",
       "       'toplam_satir', 'oran', 'baslangic_tarih', 'bitis_tarih',\n",
       "       'son_kac_ay_eksik', 'eksik_repeat_sayisi', 'scope', 'indirim__bins',\n",
       "       'season', 'trend', 'residual', 'adet_flag', 'Kanal', 'scope_type',\n",
       "       'durum'],\n",
       "      dtype='object')"
      ]
     },
     "execution_count": 10,
     "metadata": {},
     "output_type": "execute_result"
    }
   ],
   "source": [
    "df.columns"
   ]
  },
  {
   "cell_type": "code",
   "execution_count": 11,
   "metadata": {},
   "outputs": [],
   "source": [
    "cols_to_drop = ['en_guncel_kod', 'koli_i̇ci_adet', 'koli',\n",
    "                'kg', 'tl', 'adet', 'date', 'satis_var', 'promosyon_tutari',\n",
    "                'ciro_kull_i̇ade_dus', 'weekdays_ratio', 'weekend_ratio',\n",
    "                'total_holiday_ratio', 'school_day_ratio', 'school_day_brdg_n', 'school_day_brdg_ratio',\n",
    "                'ramadan_ratio', 'gozlem_sayisi', 'actual_holiday_ratio',\n",
    "                'toplam_satir', 'oran', 'baslangic_tarih', 'bitis_tarih',\n",
    "                'son_kac_ay_eksik', 'eksik_repeat_sayisi', 'adet_flag', \n",
    "                'scope_type', 'durum']"
   ]
  },
  {
   "cell_type": "code",
   "execution_count": 12,
   "metadata": {},
   "outputs": [],
   "source": [
    "df_droped = df[cols_to_drop]"
   ]
  },
  {
   "cell_type": "code",
   "execution_count": 13,
   "metadata": {},
   "outputs": [],
   "source": [
    "df.drop(columns=cols_to_drop, axis=1, inplace=True)"
   ]
  },
  {
   "cell_type": "code",
   "execution_count": 14,
   "metadata": {},
   "outputs": [
    {
     "data": {
      "text/plain": [
       "yil                  0.000000\n",
       "ay                   0.000000\n",
       "grup_adi             0.000000\n",
       "ana_kategori_adi     0.000000\n",
       "kategori_adi         0.000000\n",
       "marka_adi            0.000000\n",
       "urun_adi             0.000000\n",
       "portfoy              0.000000\n",
       "enflasyon_etkisi     0.000000\n",
       "yarisma              0.000000\n",
       "new_adet             0.000000\n",
       "peak                 0.000000\n",
       "fiyat                6.718116\n",
       "fiyat_gecisi         6.718116\n",
       "aktivite_tipi        0.000000\n",
       "indirim__            0.000000\n",
       "no_of_days           0.000000\n",
       "weekdays_n           0.000000\n",
       "weekend_n            0.000000\n",
       "actual_holiday_n     0.000000\n",
       "total_holiday_n      0.000000\n",
       "school_day_n         0.000000\n",
       "ramadan_n            0.000000\n",
       "pandemic             0.000000\n",
       "lockdown             0.000000\n",
       "scope                0.000000\n",
       "indirim__bins        0.000000\n",
       "season              88.834271\n",
       "trend               88.834271\n",
       "residual            88.834271\n",
       "Kanal                0.000000\n",
       "dtype: float64"
      ]
     },
     "execution_count": 14,
     "metadata": {},
     "output_type": "execute_result"
    }
   ],
   "source": [
    "(df.isna().sum() / len(df))*100"
   ]
  },
  {
   "cell_type": "code",
   "execution_count": 15,
   "metadata": {},
   "outputs": [],
   "source": [
    "df.rename(columns={\"Kanal\": \"kanal\"}, inplace=True)"
   ]
  },
  {
   "cell_type": "markdown",
   "metadata": {},
   "source": [
    "## Aktivite Tipi silindi çünkü %97'si missing"
   ]
  },
  {
   "cell_type": "code",
   "execution_count": 16,
   "metadata": {},
   "outputs": [
    {
     "data": {
      "text/plain": [
       "yil                       0.000000\n",
       "ay                        0.000000\n",
       "grup_adi                  0.000000\n",
       "ana_kategori_adi          0.000000\n",
       "kategori_adi              0.000000\n",
       "marka_adi                 0.000000\n",
       "urun_adi                  0.000000\n",
       "en_guncel_kod             0.000000\n",
       "koli_i̇ci_adet            0.000000\n",
       "koli                      0.000000\n",
       "kg                        0.000000\n",
       "tl                        0.000000\n",
       "adet                      0.000000\n",
       "date                      0.000000\n",
       "portfoy                   0.000000\n",
       "satis_var                 0.000000\n",
       "enflasyon_etkisi          0.000000\n",
       "yarisma                   0.000000\n",
       "new_adet                  0.000000\n",
       "peak                      0.000000\n",
       "fiyat                     1.497121\n",
       "fiyat_gecisi              1.497121\n",
       "promosyon_tutari         49.635317\n",
       "ciro_kull_i̇ade_dus      48.061420\n",
       "aktivite_tipi             0.000000\n",
       "indirim__                 0.000000\n",
       "no_of_days                0.000000\n",
       "weekdays_n                0.000000\n",
       "weekdays_ratio            0.000000\n",
       "weekend_n                 0.000000\n",
       "weekend_ratio             0.000000\n",
       "actual_holiday_n          0.000000\n",
       "actual_holiday_ratio      0.000000\n",
       "total_holiday_n           0.000000\n",
       "total_holiday_ratio       0.000000\n",
       "school_day_n              0.000000\n",
       "school_day_ratio          0.000000\n",
       "school_day_brdg_n         0.000000\n",
       "school_day_brdg_ratio     0.000000\n",
       "ramadan_n                 0.000000\n",
       "ramadan_ratio             0.000000\n",
       "pandemic                  0.000000\n",
       "lockdown                  0.000000\n",
       "gozlem_sayisi             0.000000\n",
       "toplam_satir              0.000000\n",
       "oran                      0.000000\n",
       "baslangic_tarih           0.000000\n",
       "bitis_tarih               0.000000\n",
       "son_kac_ay_eksik          0.000000\n",
       "eksik_repeat_sayisi       0.000000\n",
       "scope                     0.000000\n",
       "indirim__bins             0.000000\n",
       "season                    0.000000\n",
       "trend                     0.000000\n",
       "residual                  0.000000\n",
       "adet_flag                 0.000000\n",
       "Kanal                     0.000000\n",
       "scope_type                0.000000\n",
       "durum                    80.729367\n",
       "dtype: float64"
      ]
     },
     "execution_count": 16,
     "metadata": {},
     "output_type": "execute_result"
    }
   ],
   "source": [
    "(df_reg.isna().sum() / len(df_reg))*100"
   ]
  },
  {
   "cell_type": "code",
   "execution_count": 17,
   "metadata": {},
   "outputs": [],
   "source": [
    "df_reg[\"enflasyon_etkisi\"].fillna(method=\"ffill\", inplace=True)"
   ]
  },
  {
   "cell_type": "code",
   "execution_count": 18,
   "metadata": {},
   "outputs": [],
   "source": [
    "df_reg[\"fiyat\"].fillna(method=\"ffill\", inplace=True)\n",
    "df_reg[\"fiyat_gecisi\"].fillna(value=0, inplace=True)"
   ]
  },
  {
   "cell_type": "code",
   "execution_count": 19,
   "metadata": {},
   "outputs": [],
   "source": [
    "df_reg = df_reg[df_reg[\"portfoy\"] == 1]"
   ]
  },
  {
   "cell_type": "code",
   "execution_count": 20,
   "metadata": {},
   "outputs": [],
   "source": [
    "df_reg.drop(columns=[\"portfoy\", \"scope\"], axis=1, inplace=True)"
   ]
  },
  {
   "cell_type": "code",
   "execution_count": 21,
   "metadata": {},
   "outputs": [
    {
     "data": {
      "text/plain": [
       "Index(['yil', 'ay', 'grup_adi', 'ana_kategori_adi', 'kategori_adi',\n",
       "       'marka_adi', 'urun_adi', 'en_guncel_kod', 'koli_i̇ci_adet', 'koli',\n",
       "       'kg', 'tl', 'adet', 'date', 'satis_var', 'enflasyon_etkisi', 'yarisma',\n",
       "       'new_adet', 'peak', 'fiyat', 'fiyat_gecisi', 'promosyon_tutari',\n",
       "       'ciro_kull_i̇ade_dus', 'aktivite_tipi', 'indirim__', 'no_of_days',\n",
       "       'weekdays_n', 'weekdays_ratio', 'weekend_n', 'weekend_ratio',\n",
       "       'actual_holiday_n', 'actual_holiday_ratio', 'total_holiday_n',\n",
       "       'total_holiday_ratio', 'school_day_n', 'school_day_ratio',\n",
       "       'school_day_brdg_n', 'school_day_brdg_ratio', 'ramadan_n',\n",
       "       'ramadan_ratio', 'pandemic', 'lockdown', 'gozlem_sayisi',\n",
       "       'toplam_satir', 'oran', 'baslangic_tarih', 'bitis_tarih',\n",
       "       'son_kac_ay_eksik', 'eksik_repeat_sayisi', 'indirim__bins', 'season',\n",
       "       'trend', 'residual', 'adet_flag', 'Kanal', 'scope_type', 'durum'],\n",
       "      dtype='object')"
      ]
     },
     "execution_count": 21,
     "metadata": {},
     "output_type": "execute_result"
    }
   ],
   "source": [
    "df_reg.columns"
   ]
  },
  {
   "cell_type": "code",
   "execution_count": 22,
   "metadata": {},
   "outputs": [],
   "source": [
    "X_vars = ['yil', 'ay', 'Kanal', 'grup_adi', 'ana_kategori_adi', \n",
    "          'kategori_adi', 'marka_adi', 'urun_adi', 'enflasyon_etkisi', \n",
    "          'peak', 'indirim__bins', 'aktivite_tipi', 'lockdown', 'season', 'trend']"
   ]
  },
  {
   "cell_type": "code",
   "execution_count": 23,
   "metadata": {},
   "outputs": [],
   "source": [
    "y_vars = [\"new_adet\"]"
   ]
  },
  {
   "cell_type": "code",
   "execution_count": 24,
   "metadata": {},
   "outputs": [],
   "source": [
    "df_reg = df_reg[X_vars+y_vars]"
   ]
  },
  {
   "cell_type": "code",
   "execution_count": 25,
   "metadata": {},
   "outputs": [
    {
     "data": {
      "text/plain": [
       "Index(['yil', 'ay', 'Kanal', 'grup_adi', 'ana_kategori_adi', 'kategori_adi',\n",
       "       'marka_adi', 'urun_adi', 'enflasyon_etkisi', 'peak', 'indirim__bins',\n",
       "       'aktivite_tipi', 'lockdown', 'season', 'trend', 'new_adet'],\n",
       "      dtype='object')"
      ]
     },
     "execution_count": 25,
     "metadata": {},
     "output_type": "execute_result"
    }
   ],
   "source": [
    "df_reg.columns"
   ]
  },
  {
   "cell_type": "markdown",
   "metadata": {},
   "source": [
    "---\n",
    "# Label Encoding\n",
    "---"
   ]
  },
  {
   "cell_type": "code",
   "execution_count": 26,
   "metadata": {},
   "outputs": [],
   "source": [
    "le_kanal = LabelEncoder()\n",
    "le_grup_adi = LabelEncoder()\n",
    "le_ana_kategori_adi = LabelEncoder()\n",
    "le_kategori_adi = LabelEncoder()\n",
    "le_marka_adi = LabelEncoder()\n",
    "le_urun_adi = LabelEncoder()\n",
    "#le_aktivite = LabelEncoder()\n",
    "\n",
    "df_reg[\"Kanal\"] = le_kanal.fit_transform(df_reg[\"Kanal\"])\n",
    "df_reg[\"grup_adi\"] = le_grup_adi.fit_transform(df_reg[\"grup_adi\"])\n",
    "df_reg[\"ana_kategori_adi\"] = le_ana_kategori_adi.fit_transform(df_reg[\"ana_kategori_adi\"])\n",
    "df_reg[\"kategori_adi\"] = le_kategori_adi.fit_transform(df_reg[\"kategori_adi\"])\n",
    "df_reg[\"marka_adi\"] = le_marka_adi.fit_transform(df_reg[\"marka_adi\"])\n",
    "df_reg[\"urun_adi\"] = le_urun_adi.fit_transform(df_reg[\"urun_adi\"])\n",
    "#df_reg[\"aktivite_tipi\"] = le_aktivite.fit_transform(df_reg[\"aktivite_tipi\"])"
   ]
  },
  {
   "cell_type": "markdown",
   "metadata": {},
   "source": [
    "---\n",
    "# Son 3 aya seasonality ve trend eklenmesi\n",
    "---"
   ]
  },
  {
   "cell_type": "code",
   "execution_count": 27,
   "metadata": {},
   "outputs": [],
   "source": [
    "df_all = []\n",
    "for sku in df_reg.urun_adi.unique():\n",
    "    for grp in df_reg.grup_adi.unique():\n",
    "        test = df_reg[(df_reg[\"urun_adi\"] == sku) & (df_reg[\"grup_adi\"] == grp)]\n",
    "        for idx in test.iloc[-3:].index:\n",
    "            try:\n",
    "                test.loc[idx, \"season\"] = test.loc[list(range(idx-1, idx-7, -1)), \"season\"].mean()\n",
    "                test.loc[idx, \"trend\"] = test.loc[list(range(idx-1, idx-7, -1)), \"trend\"].mean()\n",
    "                df_all.append(test)\n",
    "            except KeyError:\n",
    "                test.loc[idx, \"season\"] = test.loc[list(range(idx-1, test.index.min(), -1)), \"season\"].mean()\n",
    "                test.loc[idx, \"trend\"] = test.loc[list(range(idx-1, test.index.min(), -1)), \"trend\"].mean()\n",
    "                df_all.append(test)\n",
    "df_all = pd.concat(df_all)\n",
    "df_all.drop_duplicates(subset=df_all.columns.to_list(), ignore_index=True, inplace=True)"
   ]
  },
  {
   "cell_type": "code",
   "execution_count": 28,
   "metadata": {},
   "outputs": [],
   "source": [
    "df_reg = df_all.copy()"
   ]
  },
  {
   "cell_type": "code",
   "execution_count": 29,
   "metadata": {},
   "outputs": [],
   "source": [
    "X_train = []\n",
    "X_test = []\n",
    "y_train = []\n",
    "y_test = []\n",
    "for sku in df_reg.urun_adi.unique():\n",
    "    for grp in df_reg.grup_adi.unique():\n",
    "        temp_df = df_reg[(df_reg[\"urun_adi\"] == sku) & (df_reg[\"grup_adi\"] == grp)]\n",
    "        temp_df.sort_values(by=[\"yil\", \"ay\"], inplace=True)\n",
    "        X_train.append(temp_df.iloc[:-3, :-1])\n",
    "        X_test.append(temp_df.iloc[-3:, :-1])\n",
    "        y_train.append(temp_df.iloc[:-3, -1:])\n",
    "        y_test.append(temp_df.iloc[-3:, -1:])"
   ]
  },
  {
   "cell_type": "code",
   "execution_count": 30,
   "metadata": {},
   "outputs": [],
   "source": [
    "X_train, X_test, y_train, y_test = pd.concat(X_train), pd.concat(X_test), pd.concat(y_train), pd.concat(y_test)"
   ]
  },
  {
   "cell_type": "code",
   "execution_count": 31,
   "metadata": {},
   "outputs": [
    {
     "data": {
      "text/plain": [
       "((2308, 15), (297, 15), (2308, 1), (297, 1))"
      ]
     },
     "execution_count": 31,
     "metadata": {},
     "output_type": "execute_result"
    }
   ],
   "source": [
    "X_train.shape, X_test.shape, y_train.shape, y_test.shape"
   ]
  },
  {
   "cell_type": "markdown",
   "metadata": {},
   "source": [
    "---\n",
    "# Regresyon"
   ]
  },
  {
   "cell_type": "markdown",
   "metadata": {},
   "source": [
    "### Başlıyoruz"
   ]
  },
  {
   "cell_type": "markdown",
   "metadata": {},
   "source": [
    "---\n",
    "# Linear Regression\n",
    "---"
   ]
  },
  {
   "cell_type": "code",
   "execution_count": 32,
   "metadata": {},
   "outputs": [],
   "source": [
    "from sklearn.linear_model import LinearRegression"
   ]
  },
  {
   "cell_type": "code",
   "execution_count": 33,
   "metadata": {},
   "outputs": [],
   "source": [
    "lm = LinearRegression()\n",
    "lm.fit(X_train, y_train)\n",
    "yhat_lm = lm.predict(X_test)"
   ]
  },
  {
   "cell_type": "code",
   "execution_count": 34,
   "metadata": {},
   "outputs": [
    {
     "name": "stdout",
     "output_type": "stream",
     "text": [
      "MAPE: 2597.9622546244696\n"
     ]
    }
   ],
   "source": [
    "print(\"MAPE:\", mape(np.array(y_test), yhat_lm))"
   ]
  },
  {
   "cell_type": "code",
   "execution_count": 35,
   "metadata": {},
   "outputs": [
    {
     "data": {
      "text/plain": [
       "array([[  49263.43542983],\n",
       "       [  25314.31829228],\n",
       "       [  25914.82354466],\n",
       "       [  38819.15583731],\n",
       "       [  38582.49661359],\n",
       "       [  45811.95288503],\n",
       "       [  40830.85605397],\n",
       "       [  16604.9696635 ],\n",
       "       [  19005.79099208],\n",
       "       [1251513.19268982],\n",
       "       [1343128.25775858],\n",
       "       [1435314.61758602],\n",
       "       [  65351.38212328],\n",
       "       [  68759.37034635],\n",
       "       [  74894.34568941],\n",
       "       [  95346.63767553],\n",
       "       [  99181.17707931],\n",
       "       [ 115091.01954461],\n",
       "       [ 169889.11165471],\n",
       "       [ 161299.31776057]])"
      ]
     },
     "execution_count": 35,
     "metadata": {},
     "output_type": "execute_result"
    }
   ],
   "source": [
    "yhat_lm[:20]"
   ]
  },
  {
   "cell_type": "code",
   "execution_count": 36,
   "metadata": {},
   "outputs": [
    {
     "data": {
      "text/html": [
       "<div>\n",
       "<style scoped>\n",
       "    .dataframe tbody tr th:only-of-type {\n",
       "        vertical-align: middle;\n",
       "    }\n",
       "\n",
       "    .dataframe tbody tr th {\n",
       "        vertical-align: top;\n",
       "    }\n",
       "\n",
       "    .dataframe thead th {\n",
       "        text-align: right;\n",
       "    }\n",
       "</style>\n",
       "<table border=\"1\" class=\"dataframe\">\n",
       "  <thead>\n",
       "    <tr style=\"text-align: right;\">\n",
       "      <th></th>\n",
       "      <th>new_adet</th>\n",
       "    </tr>\n",
       "  </thead>\n",
       "  <tbody>\n",
       "    <tr>\n",
       "      <th>32</th>\n",
       "      <td>95049.99900</td>\n",
       "    </tr>\n",
       "    <tr>\n",
       "      <th>33</th>\n",
       "      <td>3420.00000</td>\n",
       "    </tr>\n",
       "    <tr>\n",
       "      <th>34</th>\n",
       "      <td>1766.99880</td>\n",
       "    </tr>\n",
       "    <tr>\n",
       "      <th>59</th>\n",
       "      <td>23097.99420</td>\n",
       "    </tr>\n",
       "    <tr>\n",
       "      <th>60</th>\n",
       "      <td>5458.99410</td>\n",
       "    </tr>\n",
       "    <tr>\n",
       "      <th>61</th>\n",
       "      <td>11183.99760</td>\n",
       "    </tr>\n",
       "    <tr>\n",
       "      <th>112</th>\n",
       "      <td>49835.99232</td>\n",
       "    </tr>\n",
       "    <tr>\n",
       "      <th>113</th>\n",
       "      <td>16575.98976</td>\n",
       "    </tr>\n",
       "    <tr>\n",
       "      <th>114</th>\n",
       "      <td>17280.00000</td>\n",
       "    </tr>\n",
       "    <tr>\n",
       "      <th>158</th>\n",
       "      <td>845856.00000</td>\n",
       "    </tr>\n",
       "    <tr>\n",
       "      <th>159</th>\n",
       "      <td>621792.00000</td>\n",
       "    </tr>\n",
       "    <tr>\n",
       "      <th>160</th>\n",
       "      <td>372240.00000</td>\n",
       "    </tr>\n",
       "    <tr>\n",
       "      <th>183</th>\n",
       "      <td>75800.01024</td>\n",
       "    </tr>\n",
       "    <tr>\n",
       "      <th>184</th>\n",
       "      <td>28203.00120</td>\n",
       "    </tr>\n",
       "    <tr>\n",
       "      <th>185</th>\n",
       "      <td>9793.00008</td>\n",
       "    </tr>\n",
       "    <tr>\n",
       "      <th>208</th>\n",
       "      <td>108212.04000</td>\n",
       "    </tr>\n",
       "    <tr>\n",
       "      <th>209</th>\n",
       "      <td>114296.08320</td>\n",
       "    </tr>\n",
       "    <tr>\n",
       "      <th>210</th>\n",
       "      <td>54.00432</td>\n",
       "    </tr>\n",
       "    <tr>\n",
       "      <th>233</th>\n",
       "      <td>208512.00000</td>\n",
       "    </tr>\n",
       "    <tr>\n",
       "      <th>234</th>\n",
       "      <td>67356.00000</td>\n",
       "    </tr>\n",
       "  </tbody>\n",
       "</table>\n",
       "</div>"
      ],
      "text/plain": [
       "         new_adet\n",
       "32    95049.99900\n",
       "33     3420.00000\n",
       "34     1766.99880\n",
       "59    23097.99420\n",
       "60     5458.99410\n",
       "61    11183.99760\n",
       "112   49835.99232\n",
       "113   16575.98976\n",
       "114   17280.00000\n",
       "158  845856.00000\n",
       "159  621792.00000\n",
       "160  372240.00000\n",
       "183   75800.01024\n",
       "184   28203.00120\n",
       "185    9793.00008\n",
       "208  108212.04000\n",
       "209  114296.08320\n",
       "210      54.00432\n",
       "233  208512.00000\n",
       "234   67356.00000"
      ]
     },
     "execution_count": 36,
     "metadata": {},
     "output_type": "execute_result"
    }
   ],
   "source": [
    "y_test.iloc[:20, :]"
   ]
  },
  {
   "cell_type": "markdown",
   "metadata": {},
   "source": [
    "---\n",
    "# KNN\n",
    "---"
   ]
  },
  {
   "cell_type": "code",
   "execution_count": 37,
   "metadata": {},
   "outputs": [
    {
     "name": "stdout",
     "output_type": "stream",
     "text": [
      "Fitting 5 folds for each of 224 candidates, totalling 1120 fits\n"
     ]
    },
    {
     "name": "stderr",
     "output_type": "stream",
     "text": [
      "[Parallel(n_jobs=-1)]: Using backend LokyBackend with 8 concurrent workers.\n",
      "[Parallel(n_jobs=-1)]: Done  25 tasks      | elapsed:   28.1s\n",
      "[Parallel(n_jobs=-1)]: Done 188 tasks      | elapsed:   30.7s\n",
      "[Parallel(n_jobs=-1)]: Done 594 tasks      | elapsed:   36.5s\n",
      "[Parallel(n_jobs=-1)]: Done 1105 out of 1120 | elapsed:   46.4s remaining:    0.5s\n",
      "[Parallel(n_jobs=-1)]: Done 1120 out of 1120 | elapsed:   46.5s finished\n"
     ]
    },
    {
     "data": {
      "text/plain": [
       "GridSearchCV(cv=5, estimator=KNeighborsRegressor(), n_jobs=-1,\n",
       "             param_grid={'algorithm': ['auto', 'ball_tree'],\n",
       "                         'leaf_size': [30, 50, 75, 100],\n",
       "                         'metric': ['euclidean', 'manhattan'],\n",
       "                         'n_neighbors': [20, 25, 30, 35, 40, 45, 50],\n",
       "                         'weights': ['uniform', 'distance']},\n",
       "             scoring='neg_mean_absolute_error', verbose=2)"
      ]
     },
     "execution_count": 37,
     "metadata": {},
     "output_type": "execute_result"
    }
   ],
   "source": [
    "#GridSearch to determine best parameters\n",
    "param_grid_knn = {\n",
    "    'algorithm': ['auto', 'ball_tree'],\n",
    "    'leaf_size': [30, 50, 75, 100],\n",
    "    'weights' : ['uniform', 'distance'],\n",
    "    'metric' : ['euclidean', 'manhattan'],\n",
    "    'n_neighbors' : list(range(20, 51, 5))\n",
    "}\n",
    "\n",
    "gsm_knn = GridSearchCV(KNeighborsRegressor(),\n",
    "                   param_grid=param_grid_knn,\n",
    "                   cv=5,\n",
    "                   n_jobs=-1,\n",
    "                   verbose=2,\n",
    "                   refit=True,\n",
    "                   scoring='neg_mean_absolute_error')\n",
    "\n",
    "gsm_knn.fit(X_train, y_train)"
   ]
  },
  {
   "cell_type": "code",
   "execution_count": 38,
   "metadata": {},
   "outputs": [
    {
     "name": "stdout",
     "output_type": "stream",
     "text": [
      "{'algorithm': 'auto', 'leaf_size': 30, 'metric': 'euclidean', 'n_neighbors': 20, 'weights': 'distance'}\n"
     ]
    }
   ],
   "source": [
    "best_params_knn = gsm_knn.best_params_\n",
    "print(best_params_knn)"
   ]
  },
  {
   "cell_type": "code",
   "execution_count": 39,
   "metadata": {},
   "outputs": [],
   "source": [
    "yhat_knn = gsm_knn.predict(X_test)"
   ]
  },
  {
   "cell_type": "code",
   "execution_count": 40,
   "metadata": {},
   "outputs": [
    {
     "name": "stdout",
     "output_type": "stream",
     "text": [
      "MAPE: new_adet    825.96309\n",
      "dtype: float64\n"
     ]
    }
   ],
   "source": [
    "print(\"MAPE:\", mape(y_test, yhat_knn))"
   ]
  },
  {
   "cell_type": "markdown",
   "metadata": {},
   "source": [
    "---\n",
    "# XGBoost\n",
    "---"
   ]
  },
  {
   "cell_type": "code",
   "execution_count": 41,
   "metadata": {},
   "outputs": [
    {
     "name": "stdout",
     "output_type": "stream",
     "text": [
      "Fitting 5 folds for each of 1728 candidates, totalling 8640 fits\n"
     ]
    },
    {
     "name": "stderr",
     "output_type": "stream",
     "text": [
      "[Parallel(n_jobs=-1)]: Using backend LokyBackend with 8 concurrent workers.\n",
      "[Parallel(n_jobs=-1)]: Done  25 tasks      | elapsed:    5.2s\n",
      "[Parallel(n_jobs=-1)]: Done 146 tasks      | elapsed:   24.8s\n",
      "[Parallel(n_jobs=-1)]: Done 349 tasks      | elapsed:  1.3min\n",
      "[Parallel(n_jobs=-1)]: Done 632 tasks      | elapsed:  3.2min\n",
      "[Parallel(n_jobs=-1)]: Done 997 tasks      | elapsed:  5.0min\n",
      "[Parallel(n_jobs=-1)]: Done 1442 tasks      | elapsed:  6.9min\n",
      "[Parallel(n_jobs=-1)]: Done 1969 tasks      | elapsed:  8.8min\n",
      "[Parallel(n_jobs=-1)]: Done 2576 tasks      | elapsed: 10.8min\n",
      "[Parallel(n_jobs=-1)]: Done 3265 tasks      | elapsed: 11.9min\n",
      "[Parallel(n_jobs=-1)]: Done 4034 tasks      | elapsed: 12.3min\n",
      "[Parallel(n_jobs=-1)]: Done 4885 tasks      | elapsed: 12.8min\n",
      "[Parallel(n_jobs=-1)]: Done 5816 tasks      | elapsed: 13.7min\n",
      "[Parallel(n_jobs=-1)]: Done 6829 tasks      | elapsed: 26.6min\n",
      "[Parallel(n_jobs=-1)]: Done 7922 tasks      | elapsed: 43.8min\n",
      "[Parallel(n_jobs=-1)]: Done 8640 out of 8640 | elapsed: 58.1min finished\n"
     ]
    },
    {
     "name": "stdout",
     "output_type": "stream",
     "text": [
      "[21:48:54] WARNING: C:/Users/Administrator/workspace/xgboost-win64_release_1.4.0/src/learner.cc:573: \n",
      "Parameters: { \"colsample_bytree\", \"max_depth\", \"min_child_weight\", \"subsample\" } might not be used.\n",
      "\n",
      "  This may not be accurate due to some parameters are only used in language bindings but\n",
      "  passed down to XGBoost core.  Or some parameters are not used but slip through this\n",
      "  verification. Please open an issue if you find above cases.\n",
      "\n",
      "\n"
     ]
    },
    {
     "data": {
      "text/plain": [
       "GridSearchCV(cv=5,\n",
       "             estimator=XGBRegressor(base_score=None, booster=None,\n",
       "                                    colsample_bylevel=None,\n",
       "                                    colsample_bynode=None,\n",
       "                                    colsample_bytree=None, gamma=None,\n",
       "                                    gpu_id=None, importance_type='gain',\n",
       "                                    interaction_constraints=None,\n",
       "                                    learning_rate=None, max_delta_step=None,\n",
       "                                    max_depth=None, min_child_weight=None,\n",
       "                                    missing=nan, monotone_constraints=None,\n",
       "                                    n_estimators=100, n_jobs=...\n",
       "                                    tree_method=None, validate_parameters=None,\n",
       "                                    verbosity=None),\n",
       "             n_jobs=-1,\n",
       "             param_grid={'booster': ['gbtree', 'gblinear', 'dart'],\n",
       "                         'colsample_bytree': [0.4, 0.7, 0.9],\n",
       "                         'learning_rate': [0.1, 0.001],\n",
       "                         'max_depth': [5, 6, 7, 8],\n",
       "                         'min_child_weight': [5, 6, 7, 8, 9, 10],\n",
       "                         'objective': ['reg:squarederror'],\n",
       "                         'random_state': [42],\n",
       "                         'subsample': [0.4, 0.5, 0.6, 0.7]},\n",
       "             scoring='neg_mean_absolute_error', verbose=2)"
      ]
     },
     "execution_count": 41,
     "metadata": {},
     "output_type": "execute_result"
    }
   ],
   "source": [
    "#GridSearch to determine best parameters\n",
    "param_grid_xgb = {'colsample_bytree': [0.4, 0.7, 0.9],\n",
    "                  'booster': [\"gbtree\", \"gblinear\", \"dart\"],\n",
    "                  'learning_rate': [0.1, 0.001],\n",
    "                  'max_depth': list(range(5, 9)),\n",
    "                  'min_child_weight': list(range(5, 11)),\n",
    "                  'objective': ['reg:squarederror'],\n",
    "                  'subsample': [0.4, 0.5, 0.6, 0.7],\n",
    "                  'random_state': [42]}\n",
    "\n",
    "\n",
    "gsm_xgb = GridSearchCV(XGBRegressor(),\n",
    "                       param_grid=param_grid_xgb,\n",
    "                       cv=5,\n",
    "                       n_jobs=-1,\n",
    "                       verbose=2,\n",
    "                       refit=True,\n",
    "                       scoring='neg_mean_absolute_error')\n",
    "\n",
    "gsm_xgb.fit(X_train, y_train)"
   ]
  },
  {
   "cell_type": "code",
   "execution_count": 42,
   "metadata": {},
   "outputs": [
    {
     "name": "stdout",
     "output_type": "stream",
     "text": [
      "{'booster': 'gblinear', 'colsample_bytree': 0.4, 'learning_rate': 0.1, 'max_depth': 8, 'min_child_weight': 5, 'objective': 'reg:squarederror', 'random_state': 42, 'subsample': 0.5}\n"
     ]
    }
   ],
   "source": [
    "best_params_xgb = gsm_xgb.best_params_\n",
    "print(gsm_xgb.best_params_)"
   ]
  },
  {
   "cell_type": "code",
   "execution_count": 43,
   "metadata": {},
   "outputs": [],
   "source": [
    "yhat_xgb = gsm_xgb.predict(X_test)"
   ]
  },
  {
   "cell_type": "code",
   "execution_count": 44,
   "metadata": {},
   "outputs": [
    {
     "data": {
      "text/plain": [
       "array([47887.516, 23888.453, 24168.527, 34886.188, 34001.74 ],\n",
       "      dtype=float32)"
      ]
     },
     "execution_count": 44,
     "metadata": {},
     "output_type": "execute_result"
    }
   ],
   "source": [
    "yhat_xgb[:5]"
   ]
  },
  {
   "cell_type": "code",
   "execution_count": 45,
   "metadata": {},
   "outputs": [
    {
     "data": {
      "text/html": [
       "<div>\n",
       "<style scoped>\n",
       "    .dataframe tbody tr th:only-of-type {\n",
       "        vertical-align: middle;\n",
       "    }\n",
       "\n",
       "    .dataframe tbody tr th {\n",
       "        vertical-align: top;\n",
       "    }\n",
       "\n",
       "    .dataframe thead th {\n",
       "        text-align: right;\n",
       "    }\n",
       "</style>\n",
       "<table border=\"1\" class=\"dataframe\">\n",
       "  <thead>\n",
       "    <tr style=\"text-align: right;\">\n",
       "      <th></th>\n",
       "      <th>new_adet</th>\n",
       "    </tr>\n",
       "  </thead>\n",
       "  <tbody>\n",
       "    <tr>\n",
       "      <th>32</th>\n",
       "      <td>95049.9990</td>\n",
       "    </tr>\n",
       "    <tr>\n",
       "      <th>33</th>\n",
       "      <td>3420.0000</td>\n",
       "    </tr>\n",
       "    <tr>\n",
       "      <th>34</th>\n",
       "      <td>1766.9988</td>\n",
       "    </tr>\n",
       "    <tr>\n",
       "      <th>59</th>\n",
       "      <td>23097.9942</td>\n",
       "    </tr>\n",
       "    <tr>\n",
       "      <th>60</th>\n",
       "      <td>5458.9941</td>\n",
       "    </tr>\n",
       "  </tbody>\n",
       "</table>\n",
       "</div>"
      ],
      "text/plain": [
       "      new_adet\n",
       "32  95049.9990\n",
       "33   3420.0000\n",
       "34   1766.9988\n",
       "59  23097.9942\n",
       "60   5458.9941"
      ]
     },
     "execution_count": 45,
     "metadata": {},
     "output_type": "execute_result"
    }
   ],
   "source": [
    "y_test.iloc[:5, :]"
   ]
  },
  {
   "cell_type": "code",
   "execution_count": 46,
   "metadata": {},
   "outputs": [
    {
     "name": "stdout",
     "output_type": "stream",
     "text": [
      "MAPE: 79360.69128828096\n"
     ]
    }
   ],
   "source": [
    "print(\"MAPE:\", mape(np.array(y_test), yhat_xgb))"
   ]
  },
  {
   "cell_type": "markdown",
   "metadata": {},
   "source": [
    "---\n",
    "# Decision Tree\n",
    "---"
   ]
  },
  {
   "cell_type": "code",
   "execution_count": 47,
   "metadata": {},
   "outputs": [
    {
     "name": "stdout",
     "output_type": "stream",
     "text": [
      "Fitting 5 folds for each of 1024 candidates, totalling 5120 fits\n"
     ]
    },
    {
     "name": "stderr",
     "output_type": "stream",
     "text": [
      "[Parallel(n_jobs=-1)]: Using backend LokyBackend with 8 concurrent workers.\n",
      "[Parallel(n_jobs=-1)]: Done  25 tasks      | elapsed:    0.6s\n",
      "[Parallel(n_jobs=-1)]: Done 150 tasks      | elapsed:    3.3s\n",
      "[Parallel(n_jobs=-1)]: Done 554 tasks      | elapsed:    8.6s\n",
      "[Parallel(n_jobs=-1)]: Done 1120 tasks      | elapsed:   19.3s\n",
      "[Parallel(n_jobs=-1)]: Done 1850 tasks      | elapsed:   32.3s\n",
      "[Parallel(n_jobs=-1)]: Done 2740 tasks      | elapsed:   52.9s\n",
      "[Parallel(n_jobs=-1)]: Done 3425 tasks      | elapsed:  1.5min\n",
      "[Parallel(n_jobs=-1)]: Done 4032 tasks      | elapsed:  2.2min\n",
      "[Parallel(n_jobs=-1)]: Done 4721 tasks      | elapsed:  2.8min\n",
      "[Parallel(n_jobs=-1)]: Done 5120 out of 5120 | elapsed:  3.4min finished\n"
     ]
    },
    {
     "data": {
      "text/plain": [
       "GridSearchCV(cv=5, estimator=DecisionTreeRegressor(), n_jobs=-1,\n",
       "             param_grid={'criterion': ['mse', 'mae'],\n",
       "                         'max_depth': [3, 4, 5, 6, 7, 8, 9, 10],\n",
       "                         'min_samples_leaf': [3, 4, 5, 6, 7, 8, 9, 10],\n",
       "                         'min_samples_split': [3, 4, 5, 6, 7, 8, 9, 10],\n",
       "                         'random_state': [42]},\n",
       "             scoring='neg_mean_absolute_error', verbose=2)"
      ]
     },
     "execution_count": 47,
     "metadata": {},
     "output_type": "execute_result"
    }
   ],
   "source": [
    "#GridSearch to determine best parameters\n",
    "\n",
    "param_grid_dt = {'criterion':['mse', 'mae'],\n",
    "                 'max_depth': [i for i in range(3, 11)],\n",
    "                 'min_samples_leaf': [i for i in range(3, 11)],\n",
    "                 'min_samples_split': [i for i in range(3, 11)],\n",
    "                 'random_state': [42]}\n",
    "\n",
    "gsm_dt = GridSearchCV(DecisionTreeRegressor(),\n",
    "                      param_grid=param_grid_dt,\n",
    "                      cv=5,\n",
    "                      n_jobs=-1,\n",
    "                      verbose=2,\n",
    "                      refit=True,\n",
    "                      scoring='neg_mean_absolute_error')\n",
    "\n",
    "gsm_dt.fit(X_train, y_train)"
   ]
  },
  {
   "cell_type": "code",
   "execution_count": 48,
   "metadata": {},
   "outputs": [
    {
     "name": "stdout",
     "output_type": "stream",
     "text": [
      "{'criterion': 'mae', 'max_depth': 9, 'min_samples_leaf': 3, 'min_samples_split': 3, 'random_state': 42}\n"
     ]
    }
   ],
   "source": [
    "best_params_dt = gsm_dt.best_params_\n",
    "print(gsm_dt.best_params_)"
   ]
  },
  {
   "cell_type": "code",
   "execution_count": 49,
   "metadata": {},
   "outputs": [],
   "source": [
    "yhat_dt = gsm_dt.predict(X_test)"
   ]
  },
  {
   "cell_type": "code",
   "execution_count": 51,
   "metadata": {},
   "outputs": [
    {
     "name": "stdout",
     "output_type": "stream",
     "text": [
      "MAPE: 79483.05732166424\n"
     ]
    }
   ],
   "source": [
    "print(\"MAPE:\", mape(np.array(y_test), yhat_dt))"
   ]
  },
  {
   "cell_type": "markdown",
   "metadata": {},
   "source": [
    "---\n",
    "# Random Forest Regressor\n",
    "---"
   ]
  },
  {
   "cell_type": "code",
   "execution_count": null,
   "metadata": {},
   "outputs": [
    {
     "name": "stdout",
     "output_type": "stream",
     "text": [
      "Fitting 5 folds for each of 768 candidates, totalling 3840 fits\n"
     ]
    },
    {
     "name": "stderr",
     "output_type": "stream",
     "text": [
      "[Parallel(n_jobs=-1)]: Using backend LokyBackend with 8 concurrent workers.\n",
      "[Parallel(n_jobs=-1)]: Done  25 tasks      | elapsed:    6.3s\n",
      "[Parallel(n_jobs=-1)]: Done 146 tasks      | elapsed:   28.6s\n",
      "[Parallel(n_jobs=-1)]: Done 349 tasks      | elapsed:   54.8s\n",
      "[Parallel(n_jobs=-1)]: Done 632 tasks      | elapsed:  1.4min\n",
      "[Parallel(n_jobs=-1)]: Done 997 tasks      | elapsed:  2.3min\n"
     ]
    }
   ],
   "source": [
    "#GridSearch to determine best parameters\n",
    "\n",
    "param_grid_rf = {'criterion':['mse', 'mae'],\n",
    "                 'max_depth': [i for i in range(5, 11)],\n",
    "                 'min_samples_leaf': [i for i in range(3, 11)],\n",
    "                 'min_samples_split': [i for i in range(3, 11)],\n",
    "                 'random_state': [42]}\n",
    "\n",
    "gsm_rf = GridSearchCV(RandomForestRegressor(),\n",
    "                      param_grid=param_grid_rf,\n",
    "                      cv=5,\n",
    "                      n_jobs=-1,\n",
    "                      verbose=2,\n",
    "                      refit=True,\n",
    "                      scoring='neg_mean_absolute_error')\n",
    "\n",
    "#gsm = DecisionTreeRegressor(random_state=42)\n",
    "\n",
    "gsm_rf.fit(X_train, y_train)"
   ]
  },
  {
   "cell_type": "raw",
   "metadata": {},
   "source": [
    "gsm_rf = RandomForestRegressor(criterion='mse', max_depth=10, min_samples_leaf=4, min_samples_split=3, random_state=42)\n",
    "\n",
    "gsm_rf.fit(X_train, y_train)"
   ]
  },
  {
   "cell_type": "code",
   "execution_count": null,
   "metadata": {},
   "outputs": [],
   "source": [
    "best_params_rf = gsm_rf.best_params_\n",
    "print(gsm_rf.best_params_)"
   ]
  },
  {
   "cell_type": "code",
   "execution_count": null,
   "metadata": {},
   "outputs": [],
   "source": [
    "yhat_rf = gsm_rf.predict(X_test)"
   ]
  },
  {
   "cell_type": "code",
   "execution_count": null,
   "metadata": {},
   "outputs": [],
   "source": [
    "print(\"MAPE:\", mape(np.array(y_test), yhat_rf))"
   ]
  },
  {
   "cell_type": "code",
   "execution_count": null,
   "metadata": {},
   "outputs": [],
   "source": [
    "print(\"MAPE:\", mape(np.array(y_test), yhat_rf))"
   ]
  },
  {
   "cell_type": "markdown",
   "metadata": {},
   "source": [
    "---\n",
    "# Gradient Boosting Regressor\n",
    "---"
   ]
  },
  {
   "cell_type": "code",
   "execution_count": null,
   "metadata": {},
   "outputs": [],
   "source": [
    "gradient_boosting_parameters = {\"learning_rate\": [0.1, 0.15, 0.2],\n",
    "                                \"min_samples_split\": np.linspace(0.1, 0.5, 3),\n",
    "                                \"min_samples_leaf\": np.linspace(0.1, 0.5, 3),\n",
    "                                \"max_depth\":[3,5],\n",
    "                                \"max_features\":[\"log2\",\"sqrt\"],\n",
    "                                \"criterion\": [\"friedman_mse\",  \"mae\"],\n",
    "                                \"subsample\":[0.5, 1.0],\n",
    "                                \"n_estimators\":[10]}\n",
    "\n",
    "gsm_gb = GridSearchCV(GradientBoostingRegressor(), \n",
    "                      param_grid=gradient_boosting_parameters, \n",
    "                      cv=5, \n",
    "                      n_jobs=-1, \n",
    "                      verbose=2, \n",
    "                      scoring='neg_mean_absolute_error')\n",
    "\n",
    "gsm_gb.fit(X_train, y_train)"
   ]
  },
  {
   "cell_type": "code",
   "execution_count": null,
   "metadata": {},
   "outputs": [],
   "source": [
    "best_params_gb = gsm_gb.best_params_\n",
    "print(gsm_gb.best_params_)"
   ]
  },
  {
   "cell_type": "code",
   "execution_count": null,
   "metadata": {},
   "outputs": [],
   "source": [
    "yhat_gb = gsm_gb.predict(X_test)"
   ]
  },
  {
   "cell_type": "code",
   "execution_count": null,
   "metadata": {},
   "outputs": [],
   "source": [
    "print(\"MAPE:\", mape(np.array(y_test), yhat_gb))"
   ]
  },
  {
   "cell_type": "code",
   "execution_count": null,
   "metadata": {},
   "outputs": [],
   "source": [
    "print(\"MAPE:\", mape(np.array(y_test), yhat_gb))"
   ]
  },
  {
   "cell_type": "markdown",
   "metadata": {},
   "source": [
    "---\n",
    "# Regresyon test sonuçlarının çıktılarının alınması\n",
    "---"
   ]
  },
  {
   "cell_type": "code",
   "execution_count": null,
   "metadata": {},
   "outputs": [],
   "source": [
    "test_results = X_test.copy()"
   ]
  },
  {
   "cell_type": "code",
   "execution_count": null,
   "metadata": {},
   "outputs": [],
   "source": [
    "test_results[\"Kanal\"] = le_kanal.inverse_transform(test_results[\"Kanal\"])\n",
    "test_results[\"grup_adi\"] = le_grup_adi.inverse_transform(test_results[\"grup_adi\"])\n",
    "test_results[\"ana_kategori_adi\"] = le_ana_kategori_adi.inverse_transform(test_results[\"ana_kategori_adi\"])\n",
    "test_results[\"kategori_adi\"] = le_kategori_adi.inverse_transform(test_results[\"kategori_adi\"])\n",
    "test_results[\"marka_adi\"] = le_marka_adi.inverse_transform(test_results[\"marka_adi\"])\n",
    "test_results[\"urun_adi\"] = le_urun_adi.inverse_transform(test_results[\"urun_adi\"])"
   ]
  },
  {
   "cell_type": "code",
   "execution_count": null,
   "metadata": {},
   "outputs": [],
   "source": [
    "test_results[\"linear_regression\"] = yhat_lm.reshape(-1)\n",
    "test_results[\"knn\"] = yhat_knn.reshape(-1)\n",
    "#test_results[\"xgboost\"] = yhat_xgb.reshape(-1)\n",
    "test_results[\"decision_tree\"] = yhat_dt.reshape(-1)\n",
    "#test_results[\"random_forest\"] = yhat_rf.reshape(-1)\n",
    "test_results[\"gradient_boosting\"] = yhat_gb.reshape(-1)"
   ]
  },
  {
   "cell_type": "code",
   "execution_count": null,
   "metadata": {},
   "outputs": [],
   "source": [
    "test_results = pd.concat([test_results, y_test], axis=1)"
   ]
  },
  {
   "cell_type": "code",
   "execution_count": null,
   "metadata": {},
   "outputs": [],
   "source": [
    "test_results.to_excel(\"all_test_results.xlsx\", index=False)"
   ]
  },
  {
   "cell_type": "code",
   "execution_count": null,
   "metadata": {},
   "outputs": [],
   "source": [
    "kanal_l = []\n",
    "grup = []\n",
    "urun_l = []\n",
    "model_type = []\n",
    "mape_l = []\n",
    "\n",
    "for kanal in test_results.Kanal.unique():\n",
    "    for grp in test_results.grup_adi.unique():\n",
    "        for urun in test_results.urun_adi.unique():\n",
    "            for model in test_results.columns.to_list()[15:-1]:\n",
    "                temp_df = test_results[(test_results[\"Kanal\"] == kanal) & \n",
    "                                       (test_results[\"grup_adi\"] == grp) & \n",
    "                                       (test_results[\"urun_adi\"] == urun)]\n",
    "                kanal_l.append(kanal)\n",
    "                grup.append(grp)\n",
    "                urun_l.append(urun)\n",
    "                model_type.append(model)\n",
    "                model_com = temp_df[[model, \"new_adet\"]]\n",
    "                mape_l.append(mape(np.array(model_com[\"new_adet\"]), np.array(model_com[model])))"
   ]
  },
  {
   "cell_type": "code",
   "execution_count": null,
   "metadata": {},
   "outputs": [],
   "source": [
    "results_by_sku = pd.DataFrame({\"kanal_l\": kanal_l,\n",
    "                               \"grup\": grup,\n",
    "                               \"urun\": urun_l,\n",
    "                               \"model_type\": model_type,\n",
    "                               \"mape\": mape_l})\n",
    "\n",
    "results_by_sku.dropna(inplace=True)"
   ]
  },
  {
   "cell_type": "code",
   "execution_count": null,
   "metadata": {},
   "outputs": [],
   "source": [
    "results_by_sku.to_excel(\"regression_test_results.xlsx\", index=False)"
   ]
  },
  {
   "cell_type": "code",
   "execution_count": null,
   "metadata": {},
   "outputs": [],
   "source": [
    "kanal_results = test_results.groupby([\"yil\", \"ay\", \"Kanal\"]).agg({\"linear_regression\": \"sum\",\n",
    "                                                                  \"knn\": \"sum\",\n",
    "                                                                  \"xgboost\": \"sum\",\n",
    "                                                                  \"decision_tree\": \"sum\",\n",
    "                                                                  \"random_forest\": \"sum\",\n",
    "                                                                  \"gradient_boosting\": \"sum\",\n",
    "                                                                  \"new_adet\": \"sum\"}).reset_index()"
   ]
  },
  {
   "cell_type": "code",
   "execution_count": null,
   "metadata": {},
   "outputs": [],
   "source": [
    "knl_list = []\n",
    "mape_list = []\n",
    "model_type = []\n",
    "for knl in kanal_results[\"Kanal\"].unique():\n",
    "    for mdl in kanal_results.columns.to_list()[3:-1]:\n",
    "        temp_df = kanal_results[kanal_results[\"Kanal\"] == knl]\n",
    "        knl_list.append(knl)\n",
    "        model_type.append(mdl)\n",
    "        mape_list.append(mape(np.array(temp_df[\"new_adet\"]), np.array(temp_df[mdl])))"
   ]
  },
  {
   "cell_type": "code",
   "execution_count": null,
   "metadata": {},
   "outputs": [],
   "source": [
    "results_by_kanal = pd.DataFrame({\"kanal\": knl_list,\n",
    "                                 \"model_type\": model_type,\n",
    "                                 \"mape\": mape_list})"
   ]
  },
  {
   "cell_type": "code",
   "execution_count": null,
   "metadata": {},
   "outputs": [],
   "source": [
    "results_by_kanal.to_excel(\"results_by_kanal.xlsx\", index=False)"
   ]
  },
  {
   "cell_type": "code",
   "execution_count": null,
   "metadata": {},
   "outputs": [],
   "source": [
    "results_by_kanal.groupby(\"kanal\").agg({\"mape\": \"min\"})"
   ]
  },
  {
   "cell_type": "markdown",
   "metadata": {},
   "source": [
    "---\n",
    "# GridSearch parametreleri çıktısı\n",
    "---"
   ]
  },
  {
   "cell_type": "code",
   "execution_count": null,
   "metadata": {},
   "outputs": [],
   "source": [
    "pd.DataFrame({\"models\": [\"KNN\", \"Gradient Boosting\", \"XGBoost\", \"Decision Tree\", \"Random Forest\"],\n",
    "             \"parameters\": [best_params_knn, best_params_gb, best_params_xgb, best_params_dt, best_params_rf]}).to_excel(\"gridsearch_parameters.xlsx\", index=False)"
   ]
  },
  {
   "cell_type": "markdown",
   "metadata": {},
   "source": [
    "---\n",
    "# Time Series Çıktıları\n",
    "---"
   ]
  },
  {
   "cell_type": "code",
   "execution_count": null,
   "metadata": {},
   "outputs": [],
   "source": [
    "df_ts = pd.read_csv('../data/table_DS_07_07_OUTFOR.csv',delimiter=',')\n",
    "df_ts = df_ts[[\"Kanal\", \"grup_adi\", \"urun_adi\", \"date\", \"ACTUAL\", \"PREDICT\"]]\n",
    "\n",
    "df_ts.ACTUAL = df_ts.ACTUAL.str.replace('           .', '0')\n",
    "df_ts.PREDICT = df_ts.PREDICT.str.replace('           .', '0')\n",
    "df_ts.ACTUAL = df_ts.ACTUAL.str.replace(',', '.')\n",
    "df_ts.PREDICT = df_ts.PREDICT.str.replace(',', '.')\n",
    "df_ts.ACTUAL = df_ts.ACTUAL.astype('float')\n",
    "df_ts.PREDICT = df_ts.PREDICT.astype('float')"
   ]
  },
  {
   "cell_type": "code",
   "execution_count": null,
   "metadata": {},
   "outputs": [],
   "source": [
    "date_names = {'JAN':\"01-01\",\n",
    "              'FEB':\"01-02\" ,\n",
    "              'MAR':\"01-03\",\n",
    "              'APR':\"01-04\",\n",
    "              'MAY':\"01-05\",\n",
    "              'JUN':\"01-06\",\n",
    "              'JUL':\"01-07\",\n",
    "              'AUG':\"01-08\",\n",
    "              'SEP':\"01-09\",\n",
    "              'OCT':\"01-10\",\n",
    "              'NOV':\"01-11\",\n",
    "              'DEC':\"01-12\"}"
   ]
  },
  {
   "cell_type": "code",
   "execution_count": null,
   "metadata": {},
   "outputs": [],
   "source": [
    "maximum, minimum = int((list(pd.Series([i[-4:] for i in df_ts.date.unique()]).drop_duplicates()))[-1]), int((list(pd.Series([i[-4:] for i in df_ts.date.unique()]).drop_duplicates()))[0])"
   ]
  },
  {
   "cell_type": "code",
   "execution_count": null,
   "metadata": {},
   "outputs": [],
   "source": [
    "date_dict = {}\n",
    "for tm in range(minimum, maximum+1):\n",
    "    for dt in date_names.keys():\n",
    "        date_dict.update({dt+str(tm):date_names[dt]+\"-\"+str(tm)})"
   ]
  },
  {
   "cell_type": "code",
   "execution_count": null,
   "metadata": {},
   "outputs": [],
   "source": [
    "df_ts[\"date\"] = df_ts[\"date\"].map(date_dict)"
   ]
  },
  {
   "cell_type": "code",
   "execution_count": null,
   "metadata": {},
   "outputs": [],
   "source": [
    "df_ts[\"date\"] = pd.to_datetime(df_ts[\"date\"], format=\"%d-%m-%Y\", errors=\"coerce\")"
   ]
  },
  {
   "cell_type": "code",
   "execution_count": null,
   "metadata": {},
   "outputs": [],
   "source": [
    "ytrue_all = []\n",
    "yhat_all = []\n",
    "sku_all = []\n",
    "grp_all = []\n",
    "date_all = []\n",
    "\n",
    "mape_ts = []\n",
    "sku_ts = []\n",
    "grup_adi_ts = []\n",
    "for sku in df_ts.urun_adi.unique():\n",
    "    for grp in df_ts.grup_adi.unique():\n",
    "        temp_df = df_ts[(df_ts[\"grup_adi\"] == grp) & (df_ts[\"urun_adi\"] == sku)]\n",
    "        if len(temp_df) < 1:\n",
    "            pass\n",
    "        else:\n",
    "            temp_df = temp_df[(temp_df[\"date\"] > datetime(2020, 12, 1)) & (temp_df[\"ACTUAL\"] != 0)]\n",
    "            ytrue = temp_df.iloc[-6:, -2:-1]\n",
    "            yhat = temp_df.iloc[-6:, -1:]\n",
    "            date_ = temp_df.iloc[-6:, -3:-2]\n",
    "            mape_ts.append(mape(np.array(ytrue), np.array(yhat)))\n",
    "            sku_ts.append(sku)\n",
    "            grup_adi_ts.append(grp)\n",
    "            \n",
    "            ytrue_all.extend(list(ytrue.ACTUAL))\n",
    "            yhat_all.extend(list(yhat.PREDICT))\n",
    "            sku_all.extend([sku]*len(ytrue))\n",
    "            grp_all.extend([grp]*len(ytrue))\n",
    "            date_all.extend(list(date_.date))"
   ]
  },
  {
   "cell_type": "code",
   "execution_count": null,
   "metadata": {},
   "outputs": [],
   "source": [
    "ts_results = pd.DataFrame({\"grup\": grup_adi_ts,\n",
    "                           \"urun_adi\": sku_ts,\n",
    "                           \"mape\": mape_ts})"
   ]
  },
  {
   "cell_type": "code",
   "execution_count": null,
   "metadata": {},
   "outputs": [],
   "source": [
    "ts_results.to_excel(\"time_series_sku_mape_all.xlsx\", index=False)"
   ]
  },
  {
   "cell_type": "code",
   "execution_count": null,
   "metadata": {},
   "outputs": [],
   "source": [
    "ts_results[\"mape_bins\"] = ts_results[\"mape\"].apply(lambda x: \"10'dan küçük\" \\\n",
    "                                                   if x<10 else (\"10 ile 25 arasında\" \\\n",
    "                                                                 if x<25 else (\"25 ile 50 arasında\" \\\n",
    "                                                                               if x<50 else(\"50 ile 100 arasında\" if x<100 else \"100'den büyük\"))))"
   ]
  },
  {
   "cell_type": "code",
   "execution_count": null,
   "metadata": {},
   "outputs": [],
   "source": [
    "ts_results = ts_results.merge(results_by_sku[[\"kanal_l\", \"grup\"]].drop_duplicates(subset=[\"kanal_l\", \"grup\"]), how=\"left\", on=\"grup\")"
   ]
  },
  {
   "cell_type": "code",
   "execution_count": null,
   "metadata": {},
   "outputs": [],
   "source": [
    "ts_results_raw_data = pd.DataFrame({\"grup\": grp_all,\n",
    "                                   \"urun_adi\": sku_all,\n",
    "                                   \"date\": date_all,\n",
    "                                   \"ytrue\": ytrue_all,\n",
    "                                   \"yhat\": yhat_all})"
   ]
  },
  {
   "cell_type": "code",
   "execution_count": null,
   "metadata": {},
   "outputs": [],
   "source": [
    "ts_results_raw_data[(ts_results_raw_data[\"grup\"] == \"ŞOK\") & (ts_results_raw_data[\"urun_adi\"] == \"ONEO DRAJE ŞİŞE NANE AR.SAK.60Gx12\")]"
   ]
  },
  {
   "cell_type": "code",
   "execution_count": null,
   "metadata": {},
   "outputs": [],
   "source": [
    "ts_results_raw_data = ts_results_raw_data.merge(results_by_sku[[\"kanal_l\", \"grup\"]].drop_duplicates(subset=[\"kanal_l\", \"grup\"]), how=\"left\", on=\"grup\")"
   ]
  },
  {
   "cell_type": "code",
   "execution_count": null,
   "metadata": {},
   "outputs": [],
   "source": [
    "ts_results_raw_data.to_excel(\"time_series_sku_raw_data.xlsx\", index=False)"
   ]
  },
  {
   "cell_type": "markdown",
   "metadata": {},
   "source": [
    "---\n",
    "## Kanal bazında toplam yukarıya doğru mape hesaplaması"
   ]
  },
  {
   "cell_type": "code",
   "execution_count": null,
   "metadata": {},
   "outputs": [],
   "source": [
    "ts_kanal_results = ts_results_raw_data.groupby([\"date\", \"kanal_l\"]).agg({\"ytrue\": \"sum\",\n",
    "                                                                         \"yhat\": \"sum\"}).reset_index()"
   ]
  },
  {
   "cell_type": "code",
   "execution_count": null,
   "metadata": {},
   "outputs": [],
   "source": [
    "ts_kanal_results.to_excel(\"time_series_results_kanal_raw_data.xlsx\", index=False)"
   ]
  },
  {
   "cell_type": "code",
   "execution_count": null,
   "metadata": {},
   "outputs": [],
   "source": [
    "ts_kanal = []\n",
    "ts_mape_kanal = []\n",
    "for knl in ts_kanal_results.kanal_l.unique():\n",
    "    temp_df = ts_kanal_results[ts_kanal_results[\"kanal_l\"] == knl]\n",
    "    ts_kanal.append(knl)\n",
    "    ts_mape_kanal.append(mape(np.array(temp_df.ytrue), np.array(temp_df.yhat)))\n",
    "ts_kanal_mape_results = pd.DataFrame({\"kanal\": ts_kanal, \"mape\": ts_mape_kanal})\n",
    "ts_kanal_mape_results"
   ]
  },
  {
   "cell_type": "code",
   "execution_count": null,
   "metadata": {},
   "outputs": [],
   "source": [
    "ts_kanal_mape_results.to_excel(\"time_series_kanal_mape.xlsx\", index=False)"
   ]
  },
  {
   "cell_type": "code",
   "execution_count": null,
   "metadata": {},
   "outputs": [],
   "source": []
  },
  {
   "cell_type": "code",
   "execution_count": null,
   "metadata": {},
   "outputs": [],
   "source": []
  },
  {
   "cell_type": "markdown",
   "metadata": {},
   "source": [
    "---\n",
    "# Time Series ve Regresyon Sonuçlarının Bir Aradaki Hali\n",
    "---"
   ]
  },
  {
   "cell_type": "markdown",
   "metadata": {},
   "source": [
    "# Kanal Bazlı\n",
    "---"
   ]
  },
  {
   "cell_type": "code",
   "execution_count": null,
   "metadata": {},
   "outputs": [],
   "source": [
    "kanal_results[\"date\"] = kanal_results[\"yil\"].astype(str) + \"-\" + kanal_results[\"ay\"].astype(str) + \"-01\""
   ]
  },
  {
   "cell_type": "code",
   "execution_count": null,
   "metadata": {},
   "outputs": [],
   "source": [
    "kanal_results[\"date\"] = pd.to_datetime(kanal_results[\"date\"], format=\"%Y-%m-%d\", errors=\"coerce\")"
   ]
  },
  {
   "cell_type": "code",
   "execution_count": null,
   "metadata": {},
   "outputs": [],
   "source": [
    "kanal_results.rename(columns={\"Kanal\": \"kanal_l\"}, inplace=True)"
   ]
  },
  {
   "cell_type": "code",
   "execution_count": null,
   "metadata": {},
   "outputs": [],
   "source": [
    "kanal_results.to_excel(\"regression_results_all_algorithms.xlsx\", index=False)"
   ]
  },
  {
   "cell_type": "code",
   "execution_count": null,
   "metadata": {},
   "outputs": [],
   "source": [
    "reg_pas_best_mape = kanal_results[(kanal_results[\"kanal_l\"] == \"pasifik\")][[\"date\", \"kanal_l\", \"new_adet\", \"knn\"]].rename(columns={\"new_adet\": \"ytrue\", \n",
    "                                                                                                              \"knn\": \"yhat\",\n",
    "                                                                                                              \"linear_regression\": \"yhat\",\n",
    "                                                                                                              \"xgboost\": \"yhat\",\n",
    "                                                                                                              \"decision_tree\": \"yhat\",\n",
    "                                                                                                              \"random_forest\": \"yhat\",\n",
    "                                                                                                              \"gradient_boosting\": \"yhat\"})\n",
    "\n",
    "reg_hor_best_mape = kanal_results[(kanal_results[\"kanal_l\"] == \"horizon\")][[\"date\", \"kanal_l\", \"new_adet\", \"knn\"]].rename(columns={\"new_adet\": \"ytrue\", \n",
    "                                                                                                              \"knn\": \"yhat\",\n",
    "                                                                                                              \"linear_regression\": \"yhat\",\n",
    "                                                                                                              \"xgboost\": \"yhat\",\n",
    "                                                                                                              \"decision_tree\": \"yhat\",\n",
    "                                                                                                              \"random_forest\": \"yhat\",\n",
    "                                                                                                              \"gradient_boosting\": \"yhat\"})\n",
    "\n",
    "reg_btt_best_mape = kanal_results[(kanal_results[\"kanal_l\"] == \"btt\")][[\"date\", \"kanal_l\", \"new_adet\", \"xgboost\"]].rename(columns={\"new_adet\": \"ytrue\", \n",
    "                                                                                                              \"knn\": \"yhat\",\n",
    "                                                                                                              \"linear_regression\": \"yhat\",\n",
    "                                                                                                              \"xgboost\": \"yhat\",\n",
    "                                                                                                              \"decision_tree\": \"yhat\",\n",
    "                                                                                                              \"random_forest\": \"yhat\",\n",
    "                                                                                                              \"gradient_boosting\": \"yhat\"})"
   ]
  },
  {
   "cell_type": "markdown",
   "metadata": {},
   "source": [
    "## Regresyon Kanal Bazında Şampiyon Algoritma Sonuçlarının Aggregate Edilmiş Hali"
   ]
  },
  {
   "cell_type": "code",
   "execution_count": null,
   "metadata": {},
   "outputs": [],
   "source": [
    "reg_results_kanal_all = pd.concat([reg_pas_best_mape,\n",
    "                                   reg_hor_best_mape,\n",
    "                                   reg_btt_best_mape], axis=0, ignore_index=True)"
   ]
  },
  {
   "cell_type": "code",
   "execution_count": null,
   "metadata": {},
   "outputs": [],
   "source": [
    "reg_ts_results_kanal_all = pd.concat([reg_results_kanal_all,\n",
    "                                      ts_kanal_results], axis=0, ignore_index=True)"
   ]
  },
  {
   "cell_type": "code",
   "execution_count": null,
   "metadata": {},
   "outputs": [],
   "source": [
    "reg_ts_results_kanal_all"
   ]
  },
  {
   "cell_type": "code",
   "execution_count": null,
   "metadata": {},
   "outputs": [],
   "source": [
    "reg_ts_results_kanal_all.to_excel(\"regression_time_series_combained_results_raw_data.xlsx\", index=False)"
   ]
  },
  {
   "cell_type": "markdown",
   "metadata": {},
   "source": [
    "## Time Series ile Regresyon'da İlgili Kanallardaki Kazanan Modellerin Tek Potada Eritilip MAPE Hesaplaması"
   ]
  },
  {
   "cell_type": "code",
   "execution_count": null,
   "metadata": {},
   "outputs": [],
   "source": [
    "reg_ts_results_kanal_all = reg_ts_results_kanal_all.groupby([\"kanal_l\", \"date\"]).agg({\"ytrue\": \"sum\", \"yhat\": \"sum\"}).reset_index()"
   ]
  },
  {
   "cell_type": "code",
   "execution_count": null,
   "metadata": {},
   "outputs": [],
   "source": [
    "all_mape = []\n",
    "all_kanal = []\n",
    "for knl in reg_ts_results_kanal_all.kanal_l.unique():\n",
    "    temp_df = reg_ts_results_kanal_all[reg_ts_results_kanal_all[\"kanal_l\"] == knl]\n",
    "    all_mape.append(mape(np.array(temp_df.ytrue), np.array(temp_df.yhat)))\n",
    "    all_kanal.append(knl)\n",
    "\n",
    "all_results_ts_reg = pd.DataFrame({\"kanal\": all_kanal, \"mape\": all_mape})"
   ]
  },
  {
   "cell_type": "code",
   "execution_count": null,
   "metadata": {},
   "outputs": [],
   "source": [
    "all_results_ts_reg"
   ]
  },
  {
   "cell_type": "code",
   "execution_count": null,
   "metadata": {},
   "outputs": [],
   "source": [
    "all_results_ts_reg.to_excel(\"regression_time_series_combained_mape.xlsx\", index=False)"
   ]
  },
  {
   "cell_type": "code",
   "execution_count": null,
   "metadata": {},
   "outputs": [],
   "source": [
    "all_results_ts_reg"
   ]
  },
  {
   "cell_type": "code",
   "execution_count": null,
   "metadata": {},
   "outputs": [],
   "source": [
    "for knl in reg_ts_results_kanal_all.kanal_l.unique():\n",
    "    temp_df = reg_ts_results_kanal_all[(reg_ts_results_kanal_all[\"kanal_l\"] == knl) & \n",
    "                                      (reg_ts_results_kanal_all[\"date\"] >= datetime(2021, 1, 1)) & \n",
    "                                      (reg_ts_results_kanal_all[\"date\"] < datetime(2021, 6, 1))].reset_index(drop=True)\n",
    "    son_ay_true = temp_df.loc[temp_df.index, \"ytrue\"]\n",
    "    son_ay_yhat = temp_df.loc[temp_df.index, \"yhat\"]\n",
    "    date_ = temp_df.loc[temp_df.index, \"date\"]\n",
    "    mape_son_ay = mape(son_ay_true, son_ay_yhat)\n",
    "    plt.figure(figsize=(20,8))\n",
    "    plt.plot(date_, son_ay_true, marker=\"o\")\n",
    "    plt.plot(date_, son_ay_yhat, marker=\"o\", color=\"r\")\n",
    "    plt.title(knl.upper())\n",
    "    plt.xticks(rotation=90)\n",
    "    plt.legend([\"Actual\", \"Predicted\"])\n",
    "    plt.grid()\n",
    "    plt.savefig(knl+\"satis_grafigi.jpeg\")\n",
    "    plt.show()"
   ]
  },
  {
   "cell_type": "code",
   "execution_count": null,
   "metadata": {},
   "outputs": [],
   "source": [
    "for knl in reg_ts_results_kanal_all.kanal_l.unique():\n",
    "    temp_df = reg_ts_results_kanal_all[(reg_ts_results_kanal_all[\"kanal_l\"] == knl) & \n",
    "                                      (reg_ts_results_kanal_all[\"date\"] >= datetime(2021, 1, 1)) & \n",
    "                                      (reg_ts_results_kanal_all[\"date\"] < datetime(2021, 2, 1))].reset_index(drop=True)\n",
    "    son_ay_true = temp_df.loc[temp_df.index.max(), \"ytrue\"]\n",
    "    son_ay_yhat = temp_df.loc[temp_df.index.max(), \"yhat\"]\n",
    "    date_ = temp_df.loc[temp_df.index.max(), \"date\"]\n",
    "    mape_son_ay = mape(son_ay_true, son_ay_yhat)\n",
    "    print()\n",
    "    print(\"=\"*50)\n",
    "    print(f\"Kanal: {knl.upper()}\")\n",
    "    print(f\"MAPE: {mape_son_ay:.2f}\")\n",
    "    print(\"-\"*50)\n",
    "    print()\n",
    "    print(\"Yıl:\", date_.year)\n",
    "    print(\"Ay:\", date_.month)\n",
    "    print()\n",
    "    print(f\"Gerçekleşen Satış: {son_ay_true:.2f}\")\n",
    "    print(f\"Tahminlenen Satış: {son_ay_yhat:.2f}\")"
   ]
  },
  {
   "cell_type": "raw",
   "metadata": {},
   "source": [
    "mape_dagilimi = pd.DataFrame({\"kanal\": [\"pasifik\"]*5+[\"horizon\"]*5+[\"btt\"]*5,\n",
    "                              \"date\": [datetime(2021,1,1), datetime(2021,2,1), datetime(2021,3,1), datetime(2021,4,1), datetime(2021,5,1)]*3,\n",
    "                              \"mape\": [21.10, 9.92, 2.16, 30, 17.42, 2.45, 3.52, 2.57, 1.63, 8.5, 5.48, 12.94, 11.72, 7.47, 29.47]})"
   ]
  },
  {
   "cell_type": "raw",
   "metadata": {},
   "source": [
    "plt.figure(figsize=(20, 8))\n",
    "sns.lineplot(x=\"date\", y=\"mape\", hue=\"kanal\", data=mape_dagilimi, marker=\"o\")\n",
    "plt.title(\"Ay Bazında MAPE Skorları\")\n",
    "plt.grid()\n",
    "plt.savefig(\"mape_skor_dagilimlari.jpeg\")\n",
    "plt.show()"
   ]
  },
  {
   "cell_type": "code",
   "execution_count": null,
   "metadata": {},
   "outputs": [],
   "source": [
    "for knl in mape_dagilimi.kanal.unique():\n",
    "    tmp_df = mape_dagilimi[mape_dagilimi[\"kanal\"] == knl]\n",
    "    plt.figure(figsize=(20, 8))\n",
    "    sns.lineplot(x=\"date\", y=\"mape\", data=mape_dagilimi)"
   ]
  },
  {
   "cell_type": "markdown",
   "metadata": {},
   "source": [
    "---\n",
    "# Check Results\n",
    "---"
   ]
  },
  {
   "cell_type": "code",
   "execution_count": null,
   "metadata": {},
   "outputs": [],
   "source": [
    "df_reg2 = df_reg.copy()"
   ]
  },
  {
   "cell_type": "code",
   "execution_count": null,
   "metadata": {},
   "outputs": [],
   "source": [
    "df_reg2[\"Kanal\"] = le_kanal.inverse_transform(df_reg2[\"Kanal\"])\n",
    "df_reg2[\"grup_adi\"] = le_grup_adi.inverse_transform(df_reg2[\"grup_adi\"])\n",
    "df_reg2[\"ana_kategori_adi\"] = le_ana_kategori_adi.inverse_transform(df_reg2[\"ana_kategori_adi\"])\n",
    "df_reg2[\"kategori_adi\"] = le_kategori_adi.inverse_transform(df_reg2[\"kategori_adi\"])\n",
    "df_reg2[\"marka_adi\"] = le_marka_adi.inverse_transform(df_reg2[\"marka_adi\"])\n",
    "df_reg2[\"urun_adi\"] = le_urun_adi.inverse_transform(df_reg2[\"urun_adi\"])"
   ]
  },
  {
   "cell_type": "markdown",
   "metadata": {},
   "source": [
    "---\n",
    "# MAPE Visualization\n",
    "## SKU\n",
    "---"
   ]
  },
  {
   "cell_type": "markdown",
   "metadata": {},
   "source": [
    "# Regression MAPE Bins\n",
    "---"
   ]
  },
  {
   "cell_type": "code",
   "execution_count": null,
   "metadata": {},
   "outputs": [],
   "source": [
    "best_results_sku = results_by_sku.groupby([\"kanal_l\", \"grup\", \"urun\"]).agg({\"mape\": \"min\"}).reset_index()\n",
    "best_results_sku.dropna(inplace=True, axis=0)\n",
    "\n",
    "best_results_sku[\"mape_bins\"] = best_results_sku[\"mape\"].apply(lambda x: \"10'dan küçük\" \\\n",
    "                                                               if x<10 else (\"10 ile 25 arasında\" \\\n",
    "                                                                             if x<25 else (\"25 ile 50 arasında\" \\\n",
    "                                                                                           if x<50 else(\"50 ile 100 arasında\" if x<100 else \"100'den büyük\"))))\n",
    "\n",
    "mape_dist = (best_results_sku.mape_bins.value_counts() / len(best_results_sku))*100\n",
    "reorderlist = [\"10'dan küçük\", \"10 ile 25 arasında\", \"25 ile 50 arasında\", \"50 ile 100 arasında\", \"100'den büyük\"]\n",
    "mape_dist = mape_dist.reindex(reorderlist)"
   ]
  },
  {
   "cell_type": "code",
   "execution_count": null,
   "metadata": {},
   "outputs": [],
   "source": [
    "btt_best_results_sku = best_results_sku[best_results_sku[\"kanal_l\"] == \"btt\"]\n",
    "pas_best_results_sku = best_results_sku[best_results_sku[\"kanal_l\"] == \"pasifik\"]\n",
    "hor_best_results_sku = best_results_sku[best_results_sku[\"kanal_l\"] == \"horizon\"]"
   ]
  },
  {
   "cell_type": "code",
   "execution_count": null,
   "metadata": {},
   "outputs": [],
   "source": [
    "btt_mape_dist = (btt_best_results_sku.mape_bins.value_counts() / len(btt_best_results_sku))*100\n",
    "reorderlist = [\"10'dan küçük\", \"10 ile 25 arasında\", \"25 ile 50 arasında\", \"50 ile 100 arasında\", \"100'den büyük\"]\n",
    "btt_mape_dist = btt_mape_dist.reindex(reorderlist)\n",
    "\n",
    "hor_mape_dist = (hor_best_results_sku.mape_bins.value_counts() / len(hor_best_results_sku))*100\n",
    "reorderlist = [\"10'dan küçük\", \"10 ile 25 arasında\", \"25 ile 50 arasında\", \"50 ile 100 arasında\", \"100'den büyük\"]\n",
    "hor_mape_dist = hor_mape_dist.reindex(reorderlist)\n",
    "\n",
    "pas_mape_dist = (pas_best_results_sku.mape_bins.value_counts() / len(pas_best_results_sku))*100\n",
    "reorderlist = [\"10'dan küçük\", \"10 ile 25 arasında\", \"25 ile 50 arasında\", \"50 ile 100 arasında\", \"100'den büyük\"]\n",
    "pas_mape_dist = pas_mape_dist.reindex(reorderlist)"
   ]
  },
  {
   "cell_type": "code",
   "execution_count": null,
   "metadata": {},
   "outputs": [],
   "source": [
    "btt_mape_dist.fillna(0, inplace=True)"
   ]
  },
  {
   "cell_type": "code",
   "execution_count": null,
   "metadata": {},
   "outputs": [],
   "source": [
    "#Using matplotlib\n",
    "plt.figure(figsize=(10,10))\n",
    "plt.pie(x=btt_mape_dist, autopct=\"%.1f%%\", explode=[0.05]*(len(mape_dist)), labels=btt_mape_dist.index, pctdistance=0.5)\n",
    "plt.title(\"BTT SKU Bazında MAPE Dağılımı (Regresyon)\", fontsize=14)\n",
    "plt.savefig(\"btt_sku_bazli_mape_dagilimi.jpg\")"
   ]
  },
  {
   "cell_type": "code",
   "execution_count": null,
   "metadata": {},
   "outputs": [],
   "source": [
    "hor_mape_dist.fillna(0, inplace=True)"
   ]
  },
  {
   "cell_type": "code",
   "execution_count": null,
   "metadata": {},
   "outputs": [],
   "source": [
    "#Using matplotlib\n",
    "plt.figure(figsize=(10,10))\n",
    "plt.pie(x=hor_mape_dist, autopct=\"%.1f%%\", explode=[0.05]*(len(mape_dist)), labels=hor_mape_dist.index, pctdistance=0.5)\n",
    "plt.title(\"Horizon SKU Bazında MAPE Dağılımı (Regresyon)\", fontsize=14)\n",
    "plt.savefig(\"hor_sku_bazli_mape_dagilimi.jpg\")"
   ]
  },
  {
   "cell_type": "code",
   "execution_count": null,
   "metadata": {},
   "outputs": [],
   "source": [
    "#Using matplotlib\n",
    "plt.figure(figsize=(10,10))\n",
    "plt.pie(x=pas_mape_dist, autopct=\"%.1f%%\", explode=[0.05]*(len(mape_dist)), labels=pas_mape_dist.index, pctdistance=0.5)\n",
    "plt.title(\"Pasifik SKU Bazında MAPE Dağılımı (Regresyon)\", fontsize=14)\n",
    "plt.savefig(\"pas_sku_bazli_mape_dagilimi.jpg\")"
   ]
  },
  {
   "cell_type": "code",
   "execution_count": null,
   "metadata": {},
   "outputs": [],
   "source": [
    "#Using matplotlib\n",
    "plt.figure(figsize=(10,10))\n",
    "plt.pie(x=mape_dist, autopct=\"%.1f%%\", explode=[0.05]*(len(mape_dist)), labels=mape_dist.index, pctdistance=0.5)\n",
    "plt.title(\"SKU Bazında MAPE Dağılımı (Regresyon)\", fontsize=14)\n",
    "plt.savefig(\"sku_bazli_mape_dagilimi.jpg\")"
   ]
  },
  {
   "cell_type": "markdown",
   "metadata": {},
   "source": [
    "---\n",
    "# Time Series MAPE Bins\n",
    "---"
   ]
  },
  {
   "cell_type": "code",
   "execution_count": null,
   "metadata": {},
   "outputs": [],
   "source": [
    "ts_results.dropna(inplace=True, axis=0)"
   ]
  },
  {
   "cell_type": "code",
   "execution_count": null,
   "metadata": {},
   "outputs": [],
   "source": [
    "ts_mape_dist = (ts_results.mape_bins.value_counts() / len(ts_results))*100\n",
    "reorderlist = [\"10'dan küçük\", \"10 ile 25 arasında\", \"25 ile 50 arasında\", \"50 ile 100 arasında\", \"100'den büyük\"]\n",
    "ts_mape_dist = ts_mape_dist.reindex(reorderlist)"
   ]
  },
  {
   "cell_type": "code",
   "execution_count": null,
   "metadata": {},
   "outputs": [],
   "source": [
    "btt_ts_results_sku = ts_results[ts_results[\"kanal_l\"] == \"btt\"]\n",
    "pas_ts_results_sku = ts_results[ts_results[\"kanal_l\"] == \"pasifik\"]\n",
    "hor_ts_results_sku = ts_results[ts_results[\"kanal_l\"] == \"horizon\"]"
   ]
  },
  {
   "cell_type": "code",
   "execution_count": null,
   "metadata": {},
   "outputs": [],
   "source": [
    "btt_ts_mape_dist = (btt_ts_results_sku.mape_bins.value_counts() / len(btt_ts_results_sku))*100\n",
    "reorderlist = [\"10'dan küçük\", \"10 ile 25 arasında\", \"25 ile 50 arasında\", \"50 ile 100 arasında\", \"100'den büyük\"]\n",
    "btt_ts_mape_dist = btt_ts_mape_dist.reindex(reorderlist)\n",
    "\n",
    "hor_ts_mape_dist = (hor_ts_results_sku.mape_bins.value_counts() / len(hor_ts_results_sku))*100\n",
    "reorderlist = [\"10'dan küçük\", \"10 ile 25 arasında\", \"25 ile 50 arasında\", \"50 ile 100 arasında\", \"100'den büyük\"]\n",
    "hor_ts_mape_dist = hor_ts_mape_dist.reindex(reorderlist)\n",
    "\n",
    "pas_ts_mape_dist = (pas_ts_results_sku.mape_bins.value_counts() / len(pas_ts_results_sku))*100\n",
    "reorderlist = [\"10'dan küçük\", \"10 ile 25 arasında\", \"25 ile 50 arasında\", \"50 ile 100 arasında\", \"100'den büyük\"]\n",
    "pas_ts_mape_dist = pas_ts_mape_dist.reindex(reorderlist)"
   ]
  },
  {
   "cell_type": "code",
   "execution_count": null,
   "metadata": {},
   "outputs": [],
   "source": [
    "btt_ts_mape_dist.fillna(0, inplace=True)"
   ]
  },
  {
   "cell_type": "code",
   "execution_count": null,
   "metadata": {},
   "outputs": [],
   "source": [
    "#Using matplotlib\n",
    "plt.figure(figsize=(10,10))\n",
    "plt.pie(x=btt_ts_mape_dist, autopct=\"%.1f%%\", explode=[0.05]*(len(btt_ts_mape_dist)), labels=btt_ts_mape_dist.index, pctdistance=0.5)\n",
    "plt.title(\"BTT SKU Bazında MAPE Dağılımı (Time Series)\", fontsize=14)\n",
    "plt.savefig(\"ts_btt_sku_bazli_mape_dagilimi.jpg\")"
   ]
  },
  {
   "cell_type": "code",
   "execution_count": null,
   "metadata": {},
   "outputs": [],
   "source": [
    "hor_mape_dist.fillna(0, inplace=True)"
   ]
  },
  {
   "cell_type": "code",
   "execution_count": null,
   "metadata": {},
   "outputs": [],
   "source": [
    "#Using matplotlib\n",
    "plt.figure(figsize=(10,10))\n",
    "plt.pie(x=hor_ts_mape_dist, autopct=\"%.1f%%\", explode=[0.05]*(len(hor_ts_mape_dist)), labels=hor_ts_mape_dist.index, pctdistance=0.5)\n",
    "plt.title(\"Horizon SKU Bazında MAPE Dağılımı (Time Series)\", fontsize=14)\n",
    "plt.savefig(\"ts_hor_sku_bazli_mape_dagilimi.jpg\")"
   ]
  },
  {
   "cell_type": "code",
   "execution_count": null,
   "metadata": {},
   "outputs": [],
   "source": [
    "#Using matplotlib\n",
    "plt.figure(figsize=(10,10))\n",
    "plt.pie(x=pas_ts_mape_dist, autopct=\"%.1f%%\", explode=[0.05]*(len(pas_ts_mape_dist)), labels=pas_ts_mape_dist.index, pctdistance=0.5)\n",
    "plt.title(\"Pasifik SKU Bazında MAPE Dağılımı (Time Series)\", fontsize=14)\n",
    "plt.savefig(\"ts_pas_sku_bazli_mape_dagilimi.jpg\")"
   ]
  },
  {
   "cell_type": "code",
   "execution_count": null,
   "metadata": {},
   "outputs": [],
   "source": [
    "#Using matplotlib\n",
    "plt.figure(figsize=(10,10))\n",
    "plt.pie(x=ts_mape_dist, autopct=\"%.1f%%\", explode=[0.05]*(len(ts_mape_dist)), labels=ts_mape_dist.index, pctdistance=0.5)\n",
    "plt.title(\"SKU Bazında MAPE Dağılımı (Time Series)\", fontsize=14)\n",
    "plt.savefig(\"ts_sku_bazli_mape_dagilimi.jpg\")"
   ]
  },
  {
   "cell_type": "markdown",
   "metadata": {},
   "source": [
    "---\n",
    "# Regression + Time Series MAPE Bins\n",
    "---"
   ]
  },
  {
   "cell_type": "code",
   "execution_count": null,
   "metadata": {},
   "outputs": [],
   "source": [
    "best_results_sku2 = best_results_sku.copy()\n",
    "best_results_sku2.rename(columns={\"urun\": \"urun_adi\"}, inplace=True)\n",
    "ts_results = ts_results[best_results_sku2.columns.to_list()]"
   ]
  },
  {
   "cell_type": "code",
   "execution_count": null,
   "metadata": {},
   "outputs": [],
   "source": [
    "reg_ts_results_sku = pd.concat([ts_results, best_results_sku2], axis=0, ignore_index=True)"
   ]
  },
  {
   "cell_type": "code",
   "execution_count": null,
   "metadata": {},
   "outputs": [],
   "source": [
    "ts_reg_mape_dist = (reg_ts_results_sku.mape_bins.value_counts() / len(reg_ts_results_sku))*100\n",
    "reorderlist = [\"10'dan küçük\", \"10 ile 25 arasında\", \"25 ile 50 arasında\", \"50 ile 100 arasında\", \"100'den büyük\"]\n",
    "ts_reg_mape_dist = ts_reg_mape_dist.reindex(reorderlist)"
   ]
  },
  {
   "cell_type": "code",
   "execution_count": null,
   "metadata": {},
   "outputs": [],
   "source": [
    "btt_reg_ts_results_sku = reg_ts_results_sku[reg_ts_results_sku[\"kanal_l\"] == \"btt\"]\n",
    "pas_reg_ts_results_sku = reg_ts_results_sku[reg_ts_results_sku[\"kanal_l\"] == \"pasifik\"]\n",
    "hor_reg_ts_results_sku = reg_ts_results_sku[reg_ts_results_sku[\"kanal_l\"] == \"horizon\"]"
   ]
  },
  {
   "cell_type": "code",
   "execution_count": null,
   "metadata": {},
   "outputs": [],
   "source": [
    "btt_reg_ts_mape_dist = (btt_reg_ts_results_sku.mape_bins.value_counts() / len(btt_reg_ts_results_sku))*100\n",
    "reorderlist = [\"10'dan küçük\", \"10 ile 25 arasında\", \"25 ile 50 arasında\", \"50 ile 100 arasında\", \"100'den büyük\"]\n",
    "btt_reg_ts_mape_dist = btt_reg_ts_mape_dist.reindex(reorderlist)\n",
    "\n",
    "hor_reg_ts_mape_dist = (hor_reg_ts_results_sku.mape_bins.value_counts() / len(hor_reg_ts_results_sku))*100\n",
    "reorderlist = [\"10'dan küçük\", \"10 ile 25 arasında\", \"25 ile 50 arasında\", \"50 ile 100 arasında\", \"100'den büyük\"]\n",
    "hor_reg_ts_mape_dist = hor_reg_ts_mape_dist.reindex(reorderlist)\n",
    "\n",
    "pas_reg_ts_mape_dist = (pas_reg_ts_results_sku.mape_bins.value_counts() / len(pas_reg_ts_results_sku))*100\n",
    "reorderlist = [\"10'dan küçük\", \"10 ile 25 arasında\", \"25 ile 50 arasında\", \"50 ile 100 arasında\", \"100'den büyük\"]\n",
    "pas_reg_ts_mape_dist = pas_reg_ts_mape_dist.reindex(reorderlist)"
   ]
  },
  {
   "cell_type": "code",
   "execution_count": null,
   "metadata": {},
   "outputs": [],
   "source": [
    "btt_reg_ts_mape_dist.fillna(0, inplace=True)"
   ]
  },
  {
   "cell_type": "code",
   "execution_count": null,
   "metadata": {},
   "outputs": [],
   "source": [
    "#Using matplotlib\n",
    "plt.figure(figsize=(10,10))\n",
    "plt.pie(x=btt_reg_ts_mape_dist, autopct=\"%.1f%%\", explode=[0.05]*(len(btt_reg_ts_mape_dist)), labels=btt_reg_ts_mape_dist.index, pctdistance=0.5)\n",
    "plt.title(\"BTT SKU Bazında MAPE Dağılımı (Time Series + Regresyon)\", fontsize=14)\n",
    "plt.savefig(\"reg_ts_btt_sku_bazli_mape_dagilimi.jpg\")"
   ]
  },
  {
   "cell_type": "code",
   "execution_count": null,
   "metadata": {},
   "outputs": [],
   "source": [
    "#Using matplotlib\n",
    "plt.figure(figsize=(10,10))\n",
    "plt.pie(x=hor_reg_ts_mape_dist, autopct=\"%.1f%%\", explode=[0.05]*(len(hor_reg_ts_mape_dist)), labels=hor_reg_ts_mape_dist.index, pctdistance=0.5)\n",
    "plt.title(\"Horizon SKU Bazında MAPE Dağılımı (Time Series + Regresyon)\", fontsize=14)\n",
    "plt.savefig(\"reg_ts_hor_sku_bazli_mape_dagilimi.jpg\")"
   ]
  },
  {
   "cell_type": "code",
   "execution_count": null,
   "metadata": {},
   "outputs": [],
   "source": [
    "#Using matplotlib\n",
    "plt.figure(figsize=(10,10))\n",
    "plt.pie(x=pas_reg_ts_mape_dist, autopct=\"%.1f%%\", explode=[0.05]*(len(pas_reg_ts_mape_dist)), labels=pas_reg_ts_mape_dist.index, pctdistance=0.5)\n",
    "plt.title(\"Pasifik SKU Bazında MAPE Dağılımı (Time Series + Regresyon)\", fontsize=14)\n",
    "plt.savefig(\"reg_ts_pas_sku_bazli_mape_dagilimi.jpg\")"
   ]
  },
  {
   "cell_type": "code",
   "execution_count": null,
   "metadata": {},
   "outputs": [],
   "source": [
    "reg_ts_mape_dist = (reg_ts_results_sku.mape_bins.value_counts() / len(reg_ts_results_sku))*100\n",
    "reorderlist = [\"10'dan küçük\", \"10 ile 25 arasında\", \"25 ile 50 arasında\", \"50 ile 100 arasında\", \"100'den büyük\"]\n",
    "reg_ts_mape_dist = reg_ts_mape_dist.reindex(reorderlist)"
   ]
  },
  {
   "cell_type": "code",
   "execution_count": null,
   "metadata": {},
   "outputs": [],
   "source": [
    "#Using matplotlib\n",
    "plt.figure(figsize=(10,10))\n",
    "plt.pie(x=reg_ts_mape_dist, autopct=\"%.1f%%\", explode=[0.05]*(len(reg_ts_mape_dist)), labels=reg_ts_mape_dist.index, pctdistance=0.5)\n",
    "plt.title(\"SKU Bazında MAPE Dağılımı (Time Series + Regresyon)\", fontsize=14)\n",
    "plt.savefig(\"reg_ts_sku_bazli_mape_dagilimi.jpg\")"
   ]
  },
  {
   "cell_type": "code",
   "execution_count": null,
   "metadata": {},
   "outputs": [],
   "source": [
    "X_train2 = X_train.copy()"
   ]
  },
  {
   "cell_type": "code",
   "execution_count": null,
   "metadata": {},
   "outputs": [],
   "source": [
    "X_train2[\"Kanal\"] = le_kanal.inverse_transform(X_train2[\"Kanal\"])\n",
    "X_train2[\"grup_adi\"] = le_grup_adi.inverse_transform(X_train2[\"grup_adi\"])\n",
    "X_train2[\"ana_kategori_adi\"] = le_ana_kategori_adi.inverse_transform(X_train2[\"ana_kategori_adi\"])\n",
    "X_train2[\"kategori_adi\"] = le_kategori_adi.inverse_transform(X_train2[\"kategori_adi\"])\n",
    "X_train2[\"marka_adi\"] = le_marka_adi.inverse_transform(X_train2[\"marka_adi\"])\n",
    "X_train2[\"urun_adi\"] = le_urun_adi.inverse_transform(X_train2[\"urun_adi\"])"
   ]
  },
  {
   "cell_type": "code",
   "execution_count": null,
   "metadata": {},
   "outputs": [],
   "source": [
    "training_all = pd.concat([X_train2, y_train], axis=1)"
   ]
  },
  {
   "cell_type": "code",
   "execution_count": null,
   "metadata": {},
   "outputs": [],
   "source": [
    "best_results_sku[\"mape_bins\"].unique()"
   ]
  },
  {
   "cell_type": "code",
   "execution_count": null,
   "metadata": {},
   "outputs": [],
   "source": [
    "best_results_sku[best_results_sku[\"mape_bins\"] == \"10'dan küçük\"]"
   ]
  },
  {
   "cell_type": "code",
   "execution_count": null,
   "metadata": {},
   "outputs": [],
   "source": [
    "df_all = pd.concat([training_all, test_results], axis=0)\n",
    "df_all[\"date\"] = df_all[\"yil\"].astype(str) + \"-\" + df_all[\"ay\"].astype(str) + \"-\" + \"01\"\n",
    "df_all[\"date\"] = pd.to_datetime(df_all[\"date\"], format=\"%Y-%m-%d\", errors=\"coerce\")"
   ]
  },
  {
   "cell_type": "code",
   "execution_count": null,
   "metadata": {},
   "outputs": [],
   "source": [
    "def draw_graph(grup, sku):\n",
    "    mape_sample = results_by_sku[(results_by_sku[\"grup\"] == grup) & (results_by_sku[\"urun\"] == sku)]\n",
    "    l_mape = mape_sample[mape_sample[\"model_type\"] == \"linear_regression\"][\"mape\"].values[0]\n",
    "    knn_mape = mape_sample[mape_sample[\"model_type\"] == \"knn\"][\"mape\"].values[0]\n",
    "    xgb_mape = mape_sample[mape_sample[\"model_type\"] == \"xgboost\"][\"mape\"].values[0]\n",
    "    dt_mape = mape_sample[mape_sample[\"model_type\"] == \"decision_tree\"][\"mape\"].values[0]\n",
    "    rf_mape = mape_sample[mape_sample[\"model_type\"] == \"random_forest\"][\"mape\"].values[0]\n",
    "    gb_mape = mape_sample[mape_sample[\"model_type\"] == \"gradient_boosting\"][\"mape\"].values[0]\n",
    "\n",
    "    test = df_all[(df_all[\"grup_adi\"] == grup) & (df_all[\"urun_adi\"] == sku)]\n",
    "    plt.figure(figsize=(20, 8))\n",
    "    plt.plot(test[\"date\"], test[\"new_adet\"], marker=\"o\", markersize=5)\n",
    "    plt.plot(test[\"date\"], test[\"linear_regression\"], marker=\"o\", markersize=5)\n",
    "    plt.plot(test[\"date\"], test[\"knn\"], marker=\"o\", markersize=5)\n",
    "    plt.plot(test[\"date\"], test[\"xgboost\"], marker=\"o\", markersize=5)\n",
    "    plt.plot(test[\"date\"], test[\"decision_tree\"], marker=\"o\", markersize=5)\n",
    "    plt.plot(test[\"date\"], test[\"random_forest\"], marker=\"o\", markersize=5)\n",
    "    plt.plot(test[\"date\"], test[\"gradient_boosting\"], marker=\"o\", markersize=5)\n",
    "    plt.legend([\"Adet\", f\"Linear Regression: {l_mape:.2f}\", f\"KNN: {knn_mape:.2f}\", \n",
    "                f\"XGBoost: {xgb_mape:.2f}\", f\"Decision Tree: {dt_mape:.2f}\", \n",
    "                f\"Random Forest: {rf_mape:.2f}\", f\"Gradient Boosting: {gb_mape:.2f}\"])\n",
    "    plt.title(grup+\" & \"+sku)\n",
    "    plt.grid()\n",
    "    plt.show()\n",
    "    print()\n",
    "    print(test[[\"date\", \"new_adet\", \"linear_regression\", \"knn\", \"xgboost\"]])\n",
    "    print()\n",
    "    print(test[[\"date\", \"new_adet\", \"decision_tree\", \"random_forest\"]])\n",
    "    print()\n",
    "    print(test[[\"date\", \"new_adet\", \"gradient_boosting\"]])\n",
    "    print()"
   ]
  },
  {
   "cell_type": "code",
   "execution_count": null,
   "metadata": {},
   "outputs": [],
   "source": [
    "draw_graph(\"ORTA MARKET\", \"HANIMELLER LİMONLU 138Gx9\")"
   ]
  },
  {
   "cell_type": "code",
   "execution_count": null,
   "metadata": {},
   "outputs": [],
   "source": [
    "check_sku = ['ULK TOZ KAK.YENİ TASARIM 50Gx12x12',\n",
    "             'ULK.ÇİK.GOF. BEYAZ 35Gx36x6',\n",
    "             'ULK KARE ÇİK.ÜZÜMLÜ FIN.SÜT.65Gx6x6', 'ULK ÇİK.KARE FIN.70Gx6x6',\n",
    "             'CARAMIO KARE ÇİK.K.MELLİ 60Gx12x6', 'ULK ÇİK.KARE A.FIS.70Gx6x6',\n",
    "             'ALBENİ KAPL.BAR B.BOY 56Gx24x6', 'YUPO DRAJE DOYPACK 111Gx24',\n",
    "             'ÇOKONAT KAPL.GOF.5x33Gx24', 'ALBENİ KAPL.BAR 5x40Gx24',\n",
    "             'COCOSTAR H.CEV.BAR 28Gx24x6 YENİ', 'ULK ÇİK.GOF.5x36Gx24',\n",
    "             'ÇOKOKREM CAM KAV.700Gx6', 'ALTINBAŞAK Ç.OTLU KİNOA KR.5x40Gx18',\n",
    "             'ÇOKOKREM SAKLAMA KABI 1000Gx6', 'HOBBY MİNİ İKR.POŞET 250Gx12',\n",
    "             'METRO KAPL.BAR 5x40Gx18', 'ULK ÇİK.KARE SÜT.70Gx6x6',\n",
    "             'ULK DAMLA ÇİK.BİT.150Gx12', 'OLALA SUFLE MINI 162Gx12',\n",
    "             'YUPO JELLY PORTAKAL HALKASI 70GRX24',\n",
    "             'İKRAM KRE.BİSK.ÇİK.3x92Gx12', 'ULK BEBE BİSK.2x500Gx4',\n",
    "             'ULK PÖTİBÖR BİSK.450Gx10', 'ULK KUVERTÜR %54 BİT.TAB.200Gx6',\n",
    "             'ÇİZİVİÇ PEY.SAND.KR.3x90Gx12', 'ULK KRE.SAND.BİSK.10x61Gx8',\n",
    "             '9 KAT TAT İNCE İNCE ÇİLEK 114Gx16', 'ÇİZİ KR.4x70Gx12',\n",
    "             'DANKEK RULO PASTA ÇİLEK 245Gx8', 'ULK KRE.SAND.BİSK.4x61Gx15',\n",
    "             'ULK GOF.FIN.220Gx12', '9 KAT TAT RULOKAT ÇİK.KRE.230Gx6',\n",
    "             'OLALA SUFLE KEK 70Gx12', 'HANIMELLER LİMONLU KURABİYE 138Gx9',\n",
    "             'DANKEK LOKMALIK HİNDİSTAN CEVİZ.160Gx8',\n",
    "             'DANKEK LOKMALIK HAV.LU TARÇINLI 180Gx8',\n",
    "             'SMARTT KORNET ÇİK.32Gx24x6', 'ALBENİ ÇİK.KAPL.KEK 40Gx18',\n",
    "             'KEKSTRA JÖLEBOL KEK ÇİLEK 35Gx24',\n",
    "             'DANKEK PÖTİ MUFFIN KEK H.CEV.40Gx24']"
   ]
  },
  {
   "cell_type": "code",
   "execution_count": null,
   "metadata": {},
   "outputs": [],
   "source": [
    "best_results_sku[(best_results_sku[\"urun\"].isin(check_sku)) & (best_results_sku[\"kanal_l\"] == \"pasifik\")][\"mape_bins\"].value_counts()"
   ]
  },
  {
   "cell_type": "code",
   "execution_count": null,
   "metadata": {},
   "outputs": [],
   "source": []
  },
  {
   "cell_type": "code",
   "execution_count": null,
   "metadata": {},
   "outputs": [],
   "source": []
  },
  {
   "cell_type": "code",
   "execution_count": null,
   "metadata": {},
   "outputs": [],
   "source": []
  },
  {
   "cell_type": "code",
   "execution_count": null,
   "metadata": {},
   "outputs": [],
   "source": []
  },
  {
   "cell_type": "code",
   "execution_count": null,
   "metadata": {},
   "outputs": [],
   "source": []
  }
 ],
 "metadata": {
  "kernelspec": {
   "display_name": "Python 3",
   "language": "python",
   "name": "python3"
  },
  "language_info": {
   "codemirror_mode": {
    "name": "ipython",
    "version": 3
   },
   "file_extension": ".py",
   "mimetype": "text/x-python",
   "name": "python",
   "nbconvert_exporter": "python",
   "pygments_lexer": "ipython3",
   "version": "3.8.5"
  }
 },
 "nbformat": 4,
 "nbformat_minor": 4
}
