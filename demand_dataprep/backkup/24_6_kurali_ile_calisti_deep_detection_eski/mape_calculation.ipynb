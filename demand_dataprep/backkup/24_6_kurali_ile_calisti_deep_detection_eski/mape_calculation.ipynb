{
 "cells": [
  {
   "cell_type": "code",
   "execution_count": 1,
   "metadata": {},
   "outputs": [],
   "source": [
    "import pandas as pd\n",
    "import numpy as np\n",
    "from datetime import datetime"
   ]
  },
  {
   "cell_type": "code",
   "execution_count": 2,
   "metadata": {},
   "outputs": [],
   "source": [
    "df = pd.read_excel(r\"../results/Demand_Sensing_PRED.xlsx\")\n",
    "df = df[[\"grup_adi\", \"urun_adi\", \"date\", \"ACTUAL\", \"PREDICT\"]]\n",
    "skular = list(df.urun_adi.unique())"
   ]
  },
  {
   "cell_type": "code",
   "execution_count": 3,
   "metadata": {},
   "outputs": [],
   "source": [
    "skular = sorted(skular)"
   ]
  },
  {
   "cell_type": "code",
   "execution_count": 4,
   "metadata": {},
   "outputs": [],
   "source": [
    "def mean_absolute_percentage_error(y_true, y_pred): \n",
    "    return np.mean(np.abs((np.array(y_true) - np.array(y_pred)) / y_true)) * 100"
   ]
  },
  {
   "cell_type": "code",
   "execution_count": 5,
   "metadata": {},
   "outputs": [],
   "source": [
    "def length_of_data(grup_adi, sku):\n",
    "    temp_df = df[(df[\"grup_adi\"] == grup_adi) & (df[\"urun_adi\"] == sku)].reset_index(drop=True)\n",
    "    return len(temp_df)"
   ]
  },
  {
   "cell_type": "code",
   "execution_count": 29,
   "metadata": {},
   "outputs": [],
   "source": [
    "def analysis(grup_adi, sku):\n",
    "    temp_df = df[(df[\"grup_adi\"] == grup_adi) & (df[\"urun_adi\"] == sku)].reset_index(drop=True)\n",
    "    \n",
    "    act_pred = temp_df[(temp_df[\"date\"] >= datetime(2020, 10, 1)) & \n",
    "                       (temp_df[\"date\"] <= datetime(2021, 3, 1))][[\"ACTUAL\", \"PREDICT\"]]\n",
    "    ytrue = act_pred[\"ACTUAL\"]\n",
    "    yhat = act_pred[\"PREDICT\"]\n",
    "    \n",
    "    mape = mean_absolute_percentage_error(ytrue, yhat)\n",
    "    print(\"-\"*12)\n",
    "    print(\"Grup ismi:\", grup_adi)\n",
    "    print(\"Ürün ismi:\", sku)\n",
    "    print(f\"MAPE: {mape:.2f}\")\n",
    "    print(\"-\"*12)\n",
    "    print(\"\\n\")\n",
    "    print(temp_df[temp_df[\"date\"] >= datetime(2020, 10, 1)][[\"date\", \"ACTUAL\", \"PREDICT\"]])"
   ]
  },
  {
   "cell_type": "code",
   "execution_count": 35,
   "metadata": {},
   "outputs": [
    {
     "data": {
      "text/plain": [
       "63"
      ]
     },
     "execution_count": 35,
     "metadata": {},
     "output_type": "execute_result"
    }
   ],
   "source": [
    "length_of_data(\"A101\", \"ULK NAPOLİTEN 33Gx20x6\")"
   ]
  },
  {
   "cell_type": "code",
   "execution_count": 36,
   "metadata": {},
   "outputs": [
    {
     "name": "stdout",
     "output_type": "stream",
     "text": [
      "------------\n",
      "Grup ismi: MİGROS\n",
      "Ürün ismi: ULK NAPOLİTEN 33Gx20x6\n",
      "MAPE: 14.03\n",
      "------------\n",
      "\n",
      "\n",
      "         date        ACTUAL PREDICT\n",
      "45 2020-10-01        622320  652683\n",
      "46 2020-11-01        255600  176926\n",
      "47 2020-12-01        651238  639483\n",
      "48 2021-01-01        501720  618848\n",
      "49 2021-02-01        221708  235451\n",
      "50 2021-03-01        488069  571929\n",
      "51 2021-04-01             .  404211\n",
      "52 2021-05-01             .  432952\n",
      "53 2021-06-01             .  418600\n",
      "54 2021-07-01             .  451879\n",
      "55 2021-08-01             .  435378\n",
      "56 2021-09-01             .  452461\n",
      "57 2021-10-01             .  481410\n",
      "58 2021-11-01             .  431491\n",
      "59 2021-12-01             .  484161\n",
      "60 2022-01-01             .  446734\n",
      "61 2022-02-01             .  462136\n",
      "62 2022-03-01             .  485614\n"
     ]
    }
   ],
   "source": [
    "analysis(\"MİGROS\", \"ULK NAPOLİTEN 33Gx20x6\")"
   ]
  },
  {
   "cell_type": "code",
   "execution_count": null,
   "metadata": {},
   "outputs": [],
   "source": []
  },
  {
   "cell_type": "code",
   "execution_count": null,
   "metadata": {},
   "outputs": [],
   "source": []
  },
  {
   "cell_type": "code",
   "execution_count": null,
   "metadata": {},
   "outputs": [],
   "source": []
  },
  {
   "cell_type": "code",
   "execution_count": null,
   "metadata": {},
   "outputs": [],
   "source": []
  },
  {
   "cell_type": "code",
   "execution_count": null,
   "metadata": {},
   "outputs": [],
   "source": []
  },
  {
   "cell_type": "code",
   "execution_count": null,
   "metadata": {},
   "outputs": [],
   "source": []
  },
  {
   "cell_type": "markdown",
   "metadata": {},
   "source": [
    "---\n",
    "### Enflasyon\n",
    "### Fiyat\n",
    "### Fiyat Geçişi\n",
    "### İndirim\n",
    "### Lockdown\n",
    "### Pandemi_\n",
    "### Ramazan\n",
    "### Ay İçinde Toplam Tatil Günü\n",
    "---"
   ]
  },
  {
   "cell_type": "code",
   "execution_count": 11,
   "metadata": {},
   "outputs": [
    {
     "name": "stdout",
     "output_type": "stream",
     "text": [
      "MAPE Halley: 43.55404876971149\n",
      "MAPE Caramio: 31.93479423697911\n",
      "MAPE Oneo Slim: 15.553393539999682\n",
      "MAPE Oneo Draje: 29.70954820288931\n",
      "MAPE Potibor: 28.82838153009785\n"
     ]
    }
   ],
   "source": [
    "print(\"MAPE Halley:\", mean_absolute_percentage_error(halley[\"ACTUAL\"], halley[\"PREDICT\"]))\n",
    "print(\"MAPE Caramio:\", mean_absolute_percentage_error(caramio[\"ACTUAL\"], caramio[\"PREDICT\"]))\n",
    "print(\"MAPE Oneo Slim:\", mean_absolute_percentage_error(oneo_slim[\"ACTUAL\"], oneo_slim[\"PREDICT\"]))\n",
    "print(\"MAPE Oneo Draje:\", mean_absolute_percentage_error(oneo_draje[\"ACTUAL\"], oneo_draje[\"PREDICT\"]))\n",
    "print(\"MAPE Potibor:\", mean_absolute_percentage_error(potibor[\"ACTUAL\"], potibor[\"PREDICT\"]))"
   ]
  },
  {
   "cell_type": "code",
   "execution_count": null,
   "metadata": {},
   "outputs": [],
   "source": []
  },
  {
   "cell_type": "code",
   "execution_count": null,
   "metadata": {},
   "outputs": [],
   "source": []
  },
  {
   "cell_type": "markdown",
   "metadata": {},
   "source": [
    "---\n",
    "### Enflasyon\n",
    "### Fiyat\n",
    "### Fiyat Geçişi\n",
    "### İndirim\n",
    "### Pandemi_\n",
    "### Ramazan\n",
    "---"
   ]
  },
  {
   "cell_type": "code",
   "execution_count": 21,
   "metadata": {},
   "outputs": [
    {
     "name": "stdout",
     "output_type": "stream",
     "text": [
      "MAPE Halley: 36.897606199707724\n",
      "MAPE Caramio: 28.1906527011552\n",
      "MAPE Oneo Slim: 15.430095342546455\n",
      "MAPE Oneo Draje: 33.581789545514454\n",
      "MAPE Potibor: 32.06542195173128\n"
     ]
    }
   ],
   "source": [
    "print(\"MAPE Halley:\", mean_absolute_percentage_error(halley[\"ACTUAL\"], halley[\"PREDICT\"]))\n",
    "print(\"MAPE Caramio:\", mean_absolute_percentage_error(caramio[\"ACTUAL\"], caramio[\"PREDICT\"]))\n",
    "print(\"MAPE Oneo Slim:\", mean_absolute_percentage_error(oneo_slim[\"ACTUAL\"], oneo_slim[\"PREDICT\"]))\n",
    "print(\"MAPE Oneo Draje:\", mean_absolute_percentage_error(oneo_draje[\"ACTUAL\"], oneo_draje[\"PREDICT\"]))\n",
    "print(\"MAPE Potibor:\", mean_absolute_percentage_error(potibor[\"ACTUAL\"], potibor[\"PREDICT\"]))"
   ]
  },
  {
   "cell_type": "code",
   "execution_count": null,
   "metadata": {},
   "outputs": [],
   "source": []
  },
  {
   "cell_type": "code",
   "execution_count": null,
   "metadata": {},
   "outputs": [],
   "source": []
  },
  {
   "cell_type": "code",
   "execution_count": null,
   "metadata": {},
   "outputs": [],
   "source": []
  },
  {
   "cell_type": "markdown",
   "metadata": {},
   "source": [
    "---\n",
    "### Enflasyon\n",
    "### Fiyat\n",
    "### İndirim\n",
    "### Pandemi\n",
    "### Ramazan\n",
    "---"
   ]
  },
  {
   "cell_type": "code",
   "execution_count": 31,
   "metadata": {},
   "outputs": [
    {
     "name": "stdout",
     "output_type": "stream",
     "text": [
      "MAPE Halley: 39.69149109185736\n",
      "MAPE Caramio: 30.829253052082368\n",
      "MAPE Oneo Slim: 15.430095342546455\n",
      "MAPE Oneo Draje: 34.07664860412281\n",
      "MAPE Potibor: 32.06542195173128\n"
     ]
    }
   ],
   "source": [
    "print(\"MAPE Halley:\", mean_absolute_percentage_error(halley[\"ACTUAL\"], halley[\"PREDICT\"]))\n",
    "print(\"MAPE Caramio:\", mean_absolute_percentage_error(caramio[\"ACTUAL\"], caramio[\"PREDICT\"]))\n",
    "print(\"MAPE Oneo Slim:\", mean_absolute_percentage_error(oneo_slim[\"ACTUAL\"], oneo_slim[\"PREDICT\"]))\n",
    "print(\"MAPE Oneo Draje:\", mean_absolute_percentage_error(oneo_draje[\"ACTUAL\"], oneo_draje[\"PREDICT\"]))\n",
    "print(\"MAPE Potibor:\", mean_absolute_percentage_error(potibor[\"ACTUAL\"], potibor[\"PREDICT\"]))"
   ]
  },
  {
   "cell_type": "code",
   "execution_count": null,
   "metadata": {},
   "outputs": [],
   "source": []
  },
  {
   "cell_type": "code",
   "execution_count": null,
   "metadata": {},
   "outputs": [],
   "source": []
  },
  {
   "cell_type": "markdown",
   "metadata": {},
   "source": [
    "---\n",
    "### Enflasyon\n",
    "### İndirim\n",
    "### Pandemi\n",
    "### Ramazan\n",
    "---"
   ]
  },
  {
   "cell_type": "code",
   "execution_count": 39,
   "metadata": {},
   "outputs": [
    {
     "name": "stdout",
     "output_type": "stream",
     "text": [
      "MAPE Halley: 76.41379027224944\n",
      "MAPE Caramio: 35.03371062698919\n",
      "MAPE Oneo Slim: 13.459274881203312\n",
      "MAPE Oneo Draje: 26.42422562359065\n",
      "MAPE Potibor: 32.61597262746922\n"
     ]
    }
   ],
   "source": [
    "print(\"MAPE Halley:\", mean_absolute_percentage_error(halley[\"ACTUAL\"], halley[\"PREDICT\"]))\n",
    "print(\"MAPE Caramio:\", mean_absolute_percentage_error(caramio[\"ACTUAL\"], caramio[\"PREDICT\"]))\n",
    "print(\"MAPE Oneo Slim:\", mean_absolute_percentage_error(oneo_slim[\"ACTUAL\"], oneo_slim[\"PREDICT\"]))\n",
    "print(\"MAPE Oneo Draje:\", mean_absolute_percentage_error(oneo_draje[\"ACTUAL\"], oneo_draje[\"PREDICT\"]))\n",
    "print(\"MAPE Potibor:\", mean_absolute_percentage_error(potibor[\"ACTUAL\"], potibor[\"PREDICT\"]))"
   ]
  },
  {
   "cell_type": "code",
   "execution_count": null,
   "metadata": {},
   "outputs": [],
   "source": []
  },
  {
   "cell_type": "code",
   "execution_count": null,
   "metadata": {},
   "outputs": [],
   "source": []
  },
  {
   "cell_type": "markdown",
   "metadata": {},
   "source": [
    "---\n",
    "### İndirim\n",
    "### Pandemi\n",
    "### Ramazan\n",
    "---"
   ]
  },
  {
   "cell_type": "code",
   "execution_count": 47,
   "metadata": {},
   "outputs": [
    {
     "name": "stdout",
     "output_type": "stream",
     "text": [
      "MAPE Halley: 46.60571214252796\n",
      "MAPE Caramio: 34.89083179836514\n",
      "MAPE Oneo Slim: 14.308153739362748\n",
      "MAPE Oneo Draje: 36.927740441239415\n",
      "MAPE Potibor: 32.10464087658492\n"
     ]
    }
   ],
   "source": [
    "print(\"MAPE Halley:\", mean_absolute_percentage_error(halley[\"ACTUAL\"], halley[\"PREDICT\"]))\n",
    "print(\"MAPE Caramio:\", mean_absolute_percentage_error(caramio[\"ACTUAL\"], caramio[\"PREDICT\"]))\n",
    "print(\"MAPE Oneo Slim:\", mean_absolute_percentage_error(oneo_slim[\"ACTUAL\"], oneo_slim[\"PREDICT\"]))\n",
    "print(\"MAPE Oneo Draje:\", mean_absolute_percentage_error(oneo_draje[\"ACTUAL\"], oneo_draje[\"PREDICT\"]))\n",
    "print(\"MAPE Potibor:\", mean_absolute_percentage_error(potibor[\"ACTUAL\"], potibor[\"PREDICT\"]))"
   ]
  },
  {
   "cell_type": "code",
   "execution_count": null,
   "metadata": {},
   "outputs": [],
   "source": []
  },
  {
   "cell_type": "code",
   "execution_count": null,
   "metadata": {},
   "outputs": [],
   "source": []
  },
  {
   "cell_type": "markdown",
   "metadata": {},
   "source": [
    "---\n",
    "### İndirim\n",
    "### Ramazan\n",
    "---"
   ]
  },
  {
   "cell_type": "code",
   "execution_count": 54,
   "metadata": {},
   "outputs": [
    {
     "name": "stdout",
     "output_type": "stream",
     "text": [
      "MAPE Halley: 73.91197801559136\n",
      "MAPE Caramio: 38.974343504780734\n",
      "MAPE Oneo Slim: 16.584644268423716\n",
      "MAPE Oneo Draje: 36.92145241527762\n",
      "MAPE Potibor: 31.29647624006032\n"
     ]
    }
   ],
   "source": [
    "print(\"MAPE Halley:\", mean_absolute_percentage_error(halley[\"ACTUAL\"], halley[\"PREDICT\"]))\n",
    "print(\"MAPE Caramio:\", mean_absolute_percentage_error(caramio[\"ACTUAL\"], caramio[\"PREDICT\"]))\n",
    "print(\"MAPE Oneo Slim:\", mean_absolute_percentage_error(oneo_slim[\"ACTUAL\"], oneo_slim[\"PREDICT\"]))\n",
    "print(\"MAPE Oneo Draje:\", mean_absolute_percentage_error(oneo_draje[\"ACTUAL\"], oneo_draje[\"PREDICT\"]))\n",
    "print(\"MAPE Potibor:\", mean_absolute_percentage_error(potibor[\"ACTUAL\"], potibor[\"PREDICT\"]))"
   ]
  },
  {
   "cell_type": "code",
   "execution_count": null,
   "metadata": {},
   "outputs": [],
   "source": []
  },
  {
   "cell_type": "code",
   "execution_count": null,
   "metadata": {},
   "outputs": [],
   "source": []
  },
  {
   "cell_type": "markdown",
   "metadata": {},
   "source": [
    "---\n",
    "### İndirim\n",
    "---"
   ]
  },
  {
   "cell_type": "code",
   "execution_count": 61,
   "metadata": {},
   "outputs": [
    {
     "name": "stdout",
     "output_type": "stream",
     "text": [
      "MAPE Halley: 76.69738697027877\n",
      "MAPE Caramio: 38.99772688825193\n",
      "MAPE Oneo Slim: 16.55881546801376\n",
      "MAPE Oneo Draje: 35.81768822331225\n",
      "MAPE Potibor: 34.8736564168191\n"
     ]
    }
   ],
   "source": [
    "print(\"MAPE Halley:\", mean_absolute_percentage_error(halley[\"ACTUAL\"], halley[\"PREDICT\"]))\n",
    "print(\"MAPE Caramio:\", mean_absolute_percentage_error(caramio[\"ACTUAL\"], caramio[\"PREDICT\"]))\n",
    "print(\"MAPE Oneo Slim:\", mean_absolute_percentage_error(oneo_slim[\"ACTUAL\"], oneo_slim[\"PREDICT\"]))\n",
    "print(\"MAPE Oneo Draje:\", mean_absolute_percentage_error(oneo_draje[\"ACTUAL\"], oneo_draje[\"PREDICT\"]))\n",
    "print(\"MAPE Potibor:\", mean_absolute_percentage_error(potibor[\"ACTUAL\"], potibor[\"PREDICT\"]))"
   ]
  },
  {
   "cell_type": "code",
   "execution_count": null,
   "metadata": {},
   "outputs": [],
   "source": []
  },
  {
   "cell_type": "code",
   "execution_count": null,
   "metadata": {},
   "outputs": [],
   "source": []
  }
 ],
 "metadata": {
  "kernelspec": {
   "display_name": "Python 3",
   "language": "python",
   "name": "python3"
  },
  "language_info": {
   "codemirror_mode": {
    "name": "ipython",
    "version": 3
   },
   "file_extension": ".py",
   "mimetype": "text/x-python",
   "name": "python",
   "nbconvert_exporter": "python",
   "pygments_lexer": "ipython3",
   "version": "3.8.5"
  }
 },
 "nbformat": 4,
 "nbformat_minor": 4
}
