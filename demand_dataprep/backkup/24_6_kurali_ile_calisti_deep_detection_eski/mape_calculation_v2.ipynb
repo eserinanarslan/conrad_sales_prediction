{
 "cells": [
  {
   "cell_type": "code",
   "execution_count": 22,
   "metadata": {},
   "outputs": [],
   "source": [
    "import pandas as pd\n",
    "import numpy as np\n",
    "from datetime import datetime"
   ]
  },
  {
   "cell_type": "code",
   "execution_count": 23,
   "metadata": {},
   "outputs": [],
   "source": [
    "pd.set_option(\"display.max.columns\", 100)\n",
    "pd.set_option(\"display.max.rows\", 100)"
   ]
  },
  {
   "cell_type": "code",
   "execution_count": 24,
   "metadata": {},
   "outputs": [],
   "source": [
    "ts = pd.read_csv(r\"C:\\Users\\tunahan.aktas\\Downloads/table_DS_30_06_OUTFOR_V2.csv\", delimiter=\";\")"
   ]
  },
  {
   "cell_type": "code",
   "execution_count": 25,
   "metadata": {},
   "outputs": [
    {
     "ename": "TypeError",
     "evalue": "repl must be a string or callable",
     "output_type": "error",
     "traceback": [
      "\u001b[1;31m---------------------------------------------------------------------------\u001b[0m",
      "\u001b[1;31mTypeError\u001b[0m                                 Traceback (most recent call last)",
      "\u001b[1;32m<ipython-input-25-f4dadbd67f94>\u001b[0m in \u001b[0;36m<module>\u001b[1;34m\u001b[0m\n\u001b[1;32m----> 1\u001b[1;33m \u001b[0mts\u001b[0m\u001b[1;33m.\u001b[0m\u001b[0mACTUAL\u001b[0m\u001b[1;33m.\u001b[0m\u001b[0mstr\u001b[0m\u001b[1;33m.\u001b[0m\u001b[0mreplace\u001b[0m\u001b[1;33m(\u001b[0m\u001b[1;34m\"           .\"\u001b[0m\u001b[1;33m,\u001b[0m \u001b[0mnp\u001b[0m\u001b[1;33m.\u001b[0m\u001b[0mnan\u001b[0m\u001b[1;33m)\u001b[0m\u001b[1;33m\u001b[0m\u001b[1;33m\u001b[0m\u001b[0m\n\u001b[0m",
      "\u001b[1;32m~\\Anaconda3\\lib\\site-packages\\pandas\\core\\strings.py\u001b[0m in \u001b[0;36mwrapper\u001b[1;34m(self, *args, **kwargs)\u001b[0m\n\u001b[0;32m   1999\u001b[0m                 )\n\u001b[0;32m   2000\u001b[0m                 \u001b[1;32mraise\u001b[0m \u001b[0mTypeError\u001b[0m\u001b[1;33m(\u001b[0m\u001b[0mmsg\u001b[0m\u001b[1;33m)\u001b[0m\u001b[1;33m\u001b[0m\u001b[1;33m\u001b[0m\u001b[0m\n\u001b[1;32m-> 2001\u001b[1;33m             \u001b[1;32mreturn\u001b[0m \u001b[0mfunc\u001b[0m\u001b[1;33m(\u001b[0m\u001b[0mself\u001b[0m\u001b[1;33m,\u001b[0m \u001b[1;33m*\u001b[0m\u001b[0margs\u001b[0m\u001b[1;33m,\u001b[0m \u001b[1;33m**\u001b[0m\u001b[0mkwargs\u001b[0m\u001b[1;33m)\u001b[0m\u001b[1;33m\u001b[0m\u001b[1;33m\u001b[0m\u001b[0m\n\u001b[0m\u001b[0;32m   2002\u001b[0m \u001b[1;33m\u001b[0m\u001b[0m\n\u001b[0;32m   2003\u001b[0m         \u001b[0mwrapper\u001b[0m\u001b[1;33m.\u001b[0m\u001b[0m__name__\u001b[0m \u001b[1;33m=\u001b[0m \u001b[0mfunc_name\u001b[0m\u001b[1;33m\u001b[0m\u001b[1;33m\u001b[0m\u001b[0m\n",
      "\u001b[1;32m~\\Anaconda3\\lib\\site-packages\\pandas\\core\\strings.py\u001b[0m in \u001b[0;36mreplace\u001b[1;34m(self, pat, repl, n, case, flags, regex)\u001b[0m\n\u001b[0;32m   2842\u001b[0m     \u001b[1;33m@\u001b[0m\u001b[0mforbid_nonstring_types\u001b[0m\u001b[1;33m(\u001b[0m\u001b[1;33m[\u001b[0m\u001b[1;34m\"bytes\"\u001b[0m\u001b[1;33m]\u001b[0m\u001b[1;33m)\u001b[0m\u001b[1;33m\u001b[0m\u001b[1;33m\u001b[0m\u001b[0m\n\u001b[0;32m   2843\u001b[0m     \u001b[1;32mdef\u001b[0m \u001b[0mreplace\u001b[0m\u001b[1;33m(\u001b[0m\u001b[0mself\u001b[0m\u001b[1;33m,\u001b[0m \u001b[0mpat\u001b[0m\u001b[1;33m,\u001b[0m \u001b[0mrepl\u001b[0m\u001b[1;33m,\u001b[0m \u001b[0mn\u001b[0m\u001b[1;33m=\u001b[0m\u001b[1;33m-\u001b[0m\u001b[1;36m1\u001b[0m\u001b[1;33m,\u001b[0m \u001b[0mcase\u001b[0m\u001b[1;33m=\u001b[0m\u001b[1;32mNone\u001b[0m\u001b[1;33m,\u001b[0m \u001b[0mflags\u001b[0m\u001b[1;33m=\u001b[0m\u001b[1;36m0\u001b[0m\u001b[1;33m,\u001b[0m \u001b[0mregex\u001b[0m\u001b[1;33m=\u001b[0m\u001b[1;32mTrue\u001b[0m\u001b[1;33m)\u001b[0m\u001b[1;33m:\u001b[0m\u001b[1;33m\u001b[0m\u001b[1;33m\u001b[0m\u001b[0m\n\u001b[1;32m-> 2844\u001b[1;33m         result = str_replace(\n\u001b[0m\u001b[0;32m   2845\u001b[0m             \u001b[0mself\u001b[0m\u001b[1;33m.\u001b[0m\u001b[0m_parent\u001b[0m\u001b[1;33m,\u001b[0m \u001b[0mpat\u001b[0m\u001b[1;33m,\u001b[0m \u001b[0mrepl\u001b[0m\u001b[1;33m,\u001b[0m \u001b[0mn\u001b[0m\u001b[1;33m=\u001b[0m\u001b[0mn\u001b[0m\u001b[1;33m,\u001b[0m \u001b[0mcase\u001b[0m\u001b[1;33m=\u001b[0m\u001b[0mcase\u001b[0m\u001b[1;33m,\u001b[0m \u001b[0mflags\u001b[0m\u001b[1;33m=\u001b[0m\u001b[0mflags\u001b[0m\u001b[1;33m,\u001b[0m \u001b[0mregex\u001b[0m\u001b[1;33m=\u001b[0m\u001b[0mregex\u001b[0m\u001b[1;33m\u001b[0m\u001b[1;33m\u001b[0m\u001b[0m\n\u001b[0;32m   2846\u001b[0m         )\n",
      "\u001b[1;32m~\\Anaconda3\\lib\\site-packages\\pandas\\core\\strings.py\u001b[0m in \u001b[0;36mstr_replace\u001b[1;34m(arr, pat, repl, n, case, flags, regex)\u001b[0m\n\u001b[0;32m    688\u001b[0m     \u001b[1;31m# Check whether repl is valid (GH 13438, GH 15055)\u001b[0m\u001b[1;33m\u001b[0m\u001b[1;33m\u001b[0m\u001b[1;33m\u001b[0m\u001b[0m\n\u001b[0;32m    689\u001b[0m     \u001b[1;32mif\u001b[0m \u001b[1;32mnot\u001b[0m \u001b[1;33m(\u001b[0m\u001b[0misinstance\u001b[0m\u001b[1;33m(\u001b[0m\u001b[0mrepl\u001b[0m\u001b[1;33m,\u001b[0m \u001b[0mstr\u001b[0m\u001b[1;33m)\u001b[0m \u001b[1;32mor\u001b[0m \u001b[0mcallable\u001b[0m\u001b[1;33m(\u001b[0m\u001b[0mrepl\u001b[0m\u001b[1;33m)\u001b[0m\u001b[1;33m)\u001b[0m\u001b[1;33m:\u001b[0m\u001b[1;33m\u001b[0m\u001b[1;33m\u001b[0m\u001b[0m\n\u001b[1;32m--> 690\u001b[1;33m         \u001b[1;32mraise\u001b[0m \u001b[0mTypeError\u001b[0m\u001b[1;33m(\u001b[0m\u001b[1;34m\"repl must be a string or callable\"\u001b[0m\u001b[1;33m)\u001b[0m\u001b[1;33m\u001b[0m\u001b[1;33m\u001b[0m\u001b[0m\n\u001b[0m\u001b[0;32m    691\u001b[0m \u001b[1;33m\u001b[0m\u001b[0m\n\u001b[0;32m    692\u001b[0m     \u001b[0mis_compiled_re\u001b[0m \u001b[1;33m=\u001b[0m \u001b[0mis_re\u001b[0m\u001b[1;33m(\u001b[0m\u001b[0mpat\u001b[0m\u001b[1;33m)\u001b[0m\u001b[1;33m\u001b[0m\u001b[1;33m\u001b[0m\u001b[0m\n",
      "\u001b[1;31mTypeError\u001b[0m: repl must be a string or callable"
     ]
    }
   ],
   "source": [
    "ts.ACTUAL.str.replace(\"           .\", np.nan)"
   ]
  },
  {
   "cell_type": "code",
   "execution_count": 20,
   "metadata": {},
   "outputs": [
    {
     "data": {
      "text/html": [
       "<div>\n",
       "<style scoped>\n",
       "    .dataframe tbody tr th:only-of-type {\n",
       "        vertical-align: middle;\n",
       "    }\n",
       "\n",
       "    .dataframe tbody tr th {\n",
       "        vertical-align: top;\n",
       "    }\n",
       "\n",
       "    .dataframe thead th {\n",
       "        text-align: right;\n",
       "    }\n",
       "</style>\n",
       "<table border=\"1\" class=\"dataframe\">\n",
       "  <thead>\n",
       "    <tr style=\"text-align: right;\">\n",
       "      <th></th>\n",
       "      <th>Kanal</th>\n",
       "      <th>grup_adi</th>\n",
       "      <th>ana_kategori_adi</th>\n",
       "      <th>kategori_adi</th>\n",
       "      <th>marka_adi</th>\n",
       "      <th>urun_adi</th>\n",
       "      <th>date</th>\n",
       "      <th>ACTUAL</th>\n",
       "      <th>PREDICT</th>\n",
       "    </tr>\n",
       "  </thead>\n",
       "  <tbody>\n",
       "    <tr>\n",
       "      <th>0</th>\n",
       "      <td>horizon</td>\n",
       "      <td>POTANSİYEL MARKET</td>\n",
       "      <td>ATIŞTIRMALIK</td>\n",
       "      <td>BİSKÜVİ</td>\n",
       "      <td>ÜLKER BEBE</td>\n",
       "      <td>ÜLKER BEBE BİSK.4x250GRx4</td>\n",
       "      <td>1.01.2016</td>\n",
       "      <td>53584,23924</td>\n",
       "      <td>58264,17026</td>\n",
       "    </tr>\n",
       "    <tr>\n",
       "      <th>1</th>\n",
       "      <td>horizon</td>\n",
       "      <td>POTANSİYEL MARKET</td>\n",
       "      <td>ATIŞTIRMALIK</td>\n",
       "      <td>BİSKÜVİ</td>\n",
       "      <td>ÜLKER BEBE</td>\n",
       "      <td>ÜLKER BEBE BİSK.4x250GRx4</td>\n",
       "      <td>1.02.2016</td>\n",
       "      <td>41032,23924</td>\n",
       "      <td>43837,0888</td>\n",
       "    </tr>\n",
       "    <tr>\n",
       "      <th>2</th>\n",
       "      <td>horizon</td>\n",
       "      <td>POTANSİYEL MARKET</td>\n",
       "      <td>ATIŞTIRMALIK</td>\n",
       "      <td>BİSKÜVİ</td>\n",
       "      <td>ÜLKER BEBE</td>\n",
       "      <td>ÜLKER BEBE BİSK.4x250GRx4</td>\n",
       "      <td>1.03.2016</td>\n",
       "      <td>43840,23924</td>\n",
       "      <td>43490,33399</td>\n",
       "    </tr>\n",
       "    <tr>\n",
       "      <th>3</th>\n",
       "      <td>horizon</td>\n",
       "      <td>POTANSİYEL MARKET</td>\n",
       "      <td>ATIŞTIRMALIK</td>\n",
       "      <td>BİSKÜVİ</td>\n",
       "      <td>ÜLKER BEBE</td>\n",
       "      <td>ÜLKER BEBE BİSK.4x250GRx4</td>\n",
       "      <td>1.04.2016</td>\n",
       "      <td>51156,23924</td>\n",
       "      <td>56863,12789</td>\n",
       "    </tr>\n",
       "    <tr>\n",
       "      <th>4</th>\n",
       "      <td>horizon</td>\n",
       "      <td>POTANSİYEL MARKET</td>\n",
       "      <td>ATIŞTIRMALIK</td>\n",
       "      <td>BİSKÜVİ</td>\n",
       "      <td>ÜLKER BEBE</td>\n",
       "      <td>ÜLKER BEBE BİSK.4x250GRx4</td>\n",
       "      <td>1.05.2016</td>\n",
       "      <td>50608,23924</td>\n",
       "      <td>48763,15426</td>\n",
       "    </tr>\n",
       "  </tbody>\n",
       "</table>\n",
       "</div>"
      ],
      "text/plain": [
       "     Kanal           grup_adi ana_kategori_adi kategori_adi   marka_adi  \\\n",
       "0  horizon  POTANSİYEL MARKET     ATIŞTIRMALIK      BİSKÜVİ  ÜLKER BEBE   \n",
       "1  horizon  POTANSİYEL MARKET     ATIŞTIRMALIK      BİSKÜVİ  ÜLKER BEBE   \n",
       "2  horizon  POTANSİYEL MARKET     ATIŞTIRMALIK      BİSKÜVİ  ÜLKER BEBE   \n",
       "3  horizon  POTANSİYEL MARKET     ATIŞTIRMALIK      BİSKÜVİ  ÜLKER BEBE   \n",
       "4  horizon  POTANSİYEL MARKET     ATIŞTIRMALIK      BİSKÜVİ  ÜLKER BEBE   \n",
       "\n",
       "                    urun_adi       date       ACTUAL      PREDICT  \n",
       "0  ÜLKER BEBE BİSK.4x250GRx4  1.01.2016  53584,23924  58264,17026  \n",
       "1  ÜLKER BEBE BİSK.4x250GRx4  1.02.2016  41032,23924   43837,0888  \n",
       "2  ÜLKER BEBE BİSK.4x250GRx4  1.03.2016  43840,23924  43490,33399  \n",
       "3  ÜLKER BEBE BİSK.4x250GRx4  1.04.2016  51156,23924  56863,12789  \n",
       "4  ÜLKER BEBE BİSK.4x250GRx4  1.05.2016  50608,23924  48763,15426  "
      ]
     },
     "execution_count": 20,
     "metadata": {},
     "output_type": "execute_result"
    }
   ],
   "source": [
    "ts.head()"
   ]
  },
  {
   "cell_type": "code",
   "execution_count": 19,
   "metadata": {},
   "outputs": [
    {
     "ename": "ValueError",
     "evalue": "could not convert string to float: '53584,23924'",
     "output_type": "error",
     "traceback": [
      "\u001b[1;31m---------------------------------------------------------------------------\u001b[0m",
      "\u001b[1;31mValueError\u001b[0m                                Traceback (most recent call last)",
      "\u001b[1;32m<ipython-input-19-07d2e4383911>\u001b[0m in \u001b[0;36m<module>\u001b[1;34m\u001b[0m\n\u001b[1;32m----> 1\u001b[1;33m \u001b[0mts\u001b[0m\u001b[1;33m[\u001b[0m\u001b[1;34m\"ACTUAL\"\u001b[0m\u001b[1;33m]\u001b[0m\u001b[1;33m.\u001b[0m\u001b[0mastype\u001b[0m\u001b[1;33m(\u001b[0m\u001b[1;34m\"float\"\u001b[0m\u001b[1;33m)\u001b[0m\u001b[1;33m\u001b[0m\u001b[1;33m\u001b[0m\u001b[0m\n\u001b[0m",
      "\u001b[1;32m~\\Anaconda3\\lib\\site-packages\\pandas\\core\\generic.py\u001b[0m in \u001b[0;36mastype\u001b[1;34m(self, dtype, copy, errors)\u001b[0m\n\u001b[0;32m   5546\u001b[0m         \u001b[1;32melse\u001b[0m\u001b[1;33m:\u001b[0m\u001b[1;33m\u001b[0m\u001b[1;33m\u001b[0m\u001b[0m\n\u001b[0;32m   5547\u001b[0m             \u001b[1;31m# else, only a single dtype is given\u001b[0m\u001b[1;33m\u001b[0m\u001b[1;33m\u001b[0m\u001b[1;33m\u001b[0m\u001b[0m\n\u001b[1;32m-> 5548\u001b[1;33m             \u001b[0mnew_data\u001b[0m \u001b[1;33m=\u001b[0m \u001b[0mself\u001b[0m\u001b[1;33m.\u001b[0m\u001b[0m_mgr\u001b[0m\u001b[1;33m.\u001b[0m\u001b[0mastype\u001b[0m\u001b[1;33m(\u001b[0m\u001b[0mdtype\u001b[0m\u001b[1;33m=\u001b[0m\u001b[0mdtype\u001b[0m\u001b[1;33m,\u001b[0m \u001b[0mcopy\u001b[0m\u001b[1;33m=\u001b[0m\u001b[0mcopy\u001b[0m\u001b[1;33m,\u001b[0m \u001b[0merrors\u001b[0m\u001b[1;33m=\u001b[0m\u001b[0merrors\u001b[0m\u001b[1;33m,\u001b[0m\u001b[1;33m)\u001b[0m\u001b[1;33m\u001b[0m\u001b[1;33m\u001b[0m\u001b[0m\n\u001b[0m\u001b[0;32m   5549\u001b[0m             \u001b[1;32mreturn\u001b[0m \u001b[0mself\u001b[0m\u001b[1;33m.\u001b[0m\u001b[0m_constructor\u001b[0m\u001b[1;33m(\u001b[0m\u001b[0mnew_data\u001b[0m\u001b[1;33m)\u001b[0m\u001b[1;33m.\u001b[0m\u001b[0m__finalize__\u001b[0m\u001b[1;33m(\u001b[0m\u001b[0mself\u001b[0m\u001b[1;33m,\u001b[0m \u001b[0mmethod\u001b[0m\u001b[1;33m=\u001b[0m\u001b[1;34m\"astype\"\u001b[0m\u001b[1;33m)\u001b[0m\u001b[1;33m\u001b[0m\u001b[1;33m\u001b[0m\u001b[0m\n\u001b[0;32m   5550\u001b[0m \u001b[1;33m\u001b[0m\u001b[0m\n",
      "\u001b[1;32m~\\Anaconda3\\lib\\site-packages\\pandas\\core\\internals\\managers.py\u001b[0m in \u001b[0;36mastype\u001b[1;34m(self, dtype, copy, errors)\u001b[0m\n\u001b[0;32m    602\u001b[0m         \u001b[0mself\u001b[0m\u001b[1;33m,\u001b[0m \u001b[0mdtype\u001b[0m\u001b[1;33m,\u001b[0m \u001b[0mcopy\u001b[0m\u001b[1;33m:\u001b[0m \u001b[0mbool\u001b[0m \u001b[1;33m=\u001b[0m \u001b[1;32mFalse\u001b[0m\u001b[1;33m,\u001b[0m \u001b[0merrors\u001b[0m\u001b[1;33m:\u001b[0m \u001b[0mstr\u001b[0m \u001b[1;33m=\u001b[0m \u001b[1;34m\"raise\"\u001b[0m\u001b[1;33m\u001b[0m\u001b[1;33m\u001b[0m\u001b[0m\n\u001b[0;32m    603\u001b[0m     ) -> \"BlockManager\":\n\u001b[1;32m--> 604\u001b[1;33m         \u001b[1;32mreturn\u001b[0m \u001b[0mself\u001b[0m\u001b[1;33m.\u001b[0m\u001b[0mapply\u001b[0m\u001b[1;33m(\u001b[0m\u001b[1;34m\"astype\"\u001b[0m\u001b[1;33m,\u001b[0m \u001b[0mdtype\u001b[0m\u001b[1;33m=\u001b[0m\u001b[0mdtype\u001b[0m\u001b[1;33m,\u001b[0m \u001b[0mcopy\u001b[0m\u001b[1;33m=\u001b[0m\u001b[0mcopy\u001b[0m\u001b[1;33m,\u001b[0m \u001b[0merrors\u001b[0m\u001b[1;33m=\u001b[0m\u001b[0merrors\u001b[0m\u001b[1;33m)\u001b[0m\u001b[1;33m\u001b[0m\u001b[1;33m\u001b[0m\u001b[0m\n\u001b[0m\u001b[0;32m    605\u001b[0m \u001b[1;33m\u001b[0m\u001b[0m\n\u001b[0;32m    606\u001b[0m     def convert(\n",
      "\u001b[1;32m~\\Anaconda3\\lib\\site-packages\\pandas\\core\\internals\\managers.py\u001b[0m in \u001b[0;36mapply\u001b[1;34m(self, f, align_keys, **kwargs)\u001b[0m\n\u001b[0;32m    407\u001b[0m                 \u001b[0mapplied\u001b[0m \u001b[1;33m=\u001b[0m \u001b[0mb\u001b[0m\u001b[1;33m.\u001b[0m\u001b[0mapply\u001b[0m\u001b[1;33m(\u001b[0m\u001b[0mf\u001b[0m\u001b[1;33m,\u001b[0m \u001b[1;33m**\u001b[0m\u001b[0mkwargs\u001b[0m\u001b[1;33m)\u001b[0m\u001b[1;33m\u001b[0m\u001b[1;33m\u001b[0m\u001b[0m\n\u001b[0;32m    408\u001b[0m             \u001b[1;32melse\u001b[0m\u001b[1;33m:\u001b[0m\u001b[1;33m\u001b[0m\u001b[1;33m\u001b[0m\u001b[0m\n\u001b[1;32m--> 409\u001b[1;33m                 \u001b[0mapplied\u001b[0m \u001b[1;33m=\u001b[0m \u001b[0mgetattr\u001b[0m\u001b[1;33m(\u001b[0m\u001b[0mb\u001b[0m\u001b[1;33m,\u001b[0m \u001b[0mf\u001b[0m\u001b[1;33m)\u001b[0m\u001b[1;33m(\u001b[0m\u001b[1;33m**\u001b[0m\u001b[0mkwargs\u001b[0m\u001b[1;33m)\u001b[0m\u001b[1;33m\u001b[0m\u001b[1;33m\u001b[0m\u001b[0m\n\u001b[0m\u001b[0;32m    410\u001b[0m             \u001b[0mresult_blocks\u001b[0m \u001b[1;33m=\u001b[0m \u001b[0m_extend_blocks\u001b[0m\u001b[1;33m(\u001b[0m\u001b[0mapplied\u001b[0m\u001b[1;33m,\u001b[0m \u001b[0mresult_blocks\u001b[0m\u001b[1;33m)\u001b[0m\u001b[1;33m\u001b[0m\u001b[1;33m\u001b[0m\u001b[0m\n\u001b[0;32m    411\u001b[0m \u001b[1;33m\u001b[0m\u001b[0m\n",
      "\u001b[1;32m~\\Anaconda3\\lib\\site-packages\\pandas\\core\\internals\\blocks.py\u001b[0m in \u001b[0;36mastype\u001b[1;34m(self, dtype, copy, errors)\u001b[0m\n\u001b[0;32m    593\u001b[0m             \u001b[0mvals1d\u001b[0m \u001b[1;33m=\u001b[0m \u001b[0mvalues\u001b[0m\u001b[1;33m.\u001b[0m\u001b[0mravel\u001b[0m\u001b[1;33m(\u001b[0m\u001b[1;33m)\u001b[0m\u001b[1;33m\u001b[0m\u001b[1;33m\u001b[0m\u001b[0m\n\u001b[0;32m    594\u001b[0m             \u001b[1;32mtry\u001b[0m\u001b[1;33m:\u001b[0m\u001b[1;33m\u001b[0m\u001b[1;33m\u001b[0m\u001b[0m\n\u001b[1;32m--> 595\u001b[1;33m                 \u001b[0mvalues\u001b[0m \u001b[1;33m=\u001b[0m \u001b[0mastype_nansafe\u001b[0m\u001b[1;33m(\u001b[0m\u001b[0mvals1d\u001b[0m\u001b[1;33m,\u001b[0m \u001b[0mdtype\u001b[0m\u001b[1;33m,\u001b[0m \u001b[0mcopy\u001b[0m\u001b[1;33m=\u001b[0m\u001b[1;32mTrue\u001b[0m\u001b[1;33m)\u001b[0m\u001b[1;33m\u001b[0m\u001b[1;33m\u001b[0m\u001b[0m\n\u001b[0m\u001b[0;32m    596\u001b[0m             \u001b[1;32mexcept\u001b[0m \u001b[1;33m(\u001b[0m\u001b[0mValueError\u001b[0m\u001b[1;33m,\u001b[0m \u001b[0mTypeError\u001b[0m\u001b[1;33m)\u001b[0m\u001b[1;33m:\u001b[0m\u001b[1;33m\u001b[0m\u001b[1;33m\u001b[0m\u001b[0m\n\u001b[0;32m    597\u001b[0m                 \u001b[1;31m# e.g. astype_nansafe can fail on object-dtype of strings\u001b[0m\u001b[1;33m\u001b[0m\u001b[1;33m\u001b[0m\u001b[1;33m\u001b[0m\u001b[0m\n",
      "\u001b[1;32m~\\Anaconda3\\lib\\site-packages\\pandas\\core\\dtypes\\cast.py\u001b[0m in \u001b[0;36mastype_nansafe\u001b[1;34m(arr, dtype, copy, skipna)\u001b[0m\n\u001b[0;32m    995\u001b[0m     \u001b[1;32mif\u001b[0m \u001b[0mcopy\u001b[0m \u001b[1;32mor\u001b[0m \u001b[0mis_object_dtype\u001b[0m\u001b[1;33m(\u001b[0m\u001b[0marr\u001b[0m\u001b[1;33m)\u001b[0m \u001b[1;32mor\u001b[0m \u001b[0mis_object_dtype\u001b[0m\u001b[1;33m(\u001b[0m\u001b[0mdtype\u001b[0m\u001b[1;33m)\u001b[0m\u001b[1;33m:\u001b[0m\u001b[1;33m\u001b[0m\u001b[1;33m\u001b[0m\u001b[0m\n\u001b[0;32m    996\u001b[0m         \u001b[1;31m# Explicit copy, or required since NumPy can't view from / to object.\u001b[0m\u001b[1;33m\u001b[0m\u001b[1;33m\u001b[0m\u001b[1;33m\u001b[0m\u001b[0m\n\u001b[1;32m--> 997\u001b[1;33m         \u001b[1;32mreturn\u001b[0m \u001b[0marr\u001b[0m\u001b[1;33m.\u001b[0m\u001b[0mastype\u001b[0m\u001b[1;33m(\u001b[0m\u001b[0mdtype\u001b[0m\u001b[1;33m,\u001b[0m \u001b[0mcopy\u001b[0m\u001b[1;33m=\u001b[0m\u001b[1;32mTrue\u001b[0m\u001b[1;33m)\u001b[0m\u001b[1;33m\u001b[0m\u001b[1;33m\u001b[0m\u001b[0m\n\u001b[0m\u001b[0;32m    998\u001b[0m \u001b[1;33m\u001b[0m\u001b[0m\n\u001b[0;32m    999\u001b[0m     \u001b[1;32mreturn\u001b[0m \u001b[0marr\u001b[0m\u001b[1;33m.\u001b[0m\u001b[0mview\u001b[0m\u001b[1;33m(\u001b[0m\u001b[0mdtype\u001b[0m\u001b[1;33m)\u001b[0m\u001b[1;33m\u001b[0m\u001b[1;33m\u001b[0m\u001b[0m\n",
      "\u001b[1;31mValueError\u001b[0m: could not convert string to float: '53584,23924'"
     ]
    }
   ],
   "source": [
    "ts[\"ACTUAL\"].astype(\"float\")"
   ]
  },
  {
   "cell_type": "code",
   "execution_count": 16,
   "metadata": {},
   "outputs": [
    {
     "name": "stdout",
     "output_type": "stream",
     "text": [
      "<class 'pandas.core.frame.DataFrame'>\n",
      "RangeIndex: 55440 entries, 0 to 55439\n",
      "Data columns (total 9 columns):\n",
      " #   Column            Non-Null Count  Dtype \n",
      "---  ------            --------------  ----- \n",
      " 0   Kanal             55440 non-null  object\n",
      " 1   grup_adi          55440 non-null  object\n",
      " 2   ana_kategori_adi  55440 non-null  object\n",
      " 3   kategori_adi      55440 non-null  object\n",
      " 4   marka_adi         55440 non-null  object\n",
      " 5   urun_adi          55440 non-null  object\n",
      " 6   date              55440 non-null  object\n",
      " 7   ACTUAL            55440 non-null  object\n",
      " 8   PREDICT           55440 non-null  object\n",
      "dtypes: object(9)\n",
      "memory usage: 3.8+ MB\n"
     ]
    }
   ],
   "source": [
    "ts.info()"
   ]
  },
  {
   "cell_type": "code",
   "execution_count": 3,
   "metadata": {},
   "outputs": [],
   "source": [
    "df_gb = pd.read_csv(r\"C:\\Users\\tunahan.aktas\\Downloads/GB_results.csv\", delimiter=\",\")\n",
    "df_gb[\"date\"] = df_gb[\"yil\"].astype(str) + \"-\" + df_gb[\"ay\"].astype(str) + \"-01\"\n",
    "df_gb.date = pd.to_datetime(df_gb.date, format=\"%Y-%m-%d\", errors=\"coerce\")\n",
    "\n",
    "df_dt = pd.read_csv(r\"C:\\Users\\tunahan.aktas\\Downloads/DecisionTree_results.csv\", delimiter=\",\")\n",
    "df_dt[\"date\"] = df_dt[\"yil\"].astype(str) + \"-\" + df_gb[\"ay\"].astype(str) + \"-01\"\n",
    "df_dt.date = pd.to_datetime(df_dt.date, format=\"%Y-%m-%d\", errors=\"coerce\")"
   ]
  },
  {
   "cell_type": "code",
   "execution_count": 4,
   "metadata": {},
   "outputs": [],
   "source": [
    "df_dt.rename(columns={\"P_new_adet\": \"decision_tree\"}, inplace=True)\n",
    "df_gb.rename(columns={\"P_new_adet\": \"gradient_boosting\"}, inplace=True)"
   ]
  },
  {
   "cell_type": "code",
   "execution_count": 5,
   "metadata": {},
   "outputs": [],
   "source": [
    "df_gb = df_gb[[\"date\", \"Kanal\", \"grup_adi\", \"ana_kategori_adi\", \"kategori_adi\", \"marka_adi\", \"urun_adi\", \"new_adet\", \"gradient_boosting\"]]\n",
    "df_dt = df_dt[[\"date\", \"Kanal\", \"grup_adi\", \"ana_kategori_adi\", \"kategori_adi\", \"marka_adi\", \"urun_adi\", \"new_adet\", \"decision_tree\"]]"
   ]
  },
  {
   "cell_type": "code",
   "execution_count": null,
   "metadata": {},
   "outputs": [],
   "source": []
  },
  {
   "cell_type": "code",
   "execution_count": null,
   "metadata": {},
   "outputs": [],
   "source": []
  },
  {
   "cell_type": "code",
   "execution_count": null,
   "metadata": {},
   "outputs": [],
   "source": []
  },
  {
   "cell_type": "code",
   "execution_count": 8,
   "metadata": {},
   "outputs": [
    {
     "data": {
      "text/html": [
       "<div>\n",
       "<style scoped>\n",
       "    .dataframe tbody tr th:only-of-type {\n",
       "        vertical-align: middle;\n",
       "    }\n",
       "\n",
       "    .dataframe tbody tr th {\n",
       "        vertical-align: top;\n",
       "    }\n",
       "\n",
       "    .dataframe thead th {\n",
       "        text-align: right;\n",
       "    }\n",
       "</style>\n",
       "<table border=\"1\" class=\"dataframe\">\n",
       "  <thead>\n",
       "    <tr style=\"text-align: right;\">\n",
       "      <th></th>\n",
       "      <th>date</th>\n",
       "      <th>Kanal</th>\n",
       "      <th>grup_adi</th>\n",
       "      <th>ana_kategori_adi</th>\n",
       "      <th>kategori_adi</th>\n",
       "      <th>marka_adi</th>\n",
       "      <th>urun_adi</th>\n",
       "      <th>new_adet</th>\n",
       "      <th>gradient_boosting</th>\n",
       "    </tr>\n",
       "  </thead>\n",
       "  <tbody>\n",
       "    <tr>\n",
       "      <th>0</th>\n",
       "      <td>2020-03-01</td>\n",
       "      <td>horizon</td>\n",
       "      <td>Diğer_Horizon</td>\n",
       "      <td>ATIŞTIRMALIK</td>\n",
       "      <td>ÇİKOLATA KAPLAMA</td>\n",
       "      <td>ÜLKER</td>\n",
       "      <td>ULK.MİNİ ÇOK.KRM PK.91Gx10</td>\n",
       "      <td>2700.580160</td>\n",
       "      <td>2577.951619</td>\n",
       "    </tr>\n",
       "    <tr>\n",
       "      <th>1</th>\n",
       "      <td>2020-04-01</td>\n",
       "      <td>horizon</td>\n",
       "      <td>Diğer_Horizon</td>\n",
       "      <td>ATIŞTIRMALIK</td>\n",
       "      <td>ÇİKOLATA KAPLAMA</td>\n",
       "      <td>ÜLKER</td>\n",
       "      <td>ULK.MİNİ ÇOK.KRM PK.91Gx10</td>\n",
       "      <td>3730.580160</td>\n",
       "      <td>2231.522714</td>\n",
       "    </tr>\n",
       "    <tr>\n",
       "      <th>2</th>\n",
       "      <td>2020-05-01</td>\n",
       "      <td>horizon</td>\n",
       "      <td>Diğer_Horizon</td>\n",
       "      <td>ATIŞTIRMALIK</td>\n",
       "      <td>ÇİKOLATA KAPLAMA</td>\n",
       "      <td>ÜLKER</td>\n",
       "      <td>ULK.MİNİ ÇOK.KRM PK.91Gx10</td>\n",
       "      <td>11990.580160</td>\n",
       "      <td>19958.008120</td>\n",
       "    </tr>\n",
       "    <tr>\n",
       "      <th>3</th>\n",
       "      <td>2020-06-01</td>\n",
       "      <td>horizon</td>\n",
       "      <td>Diğer_Horizon</td>\n",
       "      <td>ATIŞTIRMALIK</td>\n",
       "      <td>ÇİKOLATA KAPLAMA</td>\n",
       "      <td>ÜLKER</td>\n",
       "      <td>ULK.MİNİ ÇOK.KRM PK.91Gx10</td>\n",
       "      <td>5710.580160</td>\n",
       "      <td>3276.469362</td>\n",
       "    </tr>\n",
       "    <tr>\n",
       "      <th>4</th>\n",
       "      <td>2020-07-01</td>\n",
       "      <td>horizon</td>\n",
       "      <td>Diğer_Horizon</td>\n",
       "      <td>ATIŞTIRMALIK</td>\n",
       "      <td>ÇİKOLATA KAPLAMA</td>\n",
       "      <td>ÜLKER</td>\n",
       "      <td>ULK.MİNİ ÇOK.KRM PK.91Gx10</td>\n",
       "      <td>4990.580160</td>\n",
       "      <td>4268.978076</td>\n",
       "    </tr>\n",
       "    <tr>\n",
       "      <th>5</th>\n",
       "      <td>2020-08-01</td>\n",
       "      <td>horizon</td>\n",
       "      <td>Diğer_Horizon</td>\n",
       "      <td>ATIŞTIRMALIK</td>\n",
       "      <td>ÇİKOLATA KAPLAMA</td>\n",
       "      <td>ÜLKER</td>\n",
       "      <td>ULK.MİNİ ÇOK.KRM PK.91Gx10</td>\n",
       "      <td>5460.580160</td>\n",
       "      <td>3147.664427</td>\n",
       "    </tr>\n",
       "    <tr>\n",
       "      <th>6</th>\n",
       "      <td>2020-09-01</td>\n",
       "      <td>horizon</td>\n",
       "      <td>Diğer_Horizon</td>\n",
       "      <td>ATIŞTIRMALIK</td>\n",
       "      <td>ÇİKOLATA KAPLAMA</td>\n",
       "      <td>ÜLKER</td>\n",
       "      <td>ULK.MİNİ ÇOK.KRM PK.91Gx10</td>\n",
       "      <td>4250.580160</td>\n",
       "      <td>4490.503236</td>\n",
       "    </tr>\n",
       "    <tr>\n",
       "      <th>7</th>\n",
       "      <td>2020-10-01</td>\n",
       "      <td>horizon</td>\n",
       "      <td>Diğer_Horizon</td>\n",
       "      <td>ATIŞTIRMALIK</td>\n",
       "      <td>ÇİKOLATA KAPLAMA</td>\n",
       "      <td>ÜLKER</td>\n",
       "      <td>ULK.MİNİ ÇOK.KRM PK.91Gx10</td>\n",
       "      <td>6380.580160</td>\n",
       "      <td>4270.150645</td>\n",
       "    </tr>\n",
       "    <tr>\n",
       "      <th>8</th>\n",
       "      <td>2020-11-01</td>\n",
       "      <td>horizon</td>\n",
       "      <td>Diğer_Horizon</td>\n",
       "      <td>ATIŞTIRMALIK</td>\n",
       "      <td>ÇİKOLATA KAPLAMA</td>\n",
       "      <td>ÜLKER</td>\n",
       "      <td>ULK.MİNİ ÇOK.KRM PK.91Gx10</td>\n",
       "      <td>6040.580160</td>\n",
       "      <td>5946.648481</td>\n",
       "    </tr>\n",
       "    <tr>\n",
       "      <th>9</th>\n",
       "      <td>2020-12-01</td>\n",
       "      <td>horizon</td>\n",
       "      <td>Diğer_Horizon</td>\n",
       "      <td>ATIŞTIRMALIK</td>\n",
       "      <td>ÇİKOLATA KAPLAMA</td>\n",
       "      <td>ÜLKER</td>\n",
       "      <td>ULK.MİNİ ÇOK.KRM PK.91Gx10</td>\n",
       "      <td>6450.580160</td>\n",
       "      <td>4949.842480</td>\n",
       "    </tr>\n",
       "    <tr>\n",
       "      <th>10</th>\n",
       "      <td>2021-01-01</td>\n",
       "      <td>horizon</td>\n",
       "      <td>Diğer_Horizon</td>\n",
       "      <td>ATIŞTIRMALIK</td>\n",
       "      <td>ÇİKOLATA KAPLAMA</td>\n",
       "      <td>ÜLKER</td>\n",
       "      <td>ULK.MİNİ ÇOK.KRM PK.91Gx10</td>\n",
       "      <td>4560.580160</td>\n",
       "      <td>2833.989006</td>\n",
       "    </tr>\n",
       "    <tr>\n",
       "      <th>11</th>\n",
       "      <td>2021-02-01</td>\n",
       "      <td>horizon</td>\n",
       "      <td>Diğer_Horizon</td>\n",
       "      <td>ATIŞTIRMALIK</td>\n",
       "      <td>ÇİKOLATA KAPLAMA</td>\n",
       "      <td>ÜLKER</td>\n",
       "      <td>ULK.MİNİ ÇOK.KRM PK.91Gx10</td>\n",
       "      <td>3290.580160</td>\n",
       "      <td>1956.336402</td>\n",
       "    </tr>\n",
       "    <tr>\n",
       "      <th>12</th>\n",
       "      <td>2021-03-01</td>\n",
       "      <td>horizon</td>\n",
       "      <td>Diğer_Horizon</td>\n",
       "      <td>ATIŞTIRMALIK</td>\n",
       "      <td>ÇİKOLATA KAPLAMA</td>\n",
       "      <td>ÜLKER</td>\n",
       "      <td>ULK.MİNİ ÇOK.KRM PK.91Gx10</td>\n",
       "      <td>10700.580160</td>\n",
       "      <td>9711.464391</td>\n",
       "    </tr>\n",
       "    <tr>\n",
       "      <th>13</th>\n",
       "      <td>2021-04-01</td>\n",
       "      <td>horizon</td>\n",
       "      <td>Diğer_Horizon</td>\n",
       "      <td>ATIŞTIRMALIK</td>\n",
       "      <td>ÇİKOLATA KAPLAMA</td>\n",
       "      <td>ÜLKER</td>\n",
       "      <td>ULK.MİNİ ÇOK.KRM PK.91Gx10</td>\n",
       "      <td>11441.877762</td>\n",
       "      <td>9455.587252</td>\n",
       "    </tr>\n",
       "    <tr>\n",
       "      <th>14</th>\n",
       "      <td>2021-05-01</td>\n",
       "      <td>horizon</td>\n",
       "      <td>Diğer_Horizon</td>\n",
       "      <td>ATIŞTIRMALIK</td>\n",
       "      <td>ÇİKOLATA KAPLAMA</td>\n",
       "      <td>ÜLKER</td>\n",
       "      <td>ULK.MİNİ ÇOK.KRM PK.91Gx10</td>\n",
       "      <td>6200.580160</td>\n",
       "      <td>6642.396091</td>\n",
       "    </tr>\n",
       "  </tbody>\n",
       "</table>\n",
       "</div>"
      ],
      "text/plain": [
       "         date    Kanal       grup_adi ana_kategori_adi      kategori_adi  \\\n",
       "0  2020-03-01  horizon  Diğer_Horizon     ATIŞTIRMALIK  ÇİKOLATA KAPLAMA   \n",
       "1  2020-04-01  horizon  Diğer_Horizon     ATIŞTIRMALIK  ÇİKOLATA KAPLAMA   \n",
       "2  2020-05-01  horizon  Diğer_Horizon     ATIŞTIRMALIK  ÇİKOLATA KAPLAMA   \n",
       "3  2020-06-01  horizon  Diğer_Horizon     ATIŞTIRMALIK  ÇİKOLATA KAPLAMA   \n",
       "4  2020-07-01  horizon  Diğer_Horizon     ATIŞTIRMALIK  ÇİKOLATA KAPLAMA   \n",
       "5  2020-08-01  horizon  Diğer_Horizon     ATIŞTIRMALIK  ÇİKOLATA KAPLAMA   \n",
       "6  2020-09-01  horizon  Diğer_Horizon     ATIŞTIRMALIK  ÇİKOLATA KAPLAMA   \n",
       "7  2020-10-01  horizon  Diğer_Horizon     ATIŞTIRMALIK  ÇİKOLATA KAPLAMA   \n",
       "8  2020-11-01  horizon  Diğer_Horizon     ATIŞTIRMALIK  ÇİKOLATA KAPLAMA   \n",
       "9  2020-12-01  horizon  Diğer_Horizon     ATIŞTIRMALIK  ÇİKOLATA KAPLAMA   \n",
       "10 2021-01-01  horizon  Diğer_Horizon     ATIŞTIRMALIK  ÇİKOLATA KAPLAMA   \n",
       "11 2021-02-01  horizon  Diğer_Horizon     ATIŞTIRMALIK  ÇİKOLATA KAPLAMA   \n",
       "12 2021-03-01  horizon  Diğer_Horizon     ATIŞTIRMALIK  ÇİKOLATA KAPLAMA   \n",
       "13 2021-04-01  horizon  Diğer_Horizon     ATIŞTIRMALIK  ÇİKOLATA KAPLAMA   \n",
       "14 2021-05-01  horizon  Diğer_Horizon     ATIŞTIRMALIK  ÇİKOLATA KAPLAMA   \n",
       "\n",
       "   marka_adi                    urun_adi      new_adet  gradient_boosting  \n",
       "0      ÜLKER  ULK.MİNİ ÇOK.KRM PK.91Gx10   2700.580160        2577.951619  \n",
       "1      ÜLKER  ULK.MİNİ ÇOK.KRM PK.91Gx10   3730.580160        2231.522714  \n",
       "2      ÜLKER  ULK.MİNİ ÇOK.KRM PK.91Gx10  11990.580160       19958.008120  \n",
       "3      ÜLKER  ULK.MİNİ ÇOK.KRM PK.91Gx10   5710.580160        3276.469362  \n",
       "4      ÜLKER  ULK.MİNİ ÇOK.KRM PK.91Gx10   4990.580160        4268.978076  \n",
       "5      ÜLKER  ULK.MİNİ ÇOK.KRM PK.91Gx10   5460.580160        3147.664427  \n",
       "6      ÜLKER  ULK.MİNİ ÇOK.KRM PK.91Gx10   4250.580160        4490.503236  \n",
       "7      ÜLKER  ULK.MİNİ ÇOK.KRM PK.91Gx10   6380.580160        4270.150645  \n",
       "8      ÜLKER  ULK.MİNİ ÇOK.KRM PK.91Gx10   6040.580160        5946.648481  \n",
       "9      ÜLKER  ULK.MİNİ ÇOK.KRM PK.91Gx10   6450.580160        4949.842480  \n",
       "10     ÜLKER  ULK.MİNİ ÇOK.KRM PK.91Gx10   4560.580160        2833.989006  \n",
       "11     ÜLKER  ULK.MİNİ ÇOK.KRM PK.91Gx10   3290.580160        1956.336402  \n",
       "12     ÜLKER  ULK.MİNİ ÇOK.KRM PK.91Gx10  10700.580160        9711.464391  \n",
       "13     ÜLKER  ULK.MİNİ ÇOK.KRM PK.91Gx10  11441.877762        9455.587252  \n",
       "14     ÜLKER  ULK.MİNİ ÇOK.KRM PK.91Gx10   6200.580160        6642.396091  "
      ]
     },
     "execution_count": 8,
     "metadata": {},
     "output_type": "execute_result"
    }
   ],
   "source": [
    "df_gb[(df_gb[\"urun_adi\"] == \"ULK.MİNİ ÇOK.KRM PK.91Gx10\") & (df_gb[\"grup_adi\"] == \"Diğer_Horizon\")]"
   ]
  },
  {
   "cell_type": "code",
   "execution_count": null,
   "metadata": {},
   "outputs": [],
   "source": []
  },
  {
   "cell_type": "code",
   "execution_count": null,
   "metadata": {},
   "outputs": [],
   "source": []
  },
  {
   "cell_type": "code",
   "execution_count": 7,
   "metadata": {},
   "outputs": [],
   "source": [
    "df_g = df.groupby(['Kanal','date']).agg({'ACTUAL':'sum', 'PREDICT':'sum'})"
   ]
  },
  {
   "cell_type": "code",
   "execution_count": 10,
   "metadata": {},
   "outputs": [],
   "source": [
    "df_g.reset_index(inplace=True)"
   ]
  },
  {
   "cell_type": "code",
   "execution_count": 14,
   "metadata": {},
   "outputs": [
    {
     "data": {
      "text/html": [
       "<div>\n",
       "<style scoped>\n",
       "    .dataframe tbody tr th:only-of-type {\n",
       "        vertical-align: middle;\n",
       "    }\n",
       "\n",
       "    .dataframe tbody tr th {\n",
       "        vertical-align: top;\n",
       "    }\n",
       "\n",
       "    .dataframe thead th {\n",
       "        text-align: right;\n",
       "    }\n",
       "</style>\n",
       "<table border=\"1\" class=\"dataframe\">\n",
       "  <thead>\n",
       "    <tr style=\"text-align: right;\">\n",
       "      <th></th>\n",
       "      <th>Kanal</th>\n",
       "      <th>date</th>\n",
       "      <th>ACTUAL</th>\n",
       "      <th>PREDICT</th>\n",
       "    </tr>\n",
       "  </thead>\n",
       "  <tbody>\n",
       "    <tr>\n",
       "      <th>0</th>\n",
       "      <td>btt</td>\n",
       "      <td>APR2016</td>\n",
       "      <td>106308.27086283882.37949103475.2515318285.1037...</td>\n",
       "      <td>133404.94027 280582.138385933.93276519575.9652...</td>\n",
       "    </tr>\n",
       "    <tr>\n",
       "      <th>1</th>\n",
       "      <td>btt</td>\n",
       "      <td>APR2017</td>\n",
       "      <td>114948.27086213322.3794939251.25153512477.1037...</td>\n",
       "      <td>95060.450133299263.5703758455.44105820048.2851...</td>\n",
       "    </tr>\n",
       "    <tr>\n",
       "      <th>2</th>\n",
       "      <td>btt</td>\n",
       "      <td>APR2018</td>\n",
       "      <td>342586.3794965603.25153511625.10370320045.8075...</td>\n",
       "      <td>371200.48009 105496.262216008.639856 24992.697...</td>\n",
       "    </tr>\n",
       "    <tr>\n",
       "      <th>3</th>\n",
       "      <td>btt</td>\n",
       "      <td>APR2019</td>\n",
       "      <td>448042.3794997715.25153514749.10370325517.8075...</td>\n",
       "      <td>607592.24511142355.7700713538.06480930067.8577...</td>\n",
       "    </tr>\n",
       "    <tr>\n",
       "      <th>4</th>\n",
       "      <td>btt</td>\n",
       "      <td>APR2020</td>\n",
       "      <td>513608.2188127523.2515328969.10370328757.8075...</td>\n",
       "      <td>636872.7263125728.5894621917.70606730419.1337...</td>\n",
       "    </tr>\n",
       "  </tbody>\n",
       "</table>\n",
       "</div>"
      ],
      "text/plain": [
       "  Kanal     date                                             ACTUAL  \\\n",
       "0   btt  APR2016  106308.27086283882.37949103475.2515318285.1037...   \n",
       "1   btt  APR2017  114948.27086213322.3794939251.25153512477.1037...   \n",
       "2   btt  APR2018  342586.3794965603.25153511625.10370320045.8075...   \n",
       "3   btt  APR2019  448042.3794997715.25153514749.10370325517.8075...   \n",
       "4   btt  APR2020   513608.2188127523.2515328969.10370328757.8075...   \n",
       "\n",
       "                                             PREDICT  \n",
       "0  133404.94027 280582.138385933.93276519575.9652...  \n",
       "1  95060.450133299263.5703758455.44105820048.2851...  \n",
       "2  371200.48009 105496.262216008.639856 24992.697...  \n",
       "3  607592.24511142355.7700713538.06480930067.8577...  \n",
       "4   636872.7263125728.5894621917.70606730419.1337...  "
      ]
     },
     "execution_count": 14,
     "metadata": {},
     "output_type": "execute_result"
    }
   ],
   "source": [
    "df_g.head()"
   ]
  },
  {
   "cell_type": "code",
   "execution_count": 13,
   "metadata": {},
   "outputs": [
    {
     "data": {
      "text/plain": [
       "array(['APR2016', 'APR2017', 'APR2018', 'APR2019', 'APR2020', 'APR2021',\n",
       "       'APR2022', 'AUG2016', 'AUG2017', 'AUG2018', 'AUG2019', 'AUG2020',\n",
       "       'AUG2021', 'DEC2016', 'DEC2017', 'DEC2018', 'DEC2019', 'DEC2020',\n",
       "       'DEC2021', 'FEB2016', 'FEB2017', 'FEB2018', 'FEB2019', 'FEB2020',\n",
       "       'FEB2021', 'FEB2022', 'JAN2016', 'JAN2017', 'JAN2018', 'JAN2019',\n",
       "       'JAN2020', 'JAN2021', 'JAN2022', 'JUL2016', 'JUL2017', 'JUL2018',\n",
       "       'JUL2019', 'JUL2020', 'JUL2021', 'JUN2016', 'JUN2017', 'JUN2018',\n",
       "       'JUN2019', 'JUN2020', 'JUN2021', 'MAR2016', 'MAR2017', 'MAR2018',\n",
       "       'MAR2019', 'MAR2020', 'MAR2021', 'MAR2022', 'MAY2016', 'MAY2017',\n",
       "       'MAY2018', 'MAY2019', 'MAY2020', 'MAY2021', 'MAY2022', 'NOV2016',\n",
       "       'NOV2017', 'NOV2018', 'NOV2019', 'NOV2020', 'NOV2021', 'OCT2016',\n",
       "       'OCT2017', 'OCT2018', 'OCT2019', 'OCT2020', 'OCT2021', 'SEP2016',\n",
       "       'SEP2017', 'SEP2018', 'SEP2019', 'SEP2020', 'SEP2021'],\n",
       "      dtype=object)"
      ]
     },
     "execution_count": 13,
     "metadata": {},
     "output_type": "execute_result"
    }
   ],
   "source": [
    "df_g.date.unique()"
   ]
  },
  {
   "cell_type": "code",
   "execution_count": 16,
   "metadata": {},
   "outputs": [
    {
     "data": {
      "text/html": [
       "<div>\n",
       "<style scoped>\n",
       "    .dataframe tbody tr th:only-of-type {\n",
       "        vertical-align: middle;\n",
       "    }\n",
       "\n",
       "    .dataframe tbody tr th {\n",
       "        vertical-align: top;\n",
       "    }\n",
       "\n",
       "    .dataframe thead th {\n",
       "        text-align: right;\n",
       "    }\n",
       "</style>\n",
       "<table border=\"1\" class=\"dataframe\">\n",
       "  <thead>\n",
       "    <tr style=\"text-align: right;\">\n",
       "      <th></th>\n",
       "      <th>Kanal</th>\n",
       "      <th>date</th>\n",
       "      <th>ACTUAL</th>\n",
       "      <th>PREDICT</th>\n",
       "    </tr>\n",
       "  </thead>\n",
       "  <tbody>\n",
       "    <tr>\n",
       "      <th>5</th>\n",
       "      <td>btt</td>\n",
       "      <td>APR2021</td>\n",
       "      <td>520844.75897119747.2515322373.10370334373.8075...</td>\n",
       "      <td>561769.97317149166.8755628743.01113135649.0892...</td>\n",
       "    </tr>\n",
       "    <tr>\n",
       "      <th>24</th>\n",
       "      <td>btt</td>\n",
       "      <td>FEB2021</td>\n",
       "      <td>431650.37949177463.4846538056.13482440226.9822...</td>\n",
       "      <td>392699.10952178391.0749136702.51263634116.4484...</td>\n",
       "    </tr>\n",
       "    <tr>\n",
       "      <th>31</th>\n",
       "      <td>btt</td>\n",
       "      <td>JAN2021</td>\n",
       "      <td>463849.87488177463.4846538056.13482440226.9822...</td>\n",
       "      <td>276952.11518178197.3199424203.97618333446.2528...</td>\n",
       "    </tr>\n",
       "    <tr>\n",
       "      <th>50</th>\n",
       "      <td>btt</td>\n",
       "      <td>MAR2021</td>\n",
       "      <td>463849.87488177463.4846538056.13482440226.9822...</td>\n",
       "      <td>437695.57037178473.1636732033.55794932238.4742...</td>\n",
       "    </tr>\n",
       "    <tr>\n",
       "      <th>57</th>\n",
       "      <td>btt</td>\n",
       "      <td>MAY2021</td>\n",
       "      <td>390387.56923114419.2515327281.10370331853.8075...</td>\n",
       "      <td>515112.25038 133431.355424235.38669326891.2022...</td>\n",
       "    </tr>\n",
       "    <tr>\n",
       "      <th>82</th>\n",
       "      <td>horizon</td>\n",
       "      <td>APR2021</td>\n",
       "      <td>56845.08419573527.01795657357.788645601851.592...</td>\n",
       "      <td>59960.837528104362.2205357797.377084 610280.18...</td>\n",
       "    </tr>\n",
       "    <tr>\n",
       "      <th>101</th>\n",
       "      <td>horizon</td>\n",
       "      <td>FEB2021</td>\n",
       "      <td>39924.239237122530.5549481437.788645464274.394...</td>\n",
       "      <td>47595.146942122517.3953785637.391197610908.619...</td>\n",
       "    </tr>\n",
       "    <tr>\n",
       "      <th>108</th>\n",
       "      <td>horizon</td>\n",
       "      <td>JAN2021</td>\n",
       "      <td>56845.084195122530.5549489256.845419333906.394...</td>\n",
       "      <td>57506.577801117022.3146783670.817631449588.808...</td>\n",
       "    </tr>\n",
       "    <tr>\n",
       "      <th>127</th>\n",
       "      <td>horizon</td>\n",
       "      <td>MAR2021</td>\n",
       "      <td>48672.239237122530.5549458237.788645838812.789...</td>\n",
       "      <td>44557.926316122518.6290869103.918665879777.305...</td>\n",
       "    </tr>\n",
       "    <tr>\n",
       "      <th>134</th>\n",
       "      <td>horizon</td>\n",
       "      <td>MAY2021</td>\n",
       "      <td>50656.23923799087.01795672677.788645364890.394...</td>\n",
       "      <td>49060.99770773538.32696473404.890751509709.297...</td>\n",
       "    </tr>\n",
       "    <tr>\n",
       "      <th>159</th>\n",
       "      <td>pasifik</td>\n",
       "      <td>APR2021</td>\n",
       "      <td>79794.643515160099.6299232272.339167152803.827...</td>\n",
       "      <td>111908.78965126350.2310572470.752054167503.685...</td>\n",
       "    </tr>\n",
       "    <tr>\n",
       "      <th>178</th>\n",
       "      <td>pasifik</td>\n",
       "      <td>FEB2021</td>\n",
       "      <td>118578.64352137697.31066125490.60519184189.994...</td>\n",
       "      <td>132750.81193118656.23197100679.84281186519.775...</td>\n",
       "    </tr>\n",
       "    <tr>\n",
       "      <th>185</th>\n",
       "      <td>pasifik</td>\n",
       "      <td>JAN2021</td>\n",
       "      <td>129659.29979154496.98749125490.60519184189.994...</td>\n",
       "      <td>115461.7408107256.9460653587.732932 89586.857...</td>\n",
       "    </tr>\n",
       "    <tr>\n",
       "      <th>204</th>\n",
       "      <td>pasifik</td>\n",
       "      <td>MAR2021</td>\n",
       "      <td>129659.29979154496.98749125490.60519184189.994...</td>\n",
       "      <td>102884.77957124210.34187121021.67648186301.358...</td>\n",
       "    </tr>\n",
       "    <tr>\n",
       "      <th>211</th>\n",
       "      <td>pasifik</td>\n",
       "      <td>MAY2021</td>\n",
       "      <td>83683.64347595928.47228872909.342327142243.950...</td>\n",
       "      <td>99138.035343131493.4524162125.661147 150801.67...</td>\n",
       "    </tr>\n",
       "  </tbody>\n",
       "</table>\n",
       "</div>"
      ],
      "text/plain": [
       "       Kanal     date                                             ACTUAL  \\\n",
       "5        btt  APR2021  520844.75897119747.2515322373.10370334373.8075...   \n",
       "24       btt  FEB2021  431650.37949177463.4846538056.13482440226.9822...   \n",
       "31       btt  JAN2021  463849.87488177463.4846538056.13482440226.9822...   \n",
       "50       btt  MAR2021  463849.87488177463.4846538056.13482440226.9822...   \n",
       "57       btt  MAY2021  390387.56923114419.2515327281.10370331853.8075...   \n",
       "82   horizon  APR2021  56845.08419573527.01795657357.788645601851.592...   \n",
       "101  horizon  FEB2021  39924.239237122530.5549481437.788645464274.394...   \n",
       "108  horizon  JAN2021  56845.084195122530.5549489256.845419333906.394...   \n",
       "127  horizon  MAR2021  48672.239237122530.5549458237.788645838812.789...   \n",
       "134  horizon  MAY2021  50656.23923799087.01795672677.788645364890.394...   \n",
       "159  pasifik  APR2021  79794.643515160099.6299232272.339167152803.827...   \n",
       "178  pasifik  FEB2021  118578.64352137697.31066125490.60519184189.994...   \n",
       "185  pasifik  JAN2021  129659.29979154496.98749125490.60519184189.994...   \n",
       "204  pasifik  MAR2021  129659.29979154496.98749125490.60519184189.994...   \n",
       "211  pasifik  MAY2021  83683.64347595928.47228872909.342327142243.950...   \n",
       "\n",
       "                                               PREDICT  \n",
       "5    561769.97317149166.8755628743.01113135649.0892...  \n",
       "24   392699.10952178391.0749136702.51263634116.4484...  \n",
       "31   276952.11518178197.3199424203.97618333446.2528...  \n",
       "50   437695.57037178473.1636732033.55794932238.4742...  \n",
       "57   515112.25038 133431.355424235.38669326891.2022...  \n",
       "82   59960.837528104362.2205357797.377084 610280.18...  \n",
       "101  47595.146942122517.3953785637.391197610908.619...  \n",
       "108  57506.577801117022.3146783670.817631449588.808...  \n",
       "127  44557.926316122518.6290869103.918665879777.305...  \n",
       "134  49060.99770773538.32696473404.890751509709.297...  \n",
       "159  111908.78965126350.2310572470.752054167503.685...  \n",
       "178  132750.81193118656.23197100679.84281186519.775...  \n",
       "185   115461.7408107256.9460653587.732932 89586.857...  \n",
       "204  102884.77957124210.34187121021.67648186301.358...  \n",
       "211  99138.035343131493.4524162125.661147 150801.67...  "
      ]
     },
     "execution_count": 16,
     "metadata": {},
     "output_type": "execute_result"
    }
   ],
   "source": [
    "df_g[df_g.date.isin(['JAN2021','FEB2021','MAR2021','APR2021','MAY2021'])]"
   ]
  },
  {
   "cell_type": "code",
   "execution_count": 21,
   "metadata": {},
   "outputs": [
    {
     "data": {
      "text/plain": [
       "'106308.27086283882.37949103475.2515318285.10370322241.807594732724.08396351805.60756297991.1157135260.4715241320687.4108           .211821.09523506228.9924967872.544361177568.07769786598.61769322742.2393316267.318923389266.0664216540.8603442392957.4739545457.74716           .798178.18824300000.98076 20329.22372521635.6926434479.816051257029.92845374526.52579150887.1715347436.498182140656.88173137956.0655277159.47061611710.113894554559.75778111955.92008131410.0937144258.2303031679602.047344271.503052602914.52168           .           .488431.4117924345.730723548166.61131107311.32049318348.61912'"
      ]
     },
     "execution_count": 21,
     "metadata": {},
     "output_type": "execute_result"
    }
   ],
   "source": [
    "df_g.ACTUAL[0]"
   ]
  },
  {
   "cell_type": "code",
   "execution_count": 20,
   "metadata": {},
   "outputs": [
    {
     "ename": "ValueError",
     "evalue": "could not convert string to float: '106308.27086283882.37949103475.2515318285.10370322241.807594732724.08396351805.60756297991.1157135260.4715241320687.4108           .211821.09523506228.9924967872.544361177568.07769786598.61769322742.2393316267.318923389266.0664216540.8603442392957.4739545457.74716           .798178.18824300000.98076 20329.22372521635.6926434479.816051257029.92845374526.52579150887.1715347436.498182140656.88173137956.0655277159.47061611710.113894554559.75778111955.92008131410.0937144258.2303031679602.047344271.503052602914.52168           .           .488431.4117924345.730723548166.61131107311.32049318348.61912'",
     "output_type": "error",
     "traceback": [
      "\u001b[1;31m---------------------------------------------------------------------------\u001b[0m",
      "\u001b[1;31mValueError\u001b[0m                                Traceback (most recent call last)",
      "\u001b[1;32m<ipython-input-20-75cfe30854e8>\u001b[0m in \u001b[0;36m<module>\u001b[1;34m\u001b[0m\n\u001b[1;32m----> 1\u001b[1;33m \u001b[0mdf_g\u001b[0m\u001b[1;33m.\u001b[0m\u001b[0mACTUAL\u001b[0m\u001b[1;33m.\u001b[0m\u001b[0mastype\u001b[0m\u001b[1;33m(\u001b[0m\u001b[1;34m'float'\u001b[0m\u001b[1;33m)\u001b[0m\u001b[1;33m\u001b[0m\u001b[1;33m\u001b[0m\u001b[0m\n\u001b[0m\u001b[0;32m      2\u001b[0m \u001b[0mdf_g\u001b[0m\u001b[1;33m.\u001b[0m\u001b[0mPREDICT\u001b[0m\u001b[1;33m.\u001b[0m\u001b[0mastype\u001b[0m\u001b[1;33m(\u001b[0m\u001b[1;34m'float'\u001b[0m\u001b[1;33m)\u001b[0m\u001b[1;33m\u001b[0m\u001b[1;33m\u001b[0m\u001b[0m\n",
      "\u001b[1;32m~\\Anaconda3\\lib\\site-packages\\pandas\\core\\generic.py\u001b[0m in \u001b[0;36mastype\u001b[1;34m(self, dtype, copy, errors)\u001b[0m\n\u001b[0;32m   5875\u001b[0m         \u001b[1;32melse\u001b[0m\u001b[1;33m:\u001b[0m\u001b[1;33m\u001b[0m\u001b[1;33m\u001b[0m\u001b[0m\n\u001b[0;32m   5876\u001b[0m             \u001b[1;31m# else, only a single dtype is given\u001b[0m\u001b[1;33m\u001b[0m\u001b[1;33m\u001b[0m\u001b[1;33m\u001b[0m\u001b[0m\n\u001b[1;32m-> 5877\u001b[1;33m             \u001b[0mnew_data\u001b[0m \u001b[1;33m=\u001b[0m \u001b[0mself\u001b[0m\u001b[1;33m.\u001b[0m\u001b[0m_mgr\u001b[0m\u001b[1;33m.\u001b[0m\u001b[0mastype\u001b[0m\u001b[1;33m(\u001b[0m\u001b[0mdtype\u001b[0m\u001b[1;33m=\u001b[0m\u001b[0mdtype\u001b[0m\u001b[1;33m,\u001b[0m \u001b[0mcopy\u001b[0m\u001b[1;33m=\u001b[0m\u001b[0mcopy\u001b[0m\u001b[1;33m,\u001b[0m \u001b[0merrors\u001b[0m\u001b[1;33m=\u001b[0m\u001b[0merrors\u001b[0m\u001b[1;33m)\u001b[0m\u001b[1;33m\u001b[0m\u001b[1;33m\u001b[0m\u001b[0m\n\u001b[0m\u001b[0;32m   5878\u001b[0m             \u001b[1;32mreturn\u001b[0m \u001b[0mself\u001b[0m\u001b[1;33m.\u001b[0m\u001b[0m_constructor\u001b[0m\u001b[1;33m(\u001b[0m\u001b[0mnew_data\u001b[0m\u001b[1;33m)\u001b[0m\u001b[1;33m.\u001b[0m\u001b[0m__finalize__\u001b[0m\u001b[1;33m(\u001b[0m\u001b[0mself\u001b[0m\u001b[1;33m,\u001b[0m \u001b[0mmethod\u001b[0m\u001b[1;33m=\u001b[0m\u001b[1;34m\"astype\"\u001b[0m\u001b[1;33m)\u001b[0m\u001b[1;33m\u001b[0m\u001b[1;33m\u001b[0m\u001b[0m\n\u001b[0;32m   5879\u001b[0m \u001b[1;33m\u001b[0m\u001b[0m\n",
      "\u001b[1;32m~\\Anaconda3\\lib\\site-packages\\pandas\\core\\internals\\managers.py\u001b[0m in \u001b[0;36mastype\u001b[1;34m(self, dtype, copy, errors)\u001b[0m\n\u001b[0;32m    629\u001b[0m         \u001b[0mself\u001b[0m\u001b[1;33m,\u001b[0m \u001b[0mdtype\u001b[0m\u001b[1;33m,\u001b[0m \u001b[0mcopy\u001b[0m\u001b[1;33m:\u001b[0m \u001b[0mbool\u001b[0m \u001b[1;33m=\u001b[0m \u001b[1;32mFalse\u001b[0m\u001b[1;33m,\u001b[0m \u001b[0merrors\u001b[0m\u001b[1;33m:\u001b[0m \u001b[0mstr\u001b[0m \u001b[1;33m=\u001b[0m \u001b[1;34m\"raise\"\u001b[0m\u001b[1;33m\u001b[0m\u001b[1;33m\u001b[0m\u001b[0m\n\u001b[0;32m    630\u001b[0m     ) -> \"BlockManager\":\n\u001b[1;32m--> 631\u001b[1;33m         \u001b[1;32mreturn\u001b[0m \u001b[0mself\u001b[0m\u001b[1;33m.\u001b[0m\u001b[0mapply\u001b[0m\u001b[1;33m(\u001b[0m\u001b[1;34m\"astype\"\u001b[0m\u001b[1;33m,\u001b[0m \u001b[0mdtype\u001b[0m\u001b[1;33m=\u001b[0m\u001b[0mdtype\u001b[0m\u001b[1;33m,\u001b[0m \u001b[0mcopy\u001b[0m\u001b[1;33m=\u001b[0m\u001b[0mcopy\u001b[0m\u001b[1;33m,\u001b[0m \u001b[0merrors\u001b[0m\u001b[1;33m=\u001b[0m\u001b[0merrors\u001b[0m\u001b[1;33m)\u001b[0m\u001b[1;33m\u001b[0m\u001b[1;33m\u001b[0m\u001b[0m\n\u001b[0m\u001b[0;32m    632\u001b[0m \u001b[1;33m\u001b[0m\u001b[0m\n\u001b[0;32m    633\u001b[0m     def convert(\n",
      "\u001b[1;32m~\\Anaconda3\\lib\\site-packages\\pandas\\core\\internals\\managers.py\u001b[0m in \u001b[0;36mapply\u001b[1;34m(self, f, align_keys, ignore_failures, **kwargs)\u001b[0m\n\u001b[0;32m    425\u001b[0m                     \u001b[0mapplied\u001b[0m \u001b[1;33m=\u001b[0m \u001b[0mb\u001b[0m\u001b[1;33m.\u001b[0m\u001b[0mapply\u001b[0m\u001b[1;33m(\u001b[0m\u001b[0mf\u001b[0m\u001b[1;33m,\u001b[0m \u001b[1;33m**\u001b[0m\u001b[0mkwargs\u001b[0m\u001b[1;33m)\u001b[0m\u001b[1;33m\u001b[0m\u001b[1;33m\u001b[0m\u001b[0m\n\u001b[0;32m    426\u001b[0m                 \u001b[1;32melse\u001b[0m\u001b[1;33m:\u001b[0m\u001b[1;33m\u001b[0m\u001b[1;33m\u001b[0m\u001b[0m\n\u001b[1;32m--> 427\u001b[1;33m                     \u001b[0mapplied\u001b[0m \u001b[1;33m=\u001b[0m \u001b[0mgetattr\u001b[0m\u001b[1;33m(\u001b[0m\u001b[0mb\u001b[0m\u001b[1;33m,\u001b[0m \u001b[0mf\u001b[0m\u001b[1;33m)\u001b[0m\u001b[1;33m(\u001b[0m\u001b[1;33m**\u001b[0m\u001b[0mkwargs\u001b[0m\u001b[1;33m)\u001b[0m\u001b[1;33m\u001b[0m\u001b[1;33m\u001b[0m\u001b[0m\n\u001b[0m\u001b[0;32m    428\u001b[0m             \u001b[1;32mexcept\u001b[0m \u001b[1;33m(\u001b[0m\u001b[0mTypeError\u001b[0m\u001b[1;33m,\u001b[0m \u001b[0mNotImplementedError\u001b[0m\u001b[1;33m)\u001b[0m\u001b[1;33m:\u001b[0m\u001b[1;33m\u001b[0m\u001b[1;33m\u001b[0m\u001b[0m\n\u001b[0;32m    429\u001b[0m                 \u001b[1;32mif\u001b[0m \u001b[1;32mnot\u001b[0m \u001b[0mignore_failures\u001b[0m\u001b[1;33m:\u001b[0m\u001b[1;33m\u001b[0m\u001b[1;33m\u001b[0m\u001b[0m\n",
      "\u001b[1;32m~\\Anaconda3\\lib\\site-packages\\pandas\\core\\internals\\blocks.py\u001b[0m in \u001b[0;36mastype\u001b[1;34m(self, dtype, copy, errors)\u001b[0m\n\u001b[0;32m    671\u001b[0m             \u001b[0mvals1d\u001b[0m \u001b[1;33m=\u001b[0m \u001b[0mvalues\u001b[0m\u001b[1;33m.\u001b[0m\u001b[0mravel\u001b[0m\u001b[1;33m(\u001b[0m\u001b[1;33m)\u001b[0m\u001b[1;33m\u001b[0m\u001b[1;33m\u001b[0m\u001b[0m\n\u001b[0;32m    672\u001b[0m             \u001b[1;32mtry\u001b[0m\u001b[1;33m:\u001b[0m\u001b[1;33m\u001b[0m\u001b[1;33m\u001b[0m\u001b[0m\n\u001b[1;32m--> 673\u001b[1;33m                 \u001b[0mvalues\u001b[0m \u001b[1;33m=\u001b[0m \u001b[0mastype_nansafe\u001b[0m\u001b[1;33m(\u001b[0m\u001b[0mvals1d\u001b[0m\u001b[1;33m,\u001b[0m \u001b[0mdtype\u001b[0m\u001b[1;33m,\u001b[0m \u001b[0mcopy\u001b[0m\u001b[1;33m=\u001b[0m\u001b[1;32mTrue\u001b[0m\u001b[1;33m)\u001b[0m\u001b[1;33m\u001b[0m\u001b[1;33m\u001b[0m\u001b[0m\n\u001b[0m\u001b[0;32m    674\u001b[0m             \u001b[1;32mexcept\u001b[0m \u001b[1;33m(\u001b[0m\u001b[0mValueError\u001b[0m\u001b[1;33m,\u001b[0m \u001b[0mTypeError\u001b[0m\u001b[1;33m)\u001b[0m\u001b[1;33m:\u001b[0m\u001b[1;33m\u001b[0m\u001b[1;33m\u001b[0m\u001b[0m\n\u001b[0;32m    675\u001b[0m                 \u001b[1;31m# e.g. astype_nansafe can fail on object-dtype of strings\u001b[0m\u001b[1;33m\u001b[0m\u001b[1;33m\u001b[0m\u001b[1;33m\u001b[0m\u001b[0m\n",
      "\u001b[1;32m~\\Anaconda3\\lib\\site-packages\\pandas\\core\\dtypes\\cast.py\u001b[0m in \u001b[0;36mastype_nansafe\u001b[1;34m(arr, dtype, copy, skipna)\u001b[0m\n\u001b[0;32m   1095\u001b[0m     \u001b[1;32mif\u001b[0m \u001b[0mcopy\u001b[0m \u001b[1;32mor\u001b[0m \u001b[0mis_object_dtype\u001b[0m\u001b[1;33m(\u001b[0m\u001b[0marr\u001b[0m\u001b[1;33m)\u001b[0m \u001b[1;32mor\u001b[0m \u001b[0mis_object_dtype\u001b[0m\u001b[1;33m(\u001b[0m\u001b[0mdtype\u001b[0m\u001b[1;33m)\u001b[0m\u001b[1;33m:\u001b[0m\u001b[1;33m\u001b[0m\u001b[1;33m\u001b[0m\u001b[0m\n\u001b[0;32m   1096\u001b[0m         \u001b[1;31m# Explicit copy, or required since NumPy can't view from / to object.\u001b[0m\u001b[1;33m\u001b[0m\u001b[1;33m\u001b[0m\u001b[1;33m\u001b[0m\u001b[0m\n\u001b[1;32m-> 1097\u001b[1;33m         \u001b[1;32mreturn\u001b[0m \u001b[0marr\u001b[0m\u001b[1;33m.\u001b[0m\u001b[0mastype\u001b[0m\u001b[1;33m(\u001b[0m\u001b[0mdtype\u001b[0m\u001b[1;33m,\u001b[0m \u001b[0mcopy\u001b[0m\u001b[1;33m=\u001b[0m\u001b[1;32mTrue\u001b[0m\u001b[1;33m)\u001b[0m\u001b[1;33m\u001b[0m\u001b[1;33m\u001b[0m\u001b[0m\n\u001b[0m\u001b[0;32m   1098\u001b[0m \u001b[1;33m\u001b[0m\u001b[0m\n\u001b[0;32m   1099\u001b[0m     \u001b[1;32mreturn\u001b[0m \u001b[0marr\u001b[0m\u001b[1;33m.\u001b[0m\u001b[0mview\u001b[0m\u001b[1;33m(\u001b[0m\u001b[0mdtype\u001b[0m\u001b[1;33m)\u001b[0m\u001b[1;33m\u001b[0m\u001b[1;33m\u001b[0m\u001b[0m\n",
      "\u001b[1;31mValueError\u001b[0m: could not convert string to float: '106308.27086283882.37949103475.2515318285.10370322241.807594732724.08396351805.60756297991.1157135260.4715241320687.4108           .211821.09523506228.9924967872.544361177568.07769786598.61769322742.2393316267.318923389266.0664216540.8603442392957.4739545457.74716           .798178.18824300000.98076 20329.22372521635.6926434479.816051257029.92845374526.52579150887.1715347436.498182140656.88173137956.0655277159.47061611710.113894554559.75778111955.92008131410.0937144258.2303031679602.047344271.503052602914.52168           .           .488431.4117924345.730723548166.61131107311.32049318348.61912'"
     ]
    }
   ],
   "source": []
  },
  {
   "cell_type": "code",
   "execution_count": 19,
   "metadata": {},
   "outputs": [
    {
     "ename": "ValueError",
     "evalue": "could not convert string to float: '106308.27086283882.37949103475.2515318285.10370322241.807594732724.08396351805.60756297991.1157135260.4715241320687.4108           .211821.09523506228.9924967872.544361177568.07769786598.61769322742.2393316267.318923389266.0664216540.8603442392957.4739545457.74716           .798178.18824300000.98076 20329.22372521635.6926434479.816051257029.92845374526.52579150887.1715347436.498182140656.88173137956.0655277159.47061611710.113894554559.75778111955.92008131410.0937144258.2303031679602.047344271.503052602914.52168           .           .488431.4117924345.730723548166.61131107311.32049318348.61912'",
     "output_type": "error",
     "traceback": [
      "\u001b[1;31m---------------------------------------------------------------------------\u001b[0m",
      "\u001b[1;31mValueError\u001b[0m                                Traceback (most recent call last)",
      "\u001b[1;32m<ipython-input-19-07ed006adabe>\u001b[0m in \u001b[0;36m<module>\u001b[1;34m\u001b[0m\n\u001b[1;32m----> 1\u001b[1;33m \u001b[0mmean_absolute_percentage_error\u001b[0m\u001b[1;33m(\u001b[0m\u001b[0mdf_g\u001b[0m\u001b[1;33m[\u001b[0m\u001b[0mdf_g\u001b[0m\u001b[1;33m.\u001b[0m\u001b[0mKanal\u001b[0m \u001b[1;33m==\u001b[0m \u001b[1;34m'btt'\u001b[0m\u001b[1;33m]\u001b[0m\u001b[1;33m.\u001b[0m\u001b[0mACTUAL\u001b[0m\u001b[1;33m,\u001b[0m\u001b[0mdf_g\u001b[0m\u001b[1;33m[\u001b[0m\u001b[0mdf_g\u001b[0m\u001b[1;33m.\u001b[0m\u001b[0mKanal\u001b[0m \u001b[1;33m==\u001b[0m \u001b[1;34m'btt'\u001b[0m\u001b[1;33m]\u001b[0m\u001b[1;33m.\u001b[0m\u001b[0mPREDICT\u001b[0m\u001b[1;33m)\u001b[0m\u001b[1;33m\u001b[0m\u001b[1;33m\u001b[0m\u001b[0m\n\u001b[0m",
      "\u001b[1;32m~\\Anaconda3\\lib\\site-packages\\sklearn\\metrics\\_regression.py\u001b[0m in \u001b[0;36mmean_absolute_percentage_error\u001b[1;34m(y_true, y_pred, sample_weight, multioutput)\u001b[0m\n\u001b[0;32m    255\u001b[0m     \u001b[1;36m0.6198\u001b[0m\u001b[1;33m...\u001b[0m\u001b[1;33m\u001b[0m\u001b[1;33m\u001b[0m\u001b[0m\n\u001b[0;32m    256\u001b[0m     \"\"\"\n\u001b[1;32m--> 257\u001b[1;33m     y_type, y_true, y_pred, multioutput = _check_reg_targets(\n\u001b[0m\u001b[0;32m    258\u001b[0m         y_true, y_pred, multioutput)\n\u001b[0;32m    259\u001b[0m     \u001b[0mcheck_consistent_length\u001b[0m\u001b[1;33m(\u001b[0m\u001b[0my_true\u001b[0m\u001b[1;33m,\u001b[0m \u001b[0my_pred\u001b[0m\u001b[1;33m,\u001b[0m \u001b[0msample_weight\u001b[0m\u001b[1;33m)\u001b[0m\u001b[1;33m\u001b[0m\u001b[1;33m\u001b[0m\u001b[0m\n",
      "\u001b[1;32m~\\Anaconda3\\lib\\site-packages\\sklearn\\metrics\\_regression.py\u001b[0m in \u001b[0;36m_check_reg_targets\u001b[1;34m(y_true, y_pred, multioutput, dtype)\u001b[0m\n\u001b[0;32m     87\u001b[0m     \"\"\"\n\u001b[0;32m     88\u001b[0m     \u001b[0mcheck_consistent_length\u001b[0m\u001b[1;33m(\u001b[0m\u001b[0my_true\u001b[0m\u001b[1;33m,\u001b[0m \u001b[0my_pred\u001b[0m\u001b[1;33m)\u001b[0m\u001b[1;33m\u001b[0m\u001b[1;33m\u001b[0m\u001b[0m\n\u001b[1;32m---> 89\u001b[1;33m     \u001b[0my_true\u001b[0m \u001b[1;33m=\u001b[0m \u001b[0mcheck_array\u001b[0m\u001b[1;33m(\u001b[0m\u001b[0my_true\u001b[0m\u001b[1;33m,\u001b[0m \u001b[0mensure_2d\u001b[0m\u001b[1;33m=\u001b[0m\u001b[1;32mFalse\u001b[0m\u001b[1;33m,\u001b[0m \u001b[0mdtype\u001b[0m\u001b[1;33m=\u001b[0m\u001b[0mdtype\u001b[0m\u001b[1;33m)\u001b[0m\u001b[1;33m\u001b[0m\u001b[1;33m\u001b[0m\u001b[0m\n\u001b[0m\u001b[0;32m     90\u001b[0m     \u001b[0my_pred\u001b[0m \u001b[1;33m=\u001b[0m \u001b[0mcheck_array\u001b[0m\u001b[1;33m(\u001b[0m\u001b[0my_pred\u001b[0m\u001b[1;33m,\u001b[0m \u001b[0mensure_2d\u001b[0m\u001b[1;33m=\u001b[0m\u001b[1;32mFalse\u001b[0m\u001b[1;33m,\u001b[0m \u001b[0mdtype\u001b[0m\u001b[1;33m=\u001b[0m\u001b[0mdtype\u001b[0m\u001b[1;33m)\u001b[0m\u001b[1;33m\u001b[0m\u001b[1;33m\u001b[0m\u001b[0m\n\u001b[0;32m     91\u001b[0m \u001b[1;33m\u001b[0m\u001b[0m\n",
      "\u001b[1;32m~\\Anaconda3\\lib\\site-packages\\sklearn\\utils\\validation.py\u001b[0m in \u001b[0;36minner_f\u001b[1;34m(*args, **kwargs)\u001b[0m\n\u001b[0;32m     61\u001b[0m             \u001b[0mextra_args\u001b[0m \u001b[1;33m=\u001b[0m \u001b[0mlen\u001b[0m\u001b[1;33m(\u001b[0m\u001b[0margs\u001b[0m\u001b[1;33m)\u001b[0m \u001b[1;33m-\u001b[0m \u001b[0mlen\u001b[0m\u001b[1;33m(\u001b[0m\u001b[0mall_args\u001b[0m\u001b[1;33m)\u001b[0m\u001b[1;33m\u001b[0m\u001b[1;33m\u001b[0m\u001b[0m\n\u001b[0;32m     62\u001b[0m             \u001b[1;32mif\u001b[0m \u001b[0mextra_args\u001b[0m \u001b[1;33m<=\u001b[0m \u001b[1;36m0\u001b[0m\u001b[1;33m:\u001b[0m\u001b[1;33m\u001b[0m\u001b[1;33m\u001b[0m\u001b[0m\n\u001b[1;32m---> 63\u001b[1;33m                 \u001b[1;32mreturn\u001b[0m \u001b[0mf\u001b[0m\u001b[1;33m(\u001b[0m\u001b[1;33m*\u001b[0m\u001b[0margs\u001b[0m\u001b[1;33m,\u001b[0m \u001b[1;33m**\u001b[0m\u001b[0mkwargs\u001b[0m\u001b[1;33m)\u001b[0m\u001b[1;33m\u001b[0m\u001b[1;33m\u001b[0m\u001b[0m\n\u001b[0m\u001b[0;32m     64\u001b[0m \u001b[1;33m\u001b[0m\u001b[0m\n\u001b[0;32m     65\u001b[0m             \u001b[1;31m# extra_args > 0\u001b[0m\u001b[1;33m\u001b[0m\u001b[1;33m\u001b[0m\u001b[1;33m\u001b[0m\u001b[0m\n",
      "\u001b[1;32m~\\Anaconda3\\lib\\site-packages\\sklearn\\utils\\validation.py\u001b[0m in \u001b[0;36mcheck_array\u001b[1;34m(array, accept_sparse, accept_large_sparse, dtype, order, copy, force_all_finite, ensure_2d, allow_nd, ensure_min_samples, ensure_min_features, estimator)\u001b[0m\n\u001b[0;32m    671\u001b[0m                     \u001b[0marray\u001b[0m \u001b[1;33m=\u001b[0m \u001b[0marray\u001b[0m\u001b[1;33m.\u001b[0m\u001b[0mastype\u001b[0m\u001b[1;33m(\u001b[0m\u001b[0mdtype\u001b[0m\u001b[1;33m,\u001b[0m \u001b[0mcasting\u001b[0m\u001b[1;33m=\u001b[0m\u001b[1;34m\"unsafe\"\u001b[0m\u001b[1;33m,\u001b[0m \u001b[0mcopy\u001b[0m\u001b[1;33m=\u001b[0m\u001b[1;32mFalse\u001b[0m\u001b[1;33m)\u001b[0m\u001b[1;33m\u001b[0m\u001b[1;33m\u001b[0m\u001b[0m\n\u001b[0;32m    672\u001b[0m                 \u001b[1;32melse\u001b[0m\u001b[1;33m:\u001b[0m\u001b[1;33m\u001b[0m\u001b[1;33m\u001b[0m\u001b[0m\n\u001b[1;32m--> 673\u001b[1;33m                     \u001b[0marray\u001b[0m \u001b[1;33m=\u001b[0m \u001b[0mnp\u001b[0m\u001b[1;33m.\u001b[0m\u001b[0masarray\u001b[0m\u001b[1;33m(\u001b[0m\u001b[0marray\u001b[0m\u001b[1;33m,\u001b[0m \u001b[0morder\u001b[0m\u001b[1;33m=\u001b[0m\u001b[0morder\u001b[0m\u001b[1;33m,\u001b[0m \u001b[0mdtype\u001b[0m\u001b[1;33m=\u001b[0m\u001b[0mdtype\u001b[0m\u001b[1;33m)\u001b[0m\u001b[1;33m\u001b[0m\u001b[1;33m\u001b[0m\u001b[0m\n\u001b[0m\u001b[0;32m    674\u001b[0m             \u001b[1;32mexcept\u001b[0m \u001b[0mComplexWarning\u001b[0m \u001b[1;32mas\u001b[0m \u001b[0mcomplex_warning\u001b[0m\u001b[1;33m:\u001b[0m\u001b[1;33m\u001b[0m\u001b[1;33m\u001b[0m\u001b[0m\n\u001b[0;32m    675\u001b[0m                 raise ValueError(\"Complex data not supported\\n\"\n",
      "\u001b[1;32m~\\Anaconda3\\lib\\site-packages\\numpy\\core\\_asarray.py\u001b[0m in \u001b[0;36masarray\u001b[1;34m(a, dtype, order)\u001b[0m\n\u001b[0;32m     81\u001b[0m \u001b[1;33m\u001b[0m\u001b[0m\n\u001b[0;32m     82\u001b[0m     \"\"\"\n\u001b[1;32m---> 83\u001b[1;33m     \u001b[1;32mreturn\u001b[0m \u001b[0marray\u001b[0m\u001b[1;33m(\u001b[0m\u001b[0ma\u001b[0m\u001b[1;33m,\u001b[0m \u001b[0mdtype\u001b[0m\u001b[1;33m,\u001b[0m \u001b[0mcopy\u001b[0m\u001b[1;33m=\u001b[0m\u001b[1;32mFalse\u001b[0m\u001b[1;33m,\u001b[0m \u001b[0morder\u001b[0m\u001b[1;33m=\u001b[0m\u001b[0morder\u001b[0m\u001b[1;33m)\u001b[0m\u001b[1;33m\u001b[0m\u001b[1;33m\u001b[0m\u001b[0m\n\u001b[0m\u001b[0;32m     84\u001b[0m \u001b[1;33m\u001b[0m\u001b[0m\n\u001b[0;32m     85\u001b[0m \u001b[1;33m\u001b[0m\u001b[0m\n",
      "\u001b[1;32m~\\Anaconda3\\lib\\site-packages\\pandas\\core\\series.py\u001b[0m in \u001b[0;36m__array__\u001b[1;34m(self, dtype)\u001b[0m\n\u001b[0;32m    766\u001b[0m               dtype='datetime64[ns]')\n\u001b[0;32m    767\u001b[0m         \"\"\"\n\u001b[1;32m--> 768\u001b[1;33m         \u001b[1;32mreturn\u001b[0m \u001b[0mnp\u001b[0m\u001b[1;33m.\u001b[0m\u001b[0masarray\u001b[0m\u001b[1;33m(\u001b[0m\u001b[0mself\u001b[0m\u001b[1;33m.\u001b[0m\u001b[0marray\u001b[0m\u001b[1;33m,\u001b[0m \u001b[0mdtype\u001b[0m\u001b[1;33m)\u001b[0m\u001b[1;33m\u001b[0m\u001b[1;33m\u001b[0m\u001b[0m\n\u001b[0m\u001b[0;32m    769\u001b[0m \u001b[1;33m\u001b[0m\u001b[0m\n\u001b[0;32m    770\u001b[0m     \u001b[1;31m# ----------------------------------------------------------------------\u001b[0m\u001b[1;33m\u001b[0m\u001b[1;33m\u001b[0m\u001b[1;33m\u001b[0m\u001b[0m\n",
      "\u001b[1;32m~\\Anaconda3\\lib\\site-packages\\numpy\\core\\_asarray.py\u001b[0m in \u001b[0;36masarray\u001b[1;34m(a, dtype, order)\u001b[0m\n\u001b[0;32m     81\u001b[0m \u001b[1;33m\u001b[0m\u001b[0m\n\u001b[0;32m     82\u001b[0m     \"\"\"\n\u001b[1;32m---> 83\u001b[1;33m     \u001b[1;32mreturn\u001b[0m \u001b[0marray\u001b[0m\u001b[1;33m(\u001b[0m\u001b[0ma\u001b[0m\u001b[1;33m,\u001b[0m \u001b[0mdtype\u001b[0m\u001b[1;33m,\u001b[0m \u001b[0mcopy\u001b[0m\u001b[1;33m=\u001b[0m\u001b[1;32mFalse\u001b[0m\u001b[1;33m,\u001b[0m \u001b[0morder\u001b[0m\u001b[1;33m=\u001b[0m\u001b[0morder\u001b[0m\u001b[1;33m)\u001b[0m\u001b[1;33m\u001b[0m\u001b[1;33m\u001b[0m\u001b[0m\n\u001b[0m\u001b[0;32m     84\u001b[0m \u001b[1;33m\u001b[0m\u001b[0m\n\u001b[0;32m     85\u001b[0m \u001b[1;33m\u001b[0m\u001b[0m\n",
      "\u001b[1;32m~\\Anaconda3\\lib\\site-packages\\pandas\\core\\arrays\\numpy_.py\u001b[0m in \u001b[0;36m__array__\u001b[1;34m(self, dtype)\u001b[0m\n\u001b[0;32m    201\u001b[0m \u001b[1;33m\u001b[0m\u001b[0m\n\u001b[0;32m    202\u001b[0m     \u001b[1;32mdef\u001b[0m \u001b[0m__array__\u001b[0m\u001b[1;33m(\u001b[0m\u001b[0mself\u001b[0m\u001b[1;33m,\u001b[0m \u001b[0mdtype\u001b[0m\u001b[1;33m=\u001b[0m\u001b[1;32mNone\u001b[0m\u001b[1;33m)\u001b[0m \u001b[1;33m->\u001b[0m \u001b[0mnp\u001b[0m\u001b[1;33m.\u001b[0m\u001b[0mndarray\u001b[0m\u001b[1;33m:\u001b[0m\u001b[1;33m\u001b[0m\u001b[1;33m\u001b[0m\u001b[0m\n\u001b[1;32m--> 203\u001b[1;33m         \u001b[1;32mreturn\u001b[0m \u001b[0mnp\u001b[0m\u001b[1;33m.\u001b[0m\u001b[0masarray\u001b[0m\u001b[1;33m(\u001b[0m\u001b[0mself\u001b[0m\u001b[1;33m.\u001b[0m\u001b[0m_ndarray\u001b[0m\u001b[1;33m,\u001b[0m \u001b[0mdtype\u001b[0m\u001b[1;33m=\u001b[0m\u001b[0mdtype\u001b[0m\u001b[1;33m)\u001b[0m\u001b[1;33m\u001b[0m\u001b[1;33m\u001b[0m\u001b[0m\n\u001b[0m\u001b[0;32m    204\u001b[0m \u001b[1;33m\u001b[0m\u001b[0m\n\u001b[0;32m    205\u001b[0m     \u001b[0m_HANDLED_TYPES\u001b[0m \u001b[1;33m=\u001b[0m \u001b[1;33m(\u001b[0m\u001b[0mnp\u001b[0m\u001b[1;33m.\u001b[0m\u001b[0mndarray\u001b[0m\u001b[1;33m,\u001b[0m \u001b[0mnumbers\u001b[0m\u001b[1;33m.\u001b[0m\u001b[0mNumber\u001b[0m\u001b[1;33m)\u001b[0m\u001b[1;33m\u001b[0m\u001b[1;33m\u001b[0m\u001b[0m\n",
      "\u001b[1;32m~\\Anaconda3\\lib\\site-packages\\numpy\\core\\_asarray.py\u001b[0m in \u001b[0;36masarray\u001b[1;34m(a, dtype, order)\u001b[0m\n\u001b[0;32m     81\u001b[0m \u001b[1;33m\u001b[0m\u001b[0m\n\u001b[0;32m     82\u001b[0m     \"\"\"\n\u001b[1;32m---> 83\u001b[1;33m     \u001b[1;32mreturn\u001b[0m \u001b[0marray\u001b[0m\u001b[1;33m(\u001b[0m\u001b[0ma\u001b[0m\u001b[1;33m,\u001b[0m \u001b[0mdtype\u001b[0m\u001b[1;33m,\u001b[0m \u001b[0mcopy\u001b[0m\u001b[1;33m=\u001b[0m\u001b[1;32mFalse\u001b[0m\u001b[1;33m,\u001b[0m \u001b[0morder\u001b[0m\u001b[1;33m=\u001b[0m\u001b[0morder\u001b[0m\u001b[1;33m)\u001b[0m\u001b[1;33m\u001b[0m\u001b[1;33m\u001b[0m\u001b[0m\n\u001b[0m\u001b[0;32m     84\u001b[0m \u001b[1;33m\u001b[0m\u001b[0m\n\u001b[0;32m     85\u001b[0m \u001b[1;33m\u001b[0m\u001b[0m\n",
      "\u001b[1;31mValueError\u001b[0m: could not convert string to float: '106308.27086283882.37949103475.2515318285.10370322241.807594732724.08396351805.60756297991.1157135260.4715241320687.4108           .211821.09523506228.9924967872.544361177568.07769786598.61769322742.2393316267.318923389266.0664216540.8603442392957.4739545457.74716           .798178.18824300000.98076 20329.22372521635.6926434479.816051257029.92845374526.52579150887.1715347436.498182140656.88173137956.0655277159.47061611710.113894554559.75778111955.92008131410.0937144258.2303031679602.047344271.503052602914.52168           .           .488431.4117924345.730723548166.61131107311.32049318348.61912'"
     ]
    }
   ],
   "source": [
    "mean_absolute_percentage_error(df_g[df_g.Kanal == 'btt'].ACTUAL,df_g[df_g.Kanal == 'btt'].PREDICT)"
   ]
  },
  {
   "cell_type": "code",
   "execution_count": 1,
   "metadata": {},
   "outputs": [],
   "source": [
    "import pandas as pd\n",
    "import numpy as np\n",
    "from datetime import datetime\n",
    "\n",
    "df = pd.read_csv('../data/table_DS_30_06_OUTFOR_V2.csv',delimiter=';')\n",
    "df = df[[\"Kanal\", \"grup_adi\", \"urun_adi\", \"date\", \"ACTUAL\", \"PREDICT\"]]"
   ]
  },
  {
   "cell_type": "code",
   "execution_count": 2,
   "metadata": {},
   "outputs": [
    {
     "data": {
      "text/plain": [
       "0        1.01.2016\n",
       "1        1.02.2016\n",
       "2        1.03.2016\n",
       "3        1.04.2016\n",
       "4        1.05.2016\n",
       "           ...    \n",
       "55435    1.01.2022\n",
       "55436    1.01.2022\n",
       "55437    1.01.2022\n",
       "55438    1.01.2022\n",
       "55439    1.01.2022\n",
       "Name: date, Length: 55440, dtype: object"
      ]
     },
     "execution_count": 2,
     "metadata": {},
     "output_type": "execute_result"
    }
   ],
   "source": [
    "df.date"
   ]
  },
  {
   "cell_type": "code",
   "execution_count": 3,
   "metadata": {},
   "outputs": [
    {
     "name": "stdout",
     "output_type": "stream",
     "text": [
      "<class 'pandas.core.frame.DataFrame'>\n",
      "RangeIndex: 55440 entries, 0 to 55439\n",
      "Data columns (total 6 columns):\n",
      " #   Column    Non-Null Count  Dtype \n",
      "---  ------    --------------  ----- \n",
      " 0   Kanal     55440 non-null  object\n",
      " 1   grup_adi  55440 non-null  object\n",
      " 2   urun_adi  55440 non-null  object\n",
      " 3   date      55440 non-null  object\n",
      " 4   ACTUAL    55440 non-null  object\n",
      " 5   PREDICT   55440 non-null  object\n",
      "dtypes: object(6)\n",
      "memory usage: 2.5+ MB\n"
     ]
    }
   ],
   "source": [
    "df.info()"
   ]
  },
  {
   "cell_type": "code",
   "execution_count": 4,
   "metadata": {},
   "outputs": [
    {
     "data": {
      "text/plain": [
       "0         53584,23924\n",
       "1         41032,23924\n",
       "2         43840,23924\n",
       "3         51156,23924\n",
       "4         50608,23924\n",
       "             ...     \n",
       "55435               .\n",
       "55436               .\n",
       "55437               .\n",
       "55438               .\n",
       "55439               .\n",
       "Name: ACTUAL, Length: 55440, dtype: object"
      ]
     },
     "execution_count": 4,
     "metadata": {},
     "output_type": "execute_result"
    }
   ],
   "source": [
    "df.ACTUAL"
   ]
  },
  {
   "cell_type": "code",
   "execution_count": 5,
   "metadata": {},
   "outputs": [],
   "source": [
    "df.ACTUAL = df.ACTUAL.str.replace('           .', '0')\n",
    "df.PREDICT = df.PREDICT.str.replace('           .', '0')\n",
    "df.ACTUAL = df.ACTUAL.str.replace(',', '.')\n",
    "df.PREDICT = df.PREDICT.str.replace(',', '.')\n",
    "\n",
    "df.ACTUAL = df.ACTUAL.astype('float')\n",
    "df.PREDICT = df.PREDICT.astype('float')"
   ]
  },
  {
   "cell_type": "code",
   "execution_count": 6,
   "metadata": {},
   "outputs": [
    {
     "data": {
      "text/plain": [
       "0        53584.23924\n",
       "1        41032.23924\n",
       "2        43840.23924\n",
       "3        51156.23924\n",
       "4        50608.23924\n",
       "            ...     \n",
       "55435        0.00000\n",
       "55436        0.00000\n",
       "55437        0.00000\n",
       "55438        0.00000\n",
       "55439        0.00000\n",
       "Name: ACTUAL, Length: 55440, dtype: float64"
      ]
     },
     "execution_count": 6,
     "metadata": {},
     "output_type": "execute_result"
    }
   ],
   "source": [
    "df.ACTUAL"
   ]
  },
  {
   "cell_type": "code",
   "execution_count": 7,
   "metadata": {},
   "outputs": [
    {
     "name": "stdout",
     "output_type": "stream",
     "text": [
      "<class 'pandas.core.frame.DataFrame'>\n",
      "RangeIndex: 55440 entries, 0 to 55439\n",
      "Data columns (total 6 columns):\n",
      " #   Column    Non-Null Count  Dtype  \n",
      "---  ------    --------------  -----  \n",
      " 0   Kanal     55440 non-null  object \n",
      " 1   grup_adi  55440 non-null  object \n",
      " 2   urun_adi  55440 non-null  object \n",
      " 3   date      55440 non-null  object \n",
      " 4   ACTUAL    55440 non-null  float64\n",
      " 5   PREDICT   55440 non-null  float64\n",
      "dtypes: float64(2), object(4)\n",
      "memory usage: 2.5+ MB\n"
     ]
    }
   ],
   "source": [
    "df.info()"
   ]
  },
  {
   "cell_type": "code",
   "execution_count": 8,
   "metadata": {},
   "outputs": [],
   "source": [
    "df.date = pd.to_datetime(df.date, format = '%d.%m.%Y', errors='coerce')"
   ]
  },
  {
   "cell_type": "code",
   "execution_count": 9,
   "metadata": {},
   "outputs": [],
   "source": [
    "skular = list(df.urun_adi.unique())\n",
    "\n",
    "def mean_absolute_percentage_error(y_true, y_pred):\n",
    "    return np.mean(np.abs((np.array(y_true) - np.array(y_pred)) / y_true)) * 100\n",
    "\n",
    "def length_of_data(grup_adi, sku):\n",
    "    temp_df = df[(df[\"grup_adi\"] == grup_adi) & (df[\"urun_adi\"] == sku)].reset_index(drop=True)\n",
    "    return len(temp_df)\n",
    "\n",
    "def analysis(grup_adi, sku):\n",
    "    temp_df = df[(df[\"grup_adi\"] == grup_adi) & (df[\"urun_adi\"] == sku)].reset_index(drop=True)\n",
    "    act_pred = temp_df[(temp_df[\"date\"] >= datetime(2021, 1, 1)) &\n",
    "    (temp_df[\"date\"] <= datetime(2021, 5, 1))][[\"ACTUAL\", \"PREDICT\"]]\n",
    "    ytrue = act_pred[\"ACTUAL\"]\n",
    "    yhat = act_pred[\"PREDICT\"]\n",
    "    mape = mean_absolute_percentage_error(ytrue, yhat)\n",
    "    print(\"-\"*12)\n",
    "    print(\"Grup ismi:\", grup_adi)\n",
    "    print(\"Ürün ismi:\", sku)\n",
    "    print(f\"MAPE: {mape:.2f}\")\n",
    "    print(\"-\"*12)\n",
    "    print(\"\\n\")\n",
    "    print(temp_df[temp_df[\"date\"] >= datetime(2020, 10, 1)][[\"date\", \"ACTUAL\", \"PREDICT\"]])"
   ]
  },
  {
   "cell_type": "code",
   "execution_count": 10,
   "metadata": {},
   "outputs": [],
   "source": [
    "temp_df = df[(df[\"grup_adi\"] == 'MİGROS') & (df[\"urun_adi\"] == 'ULK NAPOLİTEN 33Gx20x6' )].reset_index(drop=True)\n",
    "act_pred = temp_df[(temp_df[\"date\"] >= datetime(2021, 1, 1)) & (temp_df[\"date\"] <= datetime(2021, 5, 1))][['date',\"ACTUAL\", \"PREDICT\"]]"
   ]
  },
  {
   "cell_type": "code",
   "execution_count": 11,
   "metadata": {},
   "outputs": [
    {
     "data": {
      "text/html": [
       "<div>\n",
       "<style scoped>\n",
       "    .dataframe tbody tr th:only-of-type {\n",
       "        vertical-align: middle;\n",
       "    }\n",
       "\n",
       "    .dataframe tbody tr th {\n",
       "        vertical-align: top;\n",
       "    }\n",
       "\n",
       "    .dataframe thead th {\n",
       "        text-align: right;\n",
       "    }\n",
       "</style>\n",
       "<table border=\"1\" class=\"dataframe\">\n",
       "  <thead>\n",
       "    <tr style=\"text-align: right;\">\n",
       "      <th></th>\n",
       "      <th>date</th>\n",
       "      <th>ACTUAL</th>\n",
       "      <th>PREDICT</th>\n",
       "    </tr>\n",
       "  </thead>\n",
       "  <tbody>\n",
       "    <tr>\n",
       "      <th>60</th>\n",
       "      <td>2021-01-01</td>\n",
       "      <td>481034.9526</td>\n",
       "      <td>332766.3864</td>\n",
       "    </tr>\n",
       "    <tr>\n",
       "      <th>61</th>\n",
       "      <td>2021-02-01</td>\n",
       "      <td>486030.6920</td>\n",
       "      <td>620213.6212</td>\n",
       "    </tr>\n",
       "    <tr>\n",
       "      <th>62</th>\n",
       "      <td>2021-03-01</td>\n",
       "      <td>481034.9526</td>\n",
       "      <td>471583.9569</td>\n",
       "    </tr>\n",
       "    <tr>\n",
       "      <th>63</th>\n",
       "      <td>2021-04-01</td>\n",
       "      <td>216161.1680</td>\n",
       "      <td>227201.4641</td>\n",
       "    </tr>\n",
       "    <tr>\n",
       "      <th>64</th>\n",
       "      <td>2021-05-01</td>\n",
       "      <td>156451.4840</td>\n",
       "      <td>124982.0415</td>\n",
       "    </tr>\n",
       "  </tbody>\n",
       "</table>\n",
       "</div>"
      ],
      "text/plain": [
       "         date       ACTUAL      PREDICT\n",
       "60 2021-01-01  481034.9526  332766.3864\n",
       "61 2021-02-01  486030.6920  620213.6212\n",
       "62 2021-03-01  481034.9526  471583.9569\n",
       "63 2021-04-01  216161.1680  227201.4641\n",
       "64 2021-05-01  156451.4840  124982.0415"
      ]
     },
     "execution_count": 11,
     "metadata": {},
     "output_type": "execute_result"
    }
   ],
   "source": [
    "act_pred"
   ]
  },
  {
   "cell_type": "code",
   "execution_count": 12,
   "metadata": {},
   "outputs": [
    {
     "data": {
      "text/plain": [
       "77"
      ]
     },
     "execution_count": 12,
     "metadata": {},
     "output_type": "execute_result"
    }
   ],
   "source": [
    "length_of_data(\"A101\", \"ULK NAPOLİTEN 33Gx20x6\")"
   ]
  },
  {
   "cell_type": "code",
   "execution_count": 13,
   "metadata": {},
   "outputs": [
    {
     "data": {
      "text/plain": [
       "9764    101432.79630\n",
       "9765     81140.62077\n",
       "9766     60848.44528\n",
       "9767     63584.35098\n",
       "9768     97308.89055\n",
       "            ...     \n",
       "9836         0.00000\n",
       "9837         0.00000\n",
       "9838         0.00000\n",
       "9839         0.00000\n",
       "9840         0.00000\n",
       "Name: ACTUAL, Length: 77, dtype: float64"
      ]
     },
     "execution_count": 13,
     "metadata": {},
     "output_type": "execute_result"
    }
   ],
   "source": [
    "df[(df.grup_adi == 'ORTA MARKET') & (df.urun_adi == \"ÜLKER BEBE BİSK.4x250GRx4\") & (~df.ACTUAL.isna())].ACTUAL"
   ]
  },
  {
   "cell_type": "code",
   "execution_count": 14,
   "metadata": {},
   "outputs": [
    {
     "name": "stdout",
     "output_type": "stream",
     "text": [
      "------------\n",
      "Grup ismi: MİGROS\n",
      "Ürün ismi: ULK NAPOLİTEN 33Gx20x6\n",
      "MAPE: 17.12\n",
      "------------\n",
      "\n",
      "\n",
      "         date       ACTUAL      PREDICT\n",
      "57 2020-10-01  481034.9526  286452.3800\n",
      "58 2020-11-01  298215.5144  456614.9228\n",
      "59 2020-12-01  481034.9526  425030.1570\n",
      "60 2021-01-01  481034.9526  332766.3864\n",
      "61 2021-02-01  486030.6920  620213.6212\n",
      "62 2021-03-01  481034.9526  471583.9569\n",
      "63 2021-04-01  216161.1680  227201.4641\n",
      "64 2021-05-01  156451.4840  124982.0415\n",
      "65 2021-06-01       0.0000  535171.0697\n",
      "66 2021-07-01       0.0000  503866.4513\n",
      "67 2021-08-01       0.0000  327474.1667\n",
      "68 2021-09-01       0.0000  363817.4244\n",
      "69 2021-10-01       0.0000  548027.0575\n",
      "70 2021-11-01       0.0000  465528.4971\n",
      "71 2021-12-01       0.0000  613419.1318\n",
      "72 2022-01-01       0.0000  520882.5642\n",
      "73 2022-01-01       0.0000  609418.1540\n",
      "74 2022-01-01       0.0000  598562.9435\n",
      "75 2022-01-01       0.0000  341594.4045\n",
      "76 2022-01-01       0.0000  262027.2741\n"
     ]
    }
   ],
   "source": [
    "analysis(\"MİGROS\", \"ULK NAPOLİTEN 33Gx20x6\")"
   ]
  },
  {
   "cell_type": "code",
   "execution_count": 20,
   "metadata": {},
   "outputs": [],
   "source": [
    "check_grp = ['ŞOK',\n",
    "             'ŞOK',\n",
    "             'ŞOK',\n",
    "             'BİM',\n",
    "             'ŞOK',\n",
    "             'ŞOK',\n",
    "             'BİM',\n",
    "             'ŞOK',\n",
    "             'ŞOK',\n",
    "             'BİM',\n",
    "             'ŞOK',\n",
    "             'ŞOK',\n",
    "             'BİM',\n",
    "             'ŞOK',\n",
    "             'ŞOK',\n",
    "             'ŞOK',\n",
    "             'ŞOK',\n",
    "             'ŞOK',\n",
    "             'ŞOK',\n",
    "             'BİM',\n",
    "             'ŞOK',\n",
    "             'BİM',\n",
    "             'BİM',\n",
    "             'ŞOK',\n",
    "             'ŞOK',\n",
    "             'ŞOK',\n",
    "             'ŞOK',\n",
    "             'ŞOK',\n",
    "             'ŞOK',\n",
    "             'BİM',\n",
    "             'ŞOK',\n",
    "             'BİM',\n",
    "             'ŞOK']\n",
    "\n",
    "check_sku = ['ULK NAPOLİTEN 33Gx20x6',\n",
    "             'LAVİVA DOLG.VE BİSK.ÇİK.35Gx24x6',\n",
    "             'DİDO SÜT.ÇİK.GOF.35Gx24x6',\n",
    "             'ULK ÇİK.GOF.36Gx36x4 DISC.',\n",
    "             'ULK ÇİK.GOF.36Gx36x4 DISC.',\n",
    "             'CARAMIO K.MELLİ BAT.ÇİK.35Gx24x6',\n",
    "             'ALBENİ KAPL.BAR 40Gx24x6 YENİ DZ.',\n",
    "             'ALBENİ KAPL.BAR 40Gx24x6 YENİ DZ.',\n",
    "             'ULK ÇİK.KARE A.FIS.70Gx6x6',\n",
    "             'METRO KAPL.BAR 36Gx24x6 F.SIZ',\n",
    "             'ULK ÇİK.KARE BITTER %80 KAK.70Gx6x6',\n",
    "             'COCOSTAR H.CEV.BAR 28Gx24x6 YENİ',\n",
    "             'ÇOKOPRENS 300Gx36',\n",
    "             'ÇOKOPRENS 300Gx36',\n",
    "             'HOBBY MİNİ İKR.POŞET 250Gx12',\n",
    "             'ULK ÇİK.KARE BİT.%60 70Gx6x6',\n",
    "             'ULK ÇİK.KARE SÜT.70Gx6x6',\n",
    "             'HALLEY KAPL.BİSK.10x30Gx12 TEK ÖNYÜZ',\n",
    "             'HALLEY KARADUT DOL.7x33,7Gx12',\n",
    "             'ULK BEBE BİSK.2x500Gx4',\n",
    "             'ULK PÖTİBÖR BİSK.450Gx10',\n",
    "             'ÇİZİVİÇ PEY.SAND.KR.3x90Gx12',\n",
    "             'PROBİS SAND.BİSK.10x28Gx12',\n",
    "             'PROBİS SAND.BİSK.10x28Gx12',\n",
    "             '9 KAT TAT INCE INCE FIN.114Gx16',\n",
    "             'BİSKREM B.BOY RULO 150Gx18',\n",
    "             'RULOKAT TNK.KTU 250Gx6',\n",
    "             'DANKEK LOKMALIK KAK.180Gx8',\n",
    "             'ÇİZİ KR.70Gx24',\n",
    "             'KEKSTRA JÖLEBOL KEK ÇİLEK 35Gx24',\n",
    "             'KEKSTRA JÖLEBOL KEK ÇİLEK 35Gx24',\n",
    "             'ULK SADE ÇUBUK KR.32Gx36',\n",
    "             'ULK SADE ÇUBUK KR.32Gx36']\n",
    "\n",
    "check_df = pd.DataFrame({\"grup_adi\": check_grp, \"urun_adi\": check_sku})"
   ]
  },
  {
   "cell_type": "code",
   "execution_count": 24,
   "metadata": {},
   "outputs": [
    {
     "data": {
      "text/plain": [
       "33"
      ]
     },
     "execution_count": 24,
     "metadata": {},
     "output_type": "execute_result"
    }
   ],
   "source": [
    "len(check_df)"
   ]
  },
  {
   "cell_type": "code",
   "execution_count": 27,
   "metadata": {},
   "outputs": [],
   "source": [
    "def analysis_mape(grup_adi, sku):\n",
    "    temp_df = df[(df[\"grup_adi\"] == grup_adi) & (df[\"urun_adi\"] == sku)].reset_index(drop=True)\n",
    "    act_pred = temp_df[(temp_df[\"date\"] >= datetime(2021, 1, 1)) &\n",
    "    (temp_df[\"date\"] <= datetime(2021, 5, 1))][[\"ACTUAL\", \"PREDICT\"]]\n",
    "    ytrue = act_pred[\"ACTUAL\"]\n",
    "    yhat = act_pred[\"PREDICT\"]\n",
    "    mape = mean_absolute_percentage_error(ytrue, yhat)\n",
    "    print(\"-\"*12)\n",
    "    print(\"Grup ismi:\", grup_adi)\n",
    "    print(\"Ürün ismi:\", sku)\n",
    "    print(f\"MAPE: {mape:.2f}\")\n",
    "    print(\"-\"*12)\n",
    "    return mape"
   ]
  },
  {
   "cell_type": "code",
   "execution_count": 39,
   "metadata": {},
   "outputs": [],
   "source": [
    "def analysis_mape_multiple():\n",
    "    mape_list = []\n",
    "    for idx in range(len(check_df)):\n",
    "        mape_list.append(analysis_mape(check_df[\"grup_adi\"][idx], check_df[\"urun_adi\"][idx]))\n",
    "    return len(list(filter(lambda x: x>=25, mape_list))) / len(check_df)"
   ]
  },
  {
   "cell_type": "code",
   "execution_count": 40,
   "metadata": {},
   "outputs": [
    {
     "name": "stdout",
     "output_type": "stream",
     "text": [
      "------------\n",
      "Grup ismi: ŞOK\n",
      "Ürün ismi: ULK NAPOLİTEN 33Gx20x6\n",
      "MAPE: 7005385.96\n",
      "------------\n",
      "------------\n",
      "Grup ismi: ŞOK\n",
      "Ürün ismi: LAVİVA DOLG.VE BİSK.ÇİK.35Gx24x6\n",
      "MAPE: 29.36\n",
      "------------\n",
      "------------\n",
      "Grup ismi: ŞOK\n",
      "Ürün ismi: DİDO SÜT.ÇİK.GOF.35Gx24x6\n",
      "MAPE: 24.03\n",
      "------------\n",
      "------------\n",
      "Grup ismi: BİM\n",
      "Ürün ismi: ULK ÇİK.GOF.36Gx36x4 DISC.\n",
      "MAPE: 174326359.61\n",
      "------------\n",
      "------------\n",
      "Grup ismi: ŞOK\n",
      "Ürün ismi: ULK ÇİK.GOF.36Gx36x4 DISC.\n",
      "MAPE: 30.28\n",
      "------------\n",
      "------------\n",
      "Grup ismi: ŞOK\n",
      "Ürün ismi: CARAMIO K.MELLİ BAT.ÇİK.35Gx24x6\n",
      "MAPE: 32.79\n",
      "------------\n",
      "------------\n",
      "Grup ismi: BİM\n",
      "Ürün ismi: ALBENİ KAPL.BAR 40Gx24x6 YENİ DZ.\n",
      "MAPE: 32.13\n",
      "------------\n",
      "------------\n",
      "Grup ismi: ŞOK\n",
      "Ürün ismi: ALBENİ KAPL.BAR 40Gx24x6 YENİ DZ.\n",
      "MAPE: 74.86\n",
      "------------\n",
      "------------\n",
      "Grup ismi: ŞOK\n",
      "Ürün ismi: ULK ÇİK.KARE A.FIS.70Gx6x6\n",
      "MAPE: 43.08\n",
      "------------\n",
      "------------\n",
      "Grup ismi: BİM\n",
      "Ürün ismi: METRO KAPL.BAR 36Gx24x6 F.SIZ\n",
      "MAPE: 17.70\n",
      "------------\n",
      "------------\n",
      "Grup ismi: ŞOK\n",
      "Ürün ismi: ULK ÇİK.KARE BITTER %80 KAK.70Gx6x6\n",
      "MAPE: 22.44\n",
      "------------\n",
      "------------\n",
      "Grup ismi: ŞOK\n",
      "Ürün ismi: COCOSTAR H.CEV.BAR 28Gx24x6 YENİ\n",
      "MAPE: 48.10\n",
      "------------\n",
      "------------\n",
      "Grup ismi: BİM\n",
      "Ürün ismi: ÇOKOPRENS 300Gx36\n",
      "MAPE: 33.91\n",
      "------------\n",
      "------------\n",
      "Grup ismi: ŞOK\n",
      "Ürün ismi: ÇOKOPRENS 300Gx36\n",
      "MAPE: 19.94\n",
      "------------\n",
      "------------\n",
      "Grup ismi: ŞOK\n",
      "Ürün ismi: HOBBY MİNİ İKR.POŞET 250Gx12\n",
      "MAPE: 44.13\n",
      "------------\n",
      "------------\n",
      "Grup ismi: ŞOK\n",
      "Ürün ismi: ULK ÇİK.KARE BİT.%60 70Gx6x6\n",
      "MAPE: 20.10\n",
      "------------\n",
      "------------\n",
      "Grup ismi: ŞOK\n",
      "Ürün ismi: ULK ÇİK.KARE SÜT.70Gx6x6\n",
      "MAPE: 22.18\n",
      "------------\n",
      "------------\n",
      "Grup ismi: ŞOK\n",
      "Ürün ismi: HALLEY KAPL.BİSK.10x30Gx12 TEK ÖNYÜZ\n",
      "MAPE: 50.03\n",
      "------------\n",
      "------------\n",
      "Grup ismi: ŞOK\n",
      "Ürün ismi: HALLEY KARADUT DOL.7x33,7Gx12\n",
      "MAPE: 1133428.75\n",
      "------------\n",
      "------------\n",
      "Grup ismi: BİM\n",
      "Ürün ismi: ULK BEBE BİSK.2x500Gx4\n",
      "MAPE: 10.31\n",
      "------------\n",
      "------------\n",
      "Grup ismi: ŞOK\n",
      "Ürün ismi: ULK PÖTİBÖR BİSK.450Gx10\n",
      "MAPE: 29.78\n",
      "------------\n",
      "------------\n",
      "Grup ismi: BİM\n",
      "Ürün ismi: ÇİZİVİÇ PEY.SAND.KR.3x90Gx12\n",
      "MAPE: 41.59\n",
      "------------\n",
      "------------\n",
      "Grup ismi: BİM\n",
      "Ürün ismi: PROBİS SAND.BİSK.10x28Gx12\n",
      "MAPE: 29.10\n",
      "------------\n",
      "------------\n",
      "Grup ismi: ŞOK\n",
      "Ürün ismi: PROBİS SAND.BİSK.10x28Gx12\n",
      "MAPE: 7.01\n",
      "------------\n",
      "------------\n",
      "Grup ismi: ŞOK\n",
      "Ürün ismi: 9 KAT TAT INCE INCE FIN.114Gx16\n",
      "MAPE: 4873660.17\n",
      "------------\n",
      "------------\n",
      "Grup ismi: ŞOK\n",
      "Ürün ismi: BİSKREM B.BOY RULO 150Gx18\n",
      "MAPE: 44.95\n",
      "------------\n",
      "------------\n",
      "Grup ismi: ŞOK\n",
      "Ürün ismi: RULOKAT TNK.KTU 250Gx6\n",
      "MAPE: 15.07\n",
      "------------\n",
      "------------\n",
      "Grup ismi: ŞOK\n",
      "Ürün ismi: DANKEK LOKMALIK KAK.180Gx8\n",
      "MAPE: 19.37\n",
      "------------\n",
      "------------\n",
      "Grup ismi: ŞOK\n",
      "Ürün ismi: ÇİZİ KR.70Gx24\n",
      "MAPE: 21.74\n",
      "------------\n",
      "------------\n",
      "Grup ismi: BİM\n",
      "Ürün ismi: KEKSTRA JÖLEBOL KEK ÇİLEK 35Gx24\n",
      "MAPE: 14.29\n",
      "------------\n",
      "------------\n",
      "Grup ismi: ŞOK\n",
      "Ürün ismi: KEKSTRA JÖLEBOL KEK ÇİLEK 35Gx24\n",
      "MAPE: 25.03\n",
      "------------\n",
      "------------\n",
      "Grup ismi: BİM\n",
      "Ürün ismi: ULK SADE ÇUBUK KR.32Gx36\n",
      "MAPE: 93.14\n",
      "------------\n",
      "------------\n",
      "Grup ismi: ŞOK\n",
      "Ürün ismi: ULK SADE ÇUBUK KR.32Gx36\n",
      "MAPE: 16.24\n",
      "------------\n"
     ]
    },
    {
     "data": {
      "text/plain": [
       "0.6060606060606061"
      ]
     },
     "execution_count": 40,
     "metadata": {},
     "output_type": "execute_result"
    }
   ],
   "source": [
    "analysis_mape_multiple()"
   ]
  },
  {
   "cell_type": "code",
   "execution_count": null,
   "metadata": {},
   "outputs": [],
   "source": []
  },
  {
   "cell_type": "code",
   "execution_count": null,
   "metadata": {},
   "outputs": [],
   "source": []
  },
  {
   "cell_type": "code",
   "execution_count": null,
   "metadata": {},
   "outputs": [],
   "source": []
  },
  {
   "cell_type": "code",
   "execution_count": 47,
   "metadata": {},
   "outputs": [],
   "source": [
    "df_g = df.groupby(['Kanal','date']).agg({'ACTUAL':'sum', 'PREDICT':'sum'})"
   ]
  },
  {
   "cell_type": "code",
   "execution_count": 51,
   "metadata": {},
   "outputs": [],
   "source": [
    "df_g = df_g.reset_index()"
   ]
  },
  {
   "cell_type": "code",
   "execution_count": null,
   "metadata": {},
   "outputs": [],
   "source": []
  },
  {
   "cell_type": "code",
   "execution_count": 60,
   "metadata": {},
   "outputs": [],
   "source": [
    "def analysis_kanal(kanal):\n",
    "    temp_df = df_g[(df_g[\"Kanal\"] == kanal)].reset_index(drop=True)\n",
    "    act_pred = temp_df[(temp_df[\"date\"] >= datetime(2021, 1, 1)) &\n",
    "    (temp_df[\"date\"] <= datetime(2021, 5, 1))][[\"ACTUAL\", \"PREDICT\"]]\n",
    "    ytrue = act_pred[\"ACTUAL\"]\n",
    "    yhat = act_pred[\"PREDICT\"]\n",
    "    mape = mean_absolute_percentage_error(ytrue, yhat)\n",
    "    print(\"-\"*12)\n",
    "    print(\"Kanal ismi:\", kanal)\n",
    "    print(f\"MAPE: {mape:.2f}\")\n",
    "    print(\"-\"*12)\n",
    "    print(\"\\n\")\n",
    "    print(temp_df[temp_df[\"date\"] >= datetime(2020, 10, 1)][[\"date\", \"ACTUAL\", \"PREDICT\"]])"
   ]
  },
  {
   "cell_type": "code",
   "execution_count": null,
   "metadata": {},
   "outputs": [],
   "source": []
  },
  {
   "cell_type": "code",
   "execution_count": null,
   "metadata": {},
   "outputs": [],
   "source": []
  },
  {
   "cell_type": "code",
   "execution_count": 64,
   "metadata": {},
   "outputs": [
    {
     "name": "stdout",
     "output_type": "stream",
     "text": [
      "------------\n",
      "Kanal ismi: pasifik\n",
      "MAPE: 11.13\n",
      "------------\n",
      "\n",
      "\n",
      "         date        ACTUAL       PREDICT\n",
      "57 2020-10-01  7.342510e+07  7.515750e+07\n",
      "58 2020-11-01  8.430427e+07  7.623347e+07\n",
      "59 2020-12-01  8.375434e+07  8.019163e+07\n",
      "60 2021-01-01  9.615228e+07  8.126894e+07\n",
      "61 2021-02-01  9.327704e+07  8.766753e+07\n",
      "62 2021-03-01  9.657554e+07  9.488915e+07\n",
      "63 2021-04-01  6.925931e+07  8.125138e+07\n",
      "64 2021-05-01  5.858847e+07  6.742819e+07\n",
      "65 2021-06-01  0.000000e+00  6.823593e+07\n",
      "66 2021-07-01  0.000000e+00  6.721312e+07\n",
      "67 2021-08-01  0.000000e+00  6.648517e+07\n",
      "68 2021-09-01  0.000000e+00  7.410192e+07\n",
      "69 2021-10-01  0.000000e+00  7.064298e+07\n",
      "70 2021-11-01  0.000000e+00  7.968826e+07\n",
      "71 2021-12-01  0.000000e+00  8.078813e+07\n",
      "72 2022-01-01  0.000000e+00  3.822505e+08\n"
     ]
    }
   ],
   "source": [
    "analysis_kanal(\"pasifik\")"
   ]
  },
  {
   "cell_type": "code",
   "execution_count": 65,
   "metadata": {},
   "outputs": [
    {
     "name": "stdout",
     "output_type": "stream",
     "text": [
      "------------\n",
      "Kanal ismi: horizon\n",
      "MAPE: 14.39\n",
      "------------\n",
      "\n",
      "\n",
      "         date        ACTUAL       PREDICT\n",
      "57 2020-10-01  9.492227e+07  9.094729e+07\n",
      "58 2020-11-01  9.619989e+07  9.299963e+07\n",
      "59 2020-12-01  1.098765e+08  9.217577e+07\n",
      "60 2021-01-01  1.003419e+08  1.057452e+08\n",
      "61 2021-02-01  8.932573e+07  9.463865e+07\n",
      "62 2021-03-01  1.052578e+08  1.034314e+08\n",
      "63 2021-04-01  6.416824e+07  8.103148e+07\n",
      "64 2021-05-01  5.056860e+07  6.706258e+07\n",
      "65 2021-06-01  0.000000e+00  6.699173e+07\n",
      "66 2021-07-01  0.000000e+00  6.378208e+07\n",
      "67 2021-08-01  0.000000e+00  6.812055e+07\n",
      "68 2021-09-01  0.000000e+00  7.020665e+07\n",
      "69 2021-10-01  0.000000e+00  7.188792e+07\n",
      "70 2021-11-01  0.000000e+00  7.248213e+07\n",
      "71 2021-12-01  0.000000e+00  7.692425e+07\n",
      "72 2022-01-01  0.000000e+00  3.463936e+08\n"
     ]
    }
   ],
   "source": [
    "analysis_kanal(\"horizon\")"
   ]
  },
  {
   "cell_type": "code",
   "execution_count": 66,
   "metadata": {},
   "outputs": [
    {
     "name": "stdout",
     "output_type": "stream",
     "text": [
      "------------\n",
      "Kanal ismi: btt\n",
      "MAPE: 14.42\n",
      "------------\n",
      "\n",
      "\n",
      "         date        ACTUAL       PREDICT\n",
      "57 2020-10-01  1.593975e+07  1.662175e+07\n",
      "58 2020-11-01  2.445912e+07  2.033138e+07\n",
      "59 2020-12-01  1.714258e+07  1.809119e+07\n",
      "60 2021-01-01  2.324388e+07  2.217454e+07\n",
      "61 2021-02-01  2.262189e+07  2.043638e+07\n",
      "62 2021-03-01  2.403769e+07  2.166229e+07\n",
      "63 2021-04-01  1.792665e+07  1.879187e+07\n",
      "64 2021-05-01  1.236104e+07  1.769008e+07\n",
      "65 2021-06-01  0.000000e+00  1.852664e+07\n",
      "66 2021-07-01  0.000000e+00  1.895224e+07\n",
      "67 2021-08-01  0.000000e+00  1.888757e+07\n",
      "68 2021-09-01  0.000000e+00  1.768784e+07\n",
      "69 2021-10-01  0.000000e+00  1.778137e+07\n",
      "70 2021-11-01  0.000000e+00  1.869802e+07\n",
      "71 2021-12-01  0.000000e+00  1.848803e+07\n",
      "72 2022-01-01  0.000000e+00  9.347772e+07\n"
     ]
    }
   ],
   "source": [
    "analysis_kanal(\"btt\")"
   ]
  }
 ],
 "metadata": {
  "kernelspec": {
   "display_name": "Python 3",
   "language": "python",
   "name": "python3"
  },
  "language_info": {
   "codemirror_mode": {
    "name": "ipython",
    "version": 3
   },
   "file_extension": ".py",
   "mimetype": "text/x-python",
   "name": "python",
   "nbconvert_exporter": "python",
   "pygments_lexer": "ipython3",
   "version": "3.8.5"
  }
 },
 "nbformat": 4,
 "nbformat_minor": 4
}
