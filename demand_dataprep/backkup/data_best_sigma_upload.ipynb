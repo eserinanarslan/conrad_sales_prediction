{
 "cells": [
  {
   "cell_type": "code",
   "execution_count": 1,
   "metadata": {},
   "outputs": [],
   "source": [
    "import pandas as pd\n",
    "from datetime import datetime\n",
    "import numpy as np\n",
    "import swat\n",
    "pd.set_option(\"display.max_rows\", 100)\n",
    "pd.set_option(\"display.max_columns\", 100)"
   ]
  },
  {
   "cell_type": "raw",
   "metadata": {},
   "source": [
    "hor_aktivite = pd.read_excel(\"../data/Demand Sensing Saha Aktivite 2021 (6-7)_30_7136332634640595575.xlsx\", skiprows=1, usecols=\"B:M\")\n",
    "pas_aktivite = pd.read_excel(\"../data/Pasifik Aktivite Datası (2018-2021) (Aktivite Tipi Eklenmiş).xlsx\")\n",
    "pas_aktivite = pas_aktivite[[\"Yıl\", \"Ay\", \"Müşteri Grup\", \"Ürün Kodu\", \"İndirim %\", \"Aktivite Tipi\"]]\n",
    "hor_aktivite = hor_aktivite[[\"Yıl\", \"Ay\", \"Saha Müşteri Grup\", \"Ürün Kodu\", \"İskonto %\"]]\n",
    "\n",
    "chng_col_names = {\"Yıl\": \"yil\", \"Ay\": \"ay\", \"Müşteri Grup\": \"grup_adi\", \"Saha Müşteri Grup\": \"grup_adi\", \"Ürün Kodu\": \"en_guncel_kod\", \n",
    "                 \"İndirim %\": \"indirim\", \"İskonto %\": \"indirim\", \"Aktivite Tipi\": \"aktivite_tipi\"}\n",
    "pas_aktivite.rename(columns=chng_col_names, inplace=True)\n",
    "hor_aktivite.rename(columns=chng_col_names, inplace=True)\n",
    "hor_aktivite[\"aktivite_tipi\"] = \"Yok\"\n",
    "pas_aktivite[\"grup_adi\"] = pas_aktivite[\"grup_adi\"].apply(lambda x: \"Diğer_Pasifik\" if x == \"Diğer\" else x)\n",
    "hor_aktivite[\"grup_adi\"] = hor_aktivite[\"grup_adi\"].apply(lambda x: \"Diğer_Horizon\" if x == \"Diğer\" else x)\n",
    "\n",
    "hor_aktivite[\"indirim\"] = hor_aktivite[\"indirim\"].apply(lambda x: 0 if x == \"#DIV/0\" else x)\n",
    "pas_aktivite[\"indirim\"] = pas_aktivite[\"indirim\"].apply(lambda x: 0 if x == \"#DIV/0\" else x)\n",
    "hor_aktivite[\"indirim\"] = hor_aktivite[\"indirim\"].astype(float)\n",
    "pas_aktivite[\"indirim\"] = pas_aktivite[\"indirim\"].astype(float)\n",
    "\n",
    "pas_aktivite[\"indirim\"] = [0 if akt < 0 else akt for akt in pas_aktivite[\"indirim\"]]\n",
    "hor_aktivite[\"indirim\"] = [0 if ((akt >= 0.35) or (akt <=0.01)) else akt for akt in hor_aktivite[\"indirim\"]]\n",
    "\n",
    "pas_aktivite[\"tarih\"] = pd.to_datetime(pas_aktivite[\"yil\"].astype(str) + \"-\" + pas_aktivite[\"ay\"].astype(str) + \"-01\")\n",
    "hor_aktivite[\"tarih\"] = pd.to_datetime(hor_aktivite[\"yil\"].astype(str) + \"-\" + hor_aktivite[\"ay\"].astype(str) + \"-01\")\n",
    "\n",
    "pas_aktivite = pas_aktivite[pas_aktivite[\"tarih\"] > datetime(2021, 5, 1)].reset_index(drop=True)"
   ]
  },
  {
   "cell_type": "raw",
   "metadata": {},
   "source": [
    "indirim_reverse = {-1: \"0\",\n",
    "                   0: \"%0 - %1\",\n",
    "                   1: \"%1 - %2\",\n",
    "                   2: \"%2 - %3\",\n",
    "                   3: \"%3 - %4\",\n",
    "                   4: \"%4 - %5\",\n",
    "                   5: \"%5 - %6\",\n",
    "                   6: \"%6 - %7\",\n",
    "                   7: \"%7 - %8\",\n",
    "                   8: \"%8 - %9\",\n",
    "                   9: \"%9 - %10\",\n",
    "                   10: \"%10 - %15\",\n",
    "                   11: \"%15 - max\"}"
   ]
  },
  {
   "cell_type": "raw",
   "metadata": {},
   "source": [
    "akt_all = pd.concat([pas_aktivite, hor_aktivite], axis=0, ignore_index=True)\n",
    "akt_all[\"aktivite_tipi\"] = akt_all[\"aktivite_tipi\"].apply(lambda x: \"In&Out\" if x == \"İn&out\" else x)\n",
    "\n",
    "indirim_bins = [0, 0.01, 0.02, 0.03, 0.04, 0.05, \n",
    "                0.06, 0.07, 0.08, 0.09, 0.10, \n",
    "                0.15, akt_all.indirim.max()+1]\n",
    "akt_all['indirim__bins'] = pd.cut(akt_all.indirim, indirim_bins).cat.codes\n",
    "akt_all[\"indirim_yuzdesi_new\"] = akt_all[\"indirim__bins\"].map(indirim_reverse)\n",
    "akt_all[\"aktivite_tipi_new\"] = akt_all[\"aktivite_tipi\"]\n",
    "akt_all.drop([\"yil\", \"ay\", \"indirim__bins\", \"indirim\", \"aktivite_tipi\"], axis=1, inplace=True)\n",
    "akt_all.drop_duplicates(subset=[\"grup_adi\", \"en_guncel_kod\", \"tarih\"], ignore_index=True, inplace=True)"
   ]
  },
  {
   "cell_type": "raw",
   "metadata": {},
   "source": [
    "# Sigma 1,5"
   ]
  },
  {
   "cell_type": "raw",
   "metadata": {},
   "source": [
    "data_analysis = pd.read_excel(\"../results/36_12_siparis/Tahmin Sonuçları (Tüm Kombinasyonlar)_final_sigma1_5.xlsx\")\n",
    "data_analysis = data_analysis[~(data_analysis[\"urun_adi\"].str.contains(\"TÜM\"))].reset_index(drop=True)"
   ]
  },
  {
   "cell_type": "raw",
   "metadata": {},
   "source": [
    "data_analysis = data_analysis.merge(akt_all, how=\"left\")\n",
    "\n",
    "data_analysis_var = data_analysis[~(data_analysis[\"indirim_yuzdesi_new\"].isna())]\n",
    "data_analysis_yok = data_analysis[(data_analysis[\"indirim_yuzdesi_new\"].isna())]\n",
    "data_analysis_yok = data_analysis_yok[(data_analysis_yok[\"indirim_yuzdesi\"] == \"0\") & (data_analysis_yok[\"aktivite_tipi\"] == \"Yok\")]"
   ]
  },
  {
   "cell_type": "raw",
   "metadata": {},
   "source": [
    "idx_to_keep = []\n",
    "for idx in data_analysis_var.index:\n",
    "    if (data_analysis_var[\"aktivite_tipi\"][idx] == data_analysis_var[\"aktivite_tipi_new\"][idx]) and (data_analysis_var[\"indirim_yuzdesi\"][idx] == data_analysis_var[\"indirim_yuzdesi_new\"][idx]):\n",
    "        idx_to_keep.append(idx)\n",
    "    else:\n",
    "        pass\n",
    "\n",
    "data_analysis_var = data_analysis_var[data_analysis_var.index.isin(idx_to_keep)]\n",
    "data_analysis_final = pd.concat([data_analysis_var, data_analysis_yok], ignore_index=True)\n",
    "data_analysis_final.drop(columns=[\"gerceklesen_satis_adedi\", \"tahmin_adet\", \"tahmin_ust_sinir\", \"tahmin_alt_sinir\", \n",
    "                                  \"koli_ici_adet\", \"kg_unit\", \"tl_unit\", \"kg\", \"tl\", \"tahmin_koli_alt_sinir\", \n",
    "                                  \"tahmin_koli_ust_sinir\", \"indirim_yuzdesi_new\", \"aktivite_tipi_new\"], axis=1, inplace=True)"
   ]
  },
  {
   "cell_type": "raw",
   "metadata": {},
   "source": [
    "chgn_names = {'tarih': \"Tarih\",\n",
    "              'kanal': \"Kanal\",\n",
    "              'grup_adi': \"Grup Adı\",\n",
    "              'en_guncel_kod': \"En Güncel Kod\",\n",
    "              'tahmin_koli': \"Tahmin Koli\",\n",
    "              'gerceklesen_koli': \"Gercekleşen Koli\",\n",
    "              'indirim_yuzdesi': \"İndirim Yüzdesi\",\n",
    "              'aktivite_tipi': \"Aktivite Tipi\",\n",
    "              'tahmin_sapmasi': \"Tahmin Sapması\",\n",
    "              'mape': \"MAPE\",\n",
    "              'tahmin_edilme_yontemi': \"Tahmin Edilme Yöntemi\"}\n",
    "\n",
    "data_analysis_final = data_analysis_final[['tarih',\n",
    "                                           'kanal',\n",
    "                                           'grup_adi',\n",
    "                                           'en_guncel_kod',\n",
    "                                           'tahmin_koli',\n",
    "                                           'gerceklesen_koli',\n",
    "                                           'indirim_yuzdesi',\n",
    "                                           'aktivite_tipi',\n",
    "                                           'tahmin_sapmasi',\n",
    "                                           'mape',\n",
    "                                           'tahmin_edilme_yontemi',\n",
    "                                           'datanin_etiketlendigi_algorit']]"
   ]
  },
  {
   "cell_type": "raw",
   "metadata": {},
   "source": [
    "data_analysis_final.rename(columns=chgn_names, inplace=True)\n",
    "data_analysis_final.sort_values(by=[\"Kanal\", \"Grup Adı\", \"En Güncel Kod\", \"Tarih\"], ascending=[False, True, True, True], ignore_index=True, inplace=True)\n",
    "data_analysis_final.to_excel(\"../results/36_12_siparis/final_sigma1_5.xlsx\", index=False, sheet_name=\"Predictions\")"
   ]
  },
  {
   "cell_type": "raw",
   "metadata": {},
   "source": [
    "# Sigma 1,75"
   ]
  },
  {
   "cell_type": "raw",
   "metadata": {},
   "source": [
    "data_analysis = pd.read_excel(\"../results/36_12_siparis/Tahmin Sonuçları (Tüm Kombinasyonlar)_final_sigma1_75.xlsx\")\n",
    "data_analysis = data_analysis[~(data_analysis[\"urun_adi\"].str.contains(\"TÜM\"))].reset_index(drop=True)"
   ]
  },
  {
   "cell_type": "raw",
   "metadata": {},
   "source": [
    "data_analysis = data_analysis.merge(akt_all, how=\"left\")\n",
    "\n",
    "data_analysis_var = data_analysis[~(data_analysis[\"indirim_yuzdesi_new\"].isna())]\n",
    "data_analysis_yok = data_analysis[(data_analysis[\"indirim_yuzdesi_new\"].isna())]\n",
    "data_analysis_yok = data_analysis_yok[(data_analysis_yok[\"indirim_yuzdesi\"] == \"0\") & (data_analysis_yok[\"aktivite_tipi\"] == \"Yok\")]"
   ]
  },
  {
   "cell_type": "raw",
   "metadata": {},
   "source": [
    "idx_to_keep = []\n",
    "for idx in data_analysis_var.index:\n",
    "    if (data_analysis_var[\"aktivite_tipi\"][idx] == data_analysis_var[\"aktivite_tipi_new\"][idx]) and (data_analysis_var[\"indirim_yuzdesi\"][idx] == data_analysis_var[\"indirim_yuzdesi_new\"][idx]):\n",
    "        idx_to_keep.append(idx)\n",
    "    else:\n",
    "        pass\n",
    "\n",
    "data_analysis_var = data_analysis_var[data_analysis_var.index.isin(idx_to_keep)]\n",
    "data_analysis_final = pd.concat([data_analysis_var, data_analysis_yok], ignore_index=True)\n",
    "data_analysis_final.drop(columns=[\"gerceklesen_satis_adedi\", \"tahmin_adet\", \"tahmin_ust_sinir\", \"tahmin_alt_sinir\", \n",
    "                                  \"koli_ici_adet\", \"kg_unit\", \"tl_unit\", \"kg\", \"tl\", \"tahmin_koli_alt_sinir\", \n",
    "                                  \"tahmin_koli_ust_sinir\", \"indirim_yuzdesi_new\", \"aktivite_tipi_new\"], axis=1, inplace=True)"
   ]
  },
  {
   "cell_type": "raw",
   "metadata": {},
   "source": [
    "chgn_names = {'tarih': \"Tarih\",\n",
    "              'kanal': \"Kanal\",\n",
    "              'grup_adi': \"Grup Adı\",\n",
    "              'en_guncel_kod': \"En Güncel Kod\",\n",
    "              'tahmin_koli': \"Tahmin Koli\",\n",
    "              'gerceklesen_koli': \"Gercekleşen Koli\",\n",
    "              'indirim_yuzdesi': \"İndirim Yüzdesi\",\n",
    "              'aktivite_tipi': \"Aktivite Tipi\",\n",
    "              'tahmin_sapmasi': \"Tahmin Sapması\",\n",
    "              'mape': \"MAPE\",\n",
    "              'tahmin_edilme_yontemi': \"Tahmin Edilme Yöntemi\"}\n",
    "\n",
    "data_analysis_final = data_analysis_final[['tarih',\n",
    "                                           'kanal',\n",
    "                                           'grup_adi',\n",
    "                                           'en_guncel_kod',\n",
    "                                           'tahmin_koli',\n",
    "                                           'gerceklesen_koli',\n",
    "                                           'indirim_yuzdesi',\n",
    "                                           'aktivite_tipi',\n",
    "                                           'tahmin_sapmasi',\n",
    "                                           'mape',\n",
    "                                           'tahmin_edilme_yontemi',\n",
    "                                           'datanin_etiketlendigi_algorit']]"
   ]
  },
  {
   "cell_type": "raw",
   "metadata": {},
   "source": [
    "data_analysis_final.rename(columns=chgn_names, inplace=True)\n",
    "data_analysis_final.sort_values(by=[\"Kanal\", \"Grup Adı\", \"En Güncel Kod\", \"Tarih\"], ascending=[False, True, True, True], ignore_index=True, inplace=True)\n",
    "data_analysis_final.to_excel(\"../results/36_12_siparis/final_sigma1_75.xlsx\", index=False, sheet_name=\"Predictions\")"
   ]
  },
  {
   "cell_type": "markdown",
   "metadata": {},
   "source": [
    "# DWH Data Best Yükleme"
   ]
  },
  {
   "cell_type": "code",
   "execution_count": 2,
   "metadata": {},
   "outputs": [],
   "source": [
    "col_list = ['tarih',\n",
    "            'kanal',\n",
    "            'grup_adi',\n",
    "            'ana_kategori_adi',\n",
    "            'kategori_adi',\n",
    "            'marka_adi',\n",
    "            'urun_adi',\n",
    "            'en_guncel_kod',\n",
    "            'gerceklesen_satis_adedi',\n",
    "            'tahmin_adet',\n",
    "            'tahmin_ust_sinir',\n",
    "            'tahmin_alt_sinir',\n",
    "            'koli_ici_adet',\n",
    "            'tahmin_koli',\n",
    "            'mape',\n",
    "            'gerceklesen_koli',\n",
    "            'indirim_yuzdesi',\n",
    "            'aktivite_tipi',\n",
    "            'tahmin_edilme_yontemi',\n",
    "            'datanin_etiketlendigi_algorit',\n",
    "            'tahmin_sapmasi',\n",
    "            'kg_unit',\n",
    "            'tl_unit',\n",
    "            'kg',\n",
    "            'tl',\n",
    "            'tahmin_koli_alt_sinir',\n",
    "            'tahmin_koli_ust_sinir',\n",
    "            'aktivite_etkisi',\n",
    "            'from']"
   ]
  },
  {
   "cell_type": "code",
   "execution_count": 3,
   "metadata": {},
   "outputs": [],
   "source": [
    "sigma1_5_raw = pd.read_excel(\"../results/36_12_siparis/Tahmin Sonuçları (Tüm Kombinasyonlar)_final_sigma1_5.xlsx\")\n",
    "sigma1_75_raw = pd.read_excel(\"../results/36_12_siparis/Tahmin Sonuçları (Tüm Kombinasyonlar)_final_sigma1_75.xlsx\")\n",
    "sigma2_0_raw = pd.read_excel(\"../results/36_12_siparis/Tahmin Sonuçları (Tüm Kombinasyonlar)_final_sigma2_0.xlsx\")"
   ]
  },
  {
   "cell_type": "code",
   "execution_count": 4,
   "metadata": {},
   "outputs": [],
   "source": [
    "sigma1_5 = sigma1_5_raw.copy()\n",
    "sigma1_75 = sigma1_75_raw.copy()\n",
    "sigma2_0 = sigma2_0_raw.copy()"
   ]
  },
  {
   "cell_type": "code",
   "execution_count": 5,
   "metadata": {},
   "outputs": [],
   "source": [
    "sigma1_5 = sigma1_5[~(sigma1_5[\"urun_adi\"].str.contains(\"TÜM\"))].reset_index(drop=True)\n",
    "sigma1_75 = sigma1_75[~(sigma1_75[\"urun_adi\"].str.contains(\"TÜM\"))].reset_index(drop=True)\n",
    "sigma2_0 = sigma2_0[~(sigma2_0[\"urun_adi\"].str.contains(\"TÜM\"))].reset_index(drop=True)"
   ]
  },
  {
   "cell_type": "code",
   "execution_count": 6,
   "metadata": {},
   "outputs": [],
   "source": [
    "sigma_map = pd.read_excel(\"../reports/_Demand Sensing 4 Aylık Tahmin 10072021_mostdx.xlsx\", sheet_name=\"sigma_map\")\n",
    "sigma_map.rename(columns={\"Kanal\": \"kanal\", \"En Güncel Kod\": \"en_guncel_kod\"}, inplace=True)"
   ]
  },
  {
   "cell_type": "code",
   "execution_count": 7,
   "metadata": {},
   "outputs": [],
   "source": [
    "sigma1_5 = sigma1_5.merge(sigma_map, how=\"left\")"
   ]
  },
  {
   "cell_type": "code",
   "execution_count": 8,
   "metadata": {},
   "outputs": [],
   "source": [
    "sigma1_75 = sigma1_75.merge(sigma_map, how=\"left\")"
   ]
  },
  {
   "cell_type": "code",
   "execution_count": 9,
   "metadata": {},
   "outputs": [],
   "source": [
    "sigma2_0 = sigma2_0.merge(sigma_map, how=\"left\")"
   ]
  },
  {
   "cell_type": "code",
   "execution_count": 10,
   "metadata": {},
   "outputs": [],
   "source": [
    "sigma1_5 = sigma1_5[sigma1_5[\"type\"] == \"sigma1,5\"]\n",
    "sigma1_75 = sigma1_75[sigma1_75[\"type\"] == \"sigma1,75\"]\n",
    "sigma2_0 = sigma2_0[sigma2_0[\"type\"] == \"sigma2,0\"]"
   ]
  },
  {
   "cell_type": "code",
   "execution_count": 11,
   "metadata": {},
   "outputs": [],
   "source": [
    "final_data_with_june_sadece_predictionlar3 = pd.concat([sigma1_5, sigma1_75, sigma2_0], ignore_index=True)\n",
    "final_data_with_june_sadece_predictionlar3.drop([\"type\", \"tl_unit\", \"kg_unit\", \"tl\", \"kg\"], axis=1, inplace=True)"
   ]
  },
  {
   "cell_type": "code",
   "execution_count": 12,
   "metadata": {},
   "outputs": [],
   "source": [
    "final_data_with_june_sadece_predictionlar3[\"from\"] = \"row\""
   ]
  },
  {
   "cell_type": "code",
   "execution_count": 13,
   "metadata": {},
   "outputs": [],
   "source": [
    "fiyat_df = pd.read_csv(\"../data/fiyat_list.csv\")\n",
    "fiyat_df = fiyat_df.drop_duplicates(subset=[\"en_guncel_kod\"], keep=\"last\")\n",
    "fiyat_df = fiyat_df[[\"en_guncel_kod\", \"fiyat\"]]\n",
    "fiyat_df.rename(columns={\"fiyat\": \"tl_unit\"}, inplace=True)"
   ]
  },
  {
   "cell_type": "code",
   "execution_count": 14,
   "metadata": {},
   "outputs": [],
   "source": [
    "koli_agirlik_df = pd.read_excel(\"../data/koli_birim_agirliklari.xls\")\n",
    "koli_agirlik_df = koli_agirlik_df.drop_duplicates(subset=[\"Malzeme\"], ignore_index=True)\n",
    "koli_agirlik_df = koli_agirlik_df[[\"Malzeme\", \"Net Ağırlık\"]]\n",
    "koli_agirlik_df.rename(columns={\"Malzeme\": \"en_guncel_kod\", \"Net Ağırlık\": \"kg_unit\"}, inplace=True)"
   ]
  },
  {
   "cell_type": "code",
   "execution_count": 15,
   "metadata": {},
   "outputs": [],
   "source": [
    "final_data_with_june_sadece_predictionlar3 = final_data_with_june_sadece_predictionlar3.merge(fiyat_df, how=\"left\")\n",
    "final_data_with_june_sadece_predictionlar3 = final_data_with_june_sadece_predictionlar3.merge(koli_agirlik_df, how=\"left\")"
   ]
  },
  {
   "cell_type": "code",
   "execution_count": 16,
   "metadata": {},
   "outputs": [],
   "source": [
    "final_data_with_june_sadece_predictionlar3[\"kg\"] = final_data_with_june_sadece_predictionlar3[\"tahmin_koli\"] * final_data_with_june_sadece_predictionlar3[\"kg_unit\"]\n",
    "final_data_with_june_sadece_predictionlar3[\"tl\"] = final_data_with_june_sadece_predictionlar3[\"tahmin_koli\"] * final_data_with_june_sadece_predictionlar3[\"tl_unit\"]\n",
    "final_data_with_june_sadece_predictionlar3 = final_data_with_june_sadece_predictionlar3[col_list]"
   ]
  },
  {
   "cell_type": "code",
   "execution_count": 17,
   "metadata": {},
   "outputs": [],
   "source": [
    "kanal_all = final_data_with_june_sadece_predictionlar3.groupby([\"tarih\", \"kanal\", \"indirim_yuzdesi\", \"aktivite_tipi\"]).sum().reset_index()\n",
    "kanal_all[\"grup_adi\"] = \"TÜM GRUPLAR\"\n",
    "kanal_all[\"ana_kategori_adi\"] = \"TÜM ANA KATEGORİLER\"\n",
    "kanal_all[\"kategori_adi\"] = \"TÜM KATEGORİLER\"\n",
    "kanal_all[\"marka_adi\"] = \"TÜM MARKALAR\"\n",
    "kanal_all[\"en_guncel_kod\"] = \"TÜM SKULAR\"\n",
    "kanal_all[\"urun_adi\"] = \"TÜM ÜRÜNLER\"\n",
    "kanal_all[\"tahmin_edilme_yontemi\"] = \"N/A\"\n",
    "kanal_all[\"datanin_etiketlendigi_algorit\"] = \"N/A\"\n",
    "kanal_all[\"aktivite_etkisi\"] = \"Var\""
   ]
  },
  {
   "cell_type": "code",
   "execution_count": 18,
   "metadata": {},
   "outputs": [],
   "source": [
    "kanal_all[\"from\"] = \"kanal_all\""
   ]
  },
  {
   "cell_type": "code",
   "execution_count": 19,
   "metadata": {},
   "outputs": [],
   "source": [
    "grup_all = final_data_with_june_sadece_predictionlar3.groupby([\"tarih\", \"kanal\", \"grup_adi\", \"indirim_yuzdesi\", \"aktivite_tipi\"]).sum().reset_index()\n",
    "grup_all[\"ana_kategori_adi\"] = \"TÜM ANA KATEGORİLER\"\n",
    "grup_all[\"kategori_adi\"] = \"TÜM KATEGORİLER\"\n",
    "grup_all[\"marka_adi\"] = \"TÜM MARKALAR\"\n",
    "grup_all[\"en_guncel_kod\"] = \"TÜM SKULAR\"\n",
    "grup_all[\"urun_adi\"] = \"TÜM ÜRÜNLER\"\n",
    "grup_all[\"tahmin_edilme_yontemi\"] = \"N/A\"\n",
    "grup_all[\"datanin_etiketlendigi_algorit\"] = \"N/A\"\n",
    "grup_all[\"aktivite_etkisi\"] = \"Var\""
   ]
  },
  {
   "cell_type": "code",
   "execution_count": 20,
   "metadata": {},
   "outputs": [],
   "source": [
    "grup_all[\"from\"] = \"grup_all\""
   ]
  },
  {
   "cell_type": "code",
   "execution_count": 21,
   "metadata": {},
   "outputs": [],
   "source": [
    "kontrol = final_data_with_june_sadece_predictionlar3.groupby([\"tarih\", \"kanal\", \"grup_adi\", \"ana_kategori_adi\", \"indirim_yuzdesi\", \"aktivite_tipi\"]).agg({\"kategori_adi\": \"nunique\"}).reset_index()\n",
    "idx_delete = kontrol[kontrol[\"kategori_adi\"] == 1].index"
   ]
  },
  {
   "cell_type": "code",
   "execution_count": 22,
   "metadata": {},
   "outputs": [],
   "source": [
    "ana_kategori_all = final_data_with_june_sadece_predictionlar3.groupby([\"tarih\", \"kanal\", \"grup_adi\", \"ana_kategori_adi\", \"indirim_yuzdesi\", \"aktivite_tipi\"]).sum().reset_index()\n",
    "ana_kategori_all[\"kategori_adi\"] = \"TÜM KATEGORİLER\"\n",
    "ana_kategori_all[\"marka_adi\"] = \"TÜM MARKALAR\"\n",
    "ana_kategori_all[\"en_guncel_kod\"] = \"TÜM SKULAR\"\n",
    "ana_kategori_all[\"urun_adi\"] = \"TÜM ÜRÜNLER\"\n",
    "ana_kategori_all[\"tahmin_edilme_yontemi\"] = \"N/A\"\n",
    "ana_kategori_all[\"datanin_etiketlendigi_algorit\"] = \"N/A\"\n",
    "ana_kategori_all[\"aktivite_etkisi\"] = \"Var\""
   ]
  },
  {
   "cell_type": "code",
   "execution_count": 23,
   "metadata": {},
   "outputs": [],
   "source": [
    "ana_kategori_all = ana_kategori_all[~(ana_kategori_all.index.isin(idx_delete))]\n",
    "ana_kategori_all[\"from\"] = \"ana_kategori_all\""
   ]
  },
  {
   "cell_type": "code",
   "execution_count": 24,
   "metadata": {},
   "outputs": [],
   "source": [
    "kontrol = final_data_with_june_sadece_predictionlar3.groupby([\"tarih\", \"kanal\", \"grup_adi\", \"ana_kategori_adi\", \n",
    "                                                              \"kategori_adi\", \"indirim_yuzdesi\", \"aktivite_tipi\"]).agg({\"marka_adi\": \"nunique\"}).reset_index()\n",
    "idx_delete = kontrol[kontrol[\"marka_adi\"] == 1].index"
   ]
  },
  {
   "cell_type": "code",
   "execution_count": 25,
   "metadata": {},
   "outputs": [],
   "source": [
    "kategori_all = final_data_with_june_sadece_predictionlar3.groupby([\"tarih\", \"kanal\", \"grup_adi\", \"ana_kategori_adi\", \n",
    "                                                                   \"kategori_adi\", \"indirim_yuzdesi\", \"aktivite_tipi\"]).sum().reset_index()\n",
    "\n",
    "kategori_all[\"marka_adi\"] = \"TÜM MARKALAR\"\n",
    "kategori_all[\"en_guncel_kod\"] = \"TÜM SKULAR\"\n",
    "kategori_all[\"urun_adi\"] = \"TÜM ÜRÜNLER\"\n",
    "kategori_all[\"tahmin_edilme_yontemi\"] = \"N/A\"\n",
    "kategori_all[\"datanin_etiketlendigi_algorit\"] = \"N/A\"\n",
    "kategori_all[\"aktivite_etkisi\"] = \"Var\""
   ]
  },
  {
   "cell_type": "code",
   "execution_count": 26,
   "metadata": {},
   "outputs": [],
   "source": [
    "kategori_all = kategori_all[~(kategori_all.index.isin(idx_delete))]\n",
    "kategori_all[\"from\"] = \"kategori_all\""
   ]
  },
  {
   "cell_type": "code",
   "execution_count": 27,
   "metadata": {},
   "outputs": [],
   "source": [
    "kontrol = final_data_with_june_sadece_predictionlar3.groupby([\"tarih\", \"kanal\", \"grup_adi\", \"ana_kategori_adi\", \n",
    "                                                              \"kategori_adi\", \"marka_adi\", \"indirim_yuzdesi\", \"aktivite_tipi\"]).agg({\"en_guncel_kod\": \"nunique\"}).reset_index()\n",
    "idx_delete = kontrol[kontrol[\"en_guncel_kod\"] == 1].index"
   ]
  },
  {
   "cell_type": "code",
   "execution_count": 28,
   "metadata": {},
   "outputs": [],
   "source": [
    "marka_all = final_data_with_june_sadece_predictionlar3.groupby([\"tarih\", \"kanal\", \"grup_adi\", \"ana_kategori_adi\", \n",
    "                                                                \"kategori_adi\", \"marka_adi\", \"indirim_yuzdesi\", \"aktivite_tipi\"]).sum().reset_index()\n",
    "\n",
    "marka_all[\"en_guncel_kod\"] = \"TÜM SKULAR\"\n",
    "marka_all[\"urun_adi\"] = \"TÜM ÜRÜNLER\"\n",
    "marka_all[\"tahmin_edilme_yontemi\"] = \"N/A\"\n",
    "marka_all[\"datanin_etiketlendigi_algorit\"] = \"N/A\"\n",
    "marka_all[\"aktivite_etkisi\"] = \"Var\""
   ]
  },
  {
   "cell_type": "code",
   "execution_count": 29,
   "metadata": {},
   "outputs": [],
   "source": [
    "marka_all = marka_all[~(marka_all.index.isin(idx_delete))]\n",
    "marka_all[\"from\"] = \"marka_all\""
   ]
  },
  {
   "cell_type": "markdown",
   "metadata": {},
   "source": [
    "# Hiyerarşik detay kırılımları ile"
   ]
  },
  {
   "cell_type": "code",
   "execution_count": 30,
   "metadata": {},
   "outputs": [],
   "source": [
    "grup_detail = []\n",
    "for idx in final_data_with_june_sadece_predictionlar3.grup_adi.unique():\n",
    "    tmp = final_data_with_june_sadece_predictionlar3[final_data_with_june_sadece_predictionlar3[\"grup_adi\"] == idx]\n",
    "    tmp = tmp.groupby([\"tarih\", \"kanal\", \"grup_adi\", \"indirim_yuzdesi\", \"aktivite_tipi\"]).sum().reset_index()\n",
    "    tmp[\"ana_kategori_adi\"] = \"TÜM ANA KATEGORİLER\"\n",
    "    tmp[\"kategori_adi\"] = \"TÜM KATEGORİLER\"\n",
    "    tmp[\"marka_adi\"] = \"TÜM MARKALAR\"\n",
    "    tmp[\"en_guncel_kod\"] = \"TÜM SKULAR\"\n",
    "    tmp[\"urun_adi\"] = \"TÜM ÜRÜNLER\"\n",
    "    tmp[\"tahmin_edilme_yontemi\"] = \"N/A\"\n",
    "    tmp[\"datanin_etiketlendigi_algorit\"] = \"N/A\"\n",
    "    tmp[\"aktivite_etkisi\"] = \"Var\"\n",
    "    grup_detail.append(tmp)\n",
    "grup_detail = pd.concat(grup_detail, ignore_index=True)"
   ]
  },
  {
   "cell_type": "code",
   "execution_count": 31,
   "metadata": {},
   "outputs": [],
   "source": [
    "grup_detail[\"from\"] = \"grup_detail\""
   ]
  },
  {
   "cell_type": "code",
   "execution_count": 32,
   "metadata": {},
   "outputs": [],
   "source": [
    "ana_kategori_detail = []\n",
    "for idx in final_data_with_june_sadece_predictionlar3.ana_kategori_adi.unique():\n",
    "    tmp = final_data_with_june_sadece_predictionlar3[final_data_with_june_sadece_predictionlar3[\"ana_kategori_adi\"] == idx]\n",
    "    kontrol = tmp.groupby([\"tarih\", \"kanal\", \"grup_adi\", \"ana_kategori_adi\", \"indirim_yuzdesi\", \"aktivite_tipi\"]).agg({\"kategori_adi\": \"nunique\"}).reset_index().kategori_adi.unique()[0]\n",
    "    tmp = tmp.groupby([\"tarih\", \"kanal\", \"grup_adi\", \"ana_kategori_adi\", \"indirim_yuzdesi\", \"aktivite_tipi\"]).sum().reset_index()\n",
    "    if kontrol == 1:\n",
    "        pass\n",
    "    else:\n",
    "        tmp[\"kategori_adi\"] = \"TÜM KATEGORİLER\"\n",
    "        tmp[\"marka_adi\"] = \"TÜM MARKALAR\"\n",
    "        tmp[\"en_guncel_kod\"] = \"TÜM SKULAR\"\n",
    "        tmp[\"urun_adi\"] = \"TÜM ÜRÜNLER\"\n",
    "        tmp[\"tahmin_edilme_yontemi\"] = \"N/A\"\n",
    "        tmp[\"datanin_etiketlendigi_algorit\"] = \"N/A\"\n",
    "        tmp[\"aktivite_etkisi\"] = \"Var\"\n",
    "        ana_kategori_detail.append(tmp)\n",
    "ana_kategori_detail = pd.concat(ana_kategori_detail, ignore_index=True)"
   ]
  },
  {
   "cell_type": "code",
   "execution_count": 33,
   "metadata": {},
   "outputs": [],
   "source": [
    "ana_kategori_detail[\"from\"] = \"ana_kategori_detail\""
   ]
  },
  {
   "cell_type": "code",
   "execution_count": 34,
   "metadata": {},
   "outputs": [],
   "source": [
    "liste = final_data_with_june_sadece_predictionlar3.drop_duplicates(subset=[\"kanal\", \"grup_adi\", \"ana_kategori_adi\", \"kategori_adi\"])[[\"kanal\", \"grup_adi\", \"ana_kategori_adi\", \"kategori_adi\"]].reset_index(drop=True)\n",
    "kategori_detail = []\n",
    "for idx in liste.index:\n",
    "    tmp = final_data_with_june_sadece_predictionlar3[(final_data_with_june_sadece_predictionlar3[\"kanal\"] == liste[\"kanal\"][idx]) & \n",
    "                                                     (final_data_with_june_sadece_predictionlar3[\"grup_adi\"] == liste[\"grup_adi\"][idx]) & \n",
    "                                                     (final_data_with_june_sadece_predictionlar3[\"ana_kategori_adi\"] == liste[\"ana_kategori_adi\"][idx]) & \n",
    "                                                     (final_data_with_june_sadece_predictionlar3[\"kategori_adi\"] == liste[\"kategori_adi\"][idx])]\n",
    "    kontrol = len(tmp[\"marka_adi\"].unique())\n",
    "    if kontrol == 1:\n",
    "        pass\n",
    "    else:\n",
    "        tmp = tmp.groupby([\"tarih\", \"kanal\", \"grup_adi\", \"ana_kategori_adi\", \"kategori_adi\", \"indirim_yuzdesi\", \"aktivite_tipi\"]).sum().reset_index()\n",
    "        tmp[\"marka_adi\"] = \"TÜM MARKALAR\"\n",
    "        tmp[\"en_guncel_kod\"] = \"TÜM SKULAR\"\n",
    "        tmp[\"urun_adi\"] = \"TÜM ÜRÜNLER\"\n",
    "        tmp[\"tahmin_edilme_yontemi\"] = \"N/A\"\n",
    "        tmp[\"datanin_etiketlendigi_algorit\"] = \"N/A\"\n",
    "        tmp[\"aktivite_etkisi\"] = \"Var\"\n",
    "        kategori_detail.append(tmp)\n",
    "kategori_detail = pd.concat(kategori_detail, ignore_index=True)"
   ]
  },
  {
   "cell_type": "code",
   "execution_count": 35,
   "metadata": {},
   "outputs": [],
   "source": [
    "kategori_detail[\"from\"] = \"kategori_detail\""
   ]
  },
  {
   "cell_type": "code",
   "execution_count": 36,
   "metadata": {},
   "outputs": [],
   "source": [
    "liste = final_data_with_june_sadece_predictionlar3.drop_duplicates(subset=[\"kanal\", \"grup_adi\", \"ana_kategori_adi\", \n",
    "                                                                           \"kategori_adi\", \"marka_adi\"])[[\"kanal\", \"grup_adi\", \"ana_kategori_adi\", \"kategori_adi\", \"marka_adi\"]].reset_index(drop=True)\n",
    "marka_detail = []\n",
    "for idx in liste.index:\n",
    "    tmp = final_data_with_june_sadece_predictionlar3[(final_data_with_june_sadece_predictionlar3[\"kanal\"] == liste[\"kanal\"][idx]) & \n",
    "                                                     (final_data_with_june_sadece_predictionlar3[\"grup_adi\"] == liste[\"grup_adi\"][idx]) & \n",
    "                                                     (final_data_with_june_sadece_predictionlar3[\"ana_kategori_adi\"] == liste[\"ana_kategori_adi\"][idx]) & \n",
    "                                                     (final_data_with_june_sadece_predictionlar3[\"kategori_adi\"] == liste[\"kategori_adi\"][idx]) & \n",
    "                                                     (final_data_with_june_sadece_predictionlar3[\"marka_adi\"] == liste[\"marka_adi\"][idx])]\n",
    "    kontrol = len(tmp[\"en_guncel_kod\"].unique())\n",
    "    if kontrol == 1:\n",
    "        pass\n",
    "    else:\n",
    "        tmp = tmp.groupby([\"tarih\", \"kanal\", \"grup_adi\", \"ana_kategori_adi\", \"kategori_adi\", \"marka_adi\", \"indirim_yuzdesi\", \"aktivite_tipi\"]).sum().reset_index()\n",
    "        tmp[\"en_guncel_kod\"] = \"TÜM SKULAR\"\n",
    "        tmp[\"urun_adi\"] = \"TÜM ÜRÜNLER\"\n",
    "        tmp[\"tahmin_edilme_yontemi\"] = \"N/A\"\n",
    "        tmp[\"datanin_etiketlendigi_algorit\"] = \"N/A\"\n",
    "        tmp[\"aktivite_etkisi\"] = \"Var\"\n",
    "        marka_detail.append(tmp)\n",
    "marka_detail = pd.concat(marka_detail, ignore_index=True)"
   ]
  },
  {
   "cell_type": "code",
   "execution_count": 37,
   "metadata": {},
   "outputs": [],
   "source": [
    "marka_detail[\"from\"] = \"marka_detail\""
   ]
  },
  {
   "cell_type": "code",
   "execution_count": 38,
   "metadata": {},
   "outputs": [],
   "source": [
    "tum_gruplar_ana_kategori = final_data_with_june_sadece_predictionlar3.groupby([\"tarih\", \"kanal\", \"ana_kategori_adi\", \"indirim_yuzdesi\", \"aktivite_tipi\"]).sum().reset_index()\n",
    "tum_gruplar_ana_kategori[\"grup_adi\"] = \"TÜM GRUPLAR\"\n",
    "tum_gruplar_ana_kategori[\"kategori_adi\"] = \"TÜM KATEGORİLER\"\n",
    "tum_gruplar_ana_kategori[\"marka_adi\"] = \"TÜM MARKALAR\"\n",
    "tum_gruplar_ana_kategori[\"en_guncel_kod\"] = \"TÜM SKULAR\"\n",
    "tum_gruplar_ana_kategori[\"urun_adi\"] = \"TÜM ÜRÜNLER\"\n",
    "tum_gruplar_ana_kategori[\"tahmin_edilme_yontemi\"] = \"N/A\"\n",
    "tum_gruplar_ana_kategori[\"datanin_etiketlendigi_algorit\"] = \"N/A\"\n",
    "tum_gruplar_ana_kategori[\"aktivite_etkisi\"] = \"Var\""
   ]
  },
  {
   "cell_type": "code",
   "execution_count": 39,
   "metadata": {},
   "outputs": [],
   "source": [
    "tum_gruplar_ana_kategori[\"from\"] = \"tum_gruplar_ana_kategori\""
   ]
  },
  {
   "cell_type": "code",
   "execution_count": 40,
   "metadata": {},
   "outputs": [],
   "source": [
    "tum_gruplar_kategori = final_data_with_june_sadece_predictionlar3.groupby([\"tarih\", \"kanal\", \"ana_kategori_adi\", \"kategori_adi\", \"indirim_yuzdesi\", \"aktivite_tipi\"]).sum().reset_index()\n",
    "tum_gruplar_kategori[\"grup_adi\"] = \"TÜM GRUPLAR\"\n",
    "tum_gruplar_kategori[\"marka_adi\"] = \"TÜM MARKALAR\"\n",
    "tum_gruplar_kategori[\"en_guncel_kod\"] = \"TÜM SKULAR\"\n",
    "tum_gruplar_kategori[\"urun_adi\"] = \"TÜM ÜRÜNLER\"\n",
    "tum_gruplar_kategori[\"tahmin_edilme_yontemi\"] = \"N/A\"\n",
    "tum_gruplar_kategori[\"datanin_etiketlendigi_algorit\"] = \"N/A\"\n",
    "tum_gruplar_kategori[\"aktivite_etkisi\"] = \"Var\""
   ]
  },
  {
   "cell_type": "code",
   "execution_count": 41,
   "metadata": {},
   "outputs": [],
   "source": [
    "tum_gruplar_kategori[\"from\"] = \"tum_gruplar_kategori\""
   ]
  },
  {
   "cell_type": "code",
   "execution_count": 42,
   "metadata": {},
   "outputs": [],
   "source": [
    "liste = final_data_with_june_sadece_predictionlar3.drop_duplicates(subset=[\"kanal\", \"ana_kategori_adi\", \n",
    "                                                                           \"kategori_adi\", \"marka_adi\"])[[\"kanal\", \"ana_kategori_adi\", \n",
    "                                                                                                          \"kategori_adi\", \"marka_adi\"]].reset_index(drop=True)"
   ]
  },
  {
   "cell_type": "code",
   "execution_count": 43,
   "metadata": {},
   "outputs": [],
   "source": [
    "tum_gruplar_marka = []\n",
    "for idx in liste.index:\n",
    "    tmp = final_data_with_june_sadece_predictionlar3[(final_data_with_june_sadece_predictionlar3[\"kanal\"] == liste[\"kanal\"][idx]) & \n",
    "                                                     (final_data_with_june_sadece_predictionlar3[\"ana_kategori_adi\"] == liste[\"ana_kategori_adi\"][idx]) & \n",
    "                                                     (final_data_with_june_sadece_predictionlar3[\"kategori_adi\"] == liste[\"kategori_adi\"][idx]) & \n",
    "                                                     (final_data_with_june_sadece_predictionlar3[\"marka_adi\"] == liste[\"marka_adi\"][idx])]\n",
    "    kontrol = len(tmp[\"en_guncel_kod\"].unique())\n",
    "    if kontrol == 1:\n",
    "        pass\n",
    "    else:\n",
    "        tmp = tmp.groupby([\"tarih\", \"kanal\", \"ana_kategori_adi\", \"kategori_adi\", \"marka_adi\", \"indirim_yuzdesi\", \"aktivite_tipi\"]).sum().reset_index()\n",
    "        tmp[\"grup_adi\"] = \"TÜM GRUPLAR\"\n",
    "        tmp[\"en_guncel_kod\"] = \"TÜM SKULAR\"\n",
    "        tmp[\"urun_adi\"] = \"TÜM ÜRÜNLER\"\n",
    "        tmp[\"tahmin_edilme_yontemi\"] = \"N/A\"\n",
    "        tmp[\"datanin_etiketlendigi_algorit\"] = \"N/A\"\n",
    "        tmp[\"aktivite_etkisi\"] = \"Var\"\n",
    "        tum_gruplar_marka.append(tmp)\n",
    "tum_gruplar_marka = pd.concat(tum_gruplar_marka, ignore_index=True)"
   ]
  },
  {
   "cell_type": "code",
   "execution_count": 44,
   "metadata": {},
   "outputs": [],
   "source": [
    "tum_gruplar_marka[\"from\"] = \"tum_gruplar_marka\""
   ]
  },
  {
   "cell_type": "code",
   "execution_count": 45,
   "metadata": {},
   "outputs": [],
   "source": [
    "tum_gruplar_en_guncel_kod = final_data_with_june_sadece_predictionlar3.groupby([\"tarih\", \"kanal\", \"ana_kategori_adi\", \"kategori_adi\", \"marka_adi\", \"en_guncel_kod\", \"urun_adi\", \"indirim_yuzdesi\", \"aktivite_tipi\"]).sum().reset_index()\n",
    "tum_gruplar_en_guncel_kod[\"grup_adi\"] = \"TÜM GRUPLAR\"\n",
    "tum_gruplar_en_guncel_kod[\"tahmin_edilme_yontemi\"] = \"N/A\"\n",
    "tum_gruplar_en_guncel_kod[\"datanin_etiketlendigi_algorit\"] = \"N/A\"\n",
    "tum_gruplar_en_guncel_kod[\"aktivite_etkisi\"] = \"Var\""
   ]
  },
  {
   "cell_type": "code",
   "execution_count": 46,
   "metadata": {},
   "outputs": [],
   "source": [
    "tum_gruplar_en_guncel_kod[\"from\"] = \"tum_gruplar_en_guncel_kod\""
   ]
  },
  {
   "cell_type": "code",
   "execution_count": 47,
   "metadata": {},
   "outputs": [],
   "source": [
    "kanal_all = kanal_all[final_data_with_june_sadece_predictionlar3.columns.to_list()]\n",
    "grup_all = grup_all[final_data_with_june_sadece_predictionlar3.columns.to_list()]\n",
    "ana_kategori_all = ana_kategori_all[final_data_with_june_sadece_predictionlar3.columns.to_list()]\n",
    "kategori_all = kategori_all[final_data_with_june_sadece_predictionlar3.columns.to_list()]\n",
    "marka_all = marka_all[final_data_with_june_sadece_predictionlar3.columns.to_list()]\n",
    "grup_detail = grup_detail[final_data_with_june_sadece_predictionlar3.columns.to_list()]\n",
    "ana_kategori_detail = ana_kategori_detail[final_data_with_june_sadece_predictionlar3.columns.to_list()]\n",
    "kategori_detail = kategori_detail[final_data_with_june_sadece_predictionlar3.columns.to_list()]\n",
    "marka_detail = marka_detail[final_data_with_june_sadece_predictionlar3.columns.to_list()]\n",
    "tum_gruplar_ana_kategori = tum_gruplar_ana_kategori[final_data_with_june_sadece_predictionlar3.columns.to_list()]\n",
    "tum_gruplar_kategori = tum_gruplar_kategori[final_data_with_june_sadece_predictionlar3.columns.to_list()]\n",
    "tum_gruplar_marka = tum_gruplar_marka[final_data_with_june_sadece_predictionlar3.columns.to_list()]\n",
    "tum_gruplar_en_guncel_kod = tum_gruplar_en_guncel_kod[final_data_with_june_sadece_predictionlar3.columns.to_list()]"
   ]
  },
  {
   "cell_type": "code",
   "execution_count": 48,
   "metadata": {},
   "outputs": [],
   "source": [
    "final_data_with_june_sadece_predictionlar4 = pd.concat([final_data_with_june_sadece_predictionlar3,\n",
    "                                                        kanal_all,\n",
    "                                                        grup_all,\n",
    "                                                        ana_kategori_all,\n",
    "                                                        kategori_all,\n",
    "                                                        marka_all,\n",
    "                                                        grup_detail,\n",
    "                                                        ana_kategori_detail,\n",
    "                                                        kategori_detail,\n",
    "                                                        marka_detail,\n",
    "                                                        tum_gruplar_ana_kategori,\n",
    "                                                        tum_gruplar_kategori,\n",
    "                                                        tum_gruplar_marka,\n",
    "                                                        tum_gruplar_en_guncel_kod], axis=0, ignore_index=True)"
   ]
  },
  {
   "cell_type": "code",
   "execution_count": 49,
   "metadata": {},
   "outputs": [],
   "source": [
    "final_data_with_june_sadece_predictionlar4.drop_duplicates(subset=final_data_with_june_sadece_predictionlar4.columns.to_list(), \n",
    "                                                           ignore_index=True, \n",
    "                                                           inplace=True)"
   ]
  },
  {
   "cell_type": "code",
   "execution_count": 51,
   "metadata": {},
   "outputs": [],
   "source": [
    "historic_data = pd.read_csv(\"../data/_historic_data_for_graph.csv\")"
   ]
  },
  {
   "cell_type": "code",
   "execution_count": 52,
   "metadata": {},
   "outputs": [],
   "source": [
    "final_data_with_june_sadece_predictionlar4.columns = [i[:-2] if len(i) > 30 else i for i in final_data_with_june_sadece_predictionlar4.columns]\n",
    "final_data_with_june_sadece_predictionlar4[\"en_guncel_kod\"] = final_data_with_june_sadece_predictionlar4[\"en_guncel_kod\"].apply(lambda x: \"TÜM SKULAR\" if x == \"TÜM SKU'LAR\" else x)"
   ]
  },
  {
   "cell_type": "code",
   "execution_count": 53,
   "metadata": {},
   "outputs": [],
   "source": [
    "final_data_with_june_sadece_predictionlar4.drop(\"aktivite_etkisi\", axis=1, inplace=True)\n",
    "grup_and_sku_list = final_data_with_june_sadece_predictionlar4.drop_duplicates(subset=[\"grup_adi\", \"en_guncel_kod\"], ignore_index=True)[[\"grup_adi\", \"en_guncel_kod\"]]\n",
    "final_data_with_june_sadece_predictionlar4[\"aktivite_etkisi\"] = np.nan\n",
    "for idx in grup_and_sku_list.index:\n",
    "    akt = historic_data[(historic_data[\"Grup Adı\"] == grup_and_sku_list[\"grup_adi\"][idx]) & \n",
    "                        (historic_data[\"En Güncel Kod\"] == grup_and_sku_list[\"en_guncel_kod\"][idx])][\"Aktivite Tipi\"].unique()\n",
    "    ind = historic_data[(historic_data[\"Grup Adı\"] == grup_and_sku_list[\"grup_adi\"][idx]) & \n",
    "                        (historic_data[\"En Güncel Kod\"] == grup_and_sku_list[\"en_guncel_kod\"][idx])][\"İndirim Yüzdesi\"].unique()\n",
    "    indexes = final_data_with_june_sadece_predictionlar4[(final_data_with_june_sadece_predictionlar4[\"grup_adi\"] == grup_and_sku_list[\"grup_adi\"][idx]) & \n",
    "                                                         (final_data_with_june_sadece_predictionlar4[\"en_guncel_kod\"] == grup_and_sku_list[\"en_guncel_kod\"][idx])].index\n",
    "    if (len(akt) == 1 and len(ind) == 1) and (akt[0] == 0 and ind[0] == -1):\n",
    "        final_data_with_june_sadece_predictionlar4.loc[list(indexes), \"aktivite_etkisi\"] = \"Yok\"\n",
    "    else:\n",
    "        final_data_with_june_sadece_predictionlar4.loc[list(indexes), \"aktivite_etkisi\"] = \"Var\"\n",
    "final_data_with_june_sadece_predictionlar4.aktivite_etkisi.fillna(\"Var\", inplace=True)"
   ]
  },
  {
   "cell_type": "code",
   "execution_count": 54,
   "metadata": {},
   "outputs": [],
   "source": [
    "final_data_with_june_sadece_predictionlar4[\"aktivite_tipi\"] = final_data_with_june_sadece_predictionlar4[\"aktivite_tipi\"].apply(lambda x: \"In-out\" if x==\"In&Out\" else x)"
   ]
  },
  {
   "cell_type": "code",
   "execution_count": 55,
   "metadata": {},
   "outputs": [],
   "source": [
    "try:\n",
    "    final_data_with_june_sadece_predictionlar4.drop(columns=\"from\", axis=1, inplace=True)\n",
    "except:\n",
    "    pass"
   ]
  },
  {
   "cell_type": "code",
   "execution_count": 56,
   "metadata": {},
   "outputs": [],
   "source": [
    "final_data_with_june_sadece_predictionlar4.drop_duplicates(ignore_index=True, inplace=True)"
   ]
  },
  {
   "cell_type": "code",
   "execution_count": 57,
   "metadata": {},
   "outputs": [
    {
     "name": "stdout",
     "output_type": "stream",
     "text": [
      "Accessed!\n"
     ]
    }
   ],
   "source": [
    "access_ = True\n",
    "while access_:\n",
    "    try:\n",
    "        conn = swat.CAS('yhtrcl-sasccnt1.yildiz.domain', 5570, username='tunahan.aktas', password='34m153294T...')\n",
    "        access_ = False\n",
    "        print(\"Accessed!\")\n",
    "    except:\n",
    "        print(\"Got error. Trying to reconnect...\")\n",
    "        continue"
   ]
  },
  {
   "cell_type": "code",
   "execution_count": 58,
   "metadata": {},
   "outputs": [
    {
     "name": "stdout",
     "output_type": "stream",
     "text": [
      "WARNING: License for feature 'TKCAS SAS Cloud Analytic Services Server' has expired and will stop working in 4 days. Contact your installation representative to obtain a renewal.\n"
     ]
    },
    {
     "data": {
      "text/html": [
       "<div class=\"cas-output-area\"></div>\n",
       "<p class=\"cas-results-performance\"><small><span class=\"cas-elapsed\">elapsed 0.0378s</span> &#183; <span class=\"cas-user\">user 0.0104s</span> &#183; <span class=\"cas-sys\">sys 0.00689s</span> &#183; <span class=\"cas-memory\">mem 0.829MB</span></small></p>"
      ],
      "text/plain": [
       "+ Elapsed: 0.0378s, user: 0.0104s, sys: 0.00689s, mem: 0.829mb"
      ]
     },
     "execution_count": 58,
     "metadata": {},
     "output_type": "execute_result"
    }
   ],
   "source": [
    "ds_table = conn.CASTable(\"DEMAND_SENSING_RESULTS\", caslib='DSENS_P', replace=True)\n",
    "ds_table.table.dropTable(quiet=True)"
   ]
  },
  {
   "cell_type": "code",
   "execution_count": 59,
   "metadata": {},
   "outputs": [
    {
     "name": "stdout",
     "output_type": "stream",
     "text": [
      "WARNING: License for feature 'TKCAS SAS Cloud Analytic Services Server' has expired and will stop working in 4 days. Contact your installation representative to obtain a renewal.\n",
      "NOTE: Cloud Analytic Services made the uploaded file available as table DEMAND_SENSING_RESULTS in caslib DSENS_P.\n",
      "NOTE: The table DEMAND_SENSING_RESULTS has been created in caslib DSENS_P from binary data uploaded to Cloud Analytic Services.\n"
     ]
    },
    {
     "data": {
      "text/html": [
       "<div class=\"cas-results-key\"><b>&#167; caslib</b></div>\n",
       "<div class=\"cas-results-body\">\n",
       "<div>DSENS_P</div>\n",
       "</div>\n",
       "<div class=\"cas-results-key\"><hr/><b>&#167; tableName</b></div>\n",
       "<div class=\"cas-results-body\">\n",
       "<div>DEMAND_SENSING_RESULTS</div>\n",
       "</div>\n",
       "<div class=\"cas-results-key\"><hr/><b>&#167; casTable</b></div>\n",
       "<div class=\"cas-results-body\">\n",
       "<div>CASTable('DEMAND_SENSING_RESULTS', caslib='DSENS_P')</div>\n",
       "</div>\n",
       "<div class=\"cas-output-area\"></div>\n",
       "<p class=\"cas-results-performance\"><small><span class=\"cas-elapsed\">elapsed 23.2s</span> &#183; <span class=\"cas-user\">user 2.98s</span> &#183; <span class=\"cas-sys\">sys 1.91s</span> &#183; <span class=\"cas-memory\">mem 163MB</span></small></p>"
      ],
      "text/plain": [
       "[caslib]\n",
       "\n",
       " 'DSENS_P'\n",
       "\n",
       "[tableName]\n",
       "\n",
       " 'DEMAND_SENSING_RESULTS'\n",
       "\n",
       "[casTable]\n",
       "\n",
       " CASTable('DEMAND_SENSING_RESULTS', caslib='DSENS_P')\n",
       "\n",
       "+ Elapsed: 23.2s, user: 2.98s, sys: 1.91s, mem: 163mb"
      ]
     },
     "execution_count": 59,
     "metadata": {},
     "output_type": "execute_result"
    }
   ],
   "source": [
    "conn.upload(data=final_data_with_june_sadece_predictionlar4, \n",
    "            casout={'caslib':'DSENS_P', 'name':\"DEMAND_SENSING_RESULTS\", 'promote':True})"
   ]
  }
 ],
 "metadata": {
  "kernelspec": {
   "display_name": "Python 3",
   "language": "python",
   "name": "python3"
  },
  "language_info": {
   "codemirror_mode": {
    "name": "ipython",
    "version": 3
   },
   "file_extension": ".py",
   "mimetype": "text/x-python",
   "name": "python",
   "nbconvert_exporter": "python",
   "pygments_lexer": "ipython3",
   "version": "3.8.5"
  }
 },
 "nbformat": 4,
 "nbformat_minor": 4
}
