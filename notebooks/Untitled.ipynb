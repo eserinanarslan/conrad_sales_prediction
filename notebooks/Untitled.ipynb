{
 "cells": [
  {
   "cell_type": "code",
   "execution_count": 2,
   "id": "894a4dbf-be7f-468c-b490-6314359a962d",
   "metadata": {},
   "outputs": [],
   "source": [
    "import pandas as pd"
   ]
  },
  {
   "cell_type": "code",
   "execution_count": 5,
   "id": "944e542e-8565-4f23-9c37-f6d556a433ea",
   "metadata": {},
   "outputs": [
    {
     "name": "stdout",
     "output_type": "stream",
     "text": [
      "0    1\n",
      "1    2\n",
      "2    3\n",
      "3    4\n",
      "dtype: int64\n"
     ]
    }
   ],
   "source": [
    "s = pd.Series([1, 2, 3, 4])\n",
    "print(s)"
   ]
  },
  {
   "cell_type": "code",
   "execution_count": 9,
   "id": "ffc2d897-07ae-4bf7-83f4-4c93c9217639",
   "metadata": {},
   "outputs": [
    {
     "data": {
      "text/plain": [
       "(3.55, 3.7, 3.7600000000000002, 3.8499999999999996, 3.9699999999999998)"
      ]
     },
     "execution_count": 9,
     "metadata": {},
     "output_type": "execute_result"
    }
   ],
   "source": [
    "s.quantile(0.85), s.quantile(0.90), s.quantile(0.92), s.quantile(0.95), s.quantile(0.99)\n",
    "\n"
   ]
  },
  {
   "cell_type": "code",
   "execution_count": null,
   "id": "e69b9e79-06b2-4872-acea-a066971768e7",
   "metadata": {},
   "outputs": [],
   "source": []
  },
  {
   "cell_type": "code",
   "execution_count": null,
   "id": "eb5ec112-33c5-43cf-bbc9-af2fc85dc151",
   "metadata": {},
   "outputs": [],
   "source": []
  },
  {
   "cell_type": "code",
   "execution_count": 10,
   "id": "c0f5d3dd-da5d-4395-baf4-4efa385e6ebb",
   "metadata": {},
   "outputs": [],
   "source": [
    "data = {\n",
    "    'a': [0.9, 1.0, 1.1, 1.2],\n",
    "    'b': [0.8, 0.9, 1.0, 1.1],\n",
    "    'c': [4.9, 5.0, 5.1, 5.2]\n",
    "}"
   ]
  },
  {
   "cell_type": "code",
   "execution_count": 12,
   "id": "da387d47-2367-475a-a646-7f5e7dda6d0f",
   "metadata": {},
   "outputs": [
    {
     "name": "stdout",
     "output_type": "stream",
     "text": [
      "a b 0.3153335962012298\n",
      "a c 9.458950025885854e-09\n",
      "b c 8.159638048425986e-09\n"
     ]
    }
   ],
   "source": [
    "from itertools import combinations\n",
    "from scipy.stats import ttest_ind\n",
    "for list1, list2 in combinations(data.keys(), 2):\n",
    "    t, p = ttest_ind(data[list1], data[list2])\n",
    "    print(list1, list2, p)"
   ]
  },
  {
   "cell_type": "code",
   "execution_count": null,
   "id": "71146bbe-17ac-41a6-be1f-80b90dcd1994",
   "metadata": {},
   "outputs": [],
   "source": []
  }
 ],
 "metadata": {
  "kernelspec": {
   "display_name": "Python 3 (ipykernel)",
   "language": "python",
   "name": "python3"
  },
  "language_info": {
   "codemirror_mode": {
    "name": "ipython",
    "version": 3
   },
   "file_extension": ".py",
   "mimetype": "text/x-python",
   "name": "python",
   "nbconvert_exporter": "python",
   "pygments_lexer": "ipython3",
   "version": "3.9.12"
  }
 },
 "nbformat": 4,
 "nbformat_minor": 5
}
